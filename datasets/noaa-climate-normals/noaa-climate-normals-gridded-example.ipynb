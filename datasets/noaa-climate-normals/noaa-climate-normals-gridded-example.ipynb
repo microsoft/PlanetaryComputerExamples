{
 "cells": [
  {
   "cell_type": "markdown",
   "id": "4e08376d-0744-470a-98da-471424cc1f60",
   "metadata": {},
   "source": [
    "## Accessing NOAA U.S. Gridded Climate Normals with the Planetary Computer STAC API\n",
    "\n",
    "The [NOAA U.S. Gridded Climate Normals](https://www.ncei.noaa.gov/products/land-based-station/us-climate-normals#tab-1027) provide gridded temperature and precipitation datasets across the contiguous United States (CONUS) at approximately 5km resolution. The gridded normals include annual, seasonal, monthly and daily long-term averages computed from NOAA's NClimGrid dataset. Normals act both as a ruler to compare current weather and as a predictor of conditions in the near future.\n",
    "\n",
    "Annual, seasonal, and monthly gridded normals are provided for three time-periods:\n",
    "- 100-year (1901–2000)\n",
    "- 30-year (1991–2020)\n",
    "- 15-year (2006–2020)\n",
    "\n",
    "Daily gridded normals are provided for two time-periods:\n",
    "- 30-year (1991–2020)\n",
    "- 15-year (2006–2020)\n",
    "\n",
    "Documentation for this dataset is available at the [Planetary Computer Data Catalog](https://planetarycomputer.microsoft.com/dataset/noaa-climate-normals-gridded)."
   ]
  },
  {
   "cell_type": "markdown",
   "id": "7d45d525-eca8-40ec-95d2-6bf3f2d7d396",
   "metadata": {},
   "source": [
    "### Data Access\n",
    "This notebook works with or without an API key, but you will be given more permissive access to the data with an API key. The [Planetary Computer Hub](https://planetarycomputer.microsoft.com/compute) sets the environment variable \"PC_SDK_SUBSCRIPTION_KEY\" when your server is started. The API key may be manually set via the following code:\n",
    "\n",
    "```python\n",
    "pc.settings.set_subscription_key(<YOUR API Key>)\n",
    "```"
   ]
  },
  {
   "cell_type": "markdown",
   "id": "527d242e-32b4-49fb-a513-a74ee38495da",
   "metadata": {
    "tags": []
   },
   "source": [
    "The datasets hosted by the Planetary Computer are available in [Azure Blob Storage](https://docs.microsoft.com/en-us/azure/storage/blobs/). We'll use [pystac-client](https://pystac-client.readthedocs.io/) to search the Planetary Computer's [STAC API](https://planetarycomputer.microsoft.com/api/stac/v1/docs) for the subset of the data that we care about, and then we'll load the data directly from Azure Blob Storage. We'll specify a `modifier` so that we can access the data stored in the Planetary Computer's private Blob Storage Containers. See [Reading from the STAC API](https://planetarycomputer.microsoft.com/docs/quickstarts/reading-stac/) and [Using tokens for data access](https://planetarycomputer.microsoft.com/docs/concepts/sas/) for more."
   ]
  },
  {
   "cell_type": "code",
   "execution_count": null,
   "id": "914344e5",
   "metadata": {},
   "outputs": [],
   "source": [
    "import planetary_computer\n",
    "import pystac_client\n",
    "\n",
    "# Open the Planetary Computer STAC API\n",
    "catalog = pystac_client.Client.open(\n",
    "    \"https://pct-apis-staging.westeurope.cloudapp.azure.com/stac/\",\n",
    "    modifier=planetary_computer.sign_inplace,\n",
    ")\n",
    "collection = catalog.get_collection(\"noaa-climate-normals-gridded\")\n",
    "collection"
   ]
  },
  {
   "cell_type": "code",
   "execution_count": null,
   "id": "63ddd01e-2ae3-4b5d-af8f-cdcbb56f0423",
   "metadata": {},
   "outputs": [],
   "source": [
    "# Search the catalog and collection for desire\n",
    "search = catalog.search(\n",
    "    collections=collection,\n",
    "    query={\n",
    "        \"noaa_climate_normals:period\": {\n",
    "            \"eq\": \"1991-2020\"\n",
    "        },  # Available periods = \"1901-2000\", \"1991-2020\", and \"2006-2020\"\n",
    "        \"noaa_climate_normals:frequency\": {\n",
    "            \"eq\": \"monthly\"\n",
    "        },  # Available frequencies = \"seasonal\", \"annual\", \"monthly\", and \"daily\"\n",
    "        \"noaa_climate_normals:time_index\": {\n",
    "            \"eq\": \"4\"\n",
    "        },  # Available time indices = seasonal (1-4), monthly (1-12), and daily (1-365)\n",
    "    },\n",
    ")\n",
    "items = list(search.get_items())\n",
    "items"
   ]
  },
  {
   "cell_type": "markdown",
   "id": "69f3564c-bd52-452d-875d-34d9309a64c9",
   "metadata": {},
   "source": [
    "### Available Assets & Metadata"
   ]
  },
  {
   "cell_type": "markdown",
   "id": "cfd0f626-55bb-4bcf-a2b6-d276df55a0d4",
   "metadata": {},
   "source": [
    "Let's display the available [assets](https://github.com/radiantearth/stac-spec/blob/master/item-spec/item-spec.md#asset-object) and metadata for NOAA U.S. Gridded Climate Normals. "
   ]
  },
  {
   "cell_type": "code",
   "execution_count": null,
   "id": "2cc1ebf2-1188-42db-90b5-17026d7770b7",
   "metadata": {},
   "outputs": [],
   "source": [
    "import rich.table\n",
    "\n",
    "# Assets\n",
    "t_assets = rich.table.Table(\"Key\", \"Value\")\n",
    "for key, asset in items[0].assets.items():\n",
    "    t_assets.add_row(key, asset.title)\n",
    "t_assets"
   ]
  },
  {
   "cell_type": "code",
   "execution_count": null,
   "id": "1c6ae738-7e4d-4718-9c67-22783557bff6",
   "metadata": {},
   "outputs": [],
   "source": [
    "# Metadata\n",
    "t_metadata = rich.table.Table(\"Key\", \"Value\")\n",
    "for k, v in sorted(items[0].properties.items()):\n",
    "    t_metadata.add_row(k, str(v))\n",
    "t_metadata"
   ]
  },
  {
   "cell_type": "markdown",
   "id": "fcd49bc9-32ac-4b10-83f8-e9fbd2a870ac",
   "metadata": {},
   "source": [
    "### Loading the gridded data\n",
    "Now let's load STAC items into an xarray dataset using [odc-stac](https://github.com/opendatacube/odc-stac)."
   ]
  },
  {
   "cell_type": "code",
   "execution_count": null,
   "id": "a8fc2966-2787-4f20-bb2d-e47d4829cec5",
   "metadata": {
    "tags": []
   },
   "outputs": [],
   "source": [
    "import odc.stac\n",
    "\n",
    "ds = odc.stac.load(items)\n",
    "ds"
   ]
  },
  {
   "cell_type": "markdown",
   "id": "f76a3b43-7827-4e8d-9305-6af33794bbce",
   "metadata": {},
   "source": [
    "### Displaying the gridded data"
   ]
  },
  {
   "cell_type": "markdown",
   "id": "814dda76-d53f-4e32-a485-2cfe7ee94147",
   "metadata": {},
   "source": [
    "Let's display the NOAA U.S. Gridded Climate Normals."
   ]
  },
  {
   "cell_type": "code",
   "execution_count": null,
   "id": "d79a73a7-5a1e-4f6b-83ea-4a41103ad8c0",
   "metadata": {},
   "outputs": [],
   "source": [
    "import cartopy\n",
    "import cartopy.crs as ccrs\n",
    "import cartopy.feature as cfeature\n",
    "import matplotlib.pyplot as plt\n",
    "\n",
    "fig = plt.figure(figsize=(12, 6))\n",
    "ax = plt.axes(projection=ccrs.Mercator())\n",
    "\n",
    "prcp = ds.prcp_norm.sel(method=\"nearest\")\n",
    "\n",
    "prcp.plot(\n",
    "    ax=ax,\n",
    "    cmap=\"YlGnBu\",\n",
    "    transform=ccrs.PlateCarree(),\n",
    ")\n",
    "\n",
    "ax.add_feature(cartopy.feature.STATES)\n",
    "ax.add_feature(cfeature.COASTLINE, linewidth=1)\n",
    "ax.add_feature(cfeature.OCEAN, zorder=0, linewidth=0, facecolor=\"#333333\")\n",
    "ax.add_feature(cfeature.LAND, zorder=0, linewidth=0, facecolor=\"#5A5A5A\")\n",
    "ax.set_title(\n",
    "    \"NOAA U.S. Gridded Climate Normals \\n 1991-2020 April Precipitation Normal (inches)\",\n",
    "    fontweight=\"bold\",\n",
    "    fontsize=\"10\",\n",
    ")"
   ]
  }
 ],
 "metadata": {
  "kernelspec": {
   "display_name": "PlanetaryComputerExamples",
   "language": "python",
   "name": "python3"
  },
  "language_info": {
   "codemirror_mode": {
    "name": "ipython",
    "version": 3
   },
   "file_extension": ".py",
   "mimetype": "text/x-python",
   "name": "python",
   "nbconvert_exporter": "python",
   "pygments_lexer": "ipython3",
   "version": "3.10.6"
  },
  "vscode": {
   "interpreter": {
    "hash": "e948087a60c74a7365deb7ebdb8258aef9e35befc5ff622dcc77bee1eb899c9c"
   }
  },
  "widgets": {
   "application/vnd.jupyter.widget-state+json": {
    "state": {},
    "version_major": 2,
    "version_minor": 0
   }
  }
 },
 "nbformat": 4,
 "nbformat_minor": 5
}
