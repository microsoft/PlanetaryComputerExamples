{
 "cells": [
  {
   "cell_type": "markdown",
   "id": "d2583da9-3f1e-40e6-b81d-700f26e89daa",
   "metadata": {
    "tags": []
   },
   "source": [
    "## Accessing NOAA U.S. Tabular Climate Normals with the Planetary Computer STAC API\n",
    "\n",
    "The [NOAA U.S. Tabular Climate Normals](https://www.ncei.noaa.gov/products/land-based-station/us-climate-normals) provide information about typical climate conditions for thousands of weather station locations across the United States. Normals act both as a ruler to compare current weather and as a predictor of conditions in the near future. The official normals are calculated for a uniform 30 year period, and consist of annual/seasonal, monthly, daily, and hourly averages and statistics of temperature, precipitation, and other climatological variables for each weather station.\n",
    "\n",
    "This Collection contains tabular weather variable data at weather station locations in GeoParquet format. Data are provided for annual/seasonal, monthly, daily, and hourly frequencies for the following time periods:\n",
    "\n",
    "- 30-year Conventional (1991–2020)\n",
    "- 30-year Legacy (1981–2010)\n",
    "- 15-year Supplemental (2006–2020)\n",
    "\n",
    "Documentation for this dataset is available at the [Planetary Computer Data Catalog](https://planetarycomputer.microsoft.com/dataset/noaa-climate-normals-tabular).\n"
   ]
  },
  {
   "cell_type": "markdown",
   "id": "6c7da081-b792-45f2-a428-ea8f9ecbda08",
   "metadata": {},
   "source": [
    "### Data Access\n",
    "This notebook works with or without an API key, but you will be given more permissive access to the data with an API key. The [Planetary Computer Hub](https://planetarycomputer.microsoft.com/compute) sets the environment variable \"PC_SDK_SUBSCRIPTION_KEY\" when your server is started. The API key may be manually set via the following code:\n",
    "\n",
    "```python\n",
    "pc.settings.set_subscription_key(<YOUR API Key>)\n",
    "```"
   ]
  },
  {
   "cell_type": "markdown",
   "id": "77b43a07-4f7e-49fc-8bfb-dc2e236e0264",
   "metadata": {},
   "source": [
    "The datasets hosted by the Planetary Computer are available from [Azure Blob Storage](https://docs.microsoft.com/en-us/azure/storage/blobs/). We'll use [pystac-client](https://pystac-client.readthedocs.io/) to search the Planetary Computer's [STAC API](https://planetarycomputer.microsoft.com/api/stac/v1/docs) for the subset of the data that we care about, and then we'll load the data directly from Azure Blob Storage. We'll specify a `modifier` so that we can access the data stored in the Planetary Computer's private Blob Storage Containers. See [Reading from the STAC API](https://planetarycomputer.microsoft.com/docs/quickstarts/reading-stac/) and [Using tokens for data access](https://planetarycomputer.microsoft.com/docs/concepts/sas/) for more. "
   ]
  },
  {
   "cell_type": "code",
   "execution_count": null,
   "id": "6589465d-240b-4eb6-98f6-fa677a886b85",
   "metadata": {},
   "outputs": [],
   "source": [
    "import planetary_computer\n",
    "import pystac_client\n",
    "\n",
    "# Open the Planetary Computer STAC API\n",
    "catalog = pystac_client.Client.open(\n",
    "    \"https://pct-apis-staging.westeurope.cloudapp.azure.com/stac/\",\n",
    "    modifier=planetary_computer.sign_inplace,\n",
    ")\n",
    "\n",
    "collection = catalog.get_collection(\"noaa-climate-normals-tabular\")\n",
    "collection"
   ]
  },
  {
   "cell_type": "code",
   "execution_count": null,
   "id": "3f27d35f-6526-45ff-bad1-9b83e706e604",
   "metadata": {},
   "outputs": [],
   "source": [
    "# Get Items\n",
    "items = list(collection.get_all_items())\n",
    "items"
   ]
  },
  {
   "cell_type": "markdown",
   "id": "69f3564c-bd52-452d-875d-34d9309a64c9",
   "metadata": {},
   "source": [
    "### Available Assets & Metadata"
   ]
  },
  {
   "cell_type": "markdown",
   "id": "6684cdcf-b810-48e8-83c5-4e61e029c2dc",
   "metadata": {},
   "source": [
    "Let's display the available assets and metadata for the NOAA U.S. Tabular Climate Normals product. "
   ]
  },
  {
   "cell_type": "code",
   "execution_count": null,
   "id": "2cc1ebf2-1188-42db-90b5-17026d7770b7",
   "metadata": {},
   "outputs": [],
   "source": [
    "import rich.table\n",
    "\n",
    "# Assets\n",
    "t_assets = rich.table.Table(\"Key\", \"Value\")\n",
    "for key, asset in items[0].assets.items():\n",
    "    t_assets.add_row(key, asset.title)\n",
    "t_assets"
   ]
  },
  {
   "cell_type": "code",
   "execution_count": null,
   "id": "1c6ae738-7e4d-4718-9c67-22783557bff6",
   "metadata": {},
   "outputs": [],
   "source": [
    "# Metadata\n",
    "t_metadata = rich.table.Table(\"Key\", \"Value\")\n",
    "for k, v in sorted(items[0].properties.items()):\n",
    "    t_metadata.add_row(k, str(v))\n",
    "t_metadata"
   ]
  },
  {
   "cell_type": "markdown",
   "id": "fcd49bc9-32ac-4b10-83f8-e9fbd2a870ac",
   "metadata": {},
   "source": [
    "### Loading the GeoParquet dataset\n",
    "Now let's load a STAC item into a tabular format. "
   ]
  },
  {
   "cell_type": "code",
   "execution_count": null,
   "id": "cfdedfb9-bddc-4487-97c8-b669ec7c00da",
   "metadata": {},
   "outputs": [],
   "source": [
    "import pandas as pd\n",
    "\n",
    "item = collection.get_item(id=\"1991_2020-monthly\")\n",
    "asset = item.assets[\"geoparquet\"]\n",
    "\n",
    "df = pd.read_parquet(\n",
    "    asset.href,\n",
    "    storage_options=asset.extra_fields[\"table:storage_options\"],\n",
    "    columns=[\"STATION\", \"month\", \"LATITUDE\", \"LONGITUDE\", \"MLY-PRCP-NORMAL\"],\n",
    ")\n",
    "\n",
    "# Filter for April\n",
    "df1 = df[df.month.eq(4)]\n",
    "df1.head()"
   ]
  },
  {
   "cell_type": "code",
   "execution_count": null,
   "id": "5f094689-520e-4fed-bc98-d6e4d499908e",
   "metadata": {},
   "outputs": [],
   "source": [
    "# Descriptive statistics\n",
    "stat = df1.describe()\n",
    "stat.round(1)"
   ]
  },
  {
   "cell_type": "markdown",
   "id": "f76a3b43-7827-4e8d-9305-6af33794bbce",
   "metadata": {},
   "source": [
    "### Displaying the tabular data"
   ]
  },
  {
   "cell_type": "markdown",
   "id": "980a18b0-14e8-4f22-99db-3cf0521fabca",
   "metadata": {},
   "source": [
    "Let's display the NOAA U.S. Tabular Climate Normals."
   ]
  },
  {
   "cell_type": "code",
   "execution_count": null,
   "id": "aab22866-df74-429f-8747-b6d9b36ba075",
   "metadata": {},
   "outputs": [],
   "source": [
    "import cartopy\n",
    "import cartopy.crs as ccrs\n",
    "import cartopy.feature as cfeature\n",
    "import matplotlib.pyplot as plt\n",
    "import seaborn as sns\n",
    "\n",
    "fig = plt.figure(figsize=(32, 32))\n",
    "ax = fig.add_subplot(projection=ccrs.Mercator())\n",
    "extent = [-125, -65, 24, 50.5]\n",
    "\n",
    "lat = df1[\"LATITUDE\"].tolist()\n",
    "lon = df1[\"LONGITUDE\"].tolist()\n",
    "var = df1[\"MLY-PRCP-NORMAL\"].tolist()\n",
    "\n",
    "sns.scatterplot(\n",
    "    x=lon,\n",
    "    y=lat,\n",
    "    data=df1,\n",
    "    hue=var,\n",
    "    palette=\"plasma\",\n",
    "    size=var,\n",
    "    sizes=(50, 500),\n",
    "    transform=ccrs.PlateCarree(),\n",
    "    legend=\"auto\",\n",
    "    zorder=2,\n",
    "    alpha=0.5,\n",
    "    edgecolor=\"black\",\n",
    ")\n",
    "\n",
    "ax.set_extent(extent)\n",
    "ax.add_feature(cartopy.feature.STATES, zorder=1)\n",
    "ax.add_feature(cfeature.COASTLINE, zorder=1, linewidth=1)\n",
    "ax.add_feature(cfeature.OCEAN, zorder=0, linewidth=0, facecolor=\"#333333\")\n",
    "ax.add_feature(cfeature.LAND, zorder=0, linewidth=0, facecolor=\"#5A5A5A\")\n",
    "ax.set_title(\n",
    "    \"NOAA U.S. Tabular Climate Normals \\n 1991-2020 April Precipitation Normal (inches)\",\n",
    "    fontweight=\"bold\",\n",
    "    fontsize=\"35\",\n",
    ")\n",
    "\n",
    "plt.legend(fontsize=15, title=\"inches\", title_fontsize=\"20\", prop={\"size\": 25})\n",
    "plt.show()"
   ]
  }
 ],
 "metadata": {
  "kernelspec": {
   "display_name": "PlanetaryComputerExamples",
   "language": "python",
   "name": "python3"
  },
  "language_info": {
   "codemirror_mode": {
    "name": "ipython",
    "version": 3
   },
   "file_extension": ".py",
   "mimetype": "text/x-python",
   "name": "python",
   "nbconvert_exporter": "python",
   "pygments_lexer": "ipython3",
   "version": "3.10.6"
  },
  "vscode": {
   "interpreter": {
    "hash": "e948087a60c74a7365deb7ebdb8258aef9e35befc5ff622dcc77bee1eb899c9c"
   }
  },
  "widgets": {
   "application/vnd.jupyter.widget-state+json": {
    "state": {},
    "version_major": 2,
    "version_minor": 0
   }
  }
 },
 "nbformat": 4,
 "nbformat_minor": 5
}
