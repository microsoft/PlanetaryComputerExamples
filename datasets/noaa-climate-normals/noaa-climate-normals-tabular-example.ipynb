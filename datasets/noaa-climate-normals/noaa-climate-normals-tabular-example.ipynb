{
 "cells": [
  {
   "cell_type": "markdown",
   "id": "d2583da9-3f1e-40e6-b81d-700f26e89daa",
   "metadata": {
    "tags": []
   },
   "source": [
    "## Accessing NOAA U.S. Tabular Climate Normals with the Planetary Computer STAC API\n",
    "\n",
    "The [NOAA U.S. Tabular Climate Normals](https://www.ncei.noaa.gov/products/land-based-station/us-climate-normals) provide information about typical climate conditions for thousands of weather station locations across the United States. Normals act both as a ruler to compare current weather and as a predictor of conditions in the near future. The official normals are calculated for a uniform 30 year period, and consist of annual/seasonal, monthly, daily, and hourly averages and statistics of temperature, precipitation, and other climatological variables for each weather station.\n",
    "\n",
    "This Collection contains tabular weather variable data at weather station locations in GeoParquet format. Data are provided for annual/seasonal, monthly, daily, and hourly frequencies for the following time periods:\n",
    "\n",
    "- 30-year Conventional (1991–2020)\n",
    "- 30-year Legacy (1981–2010)\n",
    "- 15-year Supplemental (2006–2020)\n",
    "\n",
    "Documentation for this dataset is available at the [Planetary Computer Data Catalog](https://planetarycomputer.microsoft.com/dataset/noaa-climate-normals-tabular).\n"
   ]
  },
  {
   "cell_type": "markdown",
   "id": "6c7da081-b792-45f2-a428-ea8f9ecbda08",
   "metadata": {},
   "source": [
    "### Data Access\n",
    "This notebook works with or without an API key, but you will be given more permissive access to the data with an API key. The [Planetary Computer Hub](https://planetarycomputer.microsoft.com/compute) sets the environment variable \"PC_SDK_SUBSCRIPTION_KEY\" when your server is started. The API key may be manually set via the following code:\n",
    "\n",
    "```python\n",
    "pc.settings.set_subscription_key(<YOUR API Key>)\n",
    "```"
   ]
  },
  {
   "cell_type": "markdown",
   "id": "77b43a07-4f7e-49fc-8bfb-dc2e236e0264",
   "metadata": {},
   "source": [
    "The datasets hosted by the Planetary Computer are available from [Azure Blob Storage](https://docs.microsoft.com/en-us/azure/storage/blobs/). We'll use [pystac-client](https://pystac-client.readthedocs.io/) to search the Planetary Computer's [STAC API](https://planetarycomputer.microsoft.com/api/stac/v1/docs) for the subset of the data that we care about, and then we'll load the data directly from Azure Blob Storage. We'll specify a `modifier` so that we can access the data stored in the Planetary Computer's private Blob Storage Containers. See [Reading from the STAC API](https://planetarycomputer.microsoft.com/docs/quickstarts/reading-stac/) and [Using tokens for data access](https://planetarycomputer.microsoft.com/docs/concepts/sas/) for more. "
   ]
  },
  {
   "cell_type": "code",
   "execution_count": 1,
   "id": "6589465d-240b-4eb6-98f6-fa677a886b85",
   "metadata": {},
   "outputs": [],
   "source": [
    "import planetary_computer\n",
    "import pystac_client\n",
    "\n",
    "# Open the Planetary Computer STAC API\n",
    "catalog = pystac_client.Client.open(\n",
    "    \"https://planetarycomputer.microsoft.com/api/stac/v1\",\n",
    "    modifier=planetary_computer.sign_inplace,\n",
    ")\n",
    "\n",
    "collection = catalog.get_collection(\"noaa-climate-normals-tabular\")"
   ]
  },
  {
   "cell_type": "code",
   "execution_count": 2,
   "id": "3f27d35f-6526-45ff-bad1-9b83e706e604",
   "metadata": {},
   "outputs": [
    {
     "data": {
      "text/plain": [
       "[<Item id=2006_2020-monthly>,\n",
       " <Item id=2006_2020-hourly>,\n",
       " <Item id=2006_2020-daily>,\n",
       " <Item id=2006_2020-annualseasonal>,\n",
       " <Item id=1991_2020-monthly>,\n",
       " <Item id=1991_2020-hourly>,\n",
       " <Item id=1991_2020-daily>,\n",
       " <Item id=1991_2020-annualseasonal>,\n",
       " <Item id=1981_2010-monthly>,\n",
       " <Item id=1981_2010-hourly>,\n",
       " <Item id=1981_2010-daily>,\n",
       " <Item id=1981_2010-annualseasonal>]"
      ]
     },
     "execution_count": 2,
     "metadata": {},
     "output_type": "execute_result"
    }
   ],
   "source": [
    "# Get Items\n",
    "items = list(collection.get_all_items())\n",
    "items"
   ]
  },
  {
   "cell_type": "markdown",
   "id": "69f3564c-bd52-452d-875d-34d9309a64c9",
   "metadata": {},
   "source": [
    "### Available Assets & Metadata"
   ]
  },
  {
   "cell_type": "markdown",
   "id": "6684cdcf-b810-48e8-83c5-4e61e029c2dc",
   "metadata": {},
   "source": [
    "Let's display the available assets and metadata for the NOAA U.S. Tabular Climate Normals product. "
   ]
  },
  {
   "cell_type": "code",
   "execution_count": 3,
   "id": "2cc1ebf2-1188-42db-90b5-17026d7770b7",
   "metadata": {},
   "outputs": [
    {
     "data": {
      "text/html": [
       "<pre style=\"white-space:pre;overflow-x:auto;line-height:normal;font-family:Menlo,'DejaVu Sans Mono',consolas,'Courier New',monospace\">┏━━━━━━━━━━━━┳━━━━━━━━━━━━━━┓\n",
       "┃<span style=\"font-weight: bold\"> Key        </span>┃<span style=\"font-weight: bold\"> Value        </span>┃\n",
       "┡━━━━━━━━━━━━╇━━━━━━━━━━━━━━┩\n",
       "│ geoparquet │ Dataset root │\n",
       "└────────────┴──────────────┘\n",
       "</pre>\n"
      ],
      "text/plain": [
       "┏━━━━━━━━━━━━┳━━━━━━━━━━━━━━┓\n",
       "┃\u001b[1m \u001b[0m\u001b[1mKey       \u001b[0m\u001b[1m \u001b[0m┃\u001b[1m \u001b[0m\u001b[1mValue       \u001b[0m\u001b[1m \u001b[0m┃\n",
       "┡━━━━━━━━━━━━╇━━━━━━━━━━━━━━┩\n",
       "│ geoparquet │ Dataset root │\n",
       "└────────────┴──────────────┘\n"
      ]
     },
     "execution_count": 3,
     "metadata": {},
     "output_type": "execute_result"
    }
   ],
   "source": [
    "import rich.table\n",
    "\n",
    "# Assets\n",
    "t_assets = rich.table.Table(\"Key\", \"Value\")\n",
    "for key, asset in items[0].assets.items():\n",
    "    t_assets.add_row(key, asset.title)\n",
    "t_assets"
   ]
  },
  {
   "cell_type": "code",
   "execution_count": 4,
   "id": "1c6ae738-7e4d-4718-9c67-22783557bff6",
   "metadata": {},
   "outputs": [
    {
     "data": {
      "text/html": [
       "<pre style=\"white-space:pre;overflow-x:auto;line-height:normal;font-family:Menlo,'DejaVu Sans Mono',consolas,'Courier New',monospace\">┏━━━━━━━━━━━━━━━━━━━━━━━━━━━━━━━━┳━━━━━━━━━━━━━━━━━━━━━━━━━━━━━━━━━━━━━━━━━━━━━━━━━━━━━━━━━━━━━━━━━━━━━━━━━━━━━━━━┓\n",
       "┃<span style=\"font-weight: bold\"> Key                            </span>┃<span style=\"font-weight: bold\"> Value                                                                          </span>┃\n",
       "┡━━━━━━━━━━━━━━━━━━━━━━━━━━━━━━━━╇━━━━━━━━━━━━━━━━━━━━━━━━━━━━━━━━━━━━━━━━━━━━━━━━━━━━━━━━━━━━━━━━━━━━━━━━━━━━━━━━┩\n",
       "│ created                        │ 2023-01-13T17:12:43.569562Z                                                    │\n",
       "│ datetime                       │ None                                                                           │\n",
       "│ end_datetime                   │ 2020-12-31T23:59:59Z                                                           │\n",
       "│ noaa_climate_normals:frequency │ monthly                                                                        │\n",
       "│ noaa_climate_normals:period    │ 2006-2020                                                                      │\n",
       "│ proj:epsg                      │ 4269                                                                           │\n",
       "│ sci:publications               │ [{'doi': '10.1175/BAMS-D-11-00197.1', 'citation': \"Arguez, A., I. Durre, S.    │\n",
       "│                                │ Applequist, R. Vose, M. Squires, X. Yin, R. Heim, and T. Owen, 2012: NOAA's    │\n",
       "│                                │ 1981-2010 climate normals: An overview. Bull. Amer. Meteor. Soc., 93,          │\n",
       "│                                │ 1687-1697. DOI: 10.1175/BAMS-D-11-00197.1.\"}]                                  │\n",
       "│ start_datetime                 │ 2006-01-01T00:00:00Z                                                           │\n",
       "│ table:row_count                │ 161652                                                                         │\n",
       "│ title                          │ Monthly Climate Normals for Period 2006-2020                                   │\n",
       "└────────────────────────────────┴────────────────────────────────────────────────────────────────────────────────┘\n",
       "</pre>\n"
      ],
      "text/plain": [
       "┏━━━━━━━━━━━━━━━━━━━━━━━━━━━━━━━━┳━━━━━━━━━━━━━━━━━━━━━━━━━━━━━━━━━━━━━━━━━━━━━━━━━━━━━━━━━━━━━━━━━━━━━━━━━━━━━━━━┓\n",
       "┃\u001b[1m \u001b[0m\u001b[1mKey                           \u001b[0m\u001b[1m \u001b[0m┃\u001b[1m \u001b[0m\u001b[1mValue                                                                         \u001b[0m\u001b[1m \u001b[0m┃\n",
       "┡━━━━━━━━━━━━━━━━━━━━━━━━━━━━━━━━╇━━━━━━━━━━━━━━━━━━━━━━━━━━━━━━━━━━━━━━━━━━━━━━━━━━━━━━━━━━━━━━━━━━━━━━━━━━━━━━━━┩\n",
       "│ created                        │ 2023-01-13T17:12:43.569562Z                                                    │\n",
       "│ datetime                       │ None                                                                           │\n",
       "│ end_datetime                   │ 2020-12-31T23:59:59Z                                                           │\n",
       "│ noaa_climate_normals:frequency │ monthly                                                                        │\n",
       "│ noaa_climate_normals:period    │ 2006-2020                                                                      │\n",
       "│ proj:epsg                      │ 4269                                                                           │\n",
       "│ sci:publications               │ [{'doi': '10.1175/BAMS-D-11-00197.1', 'citation': \"Arguez, A., I. Durre, S.    │\n",
       "│                                │ Applequist, R. Vose, M. Squires, X. Yin, R. Heim, and T. Owen, 2012: NOAA's    │\n",
       "│                                │ 1981-2010 climate normals: An overview. Bull. Amer. Meteor. Soc., 93,          │\n",
       "│                                │ 1687-1697. DOI: 10.1175/BAMS-D-11-00197.1.\"}]                                  │\n",
       "│ start_datetime                 │ 2006-01-01T00:00:00Z                                                           │\n",
       "│ table:row_count                │ 161652                                                                         │\n",
       "│ title                          │ Monthly Climate Normals for Period 2006-2020                                   │\n",
       "└────────────────────────────────┴────────────────────────────────────────────────────────────────────────────────┘\n"
      ]
     },
     "execution_count": 4,
     "metadata": {},
     "output_type": "execute_result"
    }
   ],
   "source": [
    "# Metadata\n",
    "t_metadata = rich.table.Table(\"Key\", \"Value\")\n",
    "for k, v in sorted(items[0].properties.items()):\n",
    "    if k != \"table:columns\":\n",
    "        t_metadata.add_row(k, str(v))\n",
    "t_metadata"
   ]
  },
  {
   "cell_type": "markdown",
   "id": "fcd49bc9-32ac-4b10-83f8-e9fbd2a870ac",
   "metadata": {},
   "source": [
    "### Loading the GeoParquet dataset\n",
    "Now let's load a STAC item into a tabular format. "
   ]
  },
  {
   "cell_type": "code",
   "execution_count": 5,
   "id": "5e2c7bd9-3ac5-467f-97ac-fd821ee770ab",
   "metadata": {},
   "outputs": [],
   "source": [
    "import geopandas\n",
    "\n",
    "df = geopandas.read_parquet(\n",
    "    asset.href,\n",
    "    storage_options=asset.extra_fields[\"table:storage_options\"],\n",
    "    columns=[\"STATION\", \"month\", \"MLY-PRCP-NORMAL\", \"geometry\"],\n",
    ")"
   ]
  },
  {
   "cell_type": "markdown",
   "id": "f76a3b43-7827-4e8d-9305-6af33794bbce",
   "metadata": {},
   "source": [
    "### Displaying the tabular data"
   ]
  },
  {
   "cell_type": "markdown",
   "id": "980a18b0-14e8-4f22-99db-3cf0521fabca",
   "metadata": {},
   "source": [
    "Let's display the NOAA U.S. Tabular Climate Normals for the Continental United States and Puerto Rico."
   ]
  },
  {
   "cell_type": "code",
   "execution_count": 6,
   "id": "4b7e346a-255b-4009-a1be-e551fb644de4",
   "metadata": {},
   "outputs": [
    {
     "data": {
      "text/html": [
       "<img src=\"https://ai4edatasetspublicassets.blob.core.windows.net/assets/notebook-output/datasets-noaa-climate-normals-noaa-climate-normals-tabular-example.ipynb/6.png\"/>"
      ],
      "text/plain": [
       "<Figure size 1800x1800 with 1 Axes>"
      ]
     },
     "metadata": {},
     "output_type": "display_data"
    }
   ],
   "source": [
    "import contextily\n",
    "\n",
    "ax = df.cx[-125:24, -65:50.5].plot(figsize=(18, 18), column=\"MLY-PRCP-NORMAL\")\n",
    "contextily.add_basemap(\n",
    "    ax, crs=df.crs.to_string(), source=contextily.providers.OpenStreetMap.Mapnik\n",
    ")"
   ]
  }
 ],
 "metadata": {
  "kernelspec": {
   "display_name": "Python 3 (ipykernel)",
   "language": "python",
   "name": "python3"
  },
  "language_info": {
   "codemirror_mode": {
    "name": "ipython",
    "version": 3
   },
   "file_extension": ".py",
   "mimetype": "text/x-python",
   "name": "python",
   "nbconvert_exporter": "python",
   "pygments_lexer": "ipython3",
   "version": "3.10.8"
  },
  "vscode": {
   "interpreter": {
    "hash": "e948087a60c74a7365deb7ebdb8258aef9e35befc5ff622dcc77bee1eb899c9c"
   }
  },
  "widgets": {
   "application/vnd.jupyter.widget-state+json": {
    "state": {},
    "version_major": 2,
    "version_minor": 0
   }
  }
 },
 "nbformat": 4,
 "nbformat_minor": 5
}
