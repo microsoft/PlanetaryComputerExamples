{
 "cells": [
  {
   "cell_type": "markdown",
   "id": "657431e4-bf40-4708-8639-0b014997aaea",
   "metadata": {},
   "source": [
    "## Accessing Esri 10m Land Use/Land Cover (9-class) data with the Planetary Computer STAC API\n",
    "\n",
    "This dataset contains global estimates of 10-class land use/land cover for 2017 - 2022, derived from ESA Sentinel-2 imagery at 10m resolution. In this notebook, we'll demonstrate how to access and work with this data through the Planetary Computer."
   ]
  },
  {
   "cell_type": "markdown",
   "id": "dc99c9cc",
   "metadata": {},
   "source": [
    "### Environment setup\n",
    "\n",
    "This notebook works with or without an API key, but you will be given more permissive access to the data with an API key.\n",
    "The [Planetary Computer Hub](https://planetarycomputer.microsoft.com/compute) is pre-configured to use your API key."
   ]
  },
  {
   "cell_type": "code",
   "execution_count": 1,
   "id": "b87fbc90-35c8-42fd-92a8-b1a12e8676dd",
   "metadata": {},
   "outputs": [],
   "source": [
    "import dask.distributed\n",
    "from matplotlib.colors import ListedColormap\n",
    "import pystac_client\n",
    "\n",
    "import cartopy.crs as ccrs\n",
    "import numpy as np\n",
    "import pandas as pd\n",
    "import planetary_computer\n",
    "import rasterio\n",
    "import rasterio.features\n",
    "import stackstac\n",
    "\n",
    "# Set the environment variable PC_SDK_SUBSCRIPTION_KEY, or set it here.\n",
    "# The Hub sets PC_SDK_SUBSCRIPTION_KEY automatically.\n",
    "# pc.settings.set_subscription_key(<YOUR API Key>)"
   ]
  },
  {
   "cell_type": "markdown",
   "id": "cd3350ab-2130-4064-b8c0-6304aa1ba746",
   "metadata": {},
   "source": [
    "### Data access\n",
    "\n",
    "The datasets hosted by the Planetary Computer are available from [Azure Blob Storage](https://docs.microsoft.com/en-us/azure/storage/blobs/). We'll use [pystac-client](https://pystac-client.readthedocs.io/) to search the Planetary Computer's [STAC API](https://planetarycomputer.microsoft.com/api/stac/v1/docs) for the subset of the data that we care about, and then we'll load the data directly from Azure Blob Storage. We'll specify a `modifier` so that we can access the data stored in the Planetary Computer's private Blob Storage Containers. See [Reading from the STAC API](https://planetarycomputer.microsoft.com/docs/quickstarts/reading-stac/) and [Using tokens for data access](https://planetarycomputer.microsoft.com/docs/concepts/sas/) for more."
   ]
  },
  {
   "cell_type": "code",
   "execution_count": 2,
   "id": "8719fce6-dbd8-4daf-943b-6c358930e1c6",
   "metadata": {},
   "outputs": [],
   "source": [
    "catalog = pystac_client.Client.open(\n",
    "    \"https://planetarycomputer.microsoft.com/api/stac/v1\",\n",
    "    modifier=planetary_computer.sign_inplace,\n",
    ")"
   ]
  },
  {
   "cell_type": "markdown",
   "id": "901a784a-842d-4aea-bd80-54d256e3fa4f",
   "metadata": {},
   "source": [
    "### Select a region and find data items\n",
    "\n",
    "We'll pick an area in Thailand and use the STAC API to find what data items are available."
   ]
  },
  {
   "cell_type": "code",
   "execution_count": 3,
   "id": "8e81ac93-7c97-4126-a096-0334f5145c6b",
   "metadata": {},
   "outputs": [
    {
     "name": "stdout",
     "output_type": "stream",
     "text": [
      "Returned 5 Items\n"
     ]
    }
   ],
   "source": [
    "bbox_of_interest = [100.0868, 13.7554, 100.3354, 13.986]\n",
    "search = catalog.search(collections=[\"io-lulc-9-class\"], bbox=bbox_of_interest)\n",
    "\n",
    "items = search.item_collection()\n",
    "print(f\"Returned {len(items)} Items\")"
   ]
  },
  {
   "cell_type": "markdown",
   "id": "9d800526-aebb-44cf-a0df-6e93041d7f2f",
   "metadata": {},
   "source": [
    "We found several items that intersect with our area of interest, one per year.\n",
    "\n",
    "We'll use the [stackstac](https://stackstac.readthedocs.io/en/latest/) library to read all of these into a single `xarray.DataArray`."
   ]
  },
  {
   "cell_type": "code",
   "execution_count": 4,
   "id": "2ca1a7a9-0229-4b0d-bb2f-599f4bd4e3c3",
   "metadata": {},
   "outputs": [
    {
     "data": {
      "text/html": [
       "<div><svg style=\"position: absolute; width: 0; height: 0; overflow: hidden\">\n",
       "<defs>\n",
       "<symbol id=\"icon-database\" viewBox=\"0 0 32 32\">\n",
       "<path d=\"M16 0c-8.837 0-16 2.239-16 5v4c0 2.761 7.163 5 16 5s16-2.239 16-5v-4c0-2.761-7.163-5-16-5z\"></path>\n",
       "<path d=\"M16 17c-8.837 0-16-2.239-16-5v6c0 2.761 7.163 5 16 5s16-2.239 16-5v-6c0 2.761-7.163 5-16 5z\"></path>\n",
       "<path d=\"M16 26c-8.837 0-16-2.239-16-5v6c0 2.761 7.163 5 16 5s16-2.239 16-5v-6c0 2.761-7.163 5-16 5z\"></path>\n",
       "</symbol>\n",
       "<symbol id=\"icon-file-text2\" viewBox=\"0 0 32 32\">\n",
       "<path d=\"M28.681 7.159c-0.694-0.947-1.662-2.053-2.724-3.116s-2.169-2.030-3.116-2.724c-1.612-1.182-2.393-1.319-2.841-1.319h-15.5c-1.378 0-2.5 1.121-2.5 2.5v27c0 1.378 1.122 2.5 2.5 2.5h23c1.378 0 2.5-1.122 2.5-2.5v-19.5c0-0.448-0.137-1.23-1.319-2.841zM24.543 5.457c0.959 0.959 1.712 1.825 2.268 2.543h-4.811v-4.811c0.718 0.556 1.584 1.309 2.543 2.268zM28 29.5c0 0.271-0.229 0.5-0.5 0.5h-23c-0.271 0-0.5-0.229-0.5-0.5v-27c0-0.271 0.229-0.5 0.5-0.5 0 0 15.499-0 15.5 0v7c0 0.552 0.448 1 1 1h7v19.5z\"></path>\n",
       "<path d=\"M23 26h-14c-0.552 0-1-0.448-1-1s0.448-1 1-1h14c0.552 0 1 0.448 1 1s-0.448 1-1 1z\"></path>\n",
       "<path d=\"M23 22h-14c-0.552 0-1-0.448-1-1s0.448-1 1-1h14c0.552 0 1 0.448 1 1s-0.448 1-1 1z\"></path>\n",
       "<path d=\"M23 18h-14c-0.552 0-1-0.448-1-1s0.448-1 1-1h14c0.552 0 1 0.448 1 1s-0.448 1-1 1z\"></path>\n",
       "</symbol>\n",
       "</defs>\n",
       "</svg>\n",
       "<style>/* CSS stylesheet for displaying xarray objects in jupyterlab.\n",
       " *\n",
       " */\n",
       "\n",
       ":root {\n",
       "  --xr-font-color0: var(--jp-content-font-color0, rgba(0, 0, 0, 1));\n",
       "  --xr-font-color2: var(--jp-content-font-color2, rgba(0, 0, 0, 0.54));\n",
       "  --xr-font-color3: var(--jp-content-font-color3, rgba(0, 0, 0, 0.38));\n",
       "  --xr-border-color: var(--jp-border-color2, #e0e0e0);\n",
       "  --xr-disabled-color: var(--jp-layout-color3, #bdbdbd);\n",
       "  --xr-background-color: var(--jp-layout-color0, white);\n",
       "  --xr-background-color-row-even: var(--jp-layout-color1, white);\n",
       "  --xr-background-color-row-odd: var(--jp-layout-color2, #eeeeee);\n",
       "}\n",
       "\n",
       "html[theme=dark],\n",
       "body[data-theme=dark],\n",
       "body.vscode-dark {\n",
       "  --xr-font-color0: rgba(255, 255, 255, 1);\n",
       "  --xr-font-color2: rgba(255, 255, 255, 0.54);\n",
       "  --xr-font-color3: rgba(255, 255, 255, 0.38);\n",
       "  --xr-border-color: #1F1F1F;\n",
       "  --xr-disabled-color: #515151;\n",
       "  --xr-background-color: #111111;\n",
       "  --xr-background-color-row-even: #111111;\n",
       "  --xr-background-color-row-odd: #313131;\n",
       "}\n",
       "\n",
       ".xr-wrap {\n",
       "  display: block !important;\n",
       "  min-width: 300px;\n",
       "  max-width: 700px;\n",
       "}\n",
       "\n",
       ".xr-text-repr-fallback {\n",
       "  /* fallback to plain text repr when CSS is not injected (untrusted notebook) */\n",
       "  display: none;\n",
       "}\n",
       "\n",
       ".xr-header {\n",
       "  padding-top: 6px;\n",
       "  padding-bottom: 6px;\n",
       "  margin-bottom: 4px;\n",
       "  border-bottom: solid 1px var(--xr-border-color);\n",
       "}\n",
       "\n",
       ".xr-header > div,\n",
       ".xr-header > ul {\n",
       "  display: inline;\n",
       "  margin-top: 0;\n",
       "  margin-bottom: 0;\n",
       "}\n",
       "\n",
       ".xr-obj-type,\n",
       ".xr-array-name {\n",
       "  margin-left: 2px;\n",
       "  margin-right: 10px;\n",
       "}\n",
       "\n",
       ".xr-obj-type {\n",
       "  color: var(--xr-font-color2);\n",
       "}\n",
       "\n",
       ".xr-sections {\n",
       "  padding-left: 0 !important;\n",
       "  display: grid;\n",
       "  grid-template-columns: 150px auto auto 1fr 20px 20px;\n",
       "}\n",
       "\n",
       ".xr-section-item {\n",
       "  display: contents;\n",
       "}\n",
       "\n",
       ".xr-section-item input {\n",
       "  display: none;\n",
       "}\n",
       "\n",
       ".xr-section-item input + label {\n",
       "  color: var(--xr-disabled-color);\n",
       "}\n",
       "\n",
       ".xr-section-item input:enabled + label {\n",
       "  cursor: pointer;\n",
       "  color: var(--xr-font-color2);\n",
       "}\n",
       "\n",
       ".xr-section-item input:enabled + label:hover {\n",
       "  color: var(--xr-font-color0);\n",
       "}\n",
       "\n",
       ".xr-section-summary {\n",
       "  grid-column: 1;\n",
       "  color: var(--xr-font-color2);\n",
       "  font-weight: 500;\n",
       "}\n",
       "\n",
       ".xr-section-summary > span {\n",
       "  display: inline-block;\n",
       "  padding-left: 0.5em;\n",
       "}\n",
       "\n",
       ".xr-section-summary-in:disabled + label {\n",
       "  color: var(--xr-font-color2);\n",
       "}\n",
       "\n",
       ".xr-section-summary-in + label:before {\n",
       "  display: inline-block;\n",
       "  content: '►';\n",
       "  font-size: 11px;\n",
       "  width: 15px;\n",
       "  text-align: center;\n",
       "}\n",
       "\n",
       ".xr-section-summary-in:disabled + label:before {\n",
       "  color: var(--xr-disabled-color);\n",
       "}\n",
       "\n",
       ".xr-section-summary-in:checked + label:before {\n",
       "  content: '▼';\n",
       "}\n",
       "\n",
       ".xr-section-summary-in:checked + label > span {\n",
       "  display: none;\n",
       "}\n",
       "\n",
       ".xr-section-summary,\n",
       ".xr-section-inline-details {\n",
       "  padding-top: 4px;\n",
       "  padding-bottom: 4px;\n",
       "}\n",
       "\n",
       ".xr-section-inline-details {\n",
       "  grid-column: 2 / -1;\n",
       "}\n",
       "\n",
       ".xr-section-details {\n",
       "  display: none;\n",
       "  grid-column: 1 / -1;\n",
       "  margin-bottom: 5px;\n",
       "}\n",
       "\n",
       ".xr-section-summary-in:checked ~ .xr-section-details {\n",
       "  display: contents;\n",
       "}\n",
       "\n",
       ".xr-array-wrap {\n",
       "  grid-column: 1 / -1;\n",
       "  display: grid;\n",
       "  grid-template-columns: 20px auto;\n",
       "}\n",
       "\n",
       ".xr-array-wrap > label {\n",
       "  grid-column: 1;\n",
       "  vertical-align: top;\n",
       "}\n",
       "\n",
       ".xr-preview {\n",
       "  color: var(--xr-font-color3);\n",
       "}\n",
       "\n",
       ".xr-array-preview,\n",
       ".xr-array-data {\n",
       "  padding: 0 5px !important;\n",
       "  grid-column: 2;\n",
       "}\n",
       "\n",
       ".xr-array-data,\n",
       ".xr-array-in:checked ~ .xr-array-preview {\n",
       "  display: none;\n",
       "}\n",
       "\n",
       ".xr-array-in:checked ~ .xr-array-data,\n",
       ".xr-array-preview {\n",
       "  display: inline-block;\n",
       "}\n",
       "\n",
       ".xr-dim-list {\n",
       "  display: inline-block !important;\n",
       "  list-style: none;\n",
       "  padding: 0 !important;\n",
       "  margin: 0;\n",
       "}\n",
       "\n",
       ".xr-dim-list li {\n",
       "  display: inline-block;\n",
       "  padding: 0;\n",
       "  margin: 0;\n",
       "}\n",
       "\n",
       ".xr-dim-list:before {\n",
       "  content: '(';\n",
       "}\n",
       "\n",
       ".xr-dim-list:after {\n",
       "  content: ')';\n",
       "}\n",
       "\n",
       ".xr-dim-list li:not(:last-child):after {\n",
       "  content: ',';\n",
       "  padding-right: 5px;\n",
       "}\n",
       "\n",
       ".xr-has-index {\n",
       "  font-weight: bold;\n",
       "}\n",
       "\n",
       ".xr-var-list,\n",
       ".xr-var-item {\n",
       "  display: contents;\n",
       "}\n",
       "\n",
       ".xr-var-item > div,\n",
       ".xr-var-item label,\n",
       ".xr-var-item > .xr-var-name span {\n",
       "  background-color: var(--xr-background-color-row-even);\n",
       "  margin-bottom: 0;\n",
       "}\n",
       "\n",
       ".xr-var-item > .xr-var-name:hover span {\n",
       "  padding-right: 5px;\n",
       "}\n",
       "\n",
       ".xr-var-list > li:nth-child(odd) > div,\n",
       ".xr-var-list > li:nth-child(odd) > label,\n",
       ".xr-var-list > li:nth-child(odd) > .xr-var-name span {\n",
       "  background-color: var(--xr-background-color-row-odd);\n",
       "}\n",
       "\n",
       ".xr-var-name {\n",
       "  grid-column: 1;\n",
       "}\n",
       "\n",
       ".xr-var-dims {\n",
       "  grid-column: 2;\n",
       "}\n",
       "\n",
       ".xr-var-dtype {\n",
       "  grid-column: 3;\n",
       "  text-align: right;\n",
       "  color: var(--xr-font-color2);\n",
       "}\n",
       "\n",
       ".xr-var-preview {\n",
       "  grid-column: 4;\n",
       "}\n",
       "\n",
       ".xr-var-name,\n",
       ".xr-var-dims,\n",
       ".xr-var-dtype,\n",
       ".xr-preview,\n",
       ".xr-attrs dt {\n",
       "  white-space: nowrap;\n",
       "  overflow: hidden;\n",
       "  text-overflow: ellipsis;\n",
       "  padding-right: 10px;\n",
       "}\n",
       "\n",
       ".xr-var-name:hover,\n",
       ".xr-var-dims:hover,\n",
       ".xr-var-dtype:hover,\n",
       ".xr-attrs dt:hover {\n",
       "  overflow: visible;\n",
       "  width: auto;\n",
       "  z-index: 1;\n",
       "}\n",
       "\n",
       ".xr-var-attrs,\n",
       ".xr-var-data {\n",
       "  display: none;\n",
       "  background-color: var(--xr-background-color) !important;\n",
       "  padding-bottom: 5px !important;\n",
       "}\n",
       "\n",
       ".xr-var-attrs-in:checked ~ .xr-var-attrs,\n",
       ".xr-var-data-in:checked ~ .xr-var-data {\n",
       "  display: block;\n",
       "}\n",
       "\n",
       ".xr-var-data > table {\n",
       "  float: right;\n",
       "}\n",
       "\n",
       ".xr-var-name span,\n",
       ".xr-var-data,\n",
       ".xr-attrs {\n",
       "  padding-left: 25px !important;\n",
       "}\n",
       "\n",
       ".xr-attrs,\n",
       ".xr-var-attrs,\n",
       ".xr-var-data {\n",
       "  grid-column: 1 / -1;\n",
       "}\n",
       "\n",
       "dl.xr-attrs {\n",
       "  padding: 0;\n",
       "  margin: 0;\n",
       "  display: grid;\n",
       "  grid-template-columns: 125px auto;\n",
       "}\n",
       "\n",
       ".xr-attrs dt,\n",
       ".xr-attrs dd {\n",
       "  padding: 0;\n",
       "  margin: 0;\n",
       "  float: left;\n",
       "  padding-right: 10px;\n",
       "  width: auto;\n",
       "}\n",
       "\n",
       ".xr-attrs dt {\n",
       "  font-weight: normal;\n",
       "  grid-column: 1;\n",
       "}\n",
       "\n",
       ".xr-attrs dt:hover span {\n",
       "  display: inline-block;\n",
       "  background: var(--xr-background-color);\n",
       "  padding-right: 10px;\n",
       "}\n",
       "\n",
       ".xr-attrs dd {\n",
       "  grid-column: 2;\n",
       "  white-space: pre-wrap;\n",
       "  word-break: break-all;\n",
       "}\n",
       "\n",
       ".xr-icon-database,\n",
       ".xr-icon-file-text2 {\n",
       "  display: inline-block;\n",
       "  vertical-align: middle;\n",
       "  width: 1em;\n",
       "  height: 1.5em !important;\n",
       "  stroke-width: 0;\n",
       "  stroke: currentColor;\n",
       "  fill: currentColor;\n",
       "}\n",
       "</style><pre class='xr-text-repr-fallback'>&lt;xarray.DataArray &#x27;stackstac-ce08a50cd72f76d1f9b89eaf9fe64540&#x27; (time: 5,\n",
       "                                                                band: 1,\n",
       "                                                                y: 2565, x: 2701)&gt;\n",
       "dask.array&lt;getitem, shape=(5, 1, 2565, 2701), dtype=uint8, chunksize=(1, 1, 1024, 1024), chunktype=numpy.ndarray&gt;\n",
       "Coordinates: (12/15)\n",
       "  * time             (time) datetime64[ns] 2017-01-01 2018-01-01 ... 2021-01-01\n",
       "    id               (time) &lt;U8 &#x27;47P-2017&#x27; &#x27;47P-2018&#x27; ... &#x27;47P-2020&#x27; &#x27;47P-2021&#x27;\n",
       "  * band             (band) &lt;U4 &#x27;data&#x27;\n",
       "  * x                (x) float64 6.174e+05 6.174e+05 ... 6.444e+05 6.444e+05\n",
       "  * y                (y) float64 1.547e+06 1.547e+06 ... 1.521e+06 1.521e+06\n",
       "    proj:shape       object {66148, 88695}\n",
       "    ...               ...\n",
       "    proj:bbox        object {169263.29477130197, 1771251.1832111736, 884301.1...\n",
       "    end_datetime     (time) &lt;U20 &#x27;2018-01-01T00:00:00Z&#x27; ... &#x27;2022-01-01T00:00...\n",
       "    proj:transform   object {0.0, 10.0, 169263.29477130197, 1771251.183211173...\n",
       "    start_datetime   (time) &lt;U20 &#x27;2017-01-01T00:00:00Z&#x27; ... &#x27;2021-01-01T00:00...\n",
       "    raster:bands     object {&#x27;nodata&#x27;: 0, &#x27;spatial_resolution&#x27;: 10}\n",
       "    epsg             int64 32647\n",
       "Attributes:\n",
       "    spec:        RasterSpec(epsg=32647, bounds=(617370.0, 1520940.0, 644380.0...\n",
       "    crs:         epsg:32647\n",
       "    transform:   | 10.00, 0.00, 617370.00|\\n| 0.00,-10.00, 1546590.00|\\n| 0.0...\n",
       "    resolution:  10.0</pre><div class='xr-wrap' style='display:none'><div class='xr-header'><div class='xr-obj-type'>xarray.DataArray</div><div class='xr-array-name'>'stackstac-ce08a50cd72f76d1f9b89eaf9fe64540'</div><ul class='xr-dim-list'><li><span class='xr-has-index'>time</span>: 5</li><li><span class='xr-has-index'>band</span>: 1</li><li><span class='xr-has-index'>y</span>: 2565</li><li><span class='xr-has-index'>x</span>: 2701</li></ul></div><ul class='xr-sections'><li class='xr-section-item'><div class='xr-array-wrap'><input id='section-cb00fc9c-8115-425b-aa55-c72887a01b06' class='xr-array-in' type='checkbox' checked><label for='section-cb00fc9c-8115-425b-aa55-c72887a01b06' title='Show/hide data repr'><svg class='icon xr-icon-database'><use xlink:href='#icon-database'></use></svg></label><div class='xr-array-preview xr-preview'><span>dask.array&lt;chunksize=(1, 1, 1024, 1024), meta=np.ndarray&gt;</span></div><div class='xr-array-data'><table>\n",
       "    <tr>\n",
       "        <td>\n",
       "            <table>\n",
       "                <thead>\n",
       "                    <tr>\n",
       "                        <td> </td>\n",
       "                        <th> Array </th>\n",
       "                        <th> Chunk </th>\n",
       "                    </tr>\n",
       "                </thead>\n",
       "                <tbody>\n",
       "                    \n",
       "                    <tr>\n",
       "                        <th> Bytes </th>\n",
       "                        <td> 33.04 MiB </td>\n",
       "                        <td> 1.00 MiB </td>\n",
       "                    </tr>\n",
       "                    \n",
       "                    <tr>\n",
       "                        <th> Shape </th>\n",
       "                        <td> (5, 1, 2565, 2701) </td>\n",
       "                        <td> (1, 1, 1024, 1024) </td>\n",
       "                    </tr>\n",
       "                    <tr>\n",
       "                        <th> Count </th>\n",
       "                        <td> 4 Graph Layers </td>\n",
       "                        <td> 45 Chunks </td>\n",
       "                    </tr>\n",
       "                    <tr>\n",
       "                    <th> Type </th>\n",
       "                    <td> uint8 </td>\n",
       "                    <td> numpy.ndarray </td>\n",
       "                    </tr>\n",
       "                </tbody>\n",
       "            </table>\n",
       "        </td>\n",
       "        <td>\n",
       "        <svg width=\"374\" height=\"178\" style=\"stroke:rgb(0,0,0);stroke-width:1\" >\n",
       "\n",
       "  <!-- Horizontal lines -->\n",
       "  <line x1=\"0\" y1=\"0\" x2=\"25\" y2=\"0\" style=\"stroke-width:2\" />\n",
       "  <line x1=\"0\" y1=\"25\" x2=\"25\" y2=\"25\" style=\"stroke-width:2\" />\n",
       "\n",
       "  <!-- Vertical lines -->\n",
       "  <line x1=\"0\" y1=\"0\" x2=\"0\" y2=\"25\" style=\"stroke-width:2\" />\n",
       "  <line x1=\"5\" y1=\"0\" x2=\"5\" y2=\"25\" />\n",
       "  <line x1=\"10\" y1=\"0\" x2=\"10\" y2=\"25\" />\n",
       "  <line x1=\"15\" y1=\"0\" x2=\"15\" y2=\"25\" />\n",
       "  <line x1=\"20\" y1=\"0\" x2=\"20\" y2=\"25\" />\n",
       "  <line x1=\"25\" y1=\"0\" x2=\"25\" y2=\"25\" style=\"stroke-width:2\" />\n",
       "\n",
       "  <!-- Colored Rectangle -->\n",
       "  <polygon points=\"0.0,0.0 25.412616514582485,0.0 25.412616514582485,25.412616514582485 0.0,25.412616514582485\" style=\"fill:#ECB172A0;stroke-width:0\"/>\n",
       "\n",
       "  <!-- Text -->\n",
       "  <text x=\"12.706308\" y=\"45.412617\" font-size=\"1.0rem\" font-weight=\"100\" text-anchor=\"middle\" >5</text>\n",
       "  <text x=\"45.412617\" y=\"12.706308\" font-size=\"1.0rem\" font-weight=\"100\" text-anchor=\"middle\" transform=\"rotate(0,45.412617,12.706308)\">1</text>\n",
       "\n",
       "\n",
       "  <!-- Horizontal lines -->\n",
       "  <line x1=\"95\" y1=\"0\" x2=\"109\" y2=\"14\" style=\"stroke-width:2\" />\n",
       "  <line x1=\"95\" y1=\"45\" x2=\"109\" y2=\"60\" />\n",
       "  <line x1=\"95\" y1=\"90\" x2=\"109\" y2=\"105\" />\n",
       "  <line x1=\"95\" y1=\"113\" x2=\"109\" y2=\"128\" style=\"stroke-width:2\" />\n",
       "\n",
       "  <!-- Vertical lines -->\n",
       "  <line x1=\"95\" y1=\"0\" x2=\"95\" y2=\"113\" style=\"stroke-width:2\" />\n",
       "  <line x1=\"109\" y1=\"14\" x2=\"109\" y2=\"128\" style=\"stroke-width:2\" />\n",
       "\n",
       "  <!-- Colored Rectangle -->\n",
       "  <polygon points=\"95.0,0.0 109.9485979497544,14.948597949754403 109.9485979497544,128.9063913596026 95.0,113.9577934098482\" style=\"fill:#ECB172A0;stroke-width:0\"/>\n",
       "\n",
       "  <!-- Horizontal lines -->\n",
       "  <line x1=\"95\" y1=\"0\" x2=\"215\" y2=\"0\" style=\"stroke-width:2\" />\n",
       "  <line x1=\"109\" y1=\"14\" x2=\"229\" y2=\"14\" style=\"stroke-width:2\" />\n",
       "\n",
       "  <!-- Vertical lines -->\n",
       "  <line x1=\"95\" y1=\"0\" x2=\"109\" y2=\"14\" style=\"stroke-width:2\" />\n",
       "  <line x1=\"140\" y1=\"0\" x2=\"155\" y2=\"14\" />\n",
       "  <line x1=\"185\" y1=\"0\" x2=\"200\" y2=\"14\" />\n",
       "  <line x1=\"215\" y1=\"0\" x2=\"229\" y2=\"14\" style=\"stroke-width:2\" />\n",
       "\n",
       "  <!-- Colored Rectangle -->\n",
       "  <polygon points=\"95.0,0.0 215.0,0.0 229.9485979497544,14.948597949754403 109.9485979497544,14.948597949754403\" style=\"fill:#ECB172A0;stroke-width:0\"/>\n",
       "\n",
       "  <!-- Horizontal lines -->\n",
       "  <line x1=\"109\" y1=\"14\" x2=\"229\" y2=\"14\" style=\"stroke-width:2\" />\n",
       "  <line x1=\"109\" y1=\"60\" x2=\"229\" y2=\"60\" />\n",
       "  <line x1=\"109\" y1=\"105\" x2=\"229\" y2=\"105\" />\n",
       "  <line x1=\"109\" y1=\"128\" x2=\"229\" y2=\"128\" style=\"stroke-width:2\" />\n",
       "\n",
       "  <!-- Vertical lines -->\n",
       "  <line x1=\"109\" y1=\"14\" x2=\"109\" y2=\"128\" style=\"stroke-width:2\" />\n",
       "  <line x1=\"155\" y1=\"14\" x2=\"155\" y2=\"128\" />\n",
       "  <line x1=\"200\" y1=\"14\" x2=\"200\" y2=\"128\" />\n",
       "  <line x1=\"229\" y1=\"14\" x2=\"229\" y2=\"128\" style=\"stroke-width:2\" />\n",
       "\n",
       "  <!-- Colored Rectangle -->\n",
       "  <polygon points=\"109.9485979497544,14.948597949754403 229.9485979497544,14.948597949754403 229.9485979497544,128.9063913596026 109.9485979497544,128.9063913596026\" style=\"fill:#ECB172A0;stroke-width:0\"/>\n",
       "\n",
       "  <!-- Text -->\n",
       "  <text x=\"169.948598\" y=\"148.906391\" font-size=\"1.0rem\" font-weight=\"100\" text-anchor=\"middle\" >2701</text>\n",
       "  <text x=\"249.948598\" y=\"71.927495\" font-size=\"1.0rem\" font-weight=\"100\" text-anchor=\"middle\" transform=\"rotate(-90,249.948598,71.927495)\">2565</text>\n",
       "  <text x=\"92.474299\" y=\"141.432092\" font-size=\"1.0rem\" font-weight=\"100\" text-anchor=\"middle\" transform=\"rotate(45,92.474299,141.432092)\">1</text>\n",
       "</svg>\n",
       "        </td>\n",
       "    </tr>\n",
       "</table></div></div></li><li class='xr-section-item'><input id='section-18c25c43-1c8d-4e30-802d-121a015adbcd' class='xr-section-summary-in' type='checkbox'  checked><label for='section-18c25c43-1c8d-4e30-802d-121a015adbcd' class='xr-section-summary' >Coordinates: <span>(15)</span></label><div class='xr-section-inline-details'></div><div class='xr-section-details'><ul class='xr-var-list'><li class='xr-var-item'><div class='xr-var-name'><span class='xr-has-index'>time</span></div><div class='xr-var-dims'>(time)</div><div class='xr-var-dtype'>datetime64[ns]</div><div class='xr-var-preview xr-preview'>2017-01-01 ... 2021-01-01</div><input id='attrs-89aeddb1-9ae3-43d8-a816-9ddfa2435ace' class='xr-var-attrs-in' type='checkbox' disabled><label for='attrs-89aeddb1-9ae3-43d8-a816-9ddfa2435ace' title='Show/Hide attributes'><svg class='icon xr-icon-file-text2'><use xlink:href='#icon-file-text2'></use></svg></label><input id='data-65470181-f4ad-4ce0-8ab6-4793f4922952' class='xr-var-data-in' type='checkbox'><label for='data-65470181-f4ad-4ce0-8ab6-4793f4922952' title='Show/Hide data repr'><svg class='icon xr-icon-database'><use xlink:href='#icon-database'></use></svg></label><div class='xr-var-attrs'><dl class='xr-attrs'></dl></div><div class='xr-var-data'><pre>array([&#x27;2017-01-01T00:00:00.000000000&#x27;, &#x27;2018-01-01T00:00:00.000000000&#x27;,\n",
       "       &#x27;2019-01-01T00:00:00.000000000&#x27;, &#x27;2020-01-01T00:00:00.000000000&#x27;,\n",
       "       &#x27;2021-01-01T00:00:00.000000000&#x27;], dtype=&#x27;datetime64[ns]&#x27;)</pre></div></li><li class='xr-var-item'><div class='xr-var-name'><span>id</span></div><div class='xr-var-dims'>(time)</div><div class='xr-var-dtype'>&lt;U8</div><div class='xr-var-preview xr-preview'>&#x27;47P-2017&#x27; ... &#x27;47P-2021&#x27;</div><input id='attrs-73cc1616-69d5-4432-a537-b997fe5dd660' class='xr-var-attrs-in' type='checkbox' disabled><label for='attrs-73cc1616-69d5-4432-a537-b997fe5dd660' title='Show/Hide attributes'><svg class='icon xr-icon-file-text2'><use xlink:href='#icon-file-text2'></use></svg></label><input id='data-9836c14d-212e-4f0e-b20b-92c1211f6e67' class='xr-var-data-in' type='checkbox'><label for='data-9836c14d-212e-4f0e-b20b-92c1211f6e67' title='Show/Hide data repr'><svg class='icon xr-icon-database'><use xlink:href='#icon-database'></use></svg></label><div class='xr-var-attrs'><dl class='xr-attrs'></dl></div><div class='xr-var-data'><pre>array([&#x27;47P-2017&#x27;, &#x27;47P-2018&#x27;, &#x27;47P-2019&#x27;, &#x27;47P-2020&#x27;, &#x27;47P-2021&#x27;],\n",
       "      dtype=&#x27;&lt;U8&#x27;)</pre></div></li><li class='xr-var-item'><div class='xr-var-name'><span class='xr-has-index'>band</span></div><div class='xr-var-dims'>(band)</div><div class='xr-var-dtype'>&lt;U4</div><div class='xr-var-preview xr-preview'>&#x27;data&#x27;</div><input id='attrs-7e95f1f6-a50b-4af9-8908-8873d65c3903' class='xr-var-attrs-in' type='checkbox' disabled><label for='attrs-7e95f1f6-a50b-4af9-8908-8873d65c3903' title='Show/Hide attributes'><svg class='icon xr-icon-file-text2'><use xlink:href='#icon-file-text2'></use></svg></label><input id='data-ac49f3af-fe2a-4621-a239-37b02ca99380' class='xr-var-data-in' type='checkbox'><label for='data-ac49f3af-fe2a-4621-a239-37b02ca99380' title='Show/Hide data repr'><svg class='icon xr-icon-database'><use xlink:href='#icon-database'></use></svg></label><div class='xr-var-attrs'><dl class='xr-attrs'></dl></div><div class='xr-var-data'><pre>array([&#x27;data&#x27;], dtype=&#x27;&lt;U4&#x27;)</pre></div></li><li class='xr-var-item'><div class='xr-var-name'><span class='xr-has-index'>x</span></div><div class='xr-var-dims'>(x)</div><div class='xr-var-dtype'>float64</div><div class='xr-var-preview xr-preview'>6.174e+05 6.174e+05 ... 6.444e+05</div><input id='attrs-ca4446e8-9538-4247-bef2-c1b90482d6e7' class='xr-var-attrs-in' type='checkbox' disabled><label for='attrs-ca4446e8-9538-4247-bef2-c1b90482d6e7' title='Show/Hide attributes'><svg class='icon xr-icon-file-text2'><use xlink:href='#icon-file-text2'></use></svg></label><input id='data-af9795b1-ca28-4744-9862-22c09f91cc4f' class='xr-var-data-in' type='checkbox'><label for='data-af9795b1-ca28-4744-9862-22c09f91cc4f' title='Show/Hide data repr'><svg class='icon xr-icon-database'><use xlink:href='#icon-database'></use></svg></label><div class='xr-var-attrs'><dl class='xr-attrs'></dl></div><div class='xr-var-data'><pre>array([617370., 617380., 617390., ..., 644350., 644360., 644370.])</pre></div></li><li class='xr-var-item'><div class='xr-var-name'><span class='xr-has-index'>y</span></div><div class='xr-var-dims'>(y)</div><div class='xr-var-dtype'>float64</div><div class='xr-var-preview xr-preview'>1.547e+06 1.547e+06 ... 1.521e+06</div><input id='attrs-c8fb157b-bf54-4700-be6f-7a110132ffb0' class='xr-var-attrs-in' type='checkbox' disabled><label for='attrs-c8fb157b-bf54-4700-be6f-7a110132ffb0' title='Show/Hide attributes'><svg class='icon xr-icon-file-text2'><use xlink:href='#icon-file-text2'></use></svg></label><input id='data-0d514c77-f2f2-420a-aa56-4ef18fbfa0d7' class='xr-var-data-in' type='checkbox'><label for='data-0d514c77-f2f2-420a-aa56-4ef18fbfa0d7' title='Show/Hide data repr'><svg class='icon xr-icon-database'><use xlink:href='#icon-database'></use></svg></label><div class='xr-var-attrs'><dl class='xr-attrs'></dl></div><div class='xr-var-data'><pre>array([1546590., 1546580., 1546570., ..., 1520970., 1520960., 1520950.])</pre></div></li><li class='xr-var-item'><div class='xr-var-name'><span>proj:shape</span></div><div class='xr-var-dims'>()</div><div class='xr-var-dtype'>object</div><div class='xr-var-preview xr-preview'>{66148, 88695}</div><input id='attrs-b517cbce-0559-4fdc-9f13-4fbcffa9a11c' class='xr-var-attrs-in' type='checkbox' disabled><label for='attrs-b517cbce-0559-4fdc-9f13-4fbcffa9a11c' title='Show/Hide attributes'><svg class='icon xr-icon-file-text2'><use xlink:href='#icon-file-text2'></use></svg></label><input id='data-05fe1a33-137d-4be8-8767-4eb65e68d24c' class='xr-var-data-in' type='checkbox'><label for='data-05fe1a33-137d-4be8-8767-4eb65e68d24c' title='Show/Hide data repr'><svg class='icon xr-icon-database'><use xlink:href='#icon-database'></use></svg></label><div class='xr-var-attrs'><dl class='xr-attrs'></dl></div><div class='xr-var-data'><pre>array({66148, 88695}, dtype=object)</pre></div></li><li class='xr-var-item'><div class='xr-var-name'><span>io:supercell_id</span></div><div class='xr-var-dims'>()</div><div class='xr-var-dtype'>&lt;U3</div><div class='xr-var-preview xr-preview'>&#x27;47P&#x27;</div><input id='attrs-7b10a697-173a-4c33-a67d-c1c943104bdb' class='xr-var-attrs-in' type='checkbox' disabled><label for='attrs-7b10a697-173a-4c33-a67d-c1c943104bdb' title='Show/Hide attributes'><svg class='icon xr-icon-file-text2'><use xlink:href='#icon-file-text2'></use></svg></label><input id='data-831fa4f0-56e3-46cc-9fb3-ff7b893a2f3a' class='xr-var-data-in' type='checkbox'><label for='data-831fa4f0-56e3-46cc-9fb3-ff7b893a2f3a' title='Show/Hide data repr'><svg class='icon xr-icon-database'><use xlink:href='#icon-database'></use></svg></label><div class='xr-var-attrs'><dl class='xr-attrs'></dl></div><div class='xr-var-data'><pre>array(&#x27;47P&#x27;, dtype=&#x27;&lt;U3&#x27;)</pre></div></li><li class='xr-var-item'><div class='xr-var-name'><span>proj:epsg</span></div><div class='xr-var-dims'>()</div><div class='xr-var-dtype'>int64</div><div class='xr-var-preview xr-preview'>32647</div><input id='attrs-c182a6be-deb8-406d-8858-5605046008aa' class='xr-var-attrs-in' type='checkbox' disabled><label for='attrs-c182a6be-deb8-406d-8858-5605046008aa' title='Show/Hide attributes'><svg class='icon xr-icon-file-text2'><use xlink:href='#icon-file-text2'></use></svg></label><input id='data-5e9176e3-c15e-429b-9bb6-2699f231703f' class='xr-var-data-in' type='checkbox'><label for='data-5e9176e3-c15e-429b-9bb6-2699f231703f' title='Show/Hide data repr'><svg class='icon xr-icon-database'><use xlink:href='#icon-database'></use></svg></label><div class='xr-var-attrs'><dl class='xr-attrs'></dl></div><div class='xr-var-data'><pre>array(32647)</pre></div></li><li class='xr-var-item'><div class='xr-var-name'><span>io:tile_id</span></div><div class='xr-var-dims'>()</div><div class='xr-var-dtype'>&lt;U3</div><div class='xr-var-preview xr-preview'>&#x27;47P&#x27;</div><input id='attrs-ba89ebbf-cdf7-4c86-9e6e-dc9d5212bb27' class='xr-var-attrs-in' type='checkbox' disabled><label for='attrs-ba89ebbf-cdf7-4c86-9e6e-dc9d5212bb27' title='Show/Hide attributes'><svg class='icon xr-icon-file-text2'><use xlink:href='#icon-file-text2'></use></svg></label><input id='data-89f91600-c896-43c1-814c-43c1e8e884db' class='xr-var-data-in' type='checkbox'><label for='data-89f91600-c896-43c1-814c-43c1e8e884db' title='Show/Hide data repr'><svg class='icon xr-icon-database'><use xlink:href='#icon-database'></use></svg></label><div class='xr-var-attrs'><dl class='xr-attrs'></dl></div><div class='xr-var-data'><pre>array(&#x27;47P&#x27;, dtype=&#x27;&lt;U3&#x27;)</pre></div></li><li class='xr-var-item'><div class='xr-var-name'><span>proj:bbox</span></div><div class='xr-var-dims'>()</div><div class='xr-var-dtype'>object</div><div class='xr-var-preview xr-preview'>{169263.29477130197, 1771251.183...</div><input id='attrs-cdebf5c0-4276-46ce-828c-c614d47c82c8' class='xr-var-attrs-in' type='checkbox' disabled><label for='attrs-cdebf5c0-4276-46ce-828c-c614d47c82c8' title='Show/Hide attributes'><svg class='icon xr-icon-file-text2'><use xlink:href='#icon-file-text2'></use></svg></label><input id='data-d92a42bf-bb4f-42b1-9f62-f3f5de4c1b8c' class='xr-var-data-in' type='checkbox'><label for='data-d92a42bf-bb4f-42b1-9f62-f3f5de4c1b8c' title='Show/Hide data repr'><svg class='icon xr-icon-database'><use xlink:href='#icon-database'></use></svg></label><div class='xr-var-attrs'><dl class='xr-attrs'></dl></div><div class='xr-var-data'><pre>array({169263.29477130197, 1771251.1832111736, 884301.1832111736, 830743.294771302},\n",
       "      dtype=object)</pre></div></li><li class='xr-var-item'><div class='xr-var-name'><span>end_datetime</span></div><div class='xr-var-dims'>(time)</div><div class='xr-var-dtype'>&lt;U20</div><div class='xr-var-preview xr-preview'>&#x27;2018-01-01T00:00:00Z&#x27; ... &#x27;2022...</div><input id='attrs-5d8fd8c9-6b6d-49d5-a503-61ccedd0bc8e' class='xr-var-attrs-in' type='checkbox' disabled><label for='attrs-5d8fd8c9-6b6d-49d5-a503-61ccedd0bc8e' title='Show/Hide attributes'><svg class='icon xr-icon-file-text2'><use xlink:href='#icon-file-text2'></use></svg></label><input id='data-8d2e4180-98eb-4233-840c-b47810c8057a' class='xr-var-data-in' type='checkbox'><label for='data-8d2e4180-98eb-4233-840c-b47810c8057a' title='Show/Hide data repr'><svg class='icon xr-icon-database'><use xlink:href='#icon-database'></use></svg></label><div class='xr-var-attrs'><dl class='xr-attrs'></dl></div><div class='xr-var-data'><pre>array([&#x27;2018-01-01T00:00:00Z&#x27;, &#x27;2019-01-01T00:00:00Z&#x27;,\n",
       "       &#x27;2020-01-01T00:00:00Z&#x27;, &#x27;2021-01-01T00:00:00Z&#x27;,\n",
       "       &#x27;2022-01-01T00:00:00Z&#x27;], dtype=&#x27;&lt;U20&#x27;)</pre></div></li><li class='xr-var-item'><div class='xr-var-name'><span>proj:transform</span></div><div class='xr-var-dims'>()</div><div class='xr-var-dtype'>object</div><div class='xr-var-preview xr-preview'>{0.0, 10.0, 169263.29477130197, ...</div><input id='attrs-350206cc-99b1-4d2c-a19a-65f021742e59' class='xr-var-attrs-in' type='checkbox' disabled><label for='attrs-350206cc-99b1-4d2c-a19a-65f021742e59' title='Show/Hide attributes'><svg class='icon xr-icon-file-text2'><use xlink:href='#icon-file-text2'></use></svg></label><input id='data-89d66a20-024b-423e-8ade-8d42a4b9056a' class='xr-var-data-in' type='checkbox'><label for='data-89d66a20-024b-423e-8ade-8d42a4b9056a' title='Show/Hide data repr'><svg class='icon xr-icon-database'><use xlink:href='#icon-database'></use></svg></label><div class='xr-var-attrs'><dl class='xr-attrs'></dl></div><div class='xr-var-data'><pre>array({0.0, 10.0, 169263.29477130197, 1771251.1832111736, -10.0},\n",
       "      dtype=object)</pre></div></li><li class='xr-var-item'><div class='xr-var-name'><span>start_datetime</span></div><div class='xr-var-dims'>(time)</div><div class='xr-var-dtype'>&lt;U20</div><div class='xr-var-preview xr-preview'>&#x27;2017-01-01T00:00:00Z&#x27; ... &#x27;2021...</div><input id='attrs-a1089343-0d9a-4ed0-b3db-a629f0ceb723' class='xr-var-attrs-in' type='checkbox' disabled><label for='attrs-a1089343-0d9a-4ed0-b3db-a629f0ceb723' title='Show/Hide attributes'><svg class='icon xr-icon-file-text2'><use xlink:href='#icon-file-text2'></use></svg></label><input id='data-72a948e1-8119-4930-a995-f51412e92bbb' class='xr-var-data-in' type='checkbox'><label for='data-72a948e1-8119-4930-a995-f51412e92bbb' title='Show/Hide data repr'><svg class='icon xr-icon-database'><use xlink:href='#icon-database'></use></svg></label><div class='xr-var-attrs'><dl class='xr-attrs'></dl></div><div class='xr-var-data'><pre>array([&#x27;2017-01-01T00:00:00Z&#x27;, &#x27;2018-01-01T00:00:00Z&#x27;,\n",
       "       &#x27;2019-01-01T00:00:00Z&#x27;, &#x27;2020-01-01T00:00:00Z&#x27;,\n",
       "       &#x27;2021-01-01T00:00:00Z&#x27;], dtype=&#x27;&lt;U20&#x27;)</pre></div></li><li class='xr-var-item'><div class='xr-var-name'><span>raster:bands</span></div><div class='xr-var-dims'>()</div><div class='xr-var-dtype'>object</div><div class='xr-var-preview xr-preview'>{&#x27;nodata&#x27;: 0, &#x27;spatial_resolutio...</div><input id='attrs-f1ef485c-db9e-4b70-9ee9-900f69173563' class='xr-var-attrs-in' type='checkbox' disabled><label for='attrs-f1ef485c-db9e-4b70-9ee9-900f69173563' title='Show/Hide attributes'><svg class='icon xr-icon-file-text2'><use xlink:href='#icon-file-text2'></use></svg></label><input id='data-6bf0d146-27da-4cb8-9968-0cba4163a61b' class='xr-var-data-in' type='checkbox'><label for='data-6bf0d146-27da-4cb8-9968-0cba4163a61b' title='Show/Hide data repr'><svg class='icon xr-icon-database'><use xlink:href='#icon-database'></use></svg></label><div class='xr-var-attrs'><dl class='xr-attrs'></dl></div><div class='xr-var-data'><pre>array({&#x27;nodata&#x27;: 0, &#x27;spatial_resolution&#x27;: 10}, dtype=object)</pre></div></li><li class='xr-var-item'><div class='xr-var-name'><span>epsg</span></div><div class='xr-var-dims'>()</div><div class='xr-var-dtype'>int64</div><div class='xr-var-preview xr-preview'>32647</div><input id='attrs-fe760450-eb30-4713-8486-f52cc070497f' class='xr-var-attrs-in' type='checkbox' disabled><label for='attrs-fe760450-eb30-4713-8486-f52cc070497f' title='Show/Hide attributes'><svg class='icon xr-icon-file-text2'><use xlink:href='#icon-file-text2'></use></svg></label><input id='data-0f2f3661-4005-49cd-a065-8cab12459283' class='xr-var-data-in' type='checkbox'><label for='data-0f2f3661-4005-49cd-a065-8cab12459283' title='Show/Hide data repr'><svg class='icon xr-icon-database'><use xlink:href='#icon-database'></use></svg></label><div class='xr-var-attrs'><dl class='xr-attrs'></dl></div><div class='xr-var-data'><pre>array(32647)</pre></div></li></ul></div></li><li class='xr-section-item'><input id='section-6207dfa9-a133-4d25-ac9c-d40b09148bab' class='xr-section-summary-in' type='checkbox'  checked><label for='section-6207dfa9-a133-4d25-ac9c-d40b09148bab' class='xr-section-summary' >Attributes: <span>(4)</span></label><div class='xr-section-inline-details'></div><div class='xr-section-details'><dl class='xr-attrs'><dt><span>spec :</span></dt><dd>RasterSpec(epsg=32647, bounds=(617370.0, 1520940.0, 644380.0, 1546590.0), resolutions_xy=(10.0, 10.0))</dd><dt><span>crs :</span></dt><dd>epsg:32647</dd><dt><span>transform :</span></dt><dd>| 10.00, 0.00, 617370.00|\n",
       "| 0.00,-10.00, 1546590.00|\n",
       "| 0.00, 0.00, 1.00|</dd><dt><span>resolution :</span></dt><dd>10.0</dd></dl></div></li></ul></div></div>"
      ],
      "text/plain": [
       "<xarray.DataArray 'stackstac-ce08a50cd72f76d1f9b89eaf9fe64540' (time: 5,\n",
       "                                                                band: 1,\n",
       "                                                                y: 2565, x: 2701)>\n",
       "dask.array<getitem, shape=(5, 1, 2565, 2701), dtype=uint8, chunksize=(1, 1, 1024, 1024), chunktype=numpy.ndarray>\n",
       "Coordinates: (12/15)\n",
       "  * time             (time) datetime64[ns] 2017-01-01 2018-01-01 ... 2021-01-01\n",
       "    id               (time) <U8 '47P-2017' '47P-2018' ... '47P-2020' '47P-2021'\n",
       "  * band             (band) <U4 'data'\n",
       "  * x                (x) float64 6.174e+05 6.174e+05 ... 6.444e+05 6.444e+05\n",
       "  * y                (y) float64 1.547e+06 1.547e+06 ... 1.521e+06 1.521e+06\n",
       "    proj:shape       object {66148, 88695}\n",
       "    ...               ...\n",
       "    proj:bbox        object {169263.29477130197, 1771251.1832111736, 884301.1...\n",
       "    end_datetime     (time) <U20 '2018-01-01T00:00:00Z' ... '2022-01-01T00:00...\n",
       "    proj:transform   object {0.0, 10.0, 169263.29477130197, 1771251.183211173...\n",
       "    start_datetime   (time) <U20 '2017-01-01T00:00:00Z' ... '2021-01-01T00:00...\n",
       "    raster:bands     object {'nodata': 0, 'spatial_resolution': 10}\n",
       "    epsg             int64 32647\n",
       "Attributes:\n",
       "    spec:        RasterSpec(epsg=32647, bounds=(617370.0, 1520940.0, 644380.0...\n",
       "    crs:         epsg:32647\n",
       "    transform:   | 10.00, 0.00, 617370.00|\\n| 0.00,-10.00, 1546590.00|\\n| 0.0...\n",
       "    resolution:  10.0"
      ]
     },
     "execution_count": 4,
     "metadata": {},
     "output_type": "execute_result"
    }
   ],
   "source": [
    "# The STAC metadata contains some information we'll want to use when creating\n",
    "# our merged dataset. Get the EPSG code of the first item and the nodata value.\n",
    "item = items[0]\n",
    "\n",
    "# Create a single DataArray from out multiple resutls with the corresponding\n",
    "# rasters projected to a single CRS. Note that we set the dtype to ubyte, which\n",
    "# matches our data, since stackstac will use float64 by default.\n",
    "stack = (\n",
    "    stackstac.stack(\n",
    "        items,\n",
    "        dtype=np.ubyte,\n",
    "        fill_value=255,\n",
    "        bounds_latlon=bbox_of_interest,\n",
    "        sortby_date=False,\n",
    "    )\n",
    "    .assign_coords(\n",
    "        time=pd.to_datetime([item.properties[\"start_datetime\"] for item in items])\n",
    "        .tz_convert(None)\n",
    "        .to_numpy()\n",
    "    )\n",
    "    .sortby(\"time\")\n",
    ")\n",
    "\n",
    "stack"
   ]
  },
  {
   "cell_type": "markdown",
   "id": "2c8b22c9-9260-48af-8dc9-bb46fb531673",
   "metadata": {},
   "source": [
    "Start up a local Dask cluster to allow us to do parallel reads. Use the following URL to open a dashboard in the Hub's Dask Extension. "
   ]
  },
  {
   "cell_type": "code",
   "execution_count": 5,
   "id": "2161565e-163c-4996-a5cd-0c6b14390eee",
   "metadata": {},
   "outputs": [
    {
     "name": "stdout",
     "output_type": "stream",
     "text": [
      "/proxy/8787/status\n"
     ]
    }
   ],
   "source": [
    "client = dask.distributed.Client(processes=False)\n",
    "print(f\"/proxy/{client.scheduler_info()['services']['dashboard']}/status\")"
   ]
  },
  {
   "cell_type": "markdown",
   "id": "a0e8e4e2-c477-4a43-885e-59fc1f5a86fb",
   "metadata": {},
   "source": [
    "### Mosaic and clip the raster\n",
    "\n",
    "So far, we haven't read in any data. Stackstac has used the STAC metadata to construct a DataArray that will contain our Item data. Let's mosaic the rasters across the `time` dimension (remember, they're all from a single synthesized \"time\") and drop the single `band` dimension. Finally, we ask Dask to read the actual data by calling `.compute()`."
   ]
  },
  {
   "cell_type": "code",
   "execution_count": 6,
   "id": "5108587f-10d1-4b52-9861-3aeb161bce46",
   "metadata": {},
   "outputs": [],
   "source": [
    "merged = stack.squeeze().compute()"
   ]
  },
  {
   "cell_type": "markdown",
   "id": "b5f31c78-fe4d-4b0d-bdcb-0289abc7e860",
   "metadata": {},
   "source": [
    "Now a quick plot to check that we've got the data we want."
   ]
  },
  {
   "cell_type": "code",
   "execution_count": 7,
   "id": "534e9b80-3c86-4029-a236-14653df64333",
   "metadata": {},
   "outputs": [
    {
     "data": {
      "text/html": [
       "<img src=\"https://ai4edatasetspublicassets.blob.core.windows.net/assets/notebook-output/datasets-io-lulc-io-lulc-9-class-example.ipynb/7.png\"/>"
      ],
      "text/plain": [
       "<Figure size 1600x300 with 6 Axes>"
      ]
     },
     "metadata": {},
     "output_type": "display_data"
    }
   ],
   "source": [
    "g = merged.plot(col=\"time\")\n",
    "for ax in g.axes.flat:\n",
    "    ax.set_axis_off()"
   ]
  },
  {
   "cell_type": "markdown",
   "id": "cc3c5100-12f2-4488-a19a-cc174efeee6e",
   "metadata": {},
   "source": [
    "It looks good, but it doesn't look like a land cover map. The source GeoTIFFs contain a colormap and the STAC metadata contains the class names. We'll open one of the source files just to read this metadata and construct the right colors and names for our plot."
   ]
  },
  {
   "cell_type": "code",
   "execution_count": 8,
   "id": "94b19cb8-bfe1-47fb-bdcf-676c62057ab0",
   "metadata": {},
   "outputs": [
    {
     "data": {
      "text/plain": [
       "{'No Data': 0,\n",
       " 'Water': 1,\n",
       " 'Trees': 2,\n",
       " 'Flooded vegetation': 4,\n",
       " 'Crops': 5,\n",
       " 'Built area': 7,\n",
       " 'Bare ground': 8,\n",
       " 'Snow/ice': 9,\n",
       " 'Clouds': 10,\n",
       " 'Rangeland': 11}"
      ]
     },
     "execution_count": 8,
     "metadata": {},
     "output_type": "execute_result"
    }
   ],
   "source": [
    "from pystac.extensions.item_assets import ItemAssetsExtension\n",
    "\n",
    "collection = catalog.get_collection(\"io-lulc-9-class\")\n",
    "ia = ItemAssetsExtension.ext(collection)\n",
    "\n",
    "x = ia.item_assets[\"data\"]\n",
    "class_names = {x[\"summary\"]: x[\"values\"][0] for x in x.properties[\"file:values\"]}\n",
    "values_to_classes = {v: k for k, v in class_names.items()}\n",
    "class_count = len(class_names)\n",
    "class_names"
   ]
  },
  {
   "cell_type": "code",
   "execution_count": 9,
   "id": "dc1de1fd-ecd8-48d0-b378-d33abb81b154",
   "metadata": {},
   "outputs": [],
   "source": [
    "with rasterio.open(item.assets[\"data\"].href) as src:\n",
    "    colormap_def = src.colormap(1)  # get metadata colormap for band 1\n",
    "    colormap = [\n",
    "        np.array(colormap_def[i]) / 255 for i in range(max(class_names.values()))\n",
    "    ]  # transform to matplotlib color format\n",
    "\n",
    "cmap = ListedColormap(colormap)"
   ]
  },
  {
   "cell_type": "code",
   "execution_count": 10,
   "id": "b9d365ca-a063-4640-a00f-731f340f40d3",
   "metadata": {},
   "outputs": [
    {
     "data": {
      "text/html": [
       "<img src=\"https://ai4edatasetspublicassets.blob.core.windows.net/assets/notebook-output/datasets-io-lulc-io-lulc-9-class-example.ipynb/10.png\"/>"
      ],
      "text/plain": [
       "<Figure size 1600x600 with 6 Axes>"
      ]
     },
     "metadata": {},
     "output_type": "display_data"
    }
   ],
   "source": [
    "vmin = 0\n",
    "vmax = max(class_names.values())\n",
    "epsg = merged.epsg.item()\n",
    "\n",
    "p = merged.plot(\n",
    "    subplot_kws=dict(projection=ccrs.epsg(epsg)),\n",
    "    col=\"time\",\n",
    "    transform=ccrs.epsg(epsg),\n",
    "    cmap=cmap,\n",
    "    vmin=vmin,\n",
    "    vmax=vmax,\n",
    "    figsize=(16, 6),\n",
    ")\n",
    "ticks = np.linspace(0.5, 10.5, 11)\n",
    "labels = [values_to_classes.get(i, \"\") for i in range(cmap.N)]\n",
    "p.cbar.set_ticks(ticks, labels=labels)\n",
    "p.cbar.set_label(\"Class\")"
   ]
  },
  {
   "cell_type": "markdown",
   "id": "e742d47e-dda6-4bdf-a441-854f23b3f752",
   "metadata": {},
   "source": [
    "That looks better. Let's also plot a histogram of the pixel values to see the distribution of land cover types within our area of interest. We can reuse the colormap we generated to help tie the two visualizations together."
   ]
  },
  {
   "cell_type": "code",
   "execution_count": 11,
   "id": "d777c3f6-f380-40d7-b7b9-3067b8e360a6",
   "metadata": {},
   "outputs": [
    {
     "data": {
      "text/html": [
       "<img src=\"https://ai4edatasetspublicassets.blob.core.windows.net/assets/notebook-output/datasets-io-lulc-io-lulc-9-class-example.ipynb/11.png\"/>"
      ],
      "text/plain": [
       "<Figure size 640x480 with 1 Axes>"
      ]
     },
     "metadata": {},
     "output_type": "display_data"
    }
   ],
   "source": [
    "colors = list(cmap.colors)\n",
    "\n",
    "ax = (\n",
    "    pd.value_counts(merged.data.ravel(), sort=False)\n",
    "    .sort_index()\n",
    "    .reindex(range(cmap.N), fill_value=0)\n",
    "    .rename(values_to_classes)\n",
    "    .plot.barh(color=colors, rot=0, width=0.9)\n",
    ")\n",
    "ax.set(\n",
    "    title=\"Distribution of Land Cover classes\",\n",
    "    ylabel=\"Landcover class\",\n",
    "    xlabel=\"Class count\",\n",
    ");"
   ]
  },
  {
   "cell_type": "markdown",
   "id": "00280f61-678f-4b7c-b8d0-7729bfce409c",
   "metadata": {},
   "source": [
    "We can make a similar plot per year."
   ]
  },
  {
   "cell_type": "code",
   "execution_count": 12,
   "id": "772505af-f2de-4929-b08a-d2d0c9bf3396",
   "metadata": {},
   "outputs": [],
   "source": [
    "df = merged.stack(pixel=(\"y\", \"x\")).T.to_pandas()\n",
    "\n",
    "counts = (\n",
    "    df.stack()\n",
    "    .rename(\"class\")\n",
    "    .reset_index()\n",
    "    .groupby(\"time\")[\"class\"]\n",
    "    .value_counts()\n",
    "    .nlargest(9)\n",
    "    .rename(\"count\")\n",
    "    .swaplevel()\n",
    "    .sort_index(ascending=False)\n",
    "    .rename(lambda x: x.year, level=\"time\")\n",
    ")\n",
    "\n",
    "colors = cmap(counts.index.get_level_values(\"class\") / cmap.N)"
   ]
  },
  {
   "cell_type": "code",
   "execution_count": 13,
   "id": "1ee17228-67cd-494b-870b-54e7a3e26706",
   "metadata": {},
   "outputs": [
    {
     "data": {
      "text/html": [
       "<img src=\"https://ai4edatasetspublicassets.blob.core.windows.net/assets/notebook-output/datasets-io-lulc-io-lulc-9-class-example.ipynb/13.png\"/>"
      ],
      "text/plain": [
       "<Figure size 640x480 with 1 Axes>"
      ]
     },
     "metadata": {},
     "output_type": "display_data"
    }
   ],
   "source": [
    "ax = counts.rename(values_to_classes, level=\"class\").plot.barh(color=colors, width=0.9)\n",
    "ax.set(xlabel=\"Class count\", title=\"Land Cover distribution per year\");"
   ]
  },
  {
   "cell_type": "markdown",
   "id": "bf1bd0df-e2f3-404d-9c7a-107026bb3f78",
   "metadata": {},
   "source": [
    "Finally, we can plot the transitions between years, to show which classes are transitioning to which other classes:"
   ]
  },
  {
   "cell_type": "code",
   "execution_count": 14,
   "id": "73125b84-3784-4237-8620-6cf6af74d94c",
   "metadata": {},
   "outputs": [
    {
     "data": {
      "text/html": [
       "<img src=\"https://ai4edatasetspublicassets.blob.core.windows.net/assets/notebook-output/datasets-io-lulc-io-lulc-9-class-example.ipynb/14.png\"/>"
      ],
      "text/plain": [
       "<Figure size 640x480 with 2 Axes>"
      ]
     },
     "metadata": {},
     "output_type": "display_data"
    }
   ],
   "source": [
    "import seaborn as sns\n",
    "\n",
    "by_year = df.groupby(\"2017-01-01\")[\"2018-01-01\"].value_counts()\n",
    "\n",
    "years = by_year.index.levels[0]\n",
    "classes = by_year.index.levels[1]\n",
    "\n",
    "idx = pd.MultiIndex.from_product([years, classes])\n",
    "transitions = by_year.reindex(idx, fill_value=0)\n",
    "by_year[by_year.index.get_level_values(0) == by_year.index.get_level_values(1)] = np.nan\n",
    "\n",
    "transitions = by_year.unstack().rename(\n",
    "    columns=values_to_classes, index=values_to_classes\n",
    ")\n",
    "\n",
    "sns.heatmap(transitions, cmap=\"OrRd\");"
   ]
  }
 ],
 "metadata": {
  "kernelspec": {
   "display_name": "Python 3 (ipykernel)",
   "language": "python",
   "name": "python3"
  },
  "language_info": {
   "codemirror_mode": {
    "name": "ipython",
    "version": 3
   },
   "file_extension": ".py",
   "mimetype": "text/x-python",
   "name": "python",
   "nbconvert_exporter": "python",
   "pygments_lexer": "ipython3",
   "version": "3.10.6"
  },
  "widgets": {
   "application/vnd.jupyter.widget-state+json": {
    "state": {
     "1ccb6f1cbf0b4464bfdc09bf9c4e425f": {
      "model_module": "@jupyter-widgets/controls",
      "model_module_version": "1.5.0",
      "model_name": "VBoxModel",
      "state": {
       "layout": "IPY_MODEL_adc4177469144b48b249da2e1b858700"
      }
     },
     "adc4177469144b48b249da2e1b858700": {
      "model_module": "@jupyter-widgets/base",
      "model_module_version": "1.2.0",
      "model_name": "LayoutModel",
      "state": {}
     }
    },
    "version_major": 2,
    "version_minor": 0
   }
  }
 },
 "nbformat": 4,
 "nbformat_minor": 5
}
