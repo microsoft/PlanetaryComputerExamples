{
 "cells": [
  {
   "cell_type": "markdown",
   "id": "d2583da9-3f1e-40e6-b81d-700f26e89daa",
   "metadata": {
    "tags": []
   },
   "source": [
    "## Accessing GOES Geostationary Lightning Mapper (GLM) with the Planetary Computer STAC API\n",
    "\n",
    "The [Geostationary Lightning Mapper (GLM)](https://www.goes-r.gov/spacesegment/glm.html) is a single-channel, near-infrared optical transient detector that can detect the momentary changes in an optical scene, indicating the presence of lightning. GLM measures total lightning (in-cloud, cloud-to-cloud and cloud-to-ground) activity continuously over the Americas and adjacent ocean regions with near-uniform spatial resolution of approximately 10 km. GLM collects information such as the frequency, location and extent of lightning discharges to identify intensifying thunderstorms and tropical cyclones. Trends in total lightning available from the GLM provide critical information to forecasters, allowing them to focus on developing severe storms much earlier and before these storms produce damaging winds, hail or even tornadoes.\n",
    "\n",
    "The GLM data product consists of a hierarchy of earth-located lightning radiant energy measures including events, groups, and flashes:\n",
    "\n",
    "- Lightning \"events\" are detected by the instrument.\n",
    "- Lightning \"groups\" are a collection of one or more lightning events that satisfy temporal and spatial coincidence thresholds.\n",
    "- Similarly, lightning \"flashes\" are a collection of one or more lightning groups that satisfy temporal and spatial coincidence thresholds.\n",
    "The product includes the relationship among lightning events, groups, and flashes, and the area coverage of lightning groups and flashes. The product also includes processing and data quality metadata, and satellite state and location information.\n",
    "\n",
    "This Collection contains GLM L2 data in tabular ([GeoParquet](https://github.com/opengeospatial/geoparquet)) format and the original source NetCDF format. The NetCDF files are delivered to Azure as part of the [NOAA Open Data Dissemination (NODD) Program](https://www.noaa.gov/information-technology/open-data-dissemination)."
   ]
  },
  {
   "cell_type": "markdown",
   "id": "459cd92c-22e1-4976-8a7d-65187bd34fd2",
   "metadata": {},
   "source": [
    "### Data Access\n",
    "This notebook works with or without an API key, but you will be given more permissive access to the data with an API key. The [Planetary Computer Hub](https://planetarycomputer.microsoft.com/compute) sets the environment variable \"PC_SDK_SUBSCRIPTION_KEY\" when your server is started. The API key may be manually set via the following code:\n",
    "\n",
    "```python\n",
    "pc.settings.set_subscription_key(<YOUR API Key>)\n",
    "```"
   ]
  },
  {
   "cell_type": "markdown",
   "id": "ecb76ce5-b20f-491a-9033-fc53e2c934a6",
   "metadata": {},
   "source": [
    "The datasets hosted by the Planetary Computer are available from [Azure Blob Storage](https://docs.microsoft.com/en-us/azure/storage/blobs/). We'll use [pystac-client](https://pystac-client.readthedocs.io/) to search the Planetary Computer's [STAC API](https://planetarycomputer.microsoft.com/api/stac/v1/docs) for the subset of the data that we care about, and then we'll load the data directly from Azure Blob Storage. We'll specify a `modifier` so that we can access the data stored in the Planetary Computer's private Blob Storage Containers. See [Reading from the STAC API](https://planetarycomputer.microsoft.com/docs/quickstarts/reading-stac/) and [Using tokens for data access](https://planetarycomputer.microsoft.com/docs/concepts/sas/) for more. "
   ]
  },
  {
   "cell_type": "code",
   "execution_count": 1,
   "id": "f3f030fa-8639-4b4e-b0a1-f3226375c28e",
   "metadata": {},
   "outputs": [],
   "source": [
    "import planetary_computer\n",
    "import pystac_client\n",
    "import rich.table\n",
    "\n",
    "# Open the Planetary Computer STAC API\n",
    "catalog = pystac_client.Client.open(\n",
    "    \"https://planetarycomputer-staging.microsoft.com/api/stac/v1/\",\n",
    "    modifier=planetary_computer.sign_inplace,\n",
    ")"
   ]
  },
  {
   "cell_type": "markdown",
   "id": "97e4f9bb-1313-46b2-916a-05709f1f2d4c",
   "metadata": {},
   "source": [
    "The GOES GLM product is queried by datetime and the \"GOES-16\" and \"GOES-17\" platforms. "
   ]
  },
  {
   "cell_type": "code",
   "execution_count": 2,
   "id": "63ddd01e-2ae3-4b5d-af8f-cdcbb56f0423",
   "metadata": {},
   "outputs": [
    {
     "data": {
      "text/plain": [
       "[<Item id=OR_GLM-L2-LCFA_G17_s20222990002400_e20222990003000>]"
      ]
     },
     "execution_count": 2,
     "metadata": {},
     "output_type": "execute_result"
    }
   ],
   "source": [
    "# Fetch the collection of interest and display available items\n",
    "search = catalog.search(\n",
    "    collections=\"goes-glm\",\n",
    "    datetime=\"2022-10-26T00:02:50Z\",\n",
    "    query={\"platform\": {\"eq\": \"GOES-17\"}},\n",
    ")\n",
    "items = list(search.get_items())\n",
    "items"
   ]
  },
  {
   "cell_type": "markdown",
   "id": "69f3564c-bd52-452d-875d-34d9309a64c9",
   "metadata": {},
   "source": [
    "### Available Assets"
   ]
  },
  {
   "cell_type": "markdown",
   "id": "cfd0f626-55bb-4bcf-a2b6-d276df55a0d4",
   "metadata": {},
   "source": [
    "Let's display the available assets and metadata for the GOES GLM product. "
   ]
  },
  {
   "cell_type": "code",
   "execution_count": 3,
   "id": "2cc1ebf2-1188-42db-90b5-17026d7770b7",
   "metadata": {},
   "outputs": [
    {
     "data": {
      "text/html": [
       "<pre style=\"white-space:pre;overflow-x:auto;line-height:normal;font-family:Menlo,'DejaVu Sans Mono',consolas,'Courier New',monospace\">┏━━━━━━━━━━━━━━━━━━━━┳━━━━━━━━━━━━━━━━━━━━━━━━━━━━━━━━━━━━━━━┓\n",
       "┃<span style=\"font-weight: bold\"> Key                </span>┃<span style=\"font-weight: bold\"> Value                                 </span>┃\n",
       "┡━━━━━━━━━━━━━━━━━━━━╇━━━━━━━━━━━━━━━━━━━━━━━━━━━━━━━━━━━━━━━┩\n",
       "│ netcdf             │ Original NetCDF4 file                 │\n",
       "│ geoparquet_events  │ Processed GeoParquet file for events  │\n",
       "│ geoparquet_groups  │ Processed GeoParquet file for groups  │\n",
       "│ geoparquet_flashes │ Processed GeoParquet file for flashes │\n",
       "└────────────────────┴───────────────────────────────────────┘\n",
       "</pre>\n"
      ],
      "text/plain": [
       "┏━━━━━━━━━━━━━━━━━━━━┳━━━━━━━━━━━━━━━━━━━━━━━━━━━━━━━━━━━━━━━┓\n",
       "┃\u001b[1m \u001b[0m\u001b[1mKey               \u001b[0m\u001b[1m \u001b[0m┃\u001b[1m \u001b[0m\u001b[1mValue                                \u001b[0m\u001b[1m \u001b[0m┃\n",
       "┡━━━━━━━━━━━━━━━━━━━━╇━━━━━━━━━━━━━━━━━━━━━━━━━━━━━━━━━━━━━━━┩\n",
       "│ netcdf             │ Original NetCDF4 file                 │\n",
       "│ geoparquet_events  │ Processed GeoParquet file for events  │\n",
       "│ geoparquet_groups  │ Processed GeoParquet file for groups  │\n",
       "│ geoparquet_flashes │ Processed GeoParquet file for flashes │\n",
       "└────────────────────┴───────────────────────────────────────┘\n"
      ]
     },
     "execution_count": 3,
     "metadata": {},
     "output_type": "execute_result"
    }
   ],
   "source": [
    "# Assets\n",
    "t = rich.table.Table(\"Key\", \"Value\")\n",
    "for key, asset in items[0].assets.items():\n",
    "    t.add_row(key, asset.title)\n",
    "t"
   ]
  },
  {
   "cell_type": "code",
   "execution_count": 4,
   "id": "1c6ae738-7e4d-4718-9c67-22783557bff6",
   "metadata": {},
   "outputs": [
    {
     "data": {
      "text/html": [
       "<pre style=\"white-space:pre;overflow-x:auto;line-height:normal;font-family:Menlo,'DejaVu Sans Mono',consolas,'Courier New',monospace\">┏━━━━━━━━━━━━━━━━━━━━━━━━━━━━━━━━━━━━━━┳━━━━━━━━━━━━━━━━━━━━━━━━━━━━━┓\n",
       "┃<span style=\"font-weight: bold\"> Key                                  </span>┃<span style=\"font-weight: bold\"> Value                       </span>┃\n",
       "┡━━━━━━━━━━━━━━━━━━━━━━━━━━━━━━━━━━━━━━╇━━━━━━━━━━━━━━━━━━━━━━━━━━━━━┩\n",
       "│ constellation                        │ GOES                        │\n",
       "│ datetime                             │ 2022-10-26T00:02:50Z        │\n",
       "│ end_datetime                         │ 2022-10-26T00:03:00.0Z      │\n",
       "│ goes:event_count                     │ 1110                        │\n",
       "│ goes:flash_count                     │ 34                          │\n",
       "│ goes:flash_time_threshold            │ 3.3299999237060547          │\n",
       "│ goes:group_count                     │ 523                         │\n",
       "│ goes:group_time_threshold            │ 0.0                         │\n",
       "│ goes:lightning_wavelength            │ 777.3699951171875           │\n",
       "│ goes:nominal_satellite_height        │ 35786.0234375               │\n",
       "│ goes:nominal_satellite_subpoint_lat  │ 0.0                         │\n",
       "│ goes:nominal_satellite_subpoint_lon  │ -137.1999969482422          │\n",
       "│ goes:orbital_slot                    │ West                        │\n",
       "│ goes:percent_navigated_L1b_events    │ 1.0                         │\n",
       "│ goes:percent_uncorrectable_L0_errors │ 0.0                         │\n",
       "│ goes:system_environment              │ OR                          │\n",
       "│ goes:yaw_flip_flag                   │ 2                           │\n",
       "│ gsd                                  │ 8000                        │\n",
       "│ instruments                          │ ['FM2']                     │\n",
       "│ mission                              │ GOES                        │\n",
       "│ platform                             │ GOES-17                     │\n",
       "│ processing:facility                  │ WCDAS                       │\n",
       "│ processing:level                     │ L2                          │\n",
       "│ proj:centroid                        │ {'lat': 0.0, 'lon': -137.0} │\n",
       "│ proj:epsg                            │ 4326                        │\n",
       "│ start_datetime                       │ 2022-10-26T00:02:40.0Z      │\n",
       "└──────────────────────────────────────┴─────────────────────────────┘\n",
       "</pre>\n"
      ],
      "text/plain": [
       "┏━━━━━━━━━━━━━━━━━━━━━━━━━━━━━━━━━━━━━━┳━━━━━━━━━━━━━━━━━━━━━━━━━━━━━┓\n",
       "┃\u001b[1m \u001b[0m\u001b[1mKey                                 \u001b[0m\u001b[1m \u001b[0m┃\u001b[1m \u001b[0m\u001b[1mValue                      \u001b[0m\u001b[1m \u001b[0m┃\n",
       "┡━━━━━━━━━━━━━━━━━━━━━━━━━━━━━━━━━━━━━━╇━━━━━━━━━━━━━━━━━━━━━━━━━━━━━┩\n",
       "│ constellation                        │ GOES                        │\n",
       "│ datetime                             │ 2022-10-26T00:02:50Z        │\n",
       "│ end_datetime                         │ 2022-10-26T00:03:00.0Z      │\n",
       "│ goes:event_count                     │ 1110                        │\n",
       "│ goes:flash_count                     │ 34                          │\n",
       "│ goes:flash_time_threshold            │ 3.3299999237060547          │\n",
       "│ goes:group_count                     │ 523                         │\n",
       "│ goes:group_time_threshold            │ 0.0                         │\n",
       "│ goes:lightning_wavelength            │ 777.3699951171875           │\n",
       "│ goes:nominal_satellite_height        │ 35786.0234375               │\n",
       "│ goes:nominal_satellite_subpoint_lat  │ 0.0                         │\n",
       "│ goes:nominal_satellite_subpoint_lon  │ -137.1999969482422          │\n",
       "│ goes:orbital_slot                    │ West                        │\n",
       "│ goes:percent_navigated_L1b_events    │ 1.0                         │\n",
       "│ goes:percent_uncorrectable_L0_errors │ 0.0                         │\n",
       "│ goes:system_environment              │ OR                          │\n",
       "│ goes:yaw_flip_flag                   │ 2                           │\n",
       "│ gsd                                  │ 8000                        │\n",
       "│ instruments                          │ ['FM2']                     │\n",
       "│ mission                              │ GOES                        │\n",
       "│ platform                             │ GOES-17                     │\n",
       "│ processing:facility                  │ WCDAS                       │\n",
       "│ processing:level                     │ L2                          │\n",
       "│ proj:centroid                        │ {'lat': 0.0, 'lon': -137.0} │\n",
       "│ proj:epsg                            │ 4326                        │\n",
       "│ start_datetime                       │ 2022-10-26T00:02:40.0Z      │\n",
       "└──────────────────────────────────────┴─────────────────────────────┘\n"
      ]
     },
     "execution_count": 4,
     "metadata": {},
     "output_type": "execute_result"
    }
   ],
   "source": [
    "# Metadata\n",
    "t = rich.table.Table(\"Key\", \"Value\")\n",
    "for k, v in sorted(items[0].properties.items()):\n",
    "    t.add_row(k, str(v))\n",
    "t"
   ]
  },
  {
   "cell_type": "markdown",
   "id": "fcd49bc9-32ac-4b10-83f8-e9fbd2a870ac",
   "metadata": {},
   "source": [
    "### Loading the GeoParquet dataset\n",
    "Now let's load a STAC item into a tabular format. "
   ]
  },
  {
   "cell_type": "code",
   "execution_count": 5,
   "id": "c94da4e5-3601-4777-9067-789f8c436cef",
   "metadata": {},
   "outputs": [],
   "source": [
    "import geopandas\n",
    "import pyarrow.fs\n",
    "import fsspec"
   ]
  },
  {
   "cell_type": "code",
   "execution_count": 6,
   "id": "45a956f8-0dcc-431d-b2c0-65f31513a86b",
   "metadata": {},
   "outputs": [
    {
     "data": {
      "text/html": [
       "<div>\n",
       "<style scoped>\n",
       "    .dataframe tbody tr th:only-of-type {\n",
       "        vertical-align: middle;\n",
       "    }\n",
       "\n",
       "    .dataframe tbody tr th {\n",
       "        vertical-align: top;\n",
       "    }\n",
       "\n",
       "    .dataframe thead th {\n",
       "        text-align: right;\n",
       "    }\n",
       "</style>\n",
       "<table border=\"1\" class=\"dataframe\">\n",
       "  <thead>\n",
       "    <tr style=\"text-align: right;\">\n",
       "      <th></th>\n",
       "      <th>geometry</th>\n",
       "      <th>id</th>\n",
       "      <th>time</th>\n",
       "      <th>time_offset</th>\n",
       "      <th>frame_time</th>\n",
       "      <th>frame_time_offset</th>\n",
       "      <th>area</th>\n",
       "      <th>energy</th>\n",
       "      <th>quality_flag</th>\n",
       "      <th>parent_flash_id</th>\n",
       "    </tr>\n",
       "  </thead>\n",
       "  <tbody>\n",
       "    <tr>\n",
       "      <th>0</th>\n",
       "      <td>POINT (-91.41206 15.12315)</td>\n",
       "      <td>41316820</td>\n",
       "      <td>2022-10-26 00:02:41.279088+00:00</td>\n",
       "      <td>1.279088</td>\n",
       "      <td>2022-10-26 00:02:41.407264+00:00</td>\n",
       "      <td>1.407264</td>\n",
       "      <td>5.319701e+08</td>\n",
       "      <td>1.438346e-14</td>\n",
       "      <td>0</td>\n",
       "      <td>19663</td>\n",
       "    </tr>\n",
       "    <tr>\n",
       "      <th>1</th>\n",
       "      <td>POINT (-91.42130 15.11019)</td>\n",
       "      <td>41316821</td>\n",
       "      <td>2022-10-26 00:02:41.358436+00:00</td>\n",
       "      <td>1.358436</td>\n",
       "      <td>2022-10-26 00:02:41.486993+00:00</td>\n",
       "      <td>1.486993</td>\n",
       "      <td>1.240653e+09</td>\n",
       "      <td>4.098026e-14</td>\n",
       "      <td>0</td>\n",
       "      <td>19663</td>\n",
       "    </tr>\n",
       "    <tr>\n",
       "      <th>2</th>\n",
       "      <td>POINT (-91.43069 15.12149)</td>\n",
       "      <td>41316824</td>\n",
       "      <td>2022-10-26 00:02:41.438164+00:00</td>\n",
       "      <td>1.438164</td>\n",
       "      <td>2022-10-26 00:02:41.566339+00:00</td>\n",
       "      <td>1.566339</td>\n",
       "      <td>1.063330e+09</td>\n",
       "      <td>3.208133e-14</td>\n",
       "      <td>0</td>\n",
       "      <td>19663</td>\n",
       "    </tr>\n",
       "    <tr>\n",
       "      <th>3</th>\n",
       "      <td>POINT (-91.46420 15.12907)</td>\n",
       "      <td>41316826</td>\n",
       "      <td>2022-10-26 00:02:41.507592+00:00</td>\n",
       "      <td>1.507592</td>\n",
       "      <td>2022-10-26 00:02:41.636149+00:00</td>\n",
       "      <td>1.636149</td>\n",
       "      <td>8.850908e+07</td>\n",
       "      <td>2.184922e-15</td>\n",
       "      <td>0</td>\n",
       "      <td>19663</td>\n",
       "    </tr>\n",
       "    <tr>\n",
       "      <th>4</th>\n",
       "      <td>POINT (-91.17548 15.04030)</td>\n",
       "      <td>41316827</td>\n",
       "      <td>2022-10-26 00:02:41.958878+00:00</td>\n",
       "      <td>1.958878</td>\n",
       "      <td>2022-10-26 00:02:42.087435+00:00</td>\n",
       "      <td>2.087435</td>\n",
       "      <td>1.782390e+08</td>\n",
       "      <td>6.984346e-15</td>\n",
       "      <td>0</td>\n",
       "      <td>19664</td>\n",
       "    </tr>\n",
       "    <tr>\n",
       "      <th>...</th>\n",
       "      <td>...</td>\n",
       "      <td>...</td>\n",
       "      <td>...</td>\n",
       "      <td>...</td>\n",
       "      <td>...</td>\n",
       "      <td>...</td>\n",
       "      <td>...</td>\n",
       "      <td>...</td>\n",
       "      <td>...</td>\n",
       "      <td>...</td>\n",
       "    </tr>\n",
       "    <tr>\n",
       "      <th>518</th>\n",
       "      <td>POINT (-179.59244 23.99698)</td>\n",
       "      <td>41317376</td>\n",
       "      <td>2022-10-26 00:02:59.243156+00:00</td>\n",
       "      <td>19.243156</td>\n",
       "      <td>2022-10-26 00:02:59.371332+00:00</td>\n",
       "      <td>19.371332</td>\n",
       "      <td>7.706394e+07</td>\n",
       "      <td>1.088388e-14</td>\n",
       "      <td>0</td>\n",
       "      <td>19714</td>\n",
       "    </tr>\n",
       "    <tr>\n",
       "      <th>519</th>\n",
       "      <td>POINT (-179.59253 23.99699)</td>\n",
       "      <td>41317377</td>\n",
       "      <td>2022-10-26 00:02:59.248878+00:00</td>\n",
       "      <td>19.248878</td>\n",
       "      <td>2022-10-26 00:02:59.377436+00:00</td>\n",
       "      <td>19.377436</td>\n",
       "      <td>7.706394e+07</td>\n",
       "      <td>1.498339e-14</td>\n",
       "      <td>0</td>\n",
       "      <td>19714</td>\n",
       "    </tr>\n",
       "    <tr>\n",
       "      <th>520</th>\n",
       "      <td>POINT (-179.59258 23.99700)</td>\n",
       "      <td>41317378</td>\n",
       "      <td>2022-10-26 00:02:59.251167+00:00</td>\n",
       "      <td>19.251167</td>\n",
       "      <td>2022-10-26 00:02:59.379343+00:00</td>\n",
       "      <td>19.379343</td>\n",
       "      <td>7.706394e+07</td>\n",
       "      <td>1.528335e-14</td>\n",
       "      <td>0</td>\n",
       "      <td>19714</td>\n",
       "    </tr>\n",
       "    <tr>\n",
       "      <th>521</th>\n",
       "      <td>POINT (-179.59239 23.99695)</td>\n",
       "      <td>41317379</td>\n",
       "      <td>2022-10-26 00:02:59.382395+00:00</td>\n",
       "      <td>19.382395</td>\n",
       "      <td>2022-10-26 00:02:59.510571+00:00</td>\n",
       "      <td>19.510571</td>\n",
       "      <td>7.706394e+07</td>\n",
       "      <td>6.784370e-15</td>\n",
       "      <td>0</td>\n",
       "      <td>19714</td>\n",
       "    </tr>\n",
       "    <tr>\n",
       "      <th>522</th>\n",
       "      <td>POINT (-179.59242 23.99697)</td>\n",
       "      <td>41317380</td>\n",
       "      <td>2022-10-26 00:02:59.388117+00:00</td>\n",
       "      <td>19.388117</td>\n",
       "      <td>2022-10-26 00:02:59.516674+00:00</td>\n",
       "      <td>19.516674</td>\n",
       "      <td>7.706394e+07</td>\n",
       "      <td>4.684622e-15</td>\n",
       "      <td>0</td>\n",
       "      <td>19714</td>\n",
       "    </tr>\n",
       "  </tbody>\n",
       "</table>\n",
       "<p>523 rows × 10 columns</p>\n",
       "</div>"
      ],
      "text/plain": [
       "                        geometry        id                             time  \\\n",
       "0     POINT (-91.41206 15.12315)  41316820 2022-10-26 00:02:41.279088+00:00   \n",
       "1     POINT (-91.42130 15.11019)  41316821 2022-10-26 00:02:41.358436+00:00   \n",
       "2     POINT (-91.43069 15.12149)  41316824 2022-10-26 00:02:41.438164+00:00   \n",
       "3     POINT (-91.46420 15.12907)  41316826 2022-10-26 00:02:41.507592+00:00   \n",
       "4     POINT (-91.17548 15.04030)  41316827 2022-10-26 00:02:41.958878+00:00   \n",
       "..                           ...       ...                              ...   \n",
       "518  POINT (-179.59244 23.99698)  41317376 2022-10-26 00:02:59.243156+00:00   \n",
       "519  POINT (-179.59253 23.99699)  41317377 2022-10-26 00:02:59.248878+00:00   \n",
       "520  POINT (-179.59258 23.99700)  41317378 2022-10-26 00:02:59.251167+00:00   \n",
       "521  POINT (-179.59239 23.99695)  41317379 2022-10-26 00:02:59.382395+00:00   \n",
       "522  POINT (-179.59242 23.99697)  41317380 2022-10-26 00:02:59.388117+00:00   \n",
       "\n",
       "     time_offset                       frame_time  frame_time_offset  \\\n",
       "0       1.279088 2022-10-26 00:02:41.407264+00:00           1.407264   \n",
       "1       1.358436 2022-10-26 00:02:41.486993+00:00           1.486993   \n",
       "2       1.438164 2022-10-26 00:02:41.566339+00:00           1.566339   \n",
       "3       1.507592 2022-10-26 00:02:41.636149+00:00           1.636149   \n",
       "4       1.958878 2022-10-26 00:02:42.087435+00:00           2.087435   \n",
       "..           ...                              ...                ...   \n",
       "518    19.243156 2022-10-26 00:02:59.371332+00:00          19.371332   \n",
       "519    19.248878 2022-10-26 00:02:59.377436+00:00          19.377436   \n",
       "520    19.251167 2022-10-26 00:02:59.379343+00:00          19.379343   \n",
       "521    19.382395 2022-10-26 00:02:59.510571+00:00          19.510571   \n",
       "522    19.388117 2022-10-26 00:02:59.516674+00:00          19.516674   \n",
       "\n",
       "             area        energy  quality_flag  parent_flash_id  \n",
       "0    5.319701e+08  1.438346e-14             0            19663  \n",
       "1    1.240653e+09  4.098026e-14             0            19663  \n",
       "2    1.063330e+09  3.208133e-14             0            19663  \n",
       "3    8.850908e+07  2.184922e-15             0            19663  \n",
       "4    1.782390e+08  6.984346e-15             0            19664  \n",
       "..            ...           ...           ...              ...  \n",
       "518  7.706394e+07  1.088388e-14             0            19714  \n",
       "519  7.706394e+07  1.498339e-14             0            19714  \n",
       "520  7.706394e+07  1.528335e-14             0            19714  \n",
       "521  7.706394e+07  6.784370e-15             0            19714  \n",
       "522  7.706394e+07  4.684622e-15             0            19714  \n",
       "\n",
       "[523 rows x 10 columns]"
      ]
     },
     "execution_count": 6,
     "metadata": {},
     "output_type": "execute_result"
    }
   ],
   "source": [
    "# Display the GOES GLM tabular data\n",
    "fs = pyarrow.fs.PyFileSystem(pyarrow.fs.FSSpecHandler(fsspec.filesystem(\"http\")))\n",
    "asset = items[0].assets[\"geoparquet_groups\"]\n",
    "\n",
    "df = geopandas.read_parquet(asset.href, filesystem=fs)\n",
    "df"
   ]
  },
  {
   "cell_type": "markdown",
   "id": "f76a3b43-7827-4e8d-9305-6af33794bbce",
   "metadata": {},
   "source": [
    "### Displaying the data"
   ]
  },
  {
   "cell_type": "markdown",
   "id": "c9bff3df-c8f3-4602-93e5-cbceb266f27e",
   "metadata": {},
   "source": [
    "Let's display the GOES GLM product across the western hemisphere. "
   ]
  },
  {
   "cell_type": "code",
   "execution_count": 7,
   "id": "4d08b34c-865d-4b7a-b46d-193a164fa1e5",
   "metadata": {},
   "outputs": [],
   "source": [
    "import cartopy.crs as ccrs\n",
    "import matplotlib.pyplot as plt"
   ]
  },
  {
   "cell_type": "code",
   "execution_count": 8,
   "id": "a30b2a35-408d-4393-b03d-7e2de293c43b",
   "metadata": {},
   "outputs": [
    {
     "data": {
      "text/html": [
       "<img src=\"https://ai4edatasetspublicassets.blob.core.windows.net/assets/notebook-output/datasets-goes-goes-glm-example.ipynb/8.png\"/>"
      ],
      "text/plain": [
       "<Figure size 3200x3200 with 1 Axes>"
      ]
     },
     "metadata": {},
     "output_type": "display_data"
    }
   ],
   "source": [
    "# Display the GOES GLM \"group\" product centriod location\n",
    "fig, ax = plt.subplots(\n",
    "    figsize=(32, 32),\n",
    "    subplot_kw=dict(projection=ccrs.Orthographic(central_longitude=-90.0)),\n",
    ")\n",
    "\n",
    "df.geometry.plot(ax=ax, facecolor=\"red\", marker=\"+\", transform=ccrs.PlateCarree())\n",
    "\n",
    "ax.coastlines(resolution=\"50m\")\n",
    "ax.set_global()\n",
    "ax.gridlines()\n",
    "ax.set_title(\n",
    "    \"GOES Geostationary Lightning Mapper (GLM) \\n 2022-07-09T00:02:50Z\",\n",
    "    fontweight=\"bold\",\n",
    "    fontsize=\"35\",\n",
    ");"
   ]
  },
  {
   "cell_type": "markdown",
   "id": "505ecba4-3432-487a-aa63-74dc2f402ac9",
   "metadata": {},
   "source": [
    "### Reading many items\n",
    "\n",
    "When working with this many items, just doing operations like reading the metadata of a parquet file for each asset can add up. This search, over a longer time window, returns several hundred items."
   ]
  },
  {
   "cell_type": "code",
   "execution_count": 9,
   "id": "935be3bb-f668-4d45-9b28-0fbe58f89658",
   "metadata": {},
   "outputs": [
    {
     "data": {
      "text/plain": [
       "362"
      ]
     },
     "execution_count": 9,
     "metadata": {},
     "output_type": "execute_result"
    }
   ],
   "source": [
    "search = catalog.search(\n",
    "    collections=[\"goes-glm\"], datetime=\"2022-10-26T15:00:00/2022-10-26T16:00:00Z\"\n",
    ")\n",
    "items = search.item_collection()\n",
    "len(items)"
   ]
  },
  {
   "cell_type": "markdown",
   "id": "b7d7dd5a-cb46-4e28-a841-bec366d41ed7",
   "metadata": {},
   "source": [
    "You might want to parallelize tasks working with this many files using some parallel computing framework. In this example, we'll use [Dask](https://dask.org)."
   ]
  },
  {
   "cell_type": "code",
   "execution_count": 10,
   "id": "e48db975-e8a6-4be4-9a3e-a49048c79e08",
   "metadata": {},
   "outputs": [],
   "source": [
    "import dask_geopandas"
   ]
  },
  {
   "cell_type": "code",
   "execution_count": 16,
   "id": "80b1b498-52f0-413d-a92f-c51a22b3de46",
   "metadata": {},
   "outputs": [
    {
     "name": "stdout",
     "output_type": "stream",
     "text": [
      "CPU times: user 3.09 s, sys: 308 ms, total: 3.4 s\n",
      "Wall time: 17.3 s\n"
     ]
    }
   ],
   "source": [
    "%%time\n",
    "ddf = dask_geopandas.read_parquet(\n",
    "    [item.assets[\"geoparquet_events\"].href for item in items], filesystem=fs\n",
    ")"
   ]
  },
  {
   "cell_type": "code",
   "execution_count": 17,
   "id": "cfbd27bd-65b0-41ad-bccf-09ae71dce32c",
   "metadata": {},
   "outputs": [
    {
     "ename": "KeyError",
     "evalue": "'OR_GLM-L2-LCFA_G16_s20222991500000_e20222991500200_c20222991500214_events.parquet?st'",
     "output_type": "error",
     "traceback": [
      "\u001b[0;31m---------------------------------------------------------------------------\u001b[0m",
      "\u001b[0;31mKeyError\u001b[0m                                  Traceback (most recent call last)",
      "File \u001b[0;32m<timed exec>:1\u001b[0m\n",
      "File \u001b[0;32m/srv/conda/envs/notebook/lib/python3.10/site-packages/dask/base.py:315\u001b[0m, in \u001b[0;36mDaskMethodsMixin.compute\u001b[0;34m(self, **kwargs)\u001b[0m\n\u001b[1;32m    291\u001b[0m \u001b[38;5;28;01mdef\u001b[39;00m \u001b[38;5;21mcompute\u001b[39m(\u001b[38;5;28mself\u001b[39m, \u001b[38;5;241m*\u001b[39m\u001b[38;5;241m*\u001b[39mkwargs):\n\u001b[1;32m    292\u001b[0m     \u001b[38;5;124;03m\"\"\"Compute this dask collection\u001b[39;00m\n\u001b[1;32m    293\u001b[0m \n\u001b[1;32m    294\u001b[0m \u001b[38;5;124;03m    This turns a lazy Dask collection into its in-memory equivalent.\u001b[39;00m\n\u001b[0;32m   (...)\u001b[0m\n\u001b[1;32m    313\u001b[0m \u001b[38;5;124;03m    dask.base.compute\u001b[39;00m\n\u001b[1;32m    314\u001b[0m \u001b[38;5;124;03m    \"\"\"\u001b[39;00m\n\u001b[0;32m--> 315\u001b[0m     (result,) \u001b[38;5;241m=\u001b[39m \u001b[43mcompute\u001b[49m\u001b[43m(\u001b[49m\u001b[38;5;28;43mself\u001b[39;49m\u001b[43m,\u001b[49m\u001b[43m \u001b[49m\u001b[43mtraverse\u001b[49m\u001b[38;5;241;43m=\u001b[39;49m\u001b[38;5;28;43;01mFalse\u001b[39;49;00m\u001b[43m,\u001b[49m\u001b[43m \u001b[49m\u001b[38;5;241;43m*\u001b[39;49m\u001b[38;5;241;43m*\u001b[39;49m\u001b[43mkwargs\u001b[49m\u001b[43m)\u001b[49m\n\u001b[1;32m    316\u001b[0m     \u001b[38;5;28;01mreturn\u001b[39;00m result\n",
      "File \u001b[0;32m/srv/conda/envs/notebook/lib/python3.10/site-packages/dask/base.py:598\u001b[0m, in \u001b[0;36mcompute\u001b[0;34m(traverse, optimize_graph, scheduler, get, *args, **kwargs)\u001b[0m\n\u001b[1;32m    595\u001b[0m     keys\u001b[38;5;241m.\u001b[39mappend(x\u001b[38;5;241m.\u001b[39m__dask_keys__())\n\u001b[1;32m    596\u001b[0m     postcomputes\u001b[38;5;241m.\u001b[39mappend(x\u001b[38;5;241m.\u001b[39m__dask_postcompute__())\n\u001b[0;32m--> 598\u001b[0m results \u001b[38;5;241m=\u001b[39m \u001b[43mschedule\u001b[49m\u001b[43m(\u001b[49m\u001b[43mdsk\u001b[49m\u001b[43m,\u001b[49m\u001b[43m \u001b[49m\u001b[43mkeys\u001b[49m\u001b[43m,\u001b[49m\u001b[43m \u001b[49m\u001b[38;5;241;43m*\u001b[39;49m\u001b[38;5;241;43m*\u001b[39;49m\u001b[43mkwargs\u001b[49m\u001b[43m)\u001b[49m\n\u001b[1;32m    599\u001b[0m \u001b[38;5;28;01mreturn\u001b[39;00m repack([f(r, \u001b[38;5;241m*\u001b[39ma) \u001b[38;5;28;01mfor\u001b[39;00m r, (f, a) \u001b[38;5;129;01min\u001b[39;00m \u001b[38;5;28mzip\u001b[39m(results, postcomputes)])\n",
      "File \u001b[0;32m/srv/conda/envs/notebook/lib/python3.10/site-packages/dask/threaded.py:89\u001b[0m, in \u001b[0;36mget\u001b[0;34m(dsk, keys, cache, num_workers, pool, **kwargs)\u001b[0m\n\u001b[1;32m     86\u001b[0m     \u001b[38;5;28;01melif\u001b[39;00m \u001b[38;5;28misinstance\u001b[39m(pool, multiprocessing\u001b[38;5;241m.\u001b[39mpool\u001b[38;5;241m.\u001b[39mPool):\n\u001b[1;32m     87\u001b[0m         pool \u001b[38;5;241m=\u001b[39m MultiprocessingPoolExecutor(pool)\n\u001b[0;32m---> 89\u001b[0m results \u001b[38;5;241m=\u001b[39m \u001b[43mget_async\u001b[49m\u001b[43m(\u001b[49m\n\u001b[1;32m     90\u001b[0m \u001b[43m    \u001b[49m\u001b[43mpool\u001b[49m\u001b[38;5;241;43m.\u001b[39;49m\u001b[43msubmit\u001b[49m\u001b[43m,\u001b[49m\n\u001b[1;32m     91\u001b[0m \u001b[43m    \u001b[49m\u001b[43mpool\u001b[49m\u001b[38;5;241;43m.\u001b[39;49m\u001b[43m_max_workers\u001b[49m\u001b[43m,\u001b[49m\n\u001b[1;32m     92\u001b[0m \u001b[43m    \u001b[49m\u001b[43mdsk\u001b[49m\u001b[43m,\u001b[49m\n\u001b[1;32m     93\u001b[0m \u001b[43m    \u001b[49m\u001b[43mkeys\u001b[49m\u001b[43m,\u001b[49m\n\u001b[1;32m     94\u001b[0m \u001b[43m    \u001b[49m\u001b[43mcache\u001b[49m\u001b[38;5;241;43m=\u001b[39;49m\u001b[43mcache\u001b[49m\u001b[43m,\u001b[49m\n\u001b[1;32m     95\u001b[0m \u001b[43m    \u001b[49m\u001b[43mget_id\u001b[49m\u001b[38;5;241;43m=\u001b[39;49m\u001b[43m_thread_get_id\u001b[49m\u001b[43m,\u001b[49m\n\u001b[1;32m     96\u001b[0m \u001b[43m    \u001b[49m\u001b[43mpack_exception\u001b[49m\u001b[38;5;241;43m=\u001b[39;49m\u001b[43mpack_exception\u001b[49m\u001b[43m,\u001b[49m\n\u001b[1;32m     97\u001b[0m \u001b[43m    \u001b[49m\u001b[38;5;241;43m*\u001b[39;49m\u001b[38;5;241;43m*\u001b[39;49m\u001b[43mkwargs\u001b[49m\u001b[43m,\u001b[49m\n\u001b[1;32m     98\u001b[0m \u001b[43m\u001b[49m\u001b[43m)\u001b[49m\n\u001b[1;32m    100\u001b[0m \u001b[38;5;66;03m# Cleanup pools associated to dead threads\u001b[39;00m\n\u001b[1;32m    101\u001b[0m \u001b[38;5;28;01mwith\u001b[39;00m pools_lock:\n",
      "File \u001b[0;32m/srv/conda/envs/notebook/lib/python3.10/site-packages/dask/local.py:511\u001b[0m, in \u001b[0;36mget_async\u001b[0;34m(submit, num_workers, dsk, result, cache, get_id, rerun_exceptions_locally, pack_exception, raise_exception, callbacks, dumps, loads, chunksize, **kwargs)\u001b[0m\n\u001b[1;32m    509\u001b[0m         _execute_task(task, data)  \u001b[38;5;66;03m# Re-execute locally\u001b[39;00m\n\u001b[1;32m    510\u001b[0m     \u001b[38;5;28;01melse\u001b[39;00m:\n\u001b[0;32m--> 511\u001b[0m         \u001b[43mraise_exception\u001b[49m\u001b[43m(\u001b[49m\u001b[43mexc\u001b[49m\u001b[43m,\u001b[49m\u001b[43m \u001b[49m\u001b[43mtb\u001b[49m\u001b[43m)\u001b[49m\n\u001b[1;32m    512\u001b[0m res, worker_id \u001b[38;5;241m=\u001b[39m loads(res_info)\n\u001b[1;32m    513\u001b[0m state[\u001b[38;5;124m\"\u001b[39m\u001b[38;5;124mcache\u001b[39m\u001b[38;5;124m\"\u001b[39m][key] \u001b[38;5;241m=\u001b[39m res\n",
      "File \u001b[0;32m/srv/conda/envs/notebook/lib/python3.10/site-packages/dask/local.py:319\u001b[0m, in \u001b[0;36mreraise\u001b[0;34m(exc, tb)\u001b[0m\n\u001b[1;32m    317\u001b[0m \u001b[38;5;28;01mif\u001b[39;00m exc\u001b[38;5;241m.\u001b[39m__traceback__ \u001b[38;5;129;01mis\u001b[39;00m \u001b[38;5;129;01mnot\u001b[39;00m tb:\n\u001b[1;32m    318\u001b[0m     \u001b[38;5;28;01mraise\u001b[39;00m exc\u001b[38;5;241m.\u001b[39mwith_traceback(tb)\n\u001b[0;32m--> 319\u001b[0m \u001b[38;5;28;01mraise\u001b[39;00m exc\n",
      "File \u001b[0;32m/srv/conda/envs/notebook/lib/python3.10/site-packages/dask/local.py:224\u001b[0m, in \u001b[0;36mexecute_task\u001b[0;34m(key, task_info, dumps, loads, get_id, pack_exception)\u001b[0m\n\u001b[1;32m    222\u001b[0m \u001b[38;5;28;01mtry\u001b[39;00m:\n\u001b[1;32m    223\u001b[0m     task, data \u001b[38;5;241m=\u001b[39m loads(task_info)\n\u001b[0;32m--> 224\u001b[0m     result \u001b[38;5;241m=\u001b[39m \u001b[43m_execute_task\u001b[49m\u001b[43m(\u001b[49m\u001b[43mtask\u001b[49m\u001b[43m,\u001b[49m\u001b[43m \u001b[49m\u001b[43mdata\u001b[49m\u001b[43m)\u001b[49m\n\u001b[1;32m    225\u001b[0m     \u001b[38;5;28mid\u001b[39m \u001b[38;5;241m=\u001b[39m get_id()\n\u001b[1;32m    226\u001b[0m     result \u001b[38;5;241m=\u001b[39m dumps((result, \u001b[38;5;28mid\u001b[39m))\n",
      "File \u001b[0;32m/srv/conda/envs/notebook/lib/python3.10/site-packages/dask/core.py:119\u001b[0m, in \u001b[0;36m_execute_task\u001b[0;34m(arg, cache, dsk)\u001b[0m\n\u001b[1;32m    115\u001b[0m     func, args \u001b[38;5;241m=\u001b[39m arg[\u001b[38;5;241m0\u001b[39m], arg[\u001b[38;5;241m1\u001b[39m:]\n\u001b[1;32m    116\u001b[0m     \u001b[38;5;66;03m# Note: Don't assign the subtask results to a variable. numpy detects\u001b[39;00m\n\u001b[1;32m    117\u001b[0m     \u001b[38;5;66;03m# temporaries by their reference count and can execute certain\u001b[39;00m\n\u001b[1;32m    118\u001b[0m     \u001b[38;5;66;03m# operations in-place.\u001b[39;00m\n\u001b[0;32m--> 119\u001b[0m     \u001b[38;5;28;01mreturn\u001b[39;00m \u001b[43mfunc\u001b[49m\u001b[43m(\u001b[49m\u001b[38;5;241;43m*\u001b[39;49m\u001b[43m(\u001b[49m\u001b[43m_execute_task\u001b[49m\u001b[43m(\u001b[49m\u001b[43ma\u001b[49m\u001b[43m,\u001b[49m\u001b[43m \u001b[49m\u001b[43mcache\u001b[49m\u001b[43m)\u001b[49m\u001b[43m \u001b[49m\u001b[38;5;28;43;01mfor\u001b[39;49;00m\u001b[43m \u001b[49m\u001b[43ma\u001b[49m\u001b[43m \u001b[49m\u001b[38;5;129;43;01min\u001b[39;49;00m\u001b[43m \u001b[49m\u001b[43margs\u001b[49m\u001b[43m)\u001b[49m\u001b[43m)\u001b[49m\n\u001b[1;32m    120\u001b[0m \u001b[38;5;28;01melif\u001b[39;00m \u001b[38;5;129;01mnot\u001b[39;00m ishashable(arg):\n\u001b[1;32m    121\u001b[0m     \u001b[38;5;28;01mreturn\u001b[39;00m arg\n",
      "File \u001b[0;32m/srv/conda/envs/notebook/lib/python3.10/site-packages/dask/optimization.py:990\u001b[0m, in \u001b[0;36mSubgraphCallable.__call__\u001b[0;34m(self, *args)\u001b[0m\n\u001b[1;32m    988\u001b[0m \u001b[38;5;28;01mif\u001b[39;00m \u001b[38;5;129;01mnot\u001b[39;00m \u001b[38;5;28mlen\u001b[39m(args) \u001b[38;5;241m==\u001b[39m \u001b[38;5;28mlen\u001b[39m(\u001b[38;5;28mself\u001b[39m\u001b[38;5;241m.\u001b[39minkeys):\n\u001b[1;32m    989\u001b[0m     \u001b[38;5;28;01mraise\u001b[39;00m \u001b[38;5;167;01mValueError\u001b[39;00m(\u001b[38;5;124m\"\u001b[39m\u001b[38;5;124mExpected \u001b[39m\u001b[38;5;132;01m%d\u001b[39;00m\u001b[38;5;124m args, got \u001b[39m\u001b[38;5;132;01m%d\u001b[39;00m\u001b[38;5;124m\"\u001b[39m \u001b[38;5;241m%\u001b[39m (\u001b[38;5;28mlen\u001b[39m(\u001b[38;5;28mself\u001b[39m\u001b[38;5;241m.\u001b[39minkeys), \u001b[38;5;28mlen\u001b[39m(args)))\n\u001b[0;32m--> 990\u001b[0m \u001b[38;5;28;01mreturn\u001b[39;00m \u001b[43mcore\u001b[49m\u001b[38;5;241;43m.\u001b[39;49m\u001b[43mget\u001b[49m\u001b[43m(\u001b[49m\u001b[38;5;28;43mself\u001b[39;49m\u001b[38;5;241;43m.\u001b[39;49m\u001b[43mdsk\u001b[49m\u001b[43m,\u001b[49m\u001b[43m \u001b[49m\u001b[38;5;28;43mself\u001b[39;49m\u001b[38;5;241;43m.\u001b[39;49m\u001b[43moutkey\u001b[49m\u001b[43m,\u001b[49m\u001b[43m \u001b[49m\u001b[38;5;28;43mdict\u001b[39;49m\u001b[43m(\u001b[49m\u001b[38;5;28;43mzip\u001b[39;49m\u001b[43m(\u001b[49m\u001b[38;5;28;43mself\u001b[39;49m\u001b[38;5;241;43m.\u001b[39;49m\u001b[43minkeys\u001b[49m\u001b[43m,\u001b[49m\u001b[43m \u001b[49m\u001b[43margs\u001b[49m\u001b[43m)\u001b[49m\u001b[43m)\u001b[49m\u001b[43m)\u001b[49m\n",
      "File \u001b[0;32m/srv/conda/envs/notebook/lib/python3.10/site-packages/dask/core.py:149\u001b[0m, in \u001b[0;36mget\u001b[0;34m(dsk, out, cache)\u001b[0m\n\u001b[1;32m    147\u001b[0m \u001b[38;5;28;01mfor\u001b[39;00m key \u001b[38;5;129;01min\u001b[39;00m toposort(dsk):\n\u001b[1;32m    148\u001b[0m     task \u001b[38;5;241m=\u001b[39m dsk[key]\n\u001b[0;32m--> 149\u001b[0m     result \u001b[38;5;241m=\u001b[39m \u001b[43m_execute_task\u001b[49m\u001b[43m(\u001b[49m\u001b[43mtask\u001b[49m\u001b[43m,\u001b[49m\u001b[43m \u001b[49m\u001b[43mcache\u001b[49m\u001b[43m)\u001b[49m\n\u001b[1;32m    150\u001b[0m     cache[key] \u001b[38;5;241m=\u001b[39m result\n\u001b[1;32m    151\u001b[0m result \u001b[38;5;241m=\u001b[39m _execute_task(out, cache)\n",
      "File \u001b[0;32m/srv/conda/envs/notebook/lib/python3.10/site-packages/dask/core.py:119\u001b[0m, in \u001b[0;36m_execute_task\u001b[0;34m(arg, cache, dsk)\u001b[0m\n\u001b[1;32m    115\u001b[0m     func, args \u001b[38;5;241m=\u001b[39m arg[\u001b[38;5;241m0\u001b[39m], arg[\u001b[38;5;241m1\u001b[39m:]\n\u001b[1;32m    116\u001b[0m     \u001b[38;5;66;03m# Note: Don't assign the subtask results to a variable. numpy detects\u001b[39;00m\n\u001b[1;32m    117\u001b[0m     \u001b[38;5;66;03m# temporaries by their reference count and can execute certain\u001b[39;00m\n\u001b[1;32m    118\u001b[0m     \u001b[38;5;66;03m# operations in-place.\u001b[39;00m\n\u001b[0;32m--> 119\u001b[0m     \u001b[38;5;28;01mreturn\u001b[39;00m \u001b[43mfunc\u001b[49m\u001b[43m(\u001b[49m\u001b[38;5;241;43m*\u001b[39;49m\u001b[43m(\u001b[49m\u001b[43m_execute_task\u001b[49m\u001b[43m(\u001b[49m\u001b[43ma\u001b[49m\u001b[43m,\u001b[49m\u001b[43m \u001b[49m\u001b[43mcache\u001b[49m\u001b[43m)\u001b[49m\u001b[43m \u001b[49m\u001b[38;5;28;43;01mfor\u001b[39;49;00m\u001b[43m \u001b[49m\u001b[43ma\u001b[49m\u001b[43m \u001b[49m\u001b[38;5;129;43;01min\u001b[39;49;00m\u001b[43m \u001b[49m\u001b[43margs\u001b[49m\u001b[43m)\u001b[49m\u001b[43m)\u001b[49m\n\u001b[1;32m    120\u001b[0m \u001b[38;5;28;01melif\u001b[39;00m \u001b[38;5;129;01mnot\u001b[39;00m ishashable(arg):\n\u001b[1;32m    121\u001b[0m     \u001b[38;5;28;01mreturn\u001b[39;00m arg\n",
      "File \u001b[0;32m/srv/conda/envs/notebook/lib/python3.10/site-packages/dask/dataframe/io/parquet/core.py:89\u001b[0m, in \u001b[0;36mParquetFunctionWrapper.__call__\u001b[0;34m(self, part)\u001b[0m\n\u001b[1;32m     86\u001b[0m \u001b[38;5;28;01mif\u001b[39;00m \u001b[38;5;129;01mnot\u001b[39;00m \u001b[38;5;28misinstance\u001b[39m(part, \u001b[38;5;28mlist\u001b[39m):\n\u001b[1;32m     87\u001b[0m     part \u001b[38;5;241m=\u001b[39m [part]\n\u001b[0;32m---> 89\u001b[0m \u001b[38;5;28;01mreturn\u001b[39;00m \u001b[43mread_parquet_part\u001b[49m\u001b[43m(\u001b[49m\n\u001b[1;32m     90\u001b[0m \u001b[43m    \u001b[49m\u001b[38;5;28;43mself\u001b[39;49m\u001b[38;5;241;43m.\u001b[39;49m\u001b[43mfs\u001b[49m\u001b[43m,\u001b[49m\n\u001b[1;32m     91\u001b[0m \u001b[43m    \u001b[49m\u001b[38;5;28;43mself\u001b[39;49m\u001b[38;5;241;43m.\u001b[39;49m\u001b[43mengine\u001b[49m\u001b[43m,\u001b[49m\n\u001b[1;32m     92\u001b[0m \u001b[43m    \u001b[49m\u001b[38;5;28;43mself\u001b[39;49m\u001b[38;5;241;43m.\u001b[39;49m\u001b[43mmeta\u001b[49m\u001b[43m,\u001b[49m\n\u001b[1;32m     93\u001b[0m \u001b[43m    \u001b[49m\u001b[43m[\u001b[49m\n\u001b[1;32m     94\u001b[0m \u001b[43m        \u001b[49m\u001b[38;5;66;43;03m# Temporary workaround for HLG serialization bug\u001b[39;49;00m\n\u001b[1;32m     95\u001b[0m \u001b[43m        \u001b[49m\u001b[38;5;66;43;03m# (see: https://github.com/dask/dask/issues/8581)\u001b[39;49;00m\n\u001b[1;32m     96\u001b[0m \u001b[43m        \u001b[49m\u001b[43m(\u001b[49m\u001b[43mp\u001b[49m\u001b[38;5;241;43m.\u001b[39;49m\u001b[43mdata\u001b[49m\u001b[43m[\u001b[49m\u001b[38;5;124;43m\"\u001b[39;49m\u001b[38;5;124;43mpiece\u001b[39;49m\u001b[38;5;124;43m\"\u001b[39;49m\u001b[43m]\u001b[49m\u001b[43m,\u001b[49m\u001b[43m \u001b[49m\u001b[43mp\u001b[49m\u001b[38;5;241;43m.\u001b[39;49m\u001b[43mdata\u001b[49m\u001b[38;5;241;43m.\u001b[39;49m\u001b[43mget\u001b[49m\u001b[43m(\u001b[49m\u001b[38;5;124;43m\"\u001b[39;49m\u001b[38;5;124;43mkwargs\u001b[39;49m\u001b[38;5;124;43m\"\u001b[39;49m\u001b[43m,\u001b[49m\u001b[43m \u001b[49m\u001b[43m{\u001b[49m\u001b[43m}\u001b[49m\u001b[43m)\u001b[49m\u001b[43m)\u001b[49m\n\u001b[1;32m     97\u001b[0m \u001b[43m        \u001b[49m\u001b[38;5;28;43;01mif\u001b[39;49;00m\u001b[43m \u001b[49m\u001b[38;5;28;43mhasattr\u001b[39;49m\u001b[43m(\u001b[49m\u001b[43mp\u001b[49m\u001b[43m,\u001b[49m\u001b[43m \u001b[49m\u001b[38;5;124;43m\"\u001b[39;49m\u001b[38;5;124;43mdata\u001b[39;49m\u001b[38;5;124;43m\"\u001b[39;49m\u001b[43m)\u001b[49m\n\u001b[1;32m     98\u001b[0m \u001b[43m        \u001b[49m\u001b[38;5;28;43;01melse\u001b[39;49;00m\u001b[43m \u001b[49m\u001b[43m(\u001b[49m\u001b[43mp\u001b[49m\u001b[43m[\u001b[49m\u001b[38;5;124;43m\"\u001b[39;49m\u001b[38;5;124;43mpiece\u001b[39;49m\u001b[38;5;124;43m\"\u001b[39;49m\u001b[43m]\u001b[49m\u001b[43m,\u001b[49m\u001b[43m \u001b[49m\u001b[43mp\u001b[49m\u001b[38;5;241;43m.\u001b[39;49m\u001b[43mget\u001b[49m\u001b[43m(\u001b[49m\u001b[38;5;124;43m\"\u001b[39;49m\u001b[38;5;124;43mkwargs\u001b[39;49m\u001b[38;5;124;43m\"\u001b[39;49m\u001b[43m,\u001b[49m\u001b[43m \u001b[49m\u001b[43m{\u001b[49m\u001b[43m}\u001b[49m\u001b[43m)\u001b[49m\u001b[43m)\u001b[49m\n\u001b[1;32m     99\u001b[0m \u001b[43m        \u001b[49m\u001b[38;5;28;43;01mfor\u001b[39;49;00m\u001b[43m \u001b[49m\u001b[43mp\u001b[49m\u001b[43m \u001b[49m\u001b[38;5;129;43;01min\u001b[39;49;00m\u001b[43m \u001b[49m\u001b[43mpart\u001b[49m\n\u001b[1;32m    100\u001b[0m \u001b[43m    \u001b[49m\u001b[43m]\u001b[49m\u001b[43m,\u001b[49m\n\u001b[1;32m    101\u001b[0m \u001b[43m    \u001b[49m\u001b[38;5;28;43mself\u001b[39;49m\u001b[38;5;241;43m.\u001b[39;49m\u001b[43mcolumns\u001b[49m\u001b[43m,\u001b[49m\n\u001b[1;32m    102\u001b[0m \u001b[43m    \u001b[49m\u001b[38;5;28;43mself\u001b[39;49m\u001b[38;5;241;43m.\u001b[39;49m\u001b[43mindex\u001b[49m\u001b[43m,\u001b[49m\n\u001b[1;32m    103\u001b[0m \u001b[43m    \u001b[49m\u001b[38;5;28;43mself\u001b[39;49m\u001b[38;5;241;43m.\u001b[39;49m\u001b[43mcommon_kwargs\u001b[49m\u001b[43m,\u001b[49m\n\u001b[1;32m    104\u001b[0m \u001b[43m\u001b[49m\u001b[43m)\u001b[49m\n",
      "File \u001b[0;32m/srv/conda/envs/notebook/lib/python3.10/site-packages/dask/dataframe/io/parquet/core.py:587\u001b[0m, in \u001b[0;36mread_parquet_part\u001b[0;34m(fs, engine, meta, part, columns, index, kwargs)\u001b[0m\n\u001b[1;32m    584\u001b[0m \u001b[38;5;28;01mif\u001b[39;00m \u001b[38;5;28mlen\u001b[39m(part) \u001b[38;5;241m==\u001b[39m \u001b[38;5;241m1\u001b[39m \u001b[38;5;129;01mor\u001b[39;00m part[\u001b[38;5;241m0\u001b[39m][\u001b[38;5;241m1\u001b[39m] \u001b[38;5;129;01mor\u001b[39;00m \u001b[38;5;129;01mnot\u001b[39;00m check_multi_support(engine):\n\u001b[1;32m    585\u001b[0m     \u001b[38;5;66;03m# Part kwargs expected\u001b[39;00m\n\u001b[1;32m    586\u001b[0m     func \u001b[38;5;241m=\u001b[39m engine\u001b[38;5;241m.\u001b[39mread_partition\n\u001b[0;32m--> 587\u001b[0m     dfs \u001b[38;5;241m=\u001b[39m [\n\u001b[1;32m    588\u001b[0m         func(fs, rg, columns\u001b[38;5;241m.\u001b[39mcopy(), index, \u001b[38;5;241m*\u001b[39m\u001b[38;5;241m*\u001b[39mtoolz\u001b[38;5;241m.\u001b[39mmerge(kwargs, kw))\n\u001b[1;32m    589\u001b[0m         \u001b[38;5;28;01mfor\u001b[39;00m (rg, kw) \u001b[38;5;129;01min\u001b[39;00m part\n\u001b[1;32m    590\u001b[0m     ]\n\u001b[1;32m    591\u001b[0m     df \u001b[38;5;241m=\u001b[39m concat(dfs, axis\u001b[38;5;241m=\u001b[39m\u001b[38;5;241m0\u001b[39m) \u001b[38;5;28;01mif\u001b[39;00m \u001b[38;5;28mlen\u001b[39m(dfs) \u001b[38;5;241m>\u001b[39m \u001b[38;5;241m1\u001b[39m \u001b[38;5;28;01melse\u001b[39;00m dfs[\u001b[38;5;241m0\u001b[39m]\n\u001b[1;32m    592\u001b[0m \u001b[38;5;28;01melse\u001b[39;00m:\n\u001b[1;32m    593\u001b[0m     \u001b[38;5;66;03m# No part specific kwargs, let engine read\u001b[39;00m\n\u001b[1;32m    594\u001b[0m     \u001b[38;5;66;03m# list of parts at once\u001b[39;00m\n",
      "File \u001b[0;32m/srv/conda/envs/notebook/lib/python3.10/site-packages/dask/dataframe/io/parquet/core.py:588\u001b[0m, in \u001b[0;36m<listcomp>\u001b[0;34m(.0)\u001b[0m\n\u001b[1;32m    584\u001b[0m \u001b[38;5;28;01mif\u001b[39;00m \u001b[38;5;28mlen\u001b[39m(part) \u001b[38;5;241m==\u001b[39m \u001b[38;5;241m1\u001b[39m \u001b[38;5;129;01mor\u001b[39;00m part[\u001b[38;5;241m0\u001b[39m][\u001b[38;5;241m1\u001b[39m] \u001b[38;5;129;01mor\u001b[39;00m \u001b[38;5;129;01mnot\u001b[39;00m check_multi_support(engine):\n\u001b[1;32m    585\u001b[0m     \u001b[38;5;66;03m# Part kwargs expected\u001b[39;00m\n\u001b[1;32m    586\u001b[0m     func \u001b[38;5;241m=\u001b[39m engine\u001b[38;5;241m.\u001b[39mread_partition\n\u001b[1;32m    587\u001b[0m     dfs \u001b[38;5;241m=\u001b[39m [\n\u001b[0;32m--> 588\u001b[0m         \u001b[43mfunc\u001b[49m\u001b[43m(\u001b[49m\u001b[43mfs\u001b[49m\u001b[43m,\u001b[49m\u001b[43m \u001b[49m\u001b[43mrg\u001b[49m\u001b[43m,\u001b[49m\u001b[43m \u001b[49m\u001b[43mcolumns\u001b[49m\u001b[38;5;241;43m.\u001b[39;49m\u001b[43mcopy\u001b[49m\u001b[43m(\u001b[49m\u001b[43m)\u001b[49m\u001b[43m,\u001b[49m\u001b[43m \u001b[49m\u001b[43mindex\u001b[49m\u001b[43m,\u001b[49m\u001b[43m \u001b[49m\u001b[38;5;241;43m*\u001b[39;49m\u001b[38;5;241;43m*\u001b[39;49m\u001b[43mtoolz\u001b[49m\u001b[38;5;241;43m.\u001b[39;49m\u001b[43mmerge\u001b[49m\u001b[43m(\u001b[49m\u001b[43mkwargs\u001b[49m\u001b[43m,\u001b[49m\u001b[43m \u001b[49m\u001b[43mkw\u001b[49m\u001b[43m)\u001b[49m\u001b[43m)\u001b[49m\n\u001b[1;32m    589\u001b[0m         \u001b[38;5;28;01mfor\u001b[39;00m (rg, kw) \u001b[38;5;129;01min\u001b[39;00m part\n\u001b[1;32m    590\u001b[0m     ]\n\u001b[1;32m    591\u001b[0m     df \u001b[38;5;241m=\u001b[39m concat(dfs, axis\u001b[38;5;241m=\u001b[39m\u001b[38;5;241m0\u001b[39m) \u001b[38;5;28;01mif\u001b[39;00m \u001b[38;5;28mlen\u001b[39m(dfs) \u001b[38;5;241m>\u001b[39m \u001b[38;5;241m1\u001b[39m \u001b[38;5;28;01melse\u001b[39;00m dfs[\u001b[38;5;241m0\u001b[39m]\n\u001b[1;32m    592\u001b[0m \u001b[38;5;28;01melse\u001b[39;00m:\n\u001b[1;32m    593\u001b[0m     \u001b[38;5;66;03m# No part specific kwargs, let engine read\u001b[39;00m\n\u001b[1;32m    594\u001b[0m     \u001b[38;5;66;03m# list of parts at once\u001b[39;00m\n",
      "File \u001b[0;32m/srv/conda/envs/notebook/lib/python3.10/site-packages/dask/dataframe/io/parquet/arrow.py:435\u001b[0m, in \u001b[0;36mArrowDatasetEngine.read_partition\u001b[0;34m(cls, fs, pieces, columns, index, categories, partitions, filters, schema, **kwargs)\u001b[0m\n\u001b[1;32m    432\u001b[0m     row_group \u001b[38;5;241m=\u001b[39m [row_group]\n\u001b[1;32m    434\u001b[0m \u001b[38;5;66;03m# Read in arrow table and convert to pandas\u001b[39;00m\n\u001b[0;32m--> 435\u001b[0m arrow_table \u001b[38;5;241m=\u001b[39m \u001b[38;5;28;43mcls\u001b[39;49m\u001b[38;5;241;43m.\u001b[39;49m\u001b[43m_read_table\u001b[49m\u001b[43m(\u001b[49m\n\u001b[1;32m    436\u001b[0m \u001b[43m    \u001b[49m\u001b[43mpath_or_frag\u001b[49m\u001b[43m,\u001b[49m\n\u001b[1;32m    437\u001b[0m \u001b[43m    \u001b[49m\u001b[43mfs\u001b[49m\u001b[43m,\u001b[49m\n\u001b[1;32m    438\u001b[0m \u001b[43m    \u001b[49m\u001b[43mrow_group\u001b[49m\u001b[43m,\u001b[49m\n\u001b[1;32m    439\u001b[0m \u001b[43m    \u001b[49m\u001b[43mcolumns\u001b[49m\u001b[43m,\u001b[49m\n\u001b[1;32m    440\u001b[0m \u001b[43m    \u001b[49m\u001b[43mschema\u001b[49m\u001b[43m,\u001b[49m\n\u001b[1;32m    441\u001b[0m \u001b[43m    \u001b[49m\u001b[43mfilters\u001b[49m\u001b[43m,\u001b[49m\n\u001b[1;32m    442\u001b[0m \u001b[43m    \u001b[49m\u001b[43mpartitions\u001b[49m\u001b[43m,\u001b[49m\n\u001b[1;32m    443\u001b[0m \u001b[43m    \u001b[49m\u001b[43mpartition_keys\u001b[49m\u001b[43m,\u001b[49m\n\u001b[1;32m    444\u001b[0m \u001b[43m    \u001b[49m\u001b[38;5;241;43m*\u001b[39;49m\u001b[38;5;241;43m*\u001b[39;49m\u001b[43mkwargs\u001b[49m\u001b[43m,\u001b[49m\n\u001b[1;32m    445\u001b[0m \u001b[43m\u001b[49m\u001b[43m)\u001b[49m\n\u001b[1;32m    446\u001b[0m \u001b[38;5;28;01mif\u001b[39;00m multi_read:\n\u001b[1;32m    447\u001b[0m     tables\u001b[38;5;241m.\u001b[39mappend(arrow_table)\n",
      "File \u001b[0;32m/srv/conda/envs/notebook/lib/python3.10/site-packages/dask/dataframe/io/parquet/arrow.py:1497\u001b[0m, in \u001b[0;36mArrowDatasetEngine._read_table\u001b[0;34m(cls, path_or_frag, fs, row_groups, columns, schema, filters, partitions, partition_keys, **kwargs)\u001b[0m\n\u001b[1;32m   1494\u001b[0m         \u001b[38;5;66;03m# Extract hive-partition keys, and make sure they\u001b[39;00m\n\u001b[1;32m   1495\u001b[0m         \u001b[38;5;66;03m# are ordered the same as they are in `partitions`\u001b[39;00m\n\u001b[1;32m   1496\u001b[0m         raw_keys \u001b[38;5;241m=\u001b[39m pa_ds\u001b[38;5;241m.\u001b[39m_get_partition_keys(frag\u001b[38;5;241m.\u001b[39mpartition_expression)\n\u001b[0;32m-> 1497\u001b[0m         partition_keys \u001b[38;5;241m=\u001b[39m [\n\u001b[1;32m   1498\u001b[0m             (hive_part\u001b[38;5;241m.\u001b[39mname, raw_keys[hive_part\u001b[38;5;241m.\u001b[39mname])\n\u001b[1;32m   1499\u001b[0m             \u001b[38;5;28;01mfor\u001b[39;00m hive_part \u001b[38;5;129;01min\u001b[39;00m partitions\n\u001b[1;32m   1500\u001b[0m         ]\n\u001b[1;32m   1502\u001b[0m \u001b[38;5;28;01mif\u001b[39;00m frag:\n\u001b[1;32m   1503\u001b[0m     cols \u001b[38;5;241m=\u001b[39m []\n",
      "File \u001b[0;32m/srv/conda/envs/notebook/lib/python3.10/site-packages/dask/dataframe/io/parquet/arrow.py:1498\u001b[0m, in \u001b[0;36m<listcomp>\u001b[0;34m(.0)\u001b[0m\n\u001b[1;32m   1494\u001b[0m         \u001b[38;5;66;03m# Extract hive-partition keys, and make sure they\u001b[39;00m\n\u001b[1;32m   1495\u001b[0m         \u001b[38;5;66;03m# are ordered the same as they are in `partitions`\u001b[39;00m\n\u001b[1;32m   1496\u001b[0m         raw_keys \u001b[38;5;241m=\u001b[39m pa_ds\u001b[38;5;241m.\u001b[39m_get_partition_keys(frag\u001b[38;5;241m.\u001b[39mpartition_expression)\n\u001b[1;32m   1497\u001b[0m         partition_keys \u001b[38;5;241m=\u001b[39m [\n\u001b[0;32m-> 1498\u001b[0m             (hive_part\u001b[38;5;241m.\u001b[39mname, \u001b[43mraw_keys\u001b[49m\u001b[43m[\u001b[49m\u001b[43mhive_part\u001b[49m\u001b[38;5;241;43m.\u001b[39;49m\u001b[43mname\u001b[49m\u001b[43m]\u001b[49m)\n\u001b[1;32m   1499\u001b[0m             \u001b[38;5;28;01mfor\u001b[39;00m hive_part \u001b[38;5;129;01min\u001b[39;00m partitions\n\u001b[1;32m   1500\u001b[0m         ]\n\u001b[1;32m   1502\u001b[0m \u001b[38;5;28;01mif\u001b[39;00m frag:\n\u001b[1;32m   1503\u001b[0m     cols \u001b[38;5;241m=\u001b[39m []\n",
      "\u001b[0;31mKeyError\u001b[0m: 'OR_GLM-L2-LCFA_G16_s20222991500000_e20222991500200_c20222991500214_events.parquet?st'"
     ]
    }
   ],
   "source": [
    "%%time\n",
    "energy = ddf[\"energy\"].compute()"
   ]
  },
  {
   "cell_type": "code",
   "execution_count": 14,
   "id": "e628b5ad-b971-4d67-95eb-2bd3bcb378e9",
   "metadata": {},
   "outputs": [
    {
     "ename": "NameError",
     "evalue": "name 'energy' is not defined",
     "output_type": "error",
     "traceback": [
      "\u001b[0;31m---------------------------------------------------------------------------\u001b[0m",
      "\u001b[0;31mNameError\u001b[0m                                 Traceback (most recent call last)",
      "Cell \u001b[0;32mIn [14], line 3\u001b[0m\n\u001b[1;32m      1\u001b[0m \u001b[38;5;28;01mimport\u001b[39;00m \u001b[38;5;21;01mseaborn\u001b[39;00m \u001b[38;5;28;01mas\u001b[39;00m \u001b[38;5;21;01msns\u001b[39;00m\n\u001b[0;32m----> 3\u001b[0m ax \u001b[38;5;241m=\u001b[39m sns\u001b[38;5;241m.\u001b[39mdisplot(energy, log_scale\u001b[38;5;241m=\u001b[39m\u001b[38;5;28;01mTrue\u001b[39;00m);\n\u001b[1;32m      4\u001b[0m ax\u001b[38;5;241m.\u001b[39mset(xlabel\u001b[38;5;241m=\u001b[39m\u001b[38;5;124m\"\u001b[39m\u001b[38;5;124mEnergy (joules)\u001b[39m\u001b[38;5;124m\"\u001b[39m)\n",
      "\u001b[0;31mNameError\u001b[0m: name 'energy' is not defined"
     ]
    }
   ],
   "source": [
    "import seaborn as sns\n",
    "\n",
    "ax = sns.displot(energy, log_scale=True)\n",
    "ax.set(xlabel=\"Energy (joules)\");"
   ]
  }
 ],
 "metadata": {
  "kernelspec": {
   "display_name": "Python 3 (ipykernel)",
   "language": "python",
   "name": "python3"
  },
  "language_info": {
   "codemirror_mode": {
    "name": "ipython",
    "version": 3
   },
   "file_extension": ".py",
   "mimetype": "text/x-python",
   "name": "python",
   "nbconvert_exporter": "python",
   "pygments_lexer": "ipython3",
   "version": "3.10.6"
  },
  "vscode": {
   "interpreter": {
    "hash": "4ffbd1b0996e3a79afb3d81e30644170a5904f770a23d1ec65a6a61c4dfe8e95"
   }
  },
  "widgets": {
   "application/vnd.jupyter.widget-state+json": {
    "state": {},
    "version_major": 2,
    "version_minor": 0
   }
  }
 },
 "nbformat": 4,
 "nbformat_minor": 5
}
