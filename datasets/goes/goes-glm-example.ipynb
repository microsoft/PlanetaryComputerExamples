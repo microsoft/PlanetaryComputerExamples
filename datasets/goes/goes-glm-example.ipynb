{
 "cells": [
  {
   "cell_type": "markdown",
   "id": "0e18d0b9-817e-4ec8-bbb5-738214ae03ea",
   "metadata": {},
   "source": [
    "## Accessing GOES-R Lightning Detection Data\n",
    "\n",
    "The Geostationary Lightning Mapper (GLM) is a single-channel, near-infrared optical transient detector that can detect the momentary changes in an optical scene, indicating the presence of lightning.\n",
    "\n",
    "The GLM data product consists of a hierarchy of earth-located lightning radiant energy measures including events, groups, and flashes:\n",
    "\n",
    "* Lightning events are detected by the instrument.\n",
    "* Lightning groups are a collection of one or more lightning events that satisfy temporal and spatial coincidence thresholds.\n",
    "* Similarly, lightning flashes are a collection of one or more lightning groups that satisfy temporal and spatial coincidence thresholds.\n",
    "\n",
    "The product includes the relationship among lightning events, groups, and flashes, and the area coverage of lightning groups and flashes. The product also includes processing and data quality metadata, and satellite state and location information.\n",
    "\n",
    "For more details, see the [GOES-GLM catalog page](http://planetarycomputer.microsoft.com/dataset/goes-glm) and linked documents.\n",
    "\n",
    "### Data access\n",
    "\n",
    "The datasets hosted by the Planetary Computer are available from [Azure Blob Storage](https://docs.microsoft.com/en-us/azure/storage/blobs/). We'll use [pystac-client](https://pystac-client.readthedocs.io/) to search the Planetary Computer's [STAC API](https://planetarycomputer.microsoft.com/api/stac/v1/docs) for the subset of the data that we care about, and then we'll load the data directly from Azure Blob Storage. We'll specify a `modifier` so that we can access the data stored in the Planetary Computer's private Blob Storage Containers. See [Reading from the STAC API](https://planetarycomputer.microsoft.com/docs/quickstarts/reading-stac/) and [Using tokens for data access](https://planetarycomputer.microsoft.com/docs/concepts/sas/) for more."
   ]
  },
  {
   "cell_type": "code",
   "execution_count": 1,
   "id": "55eb2981-fdd3-4643-8c20-08510d78e061",
   "metadata": {},
   "outputs": [
    {
     "data": {
      "text/plain": [
       "362"
      ]
     },
     "execution_count": 1,
     "metadata": {},
     "output_type": "execute_result"
    }
   ],
   "source": [
    "import pystac_client\n",
    "import planetary_computer\n",
    "\n",
    "catalog = pystac_client.Client.open(\n",
    "    \"https://planetarycomputer-staging.microsoft.com/api/stac/v1/\",\n",
    "    modifier=planetary_computer.sign_inplace,\n",
    ")\n",
    "search = catalog.search(\n",
    "    collections=[\"goes-glm\"], datetime=\"2022-10-26T15:00:00/2022-10-26T16:00:00Z\"\n",
    ")\n",
    "items = search.item_collection()\n",
    "len(items)"
   ]
  },
  {
   "cell_type": "markdown",
   "id": "01893502-270f-4448-bad0-09d34fd7cca0",
   "metadata": {},
   "source": [
    "Our search for items in the hour from 15:00 - 16:00 matched 362 items. Each item has some useful metadata, including the platform that captured the event:"
   ]
  },
  {
   "cell_type": "code",
   "execution_count": 2,
   "id": "88e76429-0dfd-4a62-98d4-06b5ecbe1d97",
   "metadata": {},
   "outputs": [
    {
     "data": {
      "text/plain": [
       "'GOES-17'"
      ]
     },
     "execution_count": 2,
     "metadata": {},
     "output_type": "execute_result"
    }
   ],
   "source": [
    "item = items[0]\n",
    "item.properties[\"platform\"]"
   ]
  },
  {
   "cell_type": "markdown",
   "id": "0a2320d8-3318-44c7-b342-0688e987a951",
   "metadata": {},
   "source": [
    "And some fields that are unique to GOES"
   ]
  },
  {
   "cell_type": "code",
   "execution_count": 3,
   "id": "9ad7b6a5-94f0-47c2-9bda-c1a4175e1edc",
   "metadata": {},
   "outputs": [
    {
     "data": {
      "text/html": [
       "<pre style=\"white-space:pre;overflow-x:auto;line-height:normal;font-family:Menlo,'DejaVu Sans Mono',consolas,'Courier New',monospace\">┏━━━━━━━━━━━━━━━━━━━━━━━━━━━━━━━━━━━━━━┳━━━━━━━━━━━━━━━━━━━━┓\n",
       "┃<span style=\"font-weight: bold\"> Property name                        </span>┃<span style=\"font-weight: bold\"> Value              </span>┃\n",
       "┡━━━━━━━━━━━━━━━━━━━━━━━━━━━━━━━━━━━━━━╇━━━━━━━━━━━━━━━━━━━━┩\n",
       "│ goes:event_count                     │ 467                │\n",
       "│ goes:flash_count                     │ 10                 │\n",
       "│ goes:group_count                     │ 234                │\n",
       "│ goes:orbital_slot                    │ West               │\n",
       "│ goes:yaw_flip_flag                   │ 2                  │\n",
       "│ goes:system_environment              │ OR                 │\n",
       "│ goes:flash_time_threshold            │ 3.3299999237060547 │\n",
       "│ goes:group_time_threshold            │ 0.0                │\n",
       "│ goes:lightning_wavelength            │ 777.3699951171875  │\n",
       "│ goes:nominal_satellite_height        │ 35786.0234375      │\n",
       "│ goes:percent_navigated_L1b_events    │ 1.0                │\n",
       "│ goes:nominal_satellite_subpoint_lat  │ 0.0                │\n",
       "│ goes:nominal_satellite_subpoint_lon  │ -137.1999969482422 │\n",
       "│ goes:percent_uncorrectable_L0_errors │ 0.0                │\n",
       "└──────────────────────────────────────┴────────────────────┘\n",
       "</pre>\n"
      ],
      "text/plain": [
       "┏━━━━━━━━━━━━━━━━━━━━━━━━━━━━━━━━━━━━━━┳━━━━━━━━━━━━━━━━━━━━┓\n",
       "┃\u001b[1m \u001b[0m\u001b[1mProperty name                       \u001b[0m\u001b[1m \u001b[0m┃\u001b[1m \u001b[0m\u001b[1mValue             \u001b[0m\u001b[1m \u001b[0m┃\n",
       "┡━━━━━━━━━━━━━━━━━━━━━━━━━━━━━━━━━━━━━━╇━━━━━━━━━━━━━━━━━━━━┩\n",
       "│ goes:event_count                     │ 467                │\n",
       "│ goes:flash_count                     │ 10                 │\n",
       "│ goes:group_count                     │ 234                │\n",
       "│ goes:orbital_slot                    │ West               │\n",
       "│ goes:yaw_flip_flag                   │ 2                  │\n",
       "│ goes:system_environment              │ OR                 │\n",
       "│ goes:flash_time_threshold            │ 3.3299999237060547 │\n",
       "│ goes:group_time_threshold            │ 0.0                │\n",
       "│ goes:lightning_wavelength            │ 777.3699951171875  │\n",
       "│ goes:nominal_satellite_height        │ 35786.0234375      │\n",
       "│ goes:percent_navigated_L1b_events    │ 1.0                │\n",
       "│ goes:nominal_satellite_subpoint_lat  │ 0.0                │\n",
       "│ goes:nominal_satellite_subpoint_lon  │ -137.1999969482422 │\n",
       "│ goes:percent_uncorrectable_L0_errors │ 0.0                │\n",
       "└──────────────────────────────────────┴────────────────────┘\n"
      ]
     },
     "execution_count": 3,
     "metadata": {},
     "output_type": "execute_result"
    }
   ],
   "source": [
    "import rich.table\n",
    "\n",
    "t = rich.table.Table(\"Property name\", \"Value\")\n",
    "\n",
    "for k, v in item.properties.items():\n",
    "    if k.startswith(\"goes\"):\n",
    "        t.add_row(k, str(v))\n",
    "\n",
    "t"
   ]
  },
  {
   "cell_type": "markdown",
   "id": "ac0a8855-13a8-44d3-96a8-a6551fbbfa7a",
   "metadata": {},
   "source": [
    "Each item has four assets."
   ]
  },
  {
   "cell_type": "code",
   "execution_count": 4,
   "id": "0fd7d9ca-7910-4a09-b679-32baa4675a13",
   "metadata": {},
   "outputs": [
    {
     "data": {
      "text/html": [
       "<pre style=\"white-space:pre;overflow-x:auto;line-height:normal;font-family:Menlo,'DejaVu Sans Mono',consolas,'Courier New',monospace\">┏━━━━━━━━━━━━━━━━━━━━┳━━━━━━━━━━━━━━━━━━━━━━━━━━━━━━━━━━━━━━━┓\n",
       "┃<span style=\"font-weight: bold\"> Item key           </span>┃<span style=\"font-weight: bold\"> Title                                 </span>┃\n",
       "┡━━━━━━━━━━━━━━━━━━━━╇━━━━━━━━━━━━━━━━━━━━━━━━━━━━━━━━━━━━━━━┩\n",
       "│ netcdf             │ Original NetCDF4 file                 │\n",
       "│ geoparquet_events  │ Processed GeoParquet file for events  │\n",
       "│ geoparquet_groups  │ Processed GeoParquet file for groups  │\n",
       "│ geoparquet_flashes │ Processed GeoParquet file for flashes │\n",
       "└────────────────────┴───────────────────────────────────────┘\n",
       "</pre>\n"
      ],
      "text/plain": [
       "┏━━━━━━━━━━━━━━━━━━━━┳━━━━━━━━━━━━━━━━━━━━━━━━━━━━━━━━━━━━━━━┓\n",
       "┃\u001b[1m \u001b[0m\u001b[1mItem key          \u001b[0m\u001b[1m \u001b[0m┃\u001b[1m \u001b[0m\u001b[1mTitle                                \u001b[0m\u001b[1m \u001b[0m┃\n",
       "┡━━━━━━━━━━━━━━━━━━━━╇━━━━━━━━━━━━━━━━━━━━━━━━━━━━━━━━━━━━━━━┩\n",
       "│ netcdf             │ Original NetCDF4 file                 │\n",
       "│ geoparquet_events  │ Processed GeoParquet file for events  │\n",
       "│ geoparquet_groups  │ Processed GeoParquet file for groups  │\n",
       "│ geoparquet_flashes │ Processed GeoParquet file for flashes │\n",
       "└────────────────────┴───────────────────────────────────────┘\n"
      ]
     },
     "execution_count": 4,
     "metadata": {},
     "output_type": "execute_result"
    }
   ],
   "source": [
    "import rich.table\n",
    "\n",
    "t = rich.table.Table(\"Item key\", \"Title\")\n",
    "for k, asset in items[0].assets.items():\n",
    "    t.add_row(k, asset.title)\n",
    "\n",
    "t"
   ]
  },
  {
   "cell_type": "markdown",
   "id": "ee482270-bc57-46dd-a33d-4ba2ae11d296",
   "metadata": {},
   "source": [
    "The NetCDF file is the raw data from NOAA, and includes all the values for events, groups, and flashes. To facilitate cloud-optimized acces, we also provide geoparquet assets for each of these. We recommend using the geoparquet assets.\n",
    "\n",
    "We'll read in each of the geoparquet tables using [geopandas](https://geopandas.readthedocs.io/)."
   ]
  },
  {
   "cell_type": "code",
   "execution_count": 5,
   "id": "cc0ac7e9-6953-4518-8f9d-9ae6a39423aa",
   "metadata": {},
   "outputs": [
    {
     "data": {
      "text/html": [
       "<div>\n",
       "<style scoped>\n",
       "    .dataframe tbody tr th:only-of-type {\n",
       "        vertical-align: middle;\n",
       "    }\n",
       "\n",
       "    .dataframe tbody tr th {\n",
       "        vertical-align: top;\n",
       "    }\n",
       "\n",
       "    .dataframe thead th {\n",
       "        text-align: right;\n",
       "    }\n",
       "</style>\n",
       "<table border=\"1\" class=\"dataframe\">\n",
       "  <thead>\n",
       "    <tr style=\"text-align: right;\">\n",
       "      <th></th>\n",
       "      <th>geometry</th>\n",
       "      <th>id</th>\n",
       "      <th>time</th>\n",
       "      <th>time_offset</th>\n",
       "      <th>energy</th>\n",
       "      <th>parent_group_id</th>\n",
       "    </tr>\n",
       "  </thead>\n",
       "  <tbody>\n",
       "    <tr>\n",
       "      <th>0</th>\n",
       "      <td>POINT (-118.04311 11.86569)</td>\n",
       "      <td>102864254</td>\n",
       "      <td>2022-10-26 15:59:41.121539+00:00</td>\n",
       "      <td>1.121539</td>\n",
       "      <td>1.346878e-14</td>\n",
       "      <td>43660952</td>\n",
       "    </tr>\n",
       "    <tr>\n",
       "      <th>1</th>\n",
       "      <td>POINT (-118.04311 11.86569)</td>\n",
       "      <td>102864255</td>\n",
       "      <td>2022-10-26 15:59:41.123446+00:00</td>\n",
       "      <td>1.123446</td>\n",
       "      <td>9.683006e-15</td>\n",
       "      <td>43660953</td>\n",
       "    </tr>\n",
       "    <tr>\n",
       "      <th>2</th>\n",
       "      <td>POINT (-118.04311 11.86569)</td>\n",
       "      <td>102864256</td>\n",
       "      <td>2022-10-26 15:59:41.125354+00:00</td>\n",
       "      <td>1.125354</td>\n",
       "      <td>1.607507e-14</td>\n",
       "      <td>43660954</td>\n",
       "    </tr>\n",
       "    <tr>\n",
       "      <th>3</th>\n",
       "      <td>POINT (-118.04311 11.86569)</td>\n",
       "      <td>102864257</td>\n",
       "      <td>2022-10-26 15:59:41.127643+00:00</td>\n",
       "      <td>1.127643</td>\n",
       "      <td>2.425539e-14</td>\n",
       "      <td>43660955</td>\n",
       "    </tr>\n",
       "    <tr>\n",
       "      <th>4</th>\n",
       "      <td>POINT (-118.12436 11.86366)</td>\n",
       "      <td>102864258</td>\n",
       "      <td>2022-10-26 15:59:41.127643+00:00</td>\n",
       "      <td>1.127643</td>\n",
       "      <td>1.788046e-15</td>\n",
       "      <td>43660955</td>\n",
       "    </tr>\n",
       "  </tbody>\n",
       "</table>\n",
       "</div>"
      ],
      "text/plain": [
       "                      geometry         id                             time  \\\n",
       "0  POINT (-118.04311 11.86569)  102864254 2022-10-26 15:59:41.121539+00:00   \n",
       "1  POINT (-118.04311 11.86569)  102864255 2022-10-26 15:59:41.123446+00:00   \n",
       "2  POINT (-118.04311 11.86569)  102864256 2022-10-26 15:59:41.125354+00:00   \n",
       "3  POINT (-118.04311 11.86569)  102864257 2022-10-26 15:59:41.127643+00:00   \n",
       "4  POINT (-118.12436 11.86366)  102864258 2022-10-26 15:59:41.127643+00:00   \n",
       "\n",
       "   time_offset        energy  parent_group_id  \n",
       "0     1.121539  1.346878e-14         43660952  \n",
       "1     1.123446  9.683006e-15         43660953  \n",
       "2     1.125354  1.607507e-14         43660954  \n",
       "3     1.127643  2.425539e-14         43660955  \n",
       "4     1.127643  1.788046e-15         43660955  "
      ]
     },
     "execution_count": 5,
     "metadata": {},
     "output_type": "execute_result"
    }
   ],
   "source": [
    "import geopandas\n",
    "import fsspec\n",
    "import pyarrow.fs\n",
    "\n",
    "fs = pyarrow.fs.PyFileSystem(pyarrow.fs.FSSpecHandler(fsspec.filesystem(\"http\")))\n",
    "\n",
    "events = geopandas.read_parquet(\n",
    "    items[0].assets[\"geoparquet_events\"].href, filesystem=fs\n",
    ")\n",
    "events.head()"
   ]
  },
  {
   "cell_type": "code",
   "execution_count": 6,
   "id": "9db1db18-cb92-463c-960a-581a6b09f421",
   "metadata": {},
   "outputs": [
    {
     "data": {
      "text/html": [
       "<div>\n",
       "<style scoped>\n",
       "    .dataframe tbody tr th:only-of-type {\n",
       "        vertical-align: middle;\n",
       "    }\n",
       "\n",
       "    .dataframe tbody tr th {\n",
       "        vertical-align: top;\n",
       "    }\n",
       "\n",
       "    .dataframe thead th {\n",
       "        text-align: right;\n",
       "    }\n",
       "</style>\n",
       "<table border=\"1\" class=\"dataframe\">\n",
       "  <thead>\n",
       "    <tr style=\"text-align: right;\">\n",
       "      <th></th>\n",
       "      <th>geometry</th>\n",
       "      <th>id</th>\n",
       "      <th>time</th>\n",
       "      <th>time_offset</th>\n",
       "      <th>frame_time</th>\n",
       "      <th>frame_time_offset</th>\n",
       "      <th>area</th>\n",
       "      <th>energy</th>\n",
       "      <th>quality_flag</th>\n",
       "      <th>parent_flash_id</th>\n",
       "    </tr>\n",
       "  </thead>\n",
       "  <tbody>\n",
       "    <tr>\n",
       "      <th>0</th>\n",
       "      <td>POINT (-118.04401 11.86523)</td>\n",
       "      <td>43660952</td>\n",
       "      <td>2022-10-26 15:59:41.121539+00:00</td>\n",
       "      <td>1.121539</td>\n",
       "      <td>2022-10-26 15:59:41.243611+00:00</td>\n",
       "      <td>1.243611</td>\n",
       "      <td>72485880.0</td>\n",
       "      <td>1.348357e-14</td>\n",
       "      <td>0</td>\n",
       "      <td>30499</td>\n",
       "    </tr>\n",
       "    <tr>\n",
       "      <th>1</th>\n",
       "      <td>POINT (-118.04399 11.86524)</td>\n",
       "      <td>43660953</td>\n",
       "      <td>2022-10-26 15:59:41.123446+00:00</td>\n",
       "      <td>1.123446</td>\n",
       "      <td>2022-10-26 15:59:41.245900+00:00</td>\n",
       "      <td>1.245900</td>\n",
       "      <td>72485880.0</td>\n",
       "      <td>9.684022e-15</td>\n",
       "      <td>0</td>\n",
       "      <td>30499</td>\n",
       "    </tr>\n",
       "    <tr>\n",
       "      <th>2</th>\n",
       "      <td>POINT (-118.04398 11.86524)</td>\n",
       "      <td>43660954</td>\n",
       "      <td>2022-10-26 15:59:41.125354+00:00</td>\n",
       "      <td>1.125354</td>\n",
       "      <td>2022-10-26 15:59:41.247808+00:00</td>\n",
       "      <td>1.247808</td>\n",
       "      <td>72485880.0</td>\n",
       "      <td>1.608325e-14</td>\n",
       "      <td>0</td>\n",
       "      <td>30499</td>\n",
       "    </tr>\n",
       "    <tr>\n",
       "      <th>3</th>\n",
       "      <td>POINT (-118.04951 11.86515)</td>\n",
       "      <td>43660955</td>\n",
       "      <td>2022-10-26 15:59:41.127643+00:00</td>\n",
       "      <td>1.127643</td>\n",
       "      <td>2022-10-26 15:59:41.249715+00:00</td>\n",
       "      <td>1.249715</td>\n",
       "      <td>144971760.0</td>\n",
       "      <td>2.598206e-14</td>\n",
       "      <td>0</td>\n",
       "      <td>30499</td>\n",
       "    </tr>\n",
       "    <tr>\n",
       "      <th>4</th>\n",
       "      <td>POINT (-118.04395 11.86525)</td>\n",
       "      <td>43660956</td>\n",
       "      <td>2022-10-26 15:59:41.131457+00:00</td>\n",
       "      <td>1.131457</td>\n",
       "      <td>2022-10-26 15:59:41.253911+00:00</td>\n",
       "      <td>1.253911</td>\n",
       "      <td>72485880.0</td>\n",
       "      <td>2.784850e-15</td>\n",
       "      <td>0</td>\n",
       "      <td>30499</td>\n",
       "    </tr>\n",
       "  </tbody>\n",
       "</table>\n",
       "</div>"
      ],
      "text/plain": [
       "                      geometry        id                             time  \\\n",
       "0  POINT (-118.04401 11.86523)  43660952 2022-10-26 15:59:41.121539+00:00   \n",
       "1  POINT (-118.04399 11.86524)  43660953 2022-10-26 15:59:41.123446+00:00   \n",
       "2  POINT (-118.04398 11.86524)  43660954 2022-10-26 15:59:41.125354+00:00   \n",
       "3  POINT (-118.04951 11.86515)  43660955 2022-10-26 15:59:41.127643+00:00   \n",
       "4  POINT (-118.04395 11.86525)  43660956 2022-10-26 15:59:41.131457+00:00   \n",
       "\n",
       "   time_offset                       frame_time  frame_time_offset  \\\n",
       "0     1.121539 2022-10-26 15:59:41.243611+00:00           1.243611   \n",
       "1     1.123446 2022-10-26 15:59:41.245900+00:00           1.245900   \n",
       "2     1.125354 2022-10-26 15:59:41.247808+00:00           1.247808   \n",
       "3     1.127643 2022-10-26 15:59:41.249715+00:00           1.249715   \n",
       "4     1.131457 2022-10-26 15:59:41.253911+00:00           1.253911   \n",
       "\n",
       "          area        energy  quality_flag  parent_flash_id  \n",
       "0   72485880.0  1.348357e-14             0            30499  \n",
       "1   72485880.0  9.684022e-15             0            30499  \n",
       "2   72485880.0  1.608325e-14             0            30499  \n",
       "3  144971760.0  2.598206e-14             0            30499  \n",
       "4   72485880.0  2.784850e-15             0            30499  "
      ]
     },
     "execution_count": 6,
     "metadata": {},
     "output_type": "execute_result"
    }
   ],
   "source": [
    "groups = geopandas.read_parquet(\n",
    "    items[0].assets[\"geoparquet_groups\"].href, filesystem=fs\n",
    ")\n",
    "groups.head()"
   ]
  },
  {
   "cell_type": "code",
   "execution_count": 7,
   "id": "0cd676af-3d4a-4ee5-995c-da23ecdf2a46",
   "metadata": {},
   "outputs": [
    {
     "data": {
      "text/html": [
       "<div>\n",
       "<style scoped>\n",
       "    .dataframe tbody tr th:only-of-type {\n",
       "        vertical-align: middle;\n",
       "    }\n",
       "\n",
       "    .dataframe tbody tr th {\n",
       "        vertical-align: top;\n",
       "    }\n",
       "\n",
       "    .dataframe thead th {\n",
       "        text-align: right;\n",
       "    }\n",
       "</style>\n",
       "<table border=\"1\" class=\"dataframe\">\n",
       "  <thead>\n",
       "    <tr style=\"text-align: right;\">\n",
       "      <th></th>\n",
       "      <th>geometry</th>\n",
       "      <th>id</th>\n",
       "      <th>time_of_first_event</th>\n",
       "      <th>time_offset_of_first_event</th>\n",
       "      <th>time_of_last_event</th>\n",
       "      <th>time_offset_of_last_event</th>\n",
       "      <th>frame_time_of_first_event</th>\n",
       "      <th>frame_time_offset_of_first_event</th>\n",
       "      <th>frame_time_of_last_event</th>\n",
       "      <th>frame_time_offset_of_last_event</th>\n",
       "      <th>area</th>\n",
       "      <th>energy</th>\n",
       "      <th>quality_flag</th>\n",
       "    </tr>\n",
       "  </thead>\n",
       "  <tbody>\n",
       "    <tr>\n",
       "      <th>0</th>\n",
       "      <td>POINT (-118.07206 11.83880)</td>\n",
       "      <td>30499</td>\n",
       "      <td>2022-10-26 15:59:41.121539+00:00</td>\n",
       "      <td>1.121539</td>\n",
       "      <td>2022-10-26 15:59:41.405738+00:00</td>\n",
       "      <td>1.405738</td>\n",
       "      <td>2022-10-26 15:59:41.243611+00:00</td>\n",
       "      <td>1.243611</td>\n",
       "      <td>2022-10-26 15:59:41.528192+00:00</td>\n",
       "      <td>1.528192</td>\n",
       "      <td>507401184.0</td>\n",
       "      <td>1.336280e-12</td>\n",
       "      <td>0</td>\n",
       "    </tr>\n",
       "    <tr>\n",
       "      <th>1</th>\n",
       "      <td>POINT (-117.87598 11.80840)</td>\n",
       "      <td>30500</td>\n",
       "      <td>2022-10-26 15:59:41.374076+00:00</td>\n",
       "      <td>1.374076</td>\n",
       "      <td>2022-10-26 15:59:41.499200+00:00</td>\n",
       "      <td>1.499200</td>\n",
       "      <td>2022-10-26 15:59:41.496148+00:00</td>\n",
       "      <td>1.496148</td>\n",
       "      <td>2022-10-26 15:59:41.621654+00:00</td>\n",
       "      <td>1.621654</td>\n",
       "      <td>290553952.0</td>\n",
       "      <td>4.028499e-14</td>\n",
       "      <td>0</td>\n",
       "    </tr>\n",
       "    <tr>\n",
       "      <th>2</th>\n",
       "      <td>POINT (178.37387 12.46468)</td>\n",
       "      <td>30503</td>\n",
       "      <td>2022-10-26 15:59:44.899292+00:00</td>\n",
       "      <td>4.899292</td>\n",
       "      <td>2022-10-26 15:59:45.259024+00:00</td>\n",
       "      <td>5.259024</td>\n",
       "      <td>2022-10-26 15:59:45.027086+00:00</td>\n",
       "      <td>5.027086</td>\n",
       "      <td>2022-10-26 15:59:45.386818+00:00</td>\n",
       "      <td>5.386818</td>\n",
       "      <td>255913312.0</td>\n",
       "      <td>2.482841e-13</td>\n",
       "      <td>0</td>\n",
       "    </tr>\n",
       "    <tr>\n",
       "      <th>3</th>\n",
       "      <td>POINT (177.27937 22.44949)</td>\n",
       "      <td>30502</td>\n",
       "      <td>2022-10-26 15:59:44.001298+00:00</td>\n",
       "      <td>4.001298</td>\n",
       "      <td>2022-10-26 15:59:44.011599+00:00</td>\n",
       "      <td>4.011599</td>\n",
       "      <td>2022-10-26 15:59:44.130619+00:00</td>\n",
       "      <td>4.130619</td>\n",
       "      <td>2022-10-26 15:59:44.140537+00:00</td>\n",
       "      <td>4.140537</td>\n",
       "      <td>161757968.0</td>\n",
       "      <td>7.328486e-14</td>\n",
       "      <td>0</td>\n",
       "    </tr>\n",
       "    <tr>\n",
       "      <th>4</th>\n",
       "      <td>POINT (175.18144 21.25999)</td>\n",
       "      <td>30504</td>\n",
       "      <td>2022-10-26 15:59:47.640957+00:00</td>\n",
       "      <td>7.640957</td>\n",
       "      <td>2022-10-26 15:59:47.941560+00:00</td>\n",
       "      <td>7.941560</td>\n",
       "      <td>2022-10-26 15:59:47.770658+00:00</td>\n",
       "      <td>7.770658</td>\n",
       "      <td>2022-10-26 15:59:48.070880+00:00</td>\n",
       "      <td>8.070880</td>\n",
       "      <td>720738560.0</td>\n",
       "      <td>3.352838e-13</td>\n",
       "      <td>0</td>\n",
       "    </tr>\n",
       "  </tbody>\n",
       "</table>\n",
       "</div>"
      ],
      "text/plain": [
       "                      geometry     id              time_of_first_event  \\\n",
       "0  POINT (-118.07206 11.83880)  30499 2022-10-26 15:59:41.121539+00:00   \n",
       "1  POINT (-117.87598 11.80840)  30500 2022-10-26 15:59:41.374076+00:00   \n",
       "2   POINT (178.37387 12.46468)  30503 2022-10-26 15:59:44.899292+00:00   \n",
       "3   POINT (177.27937 22.44949)  30502 2022-10-26 15:59:44.001298+00:00   \n",
       "4   POINT (175.18144 21.25999)  30504 2022-10-26 15:59:47.640957+00:00   \n",
       "\n",
       "   time_offset_of_first_event               time_of_last_event  \\\n",
       "0                    1.121539 2022-10-26 15:59:41.405738+00:00   \n",
       "1                    1.374076 2022-10-26 15:59:41.499200+00:00   \n",
       "2                    4.899292 2022-10-26 15:59:45.259024+00:00   \n",
       "3                    4.001298 2022-10-26 15:59:44.011599+00:00   \n",
       "4                    7.640957 2022-10-26 15:59:47.941560+00:00   \n",
       "\n",
       "   time_offset_of_last_event        frame_time_of_first_event  \\\n",
       "0                   1.405738 2022-10-26 15:59:41.243611+00:00   \n",
       "1                   1.499200 2022-10-26 15:59:41.496148+00:00   \n",
       "2                   5.259024 2022-10-26 15:59:45.027086+00:00   \n",
       "3                   4.011599 2022-10-26 15:59:44.130619+00:00   \n",
       "4                   7.941560 2022-10-26 15:59:47.770658+00:00   \n",
       "\n",
       "   frame_time_offset_of_first_event         frame_time_of_last_event  \\\n",
       "0                          1.243611 2022-10-26 15:59:41.528192+00:00   \n",
       "1                          1.496148 2022-10-26 15:59:41.621654+00:00   \n",
       "2                          5.027086 2022-10-26 15:59:45.386818+00:00   \n",
       "3                          4.130619 2022-10-26 15:59:44.140537+00:00   \n",
       "4                          7.770658 2022-10-26 15:59:48.070880+00:00   \n",
       "\n",
       "   frame_time_offset_of_last_event         area        energy  quality_flag  \n",
       "0                         1.528192  507401184.0  1.336280e-12             0  \n",
       "1                         1.621654  290553952.0  4.028499e-14             0  \n",
       "2                         5.386818  255913312.0  2.482841e-13             0  \n",
       "3                         4.140537  161757968.0  7.328486e-14             0  \n",
       "4                         8.070880  720738560.0  3.352838e-13             0  "
      ]
     },
     "execution_count": 7,
     "metadata": {},
     "output_type": "execute_result"
    }
   ],
   "source": [
    "flashes = geopandas.read_parquet(\n",
    "    items[0].assets[\"geoparquet_flashes\"].href, filesystem=fs\n",
    ")\n",
    "flashes.head()"
   ]
  },
  {
   "cell_type": "markdown",
   "id": "453e33f5-e36d-4c9f-b1e7-7302ecf061fd",
   "metadata": {},
   "source": [
    "And make a distribution plot of the `energy` variable"
   ]
  },
  {
   "cell_type": "code",
   "execution_count": 8,
   "id": "f5c3dac5-63e6-4faa-b6e1-dc0a1798751d",
   "metadata": {},
   "outputs": [
    {
     "data": {
      "image/png": "[encoded data removed]",
      "text/plain": [
       "<Figure size 500x500 with 1 Axes>"
      ]
     },
     "metadata": {},
     "output_type": "display_data"
    }
   ],
   "source": [
    "import seaborn as sns\n",
    "\n",
    "ax = sns.displot(events[\"energy\"], log_scale=True)\n",
    "ax.set(xlabel=\"Energy (joules)\");"
   ]
  },
  {
   "cell_type": "markdown",
   "id": "6b62984f-2018-4e1c-9374-a23a3a4b5a2e",
   "metadata": {},
   "source": [
    "### Reading many items\n",
    "\n",
    "When working with this many items, just doing operations like reading the metadata of a parquet file for each asset can add up. You might want to parallelize these tasks with some parallel computing framework. In this example, we'll use [Dask](https://dask.org)."
   ]
  },
  {
   "cell_type": "code",
   "execution_count": 9,
   "id": "46fbcbfe-4412-48ad-a0f8-0499b06292a2",
   "metadata": {},
   "outputs": [],
   "source": [
    "import dask_geopandas"
   ]
  },
  {
   "cell_type": "code",
   "execution_count": 10,
   "id": "0861694d-d8c5-4a84-be43-615e0378dc66",
   "metadata": {},
   "outputs": [
    {
     "name": "stdout",
     "output_type": "stream",
     "text": [
      "CPU times: user 2.85 s, sys: 316 ms, total: 3.16 s\n",
      "Wall time: 17.3 s\n"
     ]
    }
   ],
   "source": [
    "%%time\n",
    "ddf = dask_geopandas.read_parquet(\n",
    "    [item.assets[\"geoparquet_events\"].href for item in items], filesystem=fs\n",
    ")"
   ]
  },
  {
   "cell_type": "code",
   "execution_count": 11,
   "id": "53755542-cb85-4385-8313-c3b3f1963acc",
   "metadata": {},
   "outputs": [
    {
     "name": "stdout",
     "output_type": "stream",
     "text": [
      "CPU times: user 2.68 s, sys: 462 ms, total: 3.15 s\n",
      "Wall time: 3.51 s\n"
     ]
    }
   ],
   "source": [
    "%%time\n",
    "energy = ddf[\"energy\"].compute()"
   ]
  },
  {
   "cell_type": "code",
   "execution_count": 12,
   "id": "644cc029-f4fa-4d13-bdb5-14174b7e0d58",
   "metadata": {},
   "outputs": [
    {
     "data": {
      "image/png": "[encoded data removed]",
      "text/plain": [
       "<Figure size 500x500 with 1 Axes>"
      ]
     },
     "metadata": {},
     "output_type": "display_data"
    }
   ],
   "source": [
    "ax = sns.displot(energy, log_scale=True)\n",
    "ax.set(xlabel=\"Energy (joules)\");"
   ]
  }
 ],
 "metadata": {
  "kernelspec": {
   "display_name": "Python 3 (ipykernel)",
   "language": "python",
   "name": "python3"
  },
  "language_info": {
   "codemirror_mode": {
    "name": "ipython",
    "version": 3
   },
   "file_extension": ".py",
   "mimetype": "text/x-python",
   "name": "python",
   "nbconvert_exporter": "python",
   "pygments_lexer": "ipython3",
   "version": "3.10.6"
  },
  "widgets": {
   "application/vnd.jupyter.widget-state+json": {
    "state": {},
    "version_major": 2,
    "version_minor": 0
   }
  }
 },
 "nbformat": 4,
 "nbformat_minor": 5
}
