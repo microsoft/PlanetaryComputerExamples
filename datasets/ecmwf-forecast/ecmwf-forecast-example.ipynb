{
 "cells": [
  {
   "cell_type": "markdown",
   "id": "88337e22-e47d-465c-84c7-b8a120a136ff",
   "metadata": {},
   "source": [
    "## Accessing ECMWF Open Data – Real Time\n",
    "\n",
    "The Planetary Computer includes data from the ECMWF Open Data (real time) program. See the [dataset](https://planetarycomputer.microsoft.com/dataset/ecmwf-forecast) page and [ECMWF Uesr Guide](https://confluence.ecmwf.int/display/UDOC/ECMWF+Open+Data+-+Real+Time) for more.\n",
    "\n",
    "A separate collection exists for each combination of *stream* (or forecasting system) and *type*, namely, enfo-ep, oper-fc, scda-fc, scwv-fc, waef-ef, waef-ep, wave-fc. This notebook will focus on the wave-fc collection.\n",
    "\n",
    "Each item in this collection includes metadata about the data that produced that particular dataset. Filter on these values to select the item of interest. For example, we can select data that are forecast `0h` hours out."
   ]
  },
  {
   "cell_type": "code",
   "execution_count": 1,
   "id": "604b112f-e25a-417d-a462-61c602dfbec5",
   "metadata": {},
   "outputs": [
    {
     "name": "stderr",
     "output_type": "stream",
     "text": [
      "/anaconda/envs/py38_default/lib/python3.8/site-packages/gribapi/__init__.py:23: UserWarning: ecCodes 2.21.0 or higher is recommended. You are running version 2.16.0\n",
      "  warnings.warn(\n"
     ]
    }
   ],
   "source": [
    "import cartopy.crs as ccrs\n",
    "import fsspec\n",
    "import matplotlib.pyplot as plt\n",
    "import pystac_client\n",
    "import planetary_computer\n",
    "import urllib.request\n",
    "import xarray as xr\n",
    "\n",
    "#Loading custom codec\n",
    "from stactools.ecmwf_forecast.range_codec import Range\n",
    "from numcodecs.registry import register_codec\n",
    "register_codec(Range)"
   ]
  },
  {
   "cell_type": "code",
   "execution_count": null,
   "id": "667f654a",
   "metadata": {},
   "outputs": [
    {
     "name": "stderr",
     "output_type": "stream",
     "text": [
      "/anaconda/envs/py38_default/lib/python3.8/site-packages/pystac_client/item_search.py:846: FutureWarning: get_all_items() is deprecated, use item_collection() instead.\n",
      "  warnings.warn(\n"
     ]
    }
   ],
   "source": [
    "catalog = pystac_client.Client.open(\n",
    "    \"https://pct-apis-staging.westeurope.cloudapp.azure.com/stac/\",\n",
    "    modifier=planetary_computer.sign_inplace,\n",
    ")\n",
    "search = catalog.search(\n",
    "    collections=[\"ecmwf-forecast-wave-fc\"],\n",
    "    query={\n",
    "        \"ecmwf:step\": {\"eq\": \"0h\"},\n",
    "    },\n",
    ")\n",
    "items = search.get_all_items()\n",
    "len(items)"
   ]
  },
  {
   "cell_type": "markdown",
   "id": "b6cda672-d955-463d-aef3-81aaf84477e5",
   "metadata": {},
   "source": [
    "We'll select the most recent item, using the item's datetime."
   ]
  },
  {
   "cell_type": "code",
   "execution_count": null,
   "id": "e3ac3d8b-042a-42d0-8a57-383f4562da5e",
   "metadata": {},
   "outputs": [],
   "source": [
    "item = max(items, key=lambda item: item.datetime)\n",
    "item"
   ]
  },
  {
   "cell_type": "markdown",
   "id": "faaea556-2f07-4951-abe8-8cbd9a46e5e9",
   "metadata": {},
   "source": [
    "This STAC item has two assets. One asset is the actual GRIB2 file with the data. The second asset is the \"index\" file, which contains information about the messages within the GRIB2 file."
   ]
  },
  {
   "cell_type": "code",
   "execution_count": null,
   "id": "c34fc8a3-1ecd-4b4b-848e-f506bdf1bcbe",
   "metadata": {},
   "outputs": [],
   "source": [
    "url = item.assets[\"data\"].href\n",
    "url"
   ]
  },
  {
   "cell_type": "markdown",
   "id": "edde8193-7ba8-49b5-bfb7-707ab0edce8e",
   "metadata": {},
   "source": [
    "To open the file with xarray, we can download it locally and open it with `cfgrib`."
   ]
  },
  {
   "cell_type": "code",
   "execution_count": null,
   "id": "9dba8491-8e37-435e-abb8-0a73626c11d2",
   "metadata": {},
   "outputs": [],
   "source": [
    "filename, _ = urllib.request.urlretrieve(url)\n",
    "ds = xr.open_dataset(filename, engine=\"cfgrib\")\n",
    "ds"
   ]
  },
  {
   "cell_type": "markdown",
   "id": "b0cf9b31",
   "metadata": {},
   "source": [
    "As opposed to having to download the data locally to take a look at it, we can open it more efficiently using kerchunk indices. [Kerchunk](https://pypi.org/project/kerchunk/) is a python library that provides a unified way to represent a variety of chunked, compressed data formats (e.g. NetCDF, HDF5, GRIB) through metadata, allowing efficient access to the data from traditional file systems or cloud object storage.\n",
    "\n",
    "We used the Kerchunk library to generate metadata indices for this STAC collection and stored them in the properties section for each item. Let's take a look."
   ]
  },
  {
   "cell_type": "code",
   "execution_count": null,
   "id": "ae9d5e0d",
   "metadata": {},
   "outputs": [],
   "source": [
    "item.properties['kerchunk_indices']"
   ]
  },
  {
   "cell_type": "markdown",
   "id": "7c788c60-caa3-49b9-bfc8-107f7aeaabb2",
   "metadata": {},
   "source": [
    "Kerchunk indices are similar to a Zarr store. We can use the packages fsspec and xarray to view the virtual dataset. You'll see it matches the dataset loaded above from the downloaded .grib2 file."
   ]
  },
  {
   "cell_type": "code",
   "execution_count": null,
   "id": "5cb3b3d1-2b75-4486-bf07-d8d9822a0cfa",
   "metadata": {},
   "outputs": [],
   "source": [
    "m = fsspec.get_mapper('reference://', fo=item.properties['kerchunk_indices'])\n",
    "ds_kerchunk = xr.open_dataset(m, engine='zarr', consolidated=False)\n",
    "ds_kerchunk"
   ]
  },
  {
   "cell_type": "markdown",
   "id": "9e481590-5e18-45ff-a3ae-ed0db41abf40",
   "metadata": {},
   "source": [
    "We can plot the various data variables, for example the significant height of combined wind waves and swell."
   ]
  },
  {
   "cell_type": "code",
   "execution_count": null,
   "id": "468e3062-f159-44cb-89ce-b2ded4e352d3",
   "metadata": {},
   "outputs": [],
   "source": [
    "projection = ccrs.Robinson()\n",
    "fig, ax = plt.subplots(figsize=(16, 9), subplot_kw=dict(projection=projection))\n",
    "\n",
    "ds.swh.plot(ax=ax)\n",
    "plt.show()"
   ]
  },
  {
   "cell_type": "markdown",
   "id": "a6dad68b",
   "metadata": {},
   "source": [
    "Now let's do a simple comparison of loading and analysis time between having to retrieve/download the data and accessing it via kerchunk.\n",
    "\n",
    "Performing the analysis using the original .grib2 file takes 3 seconds (2.2 seconds to load, <1 second to calculate the mean of swh). Performing the analysis using kerchunk indices takes 1 second (<1 second to load, <1 second to calculate the mean of swh). When performing a more complex analysis, using the kerchunk indices can really speed up your work."
   ]
  },
  {
   "cell_type": "code",
   "execution_count": null,
   "id": "8687dc7e",
   "metadata": {},
   "outputs": [],
   "source": [
    "%%time\n",
    "filename, _ = urllib.request.urlretrieve(url)\n",
    "ds = xr.open_dataset(filename, engine=\"cfgrib\")"
   ]
  },
  {
   "cell_type": "code",
   "execution_count": null,
   "id": "d2623637",
   "metadata": {},
   "outputs": [],
   "source": [
    "%%time\n",
    "ds['swh'].mean()"
   ]
  },
  {
   "cell_type": "code",
   "execution_count": null,
   "id": "1726ad14",
   "metadata": {},
   "outputs": [],
   "source": [
    "%%time\n",
    "m = fsspec.get_mapper('reference://', fo=item.properties['kerchunk_indices'])\n",
    "ds = xr.open_dataset(m, engine='zarr', consolidated=False)"
   ]
  },
  {
   "cell_type": "code",
   "execution_count": null,
   "id": "423574ec",
   "metadata": {},
   "outputs": [],
   "source": [
    "%%time\n",
    "ds['swh'].mean()"
   ]
  },
  {
   "cell_type": "code",
   "execution_count": null,
   "id": "e14df9cf-e5c5-4ecf-86ca-470ce4677525",
   "metadata": {},
   "outputs": [],
   "source": []
  }
 ],
 "metadata": {
  "kernelspec": {
   "display_name": "Python 3 (ipykernel)",
   "language": "python",
   "name": "python3"
  },
  "language_info": {
   "codemirror_mode": {
    "name": "ipython",
    "version": 3
   },
   "file_extension": ".py",
   "mimetype": "text/x-python",
   "name": "python",
   "nbconvert_exporter": "python",
   "pygments_lexer": "ipython3",
   "version": "3.8.16"
  }
 },
 "nbformat": 4,
 "nbformat_minor": 5
}
