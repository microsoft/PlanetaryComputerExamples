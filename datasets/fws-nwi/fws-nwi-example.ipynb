{
 "cells": [
  {
   "cell_type": "markdown",
   "metadata": {},
   "source": [
    "## Accessing Fish and Wildlife Service's National Wetlands Inventory (FWS NWI) with the Planetary Computer\n",
    "\n",
    "The [National Wetlands Inventory](https://www.fws.gov/program/national-wetlands-inventory) was established by the U.S. Fish and Wildlife Service (Service) to conduct a nationwide inventory of U.S. wetlands to provide biologists and others with information on the distribution and type of wetlands to aid conservation efforts. To do this, the NWI developed a wetland classification system that is now the official wetland classification system for the Service and the federal standard for wetland classification (61 FR 39465). The NWI also developed techniques for mapping and recording the inventory findings. \n",
    "\n",
    "The Wetlands Data Layer, which is hosted on the Planetary Computer, is the product of over 45 years of work by the National Wetlands Inventory (NWI) and its collaborators and currently contains more than 35 million wetland and deepwater features. This dataset, covering the conterminous United States, Hawaii, Puerto Rico, the Virgin Islands, Guam, the major Northern Mariana Islands and Alaska, continues to grow at a rate of 50 to100 million acres annually as data are updated. The data layer is updated twice a year and these changes are reflected on the mapper and in the data downloads.\n",
    "\n",
    "The data are provided in their source zipfiles, grouped by state, and as [geoparquet](https://github.com/opengeospatial/geoparquet) datasets. Documentation for this dataset is available at the [Planetary Computer Catalog](https://planetarycomputer.microsoft.com/dataset/fws-nwi).\n",
    "\n",
    "### Data access\n",
    "\n",
    "This notebook works with or without and API key, but you will be given more permissive access to the data with an API key. The [Planetary Computer Hub](https://planetarycomputer.microsoft.com/compute) sets the environment variable `PC_SDK_SUBSCRIPTION_KEY` when your server is started. The API key may be manually set via the following code:\n",
    "\n",
    "```python\n",
    "pc.settings.set_subscription_key(<YOUR API Key>)\n",
    "```\n",
    "\n",
    "The datasets hosted by the Planetary Computer are available in [Azure Blob Storage](https://docs.microsoft.com/en-us/azure/storage/blobs/). We use [pystac-client](https://pystac-client.readthedocs.io/) to search the Planetary Computer's [STAC API](https://planetarycomputer.microsoft.com/api/stac/v1/docs) for the subset of the data that we care about, and then we'll load the data directly from Azure Blob Storage. We'll specify a `modifier` so that we can access the data stored in the Planetary Computer's private Blob Storage Containers. See [Reading from the STAC API](https://planetarycomputer.microsoft.com/docs/quickstarts/reading-stac/) and [Using tokens for data access](https://planetarycomputer.microsoft.com/docs/concepts/sas/) for more."
   ]
  },
  {
   "cell_type": "code",
   "execution_count": 1,
   "metadata": {},
   "outputs": [
    {
     "name": "stdout",
     "output_type": "stream",
     "text": [
      "<CollectionClient id=fws-nwi>\n"
     ]
    }
   ],
   "source": [
    "import planetary_computer\n",
    "from pystac_client import Client\n",
    "\n",
    "URL = \"https://planetarycomputer.microsoft.com/api/stac/v1/\"\n",
    "client = Client.open(URL, modifier=planetary_computer.sign_inplace)\n",
    "collection = client.get_collection(\"fws-nwi\")\n",
    "print(collection)"
   ]
  },
  {
   "cell_type": "markdown",
   "metadata": {},
   "source": [
    "### Collection summaries\n",
    "\n",
    "Each FWS [item](https://github.com/radiantearth/stac-spec/blob/master/item-spec/item-spec.md) corresponds to a state (or similar administrative unit). A summary of the available codes is available on the [collection](https://github.com/radiantearth/stac-spec/blob/master/collection-spec/collection-spec.md)."
   ]
  },
  {
   "cell_type": "code",
   "execution_count": 2,
   "metadata": {},
   "outputs": [
    {
     "data": {
      "text/html": [
       "<pre style=\"white-space:pre;overflow-x:auto;line-height:normal;font-family:Menlo,'DejaVu Sans Mono',consolas,'Courier New',monospace\">┏━━━━━━━━━━━━┳━━━━━━━━━━━━━━━━━━━━━━━━━━━━━━━━┓\n",
       "┃<span style=\"font-weight: bold\"> State code </span>┃<span style=\"font-weight: bold\"> State                          </span>┃\n",
       "┡━━━━━━━━━━━━╇━━━━━━━━━━━━━━━━━━━━━━━━━━━━━━━━┩\n",
       "│ AL         │ Alabama                        │\n",
       "│ AK         │ Alaska                         │\n",
       "│ AZ         │ Arizona                        │\n",
       "│ AR         │ Arkansas                       │\n",
       "│ CA         │ California                     │\n",
       "│ CO         │ Colorado                       │\n",
       "│ CT         │ Connecticut                    │\n",
       "│ DE         │ Delaware                       │\n",
       "│ DC         │ District of Columbia           │\n",
       "│ FL         │ Florida                        │\n",
       "│ GA         │ Georgia                        │\n",
       "│ HI         │ Hawaii                         │\n",
       "│ ID         │ Idaho                          │\n",
       "│ IL         │ Illinois                       │\n",
       "│ IN         │ Indiana                        │\n",
       "│ IA         │ Iowa                           │\n",
       "│ KS         │ Kansas                         │\n",
       "│ KY         │ Kentucky                       │\n",
       "│ LA         │ Louisiana                      │\n",
       "│ ME         │ Maine                          │\n",
       "│ MD         │ Maryland                       │\n",
       "│ MA         │ Massachusetts                  │\n",
       "│ MI         │ Michigan                       │\n",
       "│ MN         │ Minnesota                      │\n",
       "│ MS         │ Mississippi                    │\n",
       "│ MO         │ Missouri                       │\n",
       "│ MT         │ Montana                        │\n",
       "│ NE         │ Nebraska                       │\n",
       "│ NV         │ Nevada                         │\n",
       "│ NH         │ New Hampshire                  │\n",
       "│ NJ         │ New Jersey                     │\n",
       "│ NM         │ New Mexico                     │\n",
       "│ NY         │ New York                       │\n",
       "│ NC         │ North Carolina                 │\n",
       "│ ND         │ North Dakota                   │\n",
       "│ OH         │ Ohio                           │\n",
       "│ OK         │ Oklahoma                       │\n",
       "│ OR         │ Oregon                         │\n",
       "│ PacTrust   │ Pacific Trust Islands          │\n",
       "│ PA         │ Pennsylvania                   │\n",
       "│ PRVI       │ Puerto Rico and Virgin Islands │\n",
       "│ RI         │ Rhode Island                   │\n",
       "│ SC         │ South Carolina                 │\n",
       "│ SD         │ South Dakota                   │\n",
       "│ TN         │ Tennessee                      │\n",
       "│ TX         │ Texas                          │\n",
       "│ UT         │ Utah                           │\n",
       "│ VT         │ Vermont                        │\n",
       "│ VA         │ Virginia                       │\n",
       "│ WA         │ Washington                     │\n",
       "│ WV         │ West Virginia                  │\n",
       "│ WI         │ Wisconsin                      │\n",
       "│ WY         │ Wyoming                        │\n",
       "└────────────┴────────────────────────────────┘\n",
       "</pre>\n"
      ],
      "text/plain": [
       "┏━━━━━━━━━━━━┳━━━━━━━━━━━━━━━━━━━━━━━━━━━━━━━━┓\n",
       "┃\u001b[1m \u001b[0m\u001b[1mState code\u001b[0m\u001b[1m \u001b[0m┃\u001b[1m \u001b[0m\u001b[1mState                         \u001b[0m\u001b[1m \u001b[0m┃\n",
       "┡━━━━━━━━━━━━╇━━━━━━━━━━━━━━━━━━━━━━━━━━━━━━━━┩\n",
       "│ AL         │ Alabama                        │\n",
       "│ AK         │ Alaska                         │\n",
       "│ AZ         │ Arizona                        │\n",
       "│ AR         │ Arkansas                       │\n",
       "│ CA         │ California                     │\n",
       "│ CO         │ Colorado                       │\n",
       "│ CT         │ Connecticut                    │\n",
       "│ DE         │ Delaware                       │\n",
       "│ DC         │ District of Columbia           │\n",
       "│ FL         │ Florida                        │\n",
       "│ GA         │ Georgia                        │\n",
       "│ HI         │ Hawaii                         │\n",
       "│ ID         │ Idaho                          │\n",
       "│ IL         │ Illinois                       │\n",
       "│ IN         │ Indiana                        │\n",
       "│ IA         │ Iowa                           │\n",
       "│ KS         │ Kansas                         │\n",
       "│ KY         │ Kentucky                       │\n",
       "│ LA         │ Louisiana                      │\n",
       "│ ME         │ Maine                          │\n",
       "│ MD         │ Maryland                       │\n",
       "│ MA         │ Massachusetts                  │\n",
       "│ MI         │ Michigan                       │\n",
       "│ MN         │ Minnesota                      │\n",
       "│ MS         │ Mississippi                    │\n",
       "│ MO         │ Missouri                       │\n",
       "│ MT         │ Montana                        │\n",
       "│ NE         │ Nebraska                       │\n",
       "│ NV         │ Nevada                         │\n",
       "│ NH         │ New Hampshire                  │\n",
       "│ NJ         │ New Jersey                     │\n",
       "│ NM         │ New Mexico                     │\n",
       "│ NY         │ New York                       │\n",
       "│ NC         │ North Carolina                 │\n",
       "│ ND         │ North Dakota                   │\n",
       "│ OH         │ Ohio                           │\n",
       "│ OK         │ Oklahoma                       │\n",
       "│ OR         │ Oregon                         │\n",
       "│ PacTrust   │ Pacific Trust Islands          │\n",
       "│ PA         │ Pennsylvania                   │\n",
       "│ PRVI       │ Puerto Rico and Virgin Islands │\n",
       "│ RI         │ Rhode Island                   │\n",
       "│ SC         │ South Carolina                 │\n",
       "│ SD         │ South Dakota                   │\n",
       "│ TN         │ Tennessee                      │\n",
       "│ TX         │ Texas                          │\n",
       "│ UT         │ Utah                           │\n",
       "│ VT         │ Vermont                        │\n",
       "│ VA         │ Virginia                       │\n",
       "│ WA         │ Washington                     │\n",
       "│ WV         │ West Virginia                  │\n",
       "│ WI         │ Wisconsin                      │\n",
       "│ WY         │ Wyoming                        │\n",
       "└────────────┴────────────────────────────────┘\n"
      ]
     },
     "execution_count": 2,
     "metadata": {},
     "output_type": "execute_result"
    }
   ],
   "source": [
    "from rich.table import Table\n",
    "\n",
    "summaries = collection.summaries\n",
    "states = Table(\"State code\", \"State\")\n",
    "for state_code, state in zip(\n",
    "    summaries.get_list(\"fws_nwi:state_code\"), summaries.get_list(\"fws_nwi:state\")\n",
    "):\n",
    "    states.add_row(state_code, state)\n",
    "states"
   ]
  },
  {
   "cell_type": "markdown",
   "metadata": {},
   "source": [
    "### Fetching a single area's data\n",
    "\n",
    "FWS NWI items have their state code as their ID, so it's easy to get the STAC item from, e.g., Washington, DC."
   ]
  },
  {
   "cell_type": "code",
   "execution_count": 3,
   "metadata": {},
   "outputs": [],
   "source": [
    "item = collection.get_item(\"DC\")"
   ]
  },
  {
   "cell_type": "markdown",
   "metadata": {},
   "source": [
    "### Item assets\n",
    "\n",
    "Every item has its source zipfile as an asset. It also has all shapefiles in the zipfile as assets, converted to geoparquet tables. Each state has its own layout, so you'll need to query the assets to see what's available.\n",
    "\n",
    "There's three types of roles that geoparquet assets might have (text taken from the original FWS NWI metadata):\n",
    "- Wetlands: This data set represents the extent, approximate location and type of wetlands and deepwater habitats in the United States and its Territories. These data delineate the areal extent of wetlands and surface waters as defined by Cowardin et al. (1979), which represents a biological definition of wetlands and deepwater habitats. There is no attempt to define the limits of proprietary jurisdiction of any Federal, State, or local government, or to establish the geographical scope of the regulatory programs of government agencies. Some wetland habitats may be under represented or excluded in certain areas because of the limitations of aerial imagery as the primary data source used to detect wetlands. These habitats include seagrasses or submerged aquatic vegetation that are found in the intertidal and subtidal zones of estuaries and near shore coastal waters and also some deepwater reef communities (coral or tuberficid worm reefs). These habitats, because of their depth and water clarity, go undetected by most aerial imagery. By policy, the Service also excludes certain types of \"farmed wetlands\" as may be defined by the Food Security Act or that do not coincide with the Cowardin et al. definition.\n",
    "- Historic wetlands: This data set represents the extent and approximate location of historic wetland habitats in certain areas of the conterminous United States. The identification of these historic wetlands is limited by the methodology outlined in the associated Historic Wetlands Project Metadata and is not intended to be a comprehensive inventory of all historic wetlands. The U.S. Fish and Wildlife Service (Service) is the principal Federal agency that provides information to the public on the extent and status of the Nation's wetlands and provides stewardship for the wetlands data that comprise the Wetlands Layer of the National Spatial Data Infrastructure. In the formulation of this data layer, historic wetlands are defined as areas where there is evidence that a wetland once existed. This evidence can be from historical map information inventories of past wetland extent or other information collected that relate directly to data on wetland filling, drainage or other modifications. Historic wetlands have been identified using several different techniques depending on the availability and type of information used to locate these areas and user needs. For example, historical maps often provide information about past wetland extent or location and can be useful tools to identify historic wetlands. Historic wetlands have been identified as polygonal data. No linear features have been included. Historic wetland polygons are not classified as wetlands and have no wetland labels or attribution. Since these features no longer exist, boundary delineations are considered approximations based on topography, previously mapped information or indications of historic water levels.\n",
    "- Riparian: This data set represents the extent, approximate location and type of riparian habitats in the western United States. These data delineate the areal extent of riparian habitats as defined by A System For Mapping Riparian Areas in the United States (USFWS 2009). Certain riparian habitats may be excluded from the National mapping program because of the limitations of aerial imagery as the primary data source used to detect riparian habitats. This dataset should be used in conjuction with the Riparian Mapping Areas layer, which identifies the extent and location of Riparian mapping projects.\n"
   ]
  },
  {
   "cell_type": "code",
   "execution_count": 4,
   "metadata": {},
   "outputs": [
    {
     "data": {
      "text/html": [
       "<pre style=\"white-space:pre;overflow-x:auto;line-height:normal;font-family:Menlo,'DejaVu Sans Mono',consolas,'Courier New',monospace\">┏━━━━━━━━━━━━━━━━━━━━━━━━━━━━━┳━━━━━━━━━━━━━━━━━━━━━━━┳━━━━━━━━━━━━━━━━━━━━━━━━━━━━━┳━━━━━━━━━━━━━━━━━━━━━━━━━━━━━┓\n",
       "┃<span style=\"font-weight: bold\"> Key                         </span>┃<span style=\"font-weight: bold\"> Media type            </span>┃<span style=\"font-weight: bold\"> Title                       </span>┃<span style=\"font-weight: bold\"> Roles                       </span>┃\n",
       "┡━━━━━━━━━━━━━━━━━━━━━━━━━━━━━╇━━━━━━━━━━━━━━━━━━━━━━━╇━━━━━━━━━━━━━━━━━━━━━━━━━━━━━╇━━━━━━━━━━━━━━━━━━━━━━━━━━━━━┩\n",
       "│ zip                         │ application/zip       │ DC_shapefile_wetlands       │ data, archive, source       │\n",
       "│ DC_Wetlands                 │ application/x-parquet │ DC Wetlands                 │ data, cloud-optimized,      │\n",
       "│                             │                       │                             │ wetlands                    │\n",
       "│ District_of_Columbia        │ application/x-parquet │ District of Columbia        │ data, cloud-optimized       │\n",
       "│ DC_Wetlands_Project_Metada… │ application/x-parquet │ DC Wetlands Project         │ data, cloud-optimized       │\n",
       "│                             │                       │ Metadata                    │                             │\n",
       "│ DC_Wetlands_Historic_Map_I… │ application/x-parquet │ DC Wetlands Historic Map    │ data, cloud-optimized       │\n",
       "│                             │                       │ Info                        │                             │\n",
       "└─────────────────────────────┴───────────────────────┴─────────────────────────────┴─────────────────────────────┘\n",
       "</pre>\n"
      ],
      "text/plain": [
       "┏━━━━━━━━━━━━━━━━━━━━━━━━━━━━━┳━━━━━━━━━━━━━━━━━━━━━━━┳━━━━━━━━━━━━━━━━━━━━━━━━━━━━━┳━━━━━━━━━━━━━━━━━━━━━━━━━━━━━┓\n",
       "┃\u001b[1m \u001b[0m\u001b[1mKey                        \u001b[0m\u001b[1m \u001b[0m┃\u001b[1m \u001b[0m\u001b[1mMedia type           \u001b[0m\u001b[1m \u001b[0m┃\u001b[1m \u001b[0m\u001b[1mTitle                      \u001b[0m\u001b[1m \u001b[0m┃\u001b[1m \u001b[0m\u001b[1mRoles                      \u001b[0m\u001b[1m \u001b[0m┃\n",
       "┡━━━━━━━━━━━━━━━━━━━━━━━━━━━━━╇━━━━━━━━━━━━━━━━━━━━━━━╇━━━━━━━━━━━━━━━━━━━━━━━━━━━━━╇━━━━━━━━━━━━━━━━━━━━━━━━━━━━━┩\n",
       "│ zip                         │ application/zip       │ DC_shapefile_wetlands       │ data, archive, source       │\n",
       "│ DC_Wetlands                 │ application/x-parquet │ DC Wetlands                 │ data, cloud-optimized,      │\n",
       "│                             │                       │                             │ wetlands                    │\n",
       "│ District_of_Columbia        │ application/x-parquet │ District of Columbia        │ data, cloud-optimized       │\n",
       "│ DC_Wetlands_Project_Metada… │ application/x-parquet │ DC Wetlands Project         │ data, cloud-optimized       │\n",
       "│                             │                       │ Metadata                    │                             │\n",
       "│ DC_Wetlands_Historic_Map_I… │ application/x-parquet │ DC Wetlands Historic Map    │ data, cloud-optimized       │\n",
       "│                             │                       │ Info                        │                             │\n",
       "└─────────────────────────────┴───────────────────────┴─────────────────────────────┴─────────────────────────────┘\n"
      ]
     },
     "execution_count": 4,
     "metadata": {},
     "output_type": "execute_result"
    }
   ],
   "source": [
    "assets = Table(\"Key\", \"Media type\", \"Title\", \"Roles\")\n",
    "for key, asset in item.assets.items():\n",
    "    assets.add_row(key, asset.media_type, asset.title, \", \".join(asset.roles))\n",
    "assets"
   ]
  },
  {
   "cell_type": "markdown",
   "metadata": {},
   "source": [
    "### Reading geoparquet data\n",
    "\n",
    "As you can see, the Washington, DC item only has `wetlands` data. Other items may have `riparian` or `historical_wetlands` roles as well, and may have multiple geoparquet tables per role, e.g. for large states where the shapefiles have been partitioned into regions.\n",
    "For this small area, let's visualize the wetlands data in the geoparquet file."
   ]
  },
  {
   "cell_type": "code",
   "execution_count": 5,
   "metadata": {},
   "outputs": [
    {
     "data": {
      "text/html": [
       "<div>\n",
       "<style scoped>\n",
       "    .dataframe tbody tr th:only-of-type {\n",
       "        vertical-align: middle;\n",
       "    }\n",
       "\n",
       "    .dataframe tbody tr th {\n",
       "        vertical-align: top;\n",
       "    }\n",
       "\n",
       "    .dataframe thead th {\n",
       "        text-align: right;\n",
       "    }\n",
       "</style>\n",
       "<table border=\"1\" class=\"dataframe\">\n",
       "  <thead>\n",
       "    <tr style=\"text-align: right;\">\n",
       "      <th></th>\n",
       "      <th>ATTRIBUTE</th>\n",
       "      <th>WETLAND_TY</th>\n",
       "      <th>ACRES</th>\n",
       "      <th>Shape_Leng</th>\n",
       "      <th>Shape_Area</th>\n",
       "      <th>geometry</th>\n",
       "    </tr>\n",
       "  </thead>\n",
       "  <tbody>\n",
       "    <tr>\n",
       "      <th>0</th>\n",
       "      <td>L1UBH</td>\n",
       "      <td>Lake</td>\n",
       "      <td>106.822629</td>\n",
       "      <td>3332.932665</td>\n",
       "      <td>4.322962e+05</td>\n",
       "      <td>POLYGON ((1619201.392 1923894.398, 1619200.410...</td>\n",
       "    </tr>\n",
       "    <tr>\n",
       "      <th>1</th>\n",
       "      <td>L1UBHh</td>\n",
       "      <td>Lake</td>\n",
       "      <td>38.541527</td>\n",
       "      <td>2007.802784</td>\n",
       "      <td>1.559722e+05</td>\n",
       "      <td>POLYGON ((1619541.030 1928956.200, 1619565.720...</td>\n",
       "    </tr>\n",
       "    <tr>\n",
       "      <th>2</th>\n",
       "      <td>L1UBHh</td>\n",
       "      <td>Lake</td>\n",
       "      <td>42.637706</td>\n",
       "      <td>3166.679695</td>\n",
       "      <td>1.725488e+05</td>\n",
       "      <td>POLYGON ((1611498.730 1929400.030, 1611484.420...</td>\n",
       "    </tr>\n",
       "    <tr>\n",
       "      <th>3</th>\n",
       "      <td>L1UBHx</td>\n",
       "      <td>Lake</td>\n",
       "      <td>15.102323</td>\n",
       "      <td>15297.418233</td>\n",
       "      <td>6.111699e+04</td>\n",
       "      <td>POLYGON ((1610880.264 1928432.972, 1610883.922...</td>\n",
       "    </tr>\n",
       "    <tr>\n",
       "      <th>4</th>\n",
       "      <td>L1UBKx</td>\n",
       "      <td>Lake</td>\n",
       "      <td>40.736128</td>\n",
       "      <td>1734.863664</td>\n",
       "      <td>1.648534e+05</td>\n",
       "      <td>POLYGON ((1613706.270 1925857.040, 1613701.600...</td>\n",
       "    </tr>\n",
       "    <tr>\n",
       "      <th>...</th>\n",
       "      <td>...</td>\n",
       "      <td>...</td>\n",
       "      <td>...</td>\n",
       "      <td>...</td>\n",
       "      <td>...</td>\n",
       "      <td>...</td>\n",
       "    </tr>\n",
       "    <tr>\n",
       "      <th>1551</th>\n",
       "      <td>PFO1E</td>\n",
       "      <td>Freshwater Forested/Shrub Wetland</td>\n",
       "      <td>4.258138</td>\n",
       "      <td>1351.527390</td>\n",
       "      <td>1.723209e+04</td>\n",
       "      <td>MULTIPOLYGON (((1616401.132 1908155.934, 16163...</td>\n",
       "    </tr>\n",
       "    <tr>\n",
       "      <th>1552</th>\n",
       "      <td>R5UBFx</td>\n",
       "      <td>Riverine</td>\n",
       "      <td>1.660922</td>\n",
       "      <td>3359.514699</td>\n",
       "      <td>6.721520e+03</td>\n",
       "      <td>POLYGON ((1621293.112 1920949.423, 1621293.322...</td>\n",
       "    </tr>\n",
       "    <tr>\n",
       "      <th>1553</th>\n",
       "      <td>PFO1A</td>\n",
       "      <td>Freshwater Forested/Shrub Wetland</td>\n",
       "      <td>1.806834</td>\n",
       "      <td>2078.463001</td>\n",
       "      <td>7.312006e+03</td>\n",
       "      <td>MULTIPOLYGON (((1625775.457 1910076.169, 16257...</td>\n",
       "    </tr>\n",
       "    <tr>\n",
       "      <th>1554</th>\n",
       "      <td>R3UBH</td>\n",
       "      <td>Riverine</td>\n",
       "      <td>0.129664</td>\n",
       "      <td>168.401644</td>\n",
       "      <td>5.247319e+02</td>\n",
       "      <td>MULTIPOLYGON (((1612942.967 1915173.152, 16129...</td>\n",
       "    </tr>\n",
       "    <tr>\n",
       "      <th>1555</th>\n",
       "      <td>R1UBV</td>\n",
       "      <td>Riverine</td>\n",
       "      <td>6697.765924</td>\n",
       "      <td>120191.914835</td>\n",
       "      <td>2.710492e+07</td>\n",
       "      <td>POLYGON ((1626144.193 1929351.622, 1626150.585...</td>\n",
       "    </tr>\n",
       "  </tbody>\n",
       "</table>\n",
       "<p>1556 rows × 6 columns</p>\n",
       "</div>"
      ],
      "text/plain": [
       "     ATTRIBUTE                         WETLAND_TY        ACRES     Shape_Leng  \\\n",
       "0        L1UBH                               Lake   106.822629    3332.932665   \n",
       "1       L1UBHh                               Lake    38.541527    2007.802784   \n",
       "2       L1UBHh                               Lake    42.637706    3166.679695   \n",
       "3       L1UBHx                               Lake    15.102323   15297.418233   \n",
       "4       L1UBKx                               Lake    40.736128    1734.863664   \n",
       "...        ...                                ...          ...            ...   \n",
       "1551     PFO1E  Freshwater Forested/Shrub Wetland     4.258138    1351.527390   \n",
       "1552    R5UBFx                           Riverine     1.660922    3359.514699   \n",
       "1553     PFO1A  Freshwater Forested/Shrub Wetland     1.806834    2078.463001   \n",
       "1554     R3UBH                           Riverine     0.129664     168.401644   \n",
       "1555     R1UBV                           Riverine  6697.765924  120191.914835   \n",
       "\n",
       "        Shape_Area                                           geometry  \n",
       "0     4.322962e+05  POLYGON ((1619201.392 1923894.398, 1619200.410...  \n",
       "1     1.559722e+05  POLYGON ((1619541.030 1928956.200, 1619565.720...  \n",
       "2     1.725488e+05  POLYGON ((1611498.730 1929400.030, 1611484.420...  \n",
       "3     6.111699e+04  POLYGON ((1610880.264 1928432.972, 1610883.922...  \n",
       "4     1.648534e+05  POLYGON ((1613706.270 1925857.040, 1613701.600...  \n",
       "...            ...                                                ...  \n",
       "1551  1.723209e+04  MULTIPOLYGON (((1616401.132 1908155.934, 16163...  \n",
       "1552  6.721520e+03  POLYGON ((1621293.112 1920949.423, 1621293.322...  \n",
       "1553  7.312006e+03  MULTIPOLYGON (((1625775.457 1910076.169, 16257...  \n",
       "1554  5.247319e+02  MULTIPOLYGON (((1612942.967 1915173.152, 16129...  \n",
       "1555  2.710492e+07  POLYGON ((1626144.193 1929351.622, 1626150.585...  \n",
       "\n",
       "[1556 rows x 6 columns]"
      ]
     },
     "execution_count": 5,
     "metadata": {},
     "output_type": "execute_result"
    }
   ],
   "source": [
    "import geopandas\n",
    "import fsspec.implementations.http\n",
    "\n",
    "asset = item.assets[\"DC_Wetlands\"]\n",
    "dataframe = geopandas.read_parquet(\n",
    "    asset.href, filesystem=fsspec.implementations.http.HTTPFileSystem()\n",
    ")\n",
    "dataframe"
   ]
  },
  {
   "cell_type": "code",
   "execution_count": 6,
   "metadata": {},
   "outputs": [
    {
     "data": {
      "text/html": [
       "<img src=\"https://ai4edatasetspublicassets.blob.core.windows.net/assets/notebook-output/datasets-fws-nwi-fws-nwi-example.ipynb/6.png\"/>"
      ],
      "text/plain": [
       "<Figure size 1000x1000 with 1 Axes>"
      ]
     },
     "metadata": {},
     "output_type": "display_data"
    }
   ],
   "source": [
    "import contextily\n",
    "\n",
    "ax = dataframe.plot(figsize=(10, 10), edgecolor=\"crimson\")\n",
    "contextily.add_basemap(\n",
    "    ax, crs=str(dataframe.crs), source=contextily.providers.Esri.NatGeoWorldMap\n",
    ")\n",
    "ax.set_axis_off()"
   ]
  },
  {
   "cell_type": "markdown",
   "metadata": {},
   "source": [
    "For larger states with multiple parquet tables, use asset roles to select the specific assets you want."
   ]
  },
  {
   "cell_type": "code",
   "execution_count": 7,
   "metadata": {},
   "outputs": [
    {
     "data": {
      "text/plain": [
       "['zip',\n",
       " 'California',\n",
       " 'CA_Riparian',\n",
       " 'CA_Wetlands',\n",
       " 'CA_Wetlands_North',\n",
       " 'CA_Wetlands_South',\n",
       " 'CA_Wetlands_NorthCentral',\n",
       " 'CA_Wetlands_SouthCentral',\n",
       " 'CA_Riparian_Project_Metadata',\n",
       " 'CA_Wetlands_Project_Metadata',\n",
       " 'CA_Wetlands_Historic_Map_Info']"
      ]
     },
     "execution_count": 7,
     "metadata": {},
     "output_type": "execute_result"
    }
   ],
   "source": [
    "california = collection.get_item(\"CA\")\n",
    "list(california.assets)"
   ]
  },
  {
   "cell_type": "code",
   "execution_count": 8,
   "metadata": {
    "tags": []
   },
   "outputs": [
    {
     "data": {
      "text/plain": [
       "['CA_Wetlands',\n",
       " 'CA_Wetlands_North',\n",
       " 'CA_Wetlands_South',\n",
       " 'CA_Wetlands_NorthCentral',\n",
       " 'CA_Wetlands_SouthCentral']"
      ]
     },
     "execution_count": 8,
     "metadata": {},
     "output_type": "execute_result"
    }
   ],
   "source": [
    "[\n",
    "    key\n",
    "    for key, asset in california.assets.items()\n",
    "    if \"cloud-optimized\" in asset.roles and \"wetlands\" in asset.roles\n",
    "]"
   ]
  }
 ],
 "metadata": {
  "kernelspec": {
   "display_name": "Python 3 (ipykernel)",
   "language": "python",
   "name": "python3"
  },
  "language_info": {
   "codemirror_mode": {
    "name": "ipython",
    "version": 3
   },
   "file_extension": ".py",
   "mimetype": "text/x-python",
   "name": "python",
   "nbconvert_exporter": "python",
   "pygments_lexer": "ipython3",
   "version": "3.11.4"
  },
  "vscode": {
   "interpreter": {
    "hash": "e948087a60c74a7365deb7ebdb8258aef9e35befc5ff622dcc77bee1eb899c9c"
   }
  },
  "widgets": {
   "application/vnd.jupyter.widget-state+json": {
    "state": {},
    "version_major": 2,
    "version_minor": 0
   }
  }
 },
 "nbformat": 4,
 "nbformat_minor": 4
}
