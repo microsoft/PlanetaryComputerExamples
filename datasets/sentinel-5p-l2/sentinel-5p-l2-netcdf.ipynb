{
 "cells": [
  {
   "attachments": {},
   "cell_type": "markdown",
   "metadata": {},
   "source": [
    "## Accessing Sentinel-5P data with the Planetary Computer STAC API\n",
    "\n",
    "The Copernicus [Sentinel-5 Precursor](https://sentinels.copernicus.eu/web/sentinel/missions/sentinel-5p) mission provides high spatio-temporal resolution measurements of the Earth's atmosphere. Sentinel-5P Level-2 data products include total columns of ozone, sulfur dioxide, nitrogen dioxide, carbon monoxide and formaldehyde, tropospheric columns of ozone, vertical profiles of ozone and cloud & aerosol information. The Planetary Computer's [`sentinel-5p-l2-netcdf`](https://planetarycomputer.microsoft.com/dataset/sentinel-5p-l2-netcdf) STAC Collection contains Items for thirteen Sentinel-5P Level-2 products in NetCDF format:\n",
    "\n",
    "* [`L2__AER_AI`](http://www.tropomi.eu/data-products/uv-aerosol-index): Ultraviolet aerosol index\n",
    "* [`L2__AER_LH`](http://www.tropomi.eu/data-products/aerosol-layer-height): Aerosol layer height\n",
    "* [`L2__CH4___`](http://www.tropomi.eu/data-products/methane): Methane (CH<sub>4</sub>) total column\n",
    "* [`L2__CLOUD_`](http://www.tropomi.eu/data-products/cloud): Cloud fraction, albedo, and top pressure\n",
    "* [`L2__CO____`](http://www.tropomi.eu/data-products/carbon-monoxide): Carbon monoxide (CO) total column\n",
    "* [`L2__HCHO__`](http://www.tropomi.eu/data-products/formaldehyde): Formaldehyde (HCHO) total column\n",
    "* [`L2__NO2___`](http://www.tropomi.eu/data-products/nitrogen-dioxide): Nitrogen dioxide (NO<sub>2</sub>) total column\n",
    "* [`L2__O3____`](http://www.tropomi.eu/data-products/total-ozone-column): Ozone (O<sub>3</sub>) total column\n",
    "* [`L2__O3_TCL`](http://www.tropomi.eu/data-products/tropospheric-ozone-column): Ozone (O<sub>3</sub>) tropospheric column\n",
    "* [`L2__SO2___`](http://www.tropomi.eu/data-products/sulphur-dioxide): Sulfur dioxide (SO<sub>2</sub>) total column\n",
    "* [`L2__NP_BD3`](http://www.tropomi.eu/data-products/auxiliary): Cloud from the Suomi NPP mission, band 3\n",
    "* [`L2__NP_BD6`](http://www.tropomi.eu/data-products/auxiliary): Cloud from the Suomi NPP mission, band 6\n",
    "* [`L2__NP_BD7`](http://www.tropomi.eu/data-products/auxiliary): Cloud from the Suomi NPP mission, band 7"
   ]
  },
  {
   "attachments": {},
   "cell_type": "markdown",
   "metadata": {},
   "source": [
    "### Environment setup\n",
    "\n",
    "This notebook works with or without an API key, but you will be given more permissive access to the data with an API key. If you are using the [Planetary Computer Hub](https://planetarycomputer.microsoft.com/compute) to run this notebook, then your API key is automatically set to the environment variable `PC_SDK_SUBSCRIPTION_KEY` for you when your server is started. Otherwise, you can view your keys by signing in to the [developer portal](https://planetarycomputer.developer.azure-api.net/). The API key may be manually set via the environment variable `PC_SDK_SUBSCRIPTION_KEY` or the following code:\n",
    "\n",
    "```python\n",
    "import planetary_computer\n",
    "planetary_computer.settings.set_subscription_key(<YOUR API Key>)\n",
    "```"
   ]
  },
  {
   "cell_type": "code",
   "execution_count": null,
   "metadata": {},
   "outputs": [],
   "source": [
    "import cartopy.crs as ccrs\n",
    "import fsspec\n",
    "import matplotlib\n",
    "import matplotlib.pyplot as plt\n",
    "import numpy as np\n",
    "import planetary_computer\n",
    "import pystac_client\n",
    "import xarray as xr"
   ]
  },
  {
   "attachments": {},
   "cell_type": "markdown",
   "metadata": {},
   "source": [
    "### Data access\n",
    "\n",
    "The datasets hosted by the Planetary Computer are available from [Azure Blob Storage](https://docs.microsoft.com/en-us/azure/storage/blobs/). We'll use [pystac-client](https://pystac-client.readthedocs.io/) to search the Planetary Computer's [STAC API](https://planetarycomputer.microsoft.com/api/stac/v1/docs) for the subset of the data that we care about, and then we'll load the data directly from Azure Blob Storage. We'll specify a `modifier` so that we can access the data stored in the Planetary Computer's private Blob Storage Containers. See [Reading from the STAC API](https://planetarycomputer.microsoft.com/docs/quickstarts/reading-stac/) and [Using tokens for data access](https://planetarycomputer.microsoft.com/docs/concepts/sas/) for more."
   ]
  },
  {
   "cell_type": "code",
   "execution_count": null,
   "metadata": {},
   "outputs": [],
   "source": [
    "catalog = pystac_client.Client.open(\n",
    "    # \"https://planetarycomputer.microsoft.com/api/stac/v1\"\n",
    "    \"https://pct-apis-staging.westeurope.cloudapp.azure.com/stac\",\n",
    "    modifier=planetary_computer.sign_inplace,\n",
    ")"
   ]
  },
  {
   "cell_type": "code",
   "execution_count": null,
   "metadata": {},
   "outputs": [],
   "source": [
    "collection = catalog.get_collection(\"sentinel-5p-l2-netcdf\")\n",
    "collection"
   ]
  },
  {
   "attachments": {},
   "cell_type": "markdown",
   "metadata": {},
   "source": [
    "### Select an area, time, and product type and find STAC Items\n",
    "\n",
    "Let's search for Items containing the formaldehyde product (`L2__HCHO__`) over the country of India. We'll further limit our search to an arbitrary collection date of April 2, 2023 and only include data that has been processed \"offline\" (`OFFL`). The geospatial extents of `OFFL` Items are much larger than those processed in near real-time (`NRTI`)."
   ]
  },
  {
   "cell_type": "code",
   "execution_count": null,
   "metadata": {},
   "outputs": [],
   "source": [
    "latitude = 79.109\n",
    "longitude = 22.746\n",
    "\n",
    "geometry = {\n",
    "    \"type\": \"Point\",\n",
    "    \"coordinates\": [longitude, latitude],\n",
    "}\n",
    "\n",
    "filter = {\n",
    "    \"op\": \"and\",\n",
    "    \"args\": [\n",
    "        {\"op\": \"=\", \"args\": [{\"property\": \"s5p:processing_mode\"}, \"OFFL\"]},\n",
    "        {\"op\": \"=\", \"args\": [{\"property\": \"s5p:product_type\"}, \"L2__HCHO__\"]},\n",
    "    ],\n",
    "}\n",
    "\n",
    "search = catalog.search(\n",
    "    collections=collection,\n",
    "    intersects=geometry,\n",
    "    datetime=\"2023-04-02/2023-04-03\",\n",
    "    filter=filter,\n",
    ")\n",
    "items = list(search.get_items())\n",
    "\n",
    "print(f\"Found {len(items)} items:\")\n",
    "for item in items:\n",
    "    print(\n",
    "        f\"ITEM ID = {item.id}, NOMINAL COLLECTION DATETIME = {item.properties['datetime']}\"\n",
    "    )"
   ]
  },
  {
   "attachments": {},
   "cell_type": "markdown",
   "metadata": {},
   "source": [
    "Let's take a look at the first Item in the list."
   ]
  },
  {
   "cell_type": "code",
   "execution_count": null,
   "metadata": {},
   "outputs": [],
   "source": [
    "f = fsspec.open(items[0].assets[\"hcho\"].href).open()\n",
    "ds = xr.open_dataset(f, group=\"PRODUCT\", engine=\"h5netcdf\")\n",
    "ds"
   ]
  },
  {
   "attachments": {},
   "cell_type": "markdown",
   "metadata": {},
   "source": [
    "Plotting the data in its native coordinate system is not very informative."
   ]
  },
  {
   "cell_type": "code",
   "execution_count": null,
   "metadata": {},
   "outputs": [],
   "source": [
    "varname = \"formaldehyde_tropospheric_vertical_column\"\n",
    "data = ds[varname][0, :, :]\n",
    "vmin, vmax = np.nanpercentile(data, [1, 99])\n",
    "data.plot(vmin=vmin, vmax=vmax, cmap=\"jet\")"
   ]
  },
  {
   "attachments": {},
   "cell_type": "markdown",
   "metadata": {},
   "source": [
    "We'll plot the data in its native geographic coordinate reference system along with continent boundaries for context."
   ]
  },
  {
   "cell_type": "code",
   "execution_count": null,
   "metadata": {},
   "outputs": [],
   "source": [
    "# formaldehyde product (NaN locations are transparent)\n",
    "lon = ds[\"longitude\"].values.squeeze()\n",
    "lat = ds[\"latitude\"].values.squeeze()\n",
    "formaldehyde = data.values\n",
    "\n",
    "fig = plt.figure(figsize=(15, 15))\n",
    "ax = fig.add_subplot(1, 1, 1, projection=ccrs.PlateCarree())\n",
    "ax.coastlines()\n",
    "ax.gridlines(crs=ccrs.PlateCarree(), draw_labels=True, alpha=0.5, linestyle=\"--\")\n",
    "ax.set_extent([-180, 180, -90, 90], crs=ccrs.PlateCarree())\n",
    "norm = matplotlib.colors.Normalize(vmin=vmin, vmax=vmax)\n",
    "scatter = plt.scatter(\n",
    "    lon,\n",
    "    lat,\n",
    "    c=formaldehyde,\n",
    "    transform=ccrs.PlateCarree(),\n",
    "    cmap=\"jet\",\n",
    "    norm=norm,\n",
    "    marker=\".\",\n",
    "    s=1,\n",
    ")\n",
    "fig.colorbar(scatter, pad=0.05, shrink=0.35, label=\"formaldehyde (mol/m2)\")\n",
    "plt.show()"
   ]
  }
 ],
 "metadata": {
  "kernelspec": {
   "display_name": "planetary-computer-examples",
   "language": "python",
   "name": "python3"
  },
  "language_info": {
   "codemirror_mode": {
    "name": "ipython",
    "version": 3
   },
   "file_extension": ".py",
   "mimetype": "text/x-python",
   "name": "python",
   "nbconvert_exporter": "python",
   "pygments_lexer": "ipython3",
   "version": "3.10.9"
  },
  "orig_nbformat": 4,
  "vscode": {
   "interpreter": {
    "hash": "b06105f673c65b4e8411571b5a635433e14c5a570166a53bfd0e66474f883041"
   }
  }
 },
 "nbformat": 4,
 "nbformat_minor": 2
}
