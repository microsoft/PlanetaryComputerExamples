{
 "cells": [
  {
   "cell_type": "markdown",
   "metadata": {},
   "source": [
    "## Accessing USGS Gap Land Cover data with the Planetary Computer STAC API"
   ]
  },
  {
   "cell_type": "markdown",
   "metadata": {},
   "source": [
    "### Environment setup\n",
    "\n",
    "This notebook works with or without a Planetary Computer subscription key, but you will be given more permissive access to the data with a key. The Planetary Computer Hub is pre-configured to use your key."
   ]
  },
  {
   "cell_type": "code",
   "execution_count": 1,
   "metadata": {},
   "outputs": [],
   "source": [
    "import planetary_computer\n",
    "import pystac_client"
   ]
  },
  {
   "cell_type": "markdown",
   "metadata": {},
   "source": [
    "### Open and explore the USGS GAP collection\n",
    "\n",
    "[GAP/LANDFIRE](https://planetarycomputer.microsoft.com/dataset/gap) is a national land cover dataset from the [USGS](https://www.usgs.gov/core-science-systems/science-analytics-and-synthesis/gap).\n",
    "The Planetary Computer hosts the land cover dataset tiled into Cloud Optimized GeoTIFFs.\n"
   ]
  },
  {
   "cell_type": "code",
   "execution_count": 2,
   "metadata": {},
   "outputs": [],
   "source": [
    "catalog = pystac_client.Client.open(\n",
    "    \"https://planetarycomputer.microsoft.com/api/stac/v1\",\n",
    "    modifier=planetary_computer.sign_inplace,\n",
    ")\n",
    "gap = catalog.get_child(id=\"gap\")"
   ]
  },
  {
   "cell_type": "markdown",
   "metadata": {},
   "source": [
    "The GAP dataset has four distinct regions:\n",
    "- The continental United States (CONUS)\n",
    "- Alaska\n",
    "- Hawaii\n",
    "- Puerto Rico\n",
    "\n",
    "You can see those four bounding boxes in the collection spatial extent:"
   ]
  },
  {
   "cell_type": "code",
   "execution_count": 3,
   "metadata": {},
   "outputs": [
    {
     "data": {
      "text/plain": [
       "{'bbox': [[-127.9710481801793,\n",
       "   22.797789263564383,\n",
       "   -65.26634281147894,\n",
       "   51.64692620669362],\n",
       "  [-178.13166387448902,\n",
       "   49.09079265233118,\n",
       "   179.87849702345594,\n",
       "   71.43382483774205],\n",
       "  [-160.26640694607218,\n",
       "   18.851824447510786,\n",
       "   -154.66974350173518,\n",
       "   22.295114188194738],\n",
       "  [-67.9573345827195, 17.874066536543, -65.21836408976736, 18.5296513469496]]}"
      ]
     },
     "execution_count": 3,
     "metadata": {},
     "output_type": "execute_result"
    }
   ],
   "source": [
    "gap.extent.spatial.to_dict()"
   ]
  },
  {
   "cell_type": "markdown",
   "metadata": {},
   "source": [
    "### Plotting land cover data\n",
    "\n",
    "The Mount Whitney area of California is an interesting area for investiating land cover classifications.\n",
    "The region includes developed areas, agriculture, forests, high alipine, and much more.\n",
    "Let's take a look at the region in the land cover dataset."
   ]
  },
  {
   "cell_type": "code",
   "execution_count": 4,
   "metadata": {},
   "outputs": [
    {
     "name": "stdout",
     "output_type": "stream",
     "text": [
      "1 items found\n"
     ]
    }
   ],
   "source": [
    "bbox = [-118.35, 36.5, -118, 36.75]\n",
    "search = catalog.search(collections=\"gap\", bbox=bbox)\n",
    "items = search.get_all_items()\n",
    "print(f\"{len(items)} items found\")"
   ]
  },
  {
   "cell_type": "markdown",
   "metadata": {},
   "source": [
    "In order to visualize the land cover data, we'll need to do a little work.\n",
    "The land cover data contains its own color table, so we need to read this color table and create a colormap that can be used with matplotlib.\n",
    "Also, because the source data is in a projected coordinate system, we'll need to transform our bounding box to that coordinate system for the merge."
   ]
  },
  {
   "cell_type": "code",
   "execution_count": 5,
   "metadata": {
    "tags": []
   },
   "outputs": [],
   "source": [
    "from matplotlib.colors import ListedColormap\n",
    "from pystac.extensions.projection import ProjectionExtension\n",
    "import rasterio\n",
    "from rasterio.crs import CRS\n",
    "from rasterio.warp import transform_bounds\n",
    "\n",
    "\n",
    "item = items[0]\n",
    "\n",
    "with rasterio.open(item.assets[\"data\"].href) as dataset:\n",
    "    colormap = dataset.colormap(1)\n",
    "\n",
    "keys = list(colormap.keys())\n",
    "keys.sort()\n",
    "assert keys == list(\n",
    "    range(0, len(keys))\n",
    ")  # We make sure that every possible input value has an associated color.\n",
    "color_list = list([float(v) / float(255) for v in colormap[key]] for key in keys)\n",
    "cmap = ListedColormap(color_list)\n",
    "\n",
    "projection = ProjectionExtension.ext(item)\n",
    "dst_crs = CRS.from_string(projection.wkt2)\n",
    "src_crs = CRS.from_string(\"EPSG:4326\")  # WGS84 geodetic\n",
    "projected_bbox = transform_bounds(src_crs, dst_crs, *bbox)"
   ]
  },
  {
   "cell_type": "markdown",
   "metadata": {},
   "source": [
    "Now we can plot the data, extracting the labels for the colors from the STAC item."
   ]
  },
  {
   "cell_type": "code",
   "execution_count": 6,
   "metadata": {},
   "outputs": [
    {
     "data": {
      "text/html": [
       "<img src=\"https://ai4edatasetspublicassets.blob.core.windows.net/assets/notebook-output/datasets-gap-gap-example.ipynb/6.png\"/>"
      ],
      "text/plain": [
       "<Figure size 864x864 with 1 Axes>"
      ]
     },
     "metadata": {},
     "output_type": "display_data"
    }
   ],
   "source": [
    "from matplotlib import pyplot\n",
    "from matplotlib.patches import Patch\n",
    "import numpy\n",
    "from rasterio.plot import show\n",
    "from rasterio.merge import merge\n",
    "\n",
    "assets = [item.assets[\"data\"].href for item in items]\n",
    "data, transform = merge(datasets=assets, bounds=projected_bbox)\n",
    "data = numpy.squeeze(data)\n",
    "color_data = numpy.moveaxis(\n",
    "    cmap(data), [0, 1, 2], [1, 2, 0]\n",
    ")  # rasterio.show.show wants bands in (band, x, y) order\n",
    "\n",
    "classes = item.properties[\"label:classes\"][0][\"classes\"]\n",
    "\n",
    "patches = [Patch(color=cmap(v), label=classes[v]) for v in numpy.unique(data)]\n",
    "\n",
    "fig, ax = pyplot.subplots(figsize=(12, 12))\n",
    "ax.set_axis_off()\n",
    "\n",
    "\n",
    "fig.legend(handles=patches, bbox_to_anchor=(1.4, 0.876))\n",
    "_ = show(color_data, ax=ax, transform=transform, interpolation=\"none\")"
   ]
  }
 ],
 "metadata": {
  "interpreter": {
   "hash": "a0bc0066fb6b219d769b3dc267816f1eb584a63f4b10cfd1c205fe8df8fe8802"
  },
  "kernelspec": {
   "display_name": "Python 3 (ipykernel)",
   "language": "python",
   "name": "python3"
  },
  "language_info": {
   "codemirror_mode": {
    "name": "ipython",
    "version": 3
   },
   "file_extension": ".py",
   "mimetype": "text/x-python",
   "name": "python",
   "nbconvert_exporter": "python",
   "pygments_lexer": "ipython3",
   "version": "3.8.13"
  },
  "widgets": {
   "application/vnd.jupyter.widget-state+json": {
    "state": {},
    "version_major": 2,
    "version_minor": 0
   }
  }
 },
 "nbformat": 4,
 "nbformat_minor": 4
}
