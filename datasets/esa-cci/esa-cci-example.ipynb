{
 "cells": [
  {
   "cell_type": "markdown",
   "id": "6375c368-81b1-4cf0-8312-de57feabc89a",
   "metadata": {},
   "source": [
    "## Accessing ESA Climate Change Initiative (CCI) Land Cover with the Planetary Computer STAC API\n",
    "\n",
    "The [ESA Climate Change Initiative (CCI) Land Cover](https://cds.climate.copernicus.eu/cdsapp#!/dataset/satellite-land-cover?tab=overview) dataset provides consistent global annual land cover maps at 300m spatial resolution from 1992 to 2020. The land cover classes are defined using the United Nations Food and Agriculture Organization's (UN FAO) [Land Cover Classification System (LCCS)](https://www.fao.org/land-water/land/land-governance/land-resources-planning-toolbox/category/details/en/c/1036361/). In addition to the land cover maps, four quality flags are produced to document the reliability of the classification and change detection.\n",
    "\n",
    "The data in this Collection have been converted from the original NetCDF format to a set of tiled [Cloud Optimized GeoTIFFs (COGs](https://www.cogeo.org/).\n",
    "\n",
    "Documentation for this dataset is available at the [Planetary Computer Data Catalog](https://planetarycomputer.microsoft.com/dataset/usgs-lcmap-conus-v13)."
   ]
  },
  {
   "cell_type": "markdown",
   "id": "7d45d525-eca8-40ec-95d2-6bf3f2d7d396",
   "metadata": {},
   "source": [
    "### Data Access\n",
    "This notebook works with or without an API key, but you will be given more permissive access to the data with an API key. The [Planetary Computer Hub](https://planetarycomputer.microsoft.com/compute) sets the environment variable \"PC_SDK_SUBSCRIPTION_KEY\" when your server is started. The API key may be manually set via the following code:\n",
    "\n",
    "```python\n",
    "pc.settings.set_subscription_key(<YOUR API Key>)\n",
    "```"
   ]
  },
  {
   "cell_type": "markdown",
   "id": "527d242e-32b4-49fb-a513-a74ee38495da",
   "metadata": {
    "tags": []
   },
   "source": [
    "The datasets hosted by the Planetary Computer are available in [Azure Blob Storage](https://docs.microsoft.com/en-us/azure/storage/blobs/). We'll use [pystac-client](https://pystac-client.readthedocs.io/) to search the Planetary Computer's [STAC API](https://planetarycomputer.microsoft.com/api/stac/v1/docs) for the subset of the data that we care about, and then we'll load the data directly from Azure Blob Storage. We'll specify a `modifier` so that we can access the data stored in the Planetary Computer's private Blob Storage Containers. See [Reading from the STAC API](https://planetarycomputer.microsoft.com/docs/quickstarts/reading-stac/) and [Using tokens for data access](https://planetarycomputer.microsoft.com/docs/concepts/sas/) for more."
   ]
  },
  {
   "cell_type": "code",
   "execution_count": null,
   "id": "914344e5",
   "metadata": {},
   "outputs": [],
   "source": [
    "import planetary_computer\n",
    "import pystac_client\n",
    "\n",
    "# Open the Planetary Computer STAC API\n",
    "catalog = pystac_client.Client.open(\n",
    "    \"https://pct-apis-staging.westeurope.cloudapp.azure.com/stac/\",\n",
    "    modifier=planetary_computer.sign_inplace,\n",
    ")\n",
    "collection = catalog.get_collection(\"esa-cci-lc\")\n",
    "collection"
   ]
  },
  {
   "cell_type": "code",
   "execution_count": null,
   "id": "63ddd01e-2ae3-4b5d-af8f-cdcbb56f0423",
   "metadata": {},
   "outputs": [],
   "source": [
    "# Search the catalog and collection for desired items\n",
    "latitude = 39.50\n",
    "longitude = -98.35\n",
    "\n",
    "Location = [longitude, latitude]\n",
    "geometry = {\n",
    "    \"type\": \"Point\",\n",
    "    \"coordinates\": Location,\n",
    "}\n",
    "\n",
    "search = catalog.search(collections=collection, intersects=geometry, datetime=\"2017\")\n",
    "items = list(search.get_items())\n",
    "items"
   ]
  },
  {
   "cell_type": "markdown",
   "id": "69f3564c-bd52-452d-875d-34d9309a64c9",
   "metadata": {},
   "source": [
    "### Available Assets & Metadata"
   ]
  },
  {
   "cell_type": "markdown",
   "id": "cfd0f626-55bb-4bcf-a2b6-d276df55a0d4",
   "metadata": {},
   "source": [
    "Let's display the available [assets](https://github.com/radiantearth/stac-spec/blob/master/item-spec/item-spec.md#asset-object) and metadata. "
   ]
  },
  {
   "cell_type": "code",
   "execution_count": null,
   "id": "2cc1ebf2-1188-42db-90b5-17026d7770b7",
   "metadata": {},
   "outputs": [],
   "source": [
    "import rich.table\n",
    "\n",
    "# Assets\n",
    "t_assets = rich.table.Table(\"Key\", \"Value\")\n",
    "for key, asset in items[0].assets.items():\n",
    "    t_assets.add_row(key, asset.title)\n",
    "t_assets"
   ]
  },
  {
   "cell_type": "code",
   "execution_count": null,
   "id": "1c6ae738-7e4d-4718-9c67-22783557bff6",
   "metadata": {},
   "outputs": [],
   "source": [
    "# Metadata\n",
    "t_metadata = rich.table.Table(\"Key\", \"Value\")\n",
    "for k, v in sorted(items[0].properties.items()):\n",
    "    t_metadata.add_row(k, str(v))\n",
    "t_metadata"
   ]
  },
  {
   "cell_type": "markdown",
   "id": "fcd49bc9-32ac-4b10-83f8-e9fbd2a870ac",
   "metadata": {},
   "source": [
    "### Loading the gridded data\n",
    "Now let's load STAC items into an xarray dataset using [odc-stac](https://github.com/opendatacube/odc-stac)."
   ]
  },
  {
   "cell_type": "code",
   "execution_count": null,
   "id": "353e9c79-1826-4b3a-a743-f5de84af2a25",
   "metadata": {},
   "outputs": [],
   "source": [
    "import odc.stac\n",
    "\n",
    "latitude = 39.50\n",
    "longitude = -98.35\n",
    "buffer = 5\n",
    "bbox = [longitude - buffer, latitude - buffer, longitude + buffer, latitude + buffer]\n",
    "\n",
    "\n",
    "ds = odc.stac.load(items, bbox=bbox)\n",
    "ds"
   ]
  },
  {
   "cell_type": "markdown",
   "id": "f76a3b43-7827-4e8d-9305-6af33794bbce",
   "metadata": {},
   "source": [
    "### Displaying the data"
   ]
  },
  {
   "cell_type": "markdown",
   "id": "71778207-c848-4890-844c-afc780f89f74",
   "metadata": {},
   "source": [
    "This dataset includes a preferred colormap mapping raster values to colors. The Collection's `item_assets` field includes an overview of the class descriptions and values."
   ]
  },
  {
   "cell_type": "code",
   "execution_count": null,
   "id": "64ce99ee-5ab4-4471-b30a-c3386aa3d2f4",
   "metadata": {},
   "outputs": [],
   "source": [
    "from pystac.extensions.item_assets import ItemAssetsExtension\n",
    "\n",
    "ia = ItemAssetsExtension.ext(collection)\n",
    "x = ia.item_assets[\"lccs_class\"]\n",
    "\n",
    "class_names = {\n",
    "    x[\"description\"]: x[\"value\"] for x in x.properties[\"classification:classes\"]\n",
    "}\n",
    "class_values = {v: k for k, v in class_names.items()}\n",
    "\n",
    "t = rich.table.Table(\"Description\", \"Value\")\n",
    "for k, v in class_names.items():\n",
    "    t.add_row(k, str(v))\n",
    "t"
   ]
  },
  {
   "cell_type": "markdown",
   "id": "08cd3d3a-fd87-4eab-b824-ba0a585ae961",
   "metadata": {},
   "source": [
    "And the Planetary Computer's [Data API](https://planetarycomputer.microsoft.com/api/data/v1/docs) includes the colormap."
   ]
  },
  {
   "cell_type": "code",
   "execution_count": null,
   "id": "ead41860-4c83-4ffe-b261-7fb99ef8f0b7",
   "metadata": {},
   "outputs": [],
   "source": [
    "import requests\n",
    "\n",
    "classmap = requests.get(\n",
    "    \"https://pct-apis-staging.westeurope.cloudapp.azure.com/data/legend/classmap/esa-cci-lc\"\n",
    ").json()\n",
    "classmap"
   ]
  },
  {
   "cell_type": "markdown",
   "id": "ad55957c-4289-4d7c-8397-c185a1e59654",
   "metadata": {},
   "source": [
    "We'll convert those values to a [matplotlib Colormap](https://matplotlib.org/stable/api/_as_gen/matplotlib.colors.ListedColormap.html) for plotting."
   ]
  },
  {
   "cell_type": "code",
   "execution_count": null,
   "id": "ec66f389-bbd6-4647-a46a-7ce008a107bd",
   "metadata": {},
   "outputs": [],
   "source": [
    "import matplotlib.colors\n",
    "import numpy as np\n",
    "\n",
    "colors = [matplotlib.colors.to_rgba([x / 255 for x in c]) for c in classmap.values()]  #\n",
    "cmap = matplotlib.colors.ListedColormap(colors, name=\"esa-cci-lc\")\n",
    "ticks = np.arange(cmap.N)\n",
    "labels = [class_values.get(value, \"nodata\") for value in ticks]"
   ]
  },
  {
   "cell_type": "markdown",
   "id": "814dda76-d53f-4e32-a485-2cfe7ee94147",
   "metadata": {},
   "source": [
    "Finally, we can read and plot the data. "
   ]
  },
  {
   "cell_type": "code",
   "execution_count": null,
   "id": "323491b4-cc69-4627-9558-011206d007f7",
   "metadata": {},
   "outputs": [],
   "source": [
    "import rioxarray\n",
    "\n",
    "item = items[0]\n",
    "ds = rioxarray.open_rasterio(item.assets[\"lccs_class\"].href).squeeze()"
   ]
  },
  {
   "cell_type": "code",
   "execution_count": null,
   "id": "c6eeab35-0568-4051-a11b-d3d8b2dec112",
   "metadata": {},
   "outputs": [],
   "source": [
    "import matplotlib.pyplot as plt\n",
    "\n",
    "fig, ax = plt.subplots(figsize=(16, 12))\n",
    "\n",
    "p = ds.plot(\n",
    "    ax=ax,\n",
    "    cmap=cmap,\n",
    ")\n",
    "\n",
    "ax.set_axis_off()\n",
    "ax.set_title(\"ESA CCI \\n Baja California Peninsula\")\n",
    "\n",
    "colorbar = fig.axes[1]"
   ]
  }
 ],
 "metadata": {
  "kernelspec": {
   "display_name": "PlanetaryComputerExamples",
   "language": "python",
   "name": "python3"
  },
  "language_info": {
   "codemirror_mode": {
    "name": "ipython",
    "version": 3
   },
   "file_extension": ".py",
   "mimetype": "text/x-python",
   "name": "python",
   "nbconvert_exporter": "python",
   "pygments_lexer": "ipython3",
   "version": "3.10.6"
  },
  "vscode": {
   "interpreter": {
    "hash": "e948087a60c74a7365deb7ebdb8258aef9e35befc5ff622dcc77bee1eb899c9c"
   }
  },
  "widgets": {
   "application/vnd.jupyter.widget-state+json": {
    "state": {},
    "version_major": 2,
    "version_minor": 0
   }
  }
 },
 "nbformat": 4,
 "nbformat_minor": 5
}
