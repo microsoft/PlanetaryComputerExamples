{
 "cells": [
  {
   "cell_type": "markdown",
   "id": "1dfab2ac-b1e1-4c10-aac0-cc2b4536b6e1",
   "metadata": {},
   "source": [
    "## Accessing MoBI data with the Planetary Computer STAC API\n",
    "\n",
    "The Map of Biodiversity Importance (MoBI) consists of a series of raster maps that combine habitat information for 2,216 imperiled species occurring in the conterminous United States, using weightings based on range size and degree of protection to identify areas of high importance for biodiversity conservation.\n",
    "\n",
    "This notebook provides an example of accessing MoBI data from blob storage on Azure, using the Planetary Computer API.\n",
    "\n",
    "Complete documentation for this dataset is available on the [Planetary Computer data catalog](https://planetarycomputer.microsoft.com/dataset/mobi)."
   ]
  },
  {
   "cell_type": "markdown",
   "id": "8fb3b56c-4de7-43e7-9db9-21fbf3c67428",
   "metadata": {},
   "source": [
    "### Environment setup\n",
    "\n",
    "This notebook works with or without an API key, but you will be given more permissive access to the data with an API key. The Planetary Computer Hub is pre-configured to use your API key."
   ]
  },
  {
   "cell_type": "code",
   "execution_count": 1,
   "id": "91751b8a-4a9f-4b40-aba4-3a8492a17b86",
   "metadata": {},
   "outputs": [],
   "source": [
    "import pystac_client\n",
    "import matplotlib.pyplot as plt\n",
    "import numpy as np\n",
    "import planetary_computer\n",
    "import rasterio"
   ]
  },
  {
   "cell_type": "markdown",
   "id": "d701ecca-033b-4bf4-920f-45eaacce4240",
   "metadata": {},
   "source": [
    "### Data access\n",
    "\n",
    "The datasets hosted by the Planetary Computer are available from [Azure Blob Storage](https://docs.microsoft.com/en-us/azure/storage/blobs/). We'll use [pystac-client](https://pystac-client.readthedocs.io/) to search the Planetary Computer's [STAC API](https://planetarycomputer.microsoft.com/api/stac/v1/docs) for the subset of the data that we care about, and then we'll load the data directly from Azure Blob Storage. We'll specify a `modifier` so that we can access the data stored in the Planetary Computer's private Blob Storage Containers. See [Reading from the STAC API](https://planetarycomputer.microsoft.com/docs/quickstarts/reading-stac/) and [Using tokens for data access](https://planetarycomputer.microsoft.com/docs/concepts/sas/) for more."
   ]
  },
  {
   "cell_type": "code",
   "execution_count": 2,
   "id": "01961aaa-cf8f-4018-ac52-c87be1ebc813",
   "metadata": {},
   "outputs": [],
   "source": [
    "catalog = pystac_client.Client.open(\n",
    "    \"https://planetarycomputer.microsoft.com/api/stac/v1\",\n",
    "    modifier=planetary_computer.sign_inplace,\n",
    ")"
   ]
  },
  {
   "cell_type": "markdown",
   "id": "70b5928b-1167-47d4-9a5c-e43b33ba0c7f",
   "metadata": {},
   "source": [
    "### Querying the dataset\n",
    "\n",
    "Let's query the Planetary Computer to get all of the items within the `mobi` collection."
   ]
  },
  {
   "cell_type": "code",
   "execution_count": 3,
   "id": "c9b5b851-7972-46aa-9cca-0a4fd3b99d07",
   "metadata": {},
   "outputs": [
    {
     "name": "stdout",
     "output_type": "stream",
     "text": [
      "Returned 1 Items\n"
     ]
    }
   ],
   "source": [
    "search = catalog.search(collections=[\"mobi\"])\n",
    "\n",
    "items = search.item_collection()\n",
    "\n",
    "print(f\"Returned {len(items)} Items\")"
   ]
  },
  {
   "cell_type": "markdown",
   "id": "8ceaa452-5271-4c97-9b29-2b828bc4f2eb",
   "metadata": {},
   "source": [
    "You'll see we only returned a single item for the entire collection. This is a bit different from other types of datasets on the Planetary Computer. In this case, the MoBI rasters are fairly low resolution, so tiling into separate rasters wasn't necessary. They also exist at a single temporal resolution, so each raster in the single item convers the entire CONUS.\n",
    "\n",
    "Let's see what assets are associated with this item:"
   ]
  },
  {
   "cell_type": "code",
   "execution_count": 4,
   "id": "1ee01f23-c025-4fca-bad5-1c40ed975b0a",
   "metadata": {},
   "outputs": [
    {
     "name": "stdout",
     "output_type": "stream",
     "text": [
      "RSR_All: Range-size rarity for species\n",
      "RSR_Plants: Range-size rarity for vascular plants\n",
      "RSR_Vertebrates: Range-size rarity for vertebrates\n",
      "RSR_AquaticInverts: Range-size rarity for aquatic invertebrates\n",
      "PWRSR_GAP12_SUM_All: Protection-weighted range-size rarity for all species\n",
      "SpeciesRichness_All: Species richness for species\n",
      "RSR_PollinatorInverts: Range-size rarity for pollinators\n",
      "PWRSR_GAP12_SUM_Plants: Protection-weighted range-size rarity for vascular plants\n",
      "SpeciesRichness_Plants: Species richness for vascular plants\n",
      "PWRSR_GAP12_SUM_Vertebrates: Protection-weighted range-size rarity for vertebrates\n",
      "SpeciesRichness_Vertebrates: Species richness for vertebrates\n",
      "PWRSR_GAP12_SUM_AquaticInverts: Protection-weighted range-size rarity for aquatic invertebrates\n",
      "SpeciesRichness_AquaticInverts: Species richness for aquatic invertebrates\n",
      "PWRSR_GAP12_SUM_PollinatorInverts: Protection-weighted range-size rarity for pollinators\n",
      "SpeciesRichness_PollinatorInverts: Species richness for pollinators\n"
     ]
    }
   ],
   "source": [
    "item = items[0]\n",
    "print(*[f\"{key}: {asset.description}\" for key, asset in item.assets.items()], sep=\"\\n\")"
   ]
  },
  {
   "cell_type": "markdown",
   "id": "b3641634-afe7-4721-804c-41cf223c5514",
   "metadata": {},
   "source": [
    "### Read and plot a layer\n",
    "\n",
    "We've got 15 assets, which each correspond to a different raster. We'll pick the `SpeciesRichness_Vertebrates` asset and plot it by reading the entire file into memory directly from the blob store."
   ]
  },
  {
   "cell_type": "code",
   "execution_count": 5,
   "id": "823208ae-c8ea-4e46-a96d-8038a042b244",
   "metadata": {},
   "outputs": [
    {
     "data": {
      "text/html": [
       "<img src=\"https://ai4edatasetspublicassets.blob.core.windows.net/assets/notebook-output/datasets-mobi-mobi-example.ipynb/5.png\"/>"
      ],
      "text/plain": [
       "<Figure size 1800x900 with 1 Axes>"
      ]
     },
     "metadata": {},
     "output_type": "display_data"
    }
   ],
   "source": [
    "vertebreates_richness = item.assets[\"SpeciesRichness_Vertebrates\"]\n",
    "\n",
    "with rasterio.open(vertebreates_richness.href) as raster:\n",
    "    data_array = raster.read(1).astype(float)\n",
    "    raster.close()\n",
    "\n",
    "# Set nodata values to be transparent\n",
    "nd_val = raster.nodatavals[0]\n",
    "data_array[data_array == nd_val] = np.nan\n",
    "\n",
    "# Plot\n",
    "fig = plt.figure(figsize=(12, 6), dpi=150, frameon=False)\n",
    "plt.axis(\"off\")\n",
    "plt.imshow(data_array, cmap=\"terrain\");"
   ]
  }
 ],
 "metadata": {
  "kernelspec": {
   "display_name": "Python 3 (ipykernel)",
   "language": "python",
   "name": "python3"
  },
  "language_info": {
   "codemirror_mode": {
    "name": "ipython",
    "version": 3
   },
   "file_extension": ".py",
   "mimetype": "text/x-python",
   "name": "python",
   "nbconvert_exporter": "python",
   "pygments_lexer": "ipython3",
   "version": "3.8.13"
  },
  "widgets": {
   "application/vnd.jupyter.widget-state+json": {
    "state": {},
    "version_major": 2,
    "version_minor": 0
   }
  }
 },
 "nbformat": 4,
 "nbformat_minor": 5
}
