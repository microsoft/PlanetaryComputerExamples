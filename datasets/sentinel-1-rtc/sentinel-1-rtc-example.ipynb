{
 "cells": [
  {
   "cell_type": "markdown",
   "id": "7019e862-bd9f-4ca4-a757-8e611273a96a",
   "metadata": {},
   "source": [
    "## Accessing Sentinel-1 RTC data with the Planetary Computer STAC API\n",
    "\n",
    "The [Sentinel 1 RTC](https://planetarycomputer.microsoft.com/dataset/sentinel-1-rtc) product in this collection is a radiometrically terrain corrected product derived from the [Sentinel-1 Ground Range Detected (GRD)](https://planetarycomputer.microsoft.com/dataset/sentinel-1-grd) Level-1 products produced by the European Space Agency.\n",
    "\n",
    "### Environment setup\n",
    "\n",
    "Running this notebook requires an API key.\n",
    "\n",
    "* The [Planetary Computer Hub](https://planetarycomputer.microsoft.com/compute) is pre-configured to use your API key.\n",
    "* To use your API key locally, set the environment variable `PC_SDK_SUBSCRIPTION_KEY` or use `planetary_computer.settings.set_subscription_key(<YOUR API Key>)`\n",
    "\n",
    "See [when an account is needed](https://planetarycomputer.microsoft.com/docs/concepts/sas/#when-an-account-is-needed) for more, and [request an account](http://planetarycomputer.microsoft.com/account/request) if needed."
   ]
  },
  {
   "cell_type": "code",
   "execution_count": 1,
   "id": "46f64cc1-9d37-4603-afdc-39a0925f282a",
   "metadata": {},
   "outputs": [],
   "source": [
    "import ipyleaflet\n",
    "import matplotlib.pyplot as plt\n",
    "import numpy as np\n",
    "import pystac\n",
    "import pystac_client\n",
    "import planetary_computer\n",
    "import requests\n",
    "import rich.table\n",
    "\n",
    "from IPython.display import Image"
   ]
  },
  {
   "cell_type": "markdown",
   "id": "6d8c7118-8a47-41b9-a4be-39d83f8db19a",
   "metadata": {},
   "source": [
    "### Data access\n",
    "\n",
    "The datasets hosted by the Planetary Computer are available from [Azure Blob Storage](https://docs.microsoft.com/en-us/azure/storage/blobs/). We'll use [pystac-client](https://pystac-client.readthedocs.io/) to search the Planetary Computer's [STAC API](https://planetarycomputer.microsoft.com/api/stac/v1/docs) for the subset of the data that we care about, and then we'll load the data directly from Azure Blob Storage. We'll specify a `modifier` so that we can access the data stored in the Planetary Computer's private Blob Storage Containers. See [Reading from the STAC API](https://planetarycomputer.microsoft.com/docs/quickstarts/reading-stac/) and [Using tokens for data access](https://planetarycomputer.microsoft.com/docs/concepts/sas/) for more."
   ]
  },
  {
   "cell_type": "code",
   "execution_count": 2,
   "id": "bfb5c95a-6c43-4d0f-8a86-07dc3495130d",
   "metadata": {},
   "outputs": [],
   "source": [
    "catalog = pystac_client.Client.open(\n",
    "    \"https://planetarycomputer.microsoft.com/api/stac/v1\",\n",
    "    modifier=planetary_computer.sign_inplace,\n",
    ")"
   ]
  },
  {
   "cell_type": "markdown",
   "id": "b39546f7-f49e-4a0e-856f-919e81432922",
   "metadata": {},
   "source": [
    "### Choose an area and time of interest\n",
    "\n",
    "We'll search for assets acquired over Panama in the first week of May, 2022. You can use the [Planetary Computer Explorer](https://planetarycomputer.microsoft.com/explore?c=-79.6735%2C9.0461&z=9.91&ae=0&v=2&d=sentinel-1-rtc&s=false%3A%3A100%3A%3Atrue&m=Most+recent+-+VV%2C+VH&r=VV%2C+VH+False-color+composite) to find areas of interest."
   ]
  },
  {
   "cell_type": "code",
   "execution_count": 3,
   "id": "c44f5746-36b8-48a6-bfc3-fabab2415630",
   "metadata": {},
   "outputs": [
    {
     "name": "stdout",
     "output_type": "stream",
     "text": [
      "Found 3 items\n"
     ]
    }
   ],
   "source": [
    "bbox = [-80.11, 8.71, -79.24, 9.38]\n",
    "search = catalog.search(\n",
    "    collections=[\"sentinel-1-rtc\"], bbox=bbox, datetime=\"2022-05-02/2022-05-09\"\n",
    ")\n",
    "items = search.item_collection()\n",
    "print(f\"Found {len(items)} items\")\n",
    "item = items[0]"
   ]
  },
  {
   "cell_type": "markdown",
   "id": "78cd0967-b9f2-4c60-bdac-62fe4e8e8494",
   "metadata": {},
   "source": [
    "The `rendered_preview` asset lets us quickly visualize the data. For Seninel-1 RTC, this produces a false-color composite from a combination of the VV and VH bands."
   ]
  },
  {
   "cell_type": "code",
   "execution_count": 4,
   "id": "71257d3d-5733-417b-9b40-a947686eca9a",
   "metadata": {},
   "outputs": [
    {
     "data": {
      "text/html": [
       "<img src=\"https://planetarycomputer.microsoft.com/api/data/v1/item/preview.png?collection=sentinel-1-rtc&item=S1A_IW_GRDH_1SDV_20220504T233157_20220504T233222_043068_05249C_rtc&assets=vv&assets=vh&tile_format=png&expression=0.03+%2B+log+%2810e-4+-+log+%280.05+%2F+%280.02+%2B+2+%2A+vv%29%29%29%2C0.05+%2B+exp+%280.25+%2A+%28log+%280.01+%2B+2+%2A+vv%29+%2B+log+%280.02+%2B+5+%2A+vh%29%29%29%2C1+-+log+%280.05+%2F+%280.045+-+0.9+%2A+vv%29%29&rescale=0%2C.8000&rescale=0%2C1.000&rescale=0%2C1.000\"/>"
      ],
      "text/plain": [
       "<IPython.core.display.Image object>"
      ]
     },
     "execution_count": 4,
     "metadata": {},
     "output_type": "execute_result"
    }
   ],
   "source": [
    "Image(url=item.assets[\"rendered_preview\"].href)"
   ]
  },
  {
   "cell_type": "markdown",
   "id": "a1f65c4b-c308-451c-9b44-46ddce4e5981",
   "metadata": {},
   "source": [
    "### Inspect the STAC metadata\n",
    "\n",
    "The STAC metadata includes many useful pieces of metadata, including metadata from the [SAR](https://github.com/stac-extensions/sar) and [Satellite](https://github.com/stac-extensions/sat) extensions."
   ]
  },
  {
   "cell_type": "code",
   "execution_count": 5,
   "id": "d7d56d6e-789b-4c8f-8acc-b5a04f19d4f0",
   "metadata": {},
   "outputs": [
    {
     "data": {
      "text/html": [
       "<pre style=\"white-space:pre;overflow-x:auto;line-height:normal;font-family:Menlo,'DejaVu Sans Mono',consolas,'Courier New',monospace\">┏━━━━━━━━━━━━━━━━━━━━━━━━━━━━━━━━━━━━━━━┳━━━━━━━━━━━━━━━━━━━━━━━━━━━━━━━━━━━━━━━━━━━━━━━━━━━━━━━━━━━━━┓\n",
       "┃<span style=\"font-weight: bold\"> key                                   </span>┃<span style=\"font-weight: bold\"> value                                                       </span>┃\n",
       "┡━━━━━━━━━━━━━━━━━━━━━━━━━━━━━━━━━━━━━━━╇━━━━━━━━━━━━━━━━━━━━━━━━━━━━━━━━━━━━━━━━━━━━━━━━━━━━━━━━━━━━━┩\n",
       "│ constellation                         │ Sentinel-1                                                  │\n",
       "│ datetime                              │ 2022-05-04T23:32:10.313109Z                                 │\n",
       "│ end_datetime                          │ 2022-05-04 23:32:22.812028+00:00                            │\n",
       "│ platform                              │ SENTINEL-1A                                                 │\n",
       "│ proj:bbox                             │ [519450.0, 935520.0, 800080.0, 1153060.0]                   │\n",
       "│ proj:epsg                             │ 32617                                                       │\n",
       "│ proj:shape                            │ [28806, 21907]                                              │\n",
       "│ proj:transform                        │ [10.0, 0.0, 519430.0, 0.0, -10.0, 1154570.0, 0.0, 0.0, 1.0] │\n",
       "│ s1:datatake_id                        │ 337052                                                      │\n",
       "│ s1:instrument_configuration_ID        │ 7                                                           │\n",
       "│ s1:orbit_source                       │ RESORB                                                      │\n",
       "│ s1:processing_level                   │ 1                                                           │\n",
       "│ s1:product_timeliness                 │ Fast-24h                                                    │\n",
       "│ s1:resolution                         │ high                                                        │\n",
       "│ s1:shape                              │ [28806, 21907]                                              │\n",
       "│ s1:slice_number                       │ 2                                                           │\n",
       "│ s1:total_slices                       │ 29                                                          │\n",
       "│ sar:center_frequency                  │ 5.405                                                       │\n",
       "│ sar:frequency_band                    │ C                                                           │\n",
       "│ sar:instrument_mode                   │ IW                                                          │\n",
       "│ sar:looks_azimuth                     │ 1                                                           │\n",
       "│ sar:looks_equivalent_number           │ 4.4                                                         │\n",
       "│ sar:looks_range                       │ 5                                                           │\n",
       "│ sar:observation_direction             │ right                                                       │\n",
       "│ sar:pixel_spacing_azimuth             │ 10                                                          │\n",
       "│ sar:pixel_spacing_range               │ 10                                                          │\n",
       "│ sar:polarizations                     │ ['VV', 'VH']                                                │\n",
       "│ sar:product_type                      │ GRD                                                         │\n",
       "│ sar:resolution_azimuth                │ 22                                                          │\n",
       "│ sar:resolution_range                  │ 20                                                          │\n",
       "│ sat:absolute_orbit                    │ 43068                                                       │\n",
       "│ sat:orbit_state                       │ ascending                                                   │\n",
       "│ sat:platform_international_designator │ 2014-016A                                                   │\n",
       "│ sat:relative_orbit                    │ 121                                                         │\n",
       "│ start_datetime                        │ 2022-05-04 23:31:57.814190+00:00                            │\n",
       "└───────────────────────────────────────┴─────────────────────────────────────────────────────────────┘\n",
       "</pre>\n"
      ],
      "text/plain": [
       "┏━━━━━━━━━━━━━━━━━━━━━━━━━━━━━━━━━━━━━━━┳━━━━━━━━━━━━━━━━━━━━━━━━━━━━━━━━━━━━━━━━━━━━━━━━━━━━━━━━━━━━━┓\n",
       "┃\u001b[1m \u001b[0m\u001b[1mkey                                  \u001b[0m\u001b[1m \u001b[0m┃\u001b[1m \u001b[0m\u001b[1mvalue                                                      \u001b[0m\u001b[1m \u001b[0m┃\n",
       "┡━━━━━━━━━━━━━━━━━━━━━━━━━━━━━━━━━━━━━━━╇━━━━━━━━━━━━━━━━━━━━━━━━━━━━━━━━━━━━━━━━━━━━━━━━━━━━━━━━━━━━━┩\n",
       "│ constellation                         │ Sentinel-1                                                  │\n",
       "│ datetime                              │ 2022-05-04T23:32:10.313109Z                                 │\n",
       "│ end_datetime                          │ 2022-05-04 23:32:22.812028+00:00                            │\n",
       "│ platform                              │ SENTINEL-1A                                                 │\n",
       "│ proj:bbox                             │ [519450.0, 935520.0, 800080.0, 1153060.0]                   │\n",
       "│ proj:epsg                             │ 32617                                                       │\n",
       "│ proj:shape                            │ [28806, 21907]                                              │\n",
       "│ proj:transform                        │ [10.0, 0.0, 519430.0, 0.0, -10.0, 1154570.0, 0.0, 0.0, 1.0] │\n",
       "│ s1:datatake_id                        │ 337052                                                      │\n",
       "│ s1:instrument_configuration_ID        │ 7                                                           │\n",
       "│ s1:orbit_source                       │ RESORB                                                      │\n",
       "│ s1:processing_level                   │ 1                                                           │\n",
       "│ s1:product_timeliness                 │ Fast-24h                                                    │\n",
       "│ s1:resolution                         │ high                                                        │\n",
       "│ s1:shape                              │ [28806, 21907]                                              │\n",
       "│ s1:slice_number                       │ 2                                                           │\n",
       "│ s1:total_slices                       │ 29                                                          │\n",
       "│ sar:center_frequency                  │ 5.405                                                       │\n",
       "│ sar:frequency_band                    │ C                                                           │\n",
       "│ sar:instrument_mode                   │ IW                                                          │\n",
       "│ sar:looks_azimuth                     │ 1                                                           │\n",
       "│ sar:looks_equivalent_number           │ 4.4                                                         │\n",
       "│ sar:looks_range                       │ 5                                                           │\n",
       "│ sar:observation_direction             │ right                                                       │\n",
       "│ sar:pixel_spacing_azimuth             │ 10                                                          │\n",
       "│ sar:pixel_spacing_range               │ 10                                                          │\n",
       "│ sar:polarizations                     │ ['VV', 'VH']                                                │\n",
       "│ sar:product_type                      │ GRD                                                         │\n",
       "│ sar:resolution_azimuth                │ 22                                                          │\n",
       "│ sar:resolution_range                  │ 20                                                          │\n",
       "│ sat:absolute_orbit                    │ 43068                                                       │\n",
       "│ sat:orbit_state                       │ ascending                                                   │\n",
       "│ sat:platform_international_designator │ 2014-016A                                                   │\n",
       "│ sat:relative_orbit                    │ 121                                                         │\n",
       "│ start_datetime                        │ 2022-05-04 23:31:57.814190+00:00                            │\n",
       "└───────────────────────────────────────┴─────────────────────────────────────────────────────────────┘\n"
      ]
     },
     "execution_count": 5,
     "metadata": {},
     "output_type": "execute_result"
    }
   ],
   "source": [
    "table = rich.table.Table(\"key\", \"value\")\n",
    "for k, v in sorted(item.properties.items()):\n",
    "    table.add_row(k, str(v))\n",
    "\n",
    "table"
   ]
  },
  {
   "cell_type": "markdown",
   "id": "d1f86006-273f-4a1d-bd15-28fef1cabc72",
   "metadata": {},
   "source": [
    "The data assets on every Sentinel-1 RTC item will be some combination of `hh`, `hv`, `vh`, and `vv`. These represent the terrain-corrected gamma nought values of a signal transmitted in one polarization (\"h\" or \"v\") and received in another (\"h\" or \"v\"). The `sar:polarizations` field indicates which assets are available."
   ]
  },
  {
   "cell_type": "code",
   "execution_count": 6,
   "id": "ff294138-ddb2-4f0c-a393-5ef1e6d79527",
   "metadata": {},
   "outputs": [
    {
     "data": {
      "text/plain": [
       "['VV', 'VH']"
      ]
     },
     "execution_count": 6,
     "metadata": {},
     "output_type": "execute_result"
    }
   ],
   "source": [
    "item.properties[\"sar:polarizations\"]"
   ]
  },
  {
   "cell_type": "markdown",
   "id": "5d563940-9143-42ac-8ee8-fc010e27a947",
   "metadata": {},
   "source": [
    "### Visualize the assets\n",
    "\n",
    "Next, we'll load the `vv` data into [xarray](https://xarray.pydata.org/) and plot the results. We'll use [Dask](http://dask.org/) to load the data in parallel. We're working with a small amount of data so we'll use a single machine. For larger datasets, see [Scaling with Dask](https://planetarycomputer.microsoft.com/docs/quickstarts/scale-with-dask/)."
   ]
  },
  {
   "cell_type": "code",
   "execution_count": 7,
   "id": "b0be75c9-9839-477e-ad46-cde253b7bb46",
   "metadata": {},
   "outputs": [
    {
     "name": "stdout",
     "output_type": "stream",
     "text": [
      "/user/taugspurger@microsoft.com/proxy/8787/status\n"
     ]
    }
   ],
   "source": [
    "from distributed import Client\n",
    "\n",
    "client = Client(processes=False)\n",
    "print(client.dashboard_link)"
   ]
  },
  {
   "cell_type": "code",
   "execution_count": 8,
   "id": "6b0b05bf-7862-4b79-9881-8cfaaafbef73",
   "metadata": {},
   "outputs": [
    {
     "data": {
      "text/html": [
       "<div><svg style=\"position: absolute; width: 0; height: 0; overflow: hidden\">\n",
       "<defs>\n",
       "<symbol id=\"icon-database\" viewBox=\"0 0 32 32\">\n",
       "<path d=\"M16 0c-8.837 0-16 2.239-16 5v4c0 2.761 7.163 5 16 5s16-2.239 16-5v-4c0-2.761-7.163-5-16-5z\"></path>\n",
       "<path d=\"M16 17c-8.837 0-16-2.239-16-5v6c0 2.761 7.163 5 16 5s16-2.239 16-5v-6c0 2.761-7.163 5-16 5z\"></path>\n",
       "<path d=\"M16 26c-8.837 0-16-2.239-16-5v6c0 2.761 7.163 5 16 5s16-2.239 16-5v-6c0 2.761-7.163 5-16 5z\"></path>\n",
       "</symbol>\n",
       "<symbol id=\"icon-file-text2\" viewBox=\"0 0 32 32\">\n",
       "<path d=\"M28.681 7.159c-0.694-0.947-1.662-2.053-2.724-3.116s-2.169-2.030-3.116-2.724c-1.612-1.182-2.393-1.319-2.841-1.319h-15.5c-1.378 0-2.5 1.121-2.5 2.5v27c0 1.378 1.122 2.5 2.5 2.5h23c1.378 0 2.5-1.122 2.5-2.5v-19.5c0-0.448-0.137-1.23-1.319-2.841zM24.543 5.457c0.959 0.959 1.712 1.825 2.268 2.543h-4.811v-4.811c0.718 0.556 1.584 1.309 2.543 2.268zM28 29.5c0 0.271-0.229 0.5-0.5 0.5h-23c-0.271 0-0.5-0.229-0.5-0.5v-27c0-0.271 0.229-0.5 0.5-0.5 0 0 15.499-0 15.5 0v7c0 0.552 0.448 1 1 1h7v19.5z\"></path>\n",
       "<path d=\"M23 26h-14c-0.552 0-1-0.448-1-1s0.448-1 1-1h14c0.552 0 1 0.448 1 1s-0.448 1-1 1z\"></path>\n",
       "<path d=\"M23 22h-14c-0.552 0-1-0.448-1-1s0.448-1 1-1h14c0.552 0 1 0.448 1 1s-0.448 1-1 1z\"></path>\n",
       "<path d=\"M23 18h-14c-0.552 0-1-0.448-1-1s0.448-1 1-1h14c0.552 0 1 0.448 1 1s-0.448 1-1 1z\"></path>\n",
       "</symbol>\n",
       "</defs>\n",
       "</svg>\n",
       "<style>/* CSS stylesheet for displaying xarray objects in jupyterlab.\n",
       " *\n",
       " */\n",
       "\n",
       ":root {\n",
       "  --xr-font-color0: var(--jp-content-font-color0, rgba(0, 0, 0, 1));\n",
       "  --xr-font-color2: var(--jp-content-font-color2, rgba(0, 0, 0, 0.54));\n",
       "  --xr-font-color3: var(--jp-content-font-color3, rgba(0, 0, 0, 0.38));\n",
       "  --xr-border-color: var(--jp-border-color2, #e0e0e0);\n",
       "  --xr-disabled-color: var(--jp-layout-color3, #bdbdbd);\n",
       "  --xr-background-color: var(--jp-layout-color0, white);\n",
       "  --xr-background-color-row-even: var(--jp-layout-color1, white);\n",
       "  --xr-background-color-row-odd: var(--jp-layout-color2, #eeeeee);\n",
       "}\n",
       "\n",
       "html[theme=dark],\n",
       "body.vscode-dark {\n",
       "  --xr-font-color0: rgba(255, 255, 255, 1);\n",
       "  --xr-font-color2: rgba(255, 255, 255, 0.54);\n",
       "  --xr-font-color3: rgba(255, 255, 255, 0.38);\n",
       "  --xr-border-color: #1F1F1F;\n",
       "  --xr-disabled-color: #515151;\n",
       "  --xr-background-color: #111111;\n",
       "  --xr-background-color-row-even: #111111;\n",
       "  --xr-background-color-row-odd: #313131;\n",
       "}\n",
       "\n",
       ".xr-wrap {\n",
       "  display: block !important;\n",
       "  min-width: 300px;\n",
       "  max-width: 700px;\n",
       "}\n",
       "\n",
       ".xr-text-repr-fallback {\n",
       "  /* fallback to plain text repr when CSS is not injected (untrusted notebook) */\n",
       "  display: none;\n",
       "}\n",
       "\n",
       ".xr-header {\n",
       "  padding-top: 6px;\n",
       "  padding-bottom: 6px;\n",
       "  margin-bottom: 4px;\n",
       "  border-bottom: solid 1px var(--xr-border-color);\n",
       "}\n",
       "\n",
       ".xr-header > div,\n",
       ".xr-header > ul {\n",
       "  display: inline;\n",
       "  margin-top: 0;\n",
       "  margin-bottom: 0;\n",
       "}\n",
       "\n",
       ".xr-obj-type,\n",
       ".xr-array-name {\n",
       "  margin-left: 2px;\n",
       "  margin-right: 10px;\n",
       "}\n",
       "\n",
       ".xr-obj-type {\n",
       "  color: var(--xr-font-color2);\n",
       "}\n",
       "\n",
       ".xr-sections {\n",
       "  padding-left: 0 !important;\n",
       "  display: grid;\n",
       "  grid-template-columns: 150px auto auto 1fr 20px 20px;\n",
       "}\n",
       "\n",
       ".xr-section-item {\n",
       "  display: contents;\n",
       "}\n",
       "\n",
       ".xr-section-item input {\n",
       "  display: none;\n",
       "}\n",
       "\n",
       ".xr-section-item input + label {\n",
       "  color: var(--xr-disabled-color);\n",
       "}\n",
       "\n",
       ".xr-section-item input:enabled + label {\n",
       "  cursor: pointer;\n",
       "  color: var(--xr-font-color2);\n",
       "}\n",
       "\n",
       ".xr-section-item input:enabled + label:hover {\n",
       "  color: var(--xr-font-color0);\n",
       "}\n",
       "\n",
       ".xr-section-summary {\n",
       "  grid-column: 1;\n",
       "  color: var(--xr-font-color2);\n",
       "  font-weight: 500;\n",
       "}\n",
       "\n",
       ".xr-section-summary > span {\n",
       "  display: inline-block;\n",
       "  padding-left: 0.5em;\n",
       "}\n",
       "\n",
       ".xr-section-summary-in:disabled + label {\n",
       "  color: var(--xr-font-color2);\n",
       "}\n",
       "\n",
       ".xr-section-summary-in + label:before {\n",
       "  display: inline-block;\n",
       "  content: '►';\n",
       "  font-size: 11px;\n",
       "  width: 15px;\n",
       "  text-align: center;\n",
       "}\n",
       "\n",
       ".xr-section-summary-in:disabled + label:before {\n",
       "  color: var(--xr-disabled-color);\n",
       "}\n",
       "\n",
       ".xr-section-summary-in:checked + label:before {\n",
       "  content: '▼';\n",
       "}\n",
       "\n",
       ".xr-section-summary-in:checked + label > span {\n",
       "  display: none;\n",
       "}\n",
       "\n",
       ".xr-section-summary,\n",
       ".xr-section-inline-details {\n",
       "  padding-top: 4px;\n",
       "  padding-bottom: 4px;\n",
       "}\n",
       "\n",
       ".xr-section-inline-details {\n",
       "  grid-column: 2 / -1;\n",
       "}\n",
       "\n",
       ".xr-section-details {\n",
       "  display: none;\n",
       "  grid-column: 1 / -1;\n",
       "  margin-bottom: 5px;\n",
       "}\n",
       "\n",
       ".xr-section-summary-in:checked ~ .xr-section-details {\n",
       "  display: contents;\n",
       "}\n",
       "\n",
       ".xr-array-wrap {\n",
       "  grid-column: 1 / -1;\n",
       "  display: grid;\n",
       "  grid-template-columns: 20px auto;\n",
       "}\n",
       "\n",
       ".xr-array-wrap > label {\n",
       "  grid-column: 1;\n",
       "  vertical-align: top;\n",
       "}\n",
       "\n",
       ".xr-preview {\n",
       "  color: var(--xr-font-color3);\n",
       "}\n",
       "\n",
       ".xr-array-preview,\n",
       ".xr-array-data {\n",
       "  padding: 0 5px !important;\n",
       "  grid-column: 2;\n",
       "}\n",
       "\n",
       ".xr-array-data,\n",
       ".xr-array-in:checked ~ .xr-array-preview {\n",
       "  display: none;\n",
       "}\n",
       "\n",
       ".xr-array-in:checked ~ .xr-array-data,\n",
       ".xr-array-preview {\n",
       "  display: inline-block;\n",
       "}\n",
       "\n",
       ".xr-dim-list {\n",
       "  display: inline-block !important;\n",
       "  list-style: none;\n",
       "  padding: 0 !important;\n",
       "  margin: 0;\n",
       "}\n",
       "\n",
       ".xr-dim-list li {\n",
       "  display: inline-block;\n",
       "  padding: 0;\n",
       "  margin: 0;\n",
       "}\n",
       "\n",
       ".xr-dim-list:before {\n",
       "  content: '(';\n",
       "}\n",
       "\n",
       ".xr-dim-list:after {\n",
       "  content: ')';\n",
       "}\n",
       "\n",
       ".xr-dim-list li:not(:last-child):after {\n",
       "  content: ',';\n",
       "  padding-right: 5px;\n",
       "}\n",
       "\n",
       ".xr-has-index {\n",
       "  font-weight: bold;\n",
       "}\n",
       "\n",
       ".xr-var-list,\n",
       ".xr-var-item {\n",
       "  display: contents;\n",
       "}\n",
       "\n",
       ".xr-var-item > div,\n",
       ".xr-var-item label,\n",
       ".xr-var-item > .xr-var-name span {\n",
       "  background-color: var(--xr-background-color-row-even);\n",
       "  margin-bottom: 0;\n",
       "}\n",
       "\n",
       ".xr-var-item > .xr-var-name:hover span {\n",
       "  padding-right: 5px;\n",
       "}\n",
       "\n",
       ".xr-var-list > li:nth-child(odd) > div,\n",
       ".xr-var-list > li:nth-child(odd) > label,\n",
       ".xr-var-list > li:nth-child(odd) > .xr-var-name span {\n",
       "  background-color: var(--xr-background-color-row-odd);\n",
       "}\n",
       "\n",
       ".xr-var-name {\n",
       "  grid-column: 1;\n",
       "}\n",
       "\n",
       ".xr-var-dims {\n",
       "  grid-column: 2;\n",
       "}\n",
       "\n",
       ".xr-var-dtype {\n",
       "  grid-column: 3;\n",
       "  text-align: right;\n",
       "  color: var(--xr-font-color2);\n",
       "}\n",
       "\n",
       ".xr-var-preview {\n",
       "  grid-column: 4;\n",
       "}\n",
       "\n",
       ".xr-var-name,\n",
       ".xr-var-dims,\n",
       ".xr-var-dtype,\n",
       ".xr-preview,\n",
       ".xr-attrs dt {\n",
       "  white-space: nowrap;\n",
       "  overflow: hidden;\n",
       "  text-overflow: ellipsis;\n",
       "  padding-right: 10px;\n",
       "}\n",
       "\n",
       ".xr-var-name:hover,\n",
       ".xr-var-dims:hover,\n",
       ".xr-var-dtype:hover,\n",
       ".xr-attrs dt:hover {\n",
       "  overflow: visible;\n",
       "  width: auto;\n",
       "  z-index: 1;\n",
       "}\n",
       "\n",
       ".xr-var-attrs,\n",
       ".xr-var-data {\n",
       "  display: none;\n",
       "  background-color: var(--xr-background-color) !important;\n",
       "  padding-bottom: 5px !important;\n",
       "}\n",
       "\n",
       ".xr-var-attrs-in:checked ~ .xr-var-attrs,\n",
       ".xr-var-data-in:checked ~ .xr-var-data {\n",
       "  display: block;\n",
       "}\n",
       "\n",
       ".xr-var-data > table {\n",
       "  float: right;\n",
       "}\n",
       "\n",
       ".xr-var-name span,\n",
       ".xr-var-data,\n",
       ".xr-attrs {\n",
       "  padding-left: 25px !important;\n",
       "}\n",
       "\n",
       ".xr-attrs,\n",
       ".xr-var-attrs,\n",
       ".xr-var-data {\n",
       "  grid-column: 1 / -1;\n",
       "}\n",
       "\n",
       "dl.xr-attrs {\n",
       "  padding: 0;\n",
       "  margin: 0;\n",
       "  display: grid;\n",
       "  grid-template-columns: 125px auto;\n",
       "}\n",
       "\n",
       ".xr-attrs dt,\n",
       ".xr-attrs dd {\n",
       "  padding: 0;\n",
       "  margin: 0;\n",
       "  float: left;\n",
       "  padding-right: 10px;\n",
       "  width: auto;\n",
       "}\n",
       "\n",
       ".xr-attrs dt {\n",
       "  font-weight: normal;\n",
       "  grid-column: 1;\n",
       "}\n",
       "\n",
       ".xr-attrs dt:hover span {\n",
       "  display: inline-block;\n",
       "  background: var(--xr-background-color);\n",
       "  padding-right: 10px;\n",
       "}\n",
       "\n",
       ".xr-attrs dd {\n",
       "  grid-column: 2;\n",
       "  white-space: pre-wrap;\n",
       "  word-break: break-all;\n",
       "}\n",
       "\n",
       ".xr-icon-database,\n",
       ".xr-icon-file-text2 {\n",
       "  display: inline-block;\n",
       "  vertical-align: middle;\n",
       "  width: 1em;\n",
       "  height: 1.5em !important;\n",
       "  stroke-width: 0;\n",
       "  stroke: currentColor;\n",
       "  fill: currentColor;\n",
       "}\n",
       "</style><pre class='xr-text-repr-fallback'>&lt;xarray.DataArray &#x27;stackstac-50b066be198a039bc4e73aa60a5208bd&#x27; (time: 3,\n",
       "                                                                band: 2,\n",
       "                                                                y: 4248, x: 4431)&gt;\n",
       "dask.array&lt;fetch_raster_window, shape=(3, 2, 4248, 4431), dtype=float64, chunksize=(1, 1, 1024, 1024), chunktype=numpy.ndarray&gt;\n",
       "Coordinates: (12/39)\n",
       "  * time                                   (time) datetime64[ns] 2022-05-04T1...\n",
       "    id                                     (time) &lt;U66 &#x27;S1A_IW_GRDH_1SDV_2022...\n",
       "  * band                                   (band) &lt;U2 &#x27;vh&#x27; &#x27;vv&#x27;\n",
       "  * x                                      (x) float64 -1.225e+07 ... -1.18e+07\n",
       "  * y                                      (y) float64 4.171e+06 ... 3.746e+06\n",
       "    sat:absolute_orbit                     (time) int64 43060 43068 43068\n",
       "    ...                                     ...\n",
       "    sar:pixel_spacing_azimuth              int64 10\n",
       "    sar:resolution_azimuth                 int64 22\n",
       "    title                                  (band) &lt;U41 &#x27;VH: vertical transmit...\n",
       "    raster:bands                           object {&#x27;nodata&#x27;: -32768, &#x27;data_ty...\n",
       "    description                            (band) &lt;U173 &#x27;Terrain-corrected ga...\n",
       "    epsg                                   int64 32630\n",
       "Attributes:\n",
       "    spec:        RasterSpec(epsg=32630, bounds=(-12247900, 3746300, -11804800...\n",
       "    crs:         epsg:32630\n",
       "    transform:   | 100.00, 0.00,-12247900.00|\\n| 0.00,-100.00, 4171100.00|\\n|...\n",
       "    resolution:  100</pre><div class='xr-wrap' style='display:none'><div class='xr-header'><div class='xr-obj-type'>xarray.DataArray</div><div class='xr-array-name'>'stackstac-50b066be198a039bc4e73aa60a5208bd'</div><ul class='xr-dim-list'><li><span class='xr-has-index'>time</span>: 3</li><li><span class='xr-has-index'>band</span>: 2</li><li><span class='xr-has-index'>y</span>: 4248</li><li><span class='xr-has-index'>x</span>: 4431</li></ul></div><ul class='xr-sections'><li class='xr-section-item'><div class='xr-array-wrap'><input id='section-09ba6b27-0778-429a-a529-4b6c33d47cad' class='xr-array-in' type='checkbox' checked><label for='section-09ba6b27-0778-429a-a529-4b6c33d47cad' title='Show/hide data repr'><svg class='icon xr-icon-database'><use xlink:href='#icon-database'></use></svg></label><div class='xr-array-preview xr-preview'><span>dask.array&lt;chunksize=(1, 1, 1024, 1024), meta=np.ndarray&gt;</span></div><div class='xr-array-data'><table>\n",
       "    <tr>\n",
       "        <td>\n",
       "            <table>\n",
       "                <thead>\n",
       "                    <tr>\n",
       "                        <td> </td>\n",
       "                        <th> Array </th>\n",
       "                        <th> Chunk </th>\n",
       "                    </tr>\n",
       "                </thead>\n",
       "                <tbody>\n",
       "                    \n",
       "                    <tr>\n",
       "                        <th> Bytes </th>\n",
       "                        <td> 861.64 MiB </td>\n",
       "                        <td> 8.00 MiB </td>\n",
       "                    </tr>\n",
       "                    \n",
       "                    <tr>\n",
       "                        <th> Shape </th>\n",
       "                        <td> (3, 2, 4248, 4431) </td>\n",
       "                        <td> (1, 1, 1024, 1024) </td>\n",
       "                    </tr>\n",
       "                    <tr>\n",
       "                        <th> Count </th>\n",
       "                        <td> 162 Tasks </td>\n",
       "                        <td> 150 Chunks </td>\n",
       "                    </tr>\n",
       "                    <tr>\n",
       "                    <th> Type </th>\n",
       "                    <td> float64 </td>\n",
       "                    <td> numpy.ndarray </td>\n",
       "                    </tr>\n",
       "                </tbody>\n",
       "            </table>\n",
       "        </td>\n",
       "        <td>\n",
       "        <svg width=\"374\" height=\"179\" style=\"stroke:rgb(0,0,0);stroke-width:1\" >\n",
       "\n",
       "  <!-- Horizontal lines -->\n",
       "  <line x1=\"0\" y1=\"0\" x2=\"25\" y2=\"0\" style=\"stroke-width:2\" />\n",
       "  <line x1=\"0\" y1=\"25\" x2=\"25\" y2=\"25\" style=\"stroke-width:2\" />\n",
       "\n",
       "  <!-- Vertical lines -->\n",
       "  <line x1=\"0\" y1=\"0\" x2=\"0\" y2=\"25\" style=\"stroke-width:2\" />\n",
       "  <line x1=\"8\" y1=\"0\" x2=\"8\" y2=\"25\" />\n",
       "  <line x1=\"16\" y1=\"0\" x2=\"16\" y2=\"25\" />\n",
       "  <line x1=\"25\" y1=\"0\" x2=\"25\" y2=\"25\" style=\"stroke-width:2\" />\n",
       "\n",
       "  <!-- Colored Rectangle -->\n",
       "  <polygon points=\"0.0,0.0 25.412616514582485,0.0 25.412616514582485,25.412616514582485 0.0,25.412616514582485\" style=\"fill:#ECB172A0;stroke-width:0\"/>\n",
       "\n",
       "  <!-- Text -->\n",
       "  <text x=\"12.706308\" y=\"45.412617\" font-size=\"1.0rem\" font-weight=\"100\" text-anchor=\"middle\" >3</text>\n",
       "  <text x=\"45.412617\" y=\"12.706308\" font-size=\"1.0rem\" font-weight=\"100\" text-anchor=\"middle\" transform=\"rotate(0,45.412617,12.706308)\">1</text>\n",
       "\n",
       "\n",
       "  <!-- Horizontal lines -->\n",
       "  <line x1=\"95\" y1=\"0\" x2=\"109\" y2=\"14\" style=\"stroke-width:2\" />\n",
       "  <line x1=\"95\" y1=\"27\" x2=\"109\" y2=\"42\" />\n",
       "  <line x1=\"95\" y1=\"55\" x2=\"109\" y2=\"70\" />\n",
       "  <line x1=\"95\" y1=\"83\" x2=\"109\" y2=\"98\" />\n",
       "  <line x1=\"95\" y1=\"110\" x2=\"109\" y2=\"125\" />\n",
       "  <line x1=\"95\" y1=\"115\" x2=\"109\" y2=\"129\" style=\"stroke-width:2\" />\n",
       "\n",
       "  <!-- Vertical lines -->\n",
       "  <line x1=\"95\" y1=\"0\" x2=\"95\" y2=\"115\" style=\"stroke-width:2\" />\n",
       "  <line x1=\"102\" y1=\"7\" x2=\"102\" y2=\"122\" />\n",
       "  <line x1=\"109\" y1=\"14\" x2=\"109\" y2=\"129\" style=\"stroke-width:2\" />\n",
       "\n",
       "  <!-- Colored Rectangle -->\n",
       "  <polygon points=\"95.0,0.0 109.9485979497544,14.948597949754403 109.9485979497544,129.99260607433126 95.0,115.04400812457685\" style=\"fill:#ECB172A0;stroke-width:0\"/>\n",
       "\n",
       "  <!-- Horizontal lines -->\n",
       "  <line x1=\"95\" y1=\"0\" x2=\"215\" y2=\"0\" style=\"stroke-width:2\" />\n",
       "  <line x1=\"102\" y1=\"7\" x2=\"222\" y2=\"7\" />\n",
       "  <line x1=\"109\" y1=\"14\" x2=\"229\" y2=\"14\" style=\"stroke-width:2\" />\n",
       "\n",
       "  <!-- Vertical lines -->\n",
       "  <line x1=\"95\" y1=\"0\" x2=\"109\" y2=\"14\" style=\"stroke-width:2\" />\n",
       "  <line x1=\"122\" y1=\"0\" x2=\"137\" y2=\"14\" />\n",
       "  <line x1=\"150\" y1=\"0\" x2=\"165\" y2=\"14\" />\n",
       "  <line x1=\"178\" y1=\"0\" x2=\"193\" y2=\"14\" />\n",
       "  <line x1=\"205\" y1=\"0\" x2=\"220\" y2=\"14\" />\n",
       "  <line x1=\"215\" y1=\"0\" x2=\"229\" y2=\"14\" style=\"stroke-width:2\" />\n",
       "\n",
       "  <!-- Colored Rectangle -->\n",
       "  <polygon points=\"95.0,0.0 215.0,0.0 229.9485979497544,14.948597949754403 109.9485979497544,14.948597949754403\" style=\"fill:#ECB172A0;stroke-width:0\"/>\n",
       "\n",
       "  <!-- Horizontal lines -->\n",
       "  <line x1=\"109\" y1=\"14\" x2=\"229\" y2=\"14\" style=\"stroke-width:2\" />\n",
       "  <line x1=\"109\" y1=\"42\" x2=\"229\" y2=\"42\" />\n",
       "  <line x1=\"109\" y1=\"70\" x2=\"229\" y2=\"70\" />\n",
       "  <line x1=\"109\" y1=\"98\" x2=\"229\" y2=\"98\" />\n",
       "  <line x1=\"109\" y1=\"125\" x2=\"229\" y2=\"125\" />\n",
       "  <line x1=\"109\" y1=\"129\" x2=\"229\" y2=\"129\" style=\"stroke-width:2\" />\n",
       "\n",
       "  <!-- Vertical lines -->\n",
       "  <line x1=\"109\" y1=\"14\" x2=\"109\" y2=\"129\" style=\"stroke-width:2\" />\n",
       "  <line x1=\"137\" y1=\"14\" x2=\"137\" y2=\"129\" />\n",
       "  <line x1=\"165\" y1=\"14\" x2=\"165\" y2=\"129\" />\n",
       "  <line x1=\"193\" y1=\"14\" x2=\"193\" y2=\"129\" />\n",
       "  <line x1=\"220\" y1=\"14\" x2=\"220\" y2=\"129\" />\n",
       "  <line x1=\"229\" y1=\"14\" x2=\"229\" y2=\"129\" style=\"stroke-width:2\" />\n",
       "\n",
       "  <!-- Colored Rectangle -->\n",
       "  <polygon points=\"109.9485979497544,14.948597949754403 229.9485979497544,14.948597949754403 229.9485979497544,129.99260607433126 109.9485979497544,129.99260607433126\" style=\"fill:#ECB172A0;stroke-width:0\"/>\n",
       "\n",
       "  <!-- Text -->\n",
       "  <text x=\"169.948598\" y=\"149.992606\" font-size=\"1.0rem\" font-weight=\"100\" text-anchor=\"middle\" >4431</text>\n",
       "  <text x=\"249.948598\" y=\"72.470602\" font-size=\"1.0rem\" font-weight=\"100\" text-anchor=\"middle\" transform=\"rotate(-90,249.948598,72.470602)\">4248</text>\n",
       "  <text x=\"92.474299\" y=\"142.518307\" font-size=\"1.0rem\" font-weight=\"100\" text-anchor=\"middle\" transform=\"rotate(45,92.474299,142.518307)\">2</text>\n",
       "</svg>\n",
       "        </td>\n",
       "    </tr>\n",
       "</table></div></div></li><li class='xr-section-item'><input id='section-96602705-f3b9-46da-b3f3-3998886d8da1' class='xr-section-summary-in' type='checkbox'  ><label for='section-96602705-f3b9-46da-b3f3-3998886d8da1' class='xr-section-summary' >Coordinates: <span>(39)</span></label><div class='xr-section-inline-details'></div><div class='xr-section-details'><ul class='xr-var-list'><li class='xr-var-item'><div class='xr-var-name'><span class='xr-has-index'>time</span></div><div class='xr-var-dims'>(time)</div><div class='xr-var-dtype'>datetime64[ns]</div><div class='xr-var-preview xr-preview'>2022-05-04T11:06:53.776347 ... 2...</div><input id='attrs-d9e5e379-d39e-4dc8-9723-14a4437384cf' class='xr-var-attrs-in' type='checkbox' disabled><label for='attrs-d9e5e379-d39e-4dc8-9723-14a4437384cf' title='Show/Hide attributes'><svg class='icon xr-icon-file-text2'><use xlink:href='#icon-file-text2'></use></svg></label><input id='data-7401398c-29a9-4cdb-a325-d0b4a48ae8c7' class='xr-var-data-in' type='checkbox'><label for='data-7401398c-29a9-4cdb-a325-d0b4a48ae8c7' title='Show/Hide data repr'><svg class='icon xr-icon-database'><use xlink:href='#icon-database'></use></svg></label><div class='xr-var-attrs'><dl class='xr-attrs'></dl></div><div class='xr-var-data'><pre>array([&#x27;2022-05-04T11:06:53.776347000&#x27;, &#x27;2022-05-04T23:31:43.294740000&#x27;,\n",
       "       &#x27;2022-05-04T23:32:10.313109000&#x27;], dtype=&#x27;datetime64[ns]&#x27;)</pre></div></li><li class='xr-var-item'><div class='xr-var-name'><span>id</span></div><div class='xr-var-dims'>(time)</div><div class='xr-var-dtype'>&lt;U66</div><div class='xr-var-preview xr-preview'>&#x27;S1A_IW_GRDH_1SDV_20220504T11063...</div><input id='attrs-3c82bbd7-9a89-4618-bc17-2be13148756c' class='xr-var-attrs-in' type='checkbox' disabled><label for='attrs-3c82bbd7-9a89-4618-bc17-2be13148756c' title='Show/Hide attributes'><svg class='icon xr-icon-file-text2'><use xlink:href='#icon-file-text2'></use></svg></label><input id='data-e0851a19-bcd0-4b72-b41d-103e4658db99' class='xr-var-data-in' type='checkbox'><label for='data-e0851a19-bcd0-4b72-b41d-103e4658db99' title='Show/Hide data repr'><svg class='icon xr-icon-database'><use xlink:href='#icon-database'></use></svg></label><div class='xr-var-attrs'><dl class='xr-attrs'></dl></div><div class='xr-var-data'><pre>array([&#x27;S1A_IW_GRDH_1SDV_20220504T110639_20220504T110708_043060_052458_rtc&#x27;,\n",
       "       &#x27;S1A_IW_GRDH_1SDV_20220504T233128_20220504T233157_043068_05249C_rtc&#x27;,\n",
       "       &#x27;S1A_IW_GRDH_1SDV_20220504T233157_20220504T233222_043068_05249C_rtc&#x27;],\n",
       "      dtype=&#x27;&lt;U66&#x27;)</pre></div></li><li class='xr-var-item'><div class='xr-var-name'><span class='xr-has-index'>band</span></div><div class='xr-var-dims'>(band)</div><div class='xr-var-dtype'>&lt;U2</div><div class='xr-var-preview xr-preview'>&#x27;vh&#x27; &#x27;vv&#x27;</div><input id='attrs-4cb95aa9-e3d9-482e-8070-4503a180220b' class='xr-var-attrs-in' type='checkbox' disabled><label for='attrs-4cb95aa9-e3d9-482e-8070-4503a180220b' title='Show/Hide attributes'><svg class='icon xr-icon-file-text2'><use xlink:href='#icon-file-text2'></use></svg></label><input id='data-c74f49fc-738a-48ed-bb49-9eef714aee7e' class='xr-var-data-in' type='checkbox'><label for='data-c74f49fc-738a-48ed-bb49-9eef714aee7e' title='Show/Hide data repr'><svg class='icon xr-icon-database'><use xlink:href='#icon-database'></use></svg></label><div class='xr-var-attrs'><dl class='xr-attrs'></dl></div><div class='xr-var-data'><pre>array([&#x27;vh&#x27;, &#x27;vv&#x27;], dtype=&#x27;&lt;U2&#x27;)</pre></div></li><li class='xr-var-item'><div class='xr-var-name'><span class='xr-has-index'>x</span></div><div class='xr-var-dims'>(x)</div><div class='xr-var-dtype'>float64</div><div class='xr-var-preview xr-preview'>-1.225e+07 -1.225e+07 ... -1.18e+07</div><input id='attrs-31428a26-e1d1-434a-a9d0-9fb8bae23364' class='xr-var-attrs-in' type='checkbox' disabled><label for='attrs-31428a26-e1d1-434a-a9d0-9fb8bae23364' title='Show/Hide attributes'><svg class='icon xr-icon-file-text2'><use xlink:href='#icon-file-text2'></use></svg></label><input id='data-fe555e47-bfdb-4978-8aa4-2543b57a957f' class='xr-var-data-in' type='checkbox'><label for='data-fe555e47-bfdb-4978-8aa4-2543b57a957f' title='Show/Hide data repr'><svg class='icon xr-icon-database'><use xlink:href='#icon-database'></use></svg></label><div class='xr-var-attrs'><dl class='xr-attrs'></dl></div><div class='xr-var-data'><pre>array([-12247900., -12247800., -12247700., ..., -11805100., -11805000.,\n",
       "       -11804900.])</pre></div></li><li class='xr-var-item'><div class='xr-var-name'><span class='xr-has-index'>y</span></div><div class='xr-var-dims'>(y)</div><div class='xr-var-dtype'>float64</div><div class='xr-var-preview xr-preview'>4.171e+06 4.171e+06 ... 3.746e+06</div><input id='attrs-7b3622fc-6792-4300-8a3f-f6775df5b625' class='xr-var-attrs-in' type='checkbox' disabled><label for='attrs-7b3622fc-6792-4300-8a3f-f6775df5b625' title='Show/Hide attributes'><svg class='icon xr-icon-file-text2'><use xlink:href='#icon-file-text2'></use></svg></label><input id='data-a09620f2-29e8-4fd5-b310-f21b877533d0' class='xr-var-data-in' type='checkbox'><label for='data-a09620f2-29e8-4fd5-b310-f21b877533d0' title='Show/Hide data repr'><svg class='icon xr-icon-database'><use xlink:href='#icon-database'></use></svg></label><div class='xr-var-attrs'><dl class='xr-attrs'></dl></div><div class='xr-var-data'><pre>array([4171100., 4171000., 4170900., ..., 3746600., 3746500., 3746400.])</pre></div></li><li class='xr-var-item'><div class='xr-var-name'><span>sat:absolute_orbit</span></div><div class='xr-var-dims'>(time)</div><div class='xr-var-dtype'>int64</div><div class='xr-var-preview xr-preview'>43060 43068 43068</div><input id='attrs-7db2122f-eee4-4070-bd86-15206428a105' class='xr-var-attrs-in' type='checkbox' disabled><label for='attrs-7db2122f-eee4-4070-bd86-15206428a105' title='Show/Hide attributes'><svg class='icon xr-icon-file-text2'><use xlink:href='#icon-file-text2'></use></svg></label><input id='data-0839cddb-390b-48b8-939a-16e66571af41' class='xr-var-data-in' type='checkbox'><label for='data-0839cddb-390b-48b8-939a-16e66571af41' title='Show/Hide data repr'><svg class='icon xr-icon-database'><use xlink:href='#icon-database'></use></svg></label><div class='xr-var-attrs'><dl class='xr-attrs'></dl></div><div class='xr-var-data'><pre>array([43060, 43068, 43068])</pre></div></li><li class='xr-var-item'><div class='xr-var-name'><span>s1:resolution</span></div><div class='xr-var-dims'>()</div><div class='xr-var-dtype'>&lt;U4</div><div class='xr-var-preview xr-preview'>&#x27;high&#x27;</div><input id='attrs-52db3452-15a9-4139-978f-28ed35ef00ba' class='xr-var-attrs-in' type='checkbox' disabled><label for='attrs-52db3452-15a9-4139-978f-28ed35ef00ba' title='Show/Hide attributes'><svg class='icon xr-icon-file-text2'><use xlink:href='#icon-file-text2'></use></svg></label><input id='data-d3b7028b-5a5a-4b28-91ca-b20836ed48ed' class='xr-var-data-in' type='checkbox'><label for='data-d3b7028b-5a5a-4b28-91ca-b20836ed48ed' title='Show/Hide data repr'><svg class='icon xr-icon-database'><use xlink:href='#icon-database'></use></svg></label><div class='xr-var-attrs'><dl class='xr-attrs'></dl></div><div class='xr-var-data'><pre>array(&#x27;high&#x27;, dtype=&#x27;&lt;U4&#x27;)</pre></div></li><li class='xr-var-item'><div class='xr-var-name'><span>proj:epsg</span></div><div class='xr-var-dims'>()</div><div class='xr-var-dtype'>int64</div><div class='xr-var-preview xr-preview'>32617</div><input id='attrs-668a5d25-ea01-4dcd-b199-767f5f592c69' class='xr-var-attrs-in' type='checkbox' disabled><label for='attrs-668a5d25-ea01-4dcd-b199-767f5f592c69' title='Show/Hide attributes'><svg class='icon xr-icon-file-text2'><use xlink:href='#icon-file-text2'></use></svg></label><input id='data-f2c933ac-f694-45cf-8b40-a2cf79018bdc' class='xr-var-data-in' type='checkbox'><label for='data-f2c933ac-f694-45cf-8b40-a2cf79018bdc' title='Show/Hide data repr'><svg class='icon xr-icon-database'><use xlink:href='#icon-database'></use></svg></label><div class='xr-var-attrs'><dl class='xr-attrs'></dl></div><div class='xr-var-data'><pre>array(32617)</pre></div></li><li class='xr-var-item'><div class='xr-var-name'><span>s1:processing_level</span></div><div class='xr-var-dims'>()</div><div class='xr-var-dtype'>&lt;U1</div><div class='xr-var-preview xr-preview'>&#x27;1&#x27;</div><input id='attrs-1b4c928f-fd4c-4811-9b26-e67c51276246' class='xr-var-attrs-in' type='checkbox' disabled><label for='attrs-1b4c928f-fd4c-4811-9b26-e67c51276246' title='Show/Hide attributes'><svg class='icon xr-icon-file-text2'><use xlink:href='#icon-file-text2'></use></svg></label><input id='data-286c47ac-ebcd-4766-90ad-8ef64c836306' class='xr-var-data-in' type='checkbox'><label for='data-286c47ac-ebcd-4766-90ad-8ef64c836306' title='Show/Hide data repr'><svg class='icon xr-icon-database'><use xlink:href='#icon-database'></use></svg></label><div class='xr-var-attrs'><dl class='xr-attrs'></dl></div><div class='xr-var-data'><pre>array(&#x27;1&#x27;, dtype=&#x27;&lt;U1&#x27;)</pre></div></li><li class='xr-var-item'><div class='xr-var-name'><span>sar:polarizations</span></div><div class='xr-var-dims'>()</div><div class='xr-var-dtype'>object</div><div class='xr-var-preview xr-preview'>{&#x27;VH&#x27;, &#x27;VV&#x27;}</div><input id='attrs-1bfa0000-e04d-41bc-b3c4-363350c3387d' class='xr-var-attrs-in' type='checkbox' disabled><label for='attrs-1bfa0000-e04d-41bc-b3c4-363350c3387d' title='Show/Hide attributes'><svg class='icon xr-icon-file-text2'><use xlink:href='#icon-file-text2'></use></svg></label><input id='data-7b01dfe0-246a-40c8-95cf-fcc3c078b3e5' class='xr-var-data-in' type='checkbox'><label for='data-7b01dfe0-246a-40c8-95cf-fcc3c078b3e5' title='Show/Hide data repr'><svg class='icon xr-icon-database'><use xlink:href='#icon-database'></use></svg></label><div class='xr-var-attrs'><dl class='xr-attrs'></dl></div><div class='xr-var-data'><pre>array({&#x27;VH&#x27;, &#x27;VV&#x27;}, dtype=object)</pre></div></li><li class='xr-var-item'><div class='xr-var-name'><span>sar:looks_range</span></div><div class='xr-var-dims'>()</div><div class='xr-var-dtype'>int64</div><div class='xr-var-preview xr-preview'>5</div><input id='attrs-08835fd9-c424-4fa1-b806-b85cc10c3189' class='xr-var-attrs-in' type='checkbox' disabled><label for='attrs-08835fd9-c424-4fa1-b806-b85cc10c3189' title='Show/Hide attributes'><svg class='icon xr-icon-file-text2'><use xlink:href='#icon-file-text2'></use></svg></label><input id='data-e1ead502-a6e9-495c-89a1-5714a2ddbde2' class='xr-var-data-in' type='checkbox'><label for='data-e1ead502-a6e9-495c-89a1-5714a2ddbde2' title='Show/Hide data repr'><svg class='icon xr-icon-database'><use xlink:href='#icon-database'></use></svg></label><div class='xr-var-attrs'><dl class='xr-attrs'></dl></div><div class='xr-var-data'><pre>array(5)</pre></div></li><li class='xr-var-item'><div class='xr-var-name'><span>sar:pixel_spacing_range</span></div><div class='xr-var-dims'>()</div><div class='xr-var-dtype'>int64</div><div class='xr-var-preview xr-preview'>10</div><input id='attrs-78d6f1f1-1d41-46cb-9ba8-337c32aca687' class='xr-var-attrs-in' type='checkbox' disabled><label for='attrs-78d6f1f1-1d41-46cb-9ba8-337c32aca687' title='Show/Hide attributes'><svg class='icon xr-icon-file-text2'><use xlink:href='#icon-file-text2'></use></svg></label><input id='data-cf0c56e3-fdc5-4163-90a2-ac8b4e6e6920' class='xr-var-data-in' type='checkbox'><label for='data-cf0c56e3-fdc5-4163-90a2-ac8b4e6e6920' title='Show/Hide data repr'><svg class='icon xr-icon-database'><use xlink:href='#icon-database'></use></svg></label><div class='xr-var-attrs'><dl class='xr-attrs'></dl></div><div class='xr-var-data'><pre>array(10)</pre></div></li><li class='xr-var-item'><div class='xr-var-name'><span>sat:orbit_state</span></div><div class='xr-var-dims'>(time)</div><div class='xr-var-dtype'>&lt;U10</div><div class='xr-var-preview xr-preview'>&#x27;descending&#x27; ... &#x27;ascending&#x27;</div><input id='attrs-c21e75aa-6112-41a9-87cc-9c2bd7949dac' class='xr-var-attrs-in' type='checkbox' disabled><label for='attrs-c21e75aa-6112-41a9-87cc-9c2bd7949dac' title='Show/Hide attributes'><svg class='icon xr-icon-file-text2'><use xlink:href='#icon-file-text2'></use></svg></label><input id='data-1d37ea25-2ae7-4e26-88ea-8da6ecb6b0f8' class='xr-var-data-in' type='checkbox'><label for='data-1d37ea25-2ae7-4e26-88ea-8da6ecb6b0f8' title='Show/Hide data repr'><svg class='icon xr-icon-database'><use xlink:href='#icon-database'></use></svg></label><div class='xr-var-attrs'><dl class='xr-attrs'></dl></div><div class='xr-var-data'><pre>array([&#x27;descending&#x27;, &#x27;ascending&#x27;, &#x27;ascending&#x27;], dtype=&#x27;&lt;U10&#x27;)</pre></div></li><li class='xr-var-item'><div class='xr-var-name'><span>s1:product_timeliness</span></div><div class='xr-var-dims'>()</div><div class='xr-var-dtype'>&lt;U8</div><div class='xr-var-preview xr-preview'>&#x27;Fast-24h&#x27;</div><input id='attrs-26f8359b-cd54-4d9b-8e1d-01ae7bfb3338' class='xr-var-attrs-in' type='checkbox' disabled><label for='attrs-26f8359b-cd54-4d9b-8e1d-01ae7bfb3338' title='Show/Hide attributes'><svg class='icon xr-icon-file-text2'><use xlink:href='#icon-file-text2'></use></svg></label><input id='data-95dc9c0f-b438-4f09-9889-8518ebbe4c81' class='xr-var-data-in' type='checkbox'><label for='data-95dc9c0f-b438-4f09-9889-8518ebbe4c81' title='Show/Hide data repr'><svg class='icon xr-icon-database'><use xlink:href='#icon-database'></use></svg></label><div class='xr-var-attrs'><dl class='xr-attrs'></dl></div><div class='xr-var-data'><pre>array(&#x27;Fast-24h&#x27;, dtype=&#x27;&lt;U8&#x27;)</pre></div></li><li class='xr-var-item'><div class='xr-var-name'><span>start_datetime</span></div><div class='xr-var-dims'>(time)</div><div class='xr-var-dtype'>&lt;U32</div><div class='xr-var-preview xr-preview'>&#x27;2022-05-04 11:06:39.265482+00:0...</div><input id='attrs-1e942989-6ad1-4c27-be45-aaff8e84d940' class='xr-var-attrs-in' type='checkbox' disabled><label for='attrs-1e942989-6ad1-4c27-be45-aaff8e84d940' title='Show/Hide attributes'><svg class='icon xr-icon-file-text2'><use xlink:href='#icon-file-text2'></use></svg></label><input id='data-1a337a55-c6da-47be-aa37-a0e8ac17af72' class='xr-var-data-in' type='checkbox'><label for='data-1a337a55-c6da-47be-aa37-a0e8ac17af72' title='Show/Hide data repr'><svg class='icon xr-icon-database'><use xlink:href='#icon-database'></use></svg></label><div class='xr-var-attrs'><dl class='xr-attrs'></dl></div><div class='xr-var-data'><pre>array([&#x27;2022-05-04 11:06:39.265482+00:00&#x27;,\n",
       "       &#x27;2022-05-04 23:31:28.776781+00:00&#x27;,\n",
       "       &#x27;2022-05-04 23:31:57.814190+00:00&#x27;], dtype=&#x27;&lt;U32&#x27;)</pre></div></li><li class='xr-var-item'><div class='xr-var-name'><span>sar:center_frequency</span></div><div class='xr-var-dims'>()</div><div class='xr-var-dtype'>float64</div><div class='xr-var-preview xr-preview'>5.405</div><input id='attrs-ce43de74-8e4a-4af2-9988-8424a203f589' class='xr-var-attrs-in' type='checkbox' disabled><label for='attrs-ce43de74-8e4a-4af2-9988-8424a203f589' title='Show/Hide attributes'><svg class='icon xr-icon-file-text2'><use xlink:href='#icon-file-text2'></use></svg></label><input id='data-d08e9934-c740-4871-9ba5-bcd12b1dd4db' class='xr-var-data-in' type='checkbox'><label for='data-d08e9934-c740-4871-9ba5-bcd12b1dd4db' title='Show/Hide data repr'><svg class='icon xr-icon-database'><use xlink:href='#icon-database'></use></svg></label><div class='xr-var-attrs'><dl class='xr-attrs'></dl></div><div class='xr-var-data'><pre>array(5.405)</pre></div></li><li class='xr-var-item'><div class='xr-var-name'><span>sar:resolution_range</span></div><div class='xr-var-dims'>()</div><div class='xr-var-dtype'>int64</div><div class='xr-var-preview xr-preview'>20</div><input id='attrs-f5c3f5b9-3c62-4015-9087-933561981ce8' class='xr-var-attrs-in' type='checkbox' disabled><label for='attrs-f5c3f5b9-3c62-4015-9087-933561981ce8' title='Show/Hide attributes'><svg class='icon xr-icon-file-text2'><use xlink:href='#icon-file-text2'></use></svg></label><input id='data-943e108b-0317-41e5-aded-fc7b452c0210' class='xr-var-data-in' type='checkbox'><label for='data-943e108b-0317-41e5-aded-fc7b452c0210' title='Show/Hide data repr'><svg class='icon xr-icon-database'><use xlink:href='#icon-database'></use></svg></label><div class='xr-var-attrs'><dl class='xr-attrs'></dl></div><div class='xr-var-data'><pre>array(20)</pre></div></li><li class='xr-var-item'><div class='xr-var-name'><span>sat:relative_orbit</span></div><div class='xr-var-dims'>(time)</div><div class='xr-var-dtype'>int64</div><div class='xr-var-preview xr-preview'>113 121 121</div><input id='attrs-09ace164-3822-4c3a-b0b1-38963f32d6d1' class='xr-var-attrs-in' type='checkbox' disabled><label for='attrs-09ace164-3822-4c3a-b0b1-38963f32d6d1' title='Show/Hide attributes'><svg class='icon xr-icon-file-text2'><use xlink:href='#icon-file-text2'></use></svg></label><input id='data-cb9b23c6-0ca4-4c3a-aada-0671199a96cb' class='xr-var-data-in' type='checkbox'><label for='data-cb9b23c6-0ca4-4c3a-aada-0671199a96cb' title='Show/Hide data repr'><svg class='icon xr-icon-database'><use xlink:href='#icon-database'></use></svg></label><div class='xr-var-attrs'><dl class='xr-attrs'></dl></div><div class='xr-var-data'><pre>array([113, 121, 121])</pre></div></li><li class='xr-var-item'><div class='xr-var-name'><span>s1:orbit_source</span></div><div class='xr-var-dims'>()</div><div class='xr-var-dtype'>&lt;U6</div><div class='xr-var-preview xr-preview'>&#x27;RESORB&#x27;</div><input id='attrs-bc8079f4-9042-48f5-b864-bc36ba0a10fe' class='xr-var-attrs-in' type='checkbox' disabled><label for='attrs-bc8079f4-9042-48f5-b864-bc36ba0a10fe' title='Show/Hide attributes'><svg class='icon xr-icon-file-text2'><use xlink:href='#icon-file-text2'></use></svg></label><input id='data-fd7bba12-8b75-451e-bd58-8153d510b4f9' class='xr-var-data-in' type='checkbox'><label for='data-fd7bba12-8b75-451e-bd58-8153d510b4f9' title='Show/Hide data repr'><svg class='icon xr-icon-database'><use xlink:href='#icon-database'></use></svg></label><div class='xr-var-attrs'><dl class='xr-attrs'></dl></div><div class='xr-var-data'><pre>array(&#x27;RESORB&#x27;, dtype=&#x27;&lt;U6&#x27;)</pre></div></li><li class='xr-var-item'><div class='xr-var-name'><span>s1:total_slices</span></div><div class='xr-var-dims'>(time)</div><div class='xr-var-dtype'>&lt;U2</div><div class='xr-var-preview xr-preview'>&#x27;2&#x27; &#x27;29&#x27; &#x27;29&#x27;</div><input id='attrs-401328ff-c8e2-4d72-825c-d548088a1b1c' class='xr-var-attrs-in' type='checkbox' disabled><label for='attrs-401328ff-c8e2-4d72-825c-d548088a1b1c' title='Show/Hide attributes'><svg class='icon xr-icon-file-text2'><use xlink:href='#icon-file-text2'></use></svg></label><input id='data-3e422ec2-fd36-476f-9303-1b7dbca86788' class='xr-var-data-in' type='checkbox'><label for='data-3e422ec2-fd36-476f-9303-1b7dbca86788' title='Show/Hide data repr'><svg class='icon xr-icon-database'><use xlink:href='#icon-database'></use></svg></label><div class='xr-var-attrs'><dl class='xr-attrs'></dl></div><div class='xr-var-data'><pre>array([&#x27;2&#x27;, &#x27;29&#x27;, &#x27;29&#x27;], dtype=&#x27;&lt;U2&#x27;)</pre></div></li><li class='xr-var-item'><div class='xr-var-name'><span>sat:platform_international_designator</span></div><div class='xr-var-dims'>()</div><div class='xr-var-dtype'>&lt;U9</div><div class='xr-var-preview xr-preview'>&#x27;2014-016A&#x27;</div><input id='attrs-2955512a-71b0-4708-b895-580bc2a7653e' class='xr-var-attrs-in' type='checkbox' disabled><label for='attrs-2955512a-71b0-4708-b895-580bc2a7653e' title='Show/Hide attributes'><svg class='icon xr-icon-file-text2'><use xlink:href='#icon-file-text2'></use></svg></label><input id='data-5199ff62-7719-425a-834d-951f48de9915' class='xr-var-data-in' type='checkbox'><label for='data-5199ff62-7719-425a-834d-951f48de9915' title='Show/Hide data repr'><svg class='icon xr-icon-database'><use xlink:href='#icon-database'></use></svg></label><div class='xr-var-attrs'><dl class='xr-attrs'></dl></div><div class='xr-var-data'><pre>array(&#x27;2014-016A&#x27;, dtype=&#x27;&lt;U9&#x27;)</pre></div></li><li class='xr-var-item'><div class='xr-var-name'><span>s1:instrument_configuration_ID</span></div><div class='xr-var-dims'>()</div><div class='xr-var-dtype'>&lt;U1</div><div class='xr-var-preview xr-preview'>&#x27;7&#x27;</div><input id='attrs-6e2dd6fc-edd7-4ec7-9827-66c92e9976bc' class='xr-var-attrs-in' type='checkbox' disabled><label for='attrs-6e2dd6fc-edd7-4ec7-9827-66c92e9976bc' title='Show/Hide attributes'><svg class='icon xr-icon-file-text2'><use xlink:href='#icon-file-text2'></use></svg></label><input id='data-0a4a922d-8f64-4401-a788-5c8db7315039' class='xr-var-data-in' type='checkbox'><label for='data-0a4a922d-8f64-4401-a788-5c8db7315039' title='Show/Hide data repr'><svg class='icon xr-icon-database'><use xlink:href='#icon-database'></use></svg></label><div class='xr-var-attrs'><dl class='xr-attrs'></dl></div><div class='xr-var-data'><pre>array(&#x27;7&#x27;, dtype=&#x27;&lt;U1&#x27;)</pre></div></li><li class='xr-var-item'><div class='xr-var-name'><span>end_datetime</span></div><div class='xr-var-dims'>(time)</div><div class='xr-var-dtype'>&lt;U32</div><div class='xr-var-preview xr-preview'>&#x27;2022-05-04 11:07:08.287212+00:0...</div><input id='attrs-ec64fffe-e48c-4708-9eae-55b6a3db2d79' class='xr-var-attrs-in' type='checkbox' disabled><label for='attrs-ec64fffe-e48c-4708-9eae-55b6a3db2d79' title='Show/Hide attributes'><svg class='icon xr-icon-file-text2'><use xlink:href='#icon-file-text2'></use></svg></label><input id='data-41d4af41-27cd-4b79-9574-3d513a973f5c' class='xr-var-data-in' type='checkbox'><label for='data-41d4af41-27cd-4b79-9574-3d513a973f5c' title='Show/Hide data repr'><svg class='icon xr-icon-database'><use xlink:href='#icon-database'></use></svg></label><div class='xr-var-attrs'><dl class='xr-attrs'></dl></div><div class='xr-var-data'><pre>array([&#x27;2022-05-04 11:07:08.287212+00:00&#x27;,\n",
       "       &#x27;2022-05-04 23:31:57.812699+00:00&#x27;,\n",
       "       &#x27;2022-05-04 23:32:22.812028+00:00&#x27;], dtype=&#x27;&lt;U32&#x27;)</pre></div></li><li class='xr-var-item'><div class='xr-var-name'><span>sar:instrument_mode</span></div><div class='xr-var-dims'>()</div><div class='xr-var-dtype'>&lt;U2</div><div class='xr-var-preview xr-preview'>&#x27;IW&#x27;</div><input id='attrs-ad4a0d0a-6e51-40c7-b68d-e8c84e89cdbb' class='xr-var-attrs-in' type='checkbox' disabled><label for='attrs-ad4a0d0a-6e51-40c7-b68d-e8c84e89cdbb' title='Show/Hide attributes'><svg class='icon xr-icon-file-text2'><use xlink:href='#icon-file-text2'></use></svg></label><input id='data-90163a77-0a6f-409c-980a-9b5b0a83e634' class='xr-var-data-in' type='checkbox'><label for='data-90163a77-0a6f-409c-980a-9b5b0a83e634' title='Show/Hide data repr'><svg class='icon xr-icon-database'><use xlink:href='#icon-database'></use></svg></label><div class='xr-var-attrs'><dl class='xr-attrs'></dl></div><div class='xr-var-data'><pre>array(&#x27;IW&#x27;, dtype=&#x27;&lt;U2&#x27;)</pre></div></li><li class='xr-var-item'><div class='xr-var-name'><span>sar:product_type</span></div><div class='xr-var-dims'>()</div><div class='xr-var-dtype'>&lt;U3</div><div class='xr-var-preview xr-preview'>&#x27;GRD&#x27;</div><input id='attrs-0677cf9a-9b24-460c-a22b-d362223cfad7' class='xr-var-attrs-in' type='checkbox' disabled><label for='attrs-0677cf9a-9b24-460c-a22b-d362223cfad7' title='Show/Hide attributes'><svg class='icon xr-icon-file-text2'><use xlink:href='#icon-file-text2'></use></svg></label><input id='data-ddd0aa18-2256-4246-bc94-f96cc62e13e9' class='xr-var-data-in' type='checkbox'><label for='data-ddd0aa18-2256-4246-bc94-f96cc62e13e9' title='Show/Hide data repr'><svg class='icon xr-icon-database'><use xlink:href='#icon-database'></use></svg></label><div class='xr-var-attrs'><dl class='xr-attrs'></dl></div><div class='xr-var-data'><pre>array(&#x27;GRD&#x27;, dtype=&#x27;&lt;U3&#x27;)</pre></div></li><li class='xr-var-item'><div class='xr-var-name'><span>platform</span></div><div class='xr-var-dims'>()</div><div class='xr-var-dtype'>&lt;U11</div><div class='xr-var-preview xr-preview'>&#x27;SENTINEL-1A&#x27;</div><input id='attrs-f1dd0e4a-be28-4a14-87ab-8769fae5f2d8' class='xr-var-attrs-in' type='checkbox' disabled><label for='attrs-f1dd0e4a-be28-4a14-87ab-8769fae5f2d8' title='Show/Hide attributes'><svg class='icon xr-icon-file-text2'><use xlink:href='#icon-file-text2'></use></svg></label><input id='data-93101ed9-e02c-4009-b9db-6891ca3ec353' class='xr-var-data-in' type='checkbox'><label for='data-93101ed9-e02c-4009-b9db-6891ca3ec353' title='Show/Hide data repr'><svg class='icon xr-icon-database'><use xlink:href='#icon-database'></use></svg></label><div class='xr-var-attrs'><dl class='xr-attrs'></dl></div><div class='xr-var-data'><pre>array(&#x27;SENTINEL-1A&#x27;, dtype=&#x27;&lt;U11&#x27;)</pre></div></li><li class='xr-var-item'><div class='xr-var-name'><span>sar:looks_azimuth</span></div><div class='xr-var-dims'>()</div><div class='xr-var-dtype'>int64</div><div class='xr-var-preview xr-preview'>1</div><input id='attrs-47fb7117-fcdd-427e-898a-c4a34ef37c0f' class='xr-var-attrs-in' type='checkbox' disabled><label for='attrs-47fb7117-fcdd-427e-898a-c4a34ef37c0f' title='Show/Hide attributes'><svg class='icon xr-icon-file-text2'><use xlink:href='#icon-file-text2'></use></svg></label><input id='data-3db7a7be-ebc5-482e-8d58-2e88e6b0b1cd' class='xr-var-data-in' type='checkbox'><label for='data-3db7a7be-ebc5-482e-8d58-2e88e6b0b1cd' title='Show/Hide data repr'><svg class='icon xr-icon-database'><use xlink:href='#icon-database'></use></svg></label><div class='xr-var-attrs'><dl class='xr-attrs'></dl></div><div class='xr-var-data'><pre>array(1)</pre></div></li><li class='xr-var-item'><div class='xr-var-name'><span>s1:slice_number</span></div><div class='xr-var-dims'>(time)</div><div class='xr-var-dtype'>&lt;U1</div><div class='xr-var-preview xr-preview'>&#x27;1&#x27; &#x27;1&#x27; &#x27;2&#x27;</div><input id='attrs-da33fdc0-c3d9-4b9b-8fd2-41b959953033' class='xr-var-attrs-in' type='checkbox' disabled><label for='attrs-da33fdc0-c3d9-4b9b-8fd2-41b959953033' title='Show/Hide attributes'><svg class='icon xr-icon-file-text2'><use xlink:href='#icon-file-text2'></use></svg></label><input id='data-35a1db73-02a8-48d9-8d1a-316237bc3ef7' class='xr-var-data-in' type='checkbox'><label for='data-35a1db73-02a8-48d9-8d1a-316237bc3ef7' title='Show/Hide data repr'><svg class='icon xr-icon-database'><use xlink:href='#icon-database'></use></svg></label><div class='xr-var-attrs'><dl class='xr-attrs'></dl></div><div class='xr-var-data'><pre>array([&#x27;1&#x27;, &#x27;1&#x27;, &#x27;2&#x27;], dtype=&#x27;&lt;U1&#x27;)</pre></div></li><li class='xr-var-item'><div class='xr-var-name'><span>sar:frequency_band</span></div><div class='xr-var-dims'>()</div><div class='xr-var-dtype'>&lt;U1</div><div class='xr-var-preview xr-preview'>&#x27;C&#x27;</div><input id='attrs-fac34f4e-f808-447b-acee-acdb5df2b7ac' class='xr-var-attrs-in' type='checkbox' disabled><label for='attrs-fac34f4e-f808-447b-acee-acdb5df2b7ac' title='Show/Hide attributes'><svg class='icon xr-icon-file-text2'><use xlink:href='#icon-file-text2'></use></svg></label><input id='data-7115983e-bd24-451c-bd12-6f1c781af239' class='xr-var-data-in' type='checkbox'><label for='data-7115983e-bd24-451c-bd12-6f1c781af239' title='Show/Hide data repr'><svg class='icon xr-icon-database'><use xlink:href='#icon-database'></use></svg></label><div class='xr-var-attrs'><dl class='xr-attrs'></dl></div><div class='xr-var-data'><pre>array(&#x27;C&#x27;, dtype=&#x27;&lt;U1&#x27;)</pre></div></li><li class='xr-var-item'><div class='xr-var-name'><span>s1:datatake_id</span></div><div class='xr-var-dims'>(time)</div><div class='xr-var-dtype'>&lt;U6</div><div class='xr-var-preview xr-preview'>&#x27;336984&#x27; &#x27;337052&#x27; &#x27;337052&#x27;</div><input id='attrs-1c2c93a9-5b9e-453c-a79f-c1aafe9c6da7' class='xr-var-attrs-in' type='checkbox' disabled><label for='attrs-1c2c93a9-5b9e-453c-a79f-c1aafe9c6da7' title='Show/Hide attributes'><svg class='icon xr-icon-file-text2'><use xlink:href='#icon-file-text2'></use></svg></label><input id='data-b2c035be-305f-4185-9d7d-a28e8a58fb6e' class='xr-var-data-in' type='checkbox'><label for='data-b2c035be-305f-4185-9d7d-a28e8a58fb6e' title='Show/Hide data repr'><svg class='icon xr-icon-database'><use xlink:href='#icon-database'></use></svg></label><div class='xr-var-attrs'><dl class='xr-attrs'></dl></div><div class='xr-var-data'><pre>array([&#x27;336984&#x27;, &#x27;337052&#x27;, &#x27;337052&#x27;], dtype=&#x27;&lt;U6&#x27;)</pre></div></li><li class='xr-var-item'><div class='xr-var-name'><span>sar:looks_equivalent_number</span></div><div class='xr-var-dims'>()</div><div class='xr-var-dtype'>float64</div><div class='xr-var-preview xr-preview'>4.4</div><input id='attrs-4b6c303c-908c-4bc5-8300-941d715bd4ab' class='xr-var-attrs-in' type='checkbox' disabled><label for='attrs-4b6c303c-908c-4bc5-8300-941d715bd4ab' title='Show/Hide attributes'><svg class='icon xr-icon-file-text2'><use xlink:href='#icon-file-text2'></use></svg></label><input id='data-8e6a9b3f-4bb8-4661-a0f0-191036a29b41' class='xr-var-data-in' type='checkbox'><label for='data-8e6a9b3f-4bb8-4661-a0f0-191036a29b41' title='Show/Hide data repr'><svg class='icon xr-icon-database'><use xlink:href='#icon-database'></use></svg></label><div class='xr-var-attrs'><dl class='xr-attrs'></dl></div><div class='xr-var-data'><pre>array(4.4)</pre></div></li><li class='xr-var-item'><div class='xr-var-name'><span>constellation</span></div><div class='xr-var-dims'>()</div><div class='xr-var-dtype'>&lt;U10</div><div class='xr-var-preview xr-preview'>&#x27;Sentinel-1&#x27;</div><input id='attrs-9db5e3ac-e9e9-444e-822b-3640b7373526' class='xr-var-attrs-in' type='checkbox' disabled><label for='attrs-9db5e3ac-e9e9-444e-822b-3640b7373526' title='Show/Hide attributes'><svg class='icon xr-icon-file-text2'><use xlink:href='#icon-file-text2'></use></svg></label><input id='data-78afa625-8930-4947-ae74-bb3dac32c9bf' class='xr-var-data-in' type='checkbox'><label for='data-78afa625-8930-4947-ae74-bb3dac32c9bf' title='Show/Hide data repr'><svg class='icon xr-icon-database'><use xlink:href='#icon-database'></use></svg></label><div class='xr-var-attrs'><dl class='xr-attrs'></dl></div><div class='xr-var-data'><pre>array(&#x27;Sentinel-1&#x27;, dtype=&#x27;&lt;U10&#x27;)</pre></div></li><li class='xr-var-item'><div class='xr-var-name'><span>sar:observation_direction</span></div><div class='xr-var-dims'>()</div><div class='xr-var-dtype'>&lt;U5</div><div class='xr-var-preview xr-preview'>&#x27;right&#x27;</div><input id='attrs-5fc19d40-97d0-4c39-98be-ed6f64005ccd' class='xr-var-attrs-in' type='checkbox' disabled><label for='attrs-5fc19d40-97d0-4c39-98be-ed6f64005ccd' title='Show/Hide attributes'><svg class='icon xr-icon-file-text2'><use xlink:href='#icon-file-text2'></use></svg></label><input id='data-bd1f0972-e38f-436d-8478-13536882480f' class='xr-var-data-in' type='checkbox'><label for='data-bd1f0972-e38f-436d-8478-13536882480f' title='Show/Hide data repr'><svg class='icon xr-icon-database'><use xlink:href='#icon-database'></use></svg></label><div class='xr-var-attrs'><dl class='xr-attrs'></dl></div><div class='xr-var-data'><pre>array(&#x27;right&#x27;, dtype=&#x27;&lt;U5&#x27;)</pre></div></li><li class='xr-var-item'><div class='xr-var-name'><span>sar:pixel_spacing_azimuth</span></div><div class='xr-var-dims'>()</div><div class='xr-var-dtype'>int64</div><div class='xr-var-preview xr-preview'>10</div><input id='attrs-c2f54075-d3ab-48bb-9167-5fbd149f0621' class='xr-var-attrs-in' type='checkbox' disabled><label for='attrs-c2f54075-d3ab-48bb-9167-5fbd149f0621' title='Show/Hide attributes'><svg class='icon xr-icon-file-text2'><use xlink:href='#icon-file-text2'></use></svg></label><input id='data-e039cb30-646c-426e-b65e-a5bda1d3f071' class='xr-var-data-in' type='checkbox'><label for='data-e039cb30-646c-426e-b65e-a5bda1d3f071' title='Show/Hide data repr'><svg class='icon xr-icon-database'><use xlink:href='#icon-database'></use></svg></label><div class='xr-var-attrs'><dl class='xr-attrs'></dl></div><div class='xr-var-data'><pre>array(10)</pre></div></li><li class='xr-var-item'><div class='xr-var-name'><span>sar:resolution_azimuth</span></div><div class='xr-var-dims'>()</div><div class='xr-var-dtype'>int64</div><div class='xr-var-preview xr-preview'>22</div><input id='attrs-a65c98a2-1d86-46e1-bbd8-248add45df16' class='xr-var-attrs-in' type='checkbox' disabled><label for='attrs-a65c98a2-1d86-46e1-bbd8-248add45df16' title='Show/Hide attributes'><svg class='icon xr-icon-file-text2'><use xlink:href='#icon-file-text2'></use></svg></label><input id='data-c584c13c-01ae-4210-8c70-73265294877f' class='xr-var-data-in' type='checkbox'><label for='data-c584c13c-01ae-4210-8c70-73265294877f' title='Show/Hide data repr'><svg class='icon xr-icon-database'><use xlink:href='#icon-database'></use></svg></label><div class='xr-var-attrs'><dl class='xr-attrs'></dl></div><div class='xr-var-data'><pre>array(22)</pre></div></li><li class='xr-var-item'><div class='xr-var-name'><span>title</span></div><div class='xr-var-dims'>(band)</div><div class='xr-var-dtype'>&lt;U41</div><div class='xr-var-preview xr-preview'>&#x27;VH: vertical transmit, horizont...</div><input id='attrs-f9033f56-bffe-4841-94ef-506106070292' class='xr-var-attrs-in' type='checkbox' disabled><label for='attrs-f9033f56-bffe-4841-94ef-506106070292' title='Show/Hide attributes'><svg class='icon xr-icon-file-text2'><use xlink:href='#icon-file-text2'></use></svg></label><input id='data-bc18c216-8758-4d57-b12d-735df8536e85' class='xr-var-data-in' type='checkbox'><label for='data-bc18c216-8758-4d57-b12d-735df8536e85' title='Show/Hide data repr'><svg class='icon xr-icon-database'><use xlink:href='#icon-database'></use></svg></label><div class='xr-var-attrs'><dl class='xr-attrs'></dl></div><div class='xr-var-data'><pre>array([&#x27;VH: vertical transmit, horizontal receive&#x27;,\n",
       "       &#x27;VV: vertical transmit, vertical receive&#x27;], dtype=&#x27;&lt;U41&#x27;)</pre></div></li><li class='xr-var-item'><div class='xr-var-name'><span>raster:bands</span></div><div class='xr-var-dims'>()</div><div class='xr-var-dtype'>object</div><div class='xr-var-preview xr-preview'>{&#x27;nodata&#x27;: -32768, &#x27;data_type&#x27;: ...</div><input id='attrs-01d150d1-249d-4f9c-930a-0d9cd8ff4db2' class='xr-var-attrs-in' type='checkbox' disabled><label for='attrs-01d150d1-249d-4f9c-930a-0d9cd8ff4db2' title='Show/Hide attributes'><svg class='icon xr-icon-file-text2'><use xlink:href='#icon-file-text2'></use></svg></label><input id='data-81ab9920-a417-40e1-8b37-62df4a1be020' class='xr-var-data-in' type='checkbox'><label for='data-81ab9920-a417-40e1-8b37-62df4a1be020' title='Show/Hide data repr'><svg class='icon xr-icon-database'><use xlink:href='#icon-database'></use></svg></label><div class='xr-var-attrs'><dl class='xr-attrs'></dl></div><div class='xr-var-data'><pre>array({&#x27;nodata&#x27;: -32768, &#x27;data_type&#x27;: &#x27;float32&#x27;, &#x27;spatial_resolution&#x27;: 10.0},\n",
       "      dtype=object)</pre></div></li><li class='xr-var-item'><div class='xr-var-name'><span>description</span></div><div class='xr-var-dims'>(band)</div><div class='xr-var-dtype'>&lt;U173</div><div class='xr-var-preview xr-preview'>&#x27;Terrain-corrected gamma naught ...</div><input id='attrs-c1a177aa-3464-4cad-a4f7-37eaf055cc7d' class='xr-var-attrs-in' type='checkbox' disabled><label for='attrs-c1a177aa-3464-4cad-a4f7-37eaf055cc7d' title='Show/Hide attributes'><svg class='icon xr-icon-file-text2'><use xlink:href='#icon-file-text2'></use></svg></label><input id='data-5d5dd3d3-a167-41fa-a89f-92948f7e18af' class='xr-var-data-in' type='checkbox'><label for='data-5d5dd3d3-a167-41fa-a89f-92948f7e18af' title='Show/Hide data repr'><svg class='icon xr-icon-database'><use xlink:href='#icon-database'></use></svg></label><div class='xr-var-attrs'><dl class='xr-attrs'></dl></div><div class='xr-var-data'><pre>array([&#x27;Terrain-corrected gamma naught values of signal transmitted with vertical polarization and received with horizontal polarization with radiometric terrain correction applied.&#x27;,\n",
       "       &#x27;Terrain-corrected gamma naught values of signal transmitted with vertical polarization and received with vertical polarization with radiometric terrain correction applied.&#x27;],\n",
       "      dtype=&#x27;&lt;U173&#x27;)</pre></div></li><li class='xr-var-item'><div class='xr-var-name'><span>epsg</span></div><div class='xr-var-dims'>()</div><div class='xr-var-dtype'>int64</div><div class='xr-var-preview xr-preview'>32630</div><input id='attrs-db1a5c17-820a-4c85-9b82-a885d0b204a8' class='xr-var-attrs-in' type='checkbox' disabled><label for='attrs-db1a5c17-820a-4c85-9b82-a885d0b204a8' title='Show/Hide attributes'><svg class='icon xr-icon-file-text2'><use xlink:href='#icon-file-text2'></use></svg></label><input id='data-8c34567e-1cd3-4561-9fe7-12831bb02c39' class='xr-var-data-in' type='checkbox'><label for='data-8c34567e-1cd3-4561-9fe7-12831bb02c39' title='Show/Hide data repr'><svg class='icon xr-icon-database'><use xlink:href='#icon-database'></use></svg></label><div class='xr-var-attrs'><dl class='xr-attrs'></dl></div><div class='xr-var-data'><pre>array(32630)</pre></div></li></ul></div></li><li class='xr-section-item'><input id='section-a4dfb0ac-6aad-4667-b68c-4bb13d7dc140' class='xr-section-summary-in' type='checkbox'  checked><label for='section-a4dfb0ac-6aad-4667-b68c-4bb13d7dc140' class='xr-section-summary' >Attributes: <span>(4)</span></label><div class='xr-section-inline-details'></div><div class='xr-section-details'><dl class='xr-attrs'><dt><span>spec :</span></dt><dd>RasterSpec(epsg=32630, bounds=(-12247900, 3746300, -11804800, 4171100), resolutions_xy=(100, 100))</dd><dt><span>crs :</span></dt><dd>epsg:32630</dd><dt><span>transform :</span></dt><dd>| 100.00, 0.00,-12247900.00|\n",
       "| 0.00,-100.00, 4171100.00|\n",
       "| 0.00, 0.00, 1.00|</dd><dt><span>resolution :</span></dt><dd>100</dd></dl></div></li></ul></div></div>"
      ],
      "text/plain": [
       "<xarray.DataArray 'stackstac-50b066be198a039bc4e73aa60a5208bd' (time: 3,\n",
       "                                                                band: 2,\n",
       "                                                                y: 4248, x: 4431)>\n",
       "dask.array<fetch_raster_window, shape=(3, 2, 4248, 4431), dtype=float64, chunksize=(1, 1, 1024, 1024), chunktype=numpy.ndarray>\n",
       "Coordinates: (12/39)\n",
       "  * time                                   (time) datetime64[ns] 2022-05-04T1...\n",
       "    id                                     (time) <U66 'S1A_IW_GRDH_1SDV_2022...\n",
       "  * band                                   (band) <U2 'vh' 'vv'\n",
       "  * x                                      (x) float64 -1.225e+07 ... -1.18e+07\n",
       "  * y                                      (y) float64 4.171e+06 ... 3.746e+06\n",
       "    sat:absolute_orbit                     (time) int64 43060 43068 43068\n",
       "    ...                                     ...\n",
       "    sar:pixel_spacing_azimuth              int64 10\n",
       "    sar:resolution_azimuth                 int64 22\n",
       "    title                                  (band) <U41 'VH: vertical transmit...\n",
       "    raster:bands                           object {'nodata': -32768, 'data_ty...\n",
       "    description                            (band) <U173 'Terrain-corrected ga...\n",
       "    epsg                                   int64 32630\n",
       "Attributes:\n",
       "    spec:        RasterSpec(epsg=32630, bounds=(-12247900, 3746300, -11804800...\n",
       "    crs:         epsg:32630\n",
       "    transform:   | 100.00, 0.00,-12247900.00|\\n| 0.00,-100.00, 4171100.00|\\n|...\n",
       "    resolution:  100"
      ]
     },
     "execution_count": 8,
     "metadata": {},
     "output_type": "execute_result"
    }
   ],
   "source": [
    "import stackstac\n",
    "\n",
    "ds = stackstac.stack(items, bounds_latlon=bbox, epsg=32630, resolution=100)\n",
    "ds"
   ]
  },
  {
   "cell_type": "markdown",
   "id": "c1b9eca5-1aaa-4460-a348-35bde0c03084",
   "metadata": {},
   "source": [
    "We'll select the `vv` band for the first timestep found by our search."
   ]
  },
  {
   "cell_type": "code",
   "execution_count": 9,
   "id": "663c5962-8403-4d92-b299-e0b783acdaa3",
   "metadata": {},
   "outputs": [],
   "source": [
    "vv = ds.sel(band=\"vv\")[0].compute()"
   ]
  },
  {
   "cell_type": "markdown",
   "id": "31a64475-6188-4e34-8def-f5230e13643a",
   "metadata": {},
   "source": [
    "The distribution of the raw values is quite skewed:"
   ]
  },
  {
   "cell_type": "code",
   "execution_count": 10,
   "id": "44037b15-4732-4aeb-a376-ccdf65dc12ac",
   "metadata": {},
   "outputs": [
    {
     "data": {
      "text/html": [
       "<img src=\"https://ai4edatasetspublicassets.blob.core.windows.net/assets/notebook-output/datasets-sentinel-1-rtc-sentinel-1-rtc-example.ipynb/10.png\"/>"
      ],
      "text/plain": [
       "<Figure size 432x288 with 1 Axes>"
      ]
     },
     "metadata": {},
     "output_type": "display_data"
    }
   ],
   "source": [
    "vv.plot.hist(bins=30);"
   ]
  },
  {
   "cell_type": "markdown",
   "id": "da130a06-9100-4f7e-b41b-baa286cf19e2",
   "metadata": {},
   "source": [
    "So the values are typically transformed before visualization:"
   ]
  },
  {
   "cell_type": "code",
   "execution_count": 11,
   "id": "c8d63553-c798-4f6f-a812-7de0d4ccac1e",
   "metadata": {},
   "outputs": [
    {
     "data": {
      "text/html": [
       "<img src=\"https://ai4edatasetspublicassets.blob.core.windows.net/assets/notebook-output/datasets-sentinel-1-rtc-sentinel-1-rtc-example.ipynb/11.png\"/>"
      ],
      "text/plain": [
       "<Figure size 432x288 with 1 Axes>"
      ]
     },
     "metadata": {},
     "output_type": "display_data"
    }
   ],
   "source": [
    "fig, ax = plt.subplots(figsize=(6, 4))\n",
    "\n",
    "\n",
    "def db_scale(x):\n",
    "    return 10 * np.log10(x)\n",
    "\n",
    "\n",
    "db_scale(vv).plot.hist(bins=50, ax=ax)\n",
    "ax.set(title=\"Distribution of pixel values (dB scale)\", xlabel=\"Pixel values\");"
   ]
  },
  {
   "cell_type": "code",
   "execution_count": 12,
   "id": "ea8a689e-e679-4628-88b0-4c109e2473bf",
   "metadata": {},
   "outputs": [
    {
     "data": {
      "text/html": [
       "<img src=\"https://ai4edatasetspublicassets.blob.core.windows.net/assets/notebook-output/datasets-sentinel-1-rtc-sentinel-1-rtc-example.ipynb/12.png\"/>"
      ],
      "text/plain": [
       "<Figure size 907.2x864 with 1 Axes>"
      ]
     },
     "metadata": {},
     "output_type": "display_data"
    }
   ],
   "source": [
    "img = (\n",
    "    db_scale(vv)\n",
    "    .coarsen(x=4, y=4, boundary=\"trim\")\n",
    "    .max()\n",
    "    .plot.imshow(cmap=\"bone\", size=12, aspect=1.05, add_colorbar=False)\n",
    ")\n",
    "img.axes.set_axis_off();"
   ]
  },
  {
   "cell_type": "markdown",
   "id": "5c586739-4f4d-4bf9-b7fc-77d6a4db00f9",
   "metadata": {},
   "source": [
    "### The effect of terrain correction\n",
    "\n",
    "In this section, we compare Sentinel-1 GRD to Sentinel-1 RTC to see the effect of terrain correction.\n",
    "\n",
    "Every Sentinel-1-RTC item is derived from a [Sentinel-1-GRD](https://planetarycomputer.microsoft.com/dataset/sentinel-1-grd) item. You can follow the `derived_from` link to get back to the original GRD item."
   ]
  },
  {
   "cell_type": "code",
   "execution_count": 13,
   "id": "7825433b-8156-4842-b0ab-e2382e3691b3",
   "metadata": {},
   "outputs": [],
   "source": [
    "rtc_item = catalog.get_collection(\"sentinel-1-rtc\").get_item(\n",
    "    \"S1A_IW_GRDH_1SDV_20220518T054334_20220518T054359_043261_052A9D_rtc\"\n",
    ")\n",
    "grd_item = pystac.read_file(rtc_item.get_single_link(\"derived_from\").target)"
   ]
  },
  {
   "cell_type": "markdown",
   "id": "08ca8b5a-4250-4d1b-8227-3c21b5ab78fb",
   "metadata": {},
   "source": [
    "Next, we'll use the `tilejson` asset, which uses the Planetary Computer's [Data API](https://planetarycomputer.microsoft.com/api/data/v1/) to serve xyz tiles for a STAC item."
   ]
  },
  {
   "cell_type": "code",
   "execution_count": 14,
   "id": "586b4e60-b092-40d4-ad29-71c4bf06fbe1",
   "metadata": {},
   "outputs": [],
   "source": [
    "grd_tiles = requests.get(grd_item.assets[\"tilejson\"].href).json()[\"tiles\"][0]\n",
    "rtc_tiles = requests.get(rtc_item.assets[\"tilejson\"].href).json()[\"tiles\"][0]"
   ]
  },
  {
   "cell_type": "markdown",
   "id": "709ddcb7-28a0-41b2-9c6e-17d3af191ccd",
   "metadata": {},
   "source": [
    "With these URLs, we can build an interactive map using [ipyleaflet](https://ipyleaflet.readthedocs.io/en/latest/index.html). Adjust the slider to visualize either GRD (to the left) or RTC (to the right)."
   ]
  },
  {
   "cell_type": "code",
   "execution_count": 15,
   "id": "246659d0-58b7-49f7-ba77-83d757bec1ff",
   "metadata": {},
   "outputs": [
    {
     "data": {
      "application/vnd.jupyter.widget-view+json": {
       "model_id": "e49ead9250d741faa6ed100033db1dc2",
       "version_major": 2,
       "version_minor": 0
      },
      "text/plain": [
       "Map(center=[47.05, 7.1], controls=(FullScreenControl(options=['position']), ZoomControl(options=['position', '…"
      ]
     },
     "metadata": {},
     "output_type": "display_data"
    }
   ],
   "source": [
    "center = [47.05, 7.10]\n",
    "m = ipyleaflet.Map(\n",
    "    center=center,\n",
    "    zoom=14,\n",
    "    controls=[ipyleaflet.FullScreenControl()],\n",
    ")\n",
    "grd_layer = ipyleaflet.TileLayer(url=grd_tiles)\n",
    "rtc_layer = ipyleaflet.TileLayer(url=rtc_tiles)\n",
    "\n",
    "control = ipyleaflet.SplitMapControl(left_layer=grd_layer, right_layer=rtc_layer)\n",
    "m.add_control(control)\n",
    "m.scroll_wheel_zoom = True\n",
    "m"
   ]
  },
  {
   "cell_type": "markdown",
   "id": "4ca47365-1c97-49f8-a5e1-846b1cbae468",
   "metadata": {},
   "source": [
    "Notice that points seem to \"jump\" between the GRD and RTC. The RTC values are corrected to align with where they're actually at on the Earth.\n",
    "\n",
    "For more background on terrain correction, and for an introduction to the [sarsen](https://github.com/bopen/sarsen) package which enables customizable RTCs, see [Sentinel-1 Customizable Radiometric Terrain Correction](https://planetarycomputer.microsoft.com/docs/tutorials/customizable-rtc-sentinel1/)."
   ]
  }
 ],
 "metadata": {
  "kernelspec": {
   "display_name": "Python 3 (ipykernel)",
   "language": "python",
   "name": "python3"
  },
  "language_info": {
   "codemirror_mode": {
    "name": "ipython",
    "version": 3
   },
   "file_extension": ".py",
   "mimetype": "text/x-python",
   "name": "python",
   "nbconvert_exporter": "python",
   "pygments_lexer": "ipython3",
   "version": "3.8.13"
  },
  "widgets": {
   "application/vnd.jupyter.widget-state+json": {
    "state": {
     "14e5acac38754c3e9de1fb48e56bc5ad": {
      "model_module": "jupyter-leaflet",
      "model_module_version": "^0.17.0",
      "model_name": "LeafletTileLayerModel",
      "state": {
       "_model_module_version": "^0.17.0",
       "_view_module_version": "^0.17.0",
       "attribution": "&copy; <a href=\"https://www.openstreetmap.org/copyright\">OpenStreetMap</a> contributors",
       "base": true,
       "max_zoom": 19,
       "min_zoom": 1,
       "name": "OpenStreetMap.Mapnik",
       "options": [
        "attribution",
        "bounds",
        "detect_retina",
        "max_native_zoom",
        "max_zoom",
        "min_native_zoom",
        "min_zoom",
        "no_wrap",
        "tile_size",
        "tms"
       ],
       "url": "https://a.tile.openstreetmap.org/{z}/{x}/{y}.png"
      }
     },
     "1b789f8cd1f54c8885637e7ca2b54e6d": {
      "model_module": "jupyter-leaflet",
      "model_module_version": "^0.17.0",
      "model_name": "LeafletSplitMapControlModel",
      "state": {
       "_model_module_version": "^0.17.0",
       "_model_name": "LeafletSplitMapControlModel",
       "_view_module_version": "^0.17.0",
       "_view_name": "LeafletSplitMapControlView",
       "left_layer": "IPY_MODEL_ece123fa46c84b0fa8882ad47f4c5932",
       "options": [
        "position"
       ],
       "right_layer": "IPY_MODEL_b43b719b7d64402e8e8e0278250cc60e"
      }
     },
     "20d50cc84b2440e2b934a2f7f45e1e2c": {
      "model_module": "jupyter-leaflet",
      "model_module_version": "^0.17.0",
      "model_name": "LeafletMapStyleModel",
      "state": {
       "_model_module_version": "^0.17.0",
       "cursor": "move"
      }
     },
     "3755bcab846f4bde8b84b2938691b829": {
      "model_module": "@jupyter-widgets/base",
      "model_module_version": "1.2.0",
      "model_name": "LayoutModel",
      "state": {}
     },
     "58725a884e284ae192e9abc31837adf9": {
      "model_module": "jupyter-leaflet",
      "model_module_version": "^0.17.0",
      "model_name": "LeafletZoomControlModel",
      "state": {
       "_model_module_version": "^0.17.0",
       "_view_module_version": "^0.17.0",
       "options": [
        "position",
        "zoom_in_text",
        "zoom_in_title",
        "zoom_out_text",
        "zoom_out_title"
       ]
      }
     },
     "614febe830f547ec8e7543973bbf0517": {
      "model_module": "jupyter-leaflet",
      "model_module_version": "^0.17.0",
      "model_name": "LeafletMapStyleModel",
      "state": {
       "_model_module_version": "^0.17.0"
      }
     },
     "7e286d5e0c3c4cd68499e10b30842560": {
      "model_module": "jupyter-leaflet",
      "model_module_version": "^0.17.0",
      "model_name": "LeafletAttributionControlModel",
      "state": {
       "_model_module_version": "^0.17.0",
       "_view_module_version": "^0.17.0",
       "options": [
        "position",
        "prefix"
       ],
       "position": "bottomright",
       "prefix": "ipyleaflet"
      }
     },
     "b43b719b7d64402e8e8e0278250cc60e": {
      "model_module": "jupyter-leaflet",
      "model_module_version": "^0.17.0",
      "model_name": "LeafletTileLayerModel",
      "state": {
       "_model_module_version": "^0.17.0",
       "_view_module_version": "^0.17.0",
       "options": [
        "attribution",
        "bounds",
        "detect_retina",
        "max_native_zoom",
        "max_zoom",
        "min_native_zoom",
        "min_zoom",
        "no_wrap",
        "tile_size",
        "tms"
       ],
       "url": "https://planetarycomputer.microsoft.com/api/data/v1/item/tiles/WebMercatorQuad/{z}/{x}/{y}@1x.png?collection=sentinel-1-rtc&item=S1A_IW_GRDH_1SDV_20220518T054334_20220518T054359_043261_052A9D_rtc&assets=vv&assets=vh&expression=0.03+%2B+log+%2810e-4+-+log+%280.05+%2F+%280.02+%2B+2+%2A+vv%29%29%29%2C0.05+%2B+exp+%280.25+%2A+%28log+%280.01+%2B+2+%2A+vv%29+%2B+log+%280.02+%2B+5+%2A+vh%29%29%29%2C1+-+log+%280.05+%2F+%280.045+-+0.9+%2A+vv%29%29&rescale=0%2C.8000&rescale=0%2C1.000&rescale=0%2C1.000"
      }
     },
     "b928c8399cca4d4997b754333aca187f": {
      "model_module": "jupyter-leaflet",
      "model_module_version": "^0.17.0",
      "model_name": "LeafletMapStyleModel",
      "state": {
       "_model_module_version": "^0.17.0"
      }
     },
     "da49b289184b4faf9d2c93de779e4e49": {
      "model_module": "@jupyter-widgets/base",
      "model_module_version": "1.2.0",
      "model_name": "LayoutModel",
      "state": {}
     },
     "e113542ba8c74e9e8b86a9c7e6ec83ea": {
      "model_module": "@jupyter-widgets/controls",
      "model_module_version": "1.5.0",
      "model_name": "VBoxModel",
      "state": {
       "layout": "IPY_MODEL_3755bcab846f4bde8b84b2938691b829"
      }
     },
     "e49ead9250d741faa6ed100033db1dc2": {
      "model_module": "jupyter-leaflet",
      "model_module_version": "^0.17.0",
      "model_name": "LeafletMapModel",
      "state": {
       "_model_module_version": "^0.17.0",
       "_view_module_version": "^0.17.0",
       "bottom": 1474592,
       "center": [
        47.05,
        7.1
       ],
       "controls": [
        "IPY_MODEL_fb39f1ed0d654bc29db0a72945c3c921",
        "IPY_MODEL_58725a884e284ae192e9abc31837adf9",
        "IPY_MODEL_7e286d5e0c3c4cd68499e10b30842560",
        "IPY_MODEL_1b789f8cd1f54c8885637e7ca2b54e6d"
       ],
       "default_style": "IPY_MODEL_614febe830f547ec8e7543973bbf0517",
       "dragging_style": "IPY_MODEL_20d50cc84b2440e2b934a2f7f45e1e2c",
       "east": 7.160940170288087,
       "fullscreen": false,
       "interpolation": "bilinear",
       "layers": [
        "IPY_MODEL_14e5acac38754c3e9de1fb48e56bc5ad"
       ],
       "layout": "IPY_MODEL_da49b289184b4faf9d2c93de779e4e49",
       "left": 2179163,
       "modisdate": "2022-08-14",
       "north": 47.06170298810154,
       "options": [
        "bounce_at_zoom_limits",
        "box_zoom",
        "center",
        "close_popup_on_click",
        "double_click_zoom",
        "dragging",
        "fullscreen",
        "inertia",
        "inertia_deceleration",
        "inertia_max_speed",
        "interpolation",
        "keyboard",
        "keyboard_pan_offset",
        "keyboard_zoom_offset",
        "max_zoom",
        "min_zoom",
        "prefer_canvas",
        "scroll_wheel_zoom",
        "tap",
        "tap_tolerance",
        "touch_zoom",
        "world_copy_jump",
        "zoom",
        "zoom_animation_threshold",
        "zoom_delta",
        "zoom_snap"
       ],
       "prefer_canvas": false,
       "right": 2180583,
       "scroll_wheel_zoom": true,
       "south": 47.03831035673278,
       "style": "IPY_MODEL_b928c8399cca4d4997b754333aca187f",
       "top": 1474192,
       "west": 7.039060592651368,
       "window_url": "https://pcc-staging.westeurope.cloudapp.azure.com/compute/user/taugspurger@microsoft.com/lab/tree/pc-examples-2/datasets/sentinel-2-l2a/sentinel-2-l2a-example.ipynb",
       "zoom": 14
      }
     },
     "ece123fa46c84b0fa8882ad47f4c5932": {
      "model_module": "jupyter-leaflet",
      "model_module_version": "^0.17.0",
      "model_name": "LeafletTileLayerModel",
      "state": {
       "_model_module_version": "^0.17.0",
       "_view_module_version": "^0.17.0",
       "options": [
        "attribution",
        "bounds",
        "detect_retina",
        "max_native_zoom",
        "max_zoom",
        "min_native_zoom",
        "min_zoom",
        "no_wrap",
        "tile_size",
        "tms"
       ],
       "url": "https://planetarycomputer.microsoft.com/api/data/v1/item/tiles/WebMercatorQuad/{z}/{x}/{y}@1x.png?collection=sentinel-1-grd&item=S1A_IW_GRDH_1SDV_20220518T054334_20220518T054359_043261_052A9D&assets=vv&assets=vh&expression=vv%2Cvh%2Cvv%2Fvh&rescale=0%2C500&rescale=0%2C300&rescale=0%2C7"
      }
     },
     "fb39f1ed0d654bc29db0a72945c3c921": {
      "model_module": "jupyter-leaflet",
      "model_module_version": "^0.17.0",
      "model_name": "LeafletFullScreenControlModel",
      "state": {
       "_model_module_version": "^0.17.0",
       "_view_module_version": "^0.17.0",
       "options": [
        "position"
       ]
      }
     }
    },
    "version_major": 2,
    "version_minor": 0
   }
  }
 },
 "nbformat": 4,
 "nbformat_minor": 5
}
