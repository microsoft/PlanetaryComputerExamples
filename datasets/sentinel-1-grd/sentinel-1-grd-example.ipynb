{
 "cells": [
  {
   "cell_type": "markdown",
   "id": "fa6db855-f61c-4e7b-beae-5af9940f53dd",
   "metadata": {},
   "source": [
    "## Accessing Sentinel-1 Level-1 GRD data with the Planetary Computer STAC API\n",
    "\n",
    "The [Level-1 Ground Range Detected](https://sentinel.esa.int/web/sentinel/user-guides/sentinel-1-sar/product-types-processing-levels/level-1https://sentinel.esa.int/web/sentinel/user-guides/sentinel-1-sar/product-types-processing-levels/level-1) (GRD) products in this Collection consist of focused SAR data that has been detected, multi-looked and projected to ground range using the Earth ellipsoid model WGS84.\n",
    "\n",
    "### Environment setup\n",
    "\n",
    "This notebook works with or without an API key, but you will be given more permissive access to the data with an API key.\n",
    "\n",
    "* The [Planetary Computer Hub](https://planetarycomputer.microsoft.com/compute) is pre-configured to use your API key.\n",
    "* To use your API key locally, set the environment variable `PC_SDK_SUBSCRIPTION_KEY` or use `planetary_computer.settings.set_subscription_key(<YOUR API Key>)`"
   ]
  },
  {
   "cell_type": "code",
   "execution_count": 1,
   "id": "89c47da8-ae8a-4f05-8e45-b09ba341a6b2",
   "metadata": {},
   "outputs": [],
   "source": [
    "import pystac_client\n",
    "import planetary_computer\n",
    "import rioxarray\n",
    "import xarray as xr\n",
    "import numpy as np\n",
    "import rich.table"
   ]
  },
  {
   "cell_type": "markdown",
   "id": "cabd0629-74f5-4d70-8855-eb0aaaa815b3",
   "metadata": {},
   "source": [
    "### Data access\n",
    "\n",
    "The datasets hosted by the Planetary Computer are available from [Azure Blob Storage](https://docs.microsoft.com/en-us/azure/storage/blobs/). We'll use [pystac-client](https://pystac-client.readthedocs.io/) to search the Planetary Computer's [STAC API](https://planetarycomputer.microsoft.com/api/stac/v1/docs) for the subset of the data that we care about, and then we'll load the data directly from Azure Blob Storage. We'll specify a `modifier` so that we can access the data stored in the Planetary Computer's private Blob Storage Containers. See [Reading from the STAC API](https://planetarycomputer.microsoft.com/docs/quickstarts/reading-stac/) and [Using tokens for data access](https://planetarycomputer.microsoft.com/docs/concepts/sas/) for more."
   ]
  },
  {
   "cell_type": "code",
   "execution_count": 2,
   "id": "faeb1ddb-461e-4c72-bfc3-41c8d5b084e4",
   "metadata": {},
   "outputs": [],
   "source": [
    "catalog = pystac_client.Client.open(\n",
    "    \"https://planetarycomputer.microsoft.com/api/stac/v1\",\n",
    "    modifier=planetary_computer.sign_inplace,\n",
    ")"
   ]
  },
  {
   "cell_type": "markdown",
   "id": "44523f4c-9ee1-471c-8140-ba6a3cbb429d",
   "metadata": {},
   "source": [
    "### Choose an area and time of interest\n",
    "\n",
    "We'll query for images over Microsoft's main campus in Redmond, Washington during January 2021."
   ]
  },
  {
   "cell_type": "code",
   "execution_count": 3,
   "id": "8bf4c4ca-e541-4fbe-9b72-e631778588e0",
   "metadata": {},
   "outputs": [
    {
     "name": "stdout",
     "output_type": "stream",
     "text": [
      "Returned 115 Items\n"
     ]
    }
   ],
   "source": [
    "bbox_of_interest = [-122.2751, 47.5469, -121.9613, 47.7458]\n",
    "time_of_interest = \"2021-01-01/2021-12-31\"\n",
    "\n",
    "search = catalog.search(\n",
    "    collections=[\"sentinel-1-grd\"],\n",
    "    bbox=bbox_of_interest,\n",
    "    datetime=time_of_interest,\n",
    ")\n",
    "\n",
    "items = search.item_collection()\n",
    "print(f\"Returned {len(items)} Items\")"
   ]
  },
  {
   "cell_type": "markdown",
   "id": "f1c34f75-628d-4014-9c02-1c709a0c5b2b",
   "metadata": {},
   "source": [
    "We can use the `rendered_preview` asset to get a quick preview of the item. This uses the Planetary Computer's [data API](https://planetarycomputer.microsoft.com/api/stac/v1/docs) to dynamically render an image from the underlying assets."
   ]
  },
  {
   "cell_type": "code",
   "execution_count": 4,
   "id": "7dde13da-8f70-49e1-9b6a-046ec7f58b11",
   "metadata": {},
   "outputs": [
    {
     "data": {
      "text/html": [
       "<img src=\"https://planetarycomputer.microsoft.com/api/data/v1/item/preview.png?collection=sentinel-1-grd&item=S1B_IW_GRDH_1SDV_20211222T142055_20211222T142120_030139_039950&assets=vv&assets=vh&expression=vv%2Cvh%2Cvv%2Fvh&rescale=0%2C500&rescale=0%2C300&rescale=0%2C7&tile_format=png\"/>"
      ],
      "text/plain": [
       "<IPython.core.display.Image object>"
      ]
     },
     "execution_count": 4,
     "metadata": {},
     "output_type": "execute_result"
    }
   ],
   "source": [
    "from IPython.display import Image\n",
    "\n",
    "item = items[0]\n",
    "Image(url=item.assets[\"thumbnail\"].href)"
   ]
  },
  {
   "cell_type": "markdown",
   "id": "fbfe1d63-855b-4a44-bedc-4db57dd71b92",
   "metadata": {},
   "source": [
    "### Inspect the STAC metadata\n",
    "\n",
    "The STAC metadata includes information about when and how the assets were acquired, including metadata from the [SAR](https://github.com/stac-extensions/sar) and [Satellite](https://github.com/stac-extensions/sat) extensions."
   ]
  },
  {
   "cell_type": "code",
   "execution_count": 5,
   "id": "991f2ebd-97fd-4b5a-9992-09940c8d073b",
   "metadata": {},
   "outputs": [
    {
     "data": {
      "text/html": [
       "<pre style=\"white-space:pre;overflow-x:auto;line-height:normal;font-family:Menlo,'DejaVu Sans Mono',consolas,'Courier New',monospace\">┏━━━━━━━━━━━━━━━━━━━━━━━━━━━━━━━━━━━━━━━┳━━━━━━━━━━━━━━━━━━━━━━━━━━━━━━━━━━┓\n",
       "┃<span style=\"font-weight: bold\"> key                                   </span>┃<span style=\"font-weight: bold\"> value                            </span>┃\n",
       "┡━━━━━━━━━━━━━━━━━━━━━━━━━━━━━━━━━━━━━━━╇━━━━━━━━━━━━━━━━━━━━━━━━━━━━━━━━━━┩\n",
       "│ constellation                         │ Sentinel-1                       │\n",
       "│ datetime                              │ 2021-12-22T14:21:07.534562Z      │\n",
       "│ end_datetime                          │ 2021-12-22 14:21:20.033489+00:00 │\n",
       "│ platform                              │ SENTINEL-1B                      │\n",
       "│ s1:datatake_id                        │ 235856                           │\n",
       "│ s1:instrument_configuration_ID        │ 2                                │\n",
       "│ s1:orbit_source                       │ RESORB                           │\n",
       "│ s1:processing_level                   │ 1                                │\n",
       "│ s1:product_timeliness                 │ Fast-24h                         │\n",
       "│ s1:resolution                         │ high                             │\n",
       "│ s1:shape                              │ [25981, 16680]                   │\n",
       "│ s1:slice_number                       │ 9                                │\n",
       "│ s1:total_slices                       │ 16                               │\n",
       "│ sar:center_frequency                  │ 5.405                            │\n",
       "│ sar:frequency_band                    │ C                                │\n",
       "│ sar:instrument_mode                   │ IW                               │\n",
       "│ sar:looks_azimuth                     │ 1                                │\n",
       "│ sar:looks_equivalent_number           │ 4.4                              │\n",
       "│ sar:looks_range                       │ 5                                │\n",
       "│ sar:observation_direction             │ right                            │\n",
       "│ sar:pixel_spacing_azimuth             │ 10                               │\n",
       "│ sar:pixel_spacing_range               │ 10                               │\n",
       "│ sar:polarizations                     │ ['VV', 'VH']                     │\n",
       "│ sar:product_type                      │ GRD                              │\n",
       "│ sar:resolution_azimuth                │ 22                               │\n",
       "│ sar:resolution_range                  │ 20                               │\n",
       "│ sat:absolute_orbit                    │ 30139                            │\n",
       "│ sat:orbit_state                       │ descending                       │\n",
       "│ sat:platform_international_designator │ 2016-025A                        │\n",
       "│ sat:relative_orbit                    │ 13                               │\n",
       "│ start_datetime                        │ 2021-12-22 14:20:55.035634+00:00 │\n",
       "└───────────────────────────────────────┴──────────────────────────────────┘\n",
       "</pre>\n"
      ],
      "text/plain": [
       "┏━━━━━━━━━━━━━━━━━━━━━━━━━━━━━━━━━━━━━━━┳━━━━━━━━━━━━━━━━━━━━━━━━━━━━━━━━━━┓\n",
       "┃\u001b[1m \u001b[0m\u001b[1mkey                                  \u001b[0m\u001b[1m \u001b[0m┃\u001b[1m \u001b[0m\u001b[1mvalue                           \u001b[0m\u001b[1m \u001b[0m┃\n",
       "┡━━━━━━━━━━━━━━━━━━━━━━━━━━━━━━━━━━━━━━━╇━━━━━━━━━━━━━━━━━━━━━━━━━━━━━━━━━━┩\n",
       "│ constellation                         │ Sentinel-1                       │\n",
       "│ datetime                              │ 2021-12-22T14:21:07.534562Z      │\n",
       "│ end_datetime                          │ 2021-12-22 14:21:20.033489+00:00 │\n",
       "│ platform                              │ SENTINEL-1B                      │\n",
       "│ s1:datatake_id                        │ 235856                           │\n",
       "│ s1:instrument_configuration_ID        │ 2                                │\n",
       "│ s1:orbit_source                       │ RESORB                           │\n",
       "│ s1:processing_level                   │ 1                                │\n",
       "│ s1:product_timeliness                 │ Fast-24h                         │\n",
       "│ s1:resolution                         │ high                             │\n",
       "│ s1:shape                              │ [25981, 16680]                   │\n",
       "│ s1:slice_number                       │ 9                                │\n",
       "│ s1:total_slices                       │ 16                               │\n",
       "│ sar:center_frequency                  │ 5.405                            │\n",
       "│ sar:frequency_band                    │ C                                │\n",
       "│ sar:instrument_mode                   │ IW                               │\n",
       "│ sar:looks_azimuth                     │ 1                                │\n",
       "│ sar:looks_equivalent_number           │ 4.4                              │\n",
       "│ sar:looks_range                       │ 5                                │\n",
       "│ sar:observation_direction             │ right                            │\n",
       "│ sar:pixel_spacing_azimuth             │ 10                               │\n",
       "│ sar:pixel_spacing_range               │ 10                               │\n",
       "│ sar:polarizations                     │ ['VV', 'VH']                     │\n",
       "│ sar:product_type                      │ GRD                              │\n",
       "│ sar:resolution_azimuth                │ 22                               │\n",
       "│ sar:resolution_range                  │ 20                               │\n",
       "│ sat:absolute_orbit                    │ 30139                            │\n",
       "│ sat:orbit_state                       │ descending                       │\n",
       "│ sat:platform_international_designator │ 2016-025A                        │\n",
       "│ sat:relative_orbit                    │ 13                               │\n",
       "│ start_datetime                        │ 2021-12-22 14:20:55.035634+00:00 │\n",
       "└───────────────────────────────────────┴──────────────────────────────────┘\n"
      ]
     },
     "execution_count": 5,
     "metadata": {},
     "output_type": "execute_result"
    }
   ],
   "source": [
    "table = rich.table.Table(\"key\", \"value\")\n",
    "for k, v in sorted(item.properties.items()):\n",
    "    table.add_row(k, str(v))\n",
    "\n",
    "table"
   ]
  },
  {
   "cell_type": "markdown",
   "id": "fcee1c90-0a39-4cc4-ac51-00b80bd2f3b4",
   "metadata": {},
   "source": [
    "The item's data assets will be some combination of `vh`, `vv`, `hv`, and `hh`, depending on the polarization the signal was transmitted and received in. In this case, the item has `vv` and `vh` assets.  In general, check the `sar:polarizations` field for what is available."
   ]
  },
  {
   "cell_type": "code",
   "execution_count": 6,
   "id": "bf8a0765-a3c0-4c53-99d7-3de63c657af6",
   "metadata": {},
   "outputs": [
    {
     "data": {
      "text/plain": [
       "['VV', 'VH']"
      ]
     },
     "execution_count": 6,
     "metadata": {},
     "output_type": "execute_result"
    }
   ],
   "source": [
    "item.properties[\"sar:polarizations\"]"
   ]
  },
  {
   "cell_type": "markdown",
   "id": "33b7bab7-1fb5-4e5c-8118-b8754e05d9c4",
   "metadata": {},
   "source": [
    "### Visualize the assets\n",
    "\n",
    "Next, we'll use [rioxarray](https://corteva.github.io/rioxarray/html/rioxarray.html) to load the data. Since we're just vizualizing the data we'll load one of the lower-resolution overviews."
   ]
  },
  {
   "cell_type": "code",
   "execution_count": 7,
   "id": "1d7256ff-45ad-4054-af0e-c5f8d0a3535e",
   "metadata": {},
   "outputs": [],
   "source": [
    "vv = (\n",
    "    rioxarray.open_rasterio(item.assets[\"vv\"].href, overview_level=2)\n",
    "    .astype(float)\n",
    "    .squeeze()\n",
    ")\n",
    "vh = (\n",
    "    rioxarray.open_rasterio(item.assets[\"vh\"].href, overview_level=2)\n",
    "    .astype(float)\n",
    "    .squeeze()\n",
    ")"
   ]
  },
  {
   "cell_type": "markdown",
   "id": "e02b36c2-a37d-4512-b80f-abe510cfa409",
   "metadata": {},
   "source": [
    "We can plot this distribution of the pixel values, to get a sense for their range. The raw values are fairly skewed, so it's common to render with an amplitude scale (taking the square root of the value) or a dB scale ($10 \\times log_{10}$  of the value)."
   ]
  },
  {
   "cell_type": "code",
   "execution_count": 8,
   "id": "a6e0e59f-6357-4d91-b261-e0ee7083d477",
   "metadata": {},
   "outputs": [],
   "source": [
    "import pandas as pd\n",
    "import seaborn as sns\n",
    "\n",
    "raw = vv.where(lambda x: x > 0).data.ravel()\n",
    "df = (\n",
    "    pd.DataFrame({\"power\": raw, \"amplitude\": np.sqrt(raw), \"dB\": 10 * np.log10(raw)})\n",
    "    .dropna()\n",
    "    .melt(value_vars=[\"power\", \"amplitude\", \"dB\"], var_name=\"kind\")\n",
    ")"
   ]
  },
  {
   "cell_type": "code",
   "execution_count": 9,
   "id": "d63172a1-c773-4210-a7e6-59f62c83dc7b",
   "metadata": {},
   "outputs": [
    {
     "data": {
      "text/html": [
       "<img src=\"https://ai4edatasetspublicassets.blob.core.windows.net/assets/notebook-output/datasets-sentinel-1-grd-sentinel-1-grd-example.ipynb/9.png\"/>"
      ],
      "text/plain": [
       "<Figure size 648x216 with 3 Axes>"
      ]
     },
     "metadata": {},
     "output_type": "display_data"
    }
   ],
   "source": [
    "g = sns.FacetGrid(df, sharex=False, col=\"kind\")\n",
    "g.map(sns.histplot, \"value\", bins=30);"
   ]
  },
  {
   "cell_type": "markdown",
   "id": "ad0d50fe-be3b-41e5-828a-8235843a8061",
   "metadata": {},
   "source": [
    "Now let's recreate the false-color image from the data API, using a combination of the two bands. We'll use `vv` as the red band, `vh` as the green band, and `vv / vh` as the green band. We'll rescale it as well (using values from the [`mosaic/info`](https://planetarycomputer.microsoft.com/api/data/v1/docs#/PgSTAC%20Mosaic%20endpoints/map_mosaic_info_get) endpoint)."
   ]
  },
  {
   "cell_type": "code",
   "execution_count": 10,
   "id": "3a3a149f-2a54-422b-a45c-f4655d8f8c34",
   "metadata": {},
   "outputs": [
    {
     "data": {
      "text/html": [
       "<img src=\"https://ai4edatasetspublicassets.blob.core.windows.net/assets/notebook-output/datasets-sentinel-1-grd-sentinel-1-grd-example.ipynb/10.png\"/>"
      ],
      "text/plain": [
       "<Figure size 1600x1200 with 1 Axes>"
      ]
     },
     "metadata": {},
     "output_type": "display_data"
    }
   ],
   "source": [
    "r = vv / 600\n",
    "g = vh / 270\n",
    "b = (vv / vh) / 9\n",
    "data = xr.concat([r, g, b], dim=\"band\").clip(0, 1).where(lambda x: x > 0)\n",
    "img = data.plot.imshow(rgb=\"band\", size=12)\n",
    "img.axes.set_axis_off()"
   ]
  },
  {
   "cell_type": "markdown",
   "id": "3c66c777-ee75-4629-8d98-a02c7dea4fe8",
   "metadata": {},
   "source": [
    "By default, some Sentinel-1 GRD images may appear \"upside-down\". Seattle, the brightest spot area, appears towards the top-left of the image, despite being in the southwest of the area.\n",
    "\n",
    "Whether the data needs to be flipped depends on the mode the satellite was in when the image was captured, which is available from the `sat:orbit_state` property in the STAC metadata."
   ]
  },
  {
   "cell_type": "code",
   "execution_count": 11,
   "id": "70d13d5e-3564-4a24-934e-0569565135d4",
   "metadata": {},
   "outputs": [
    {
     "data": {
      "text/plain": [
       "'descending'"
      ]
     },
     "execution_count": 11,
     "metadata": {},
     "output_type": "execute_result"
    }
   ],
   "source": [
    "item.properties[\"sat:orbit_state\"]"
   ]
  },
  {
   "cell_type": "markdown",
   "id": "241c2189-7fb0-4036-b926-9d24c6365493",
   "metadata": {},
   "source": [
    "In this case, the satellite was in \"descending\" mode, and so we need to flip the image if we north to be up."
   ]
  },
  {
   "cell_type": "code",
   "execution_count": 12,
   "id": "e9d379c7-468c-4380-94da-a9591aa10f19",
   "metadata": {},
   "outputs": [
    {
     "data": {
      "text/html": [
       "<img src=\"https://ai4edatasetspublicassets.blob.core.windows.net/assets/notebook-output/datasets-sentinel-1-grd-sentinel-1-grd-example.ipynb/12.png\"/>"
      ],
      "text/plain": [
       "<Figure size 1600x1200 with 1 Axes>"
      ]
     },
     "metadata": {},
     "output_type": "display_data"
    }
   ],
   "source": [
    "img = np.flip(data, axis=(1, 2)).clip(0, 1).plot.imshow(size=12)\n",
    "img.axes.set_axis_off()"
   ]
  },
  {
   "cell_type": "markdown",
   "id": "177b48ce-ddb2-4cfb-814f-3ebacf445725",
   "metadata": {},
   "source": [
    "### GRD Products\n",
    "\n",
    "The resolution and bands available depend on the [acquisition mode](https://sentinel.esa.int/web/sentinel/user-guides/sentinel-1-sar/acquisition-modes) and level of multi-looking.\n",
    "\n",
    "* Stripmap (SM)\n",
    "* Interferometric Wide Swath (IW)\n",
    "* Extra-Wide swath (EW)\n",
    "* Wave (WV)\n",
    "\n",
    "From the [Sentinel-1 User Guide](https://sentinel.esa.int/web/sentinel/user-guides/sentinel-1-sar/acquisition-modes):\n",
    "\n",
    "> The primary conflict-free modes are IW, with VV+VH polarisation over land, and WV, with VV polarisation, over open ocean. EW mode is primarily used for wide area coastal monitoring including ship traffic, oil spill and sea-ice monitoring. SM mode is only used for small islands and on request for extraordinary events such as emergency management.\n",
    "\n",
    "You can query for specific modes using the `sar:instrument_mode` property."
   ]
  },
  {
   "cell_type": "code",
   "execution_count": 13,
   "id": "2d54b64e-701c-4b3d-90e1-bf20d2f9a5c1",
   "metadata": {},
   "outputs": [
    {
     "data": {
      "text/html": [
       "<img src=\"https://planetarycomputer.microsoft.com/api/data/v1/item/preview.png?collection=sentinel-1-grd&item=S1A_S3_GRDH_1SDV_20220806T152908_20220806T152927_044433_054D6B&assets=vv&assets=vh&expression=vv%2Cvh%2Cvv%2Fvh&rescale=0%2C500&rescale=0%2C300&rescale=0%2C7&tile_format=png\"/>"
      ],
      "text/plain": [
       "<IPython.core.display.Image object>"
      ]
     },
     "execution_count": 13,
     "metadata": {},
     "output_type": "execute_result"
    }
   ],
   "source": [
    "search = catalog.search(\n",
    "    collections=[\"sentinel-1-grd\"],\n",
    "    query={\n",
    "        \"sar:instrument_mode\": {\"eq\": \"SM\"},\n",
    "        \"sar:polarizations\": {\"eq\": [\"VV\", \"VH\"]},\n",
    "    },\n",
    "    limit=5,\n",
    ")\n",
    "\n",
    "gen = search.items()\n",
    "item = next(gen)\n",
    "\n",
    "Image(url=item.assets[\"rendered_preview\"].href)"
   ]
  },
  {
   "cell_type": "markdown",
   "id": "155ca67b-ca78-4a18-b707-32719b01c026",
   "metadata": {},
   "source": [
    "### Terrain Correction\n",
    "\n",
    "Those wishing to use a terrain corrected Sentinel-1 product can use the pre-computed [Sentinel-1 RTC](https://planetarycomputer.microsoft.com/dataset/sentinel-1-rtc) collection from the Planetary Computer, or apply their own [customizable terrain correction](https://planetarycomputer.microsoft.com/docs/tutorials/customizable-rtc-sentinel1/)."
   ]
  }
 ],
 "metadata": {
  "kernelspec": {
   "display_name": "Python 3 (ipykernel)",
   "language": "python",
   "name": "python3"
  },
  "language_info": {
   "codemirror_mode": {
    "name": "ipython",
    "version": 3
   },
   "file_extension": ".py",
   "mimetype": "text/x-python",
   "name": "python",
   "nbconvert_exporter": "python",
   "pygments_lexer": "ipython3",
   "version": "3.8.13"
  },
  "widgets": {
   "application/vnd.jupyter.widget-state+json": {
    "state": {},
    "version_major": 2,
    "version_minor": 0
   }
  }
 },
 "nbformat": 4,
 "nbformat_minor": 5
}
