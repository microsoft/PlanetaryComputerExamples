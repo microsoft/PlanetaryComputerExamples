{
 "cells": [
  {
   "cell_type": "markdown",
   "id": "2c0e6328",
   "metadata": {},
   "source": [
    "## Accessing ESA WorldCover classification data with the Planetary Computer STAC API\n",
    "\n",
    "The European Space Agency (ESA) [WorldCover](https://esa-worldcover.org/en) product provides global land cover maps for the years 2020 and 2021 at 10 meter resolution based on the combination of [Sentinel-1](https://sentinel.esa.int/web/sentinel/missions/sentinel-1) radar data and [Sentinel-2](https://sentinel.esa.int/web/sentinel/missions/sentinel-2) imagery. The discrete classification maps provide 11 classes defined using the Land Cover Classification System (LCCS) developed by the United Nations (UN) Food and Agriculture Organization (FAO). The map images are stored in [cloud-optimized GeoTIFF](https://www.cogeo.org/) format.\n",
    "\n",
    "Two versions of the WorldCover product are available:\n",
    "\n",
    "- WorldCover 2020 produced using v100 of the algorithm ([User Manual](https://esa-worldcover.s3.eu-central-1.amazonaws.com/v100/2020/docs/WorldCover_PUM_V1.0.pdf))\n",
    "- WorldCover 2021 produced using v200 of the algorithm ([User Manual](https://esa-worldcover.s3.eu-central-1.amazonaws.com/v200/2021/docs/WorldCover_PUM_V2.0.pdf))\n",
    "\n",
    "Since the WorldCover maps for 2020 and 2021 were generated with different algorithm versions (v100 and v200, respectively), changes between the maps include both changes in real land cover and changes due to the used algorithms."
   ]
  },
  {
   "cell_type": "markdown",
   "id": "a0fbf056",
   "metadata": {},
   "source": [
    "### Data Access\n",
    "\n",
    "This notebook works with or without an API key, but you will be given more permissive access to the data with an API key. If you are using the [Planetary Computer Hub](https://planetarycomputer.microsoft.com/compute) to run this notebook, then your API key is automatically set to the environment variable `PC_SDK_SUBSCRIPTION_KEY` for you when your server is started. Otherwise, you can view your keys by signing in to the [developer portal](https://planetarycomputer.developer.azure-api.net/). The API key may be manually set via the environment variable `PC_SDK_SUBSCRIPTION_KEY` or the following code:\n",
    "\n",
    "```python\n",
    "import planetary_computer\n",
    "planetary_computer.settings.set_subscription_key(<YOUR API Key>)\n",
    "```"
   ]
  },
  {
   "cell_type": "markdown",
   "id": "36147250",
   "metadata": {},
   "source": [
    "The datasets hosted by the Planetary Computer are available in [Azure Blob Storage](https://docs.microsoft.com/en-us/azure/storage/blobs/). We'll use [pystac-client](https://pystac-client.readthedocs.io/) to search the Planetary Computer's [STAC API](https://planetarycomputer.microsoft.com/api/stac/v1/docs) for the subset of the data that we care about, and then we'll load the data directly from Azure Blob Storage. We'll specify a `modifier` so that we can access the data stored in the Planetary Computer's private Blob Storage Containers. See [Reading from the STAC API](https://planetarycomputer.microsoft.com/docs/quickstarts/reading-stac/) and [Using tokens for data access](https://planetarycomputer.microsoft.com/docs/concepts/sas/) for more."
   ]
  },
  {
   "cell_type": "markdown",
   "id": "198b54e7",
   "metadata": {},
   "source": [
    "### Define the area of interest and search the collection"
   ]
  },
  {
   "cell_type": "markdown",
   "id": "a7c31ef2",
   "metadata": {},
   "source": [
    "Let's define a bounding box around Mount Elgon, which sits on the border of Uganda and Kenya."
   ]
  },
  {
   "cell_type": "code",
   "execution_count": 1,
   "id": "d1a949e6",
   "metadata": {
    "tags": []
   },
   "outputs": [],
   "source": [
    "bbox_of_interest = [33.984, 0.788, 34.902, 1.533]"
   ]
  },
  {
   "cell_type": "markdown",
   "id": "fa58f1c9",
   "metadata": {},
   "source": [
    "Use [pystac-client](https://github.com/stac-utils/pystac-client) to search over the ESA WorldCover collection."
   ]
  },
  {
   "cell_type": "code",
   "execution_count": 2,
   "id": "a56a65b0",
   "metadata": {},
   "outputs": [
    {
     "data": {
      "text/plain": [
       "[<Item id=ESA_WorldCover_10m_2020_v100_N00E033>]"
      ]
     },
     "execution_count": 2,
     "metadata": {},
     "output_type": "execute_result"
    }
   ],
   "source": [
    "import pystac_client\n",
    "import planetary_computer\n",
    "\n",
    "catalog = pystac_client.Client.open(\n",
    "    \"https://planetarycomputer.microsoft.com/api/stac/v1\",\n",
    "    modifier=planetary_computer.sign_inplace,\n",
    ")\n",
    "\n",
    "search = catalog.search(\n",
    "    collections=[\"esa-worldcover\"],\n",
    "    bbox=bbox_of_interest,\n",
    ")\n",
    "\n",
    "items = list(search.get_items())\n",
    "items"
   ]
  },
  {
   "cell_type": "markdown",
   "id": "b10b12e3",
   "metadata": {},
   "source": [
    "### Available Assets & Metadata"
   ]
  },
  {
   "cell_type": "markdown",
   "id": "a5754154",
   "metadata": {},
   "source": [
    "Our search returned one item, a 3x3 degree tile of classification data. Let's display the available assets and metadata. "
   ]
  },
  {
   "cell_type": "code",
   "execution_count": 3,
   "id": "18e5530e",
   "metadata": {},
   "outputs": [
    {
     "data": {
      "text/html": [
       "<pre style=\"white-space:pre;overflow-x:auto;line-height:normal;font-family:Menlo,'DejaVu Sans Mono',consolas,'Courier New',monospace\">┏━━━━━━━━━━━━━━━━━━┳━━━━━━━━━━━━━━━━━━━━━━━━━━━━━━━━━┓\n",
       "┃<span style=\"font-weight: bold\"> Key              </span>┃<span style=\"font-weight: bold\"> Value                           </span>┃\n",
       "┡━━━━━━━━━━━━━━━━━━╇━━━━━━━━━━━━━━━━━━━━━━━━━━━━━━━━━┩\n",
       "│ map              │ Land Cover Classes              │\n",
       "│ tilejson         │ TileJSON with default rendering │\n",
       "│ rendered_preview │ Rendered preview                │\n",
       "└──────────────────┴─────────────────────────────────┘\n",
       "</pre>\n"
      ],
      "text/plain": [
       "┏━━━━━━━━━━━━━━━━━━┳━━━━━━━━━━━━━━━━━━━━━━━━━━━━━━━━━┓\n",
       "┃\u001b[1m \u001b[0m\u001b[1mKey             \u001b[0m\u001b[1m \u001b[0m┃\u001b[1m \u001b[0m\u001b[1mValue                          \u001b[0m\u001b[1m \u001b[0m┃\n",
       "┡━━━━━━━━━━━━━━━━━━╇━━━━━━━━━━━━━━━━━━━━━━━━━━━━━━━━━┩\n",
       "│ map              │ Land Cover Classes              │\n",
       "│ tilejson         │ TileJSON with default rendering │\n",
       "│ rendered_preview │ Rendered preview                │\n",
       "└──────────────────┴─────────────────────────────────┘\n"
      ]
     },
     "execution_count": 3,
     "metadata": {},
     "output_type": "execute_result"
    }
   ],
   "source": [
    "import rich.table\n",
    "\n",
    "# Assets\n",
    "t_assets = rich.table.Table(\"Key\", \"Value\")\n",
    "for key, asset in items[0].assets.items():\n",
    "    t_assets.add_row(key, asset.title)\n",
    "t_assets"
   ]
  },
  {
   "cell_type": "code",
   "execution_count": 4,
   "id": "7e6cd3a6",
   "metadata": {},
   "outputs": [
    {
     "data": {
      "text/html": [
       "<pre style=\"white-space:pre;overflow-x:auto;line-height:normal;font-family:Menlo,'DejaVu Sans Mono',consolas,'Courier New',monospace\">┏━━━━━━━━━━━━━━━━━━━━━━━━━━━━━┳━━━━━━━━━━━━━━━━━━━━━━━━━━━━━━━━━━━━━━━━━━━━━━━━━━━━━━━━┓\n",
       "┃<span style=\"font-weight: bold\"> Key                         </span>┃<span style=\"font-weight: bold\"> Value                                                  </span>┃\n",
       "┡━━━━━━━━━━━━━━━━━━━━━━━━━━━━━╇━━━━━━━━━━━━━━━━━━━━━━━━━━━━━━━━━━━━━━━━━━━━━━━━━━━━━━━━┩\n",
       "│ created                     │ 2022-05-16T16:37:31.807816Z                            │\n",
       "│ datetime                    │ None                                                   │\n",
       "│ description                 │ ESA WorldCover product at 10m resolution for year 2020 │\n",
       "│ end_datetime                │ 2020-12-31T23:59:59Z                                   │\n",
       "│ esa_worldcover:product_tile │ N00E033                                                │\n",
       "│ instruments                 │ ['c-sar', 'msi']                                       │\n",
       "│ mission                     │ sentinel-1, sentinel-2                                 │\n",
       "│ platform                    │ sentinel-1a, sentinel-1b, sentinel-2a, sentinel-2b     │\n",
       "│ proj:epsg                   │ 4326                                                   │\n",
       "│ start_datetime              │ 2020-01-01T00:00:00Z                                   │\n",
       "└─────────────────────────────┴────────────────────────────────────────────────────────┘\n",
       "</pre>\n"
      ],
      "text/plain": [
       "┏━━━━━━━━━━━━━━━━━━━━━━━━━━━━━┳━━━━━━━━━━━━━━━━━━━━━━━━━━━━━━━━━━━━━━━━━━━━━━━━━━━━━━━━┓\n",
       "┃\u001b[1m \u001b[0m\u001b[1mKey                        \u001b[0m\u001b[1m \u001b[0m┃\u001b[1m \u001b[0m\u001b[1mValue                                                 \u001b[0m\u001b[1m \u001b[0m┃\n",
       "┡━━━━━━━━━━━━━━━━━━━━━━━━━━━━━╇━━━━━━━━━━━━━━━━━━━━━━━━━━━━━━━━━━━━━━━━━━━━━━━━━━━━━━━━┩\n",
       "│ created                     │ 2022-05-16T16:37:31.807816Z                            │\n",
       "│ datetime                    │ None                                                   │\n",
       "│ description                 │ ESA WorldCover product at 10m resolution for year 2020 │\n",
       "│ end_datetime                │ 2020-12-31T23:59:59Z                                   │\n",
       "│ esa_worldcover:product_tile │ N00E033                                                │\n",
       "│ instruments                 │ ['c-sar', 'msi']                                       │\n",
       "│ mission                     │ sentinel-1, sentinel-2                                 │\n",
       "│ platform                    │ sentinel-1a, sentinel-1b, sentinel-2a, sentinel-2b     │\n",
       "│ proj:epsg                   │ 4326                                                   │\n",
       "│ start_datetime              │ 2020-01-01T00:00:00Z                                   │\n",
       "└─────────────────────────────┴────────────────────────────────────────────────────────┘\n"
      ]
     },
     "execution_count": 4,
     "metadata": {},
     "output_type": "execute_result"
    }
   ],
   "source": [
    "# Metadata\n",
    "t_metadata = rich.table.Table(\"Key\", \"Value\")\n",
    "for k, v in sorted(items[0].properties.items()):\n",
    "    t_metadata.add_row(k, str(v))\n",
    "t_metadata"
   ]
  },
  {
   "cell_type": "markdown",
   "id": "99e3ad85",
   "metadata": {},
   "source": [
    "The `map` asset contains the full resolution data, but we can use the `rendered_preview` asset to quickly visualize the Item data using the Planetary Computer's data API."
   ]
  },
  {
   "cell_type": "code",
   "execution_count": 5,
   "id": "65fdf67e",
   "metadata": {},
   "outputs": [
    {
     "data": {
      "text/html": [
       "<img src=\"https://planetarycomputer.microsoft.com/api/data/v1/item/preview.png?collection=esa-worldcover&item=ESA_WorldCover_10m_2020_v100_N00E033&assets=map&colormap_name=esa-worldcover&format=png\"/>"
      ],
      "text/plain": [
       "<IPython.core.display.Image object>"
      ]
     },
     "execution_count": 5,
     "metadata": {},
     "output_type": "execute_result"
    }
   ],
   "source": [
    "from IPython.display import Image\n",
    "\n",
    "Image(url=items[0].assets[\"rendered_preview\"].href)"
   ]
  },
  {
   "cell_type": "markdown",
   "id": "a3673c18",
   "metadata": {},
   "source": [
    "### Render our area of interest\n"
   ]
  },
  {
   "cell_type": "markdown",
   "id": "be28f708",
   "metadata": {},
   "source": [
    "Let's create a plot of our area of interest. This dataset includes classification information which maps raster values to class descriptions and preferred colors. We'll want to use this information when plotting the data. We can extract it from the `map` asset."
   ]
  },
  {
   "cell_type": "code",
   "execution_count": 6,
   "id": "fc56dbc6",
   "metadata": {},
   "outputs": [
    {
     "data": {
      "text/html": [
       "<pre style=\"white-space:pre;overflow-x:auto;line-height:normal;font-family:Menlo,'DejaVu Sans Mono',consolas,'Courier New',monospace\">┏━━━━━━━┳━━━━━━━━━━━━━━━━━━━━━━━━━━┳━━━━━━━━━━━┓\n",
       "┃<span style=\"font-weight: bold\"> Value </span>┃<span style=\"font-weight: bold\"> Description              </span>┃<span style=\"font-weight: bold\"> Hex Color </span>┃\n",
       "┡━━━━━━━╇━━━━━━━━━━━━━━━━━━━━━━━━━━╇━━━━━━━━━━━┩\n",
       "│ 10    │ Tree cover               │ 006400    │\n",
       "│ 20    │ Shrubland                │ FFBB22    │\n",
       "│ 30    │ Grassland                │ FFFF4C    │\n",
       "│ 40    │ Cropland                 │ F096FF    │\n",
       "│ 50    │ Built-up                 │ FA0000    │\n",
       "│ 60    │ Bare / sparse vegetation │ B4B4B4    │\n",
       "│ 70    │ Snow and ice             │ F0F0F0    │\n",
       "│ 80    │ Permanent water bodies   │ 0064C8    │\n",
       "│ 90    │ Herbaceous wetland       │ 0096A0    │\n",
       "│ 95    │ Mangroves                │ 00CF75    │\n",
       "│ 100   │ Moss and lichen          │ FAE6A0    │\n",
       "└───────┴──────────────────────────┴───────────┘\n",
       "</pre>\n"
      ],
      "text/plain": [
       "┏━━━━━━━┳━━━━━━━━━━━━━━━━━━━━━━━━━━┳━━━━━━━━━━━┓\n",
       "┃\u001b[1m \u001b[0m\u001b[1mValue\u001b[0m\u001b[1m \u001b[0m┃\u001b[1m \u001b[0m\u001b[1mDescription             \u001b[0m\u001b[1m \u001b[0m┃\u001b[1m \u001b[0m\u001b[1mHex Color\u001b[0m\u001b[1m \u001b[0m┃\n",
       "┡━━━━━━━╇━━━━━━━━━━━━━━━━━━━━━━━━━━╇━━━━━━━━━━━┩\n",
       "│ 10    │ Tree cover               │ 006400    │\n",
       "│ 20    │ Shrubland                │ FFBB22    │\n",
       "│ 30    │ Grassland                │ FFFF4C    │\n",
       "│ 40    │ Cropland                 │ F096FF    │\n",
       "│ 50    │ Built-up                 │ FA0000    │\n",
       "│ 60    │ Bare / sparse vegetation │ B4B4B4    │\n",
       "│ 70    │ Snow and ice             │ F0F0F0    │\n",
       "│ 80    │ Permanent water bodies   │ 0064C8    │\n",
       "│ 90    │ Herbaceous wetland       │ 0096A0    │\n",
       "│ 95    │ Mangroves                │ 00CF75    │\n",
       "│ 100   │ Moss and lichen          │ FAE6A0    │\n",
       "└───────┴──────────────────────────┴───────────┘\n"
      ]
     },
     "execution_count": 6,
     "metadata": {},
     "output_type": "execute_result"
    }
   ],
   "source": [
    "class_list = items[0].assets[\"map\"].extra_fields[\"classification:classes\"]\n",
    "classmap = {\n",
    "    c[\"value\"]: {\"description\": c[\"description\"], \"hex\": c[\"color-hint\"]}\n",
    "    for c in class_list\n",
    "}\n",
    "\n",
    "t = rich.table.Table(\"Value\", \"Description\", \"Hex Color\")\n",
    "for k, v in classmap.items():\n",
    "    t.add_row(str(k), v[\"description\"], v[\"hex\"])\n",
    "t"
   ]
  },
  {
   "cell_type": "markdown",
   "id": "af0af56f",
   "metadata": {},
   "source": [
    "We'll use this class information to create a custom colormap for plotting the data and to extract data that we need to add an informative colorbar to the plot."
   ]
  },
  {
   "cell_type": "code",
   "execution_count": 7,
   "id": "edd12b5b",
   "metadata": {},
   "outputs": [],
   "source": [
    "import matplotlib.colors\n",
    "\n",
    "colors = [\"#000000\" for r in range(256)]\n",
    "for key, value in classmap.items():\n",
    "    colors[int(key)] = f\"#{value['hex']}\"\n",
    "cmap = matplotlib.colors.ListedColormap(colors)\n",
    "\n",
    "# sequences needed for an informative colorbar\n",
    "values = [key for key in classmap]\n",
    "boundaries = [(values[i + 1] + values[i]) / 2 for i in range(len(values) - 1)]\n",
    "boundaries = [0] + boundaries + [255]\n",
    "ticks = [(boundaries[i + 1] + boundaries[i]) / 2 for i in range(len(boundaries) - 1)]\n",
    "tick_labels = [value[\"description\"] for value in classmap.values()]"
   ]
  },
  {
   "cell_type": "markdown",
   "id": "50d98429",
   "metadata": {},
   "source": [
    "Load the data from our area of interest using `odc-stac`."
   ]
  },
  {
   "cell_type": "code",
   "execution_count": 8,
   "id": "4462ea97",
   "metadata": {},
   "outputs": [
    {
     "data": {
      "text/html": [
       "<div><svg style=\"position: absolute; width: 0; height: 0; overflow: hidden\">\n",
       "<defs>\n",
       "<symbol id=\"icon-database\" viewBox=\"0 0 32 32\">\n",
       "<path d=\"M16 0c-8.837 0-16 2.239-16 5v4c0 2.761 7.163 5 16 5s16-2.239 16-5v-4c0-2.761-7.163-5-16-5z\"></path>\n",
       "<path d=\"M16 17c-8.837 0-16-2.239-16-5v6c0 2.761 7.163 5 16 5s16-2.239 16-5v-6c0 2.761-7.163 5-16 5z\"></path>\n",
       "<path d=\"M16 26c-8.837 0-16-2.239-16-5v6c0 2.761 7.163 5 16 5s16-2.239 16-5v-6c0 2.761-7.163 5-16 5z\"></path>\n",
       "</symbol>\n",
       "<symbol id=\"icon-file-text2\" viewBox=\"0 0 32 32\">\n",
       "<path d=\"M28.681 7.159c-0.694-0.947-1.662-2.053-2.724-3.116s-2.169-2.030-3.116-2.724c-1.612-1.182-2.393-1.319-2.841-1.319h-15.5c-1.378 0-2.5 1.121-2.5 2.5v27c0 1.378 1.122 2.5 2.5 2.5h23c1.378 0 2.5-1.122 2.5-2.5v-19.5c0-0.448-0.137-1.23-1.319-2.841zM24.543 5.457c0.959 0.959 1.712 1.825 2.268 2.543h-4.811v-4.811c0.718 0.556 1.584 1.309 2.543 2.268zM28 29.5c0 0.271-0.229 0.5-0.5 0.5h-23c-0.271 0-0.5-0.229-0.5-0.5v-27c0-0.271 0.229-0.5 0.5-0.5 0 0 15.499-0 15.5 0v7c0 0.552 0.448 1 1 1h7v19.5z\"></path>\n",
       "<path d=\"M23 26h-14c-0.552 0-1-0.448-1-1s0.448-1 1-1h14c0.552 0 1 0.448 1 1s-0.448 1-1 1z\"></path>\n",
       "<path d=\"M23 22h-14c-0.552 0-1-0.448-1-1s0.448-1 1-1h14c0.552 0 1 0.448 1 1s-0.448 1-1 1z\"></path>\n",
       "<path d=\"M23 18h-14c-0.552 0-1-0.448-1-1s0.448-1 1-1h14c0.552 0 1 0.448 1 1s-0.448 1-1 1z\"></path>\n",
       "</symbol>\n",
       "</defs>\n",
       "</svg>\n",
       "<style>/* CSS stylesheet for displaying xarray objects in jupyterlab.\n",
       " *\n",
       " */\n",
       "\n",
       ":root {\n",
       "  --xr-font-color0: var(--jp-content-font-color0, rgba(0, 0, 0, 1));\n",
       "  --xr-font-color2: var(--jp-content-font-color2, rgba(0, 0, 0, 0.54));\n",
       "  --xr-font-color3: var(--jp-content-font-color3, rgba(0, 0, 0, 0.38));\n",
       "  --xr-border-color: var(--jp-border-color2, #e0e0e0);\n",
       "  --xr-disabled-color: var(--jp-layout-color3, #bdbdbd);\n",
       "  --xr-background-color: var(--jp-layout-color0, white);\n",
       "  --xr-background-color-row-even: var(--jp-layout-color1, white);\n",
       "  --xr-background-color-row-odd: var(--jp-layout-color2, #eeeeee);\n",
       "}\n",
       "\n",
       "html[theme=dark],\n",
       "body[data-theme=dark],\n",
       "body.vscode-dark {\n",
       "  --xr-font-color0: rgba(255, 255, 255, 1);\n",
       "  --xr-font-color2: rgba(255, 255, 255, 0.54);\n",
       "  --xr-font-color3: rgba(255, 255, 255, 0.38);\n",
       "  --xr-border-color: #1F1F1F;\n",
       "  --xr-disabled-color: #515151;\n",
       "  --xr-background-color: #111111;\n",
       "  --xr-background-color-row-even: #111111;\n",
       "  --xr-background-color-row-odd: #313131;\n",
       "}\n",
       "\n",
       ".xr-wrap {\n",
       "  display: block !important;\n",
       "  min-width: 300px;\n",
       "  max-width: 700px;\n",
       "}\n",
       "\n",
       ".xr-text-repr-fallback {\n",
       "  /* fallback to plain text repr when CSS is not injected (untrusted notebook) */\n",
       "  display: none;\n",
       "}\n",
       "\n",
       ".xr-header {\n",
       "  padding-top: 6px;\n",
       "  padding-bottom: 6px;\n",
       "  margin-bottom: 4px;\n",
       "  border-bottom: solid 1px var(--xr-border-color);\n",
       "}\n",
       "\n",
       ".xr-header > div,\n",
       ".xr-header > ul {\n",
       "  display: inline;\n",
       "  margin-top: 0;\n",
       "  margin-bottom: 0;\n",
       "}\n",
       "\n",
       ".xr-obj-type,\n",
       ".xr-array-name {\n",
       "  margin-left: 2px;\n",
       "  margin-right: 10px;\n",
       "}\n",
       "\n",
       ".xr-obj-type {\n",
       "  color: var(--xr-font-color2);\n",
       "}\n",
       "\n",
       ".xr-sections {\n",
       "  padding-left: 0 !important;\n",
       "  display: grid;\n",
       "  grid-template-columns: 150px auto auto 1fr 20px 20px;\n",
       "}\n",
       "\n",
       ".xr-section-item {\n",
       "  display: contents;\n",
       "}\n",
       "\n",
       ".xr-section-item input {\n",
       "  display: none;\n",
       "}\n",
       "\n",
       ".xr-section-item input + label {\n",
       "  color: var(--xr-disabled-color);\n",
       "}\n",
       "\n",
       ".xr-section-item input:enabled + label {\n",
       "  cursor: pointer;\n",
       "  color: var(--xr-font-color2);\n",
       "}\n",
       "\n",
       ".xr-section-item input:enabled + label:hover {\n",
       "  color: var(--xr-font-color0);\n",
       "}\n",
       "\n",
       ".xr-section-summary {\n",
       "  grid-column: 1;\n",
       "  color: var(--xr-font-color2);\n",
       "  font-weight: 500;\n",
       "}\n",
       "\n",
       ".xr-section-summary > span {\n",
       "  display: inline-block;\n",
       "  padding-left: 0.5em;\n",
       "}\n",
       "\n",
       ".xr-section-summary-in:disabled + label {\n",
       "  color: var(--xr-font-color2);\n",
       "}\n",
       "\n",
       ".xr-section-summary-in + label:before {\n",
       "  display: inline-block;\n",
       "  content: '►';\n",
       "  font-size: 11px;\n",
       "  width: 15px;\n",
       "  text-align: center;\n",
       "}\n",
       "\n",
       ".xr-section-summary-in:disabled + label:before {\n",
       "  color: var(--xr-disabled-color);\n",
       "}\n",
       "\n",
       ".xr-section-summary-in:checked + label:before {\n",
       "  content: '▼';\n",
       "}\n",
       "\n",
       ".xr-section-summary-in:checked + label > span {\n",
       "  display: none;\n",
       "}\n",
       "\n",
       ".xr-section-summary,\n",
       ".xr-section-inline-details {\n",
       "  padding-top: 4px;\n",
       "  padding-bottom: 4px;\n",
       "}\n",
       "\n",
       ".xr-section-inline-details {\n",
       "  grid-column: 2 / -1;\n",
       "}\n",
       "\n",
       ".xr-section-details {\n",
       "  display: none;\n",
       "  grid-column: 1 / -1;\n",
       "  margin-bottom: 5px;\n",
       "}\n",
       "\n",
       ".xr-section-summary-in:checked ~ .xr-section-details {\n",
       "  display: contents;\n",
       "}\n",
       "\n",
       ".xr-array-wrap {\n",
       "  grid-column: 1 / -1;\n",
       "  display: grid;\n",
       "  grid-template-columns: 20px auto;\n",
       "}\n",
       "\n",
       ".xr-array-wrap > label {\n",
       "  grid-column: 1;\n",
       "  vertical-align: top;\n",
       "}\n",
       "\n",
       ".xr-preview {\n",
       "  color: var(--xr-font-color3);\n",
       "}\n",
       "\n",
       ".xr-array-preview,\n",
       ".xr-array-data {\n",
       "  padding: 0 5px !important;\n",
       "  grid-column: 2;\n",
       "}\n",
       "\n",
       ".xr-array-data,\n",
       ".xr-array-in:checked ~ .xr-array-preview {\n",
       "  display: none;\n",
       "}\n",
       "\n",
       ".xr-array-in:checked ~ .xr-array-data,\n",
       ".xr-array-preview {\n",
       "  display: inline-block;\n",
       "}\n",
       "\n",
       ".xr-dim-list {\n",
       "  display: inline-block !important;\n",
       "  list-style: none;\n",
       "  padding: 0 !important;\n",
       "  margin: 0;\n",
       "}\n",
       "\n",
       ".xr-dim-list li {\n",
       "  display: inline-block;\n",
       "  padding: 0;\n",
       "  margin: 0;\n",
       "}\n",
       "\n",
       ".xr-dim-list:before {\n",
       "  content: '(';\n",
       "}\n",
       "\n",
       ".xr-dim-list:after {\n",
       "  content: ')';\n",
       "}\n",
       "\n",
       ".xr-dim-list li:not(:last-child):after {\n",
       "  content: ',';\n",
       "  padding-right: 5px;\n",
       "}\n",
       "\n",
       ".xr-has-index {\n",
       "  font-weight: bold;\n",
       "}\n",
       "\n",
       ".xr-var-list,\n",
       ".xr-var-item {\n",
       "  display: contents;\n",
       "}\n",
       "\n",
       ".xr-var-item > div,\n",
       ".xr-var-item label,\n",
       ".xr-var-item > .xr-var-name span {\n",
       "  background-color: var(--xr-background-color-row-even);\n",
       "  margin-bottom: 0;\n",
       "}\n",
       "\n",
       ".xr-var-item > .xr-var-name:hover span {\n",
       "  padding-right: 5px;\n",
       "}\n",
       "\n",
       ".xr-var-list > li:nth-child(odd) > div,\n",
       ".xr-var-list > li:nth-child(odd) > label,\n",
       ".xr-var-list > li:nth-child(odd) > .xr-var-name span {\n",
       "  background-color: var(--xr-background-color-row-odd);\n",
       "}\n",
       "\n",
       ".xr-var-name {\n",
       "  grid-column: 1;\n",
       "}\n",
       "\n",
       ".xr-var-dims {\n",
       "  grid-column: 2;\n",
       "}\n",
       "\n",
       ".xr-var-dtype {\n",
       "  grid-column: 3;\n",
       "  text-align: right;\n",
       "  color: var(--xr-font-color2);\n",
       "}\n",
       "\n",
       ".xr-var-preview {\n",
       "  grid-column: 4;\n",
       "}\n",
       "\n",
       ".xr-index-preview {\n",
       "  grid-column: 2 / 5;\n",
       "  color: var(--xr-font-color2);\n",
       "}\n",
       "\n",
       ".xr-var-name,\n",
       ".xr-var-dims,\n",
       ".xr-var-dtype,\n",
       ".xr-preview,\n",
       ".xr-attrs dt {\n",
       "  white-space: nowrap;\n",
       "  overflow: hidden;\n",
       "  text-overflow: ellipsis;\n",
       "  padding-right: 10px;\n",
       "}\n",
       "\n",
       ".xr-var-name:hover,\n",
       ".xr-var-dims:hover,\n",
       ".xr-var-dtype:hover,\n",
       ".xr-attrs dt:hover {\n",
       "  overflow: visible;\n",
       "  width: auto;\n",
       "  z-index: 1;\n",
       "}\n",
       "\n",
       ".xr-var-attrs,\n",
       ".xr-var-data,\n",
       ".xr-index-data {\n",
       "  display: none;\n",
       "  background-color: var(--xr-background-color) !important;\n",
       "  padding-bottom: 5px !important;\n",
       "}\n",
       "\n",
       ".xr-var-attrs-in:checked ~ .xr-var-attrs,\n",
       ".xr-var-data-in:checked ~ .xr-var-data,\n",
       ".xr-index-data-in:checked ~ .xr-index-data {\n",
       "  display: block;\n",
       "}\n",
       "\n",
       ".xr-var-data > table {\n",
       "  float: right;\n",
       "}\n",
       "\n",
       ".xr-var-name span,\n",
       ".xr-var-data,\n",
       ".xr-index-name div,\n",
       ".xr-index-data,\n",
       ".xr-attrs {\n",
       "  padding-left: 25px !important;\n",
       "}\n",
       "\n",
       ".xr-attrs,\n",
       ".xr-var-attrs,\n",
       ".xr-var-data,\n",
       ".xr-index-data {\n",
       "  grid-column: 1 / -1;\n",
       "}\n",
       "\n",
       "dl.xr-attrs {\n",
       "  padding: 0;\n",
       "  margin: 0;\n",
       "  display: grid;\n",
       "  grid-template-columns: 125px auto;\n",
       "}\n",
       "\n",
       ".xr-attrs dt,\n",
       ".xr-attrs dd {\n",
       "  padding: 0;\n",
       "  margin: 0;\n",
       "  float: left;\n",
       "  padding-right: 10px;\n",
       "  width: auto;\n",
       "}\n",
       "\n",
       ".xr-attrs dt {\n",
       "  font-weight: normal;\n",
       "  grid-column: 1;\n",
       "}\n",
       "\n",
       ".xr-attrs dt:hover span {\n",
       "  display: inline-block;\n",
       "  background: var(--xr-background-color);\n",
       "  padding-right: 10px;\n",
       "}\n",
       "\n",
       ".xr-attrs dd {\n",
       "  grid-column: 2;\n",
       "  white-space: pre-wrap;\n",
       "  word-break: break-all;\n",
       "}\n",
       "\n",
       ".xr-icon-database,\n",
       ".xr-icon-file-text2,\n",
       ".xr-no-icon {\n",
       "  display: inline-block;\n",
       "  vertical-align: middle;\n",
       "  width: 1em;\n",
       "  height: 1.5em !important;\n",
       "  stroke-width: 0;\n",
       "  stroke: currentColor;\n",
       "  fill: currentColor;\n",
       "}\n",
       "</style><pre class='xr-text-repr-fallback'>&lt;xarray.DataArray &#x27;map&#x27; (latitude: 7450, longitude: 9180)&gt;\n",
       "array([[30, 30, 30, ..., 30, 30, 30],\n",
       "       [30, 30, 30, ..., 30, 20, 20],\n",
       "       [30, 30, 30, ..., 30, 30, 30],\n",
       "       ...,\n",
       "       [40, 40, 40, ..., 40, 40, 40],\n",
       "       [40, 40, 40, ..., 40, 40, 40],\n",
       "       [40, 40, 40, ..., 40, 40, 40]], dtype=uint8)\n",
       "Coordinates:\n",
       "  * latitude     (latitude) float64 1.533 1.533 1.533 ... 0.7882 0.7881 0.788\n",
       "  * longitude    (longitude) float64 33.98 33.98 33.98 33.98 ... 34.9 34.9 34.9\n",
       "    spatial_ref  int32 4326\n",
       "    time         datetime64[ns] 2020-01-01\n",
       "Attributes:\n",
       "    nodata:   0</pre><div class='xr-wrap' style='display:none'><div class='xr-header'><div class='xr-obj-type'>xarray.DataArray</div><div class='xr-array-name'>'map'</div><ul class='xr-dim-list'><li><span class='xr-has-index'>latitude</span>: 7450</li><li><span class='xr-has-index'>longitude</span>: 9180</li></ul></div><ul class='xr-sections'><li class='xr-section-item'><div class='xr-array-wrap'><input id='section-6596aaa9-9014-41b9-aee0-93aab766b8bc' class='xr-array-in' type='checkbox' checked><label for='section-6596aaa9-9014-41b9-aee0-93aab766b8bc' title='Show/hide data repr'><svg class='icon xr-icon-database'><use xlink:href='#icon-database'></use></svg></label><div class='xr-array-preview xr-preview'><span>30 30 30 30 30 30 30 30 30 30 30 ... 20 20 20 20 20 20 20 20 40 40 40</span></div><div class='xr-array-data'><pre>array([[30, 30, 30, ..., 30, 30, 30],\n",
       "       [30, 30, 30, ..., 30, 20, 20],\n",
       "       [30, 30, 30, ..., 30, 30, 30],\n",
       "       ...,\n",
       "       [40, 40, 40, ..., 40, 40, 40],\n",
       "       [40, 40, 40, ..., 40, 40, 40],\n",
       "       [40, 40, 40, ..., 40, 40, 40]], dtype=uint8)</pre></div></div></li><li class='xr-section-item'><input id='section-d999bb71-a4d4-4c03-994c-387e56f59ad4' class='xr-section-summary-in' type='checkbox'  checked><label for='section-d999bb71-a4d4-4c03-994c-387e56f59ad4' class='xr-section-summary' >Coordinates: <span>(4)</span></label><div class='xr-section-inline-details'></div><div class='xr-section-details'><ul class='xr-var-list'><li class='xr-var-item'><div class='xr-var-name'><span class='xr-has-index'>latitude</span></div><div class='xr-var-dims'>(latitude)</div><div class='xr-var-dtype'>float64</div><div class='xr-var-preview xr-preview'>1.533 1.533 1.533 ... 0.7881 0.788</div><input id='attrs-c5a242d4-47ac-4610-b383-a4be34bfbb56' class='xr-var-attrs-in' type='checkbox' ><label for='attrs-c5a242d4-47ac-4610-b383-a4be34bfbb56' title='Show/Hide attributes'><svg class='icon xr-icon-file-text2'><use xlink:href='#icon-file-text2'></use></svg></label><input id='data-7a4cc643-949b-462d-a803-b3eabaa8c979' class='xr-var-data-in' type='checkbox'><label for='data-7a4cc643-949b-462d-a803-b3eabaa8c979' title='Show/Hide data repr'><svg class='icon xr-icon-database'><use xlink:href='#icon-database'></use></svg></label><div class='xr-var-attrs'><dl class='xr-attrs'><dt><span>units :</span></dt><dd>degrees_north</dd><dt><span>resolution :</span></dt><dd>-0.0001</dd><dt><span>crs :</span></dt><dd>EPSG:4326</dd></dl></div><div class='xr-var-data'><pre>array([1.53295, 1.53285, 1.53275, ..., 0.78825, 0.78815, 0.78805])</pre></div></li><li class='xr-var-item'><div class='xr-var-name'><span class='xr-has-index'>longitude</span></div><div class='xr-var-dims'>(longitude)</div><div class='xr-var-dtype'>float64</div><div class='xr-var-preview xr-preview'>33.98 33.98 33.98 ... 34.9 34.9</div><input id='attrs-e1d320ea-bfd1-4559-bca3-394cb4a6b885' class='xr-var-attrs-in' type='checkbox' ><label for='attrs-e1d320ea-bfd1-4559-bca3-394cb4a6b885' title='Show/Hide attributes'><svg class='icon xr-icon-file-text2'><use xlink:href='#icon-file-text2'></use></svg></label><input id='data-7da21018-e7a2-47a7-b3cb-feef83c43243' class='xr-var-data-in' type='checkbox'><label for='data-7da21018-e7a2-47a7-b3cb-feef83c43243' title='Show/Hide data repr'><svg class='icon xr-icon-database'><use xlink:href='#icon-database'></use></svg></label><div class='xr-var-attrs'><dl class='xr-attrs'><dt><span>units :</span></dt><dd>degrees_east</dd><dt><span>resolution :</span></dt><dd>0.0001</dd><dt><span>crs :</span></dt><dd>EPSG:4326</dd></dl></div><div class='xr-var-data'><pre>array([33.98405, 33.98415, 33.98425, ..., 34.90175, 34.90185, 34.90195])</pre></div></li><li class='xr-var-item'><div class='xr-var-name'><span>spatial_ref</span></div><div class='xr-var-dims'>()</div><div class='xr-var-dtype'>int32</div><div class='xr-var-preview xr-preview'>4326</div><input id='attrs-e010a9a9-1b5d-48c9-b703-cae16e8dad20' class='xr-var-attrs-in' type='checkbox' ><label for='attrs-e010a9a9-1b5d-48c9-b703-cae16e8dad20' title='Show/Hide attributes'><svg class='icon xr-icon-file-text2'><use xlink:href='#icon-file-text2'></use></svg></label><input id='data-01dcafed-da59-456d-a565-bd0837f00fcc' class='xr-var-data-in' type='checkbox'><label for='data-01dcafed-da59-456d-a565-bd0837f00fcc' title='Show/Hide data repr'><svg class='icon xr-icon-database'><use xlink:href='#icon-database'></use></svg></label><div class='xr-var-attrs'><dl class='xr-attrs'><dt><span>spatial_ref :</span></dt><dd>GEOGCRS[&quot;WGS 84&quot;,ENSEMBLE[&quot;World Geodetic System 1984 ensemble&quot;,MEMBER[&quot;World Geodetic System 1984 (Transit)&quot;],MEMBER[&quot;World Geodetic System 1984 (G730)&quot;],MEMBER[&quot;World Geodetic System 1984 (G873)&quot;],MEMBER[&quot;World Geodetic System 1984 (G1150)&quot;],MEMBER[&quot;World Geodetic System 1984 (G1674)&quot;],MEMBER[&quot;World Geodetic System 1984 (G1762)&quot;],MEMBER[&quot;World Geodetic System 1984 (G2139)&quot;],ELLIPSOID[&quot;WGS 84&quot;,6378137,298.257223563,LENGTHUNIT[&quot;metre&quot;,1]],ENSEMBLEACCURACY[2.0]],PRIMEM[&quot;Greenwich&quot;,0,ANGLEUNIT[&quot;degree&quot;,0.0174532925199433]],CS[ellipsoidal,2],AXIS[&quot;geodetic latitude (Lat)&quot;,north,ORDER[1],ANGLEUNIT[&quot;degree&quot;,0.0174532925199433]],AXIS[&quot;geodetic longitude (Lon)&quot;,east,ORDER[2],ANGLEUNIT[&quot;degree&quot;,0.0174532925199433]],USAGE[SCOPE[&quot;Horizontal component of 3D system.&quot;],AREA[&quot;World.&quot;],BBOX[-90,-180,90,180]],ID[&quot;EPSG&quot;,4326]]</dd><dt><span>crs_wkt :</span></dt><dd>GEOGCRS[&quot;WGS 84&quot;,ENSEMBLE[&quot;World Geodetic System 1984 ensemble&quot;,MEMBER[&quot;World Geodetic System 1984 (Transit)&quot;],MEMBER[&quot;World Geodetic System 1984 (G730)&quot;],MEMBER[&quot;World Geodetic System 1984 (G873)&quot;],MEMBER[&quot;World Geodetic System 1984 (G1150)&quot;],MEMBER[&quot;World Geodetic System 1984 (G1674)&quot;],MEMBER[&quot;World Geodetic System 1984 (G1762)&quot;],MEMBER[&quot;World Geodetic System 1984 (G2139)&quot;],ELLIPSOID[&quot;WGS 84&quot;,6378137,298.257223563,LENGTHUNIT[&quot;metre&quot;,1]],ENSEMBLEACCURACY[2.0]],PRIMEM[&quot;Greenwich&quot;,0,ANGLEUNIT[&quot;degree&quot;,0.0174532925199433]],CS[ellipsoidal,2],AXIS[&quot;geodetic latitude (Lat)&quot;,north,ORDER[1],ANGLEUNIT[&quot;degree&quot;,0.0174532925199433]],AXIS[&quot;geodetic longitude (Lon)&quot;,east,ORDER[2],ANGLEUNIT[&quot;degree&quot;,0.0174532925199433]],USAGE[SCOPE[&quot;Horizontal component of 3D system.&quot;],AREA[&quot;World.&quot;],BBOX[-90,-180,90,180]],ID[&quot;EPSG&quot;,4326]]</dd><dt><span>semi_major_axis :</span></dt><dd>6378137.0</dd><dt><span>semi_minor_axis :</span></dt><dd>6356752.314245179</dd><dt><span>inverse_flattening :</span></dt><dd>298.257223563</dd><dt><span>reference_ellipsoid_name :</span></dt><dd>WGS 84</dd><dt><span>longitude_of_prime_meridian :</span></dt><dd>0.0</dd><dt><span>prime_meridian_name :</span></dt><dd>Greenwich</dd><dt><span>geographic_crs_name :</span></dt><dd>WGS 84</dd><dt><span>grid_mapping_name :</span></dt><dd>latitude_longitude</dd></dl></div><div class='xr-var-data'><pre>array(4326, dtype=int32)</pre></div></li><li class='xr-var-item'><div class='xr-var-name'><span>time</span></div><div class='xr-var-dims'>()</div><div class='xr-var-dtype'>datetime64[ns]</div><div class='xr-var-preview xr-preview'>2020-01-01</div><input id='attrs-b81e60e4-9265-42b2-b6c6-39216f4e9a32' class='xr-var-attrs-in' type='checkbox' disabled><label for='attrs-b81e60e4-9265-42b2-b6c6-39216f4e9a32' title='Show/Hide attributes'><svg class='icon xr-icon-file-text2'><use xlink:href='#icon-file-text2'></use></svg></label><input id='data-3ef493c7-f80d-4e11-ae16-ff52c4208d5c' class='xr-var-data-in' type='checkbox'><label for='data-3ef493c7-f80d-4e11-ae16-ff52c4208d5c' title='Show/Hide data repr'><svg class='icon xr-icon-database'><use xlink:href='#icon-database'></use></svg></label><div class='xr-var-attrs'><dl class='xr-attrs'></dl></div><div class='xr-var-data'><pre>array(&#x27;2020-01-01T00:00:00.000000000&#x27;, dtype=&#x27;datetime64[ns]&#x27;)</pre></div></li></ul></div></li><li class='xr-section-item'><input id='section-9240dccb-976a-4ff6-81e2-3ad83bd193f0' class='xr-section-summary-in' type='checkbox'  ><label for='section-9240dccb-976a-4ff6-81e2-3ad83bd193f0' class='xr-section-summary' >Indexes: <span>(2)</span></label><div class='xr-section-inline-details'></div><div class='xr-section-details'><ul class='xr-var-list'><li class='xr-var-item'><div class='xr-index-name'><div>latitude</div></div><div class='xr-index-preview'>PandasIndex</div><div></div><input id='index-c619b198-84e2-412e-8ff3-33c0084661e3' class='xr-index-data-in' type='checkbox'/><label for='index-c619b198-84e2-412e-8ff3-33c0084661e3' title='Show/Hide index repr'><svg class='icon xr-icon-database'><use xlink:href='#icon-database'></use></svg></label><div class='xr-index-data'><pre>PandasIndex(Float64Index([1.5329499999999998, 1.5328499999999998, 1.5327499999999998,\n",
       "              1.5326499999999998, 1.5325499999999999, 1.5324499999999999,\n",
       "              1.5323499999999999,            1.53225,            1.53215,\n",
       "                         1.53205,\n",
       "              ...\n",
       "              0.7889499999999998, 0.7888499999999998, 0.7887499999999997,\n",
       "              0.7886499999999997, 0.7885499999999998, 0.7884499999999998,\n",
       "              0.7883499999999998, 0.7882499999999998, 0.7881499999999998,\n",
       "              0.7880499999999998],\n",
       "             dtype=&#x27;float64&#x27;, name=&#x27;latitude&#x27;, length=7450))</pre></div></li><li class='xr-var-item'><div class='xr-index-name'><div>longitude</div></div><div class='xr-index-preview'>PandasIndex</div><div></div><input id='index-3ae6ea83-9363-4649-9e85-feae73df69c8' class='xr-index-data-in' type='checkbox'/><label for='index-3ae6ea83-9363-4649-9e85-feae73df69c8' title='Show/Hide index repr'><svg class='icon xr-icon-database'><use xlink:href='#icon-database'></use></svg></label><div class='xr-index-data'><pre>PandasIndex(Float64Index([          33.98405,  33.98415000000001,           33.98425,\n",
       "              33.984350000000006,           33.98445, 33.984550000000006,\n",
       "                        33.98465, 33.984750000000005,           33.98485,\n",
       "              33.984950000000005,\n",
       "              ...\n",
       "              34.901050000000005,           34.90115, 34.901250000000005,\n",
       "                        34.90135, 34.901450000000004,           34.90155,\n",
       "              34.901650000000004,  34.90175000000001,           34.90185,\n",
       "               34.90195000000001],\n",
       "             dtype=&#x27;float64&#x27;, name=&#x27;longitude&#x27;, length=9180))</pre></div></li></ul></div></li><li class='xr-section-item'><input id='section-25c52aee-3065-4428-8541-26fe95f456a6' class='xr-section-summary-in' type='checkbox'  checked><label for='section-25c52aee-3065-4428-8541-26fe95f456a6' class='xr-section-summary' >Attributes: <span>(1)</span></label><div class='xr-section-inline-details'></div><div class='xr-section-details'><dl class='xr-attrs'><dt><span>nodata :</span></dt><dd>0</dd></dl></div></li></ul></div></div>"
      ],
      "text/plain": [
       "<xarray.DataArray 'map' (latitude: 7450, longitude: 9180)>\n",
       "array([[30, 30, 30, ..., 30, 30, 30],\n",
       "       [30, 30, 30, ..., 30, 20, 20],\n",
       "       [30, 30, 30, ..., 30, 30, 30],\n",
       "       ...,\n",
       "       [40, 40, 40, ..., 40, 40, 40],\n",
       "       [40, 40, 40, ..., 40, 40, 40],\n",
       "       [40, 40, 40, ..., 40, 40, 40]], dtype=uint8)\n",
       "Coordinates:\n",
       "  * latitude     (latitude) float64 1.533 1.533 1.533 ... 0.7882 0.7881 0.788\n",
       "  * longitude    (longitude) float64 33.98 33.98 33.98 33.98 ... 34.9 34.9 34.9\n",
       "    spatial_ref  int32 4326\n",
       "    time         datetime64[ns] 2020-01-01\n",
       "Attributes:\n",
       "    nodata:   0"
      ]
     },
     "execution_count": 8,
     "metadata": {},
     "output_type": "execute_result"
    }
   ],
   "source": [
    "import odc.stac\n",
    "\n",
    "ds = odc.stac.load(items, crs=\"EPSG:4326\", resolution=0.0001, bbox=bbox_of_interest)\n",
    "map_data = ds[\"map\"].isel(time=-1).load()\n",
    "map_data"
   ]
  },
  {
   "cell_type": "markdown",
   "id": "7dbd74df",
   "metadata": {},
   "source": [
    "Finally, we can plot our area of interest with a colorbar labeled with the class descriptions."
   ]
  },
  {
   "cell_type": "code",
   "execution_count": 9,
   "id": "8c201c24-eb03-46ca-8391-b4bd962dbdc0",
   "metadata": {
    "tags": []
   },
   "outputs": [
    {
     "data": {
      "text/html": [
       "<img src=\"https://ai4edatasetspublicassets.blob.core.windows.net/assets/notebook-output/datasets-esa-worldcover-esa-worldcover-example.ipynb/9.png\"/>"
      ],
      "text/plain": [
       "<Figure size 1600x1400 with 2 Axes>"
      ]
     },
     "metadata": {},
     "output_type": "display_data"
    }
   ],
   "source": [
    "from matplotlib import cm\n",
    "import matplotlib.pyplot as plt\n",
    "\n",
    "fig, ax = plt.subplots(figsize=(16, 14))\n",
    "normalizer = matplotlib.colors.Normalize(vmin=0, vmax=255)\n",
    "\n",
    "map_data.isel(latitude=slice(3000, 6000), longitude=slice(4000, 7000)).plot(\n",
    "    ax=ax, cmap=cmap, norm=normalizer\n",
    ")\n",
    "\n",
    "colorbar = fig.colorbar(\n",
    "    cm.ScalarMappable(norm=normalizer, cmap=cmap),\n",
    "    boundaries=boundaries,\n",
    "    values=values,\n",
    "    cax=fig.axes[1].axes,\n",
    ")\n",
    "colorbar.set_ticks(ticks, labels=tick_labels)\n",
    "\n",
    "ax.set_axis_off()\n",
    "ax.set_title(\"ESA WorldCover at Mount Elgin\");"
   ]
  }
 ],
 "metadata": {
  "kernelspec": {
   "display_name": "Python 3 (ipykernel)",
   "language": "python",
   "name": "python3"
  },
  "language_info": {
   "codemirror_mode": {
    "name": "ipython",
    "version": 3
   },
   "file_extension": ".py",
   "mimetype": "text/x-python",
   "name": "python",
   "nbconvert_exporter": "python",
   "pygments_lexer": "ipython3",
   "version": "3.10.9"
  },
  "widgets": {
   "application/vnd.jupyter.widget-state+json": {
    "state": {},
    "version_major": 2,
    "version_minor": 0
   }
  }
 },
 "nbformat": 4,
 "nbformat_minor": 5
}
