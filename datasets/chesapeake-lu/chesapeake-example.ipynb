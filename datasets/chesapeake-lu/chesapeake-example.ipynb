{
 "cells": [
  {
   "cell_type": "markdown",
   "id": "d2583da9-3f1e-40e6-b81d-700f26e89daa",
   "metadata": {
    "tags": []
   },
   "source": [
    "## Accessing Chesapeake Land Use data with the Planetary Computer STAC API\n",
    "\n",
    "The [Chesapeake Land Use](https://www.chesapeakeconservancy.org/conservation-innovation-center/high-resolution-data/land-use-data-project/) dataset is high-resolution 1-meter Land Use data product in raster format for the entire Chesapeake Bay watershed. The dataset was created by modifying the 2013-2014 high-resolution land cover dataset using 13 ancillary datasets including data on zoning, land use, parcel boundaries, landfills, floodplains, and wetlands. The product area encompasses over 250,000 square kilometers in New York, Pennsylvania, Maryland, Delaware, West Virginia, Virginia, and the District of Columbia. The dataset was created by the Chesapeake Conservancy Conservation Innovation Center for the Chesapeake Bay Program, which is a regional partnership of EPA, other federal, state, and local agencies and governments, nonprofits, and academic institutions that leads and directs Chesapeake Bay restoration efforts.\n",
    "\n",
    "In this notebook, we'll demonstrate how to access and work with this data through the Planetary Computer. Documentation for this dataset is available at the [Planetary Computer Data Catalog](https://planetarycomputer.microsoft.com/dataset/chesapeake-lu).\n",
    "\n",
    "### Environment setup\n",
    "\n",
    "This notebook works with or without an API key, but you will be given more permissive access to the data with an API key.\n",
    "\n",
    "* The [Planetary Computer Hub](https://planetarycomputer.microsoft.com/compute) is pre-configured to use your API key.\n",
    "* To use your API key locally, set the environment variable `PC_SDK_SUBSCRIPTION_KEY` or use `planetary_computer.settings.set_subscription_key(<YOUR API Key>)`"
   ]
  },
  {
   "cell_type": "code",
   "execution_count": 1,
   "id": "f3f030fa-8639-4b4e-b0a1-f3226375c28e",
   "metadata": {},
   "outputs": [],
   "source": [
    "from pystac_client import Client\n",
    "from pystac.extensions.item_assets import ItemAssetsExtension\n",
    "\n",
    "import planetary_computer as pc\n",
    "import rich.table"
   ]
  },
  {
   "cell_type": "markdown",
   "id": "527d242e-32b4-49fb-a513-a74ee38495da",
   "metadata": {
    "tags": []
   },
   "source": [
    "### Query for data of interest\n",
    "\n",
    "We'll query for 2013 Chesapeake Land Use data. "
   ]
  },
  {
   "cell_type": "code",
   "execution_count": 2,
   "id": "7e037147-5996-4532-a02c-5ce3d15b9a68",
   "metadata": {},
   "outputs": [
    {
     "name": "stdout",
     "output_type": "stream",
     "text": [
      "Fetching 2013\n",
      "Returned 166 Items\n"
     ]
    }
   ],
   "source": [
    "catalog = Client.open(\"https://pct-apis-staging.westeurope.cloudapp.azure.com/stac/\")\n",
    "\n",
    "latitude = 39.29\n",
    "longitude = -76.61\n",
    "datetimes = [\n",
    "    \"2013\"\n",
    "]\n",
    "\n",
    "buffer = 0.6\n",
    "bbox = [longitude - buffer, latitude - buffer, longitude + buffer, latitude + buffer]\n",
    "items = dict()\n",
    "\n",
    "for datetime in datetimes:\n",
    "    print(f\"Fetching {datetime}\")\n",
    "    search = catalog.search(\n",
    "        collections=[\"chesapeake-lu\"],\n",
    "        bbox=bbox,\n",
    "        datetime=datetime\n",
    "    )\n",
    "\n",
    "items = list(search.get_items())\n",
    "print(f\"Returned {len(items)} Items\")"
   ]
  },
  {
   "cell_type": "markdown",
   "id": "49363704-3dd9-4f50-a8d2-b4b4c61f8360",
   "metadata": {},
   "source": [
    "Each Item contains a single \"data\" asset with a URL to the location of the Asset data on [Azure Blob Storage](https://azure.microsoft.com/en-us/services/storage/blobs/). "
   ]
  },
  {
   "cell_type": "code",
   "execution_count": 3,
   "id": "7bd73779-0545-4368-bf96-3d9cce489f97",
   "metadata": {},
   "outputs": [
    {
     "name": "stdout",
     "output_type": "stream",
     "text": [
      "https://landcoverdata.blob.core.windows.net/chesapeake/lu/BayWide_1m_LU_E1700000_N1960000.tif\n"
     ]
    }
   ],
   "source": [
    "asset_href = items[0].assets[\"data\"].href\n",
    "print(asset_href)"
   ]
  },
  {
   "cell_type": "markdown",
   "id": "f6ccf07a-33bd-4be7-85c1-4471a17ae176",
   "metadata": {},
   "source": [
    "### Available STAC Assets and Metadata\n",
    "\n",
    "Let's check the available assets and metadata for the Chesapeake Land Use item. "
   ]
  },
  {
   "cell_type": "code",
   "execution_count": 4,
   "id": "a3f2152a-6925-4a01-b24f-485cca0b9f55",
   "metadata": {},
   "outputs": [
    {
     "data": {
      "text/html": [
       "<pre style=\"white-space:pre;overflow-x:auto;line-height:normal;font-family:Menlo,'DejaVu Sans Mono',consolas,'Courier New',monospace\">┏━━━━━━━━━━━━━━━━━━┳━━━━━━━━━━━━━━━━━━━━━━━━━━━━━━━━━┓\n",
       "┃<span style=\"font-weight: bold\"> Key              </span>┃<span style=\"font-weight: bold\"> Title                           </span>┃\n",
       "┡━━━━━━━━━━━━━━━━━━╇━━━━━━━━━━━━━━━━━━━━━━━━━━━━━━━━━┩\n",
       "│ data             │ Land Use Classes                │\n",
       "│ tilejson         │ TileJSON with default rendering │\n",
       "│ rendered_preview │ Rendered preview                │\n",
       "└──────────────────┴─────────────────────────────────┘\n",
       "</pre>\n"
      ],
      "text/plain": [
       "┏━━━━━━━━━━━━━━━━━━┳━━━━━━━━━━━━━━━━━━━━━━━━━━━━━━━━━┓\n",
       "┃\u001b[1m \u001b[0m\u001b[1mKey             \u001b[0m\u001b[1m \u001b[0m┃\u001b[1m \u001b[0m\u001b[1mTitle                          \u001b[0m\u001b[1m \u001b[0m┃\n",
       "┡━━━━━━━━━━━━━━━━━━╇━━━━━━━━━━━━━━━━━━━━━━━━━━━━━━━━━┩\n",
       "│ data             │ Land Use Classes                │\n",
       "│ tilejson         │ TileJSON with default rendering │\n",
       "│ rendered_preview │ Rendered preview                │\n",
       "└──────────────────┴─────────────────────────────────┘\n"
      ]
     },
     "execution_count": 4,
     "metadata": {},
     "output_type": "execute_result"
    }
   ],
   "source": [
    "t = rich.table.Table(\"Key\", \"Title\")\n",
    "for k, asset in items[0].assets.items():\n",
    "    t.add_row(k, asset.title)\n",
    "t"
   ]
  },
  {
   "cell_type": "code",
   "execution_count": 5,
   "id": "485ef558-d85e-41b4-898b-d799f205d45f",
   "metadata": {},
   "outputs": [
    {
     "data": {
      "text/html": [
       "<pre style=\"white-space:pre;overflow-x:auto;line-height:normal;font-family:Menlo,'DejaVu Sans Mono',consolas,'Courier New',monospace\">┏━━━━━━━━━━━━━━━━┳━━━━━━━━━━━━━━━━━━━━━━━━━━━━━━━━━━━━━━━━━━━━━━━━━━━━━━━━━━━━━━━━━━━━━━━━━━┓\n",
       "┃<span style=\"font-weight: bold\"> key            </span>┃<span style=\"font-weight: bold\"> value                                                                    </span>┃\n",
       "┡━━━━━━━━━━━━━━━━╇━━━━━━━━━━━━━━━━━━━━━━━━━━━━━━━━━━━━━━━━━━━━━━━━━━━━━━━━━━━━━━━━━━━━━━━━━━┩\n",
       "│ created        │ 2022-06-01T20:15:13.334677Z                                              │\n",
       "│ datetime       │ None                                                                     │\n",
       "│ end_datetime   │ 2014-12-31T23:59:59Z                                                     │\n",
       "│ proj:epsg      │ None                                                                     │\n",
       "│ proj:shape     │ [10000, 10000]                                                           │\n",
       "│ proj:transform │ [1.0, 0.0, 1699999.1624823206, 0.0, -1.0, 1970000.8902923968]            │\n",
       "│ proj:wkt2      │ PROJCS[\"USA_Contiguous_Albers_Equal_Area_Conic_USGS_version\",GEOGCS[\"NA… │\n",
       "│                │ 1980\",6378137,298.257222101004,AUTHORITY[\"EPSG\",\"7019\"]],AUTHORITY[\"EPS… │\n",
       "│ start_datetime │ 2013-01-01T00:00:00Z                                                     │\n",
       "└────────────────┴──────────────────────────────────────────────────────────────────────────┘\n",
       "</pre>\n"
      ],
      "text/plain": [
       "┏━━━━━━━━━━━━━━━━┳━━━━━━━━━━━━━━━━━━━━━━━━━━━━━━━━━━━━━━━━━━━━━━━━━━━━━━━━━━━━━━━━━━━━━━━━━━┓\n",
       "┃\u001b[1m \u001b[0m\u001b[1mkey           \u001b[0m\u001b[1m \u001b[0m┃\u001b[1m \u001b[0m\u001b[1mvalue                                                                   \u001b[0m\u001b[1m \u001b[0m┃\n",
       "┡━━━━━━━━━━━━━━━━╇━━━━━━━━━━━━━━━━━━━━━━━━━━━━━━━━━━━━━━━━━━━━━━━━━━━━━━━━━━━━━━━━━━━━━━━━━━┩\n",
       "│ created        │ 2022-06-01T20:15:13.334677Z                                              │\n",
       "│ datetime       │ None                                                                     │\n",
       "│ end_datetime   │ 2014-12-31T23:59:59Z                                                     │\n",
       "│ proj:epsg      │ None                                                                     │\n",
       "│ proj:shape     │ [10000, 10000]                                                           │\n",
       "│ proj:transform │ [1.0, 0.0, 1699999.1624823206, 0.0, -1.0, 1970000.8902923968]            │\n",
       "│ proj:wkt2      │ PROJCS[\"USA_Contiguous_Albers_Equal_Area_Conic_USGS_version\",GEOGCS[\"NA… │\n",
       "│                │ 1980\",6378137,298.257222101004,AUTHORITY[\"EPSG\",\"7019\"]],AUTHORITY[\"EPS… │\n",
       "│ start_datetime │ 2013-01-01T00:00:00Z                                                     │\n",
       "└────────────────┴──────────────────────────────────────────────────────────────────────────┘\n"
      ]
     },
     "execution_count": 5,
     "metadata": {},
     "output_type": "execute_result"
    }
   ],
   "source": [
    "table = rich.table.Table(\"key\", \"value\")\n",
    "for k, v in sorted(items[0].properties.items()):\n",
    "    table.add_row(k, str(v))\n",
    "\n",
    "table"
   ]
  },
  {
   "cell_type": "markdown",
   "id": "f76a3b43-7827-4e8d-9305-6af33794bbce",
   "metadata": {},
   "source": [
    "### Displaying the data\n",
    "\n"
   ]
  },
  {
   "cell_type": "code",
   "execution_count": 6,
   "id": "cd296765-a455-4a92-bd1f-4e29da0344ab",
   "metadata": {},
   "outputs": [
    {
     "data": {
      "text/plain": [
       "{'Impervious Roads': 1,\n",
       " 'Impervious Non-Roads': 2,\n",
       " 'Tree Canopy over Impervious Surfaces': 3,\n",
       " 'Water': 4,\n",
       " 'Tidal Wetlands': 5,\n",
       " 'Floodplain Wetlands': 6,\n",
       " 'Other Wetlands': 7,\n",
       " 'Forest': 8,\n",
       " 'Tree Canopy over Turf Grass': 9,\n",
       " 'Mixed Open': 10,\n",
       " 'Fractional Turf (small)': 11,\n",
       " 'Fractional Turf (medium)': 12,\n",
       " 'Fractional Turf (large)': 13,\n",
       " 'Fractional Impervious': 14,\n",
       " 'Turf Grass': 15,\n",
       " 'Cropland': 16,\n",
       " 'Pasture/Hay': 17}"
      ]
     },
     "execution_count": 6,
     "metadata": {},
     "output_type": "execute_result"
    }
   ],
   "source": [
    "# Classifications\n",
    "collection = catalog.get_collection(\"chesapeake-lu\")\n",
    "ia = ItemAssetsExtension.ext(collection)\n",
    "x = ia.item_assets[\"data\"]\n",
    "\n",
    "class_names = {\n",
    "    x[\"description\"]: x[\"value\"] for x in x.properties[\"classification:classes\"]\n",
    "}\n",
    "values_to_classes = {v: k for k, v in class_names.items()}\n",
    "class_count = len(class_names)\n",
    "class_names"
   ]
  },
  {
   "cell_type": "code",
   "execution_count": 7,
   "id": "956e282e-9e91-4ac0-aa39-3a3a6d1e7ac5",
   "metadata": {},
   "outputs": [
    {
     "data": {
      "text/html": [
       "<img src=\"https://pct-apis-staging.westeurope.cloudapp.azure.com/data/item/preview.png?collection=chesapeake-lu&item=BayWide_1m_LU_E1700000_N1960000&assets=data&tile_format=png&colormap_name=chesapeake-lu\"/>"
      ],
      "text/plain": [
       "<IPython.core.display.Image object>"
      ]
     },
     "execution_count": 7,
     "metadata": {},
     "output_type": "execute_result"
    }
   ],
   "source": [
    "from IPython.display import Image\n",
    "\n",
    "item = items[0]\n",
    "Image(url=item.assets[\"rendered_preview\"].href)"
   ]
  }
 ],
 "metadata": {
  "kernelspec": {
   "display_name": "Python 3 (ipykernel)",
   "language": "python",
   "name": "python3"
  },
  "language_info": {
   "codemirror_mode": {
    "name": "ipython",
    "version": 3
   },
   "file_extension": ".py",
   "mimetype": "text/x-python",
   "name": "python",
   "nbconvert_exporter": "python",
   "pygments_lexer": "ipython3",
   "version": "3.8.13"
  },
  "widgets": {
   "application/vnd.jupyter.widget-state+json": {
    "state": {},
    "version_major": 2,
    "version_minor": 0
   }
  }
 },
 "nbformat": 4,
 "nbformat_minor": 5
}
