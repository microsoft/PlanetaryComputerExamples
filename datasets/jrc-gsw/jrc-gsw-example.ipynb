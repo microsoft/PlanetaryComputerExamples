{
 "cells": [
  {
   "cell_type": "markdown",
   "metadata": {},
   "source": [
    "## Accessing JRC Global Surface Water data with the Planetary Computer STAC API\n",
    "\n",
    "This dataset contains data that show different facets of the spatial and temporal distribution of surface water over the last 32 years. In this notebook, we'll demonstrate how to access and work with this data through the Planetary Computer."
   ]
  },
  {
   "cell_type": "markdown",
   "metadata": {},
   "source": [
    "### Environment setup\n"
   ]
  },
  {
   "cell_type": "code",
   "execution_count": 1,
   "metadata": {},
   "outputs": [],
   "source": [
    "import pystac_client\n",
    "from matplotlib.colors import ListedColormap\n",
    "import rasterio\n",
    "import rasterio.mask\n",
    "import numpy as np\n",
    "import pystac\n",
    "import planetary_computer"
   ]
  },
  {
   "cell_type": "markdown",
   "metadata": {},
   "source": [
    "### Data access\n",
    "\n",
    "The datasets hosted by the Planetary Computer are available from [Azure Blob Storage](https://docs.microsoft.com/en-us/azure/storage/blobs/). We'll use [pystac-client](https://pystac-client.readthedocs.io/) to search the Planetary Computer's [STAC API](https://planetarycomputer.microsoft.com/api/stac/v1/docs) for the subset of the data that we care about, and then we'll load the data directly from Azure Blob Storage. We'll specify a `modifier` so that we can access the data stored in the Planetary Computer's private Blob Storage Containers. See [Reading from the STAC API](https://planetarycomputer.microsoft.com/docs/quickstarts/reading-stac/) and [Using tokens for data access](https://planetarycomputer.microsoft.com/docs/concepts/sas/) for more."
   ]
  },
  {
   "cell_type": "code",
   "execution_count": 2,
   "metadata": {},
   "outputs": [],
   "source": [
    "catalog = pystac_client.Client.open(\n",
    "    \"https://planetarycomputer.microsoft.com/api/stac/v1\",\n",
    "    modifier=planetary_computer.sign_inplace,\n",
    ")"
   ]
  },
  {
   "cell_type": "markdown",
   "metadata": {},
   "source": [
    "### Query the dataset\n",
    "\n",
    "JRC Global Surface Water data on the Planetary Computer is available globally. We'll pick an area with seasonal water in Bangladesh and use the STAC API to find what data items are avaialable."
   ]
  },
  {
   "cell_type": "code",
   "execution_count": 3,
   "metadata": {},
   "outputs": [],
   "source": [
    "area_of_interest = {\n",
    "    \"type\": \"Polygon\",\n",
    "    \"coordinates\": [\n",
    "        [\n",
    "            [91.07803344726562, 24.082828048468436],\n",
    "            [91.20162963867188, 24.20563707758362],\n",
    "            [91.43783569335938, 24.463400705082282],\n",
    "            [91.50238037109375, 24.71315296906617],\n",
    "            [90.9393310546875, 24.835349273134295],\n",
    "            [90.81161499023438, 24.648265332632818],\n",
    "            [90.89813232421875, 24.337086982410497],\n",
    "            [90.90774536132812, 24.11792837933617],\n",
    "            [91.07803344726562, 24.082828048468436],\n",
    "        ]\n",
    "    ],\n",
    "}"
   ]
  },
  {
   "cell_type": "markdown",
   "metadata": {},
   "source": [
    "We can now execute a STAC API query for our selected area:"
   ]
  },
  {
   "cell_type": "code",
   "execution_count": 4,
   "metadata": {},
   "outputs": [
    {
     "name": "stdout",
     "output_type": "stream",
     "text": [
      "Returned 1 Items\n"
     ]
    }
   ],
   "source": [
    "jrc = catalog.search(collections=[\"jrc-gsw\"], intersects=area_of_interest)\n",
    "\n",
    "items = jrc.item_collection()\n",
    "\n",
    "print(f\"Returned {len(items)} Items\")"
   ]
  },
  {
   "cell_type": "markdown",
   "metadata": {},
   "source": [
    "A single item is returned, so we can work with single assets. If we chose an area with multiple tiles intersecting, we could save use something like [stacstack](https://github.com/gjoseph92/stackstac) or [gdal.BuildVRT](https://gdal.org/python/osgeo.gdal-module.html#BuildVRT) to work with multiple items and assets as a single layer."
   ]
  },
  {
   "cell_type": "code",
   "execution_count": 5,
   "metadata": {},
   "outputs": [],
   "source": [
    "item = items[0]"
   ]
  },
  {
   "cell_type": "markdown",
   "metadata": {},
   "source": [
    "Let's capture the color maps that are included in the COG assets by reading the metadata of the GeoTIFFs using rasterio. This also converts the color maps into a format matplotlib understands:"
   ]
  },
  {
   "cell_type": "code",
   "execution_count": 6,
   "metadata": {},
   "outputs": [],
   "source": [
    "cog_assets = [\n",
    "    asset_key\n",
    "    for asset_key, asset in item.assets.items()\n",
    "    if asset.media_type == pystac.MediaType.COG\n",
    "]"
   ]
  },
  {
   "cell_type": "code",
   "execution_count": 7,
   "metadata": {},
   "outputs": [],
   "source": [
    "cmaps = {}\n",
    "for asset_key in cog_assets:\n",
    "    asset = item.assets[asset_key]\n",
    "    with rasterio.open(item.assets[asset_key].href) as src:\n",
    "        colormap_def = src.colormap(1)  # get metadata colormap for band 1\n",
    "        colormap = [\n",
    "            np.array(colormap_def[i]) / 256 for i in range(256)\n",
    "        ]  # transform to matplotlib color format\n",
    "    cmaps[asset_key] = ListedColormap(colormap)"
   ]
  },
  {
   "cell_type": "markdown",
   "metadata": {},
   "source": [
    "We can now render the six assets of the JRC Global Surface Water dataset over our area:"
   ]
  },
  {
   "cell_type": "code",
   "execution_count": 8,
   "metadata": {},
   "outputs": [
    {
     "data": {
      "text/html": [
       "<img src=\"https://ai4edatasetspublicassets.blob.core.windows.net/assets/notebook-output/datasets-jrc-gsw-jrc-gsw-example.ipynb/8.png\"/>"
      ],
      "text/plain": [
       "<Figure size 1200x800 with 6 Axes>"
      ]
     },
     "metadata": {},
     "output_type": "display_data"
    }
   ],
   "source": [
    "import matplotlib.pyplot as plt\n",
    "from matplotlib.colors import Normalize\n",
    "\n",
    "dpi = 200\n",
    "fig = plt.figure(frameon=False, dpi=dpi)\n",
    "\n",
    "for i, asset_key in enumerate(cog_assets):\n",
    "\n",
    "    with rasterio.open(item.assets[asset_key].href) as src:\n",
    "        asset_data, _ = rasterio.mask.mask(\n",
    "            src, [area_of_interest], crop=True, nodata=255\n",
    "        )\n",
    "\n",
    "    ax1 = fig.add_subplot(int(f\"23{i+1}\"))\n",
    "    ax1.set_title(asset_key, fontdict={\"fontsize\": 5})\n",
    "    ax1.set_axis_off()\n",
    "    plt.imshow(asset_data[0], norm=Normalize(0, 255), cmap=cmaps[asset_key])"
   ]
  }
 ],
 "metadata": {
  "kernelspec": {
   "display_name": "Python 3 (ipykernel)",
   "language": "python",
   "name": "python3"
  },
  "language_info": {
   "codemirror_mode": {
    "name": "ipython",
    "version": 3
   },
   "file_extension": ".py",
   "mimetype": "text/x-python",
   "name": "python",
   "nbconvert_exporter": "python",
   "pygments_lexer": "ipython3",
   "version": "3.8.13"
  },
  "widgets": {
   "application/vnd.jupyter.widget-state+json": {
    "state": {},
    "version_major": 2,
    "version_minor": 0
   }
  }
 },
 "nbformat": 4,
 "nbformat_minor": 4
}
