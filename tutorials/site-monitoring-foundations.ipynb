{
 "cells": [
  {
   "cell_type": "markdown",
   "id": "623fe031",
   "metadata": {},
   "source": [
    "### Planetary Computer Site Monitoring - Foundations\n",
    "\n",
    "<details>\n",
    "<summary><strong>📘 Outline</strong></summary>\n",
    "\n",
    "1. Introduction  \n",
    "2. Learning Objectives  \n",
    "3. Core Concepts\n",
    "4. Environment configuration\n",
    "4. Load/Define Your Area of Interest  \n",
    "5. Define Monitoring Conditions  \n",
    "6. Query Open STAC Catalog  \n",
    "7. Apply NDVI Index  \n",
    "8. Visualize Time Series  \n",
    "9. Explore and Adjust Parameters  \n",
    "10. Export Results  \n",
    "11. What's Next  \n",
    "\n",
    "</details>\n",
    "\n",
    "This is the first in a series of three notebooks focused on site monitoring with open Earth observation data. In this foundational notebook, you'll define an area of interest, query satellite imagery from the Open Planetary Computer (OPC), apply indices like NDVI, and identify changes across a time series.  \n",
    "The goal is to help you understand key remote sensing concepts and build hands-on skills for real-world geospatial monitoring.\n",
    "\n",
    "➡️ Next notebooks in this series:\n",
    "- [Vegetation Monitoring with NDVI and USDA-CDL (Intermediate)](TODO)\n",
    "- [Route Monitoring for Extreme Weather Events (Advanced)](TODO)\n",
    "\n",
    "### Learning Objectives\n",
    "\n",
    "By the end of this notebook, you should be able to:\n",
    "\n",
    "- 🧭 **Understand the purpose** of site monitoring using remote sensing timeseries.\n",
    "- 🛰 **Define an Area of Interest (AOI)** and use it in geospatial workflows. TODO: or import?\n",
    "- 📦 **Query a STAC API** to retrieve relevant Earth observation data over time.\n",
    "- 🧮 **Apply a basic raster expression index** (e.g., NDVI) and understand what it represents.\n",
    "- 📈 **Visualize and interpret** changes in index values across a time series.\n",
    "- 🛠 **Export results** for use in other tools like Fabric or Power BI.\n",
    "- 🔍 **Build intuition** for setting thresholds or detecting meaningful changes in time series data.\n",
    "\n",
    "### Core Concepts\n",
    "\n",
    "Before we begin, here are a few key concepts we'll use in this notebook:\n",
    "\n",
    "- **Raster data**: Satellite imagery is made up of pixels (grids), each with numeric values representing the Earth's surface.\n",
    "- **Bands**: Satellite images contain multiple spectral bands—each measuring light reflected at specific wavelengths (e.g., Red, Near-Infrared).\n",
    "- **NDVI**: A vegetation index calculated using the red and near-infrared bands. Higher values typically indicate healthy vegetation.\n",
    "- **Area of Interest (AOI)**: A polygon or boundary that defines where you're monitoring.\n",
    "- **Time series**: A sequence of observations (images) over time for your AOI.\n",
    "- **STAC**: A standard for searching and describing satellite imagery and geospatial data.\n",
    "- **Planetary Computer**: A catalog of open datasets we’ll query using STAC.\n",
    "\n",
    "Want to explore the catalog? Check out the [Planetary Computer](https://planetarycomputer.microsoft.com/).\n"
   ]
  },
  {
   "cell_type": "markdown",
   "id": "1dfce91c",
   "metadata": {},
   "source": [
    "### Configuring your Notebook Environment\n",
    "\n",
    "You'll need the following dependencies installed to follow along the tutorial:"
   ]
  },
  {
   "cell_type": "code",
   "execution_count": 1,
   "id": "db6baeb1",
   "metadata": {},
   "outputs": [
    {
     "name": "stdout",
     "output_type": "stream",
     "text": [
      "/Users/zacdez/Documents/github/PlanetaryComputerExamples/.venv/bin/python: No module named pip\n",
      "Note: you may need to restart the kernel to use updated packages.\n"
     ]
    }
   ],
   "source": [
    "%pip install ipyleaflet geopandas"
   ]
  },
  {
   "cell_type": "code",
   "execution_count": null,
   "id": "d1e63d70-3611-4b9b-a42e-3a3728865e34",
   "metadata": {},
   "outputs": [],
   "source": [
    "import pandas as pd\n",
    "import geopandas as gpd\n",
    "from ipyleaflet import Map, GeomanDrawControl"
   ]
  },
  {
   "cell_type": "code",
   "execution_count": 3,
   "id": "58d795c0-b006-4284-aa2a-b93f565a47e1",
   "metadata": {},
   "outputs": [],
   "source": [
    "# global GeoDataFrame\n",
    "gdf = gpd.GeoDataFrame(columns=[\"geometry\"], geometry=\"geometry\", crs=\"EPSG:4326\")"
   ]
  },
  {
   "cell_type": "code",
   "execution_count": null,
   "id": "bcf607b8",
   "metadata": {},
   "outputs": [
    {
     "data": {
      "application/vnd.jupyter.widget-view+json": {
       "model_id": "188a0b168d37432cb1c92b3c9d2768e5",
       "version_major": 2,
       "version_minor": 0
      },
      "text/plain": [
       "Map(center=[49.7016, -123.1589], controls=(ZoomControl(options=['position', 'zoom_in_text', 'zoom_in_title', '…"
      ]
     },
     "execution_count": 6,
     "metadata": {},
     "output_type": "execute_result"
    },
    {
     "ename": "AttributeError",
     "evalue": "module 'geopandas' has no attribute 'concat'",
     "output_type": "error",
     "traceback": [
      "\u001b[31m---------------------------------------------------------------------------\u001b[39m",
      "\u001b[31mAttributeError\u001b[39m                            Traceback (most recent call last)",
      "\u001b[36mCell\u001b[39m\u001b[36m \u001b[39m\u001b[32mIn[6]\u001b[39m\u001b[32m, line 21\u001b[39m, in \u001b[36mhandle_draw\u001b[39m\u001b[34m(target, action, geo_json)\u001b[39m\n\u001b[32m     18\u001b[39m \u001b[38;5;28;01mif\u001b[39;00m action == \u001b[33m\"\u001b[39m\u001b[33mcreate\u001b[39m\u001b[33m\"\u001b[39m:\n\u001b[32m     19\u001b[39m     \u001b[38;5;66;03m# Build a GeoDataFrame from the list of features\u001b[39;00m\n\u001b[32m     20\u001b[39m     new_gdf = gpd.GeoDataFrame.from_features(geo_json, crs=\u001b[33m\"\u001b[39m\u001b[33mEPSG:4326\u001b[39m\u001b[33m\"\u001b[39m)\n\u001b[32m---> \u001b[39m\u001b[32m21\u001b[39m     gdf = \u001b[43mgpd\u001b[49m\u001b[43m.\u001b[49m\u001b[43mconcat\u001b[49m([gdf, new_gdf], ignore_index=\u001b[38;5;28;01mTrue\u001b[39;00m)\n",
      "\u001b[31mAttributeError\u001b[39m: module 'geopandas' has no attribute 'concat'"
     ]
    }
   ],
   "source": [
    "# Set up map\n",
    "m = Map(center=(49.7016, -123.1589), zoom=12)\n",
    "\n",
    "# Set up draw control\n",
    "draw_control = GeomanDrawControl()\n",
    "draw_control.polygon = {\n",
    "    \"pathOptions\": {\n",
    "        \"fillColor\": \"#6be5c3\",\n",
    "        \"color\": \"#6be5c3\",\n",
    "        \"fillOpacity\": 1.0\n",
    "    }\n",
    "}\n",
    "m.add_control(draw_control)\n",
    "\n",
    "# Define callback\n",
    "def handle_draw(target, action, geo_json):\n",
    "    global gdf\n",
    "    if action == \"create\":\n",
    "        # Build a GeoDataFrame from the list of features\n",
    "        new_gdf = gpd.GeoDataFrame.from_features(geo_json, crs=\"EPSG:4326\")\n",
    "        gdf = pd.concat([gdf, new_gdf], ignore_index=True)\n",
    "\n",
    "# Attach callback\n",
    "draw_control.on_draw(handle_draw)\n",
    "\n",
    "m"
   ]
  },
  {
   "cell_type": "code",
   "execution_count": 5,
   "id": "54f31066-6ffa-47a1-a927-69591dab00da",
   "metadata": {},
   "outputs": [
    {
     "data": {
      "text/html": [
       "<div>\n",
       "<style scoped>\n",
       "    .dataframe tbody tr th:only-of-type {\n",
       "        vertical-align: middle;\n",
       "    }\n",
       "\n",
       "    .dataframe tbody tr th {\n",
       "        vertical-align: top;\n",
       "    }\n",
       "\n",
       "    .dataframe thead th {\n",
       "        text-align: right;\n",
       "    }\n",
       "</style>\n",
       "<table border=\"1\" class=\"dataframe\">\n",
       "  <thead>\n",
       "    <tr style=\"text-align: right;\">\n",
       "      <th></th>\n",
       "      <th>geometry</th>\n",
       "    </tr>\n",
       "  </thead>\n",
       "  <tbody>\n",
       "  </tbody>\n",
       "</table>\n",
       "</div>"
      ],
      "text/plain": [
       "Empty GeoDataFrame\n",
       "Columns: [geometry]\n",
       "Index: []"
      ]
     },
     "execution_count": 5,
     "metadata": {},
     "output_type": "execute_result"
    }
   ],
   "source": [
    "gdf"
   ]
  },
  {
   "cell_type": "code",
   "execution_count": null,
   "id": "1289cada-971e-460a-96bf-51b5d0bbb59f",
   "metadata": {},
   "outputs": [],
   "source": []
  }
 ],
 "metadata": {
  "kernelspec": {
   "display_name": ".venv",
   "language": "python",
   "name": "python3"
  },
  "language_info": {
   "codemirror_mode": {
    "name": "ipython",
    "version": 3
   },
   "file_extension": ".py",
   "mimetype": "text/x-python",
   "name": "python",
   "nbconvert_exporter": "python",
   "pygments_lexer": "ipython3",
   "version": "3.11.9"
  }
 },
 "nbformat": 4,
 "nbformat_minor": 5
}
