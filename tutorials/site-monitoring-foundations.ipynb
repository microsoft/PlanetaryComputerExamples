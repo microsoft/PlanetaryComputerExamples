{
 "cells": [
  {
   "cell_type": "markdown",
   "id": "623fe031",
   "metadata": {},
   "source": [
    "### Planetary Computer Site Monitoring - Foundations\n",
    "\n",
    "<details>\n",
    "<summary><strong>📘 Outline</strong></summary>\n",
    "\n",
    "1. Introduction  \n",
    "2. Learning Objectives  \n",
    "3. Core Concepts\n",
    "4. Environment configuration\n",
    "4. Load/Define Your Area of Interest  \n",
    "5. Define Monitoring Conditions  \n",
    "6. Query Open STAC Catalog  \n",
    "7. Apply NDVI Index  \n",
    "8. Visualize Time Series  \n",
    "9. Explore and Adjust Parameters  \n",
    "10. Export Results  \n",
    "11. What's Next  \n",
    "\n",
    "</details>\n",
    "\n",
    "This is the first in a series of three notebooks focused on site monitoring with open Earth observation data. In this foundational notebook, you'll define an area of interest, query satellite imagery from the Open Planetary Computer (OPC), apply indices like NDVI, and identify changes across a time series.  \n",
    "The goal is to help you understand key remote sensing concepts and build hands-on skills for real-world geospatial monitoring.\n",
    "\n",
    "➡️ Next notebooks in this series:\n",
    "- [Vegetation Monitoring with NDVI and USDA-CDL (Intermediate)](TODO)\n",
    "- [Route Monitoring for Extreme Weather Events (Advanced)](TODO)\n",
    "\n",
    "### Learning Objectives\n",
    "\n",
    "By the end of this notebook, you should be able to:\n",
    "\n",
    "- 🧭 **Understand the purpose** of site monitoring using remote sensing timeseries.\n",
    "- 🛰 **Define an Area of Interest (AOI)** and use it in geospatial workflows. TODO: or import?\n",
    "- 📦 **Query a STAC API** to retrieve relevant Earth observation data over time.\n",
    "- 🧮 **Apply a basic raster expression index** (e.g., NDVI) and understand what it represents.\n",
    "- 📈 **Visualize and interpret** changes in index values across a time series.\n",
    "- 🛠 **Export results** for use in other tools like Fabric or Power BI.\n",
    "- 🔍 **Build intuition** for setting thresholds or detecting meaningful changes in time series data.\n",
    "\n",
    "### Core Concepts\n",
    "\n",
    "Before we begin, here are a few key concepts we'll use in this notebook:\n",
    "\n",
    "- **Raster data**: Satellite imagery is made up of pixels (grids), each with numeric values representing the Earth's surface.\n",
    "- **Bands**: Satellite images contain multiple spectral bands—each measuring light reflected at specific wavelengths (e.g., Red, Near-Infrared).\n",
    "- **NDVI**: A vegetation index calculated using the red and near-infrared bands. Higher values typically indicate healthy vegetation.\n",
    "- **Area of Interest (AOI)**: A polygon or boundary that defines where you're monitoring.\n",
    "- **Time series**: A sequence of observations (images) over time for your AOI.\n",
    "- **STAC**: A standard for searching and describing satellite imagery and geospatial data.\n",
    "- **Planetary Computer**: A catalog of open datasets we’ll query using STAC.\n",
    "\n",
    "Want to explore the catalog? Check out the [Planetary Computer](https://planetarycomputer.microsoft.com/).\n"
   ]
  },
  {
   "cell_type": "markdown",
   "id": "1dfce91c",
   "metadata": {},
   "source": [
    "### Configuring your Notebook Environment\n",
    "\n",
    "You'll need the following dependencies installed to follow along the tutorial:"
   ]
  },
  {
   "cell_type": "code",
   "execution_count": 19,
   "id": "db6baeb1",
   "metadata": {},
   "outputs": [
    {
     "name": "stdout",
     "output_type": "stream",
     "text": [
      "/Users/zacdez/Documents/github/PlanetaryComputerExamples/.venv/bin/python: No module named uv\n",
      "Note: you may need to restart the kernel to use updated packages.\n"
     ]
    }
   ],
   "source": [
    "%pip install ipyleaflet geopandas"
   ]
  },
  {
   "cell_type": "code",
   "execution_count": 33,
   "id": "d1e63d70-3611-4b9b-a42e-3a3728865e34",
   "metadata": {},
   "outputs": [],
   "source": [
    "import json\n",
    "\n",
    "import geopandas as gpd\n",
    "from ipyleaflet import Map, GeomanDrawControl"
   ]
  },
  {
   "cell_type": "code",
   "execution_count": 64,
   "id": "bcf607b8",
   "metadata": {},
   "outputs": [
    {
     "data": {
      "application/vnd.jupyter.widget-view+json": {
       "model_id": "f1c682ab04bf41019d9ec3285abb969e",
       "version_major": 2,
       "version_minor": 0
      },
      "text/plain": [
       "Map(center=[49.7016, -123.1589], controls=(ZoomControl(options=['position', 'zoom_in_text', 'zoom_in_title', '…"
      ]
     },
     "execution_count": 64,
     "metadata": {},
     "output_type": "execute_result"
    }
   ],
   "source": [
    "from ipyleaflet import Map, GeomanDrawControl\n",
    "from ipywidgets import Output\n",
    "import json\n",
    "\n",
    "# Create map\n",
    "m = Map(center=(49.7016, -123.1589), zoom=12)\n",
    "\n",
    "# Set up draw control\n",
    "draw_control = GeomanDrawControl()\n",
    "draw_control.polygon = {\n",
    "    \"pathOptions\": {\n",
    "        \"fillColor\": \"#6be5c3\",\n",
    "        \"color\": \"#6be5c3\",\n",
    "        \"fillOpacity\": 1.0\n",
    "    }\n",
    "}\n",
    "m.add(draw_control)\n",
    "\n",
    "# Store features\n",
    "drawn_features = []\n",
    "\n",
    "# Create output widget for logging\n",
    "\n",
    "# Define handler\n",
    "def handle_draw(target, action, geo_json):\n",
    "    if action == 'create':\n",
    "        drawn_features.extend(geo_json)\n",
    "\n",
    "draw_control.on_draw(handle_draw)\n",
    "\n",
    "m"
   ]
  },
  {
   "cell_type": "code",
   "execution_count": 68,
   "id": "54f31066-6ffa-47a1-a927-69591dab00da",
   "metadata": {},
   "outputs": [
    {
     "data": {
      "text/html": [
       "<div>\n",
       "<style scoped>\n",
       "    .dataframe tbody tr th:only-of-type {\n",
       "        vertical-align: middle;\n",
       "    }\n",
       "\n",
       "    .dataframe tbody tr th {\n",
       "        vertical-align: top;\n",
       "    }\n",
       "\n",
       "    .dataframe thead th {\n",
       "        text-align: right;\n",
       "    }\n",
       "</style>\n",
       "<table border=\"1\" class=\"dataframe\">\n",
       "  <thead>\n",
       "    <tr style=\"text-align: right;\">\n",
       "      <th></th>\n",
       "      <th>geometry</th>\n",
       "      <th>style</th>\n",
       "      <th>type</th>\n",
       "    </tr>\n",
       "  </thead>\n",
       "  <tbody>\n",
       "    <tr>\n",
       "      <th>0</th>\n",
       "      <td>POLYGON ((-123.26907 49.69692, -123.22169 49.7...</td>\n",
       "      <td>{'fillColor': '#6be5c3', 'color': '#6be5c3', '...</td>\n",
       "      <td>polygon</td>\n",
       "    </tr>\n",
       "    <tr>\n",
       "      <th>1</th>\n",
       "      <td>POLYGON ((-123.08299 49.69625, -123.09226 49.7...</td>\n",
       "      <td>{'fillColor': '#6be5c3', 'color': '#6be5c3', '...</td>\n",
       "      <td>polygon</td>\n",
       "    </tr>\n",
       "  </tbody>\n",
       "</table>\n",
       "</div>"
      ],
      "text/plain": [
       "                                            geometry  \\\n",
       "0  POLYGON ((-123.26907 49.69692, -123.22169 49.7...   \n",
       "1  POLYGON ((-123.08299 49.69625, -123.09226 49.7...   \n",
       "\n",
       "                                               style     type  \n",
       "0  {'fillColor': '#6be5c3', 'color': '#6be5c3', '...  polygon  \n",
       "1  {'fillColor': '#6be5c3', 'color': '#6be5c3', '...  polygon  "
      ]
     },
     "execution_count": 68,
     "metadata": {},
     "output_type": "execute_result"
    }
   ],
   "source": [
    "gdf = gpd.GeoDataFrame.from_features(drawn_features)\n",
    "gdf"
   ]
  },
  {
   "cell_type": "code",
   "execution_count": null,
   "id": "1289cada-971e-460a-96bf-51b5d0bbb59f",
   "metadata": {},
   "outputs": [],
   "source": []
  }
 ],
 "metadata": {
  "kernelspec": {
   "display_name": "Python 3 (ipykernel)",
   "language": "python",
   "name": "python3"
  },
  "language_info": {
   "codemirror_mode": {
    "name": "ipython",
    "version": 3
   },
   "file_extension": ".py",
   "mimetype": "text/x-python",
   "name": "python",
   "nbconvert_exporter": "python",
   "pygments_lexer": "ipython3",
   "version": "3.11.9"
  }
 },
 "nbformat": 4,
 "nbformat_minor": 5
}
