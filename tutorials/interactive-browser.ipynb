{
 "cells": [
  {
   "cell_type": "markdown",
   "id": "4a99071f-ea18-4b19-9b62-de8be5c03d72",
   "metadata": {},
   "source": [
    "## Interactively browse STAC footprints\n",
    "\n",
    "STAC items contain information about the spatio-temporal footprint of the data they catalog. Using [Jupyter Widgets](https://ipywidgets.readthedocs.io/en/latest/#), in particular [`ipywidgets.interact`](https://ipywidgets.readthedocs.io/en/latest/examples/Using%20Interact.html) and [`ipyleaflet`](https://ipyleaflet.readthedocs.io/en/latest/index.html), we can quickly build an interactive tool for visualizing item footprints. This can be helpful for understanding the path a satellite takes over earth or debugging strange looking item footprints.\n",
    "\n",
    "We'll start by grabbing some Sentinel-2 L2A items from the Planetary Computer's STAC API."
   ]
  },
  {
   "cell_type": "code",
   "execution_count": 1,
   "id": "242551be-9f6d-4cb6-8f55-9dcd2fe77eb3",
   "metadata": {
    "tags": []
   },
   "outputs": [],
   "source": [
    "import pystac_client\n",
    "\n",
    "catalog = pystac_client.Client.open(\n",
    "    \"https://planetarycomputer.microsoft.com/api/stac/v1\"\n",
    ")\n",
    "\n",
    "search = catalog.search(\n",
    "    collections=[\"sentinel-2-l2a\"],\n",
    "    datetime=\"2023-04-01\",\n",
    "    query={\"platform\": {\"eq\": \"Sentinel-2B\"}},\n",
    "    sortby=\"datetime\",\n",
    "    max_items=200,\n",
    ")\n",
    "\n",
    "items = search.item_collection()"
   ]
  },
  {
   "cell_type": "markdown",
   "id": "d13aea35-99d2-4445-8f44-9d257374abaa",
   "metadata": {},
   "source": [
    "Next, we'll build up our tool. We start with our placeholders:\n",
    "\n",
    "1. An `ipyleaflet.Map` object\n",
    "2. An empty `ipyleaflet.GeoJSON` layer, which we add to the map\n",
    "\n",
    "Then we use `ipywidgets.interact` to browse the list of items. This gives us a dropdown with the list of items, which we can scroll through to select a single item for display.\n",
    "The body of the function updates the state of our map to set\n",
    "\n",
    "1. The center of the map to the center of the selected item\n",
    "2. The `data` for the GeoJSON layer, to display the selected item's footprint\n"
   ]
  },
  {
   "cell_type": "code",
   "execution_count": 2,
   "id": "2b5bad41-e5a9-446d-9ad6-a2d4ce52aca0",
   "metadata": {
    "tags": []
   },
   "outputs": [
    {
     "data": {
      "application/vnd.jupyter.widget-view+json": {
       "model_id": "795afd00707f42519109e9b58245362e",
       "version_major": 2,
       "version_minor": 0
      },
      "text/plain": [
       "interactive(children=(Dropdown(description='item', options=(<Item id=S2B_MSIL2A_20230401T001159_R059_T11XML_20…"
      ]
     },
     "metadata": {},
     "output_type": "display_data"
    },
    {
     "data": {
      "application/vnd.jupyter.widget-view+json": {
       "model_id": "d98fca441cc247eab1410fda85e6981b",
       "version_major": 2,
       "version_minor": 0
      },
      "text/plain": [
       "Map(center=[81.43518005032495, -121.3895405831003], controls=(ZoomControl(options=['position', 'zoom_in_text',…"
      ]
     },
     "execution_count": 2,
     "metadata": {},
     "output_type": "execute_result"
    }
   ],
   "source": [
    "import ipywidgets\n",
    "import ipyleaflet\n",
    "import shapely\n",
    "\n",
    "m = ipyleaflet.Map(zoom=3)\n",
    "m.layout.width = \"600px\"\n",
    "layer = ipyleaflet.GeoJSON()\n",
    "m.add(layer)\n",
    "\n",
    "\n",
    "@ipywidgets.interact(item=items)\n",
    "def browse(item):\n",
    "    shape = shapely.geometry.shape(item)\n",
    "    m.center = tuple(shape.centroid.coords[0])[::-1]\n",
    "\n",
    "    layer.data = item.geometry\n",
    "    print(item.id, item.datetime.isoformat())\n",
    "\n",
    "\n",
    "m"
   ]
  },
  {
   "cell_type": "markdown",
   "id": "75d54acb-8c91-4f05-9d9c-eb0dfa68c0af",
   "metadata": {},
   "source": [
    "Here's an example of using the browser:\n",
    "\n",
    "<video controls width=\"600\" src=\"https://ai4edatasetspublicassets.blob.core.windows.net/assets/pc_video/interact-stac-browser-web.mp4\">\n",
    "</video>"
   ]
  }
 ],
 "metadata": {
  "kernelspec": {
   "display_name": "Python 3 (ipykernel)",
   "language": "python",
   "name": "python3"
  },
  "language_info": {
   "codemirror_mode": {
    "name": "ipython",
    "version": 3
   },
   "file_extension": ".py",
   "mimetype": "text/x-python",
   "name": "python",
   "nbconvert_exporter": "python",
   "pygments_lexer": "ipython3",
   "version": "3.10.9"
  },
  "widgets": {
   "application/vnd.jupyter.widget-state+json": {
    "state": {
     "05afbd624478496fa8acafb97fc360a2": {
      "model_module": "jupyter-leaflet",
      "model_module_version": "^0.17",
      "model_name": "LeafletTileLayerModel",
      "state": {
       "_model_module_version": "^0.17",
       "_view_module_version": "^0.17",
       "attribution": "&copy; <a href=\"https://www.openstreetmap.org/copyright\">OpenStreetMap</a> contributors",
       "base": true,
       "max_zoom": 19,
       "min_zoom": 1,
       "name": "OpenStreetMap.Mapnik",
       "options": [
        "attribution",
        "bounds",
        "detect_retina",
        "max_native_zoom",
        "max_zoom",
        "min_native_zoom",
        "min_zoom",
        "no_wrap",
        "tile_size",
        "tms",
        "zoom_offset"
       ],
       "url": "https://tile.openstreetmap.org/{z}/{x}/{y}.png"
      }
     },
     "0750b850aaba4f93affa2b88e632aa49": {
      "model_module": "@jupyter-widgets/base",
      "model_module_version": "2.0.0",
      "model_name": "LayoutModel",
      "state": {}
     },
     "132be69b28844b76ab858f92d74d3e24": {
      "model_module": "@jupyter-widgets/controls",
      "model_module_version": "2.0.0",
      "model_name": "DescriptionStyleModel",
      "state": {
       "description_width": ""
      }
     },
     "39599c9a46ca4b16945ea4de5f78a6ba": {
      "model_module": "jupyter-leaflet",
      "model_module_version": "^0.17",
      "model_name": "LeafletAttributionControlModel",
      "state": {
       "_model_module_version": "^0.17",
       "_view_module_version": "^0.17",
       "options": [
        "position",
        "prefix"
       ],
       "position": "bottomright",
       "prefix": "ipyleaflet"
      }
     },
     "3c4373d83d3f42c3a4a3e35f98910bb2": {
      "model_module": "@jupyter-widgets/base",
      "model_module_version": "2.0.0",
      "model_name": "LayoutModel",
      "state": {
       "width": "600px"
      }
     },
     "72e04529034c4aadbc8ee000c14498a0": {
      "model_module": "@jupyter-widgets/base",
      "model_module_version": "2.0.0",
      "model_name": "LayoutModel",
      "state": {}
     },
     "795afd00707f42519109e9b58245362e": {
      "model_module": "@jupyter-widgets/controls",
      "model_module_version": "2.0.0",
      "model_name": "VBoxModel",
      "state": {
       "_dom_classes": [
        "widget-interact"
       ],
       "children": [
        "IPY_MODEL_cecfb0ae5d1345d993c80a08a3bcc475",
        "IPY_MODEL_cbb7ad77c5de40db9e6eed6953e1087d"
       ],
       "layout": "IPY_MODEL_0750b850aaba4f93affa2b88e632aa49"
      }
     },
     "9f75ebb880dd4da8a54049083dcf81c0": {
      "model_module": "jupyter-leaflet",
      "model_module_version": "^0.17",
      "model_name": "LeafletGeoJSONModel",
      "state": {
       "_model_module_version": "^0.17",
       "_view_module_version": "^0.17",
       "data": {
        "coordinates": [
         [
          [
           149.156579,
           -1.062179
          ],
          [
           149.1566143,
           -1.0620175
          ],
          [
           149.1569676,
           -1.0621077
          ],
          [
           149.1574643,
           -1.0598367
          ],
          [
           149.3884043,
           -1.1234127
          ],
          [
           149.3558375,
           -1.2722149
          ],
          [
           149.3233036,
           -1.4209901
          ],
          [
           149.3195944,
           -1.437957
          ],
          [
           149.2908642,
           -1.5690073
          ],
          [
           149.2582501,
           -1.7176229
          ],
          [
           149.2256726,
           -1.8661824
          ],
          [
           149.2190812,
           -1.8962567
          ],
          [
           148.7976723,
           -1.8968179
          ],
          [
           148.7969634,
           -0.9665262
          ],
          [
           148.9032672,
           -0.993601
          ],
          [
           148.9445828,
           -1.0041557
          ],
          [
           148.9531019,
           -1.0063451
          ],
          [
           148.9528155,
           -1.0076522
          ],
          [
           148.9531448,
           -1.0077372
          ],
          [
           148.9531199,
           -1.0078509
          ],
          [
           148.9532154,
           -1.0078757
          ],
          [
           148.9531189,
           -1.008315
          ],
          [
           148.9533063,
           -1.0083635
          ],
          [
           148.9532136,
           -1.0087869
          ],
          [
           148.9533906,
           -1.0088326
          ],
          [
           148.9533662,
           -1.008944
          ],
          [
           148.9534674,
           -1.0089701
          ],
          [
           148.9532066,
           -1.010161
          ],
          [
           149.156579,
           -1.062179
          ]
         ]
        ],
        "type": "Polygon"
       }
      }
     },
     "a7dd1266ed094e2da6b0caf398647843": {
      "model_module": "jupyter-leaflet",
      "model_module_version": "^0.17",
      "model_name": "LeafletMapStyleModel",
      "state": {
       "_model_module_version": "^0.17"
      }
     },
     "bfeb82a071f64b9f9f3190dfa28a7c4d": {
      "model_module": "jupyter-leaflet",
      "model_module_version": "^0.17",
      "model_name": "LeafletMapStyleModel",
      "state": {
       "_model_module_version": "^0.17",
       "cursor": "move"
      }
     },
     "cbb7ad77c5de40db9e6eed6953e1087d": {
      "model_module": "@jupyter-widgets/output",
      "model_module_version": "1.0.0",
      "model_name": "OutputModel",
      "state": {
       "layout": "IPY_MODEL_72e04529034c4aadbc8ee000c14498a0",
       "outputs": [
        {
         "name": "stdout",
         "output_type": "stream",
         "text": "S2B_MSIL2A_20230401T003709_R059_T55MGU_20230401T043754 2023-04-01T00:37:09.024000+00:00\n"
        }
       ]
      }
     },
     "cbddc0bd7fc5460d90a6ee97ee068841": {
      "model_module": "@jupyter-widgets/base",
      "model_module_version": "2.0.0",
      "model_name": "LayoutModel",
      "state": {}
     },
     "cecfb0ae5d1345d993c80a08a3bcc475": {
      "model_module": "@jupyter-widgets/controls",
      "model_module_version": "2.0.0",
      "model_name": "DropdownModel",
      "state": {
       "_options_labels": [
        "<Item id=S2B_MSIL2A_20230401T001159_R059_T11XML_20230401T021155>",
        "<Item id=S2B_MSIL2A_20230401T001159_R059_T11XMK_20230401T021508>",
        "<Item id=S2B_MSIL2A_20230401T001159_R059_T11XMJ_20230401T020832>",
        "<Item id=S2B_MSIL2A_20230401T001159_R059_T10XES_20230401T022239>",
        "<Item id=S2B_MSIL2A_20230401T001159_R059_T10XER_20230401T021453>",
        "<Item id=S2B_MSIL2A_20230401T001159_R059_T10XEQ_20230401T021352>",
        "<Item id=S2B_MSIL2A_20230401T001159_R059_T10XEP_20230401T020910>",
        "<Item id=S2B_MSIL2A_20230401T001159_R059_T10XDR_20230401T022646>",
        "<Item id=S2B_MSIL2A_20230401T001159_R059_T10XDQ_20230401T021925>",
        "<Item id=S2B_MSIL2A_20230401T001159_R059_T10XDP_20230401T021842>",
        "<Item id=S2B_MSIL2A_20230401T001159_R059_T09XWM_20230401T021558>",
        "<Item id=S2B_MSIL2A_20230401T001159_R059_T09XWL_20230401T021336>",
        "<Item id=S2B_MSIL2A_20230401T001159_R059_T09XWK_20230401T021427>",
        "<Item id=S2B_MSIL2A_20230401T001159_R059_T09XWJ_20230401T022515>",
        "<Item id=S2B_MSIL2A_20230401T001159_R059_T09XVL_20230401T021532>",
        "<Item id=S2B_MSIL2A_20230401T001159_R059_T09XVK_20230401T021920>",
        "<Item id=S2B_MSIL2A_20230401T001159_R059_T09XVJ_20230401T021319>",
        "<Item id=S2B_MSIL2A_20230401T001159_R059_T08XNS_20230401T021359>",
        "<Item id=S2B_MSIL2A_20230401T001159_R059_T08XNR_20230401T021555>",
        "<Item id=S2B_MSIL2A_20230401T001159_R059_T08XNQ_20230401T021428>",
        "<Item id=S2B_MSIL2A_20230401T001159_R059_T08XNP_20230401T021217>",
        "<Item id=S2B_MSIL2A_20230401T001159_R059_T08XMR_20230401T021352>",
        "<Item id=S2B_MSIL2A_20230401T001159_R059_T08XMQ_20230401T021206>",
        "<Item id=S2B_MSIL2A_20230401T001159_R059_T08XMP_20230401T021015>",
        "<Item id=S2B_MSIL2A_20230401T001159_R059_T07XEM_20230401T021417>",
        "<Item id=S2B_MSIL2A_20230401T001159_R059_T07XEL_20230401T021350>",
        "<Item id=S2B_MSIL2A_20230401T001159_R059_T07XEK_20230401T021353>",
        "<Item id=S2B_MSIL2A_20230401T001159_R059_T07XEJ_20230401T021154>",
        "<Item id=S2B_MSIL2A_20230401T001159_R059_T07XDL_20230401T021016>",
        "<Item id=S2B_MSIL2A_20230401T001159_R059_T06XWS_20230401T021248>",
        "<Item id=S2B_MSIL2A_20230401T001159_R059_T06XWR_20230401T020913>",
        "<Item id=S2B_MSIL2A_20230401T001619_R059_T60XVF_20230401T022453>",
        "<Item id=S2B_MSIL2A_20230401T001619_R059_T60WWV_20230401T022639>",
        "<Item id=S2B_MSIL2A_20230401T001619_R059_T60WWU_20230401T022114>",
        "<Item id=S2B_MSIL2A_20230401T001619_R059_T60WWC_20230401T022405>",
        "<Item id=S2B_MSIL2A_20230401T001619_R059_T60WWB_20230401T022445>",
        "<Item id=S2B_MSIL2A_20230401T001619_R059_T60WWA_20230401T022605>",
        "<Item id=S2B_MSIL2A_20230401T001619_R059_T60WVV_20230401T022510>",
        "<Item id=S2B_MSIL2A_20230401T001619_R059_T60WVU_20230401T022502>",
        "<Item id=S2B_MSIL2A_20230401T001619_R059_T60WVT_20230401T041642>",
        "<Item id=S2B_MSIL2A_20230401T001619_R059_T60WVS_20230401T041351>",
        "<Item id=S2B_MSIL2A_20230401T001619_R059_T60WVE_20230401T022501>",
        "<Item id=S2B_MSIL2A_20230401T001619_R059_T60WVD_20230401T022623>",
        "<Item id=S2B_MSIL2A_20230401T001619_R059_T60WVC_20230401T022331>",
        "<Item id=S2B_MSIL2A_20230401T001619_R059_T60WVB_20230401T022412>",
        "<Item id=S2B_MSIL2A_20230401T001619_R059_T60WVA_20230401T023244>",
        "<Item id=S2B_MSIL2A_20230401T001619_R059_T60VUR_20230401T034843>",
        "<Item id=S2B_MSIL2A_20230401T001619_R059_T60VUQ_20230401T041335>",
        "<Item id=S2B_MSIL2A_20230401T001619_R059_T59XPA_20230401T022459>",
        "<Item id=S2B_MSIL2A_20230401T001619_R059_T59WPV_20230401T022305>",
        "<Item id=S2B_MSIL2A_20230401T001619_R059_T59WPU_20230401T022507>",
        "<Item id=S2B_MSIL2A_20230401T001619_R059_T59WPT_20230401T023955>",
        "<Item id=S2B_MSIL2A_20230401T001619_R059_T59WPS_20230401T023650>",
        "<Item id=S2B_MSIL2A_20230401T001619_R059_T59WPR_20230401T022635>",
        "<Item id=S2B_MSIL2A_20230401T001619_R059_T59WPQ_20230401T022320>",
        "<Item id=S2B_MSIL2A_20230401T001619_R059_T59WPP_20230401T022403>",
        "<Item id=S2B_MSIL2A_20230401T001619_R059_T59WPN_20230401T035040>",
        "<Item id=S2B_MSIL2A_20230401T001619_R059_T59WPM_20230401T041650>",
        "<Item id=S2B_MSIL2A_20230401T001619_R059_T59WNT_20230401T022747>",
        "<Item id=S2B_MSIL2A_20230401T001619_R059_T59WNS_20230401T022613>",
        "<Item id=S2B_MSIL2A_20230401T001619_R059_T59WNR_20230401T022734>",
        "<Item id=S2B_MSIL2A_20230401T001619_R059_T59WNQ_20230401T022342>",
        "<Item id=S2B_MSIL2A_20230401T001619_R059_T59WNP_20230401T041638>",
        "<Item id=S2B_MSIL2A_20230401T001619_R059_T59WNN_20230401T035112>",
        "<Item id=S2B_MSIL2A_20230401T001619_R059_T59WNM_20230401T042208>",
        "<Item id=S2B_MSIL2A_20230401T001619_R059_T59WMR_20230401T022450>",
        "<Item id=S2B_MSIL2A_20230401T001619_R059_T59WMQ_20230401T022458>",
        "<Item id=S2B_MSIL2A_20230401T001619_R059_T59WMP_20230401T041643>",
        "<Item id=S2B_MSIL2A_20230401T001619_R059_T59WMN_20230401T041837>",
        "<Item id=S2B_MSIL2A_20230401T001619_R059_T59WMM_20230401T041654>",
        "<Item id=S2B_MSIL2A_20230401T001619_R059_T59VPL_20230401T041618>",
        "<Item id=S2B_MSIL2A_20230401T001619_R059_T59VPK_20230401T041401>",
        "<Item id=S2B_MSIL2A_20230401T001619_R059_T59VNL_20230401T041921>",
        "<Item id=S2B_MSIL2A_20230401T001619_R059_T59VNK_20230401T043807>",
        "<Item id=S2B_MSIL2A_20230401T001619_R059_T59VNJ_20230401T041640>",
        "<Item id=S2B_MSIL2A_20230401T001619_R059_T59VNH_20230401T041446>",
        "<Item id=S2B_MSIL2A_20230401T001619_R059_T59VML_20230401T041657>",
        "<Item id=S2B_MSIL2A_20230401T001619_R059_T59VMK_20230401T041650>",
        "<Item id=S2B_MSIL2A_20230401T001619_R059_T59VMJ_20230401T041651>",
        "<Item id=S2B_MSIL2A_20230401T001619_R059_T59VMH_20230401T041652>",
        "<Item id=S2B_MSIL2A_20230401T001619_R059_T59VMG_20230401T041645>",
        "<Item id=S2B_MSIL2A_20230401T001619_R059_T59VMF_20230401T034854>",
        "<Item id=S2B_MSIL2A_20230401T001619_R059_T59VME_20230401T041639>",
        "<Item id=S2B_MSIL2A_20230401T001619_R059_T59VLL_20230401T041652>",
        "<Item id=S2B_MSIL2A_20230401T001619_R059_T59VLK_20230401T041654>",
        "<Item id=S2B_MSIL2A_20230401T001619_R059_T59VLJ_20230401T041651>",
        "<Item id=S2B_MSIL2A_20230401T001619_R059_T59VLH_20230401T041651>",
        "<Item id=S2B_MSIL2A_20230401T001619_R059_T59VLG_20230401T041656>",
        "<Item id=S2B_MSIL2A_20230401T001619_R059_T59VLF_20230401T041652>",
        "<Item id=S2B_MSIL2A_20230401T001619_R059_T59VLE_20230401T041649>",
        "<Item id=S2B_MSIL2A_20230401T001619_R059_T59VLD_20230401T041642>",
        "<Item id=S2B_MSIL2A_20230401T001619_R059_T59VLC_20230401T041500>",
        "<Item id=S2B_MSIL2A_20230401T001619_R059_T58WFU_20230401T034840>",
        "<Item id=S2B_MSIL2A_20230401T001619_R059_T58WFT_20230401T041643>",
        "<Item id=S2B_MSIL2A_20230401T001619_R059_T58WFS_20230401T041648>",
        "<Item id=S2B_MSIL2A_20230401T001619_R059_T58VFR_20230401T041652>",
        "<Item id=S2B_MSIL2A_20230401T001619_R059_T58VFQ_20230401T041656>",
        "<Item id=S2B_MSIL2A_20230401T001619_R059_T58VFP_20230401T041651>",
        "<Item id=S2B_MSIL2A_20230401T001619_R059_T58VFN_20230401T041654>",
        "<Item id=S2B_MSIL2A_20230401T001619_R059_T58VFM_20230401T043504>",
        "<Item id=S2B_MSIL2A_20230401T001619_R059_T60XVF_20230401T022453>",
        "<Item id=S2B_MSIL2A_20230401T001619_R059_T60WWV_20230401T022639>",
        "<Item id=S2B_MSIL2A_20230401T001619_R059_T60WWU_20230401T022114>",
        "<Item id=S2B_MSIL2A_20230401T001619_R059_T60WWC_20230401T022405>",
        "<Item id=S2B_MSIL2A_20230401T001619_R059_T60WWB_20230401T022445>",
        "<Item id=S2B_MSIL2A_20230401T001619_R059_T60WWA_20230401T022605>",
        "<Item id=S2B_MSIL2A_20230401T001619_R059_T60WVV_20230401T022510>",
        "<Item id=S2B_MSIL2A_20230401T001619_R059_T60WVU_20230401T022502>",
        "<Item id=S2B_MSIL2A_20230401T001619_R059_T60WVT_20230401T041642>",
        "<Item id=S2B_MSIL2A_20230401T001619_R059_T60WVS_20230401T041351>",
        "<Item id=S2B_MSIL2A_20230401T001619_R059_T60WVE_20230401T022501>",
        "<Item id=S2B_MSIL2A_20230401T001619_R059_T60WVD_20230401T022623>",
        "<Item id=S2B_MSIL2A_20230401T001619_R059_T60WVC_20230401T022331>",
        "<Item id=S2B_MSIL2A_20230401T001619_R059_T60WVB_20230401T022412>",
        "<Item id=S2B_MSIL2A_20230401T001619_R059_T60WVA_20230401T023244>",
        "<Item id=S2B_MSIL2A_20230401T001619_R059_T60VUR_20230401T034843>",
        "<Item id=S2B_MSIL2A_20230401T001619_R059_T60VUQ_20230401T041335>",
        "<Item id=S2B_MSIL2A_20230401T001619_R059_T59XPA_20230401T022459>",
        "<Item id=S2B_MSIL2A_20230401T001619_R059_T59WPV_20230401T022305>",
        "<Item id=S2B_MSIL2A_20230401T001619_R059_T59WPU_20230401T022507>",
        "<Item id=S2B_MSIL2A_20230401T001619_R059_T59WPT_20230401T023955>",
        "<Item id=S2B_MSIL2A_20230401T001619_R059_T59WPS_20230401T023650>",
        "<Item id=S2B_MSIL2A_20230401T001619_R059_T59WPR_20230401T022635>",
        "<Item id=S2B_MSIL2A_20230401T001619_R059_T59WPQ_20230401T022320>",
        "<Item id=S2B_MSIL2A_20230401T001619_R059_T59WPP_20230401T022403>",
        "<Item id=S2B_MSIL2A_20230401T001619_R059_T59WPN_20230401T035040>",
        "<Item id=S2B_MSIL2A_20230401T001619_R059_T59WPM_20230401T041650>",
        "<Item id=S2B_MSIL2A_20230401T001619_R059_T59WNT_20230401T022747>",
        "<Item id=S2B_MSIL2A_20230401T001619_R059_T59WNS_20230401T022613>",
        "<Item id=S2B_MSIL2A_20230401T001619_R059_T59WNR_20230401T022734>",
        "<Item id=S2B_MSIL2A_20230401T001619_R059_T59WNQ_20230401T022342>",
        "<Item id=S2B_MSIL2A_20230401T001619_R059_T59WNP_20230401T041638>",
        "<Item id=S2B_MSIL2A_20230401T001619_R059_T59WNN_20230401T035112>",
        "<Item id=S2B_MSIL2A_20230401T001619_R059_T59WNM_20230401T042208>",
        "<Item id=S2B_MSIL2A_20230401T001619_R059_T59WMR_20230401T022450>",
        "<Item id=S2B_MSIL2A_20230401T001619_R059_T59WMQ_20230401T022458>",
        "<Item id=S2B_MSIL2A_20230401T001619_R059_T59WMP_20230401T041643>",
        "<Item id=S2B_MSIL2A_20230401T001619_R059_T59WMN_20230401T041837>",
        "<Item id=S2B_MSIL2A_20230401T001619_R059_T59WMM_20230401T041654>",
        "<Item id=S2B_MSIL2A_20230401T001619_R059_T59VPL_20230401T041618>",
        "<Item id=S2B_MSIL2A_20230401T001619_R059_T59VPK_20230401T041401>",
        "<Item id=S2B_MSIL2A_20230401T001619_R059_T59VNL_20230401T041921>",
        "<Item id=S2B_MSIL2A_20230401T001619_R059_T59VNK_20230401T043807>",
        "<Item id=S2B_MSIL2A_20230401T001619_R059_T59VNJ_20230401T041640>",
        "<Item id=S2B_MSIL2A_20230401T001619_R059_T59VNH_20230401T041446>",
        "<Item id=S2B_MSIL2A_20230401T001619_R059_T59VML_20230401T041657>",
        "<Item id=S2B_MSIL2A_20230401T001619_R059_T59VMK_20230401T041650>",
        "<Item id=S2B_MSIL2A_20230401T001619_R059_T59VMJ_20230401T041651>",
        "<Item id=S2B_MSIL2A_20230401T001619_R059_T59VMH_20230401T041652>",
        "<Item id=S2B_MSIL2A_20230401T001619_R059_T59VMG_20230401T041645>",
        "<Item id=S2B_MSIL2A_20230401T001619_R059_T59VMF_20230401T034854>",
        "<Item id=S2B_MSIL2A_20230401T001619_R059_T59VME_20230401T041639>",
        "<Item id=S2B_MSIL2A_20230401T001619_R059_T59VLL_20230401T041652>",
        "<Item id=S2B_MSIL2A_20230401T001619_R059_T59VLK_20230401T041654>",
        "<Item id=S2B_MSIL2A_20230401T001619_R059_T59VLJ_20230401T041651>",
        "<Item id=S2B_MSIL2A_20230401T001619_R059_T59VLH_20230401T041651>",
        "<Item id=S2B_MSIL2A_20230401T001619_R059_T59VLG_20230401T041656>",
        "<Item id=S2B_MSIL2A_20230401T001619_R059_T59VLF_20230401T041652>",
        "<Item id=S2B_MSIL2A_20230401T001619_R059_T59VLE_20230401T041649>",
        "<Item id=S2B_MSIL2A_20230401T001619_R059_T59VLD_20230401T041642>",
        "<Item id=S2B_MSIL2A_20230401T001619_R059_T59VLC_20230401T041500>",
        "<Item id=S2B_MSIL2A_20230401T001619_R059_T58WFU_20230401T034840>",
        "<Item id=S2B_MSIL2A_20230401T001619_R059_T58WFT_20230401T041643>",
        "<Item id=S2B_MSIL2A_20230401T001619_R059_T58WFS_20230401T041648>",
        "<Item id=S2B_MSIL2A_20230401T001619_R059_T58VFR_20230401T041652>",
        "<Item id=S2B_MSIL2A_20230401T001619_R059_T58VFQ_20230401T041656>",
        "<Item id=S2B_MSIL2A_20230401T001619_R059_T58VFP_20230401T041651>",
        "<Item id=S2B_MSIL2A_20230401T001619_R059_T58VFN_20230401T041654>",
        "<Item id=S2B_MSIL2A_20230401T002959_R059_T56RPN_20230401T032752>",
        "<Item id=S2B_MSIL2A_20230401T002959_R059_T56RNN_20230401T032632>",
        "<Item id=S2B_MSIL2A_20230401T002959_R059_T56RMN_20230401T032633>",
        "<Item id=S2B_MSIL2A_20230401T002959_R059_T56QQM_20230401T032632>",
        "<Item id=S2B_MSIL2A_20230401T002959_R059_T56QQL_20230401T032614>",
        "<Item id=S2B_MSIL2A_20230401T002959_R059_T56QPM_20230401T032806>",
        "<Item id=S2B_MSIL2A_20230401T002959_R059_T56QPL_20230401T032646>",
        "<Item id=S2B_MSIL2A_20230401T002959_R059_T56QNM_20230401T032759>",
        "<Item id=S2B_MSIL2A_20230401T002959_R059_T56QMM_20230401T032618>",
        "<Item id=S2B_MSIL2A_20230401T003419_R059_T56PLQ_20230401T032756>",
        "<Item id=S2B_MSIL2A_20230401T003419_R059_T56PKR_20230401T032630>",
        "<Item id=S2B_MSIL2A_20230401T003419_R059_T56PKQ_20230401T032701>",
        "<Item id=S2B_MSIL2A_20230401T003419_R059_T56NLP_20230401T032622>",
        "<Item id=S2B_MSIL2A_20230401T003419_R059_T56NLN_20230401T032631>",
        "<Item id=S2B_MSIL2A_20230401T003419_R059_T56NKP_20230401T032631>",
        "<Item id=S2B_MSIL2A_20230401T003419_R059_T56NKN_20230401T032644>",
        "<Item id=S2B_MSIL2A_20230401T003419_R059_T56NKM_20230401T032756>",
        "<Item id=S2B_MSIL2A_20230401T003419_R059_T55PHL_20230401T032755>",
        "<Item id=S2B_MSIL2A_20230401T003419_R059_T55PHK_20230401T032706>",
        "<Item id=S2B_MSIL2A_20230401T003419_R059_T55PGL_20230401T032631>",
        "<Item id=S2B_MSIL2A_20230401T003419_R059_T55PGK_20230401T032808>",
        "<Item id=S2B_MSIL2A_20230401T003419_R059_T55PFK_20230401T032631>",
        "<Item id=S2B_MSIL2A_20230401T003419_R059_T55NHJ_20230401T032807>",
        "<Item id=S2B_MSIL2A_20230401T003419_R059_T55NHH_20230401T032648>",
        "<Item id=S2B_MSIL2A_20230401T003419_R059_T55NHG_20230401T032757>",
        "<Item id=S2B_MSIL2A_20230401T003419_R059_T55NGJ_20230401T032704>",
        "<Item id=S2B_MSIL2A_20230401T003419_R059_T55NGH_20230401T032646>",
        "<Item id=S2B_MSIL2A_20230401T003419_R059_T55NGG_20230401T032640>",
        "<Item id=S2B_MSIL2A_20230401T003419_R059_T55NFJ_20230401T032618>",
        "<Item id=S2B_MSIL2A_20230401T003419_R059_T55NFH_20230401T032623>",
        "<Item id=S2B_MSIL2A_20230401T003419_R059_T55NFG_20230401T032616>",
        "<Item id=S2B_MSIL2A_20230401T003709_R059_T55MGU_20230401T043754>"
       ],
       "description": "item",
       "index": 199,
       "layout": "IPY_MODEL_cbddc0bd7fc5460d90a6ee97ee068841",
       "style": "IPY_MODEL_132be69b28844b76ab858f92d74d3e24"
      }
     },
     "d98fca441cc247eab1410fda85e6981b": {
      "model_module": "jupyter-leaflet",
      "model_module_version": "^0.17",
      "model_name": "LeafletMapModel",
      "state": {
       "_model_module_version": "^0.17",
       "_view_module_version": "^0.17",
       "bottom": 1232,
       "center": [
        -1.4061088354351594,
        149.06250000000003
       ],
       "controls": [
        "IPY_MODEL_de844a3f020f4873b7f5bceeb6f9cc72",
        "IPY_MODEL_39599c9a46ca4b16945ea4de5f78a6ba"
       ],
       "default_style": "IPY_MODEL_a7dd1266ed094e2da6b0caf398647843",
       "dragging_style": "IPY_MODEL_bfeb82a071f64b9f9f3190dfa28a7c4d",
       "east": 201.79687500000003,
       "fullscreen": false,
       "interpolation": "bilinear",
       "layers": [
        "IPY_MODEL_05afbd624478496fa8acafb97fc360a2",
        "IPY_MODEL_9f75ebb880dd4da8a54049083dcf81c0"
       ],
       "layout": "IPY_MODEL_3c4373d83d3f42c3a4a3e35f98910bb2",
       "left": 1572,
       "modisdate": "2023-04-13",
       "north": 31.952162238024975,
       "options": [
        "bounce_at_zoom_limits",
        "box_zoom",
        "center",
        "close_popup_on_click",
        "double_click_zoom",
        "dragging",
        "fullscreen",
        "inertia",
        "inertia_deceleration",
        "inertia_max_speed",
        "interpolation",
        "keyboard",
        "keyboard_pan_offset",
        "keyboard_zoom_offset",
        "max_zoom",
        "min_zoom",
        "prefer_canvas",
        "scroll_wheel_zoom",
        "tap",
        "tap_tolerance",
        "touch_zoom",
        "world_copy_jump",
        "zoom",
        "zoom_animation_threshold",
        "zoom_delta",
        "zoom_snap"
       ],
       "prefer_canvas": false,
       "right": 2172,
       "south": -34.30714385628803,
       "style": "IPY_MODEL_a7dd1266ed094e2da6b0caf398647843",
       "top": 832,
       "west": 96.32812500000001,
       "window_url": "https://pcc-staging.westeurope.cloudapp.azure.com/compute/user/taugspurger@microsoft.com/lab/tree/sentinel-3/interactive-browser.ipynb",
       "zoom": 3
      }
     },
     "de844a3f020f4873b7f5bceeb6f9cc72": {
      "model_module": "jupyter-leaflet",
      "model_module_version": "^0.17",
      "model_name": "LeafletZoomControlModel",
      "state": {
       "_model_module_version": "^0.17",
       "_view_module_version": "^0.17",
       "options": [
        "position",
        "zoom_in_text",
        "zoom_in_title",
        "zoom_out_text",
        "zoom_out_title"
       ]
      }
     },
     "e9f1ece44ab74fcc88223b3082d63ad3": {
      "model_module": "jupyter-leaflet",
      "model_module_version": "^0.17",
      "model_name": "LeafletMapStyleModel",
      "state": {
       "_model_module_version": "^0.17"
      }
     }
    },
    "version_major": 2,
    "version_minor": 0
   }
  }
 },
 "nbformat": 4,
 "nbformat_minor": 5
}
