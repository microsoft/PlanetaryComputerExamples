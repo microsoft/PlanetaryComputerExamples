{
 "cells": [
  {
   "cell_type": "markdown",
   "id": "4a99071f-ea18-4b19-9b62-de8be5c03d72",
   "metadata": {},
   "source": [
    "## Interactively browse STAC footprints\n",
    "\n",
    "STAC items contain information about the spatio-temporal footprint of the data they catalog. Using [Jupyter Widgets](https://ipywidgets.readthedocs.io/en/latest/#), in particular [`ipywidgets.interact`](https://ipywidgets.readthedocs.io/en/latest/examples/Using%20Interact.html) and [`ipyleaflet`](https://ipyleaflet.readthedocs.io/en/latest/index.html), we can quickly build an interactive tool for visualizing item footprints. This can be helpful for understanding the path a satellite takes over earth or debugging strange looking item footprints.\n",
    "\n",
    "We'll start by grabbing some Sentinel-2 L2A items from the Planetary Computer's STAC API."
   ]
  },
  {
   "cell_type": "code",
   "execution_count": 1,
   "id": "242551be-9f6d-4cb6-8f55-9dcd2fe77eb3",
   "metadata": {
    "tags": []
   },
   "outputs": [],
   "source": [
    "import pystac_client\n",
    "\n",
    "catalog = pystac_client.Client.open(\n",
    "    \"https://planetarycomputer.microsoft.com/api/stac/v1\"\n",
    ")\n",
    "\n",
    "search = catalog.search(\n",
    "    collections=[\"sentinel-2-l2a\"],\n",
    "    datetime=\"2023-04-01\",\n",
    "    query={\"platform\": {\"eq\": \"Sentinel-2B\"}},\n",
    "    sortby=\"datetime\",\n",
    "    max_items=200,\n",
    ")\n",
    "\n",
    "items = search.item_collection()"
   ]
  },
  {
   "cell_type": "markdown",
   "id": "d13aea35-99d2-4445-8f44-9d257374abaa",
   "metadata": {},
   "source": [
    "Next, we'll build up our tool. We start with our placeholders:\n",
    "\n",
    "1. An `ipyleaflet.Map` object\n",
    "2. An empty `ipyleaflet.GeoJSON` layer, which we add to the map\n",
    "\n",
    "Then we use `ipywidgets.interact` to browse the list of items. This gives us a dropdown with the list of items, which we can scroll through to select a single item for display.\n",
    "The body of the function updates the state of our map to set\n",
    "\n",
    "1. The center of the map to the center of the selected item\n",
    "2. The `data` for the GeoJSON layer, to display the selected item's footprint\n"
   ]
  },
  {
   "cell_type": "code",
   "execution_count": 2,
   "id": "2b5bad41-e5a9-446d-9ad6-a2d4ce52aca0",
   "metadata": {
    "tags": []
   },
   "outputs": [
    {
     "data": {
      "application/vnd.jupyter.widget-view+json": {
       "model_id": "a3f01b05bebb4cc18b9058706f6dc3c1",
       "version_major": 2,
       "version_minor": 0
      },
      "text/plain": [
       "interactive(children=(Dropdown(description='item', options=(<Item id=S2B_MSIL2A_20230401T001159_R059_T11XML_20…"
      ]
     },
     "metadata": {},
     "output_type": "display_data"
    },
    {
     "data": {
      "application/vnd.jupyter.widget-view+json": {
       "model_id": "dce02d1b10444fc18a6911f80b4a8606",
       "version_major": 2,
       "version_minor": 0
      },
      "text/plain": [
       "Map(center=[81.43518005032495, -121.3895405831003], controls=(ZoomControl(options=['position', 'zoom_in_text',…"
      ]
     },
     "execution_count": 2,
     "metadata": {},
     "output_type": "execute_result"
    }
   ],
   "source": [
    "import ipywidgets\n",
    "import ipyleaflet\n",
    "import shapely.geometry\n",
    "\n",
    "m = ipyleaflet.Map(zoom=3)\n",
    "m.layout.width = \"600px\"\n",
    "layer = ipyleaflet.GeoJSON()\n",
    "m.add(layer)\n",
    "\n",
    "\n",
    "@ipywidgets.interact(item=items)\n",
    "def browse(item):\n",
    "    shape = shapely.geometry.shape(item)\n",
    "    m.center = tuple(shape.centroid.coords[0])[::-1]\n",
    "\n",
    "    layer.data = item.geometry\n",
    "    print(item.id, item.datetime.isoformat())\n",
    "\n",
    "\n",
    "m"
   ]
  },
  {
   "cell_type": "markdown",
   "id": "75d54acb-8c91-4f05-9d9c-eb0dfa68c0af",
   "metadata": {},
   "source": [
    "Here's an example of using the browser:\n",
    "\n",
    "<video controls width=\"600\" src=\"https://ai4edatasetspublicassets.blob.core.windows.net/assets/pc_video/interact-stac-browser-web.mp4\">\n",
    "</video>"
   ]
  }
 ],
 "metadata": {
  "kernelspec": {
   "display_name": "Python 3 (ipykernel)",
   "language": "python",
   "name": "python3"
  },
  "language_info": {
   "codemirror_mode": {
    "name": "ipython",
    "version": 3
   },
   "file_extension": ".py",
   "mimetype": "text/x-python",
   "name": "python",
   "nbconvert_exporter": "python",
   "pygments_lexer": "ipython3",
   "version": "3.10.9"
  },
  "widgets": {
   "application/vnd.jupyter.widget-state+json": {
    "state": {
     "1131af1b12d34b6ab397f4671ec11d11": {
      "model_module": "@jupyter-widgets/controls",
      "model_module_version": "2.0.0",
      "model_name": "DescriptionStyleModel",
      "state": {
       "description_width": ""
      }
     },
     "2bb9985d36e14accba07c3ac79e58ca4": {
      "model_module": "@jupyter-widgets/base",
      "model_module_version": "2.0.0",
      "model_name": "LayoutModel",
      "state": {
       "width": "600px"
      }
     },
     "39ca512581784843bb385d761218ccad": {
      "model_module": "jupyter-leaflet",
      "model_module_version": "^0.17",
      "model_name": "LeafletTileLayerModel",
      "state": {
       "_model_module_version": "^0.17",
       "_view_module_version": "^0.17",
       "attribution": "&copy; <a href=\"https://www.openstreetmap.org/copyright\">OpenStreetMap</a> contributors",
       "base": true,
       "max_zoom": 19,
       "min_zoom": 1,
       "name": "OpenStreetMap.Mapnik",
       "options": [
        "attribution",
        "bounds",
        "detect_retina",
        "max_native_zoom",
        "max_zoom",
        "min_native_zoom",
        "min_zoom",
        "no_wrap",
        "tile_size",
        "tms",
        "zoom_offset"
       ],
       "url": "https://tile.openstreetmap.org/{z}/{x}/{y}.png"
      }
     },
     "3f0e3e76406440d6aacef901ecce2ea0": {
      "model_module": "jupyter-leaflet",
      "model_module_version": "^0.17",
      "model_name": "LeafletMapStyleModel",
      "state": {
       "_model_module_version": "^0.17",
       "cursor": "move"
      }
     },
     "419167865b85451d91f3330be1c0c3a6": {
      "model_module": "jupyter-leaflet",
      "model_module_version": "^0.17",
      "model_name": "LeafletMapStyleModel",
      "state": {
       "_model_module_version": "^0.17"
      }
     },
     "500b22d34b1d4a0ba29d4c1b67bf8b56": {
      "model_module": "jupyter-leaflet",
      "model_module_version": "^0.17",
      "model_name": "LeafletGeoJSONModel",
      "state": {
       "_model_module_version": "^0.17",
       "_view_module_version": "^0.17",
       "data": {
        "coordinates": [
         [
          [
           -120.014725,
           81.9309989
          ],
          [
           -119.98935,
           81.8970757
          ],
          [
           -119.98349,
           81.897147
          ],
          [
           -119.98326,
           81.8968378
          ],
          [
           -119.97307,
           81.8969618
          ],
          [
           -119.907745,
           81.7904203
          ],
          [
           -119.87456,
           81.7360749
          ],
          [
           -119.83392,
           81.6689169
          ],
          [
           -119.8512,
           81.6687068
          ],
          [
           -119.85118,
           81.6686775
          ],
          [
           -119.85184,
           81.6686696
          ],
          [
           -119.74194,
           81.4666119
          ],
          [
           -119.73891,
           81.4666488
          ],
          [
           -119.73883,
           81.4665012
          ],
          [
           -119.72595,
           81.4666571
          ],
          [
           -119.62312,
           81.2390104
          ],
          [
           -119.638275,
           81.2388263
          ],
          [
           -119.638275,
           81.2388144
          ],
          [
           -119.63887,
           81.2388072
          ],
          [
           -119.56386,
           81.0356683
          ],
          [
           -119.561966,
           81.0356914
          ],
          [
           -119.561966,
           81.0356836
          ],
          [
           -119.560486,
           81.0357015
          ],
          [
           -119.560486,
           81.0356855
          ],
          [
           -119.55936,
           81.0356991
          ],
          [
           -119.55928,
           81.0354903
          ],
          [
           -119.557236,
           81.0355152
          ],
          [
           -119.55719,
           81.0354205
          ],
          [
           -119.54927,
           81.0355168
          ],
          [
           -119.52269,
           80.9513654
          ],
          [
           -122.69284,
           80.9292576
          ],
          [
           -123.37811,
           81.907481
          ],
          [
           -120.014725,
           81.9309989
          ]
         ]
        ],
        "type": "Polygon"
       }
      }
     },
     "5ad3ef4c674948a5b149ad66b5d881dd": {
      "model_module": "jupyter-leaflet",
      "model_module_version": "^0.17",
      "model_name": "LeafletAttributionControlModel",
      "state": {
       "_model_module_version": "^0.17",
       "_view_module_version": "^0.17",
       "options": [
        "position",
        "prefix"
       ],
       "position": "bottomright",
       "prefix": "ipyleaflet"
      }
     },
     "62c1097972aa431dbdf85c5fe7dd9c9f": {
      "model_module": "@jupyter-widgets/output",
      "model_module_version": "1.0.0",
      "model_name": "OutputModel",
      "state": {
       "layout": "IPY_MODEL_c9ce3b3fa9304db38f25f39007452c73",
       "outputs": [
        {
         "name": "stdout",
         "output_type": "stream",
         "text": "S2B_MSIL2A_20230401T001159_R059_T11XML_20230401T021155 2023-04-01T00:11:59.024000+00:00\n"
        }
       ]
      }
     },
     "718908141eea436bb5acda29fef5a3a1": {
      "model_module": "@jupyter-widgets/controls",
      "model_module_version": "2.0.0",
      "model_name": "DropdownModel",
      "state": {
       "_options_labels": [
        "<Item id=S2B_MSIL2A_20230401T001159_R059_T11XML_20230401T021155>",
        "<Item id=S2B_MSIL2A_20230401T001159_R059_T11XMK_20230401T021508>",
        "<Item id=S2B_MSIL2A_20230401T001159_R059_T11XMJ_20230401T020832>",
        "<Item id=S2B_MSIL2A_20230401T001159_R059_T10XES_20230401T022239>",
        "<Item id=S2B_MSIL2A_20230401T001159_R059_T10XER_20230401T021453>",
        "<Item id=S2B_MSIL2A_20230401T001159_R059_T10XEQ_20230401T021352>",
        "<Item id=S2B_MSIL2A_20230401T001159_R059_T10XEP_20230401T020910>",
        "<Item id=S2B_MSIL2A_20230401T001159_R059_T10XDR_20230401T022646>",
        "<Item id=S2B_MSIL2A_20230401T001159_R059_T10XDQ_20230401T021925>",
        "<Item id=S2B_MSIL2A_20230401T001159_R059_T10XDP_20230401T021842>",
        "<Item id=S2B_MSIL2A_20230401T001159_R059_T09XWM_20230401T021558>",
        "<Item id=S2B_MSIL2A_20230401T001159_R059_T09XWL_20230401T021336>",
        "<Item id=S2B_MSIL2A_20230401T001159_R059_T09XWK_20230401T021427>",
        "<Item id=S2B_MSIL2A_20230401T001159_R059_T09XWJ_20230401T022515>",
        "<Item id=S2B_MSIL2A_20230401T001159_R059_T09XVL_20230401T021532>",
        "<Item id=S2B_MSIL2A_20230401T001159_R059_T09XVK_20230401T021920>",
        "<Item id=S2B_MSIL2A_20230401T001159_R059_T09XVJ_20230401T021319>",
        "<Item id=S2B_MSIL2A_20230401T001159_R059_T08XNS_20230401T021359>",
        "<Item id=S2B_MSIL2A_20230401T001159_R059_T08XNR_20230401T021555>",
        "<Item id=S2B_MSIL2A_20230401T001159_R059_T08XNQ_20230401T021428>",
        "<Item id=S2B_MSIL2A_20230401T001159_R059_T08XNP_20230401T021217>",
        "<Item id=S2B_MSIL2A_20230401T001159_R059_T08XMR_20230401T021352>",
        "<Item id=S2B_MSIL2A_20230401T001159_R059_T08XMQ_20230401T021206>",
        "<Item id=S2B_MSIL2A_20230401T001159_R059_T08XMP_20230401T021015>",
        "<Item id=S2B_MSIL2A_20230401T001159_R059_T07XEM_20230401T021417>",
        "<Item id=S2B_MSIL2A_20230401T001159_R059_T07XEL_20230401T021350>",
        "<Item id=S2B_MSIL2A_20230401T001159_R059_T07XEK_20230401T021353>",
        "<Item id=S2B_MSIL2A_20230401T001159_R059_T07XEJ_20230401T021154>",
        "<Item id=S2B_MSIL2A_20230401T001159_R059_T07XDL_20230401T021016>",
        "<Item id=S2B_MSIL2A_20230401T001159_R059_T06XWS_20230401T021248>",
        "<Item id=S2B_MSIL2A_20230401T001159_R059_T06XWR_20230401T020913>",
        "<Item id=S2B_MSIL2A_20230401T001619_R059_T60XVF_20230401T022453>",
        "<Item id=S2B_MSIL2A_20230401T001619_R059_T60WWV_20230401T022639>",
        "<Item id=S2B_MSIL2A_20230401T001619_R059_T60WWU_20230401T022114>",
        "<Item id=S2B_MSIL2A_20230401T001619_R059_T60WWC_20230401T022405>",
        "<Item id=S2B_MSIL2A_20230401T001619_R059_T60WWB_20230401T022445>",
        "<Item id=S2B_MSIL2A_20230401T001619_R059_T60WWA_20230401T022605>",
        "<Item id=S2B_MSIL2A_20230401T001619_R059_T60WVV_20230401T022510>",
        "<Item id=S2B_MSIL2A_20230401T001619_R059_T60WVU_20230401T022502>",
        "<Item id=S2B_MSIL2A_20230401T001619_R059_T60WVT_20230401T041642>",
        "<Item id=S2B_MSIL2A_20230401T001619_R059_T60WVS_20230401T041351>",
        "<Item id=S2B_MSIL2A_20230401T001619_R059_T60WVE_20230401T022501>",
        "<Item id=S2B_MSIL2A_20230401T001619_R059_T60WVD_20230401T022623>",
        "<Item id=S2B_MSIL2A_20230401T001619_R059_T60WVC_20230401T022331>",
        "<Item id=S2B_MSIL2A_20230401T001619_R059_T60WVB_20230401T022412>",
        "<Item id=S2B_MSIL2A_20230401T001619_R059_T60WVA_20230401T023244>",
        "<Item id=S2B_MSIL2A_20230401T001619_R059_T60VUR_20230401T034843>",
        "<Item id=S2B_MSIL2A_20230401T001619_R059_T60VUQ_20230401T041335>",
        "<Item id=S2B_MSIL2A_20230401T001619_R059_T59XPA_20230401T022459>",
        "<Item id=S2B_MSIL2A_20230401T001619_R059_T59WPV_20230401T022305>",
        "<Item id=S2B_MSIL2A_20230401T001619_R059_T59WPU_20230401T022507>",
        "<Item id=S2B_MSIL2A_20230401T001619_R059_T59WPT_20230401T023955>",
        "<Item id=S2B_MSIL2A_20230401T001619_R059_T59WPS_20230401T023650>",
        "<Item id=S2B_MSIL2A_20230401T001619_R059_T59WPR_20230401T022635>",
        "<Item id=S2B_MSIL2A_20230401T001619_R059_T59WPQ_20230401T022320>",
        "<Item id=S2B_MSIL2A_20230401T001619_R059_T59WPP_20230401T022403>",
        "<Item id=S2B_MSIL2A_20230401T001619_R059_T59WPN_20230401T035040>",
        "<Item id=S2B_MSIL2A_20230401T001619_R059_T59WPM_20230401T041650>",
        "<Item id=S2B_MSIL2A_20230401T001619_R059_T59WNT_20230401T022747>",
        "<Item id=S2B_MSIL2A_20230401T001619_R059_T59WNS_20230401T022613>",
        "<Item id=S2B_MSIL2A_20230401T001619_R059_T59WNR_20230401T022734>",
        "<Item id=S2B_MSIL2A_20230401T001619_R059_T59WNQ_20230401T022342>",
        "<Item id=S2B_MSIL2A_20230401T001619_R059_T59WNP_20230401T041638>",
        "<Item id=S2B_MSIL2A_20230401T001619_R059_T59WNN_20230401T035112>",
        "<Item id=S2B_MSIL2A_20230401T001619_R059_T59WNM_20230401T042208>",
        "<Item id=S2B_MSIL2A_20230401T001619_R059_T59WMR_20230401T022450>",
        "<Item id=S2B_MSIL2A_20230401T001619_R059_T59WMQ_20230401T022458>",
        "<Item id=S2B_MSIL2A_20230401T001619_R059_T59WMP_20230401T041643>",
        "<Item id=S2B_MSIL2A_20230401T001619_R059_T59WMN_20230401T041837>",
        "<Item id=S2B_MSIL2A_20230401T001619_R059_T59WMM_20230401T041654>",
        "<Item id=S2B_MSIL2A_20230401T001619_R059_T59VPL_20230401T041618>",
        "<Item id=S2B_MSIL2A_20230401T001619_R059_T59VPK_20230401T041401>",
        "<Item id=S2B_MSIL2A_20230401T001619_R059_T59VNL_20230401T041921>",
        "<Item id=S2B_MSIL2A_20230401T001619_R059_T59VNK_20230401T043807>",
        "<Item id=S2B_MSIL2A_20230401T001619_R059_T59VNJ_20230401T041640>",
        "<Item id=S2B_MSIL2A_20230401T001619_R059_T59VNH_20230401T041446>",
        "<Item id=S2B_MSIL2A_20230401T001619_R059_T59VML_20230401T041657>",
        "<Item id=S2B_MSIL2A_20230401T001619_R059_T59VMK_20230401T041650>",
        "<Item id=S2B_MSIL2A_20230401T001619_R059_T59VMJ_20230401T041651>",
        "<Item id=S2B_MSIL2A_20230401T001619_R059_T59VMH_20230401T041652>",
        "<Item id=S2B_MSIL2A_20230401T001619_R059_T59VMG_20230401T041645>",
        "<Item id=S2B_MSIL2A_20230401T001619_R059_T59VMF_20230401T034854>",
        "<Item id=S2B_MSIL2A_20230401T001619_R059_T59VME_20230401T041639>",
        "<Item id=S2B_MSIL2A_20230401T001619_R059_T59VLL_20230401T041652>",
        "<Item id=S2B_MSIL2A_20230401T001619_R059_T59VLK_20230401T041654>",
        "<Item id=S2B_MSIL2A_20230401T001619_R059_T59VLJ_20230401T041651>",
        "<Item id=S2B_MSIL2A_20230401T001619_R059_T59VLH_20230401T041651>",
        "<Item id=S2B_MSIL2A_20230401T001619_R059_T59VLG_20230401T041656>",
        "<Item id=S2B_MSIL2A_20230401T001619_R059_T59VLF_20230401T041652>",
        "<Item id=S2B_MSIL2A_20230401T001619_R059_T59VLE_20230401T041649>",
        "<Item id=S2B_MSIL2A_20230401T001619_R059_T59VLD_20230401T041642>",
        "<Item id=S2B_MSIL2A_20230401T001619_R059_T59VLC_20230401T041500>",
        "<Item id=S2B_MSIL2A_20230401T001619_R059_T58WFU_20230401T034840>",
        "<Item id=S2B_MSIL2A_20230401T001619_R059_T58WFT_20230401T041643>",
        "<Item id=S2B_MSIL2A_20230401T001619_R059_T58WFS_20230401T041648>",
        "<Item id=S2B_MSIL2A_20230401T001619_R059_T58VFR_20230401T041652>",
        "<Item id=S2B_MSIL2A_20230401T001619_R059_T58VFQ_20230401T041656>",
        "<Item id=S2B_MSIL2A_20230401T001619_R059_T58VFP_20230401T041651>",
        "<Item id=S2B_MSIL2A_20230401T001619_R059_T58VFN_20230401T041654>",
        "<Item id=S2B_MSIL2A_20230401T001619_R059_T58VFM_20230401T043504>",
        "<Item id=S2B_MSIL2A_20230401T001619_R059_T60XVF_20230401T022453>",
        "<Item id=S2B_MSIL2A_20230401T001619_R059_T60WWV_20230401T022639>",
        "<Item id=S2B_MSIL2A_20230401T001619_R059_T60WWU_20230401T022114>",
        "<Item id=S2B_MSIL2A_20230401T001619_R059_T60WWC_20230401T022405>",
        "<Item id=S2B_MSIL2A_20230401T001619_R059_T60WWB_20230401T022445>",
        "<Item id=S2B_MSIL2A_20230401T001619_R059_T60WWA_20230401T022605>",
        "<Item id=S2B_MSIL2A_20230401T001619_R059_T60WVV_20230401T022510>",
        "<Item id=S2B_MSIL2A_20230401T001619_R059_T60WVU_20230401T022502>",
        "<Item id=S2B_MSIL2A_20230401T001619_R059_T60WVT_20230401T041642>",
        "<Item id=S2B_MSIL2A_20230401T001619_R059_T60WVS_20230401T041351>",
        "<Item id=S2B_MSIL2A_20230401T001619_R059_T60WVE_20230401T022501>",
        "<Item id=S2B_MSIL2A_20230401T001619_R059_T60WVD_20230401T022623>",
        "<Item id=S2B_MSIL2A_20230401T001619_R059_T60WVC_20230401T022331>",
        "<Item id=S2B_MSIL2A_20230401T001619_R059_T60WVB_20230401T022412>",
        "<Item id=S2B_MSIL2A_20230401T001619_R059_T60WVA_20230401T023244>",
        "<Item id=S2B_MSIL2A_20230401T001619_R059_T60VUR_20230401T034843>",
        "<Item id=S2B_MSIL2A_20230401T001619_R059_T60VUQ_20230401T041335>",
        "<Item id=S2B_MSIL2A_20230401T001619_R059_T59XPA_20230401T022459>",
        "<Item id=S2B_MSIL2A_20230401T001619_R059_T59WPV_20230401T022305>",
        "<Item id=S2B_MSIL2A_20230401T001619_R059_T59WPU_20230401T022507>",
        "<Item id=S2B_MSIL2A_20230401T001619_R059_T59WPT_20230401T023955>",
        "<Item id=S2B_MSIL2A_20230401T001619_R059_T59WPS_20230401T023650>",
        "<Item id=S2B_MSIL2A_20230401T001619_R059_T59WPR_20230401T022635>",
        "<Item id=S2B_MSIL2A_20230401T001619_R059_T59WPQ_20230401T022320>",
        "<Item id=S2B_MSIL2A_20230401T001619_R059_T59WPP_20230401T022403>",
        "<Item id=S2B_MSIL2A_20230401T001619_R059_T59WPN_20230401T035040>",
        "<Item id=S2B_MSIL2A_20230401T001619_R059_T59WPM_20230401T041650>",
        "<Item id=S2B_MSIL2A_20230401T001619_R059_T59WNT_20230401T022747>",
        "<Item id=S2B_MSIL2A_20230401T001619_R059_T59WNS_20230401T022613>",
        "<Item id=S2B_MSIL2A_20230401T001619_R059_T59WNR_20230401T022734>",
        "<Item id=S2B_MSIL2A_20230401T001619_R059_T59WNQ_20230401T022342>",
        "<Item id=S2B_MSIL2A_20230401T001619_R059_T59WNP_20230401T041638>",
        "<Item id=S2B_MSIL2A_20230401T001619_R059_T59WNN_20230401T035112>",
        "<Item id=S2B_MSIL2A_20230401T001619_R059_T59WNM_20230401T042208>",
        "<Item id=S2B_MSIL2A_20230401T001619_R059_T59WMR_20230401T022450>",
        "<Item id=S2B_MSIL2A_20230401T001619_R059_T59WMQ_20230401T022458>",
        "<Item id=S2B_MSIL2A_20230401T001619_R059_T59WMP_20230401T041643>",
        "<Item id=S2B_MSIL2A_20230401T001619_R059_T59WMN_20230401T041837>",
        "<Item id=S2B_MSIL2A_20230401T001619_R059_T59WMM_20230401T041654>",
        "<Item id=S2B_MSIL2A_20230401T001619_R059_T59VPL_20230401T041618>",
        "<Item id=S2B_MSIL2A_20230401T001619_R059_T59VPK_20230401T041401>",
        "<Item id=S2B_MSIL2A_20230401T001619_R059_T59VNL_20230401T041921>",
        "<Item id=S2B_MSIL2A_20230401T001619_R059_T59VNK_20230401T043807>",
        "<Item id=S2B_MSIL2A_20230401T001619_R059_T59VNJ_20230401T041640>",
        "<Item id=S2B_MSIL2A_20230401T001619_R059_T59VNH_20230401T041446>",
        "<Item id=S2B_MSIL2A_20230401T001619_R059_T59VML_20230401T041657>",
        "<Item id=S2B_MSIL2A_20230401T001619_R059_T59VMK_20230401T041650>",
        "<Item id=S2B_MSIL2A_20230401T001619_R059_T59VMJ_20230401T041651>",
        "<Item id=S2B_MSIL2A_20230401T001619_R059_T59VMH_20230401T041652>",
        "<Item id=S2B_MSIL2A_20230401T001619_R059_T59VMG_20230401T041645>",
        "<Item id=S2B_MSIL2A_20230401T001619_R059_T59VMF_20230401T034854>",
        "<Item id=S2B_MSIL2A_20230401T001619_R059_T59VME_20230401T041639>",
        "<Item id=S2B_MSIL2A_20230401T001619_R059_T59VLL_20230401T041652>",
        "<Item id=S2B_MSIL2A_20230401T001619_R059_T59VLK_20230401T041654>",
        "<Item id=S2B_MSIL2A_20230401T001619_R059_T59VLJ_20230401T041651>",
        "<Item id=S2B_MSIL2A_20230401T001619_R059_T59VLH_20230401T041651>",
        "<Item id=S2B_MSIL2A_20230401T001619_R059_T59VLG_20230401T041656>",
        "<Item id=S2B_MSIL2A_20230401T001619_R059_T59VLF_20230401T041652>",
        "<Item id=S2B_MSIL2A_20230401T001619_R059_T59VLE_20230401T041649>",
        "<Item id=S2B_MSIL2A_20230401T001619_R059_T59VLD_20230401T041642>",
        "<Item id=S2B_MSIL2A_20230401T001619_R059_T59VLC_20230401T041500>",
        "<Item id=S2B_MSIL2A_20230401T001619_R059_T58WFU_20230401T034840>",
        "<Item id=S2B_MSIL2A_20230401T001619_R059_T58WFT_20230401T041643>",
        "<Item id=S2B_MSIL2A_20230401T001619_R059_T58WFS_20230401T041648>",
        "<Item id=S2B_MSIL2A_20230401T001619_R059_T58VFR_20230401T041652>",
        "<Item id=S2B_MSIL2A_20230401T001619_R059_T58VFQ_20230401T041656>",
        "<Item id=S2B_MSIL2A_20230401T001619_R059_T58VFP_20230401T041651>",
        "<Item id=S2B_MSIL2A_20230401T001619_R059_T58VFN_20230401T041654>",
        "<Item id=S2B_MSIL2A_20230401T002959_R059_T56RPN_20230401T032752>",
        "<Item id=S2B_MSIL2A_20230401T002959_R059_T56RNN_20230401T032632>",
        "<Item id=S2B_MSIL2A_20230401T002959_R059_T56RMN_20230401T032633>",
        "<Item id=S2B_MSIL2A_20230401T002959_R059_T56QQM_20230401T032632>",
        "<Item id=S2B_MSIL2A_20230401T002959_R059_T56QQL_20230401T032614>",
        "<Item id=S2B_MSIL2A_20230401T002959_R059_T56QPM_20230401T032806>",
        "<Item id=S2B_MSIL2A_20230401T002959_R059_T56QPL_20230401T032646>",
        "<Item id=S2B_MSIL2A_20230401T002959_R059_T56QNM_20230401T032759>",
        "<Item id=S2B_MSIL2A_20230401T002959_R059_T56QMM_20230401T032618>",
        "<Item id=S2B_MSIL2A_20230401T003419_R059_T56PLQ_20230401T032756>",
        "<Item id=S2B_MSIL2A_20230401T003419_R059_T56PKR_20230401T032630>",
        "<Item id=S2B_MSIL2A_20230401T003419_R059_T56PKQ_20230401T032701>",
        "<Item id=S2B_MSIL2A_20230401T003419_R059_T56NLP_20230401T032622>",
        "<Item id=S2B_MSIL2A_20230401T003419_R059_T56NLN_20230401T032631>",
        "<Item id=S2B_MSIL2A_20230401T003419_R059_T56NKP_20230401T032631>",
        "<Item id=S2B_MSIL2A_20230401T003419_R059_T56NKN_20230401T032644>",
        "<Item id=S2B_MSIL2A_20230401T003419_R059_T56NKM_20230401T032756>",
        "<Item id=S2B_MSIL2A_20230401T003419_R059_T55PHL_20230401T032755>",
        "<Item id=S2B_MSIL2A_20230401T003419_R059_T55PHK_20230401T032706>",
        "<Item id=S2B_MSIL2A_20230401T003419_R059_T55PGL_20230401T032631>",
        "<Item id=S2B_MSIL2A_20230401T003419_R059_T55PGK_20230401T032808>",
        "<Item id=S2B_MSIL2A_20230401T003419_R059_T55PFK_20230401T032631>",
        "<Item id=S2B_MSIL2A_20230401T003419_R059_T55NHJ_20230401T032807>",
        "<Item id=S2B_MSIL2A_20230401T003419_R059_T55NHH_20230401T032648>",
        "<Item id=S2B_MSIL2A_20230401T003419_R059_T55NHG_20230401T032757>",
        "<Item id=S2B_MSIL2A_20230401T003419_R059_T55NGJ_20230401T032704>",
        "<Item id=S2B_MSIL2A_20230401T003419_R059_T55NGH_20230401T032646>",
        "<Item id=S2B_MSIL2A_20230401T003419_R059_T55NGG_20230401T032640>",
        "<Item id=S2B_MSIL2A_20230401T003419_R059_T55NFJ_20230401T032618>",
        "<Item id=S2B_MSIL2A_20230401T003419_R059_T55NFH_20230401T032623>",
        "<Item id=S2B_MSIL2A_20230401T003419_R059_T55NFG_20230401T032616>",
        "<Item id=S2B_MSIL2A_20230401T003709_R059_T55MGU_20230401T043754>"
       ],
       "description": "item",
       "index": 0,
       "layout": "IPY_MODEL_d0618887a1ff46d9adfc3cb7aa2475cd",
       "style": "IPY_MODEL_1131af1b12d34b6ab397f4671ec11d11"
      }
     },
     "97563115e1804e55954b5dea2f856b97": {
      "model_module": "@jupyter-widgets/base",
      "model_module_version": "2.0.0",
      "model_name": "LayoutModel",
      "state": {}
     },
     "a3f01b05bebb4cc18b9058706f6dc3c1": {
      "model_module": "@jupyter-widgets/controls",
      "model_module_version": "2.0.0",
      "model_name": "VBoxModel",
      "state": {
       "_dom_classes": [
        "widget-interact"
       ],
       "children": [
        "IPY_MODEL_718908141eea436bb5acda29fef5a3a1",
        "IPY_MODEL_62c1097972aa431dbdf85c5fe7dd9c9f"
       ],
       "layout": "IPY_MODEL_97563115e1804e55954b5dea2f856b97"
      }
     },
     "bc1447a0b6f3451cba6015d9c93bc8b3": {
      "model_module": "jupyter-leaflet",
      "model_module_version": "^0.17",
      "model_name": "LeafletZoomControlModel",
      "state": {
       "_model_module_version": "^0.17",
       "_view_module_version": "^0.17",
       "options": [
        "position",
        "zoom_in_text",
        "zoom_in_title",
        "zoom_out_text",
        "zoom_out_title"
       ]
      }
     },
     "c10ca28f13da41eeb4e9d384e68b0a95": {
      "model_module": "jupyter-leaflet",
      "model_module_version": "^0.17",
      "model_name": "LeafletMapStyleModel",
      "state": {
       "_model_module_version": "^0.17"
      }
     },
     "c9ce3b3fa9304db38f25f39007452c73": {
      "model_module": "@jupyter-widgets/base",
      "model_module_version": "2.0.0",
      "model_name": "LayoutModel",
      "state": {}
     },
     "d0618887a1ff46d9adfc3cb7aa2475cd": {
      "model_module": "@jupyter-widgets/base",
      "model_module_version": "2.0.0",
      "model_name": "LayoutModel",
      "state": {}
     },
     "dce02d1b10444fc18a6911f80b4a8606": {
      "model_module": "jupyter-leaflet",
      "model_module_version": "^0.17",
      "model_name": "LeafletMapModel",
      "state": {
       "_model_module_version": "^0.17",
       "_view_module_version": "^0.17",
       "bottom": 379,
       "center": [
        81.43518005032495,
        -121.3895405831003
       ],
       "controls": [
        "IPY_MODEL_bc1447a0b6f3451cba6015d9c93bc8b3",
        "IPY_MODEL_5ad3ef4c674948a5b149ad66b5d881dd"
       ],
       "default_style": "IPY_MODEL_c10ca28f13da41eeb4e9d384e68b0a95",
       "dragging_style": "IPY_MODEL_3f0e3e76406440d6aacef901ecce2ea0",
       "east": -68.73046875000001,
       "fullscreen": false,
       "interpolation": "bilinear",
       "layers": [
        "IPY_MODEL_39ca512581784843bb385d761218ccad",
        "IPY_MODEL_500b22d34b1d4a0ba29d4c1b67bf8b56"
       ],
       "layout": "IPY_MODEL_2bb9985d36e14accba07c3ac79e58ca4",
       "left": 33,
       "modisdate": "2023-04-23",
       "north": 85.35956800800716,
       "options": [
        "bounce_at_zoom_limits",
        "box_zoom",
        "center",
        "close_popup_on_click",
        "double_click_zoom",
        "dragging",
        "fullscreen",
        "inertia",
        "inertia_deceleration",
        "inertia_max_speed",
        "interpolation",
        "keyboard",
        "keyboard_pan_offset",
        "keyboard_zoom_offset",
        "max_zoom",
        "min_zoom",
        "prefer_canvas",
        "scroll_wheel_zoom",
        "tap",
        "tap_tolerance",
        "touch_zoom",
        "world_copy_jump",
        "zoom",
        "zoom_animation_threshold",
        "zoom_delta",
        "zoom_snap"
       ],
       "prefer_canvas": false,
       "right": 633,
       "south": 74.25973837093132,
       "style": "IPY_MODEL_419167865b85451d91f3330be1c0c3a6",
       "top": -21,
       "west": -174.19921875000003,
       "window_url": "https://pcc-staging.westeurope.cloudapp.azure.com/compute/user/taugspurger@microsoft.com/doc/tree/PlanetaryComputerExamples/tutorials/interactive-browser.ipynb",
       "zoom": 3
      }
     }
    },
    "version_major": 2,
    "version_minor": 0
   }
  }
 },
 "nbformat": 4,
 "nbformat_minor": 5
}
