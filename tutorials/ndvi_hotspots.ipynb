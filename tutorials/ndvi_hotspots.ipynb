{
 "cells": [
  {
   "cell_type": "markdown",
   "metadata": {},
   "source": [
    "## Focal Statistics\n",
    "\n",
    "In this tutorial we calculate focal statistics and determine hot and cold spots of NDVI (Normalized difference vegetation index) over a time series of satellite images. On its own, NDVI is used to highlight live green vegetation. Its hot and cold spots help determine the growth or loss of plants. In this notebook, we'll see how to:\n",
    "\n",
    "- Search for satellite data by item ID using `pystac_client`\n",
    "- Visualize true color images\n",
    "- Calculate NDVI\n",
    "- Smooth images with a mean filter\n",
    "- Calculate focal statistics of the values within a specified focal neighborhood for each pixel in an input data array\n",
    "- Identify hot and cold spots in a image, neighborhoods that are significantly different from the rest of the image\n",
    "\n",
    "The focus of this notebook is to analyse information for each pixel based on its focal neighborhood kernel. The [xrspatial.focal](https://xarray-spatial.org/user_guide/focal.html) module from `xarray-spatial` provides a set of analysis tools performing neighborhood operations that will be used through this tutorial."
   ]
  },
  {
   "cell_type": "code",
   "execution_count": 1,
   "metadata": {},
   "outputs": [],
   "source": [
    "import numpy as np\n",
    "import xarray as xr\n",
    "\n",
    "import stackstac\n",
    "import planetary_computer\n",
    "import pystac_client\n",
    "\n",
    "import matplotlib.pyplot as plt\n",
    "\n",
    "import xrspatial.multispectral as ms\n",
    "from xrspatial.convolution import calc_cellsize, circle_kernel, convolution_2d\n",
    "from xrspatial.focal import mean, focal_stats, hotspots\n",
    "\n",
    "from dask.distributed import Client, progress"
   ]
  },
  {
   "cell_type": "markdown",
   "metadata": {},
   "source": [
    "### Local Dask Cluster\n",
    "\n",
    "We'll use a small number of images for this example. We'll parallelize reading the data from Azure Blob Storage using a local Dask \"cluster\" on this single machine."
   ]
  },
  {
   "cell_type": "code",
   "execution_count": 2,
   "metadata": {
    "tags": []
   },
   "outputs": [
    {
     "name": "stderr",
     "output_type": "stream",
     "text": [
      "2022-08-16 16:30:24,531 - distributed.diskutils - INFO - Found stale lock file and directory '/tmp/dask-worker-space/worker-l6lzssem', purging\n",
      "2022-08-16 16:30:24,532 - distributed.diskutils - INFO - Found stale lock file and directory '/tmp/dask-worker-space/worker-h374kdv4', purging\n",
      "2022-08-16 16:30:24,532 - distributed.diskutils - INFO - Found stale lock file and directory '/tmp/dask-worker-space/worker-isifihn_', purging\n",
      "2022-08-16 16:30:24,532 - distributed.diskutils - INFO - Found stale lock file and directory '/tmp/dask-worker-space/worker-swbsk4a4', purging\n"
     ]
    },
    {
     "name": "stdout",
     "output_type": "stream",
     "text": [
      "/proxy/8787/status\n"
     ]
    }
   ],
   "source": [
    "client = Client()\n",
    "print(f\"/proxy/{client.scheduler_info()['services']['dashboard']}/status\")"
   ]
  },
  {
   "cell_type": "markdown",
   "metadata": {},
   "source": [
    "You can access the Dask Dashboard by pasting that URL into the Dask labextension field. See [Scale with Dask](../quickstarts/scale-with-dask.ipynb) for more."
   ]
  },
  {
   "cell_type": "markdown",
   "metadata": {},
   "source": [
    "### Data"
   ]
  },
  {
   "cell_type": "markdown",
   "metadata": {},
   "source": [
    "The region of interest is a small area in the Amazon rainforest located in State of Mato Grosso and State of Amazonas, Brazil. In order to calculate NDVI accurately, we found these least cloudy scenes by searching with the [STAC API](https://planetarycomputer.microsoft.com/docs/quickstarts/reading-stac/) and filtering the results."
   ]
  },
  {
   "cell_type": "code",
   "execution_count": 3,
   "metadata": {},
   "outputs": [],
   "source": [
    "catalog = pystac_client.Client.open(\n",
    "    \"https://planetarycomputer.microsoft.com/api/stac/v1\",\n",
    "    modifier=planetary_computer.sign_inplace,\n",
    ")\n",
    "\n",
    "ids = [\n",
    "    \"S2A_MSIL2A_20200616T141741_R010_T20LQR_20200822T232052\",\n",
    "    \"S2B_MSIL2A_20190617T142049_R010_T20LQR_20201006T032921\",\n",
    "    \"S2B_MSIL2A_20180712T142039_R010_T20LQR_20201011T150557\",\n",
    "    \"S2B_MSIL2A_20170727T142039_R010_T20LQR_20210210T153028\",\n",
    "    \"S2A_MSIL2A_20160627T142042_R010_T20LQR_20210211T234456\",\n",
    "]\n",
    "search = catalog.search(collections=[\"sentinel-2-l2a\"], ids=ids)"
   ]
  },
  {
   "cell_type": "markdown",
   "metadata": {},
   "source": [
    "Now we'll sign the STAC items so we can download the data from blob storage. See [Using Tokens for Data Access](../concepts/sas.ipynb) for more. "
   ]
  },
  {
   "cell_type": "code",
   "execution_count": 4,
   "metadata": {},
   "outputs": [
    {
     "data": {
      "text/html": [
       "<div><svg style=\"position: absolute; width: 0; height: 0; overflow: hidden\">\n",
       "<defs>\n",
       "<symbol id=\"icon-database\" viewBox=\"0 0 32 32\">\n",
       "<path d=\"M16 0c-8.837 0-16 2.239-16 5v4c0 2.761 7.163 5 16 5s16-2.239 16-5v-4c0-2.761-7.163-5-16-5z\"></path>\n",
       "<path d=\"M16 17c-8.837 0-16-2.239-16-5v6c0 2.761 7.163 5 16 5s16-2.239 16-5v-6c0 2.761-7.163 5-16 5z\"></path>\n",
       "<path d=\"M16 26c-8.837 0-16-2.239-16-5v6c0 2.761 7.163 5 16 5s16-2.239 16-5v-6c0 2.761-7.163 5-16 5z\"></path>\n",
       "</symbol>\n",
       "<symbol id=\"icon-file-text2\" viewBox=\"0 0 32 32\">\n",
       "<path d=\"M28.681 7.159c-0.694-0.947-1.662-2.053-2.724-3.116s-2.169-2.030-3.116-2.724c-1.612-1.182-2.393-1.319-2.841-1.319h-15.5c-1.378 0-2.5 1.121-2.5 2.5v27c0 1.378 1.122 2.5 2.5 2.5h23c1.378 0 2.5-1.122 2.5-2.5v-19.5c0-0.448-0.137-1.23-1.319-2.841zM24.543 5.457c0.959 0.959 1.712 1.825 2.268 2.543h-4.811v-4.811c0.718 0.556 1.584 1.309 2.543 2.268zM28 29.5c0 0.271-0.229 0.5-0.5 0.5h-23c-0.271 0-0.5-0.229-0.5-0.5v-27c0-0.271 0.229-0.5 0.5-0.5 0 0 15.499-0 15.5 0v7c0 0.552 0.448 1 1 1h7v19.5z\"></path>\n",
       "<path d=\"M23 26h-14c-0.552 0-1-0.448-1-1s0.448-1 1-1h14c0.552 0 1 0.448 1 1s-0.448 1-1 1z\"></path>\n",
       "<path d=\"M23 22h-14c-0.552 0-1-0.448-1-1s0.448-1 1-1h14c0.552 0 1 0.448 1 1s-0.448 1-1 1z\"></path>\n",
       "<path d=\"M23 18h-14c-0.552 0-1-0.448-1-1s0.448-1 1-1h14c0.552 0 1 0.448 1 1s-0.448 1-1 1z\"></path>\n",
       "</symbol>\n",
       "</defs>\n",
       "</svg>\n",
       "<style>/* CSS stylesheet for displaying xarray objects in jupyterlab.\n",
       " *\n",
       " */\n",
       "\n",
       ":root {\n",
       "  --xr-font-color0: var(--jp-content-font-color0, rgba(0, 0, 0, 1));\n",
       "  --xr-font-color2: var(--jp-content-font-color2, rgba(0, 0, 0, 0.54));\n",
       "  --xr-font-color3: var(--jp-content-font-color3, rgba(0, 0, 0, 0.38));\n",
       "  --xr-border-color: var(--jp-border-color2, #e0e0e0);\n",
       "  --xr-disabled-color: var(--jp-layout-color3, #bdbdbd);\n",
       "  --xr-background-color: var(--jp-layout-color0, white);\n",
       "  --xr-background-color-row-even: var(--jp-layout-color1, white);\n",
       "  --xr-background-color-row-odd: var(--jp-layout-color2, #eeeeee);\n",
       "}\n",
       "\n",
       "html[theme=dark],\n",
       "body.vscode-dark {\n",
       "  --xr-font-color0: rgba(255, 255, 255, 1);\n",
       "  --xr-font-color2: rgba(255, 255, 255, 0.54);\n",
       "  --xr-font-color3: rgba(255, 255, 255, 0.38);\n",
       "  --xr-border-color: #1F1F1F;\n",
       "  --xr-disabled-color: #515151;\n",
       "  --xr-background-color: #111111;\n",
       "  --xr-background-color-row-even: #111111;\n",
       "  --xr-background-color-row-odd: #313131;\n",
       "}\n",
       "\n",
       ".xr-wrap {\n",
       "  display: block !important;\n",
       "  min-width: 300px;\n",
       "  max-width: 700px;\n",
       "}\n",
       "\n",
       ".xr-text-repr-fallback {\n",
       "  /* fallback to plain text repr when CSS is not injected (untrusted notebook) */\n",
       "  display: none;\n",
       "}\n",
       "\n",
       ".xr-header {\n",
       "  padding-top: 6px;\n",
       "  padding-bottom: 6px;\n",
       "  margin-bottom: 4px;\n",
       "  border-bottom: solid 1px var(--xr-border-color);\n",
       "}\n",
       "\n",
       ".xr-header > div,\n",
       ".xr-header > ul {\n",
       "  display: inline;\n",
       "  margin-top: 0;\n",
       "  margin-bottom: 0;\n",
       "}\n",
       "\n",
       ".xr-obj-type,\n",
       ".xr-array-name {\n",
       "  margin-left: 2px;\n",
       "  margin-right: 10px;\n",
       "}\n",
       "\n",
       ".xr-obj-type {\n",
       "  color: var(--xr-font-color2);\n",
       "}\n",
       "\n",
       ".xr-sections {\n",
       "  padding-left: 0 !important;\n",
       "  display: grid;\n",
       "  grid-template-columns: 150px auto auto 1fr 20px 20px;\n",
       "}\n",
       "\n",
       ".xr-section-item {\n",
       "  display: contents;\n",
       "}\n",
       "\n",
       ".xr-section-item input {\n",
       "  display: none;\n",
       "}\n",
       "\n",
       ".xr-section-item input + label {\n",
       "  color: var(--xr-disabled-color);\n",
       "}\n",
       "\n",
       ".xr-section-item input:enabled + label {\n",
       "  cursor: pointer;\n",
       "  color: var(--xr-font-color2);\n",
       "}\n",
       "\n",
       ".xr-section-item input:enabled + label:hover {\n",
       "  color: var(--xr-font-color0);\n",
       "}\n",
       "\n",
       ".xr-section-summary {\n",
       "  grid-column: 1;\n",
       "  color: var(--xr-font-color2);\n",
       "  font-weight: 500;\n",
       "}\n",
       "\n",
       ".xr-section-summary > span {\n",
       "  display: inline-block;\n",
       "  padding-left: 0.5em;\n",
       "}\n",
       "\n",
       ".xr-section-summary-in:disabled + label {\n",
       "  color: var(--xr-font-color2);\n",
       "}\n",
       "\n",
       ".xr-section-summary-in + label:before {\n",
       "  display: inline-block;\n",
       "  content: '►';\n",
       "  font-size: 11px;\n",
       "  width: 15px;\n",
       "  text-align: center;\n",
       "}\n",
       "\n",
       ".xr-section-summary-in:disabled + label:before {\n",
       "  color: var(--xr-disabled-color);\n",
       "}\n",
       "\n",
       ".xr-section-summary-in:checked + label:before {\n",
       "  content: '▼';\n",
       "}\n",
       "\n",
       ".xr-section-summary-in:checked + label > span {\n",
       "  display: none;\n",
       "}\n",
       "\n",
       ".xr-section-summary,\n",
       ".xr-section-inline-details {\n",
       "  padding-top: 4px;\n",
       "  padding-bottom: 4px;\n",
       "}\n",
       "\n",
       ".xr-section-inline-details {\n",
       "  grid-column: 2 / -1;\n",
       "}\n",
       "\n",
       ".xr-section-details {\n",
       "  display: none;\n",
       "  grid-column: 1 / -1;\n",
       "  margin-bottom: 5px;\n",
       "}\n",
       "\n",
       ".xr-section-summary-in:checked ~ .xr-section-details {\n",
       "  display: contents;\n",
       "}\n",
       "\n",
       ".xr-array-wrap {\n",
       "  grid-column: 1 / -1;\n",
       "  display: grid;\n",
       "  grid-template-columns: 20px auto;\n",
       "}\n",
       "\n",
       ".xr-array-wrap > label {\n",
       "  grid-column: 1;\n",
       "  vertical-align: top;\n",
       "}\n",
       "\n",
       ".xr-preview {\n",
       "  color: var(--xr-font-color3);\n",
       "}\n",
       "\n",
       ".xr-array-preview,\n",
       ".xr-array-data {\n",
       "  padding: 0 5px !important;\n",
       "  grid-column: 2;\n",
       "}\n",
       "\n",
       ".xr-array-data,\n",
       ".xr-array-in:checked ~ .xr-array-preview {\n",
       "  display: none;\n",
       "}\n",
       "\n",
       ".xr-array-in:checked ~ .xr-array-data,\n",
       ".xr-array-preview {\n",
       "  display: inline-block;\n",
       "}\n",
       "\n",
       ".xr-dim-list {\n",
       "  display: inline-block !important;\n",
       "  list-style: none;\n",
       "  padding: 0 !important;\n",
       "  margin: 0;\n",
       "}\n",
       "\n",
       ".xr-dim-list li {\n",
       "  display: inline-block;\n",
       "  padding: 0;\n",
       "  margin: 0;\n",
       "}\n",
       "\n",
       ".xr-dim-list:before {\n",
       "  content: '(';\n",
       "}\n",
       "\n",
       ".xr-dim-list:after {\n",
       "  content: ')';\n",
       "}\n",
       "\n",
       ".xr-dim-list li:not(:last-child):after {\n",
       "  content: ',';\n",
       "  padding-right: 5px;\n",
       "}\n",
       "\n",
       ".xr-has-index {\n",
       "  font-weight: bold;\n",
       "}\n",
       "\n",
       ".xr-var-list,\n",
       ".xr-var-item {\n",
       "  display: contents;\n",
       "}\n",
       "\n",
       ".xr-var-item > div,\n",
       ".xr-var-item label,\n",
       ".xr-var-item > .xr-var-name span {\n",
       "  background-color: var(--xr-background-color-row-even);\n",
       "  margin-bottom: 0;\n",
       "}\n",
       "\n",
       ".xr-var-item > .xr-var-name:hover span {\n",
       "  padding-right: 5px;\n",
       "}\n",
       "\n",
       ".xr-var-list > li:nth-child(odd) > div,\n",
       ".xr-var-list > li:nth-child(odd) > label,\n",
       ".xr-var-list > li:nth-child(odd) > .xr-var-name span {\n",
       "  background-color: var(--xr-background-color-row-odd);\n",
       "}\n",
       "\n",
       ".xr-var-name {\n",
       "  grid-column: 1;\n",
       "}\n",
       "\n",
       ".xr-var-dims {\n",
       "  grid-column: 2;\n",
       "}\n",
       "\n",
       ".xr-var-dtype {\n",
       "  grid-column: 3;\n",
       "  text-align: right;\n",
       "  color: var(--xr-font-color2);\n",
       "}\n",
       "\n",
       ".xr-var-preview {\n",
       "  grid-column: 4;\n",
       "}\n",
       "\n",
       ".xr-var-name,\n",
       ".xr-var-dims,\n",
       ".xr-var-dtype,\n",
       ".xr-preview,\n",
       ".xr-attrs dt {\n",
       "  white-space: nowrap;\n",
       "  overflow: hidden;\n",
       "  text-overflow: ellipsis;\n",
       "  padding-right: 10px;\n",
       "}\n",
       "\n",
       ".xr-var-name:hover,\n",
       ".xr-var-dims:hover,\n",
       ".xr-var-dtype:hover,\n",
       ".xr-attrs dt:hover {\n",
       "  overflow: visible;\n",
       "  width: auto;\n",
       "  z-index: 1;\n",
       "}\n",
       "\n",
       ".xr-var-attrs,\n",
       ".xr-var-data {\n",
       "  display: none;\n",
       "  background-color: var(--xr-background-color) !important;\n",
       "  padding-bottom: 5px !important;\n",
       "}\n",
       "\n",
       ".xr-var-attrs-in:checked ~ .xr-var-attrs,\n",
       ".xr-var-data-in:checked ~ .xr-var-data {\n",
       "  display: block;\n",
       "}\n",
       "\n",
       ".xr-var-data > table {\n",
       "  float: right;\n",
       "}\n",
       "\n",
       ".xr-var-name span,\n",
       ".xr-var-data,\n",
       ".xr-attrs {\n",
       "  padding-left: 25px !important;\n",
       "}\n",
       "\n",
       ".xr-attrs,\n",
       ".xr-var-attrs,\n",
       ".xr-var-data {\n",
       "  grid-column: 1 / -1;\n",
       "}\n",
       "\n",
       "dl.xr-attrs {\n",
       "  padding: 0;\n",
       "  margin: 0;\n",
       "  display: grid;\n",
       "  grid-template-columns: 125px auto;\n",
       "}\n",
       "\n",
       ".xr-attrs dt,\n",
       ".xr-attrs dd {\n",
       "  padding: 0;\n",
       "  margin: 0;\n",
       "  float: left;\n",
       "  padding-right: 10px;\n",
       "  width: auto;\n",
       "}\n",
       "\n",
       ".xr-attrs dt {\n",
       "  font-weight: normal;\n",
       "  grid-column: 1;\n",
       "}\n",
       "\n",
       ".xr-attrs dt:hover span {\n",
       "  display: inline-block;\n",
       "  background: var(--xr-background-color);\n",
       "  padding-right: 10px;\n",
       "}\n",
       "\n",
       ".xr-attrs dd {\n",
       "  grid-column: 2;\n",
       "  white-space: pre-wrap;\n",
       "  word-break: break-all;\n",
       "}\n",
       "\n",
       ".xr-icon-database,\n",
       ".xr-icon-file-text2 {\n",
       "  display: inline-block;\n",
       "  vertical-align: middle;\n",
       "  width: 1em;\n",
       "  height: 1.5em !important;\n",
       "  stroke-width: 0;\n",
       "  stroke: currentColor;\n",
       "  fill: currentColor;\n",
       "}\n",
       "</style><pre class='xr-text-repr-fallback'>&lt;xarray.DataArray &#x27;stackstac-6aab09147bacb75bf1d5e6bdb3733648&#x27; (time: 5,\n",
       "                                                                band: 4,\n",
       "                                                                y: 227, x: 226)&gt;\n",
       "dask.array&lt;where, shape=(5, 4, 227, 226), dtype=float64, chunksize=(1, 1, 227, 226), chunktype=numpy.ndarray&gt;\n",
       "Coordinates: (12/46)\n",
       "  * time                                     (time) datetime64[ns] 2016-06-28...\n",
       "    id                                       (time) &lt;U54 &#x27;S2A_MSIL2A_20160627...\n",
       "  * band                                     (band) &lt;U5 &#x27;blue&#x27; &#x27;green&#x27; ... &#x27;nir&#x27;\n",
       "  * x                                        (x) float64 1.362e+06 ... 1.474e+06\n",
       "  * y                                        (y) float64 -9.075e+05 ... -1.02...\n",
       "    s2:granule_id                            (time) &lt;U62 &#x27;S2A_OPER_MSI_L2A_TL...\n",
       "    ...                                       ...\n",
       "    title                                    (band) &lt;U20 &#x27;Band 2 - Blue - 10m...\n",
       "    proj:transform                           object {0.0, 9100000.0, 10.0, -1...\n",
       "    common_name                              (band) &lt;U5 &#x27;blue&#x27; &#x27;green&#x27; ... &#x27;nir&#x27;\n",
       "    center_wavelength                        (band) float64 0.49 0.56 ... 0.842\n",
       "    full_width_half_max                      (band) float64 0.098 ... 0.145\n",
       "    epsg                                     int64 32619\n",
       "Attributes:\n",
       "    spec:        RasterSpec(epsg=32619, bounds=(1361500, -1021000, 1474500, -...\n",
       "    crs:         epsg:32619\n",
       "    transform:   | 500.00, 0.00, 1361500.00|\\n| 0.00,-500.00,-907500.00|\\n| 0...\n",
       "    resolution:  500</pre><div class='xr-wrap' style='display:none'><div class='xr-header'><div class='xr-obj-type'>xarray.DataArray</div><div class='xr-array-name'>'stackstac-6aab09147bacb75bf1d5e6bdb3733648'</div><ul class='xr-dim-list'><li><span class='xr-has-index'>time</span>: 5</li><li><span class='xr-has-index'>band</span>: 4</li><li><span class='xr-has-index'>y</span>: 227</li><li><span class='xr-has-index'>x</span>: 226</li></ul></div><ul class='xr-sections'><li class='xr-section-item'><div class='xr-array-wrap'><input id='section-1a2928c6-7fd0-4ad5-be81-427cd664607b' class='xr-array-in' type='checkbox' checked><label for='section-1a2928c6-7fd0-4ad5-be81-427cd664607b' title='Show/hide data repr'><svg class='icon xr-icon-database'><use xlink:href='#icon-database'></use></svg></label><div class='xr-array-preview xr-preview'><span>dask.array&lt;chunksize=(1, 1, 227, 226), meta=np.ndarray&gt;</span></div><div class='xr-array-data'><table>\n",
       "    <tr>\n",
       "        <td>\n",
       "            <table>\n",
       "                <thead>\n",
       "                    <tr>\n",
       "                        <td> </td>\n",
       "                        <th> Array </th>\n",
       "                        <th> Chunk </th>\n",
       "                    </tr>\n",
       "                </thead>\n",
       "                <tbody>\n",
       "                    \n",
       "                    <tr>\n",
       "                        <th> Bytes </th>\n",
       "                        <td> 7.83 MiB </td>\n",
       "                        <td> 400.80 kiB </td>\n",
       "                    </tr>\n",
       "                    \n",
       "                    <tr>\n",
       "                        <th> Shape </th>\n",
       "                        <td> (5, 4, 227, 226) </td>\n",
       "                        <td> (1, 1, 227, 226) </td>\n",
       "                    </tr>\n",
       "                    <tr>\n",
       "                        <th> Count </th>\n",
       "                        <td> 100 Tasks </td>\n",
       "                        <td> 20 Chunks </td>\n",
       "                    </tr>\n",
       "                    <tr>\n",
       "                    <th> Type </th>\n",
       "                    <td> float64 </td>\n",
       "                    <td> numpy.ndarray </td>\n",
       "                    </tr>\n",
       "                </tbody>\n",
       "            </table>\n",
       "        </td>\n",
       "        <td>\n",
       "        <svg width=\"384\" height=\"186\" style=\"stroke:rgb(0,0,0);stroke-width:1\" >\n",
       "\n",
       "  <!-- Horizontal lines -->\n",
       "  <line x1=\"0\" y1=\"0\" x2=\"29\" y2=\"0\" style=\"stroke-width:2\" />\n",
       "  <line x1=\"0\" y1=\"25\" x2=\"29\" y2=\"25\" style=\"stroke-width:2\" />\n",
       "\n",
       "  <!-- Vertical lines -->\n",
       "  <line x1=\"0\" y1=\"0\" x2=\"0\" y2=\"25\" style=\"stroke-width:2\" />\n",
       "  <line x1=\"5\" y1=\"0\" x2=\"5\" y2=\"25\" />\n",
       "  <line x1=\"11\" y1=\"0\" x2=\"11\" y2=\"25\" />\n",
       "  <line x1=\"17\" y1=\"0\" x2=\"17\" y2=\"25\" />\n",
       "  <line x1=\"23\" y1=\"0\" x2=\"23\" y2=\"25\" />\n",
       "  <line x1=\"29\" y1=\"0\" x2=\"29\" y2=\"25\" style=\"stroke-width:2\" />\n",
       "\n",
       "  <!-- Colored Rectangle -->\n",
       "  <polygon points=\"0.0,0.0 29.578588119198308,0.0 29.578588119198308,25.412616514582485 0.0,25.412616514582485\" style=\"fill:#ECB172A0;stroke-width:0\"/>\n",
       "\n",
       "  <!-- Text -->\n",
       "  <text x=\"14.789294\" y=\"45.412617\" font-size=\"1.0rem\" font-weight=\"100\" text-anchor=\"middle\" >5</text>\n",
       "  <text x=\"49.578588\" y=\"12.706308\" font-size=\"1.0rem\" font-weight=\"100\" text-anchor=\"middle\" transform=\"rotate(0,49.578588,12.706308)\">1</text>\n",
       "\n",
       "\n",
       "  <!-- Horizontal lines -->\n",
       "  <line x1=\"99\" y1=\"0\" x2=\"115\" y2=\"16\" style=\"stroke-width:2\" />\n",
       "  <line x1=\"99\" y1=\"120\" x2=\"115\" y2=\"136\" style=\"stroke-width:2\" />\n",
       "\n",
       "  <!-- Vertical lines -->\n",
       "  <line x1=\"99\" y1=\"0\" x2=\"99\" y2=\"120\" style=\"stroke-width:2\" />\n",
       "  <line x1=\"103\" y1=\"4\" x2=\"103\" y2=\"124\" />\n",
       "  <line x1=\"107\" y1=\"8\" x2=\"107\" y2=\"128\" />\n",
       "  <line x1=\"111\" y1=\"12\" x2=\"111\" y2=\"132\" />\n",
       "  <line x1=\"115\" y1=\"16\" x2=\"115\" y2=\"136\" style=\"stroke-width:2\" />\n",
       "\n",
       "  <!-- Colored Rectangle -->\n",
       "  <polygon points=\"99.0,0.0 115.66279557805927,16.66279557805928 115.66279557805927,136.66279557805927 99.0,120.0\" style=\"fill:#ECB172A0;stroke-width:0\"/>\n",
       "\n",
       "  <!-- Horizontal lines -->\n",
       "  <line x1=\"99\" y1=\"0\" x2=\"218\" y2=\"0\" style=\"stroke-width:2\" />\n",
       "  <line x1=\"103\" y1=\"4\" x2=\"222\" y2=\"4\" />\n",
       "  <line x1=\"107\" y1=\"8\" x2=\"226\" y2=\"8\" />\n",
       "  <line x1=\"111\" y1=\"12\" x2=\"230\" y2=\"12\" />\n",
       "  <line x1=\"115\" y1=\"16\" x2=\"235\" y2=\"16\" style=\"stroke-width:2\" />\n",
       "\n",
       "  <!-- Vertical lines -->\n",
       "  <line x1=\"99\" y1=\"0\" x2=\"115\" y2=\"16\" style=\"stroke-width:2\" />\n",
       "  <line x1=\"218\" y1=\"0\" x2=\"235\" y2=\"16\" style=\"stroke-width:2\" />\n",
       "\n",
       "  <!-- Colored Rectangle -->\n",
       "  <polygon points=\"99.0,0.0 218.47136563876654,0.0 235.13416121682582,16.66279557805928 115.66279557805927,16.66279557805928\" style=\"fill:#ECB172A0;stroke-width:0\"/>\n",
       "\n",
       "  <!-- Horizontal lines -->\n",
       "  <line x1=\"115\" y1=\"16\" x2=\"235\" y2=\"16\" style=\"stroke-width:2\" />\n",
       "  <line x1=\"115\" y1=\"136\" x2=\"235\" y2=\"136\" style=\"stroke-width:2\" />\n",
       "\n",
       "  <!-- Vertical lines -->\n",
       "  <line x1=\"115\" y1=\"16\" x2=\"115\" y2=\"136\" style=\"stroke-width:2\" />\n",
       "  <line x1=\"235\" y1=\"16\" x2=\"235\" y2=\"136\" style=\"stroke-width:2\" />\n",
       "\n",
       "  <!-- Colored Rectangle -->\n",
       "  <polygon points=\"115.66279557805927,16.66279557805928 235.13416121682582,16.66279557805928 235.13416121682582,136.66279557805927 115.66279557805927,136.66279557805927\" style=\"fill:#ECB172A0;stroke-width:0\"/>\n",
       "\n",
       "  <!-- Text -->\n",
       "  <text x=\"175.398478\" y=\"156.662796\" font-size=\"1.0rem\" font-weight=\"100\" text-anchor=\"middle\" >226</text>\n",
       "  <text x=\"255.134161\" y=\"76.662796\" font-size=\"1.0rem\" font-weight=\"100\" text-anchor=\"middle\" transform=\"rotate(-90,255.134161,76.662796)\">227</text>\n",
       "  <text x=\"97.331398\" y=\"148.331398\" font-size=\"1.0rem\" font-weight=\"100\" text-anchor=\"middle\" transform=\"rotate(45,97.331398,148.331398)\">4</text>\n",
       "</svg>\n",
       "        </td>\n",
       "    </tr>\n",
       "</table></div></div></li><li class='xr-section-item'><input id='section-a465b603-646d-45a6-9467-6d0fd15b77be' class='xr-section-summary-in' type='checkbox'  ><label for='section-a465b603-646d-45a6-9467-6d0fd15b77be' class='xr-section-summary' >Coordinates: <span>(46)</span></label><div class='xr-section-inline-details'></div><div class='xr-section-details'><ul class='xr-var-list'><li class='xr-var-item'><div class='xr-var-name'><span class='xr-has-index'>time</span></div><div class='xr-var-dims'>(time)</div><div class='xr-var-dtype'>datetime64[ns]</div><div class='xr-var-preview xr-preview'>2016-06-28 ... 2020-06-17</div><input id='attrs-35ef5894-33b0-4fd8-bf28-724af251475e' class='xr-var-attrs-in' type='checkbox' disabled><label for='attrs-35ef5894-33b0-4fd8-bf28-724af251475e' title='Show/Hide attributes'><svg class='icon xr-icon-file-text2'><use xlink:href='#icon-file-text2'></use></svg></label><input id='data-02c3bde0-342c-43b6-8ae2-9a235fcfbdd0' class='xr-var-data-in' type='checkbox'><label for='data-02c3bde0-342c-43b6-8ae2-9a235fcfbdd0' title='Show/Hide data repr'><svg class='icon xr-icon-database'><use xlink:href='#icon-database'></use></svg></label><div class='xr-var-attrs'><dl class='xr-attrs'></dl></div><div class='xr-var-data'><pre>array([&#x27;2016-06-28T00:00:00.000000000&#x27;, &#x27;2017-07-28T00:00:00.000000000&#x27;,\n",
       "       &#x27;2018-07-13T00:00:00.000000000&#x27;, &#x27;2019-06-18T00:00:00.000000000&#x27;,\n",
       "       &#x27;2020-06-17T00:00:00.000000000&#x27;], dtype=&#x27;datetime64[ns]&#x27;)</pre></div></li><li class='xr-var-item'><div class='xr-var-name'><span>id</span></div><div class='xr-var-dims'>(time)</div><div class='xr-var-dtype'>&lt;U54</div><div class='xr-var-preview xr-preview'>&#x27;S2A_MSIL2A_20160627T142042_R010...</div><input id='attrs-5960b0b8-7512-468e-abe9-89309d2994cf' class='xr-var-attrs-in' type='checkbox' disabled><label for='attrs-5960b0b8-7512-468e-abe9-89309d2994cf' title='Show/Hide attributes'><svg class='icon xr-icon-file-text2'><use xlink:href='#icon-file-text2'></use></svg></label><input id='data-2dafb8c7-1d5c-4596-8c9e-957d7f064861' class='xr-var-data-in' type='checkbox'><label for='data-2dafb8c7-1d5c-4596-8c9e-957d7f064861' title='Show/Hide data repr'><svg class='icon xr-icon-database'><use xlink:href='#icon-database'></use></svg></label><div class='xr-var-attrs'><dl class='xr-attrs'></dl></div><div class='xr-var-data'><pre>array([&#x27;S2A_MSIL2A_20160627T142042_R010_T20LQR_20210211T234456&#x27;,\n",
       "       &#x27;S2B_MSIL2A_20170727T142039_R010_T20LQR_20210210T153028&#x27;,\n",
       "       &#x27;S2B_MSIL2A_20180712T142039_R010_T20LQR_20201011T150557&#x27;,\n",
       "       &#x27;S2B_MSIL2A_20190617T142049_R010_T20LQR_20201006T032921&#x27;,\n",
       "       &#x27;S2A_MSIL2A_20200616T141741_R010_T20LQR_20200822T232052&#x27;],\n",
       "      dtype=&#x27;&lt;U54&#x27;)</pre></div></li><li class='xr-var-item'><div class='xr-var-name'><span class='xr-has-index'>band</span></div><div class='xr-var-dims'>(band)</div><div class='xr-var-dtype'>&lt;U5</div><div class='xr-var-preview xr-preview'>&#x27;blue&#x27; &#x27;green&#x27; &#x27;red&#x27; &#x27;nir&#x27;</div><input id='attrs-8153949e-4964-4b84-933e-75c1ac13c162' class='xr-var-attrs-in' type='checkbox' disabled><label for='attrs-8153949e-4964-4b84-933e-75c1ac13c162' title='Show/Hide attributes'><svg class='icon xr-icon-file-text2'><use xlink:href='#icon-file-text2'></use></svg></label><input id='data-9d9a8514-9cb8-42ee-8734-0777776ef838' class='xr-var-data-in' type='checkbox'><label for='data-9d9a8514-9cb8-42ee-8734-0777776ef838' title='Show/Hide data repr'><svg class='icon xr-icon-database'><use xlink:href='#icon-database'></use></svg></label><div class='xr-var-attrs'><dl class='xr-attrs'></dl></div><div class='xr-var-data'><pre>array([&#x27;blue&#x27;, &#x27;green&#x27;, &#x27;red&#x27;, &#x27;nir&#x27;], dtype=&#x27;&lt;U5&#x27;)</pre></div></li><li class='xr-var-item'><div class='xr-var-name'><span class='xr-has-index'>x</span></div><div class='xr-var-dims'>(x)</div><div class='xr-var-dtype'>float64</div><div class='xr-var-preview xr-preview'>1.362e+06 1.362e+06 ... 1.474e+06</div><input id='attrs-e58daa16-df5e-4506-bd44-855ab6303948' class='xr-var-attrs-in' type='checkbox' disabled><label for='attrs-e58daa16-df5e-4506-bd44-855ab6303948' title='Show/Hide attributes'><svg class='icon xr-icon-file-text2'><use xlink:href='#icon-file-text2'></use></svg></label><input id='data-d4104d1a-91f6-4d5c-a39d-aebee8c719a1' class='xr-var-data-in' type='checkbox'><label for='data-d4104d1a-91f6-4d5c-a39d-aebee8c719a1' title='Show/Hide data repr'><svg class='icon xr-icon-database'><use xlink:href='#icon-database'></use></svg></label><div class='xr-var-attrs'><dl class='xr-attrs'></dl></div><div class='xr-var-data'><pre>array([1361500., 1362000., 1362500., ..., 1473000., 1473500., 1474000.])</pre></div></li><li class='xr-var-item'><div class='xr-var-name'><span class='xr-has-index'>y</span></div><div class='xr-var-dims'>(y)</div><div class='xr-var-dtype'>float64</div><div class='xr-var-preview xr-preview'>-9.075e+05 -9.08e+05 ... -1.020e+06</div><input id='attrs-db0ce6c5-4a46-4446-8da2-57a8820219d5' class='xr-var-attrs-in' type='checkbox' disabled><label for='attrs-db0ce6c5-4a46-4446-8da2-57a8820219d5' title='Show/Hide attributes'><svg class='icon xr-icon-file-text2'><use xlink:href='#icon-file-text2'></use></svg></label><input id='data-d8678a19-f418-4838-b585-41648c71ef34' class='xr-var-data-in' type='checkbox'><label for='data-d8678a19-f418-4838-b585-41648c71ef34' title='Show/Hide data repr'><svg class='icon xr-icon-database'><use xlink:href='#icon-database'></use></svg></label><div class='xr-var-attrs'><dl class='xr-attrs'></dl></div><div class='xr-var-data'><pre>array([ -907500.,  -908000.,  -908500., ..., -1019500., -1020000., -1020500.])</pre></div></li><li class='xr-var-item'><div class='xr-var-name'><span>s2:granule_id</span></div><div class='xr-var-dims'>(time)</div><div class='xr-var-dtype'>&lt;U62</div><div class='xr-var-preview xr-preview'>&#x27;S2A_OPER_MSI_L2A_TL_ESRI_202102...</div><input id='attrs-80e5d470-2d3e-4058-b3e7-46a186e2c7f0' class='xr-var-attrs-in' type='checkbox' disabled><label for='attrs-80e5d470-2d3e-4058-b3e7-46a186e2c7f0' title='Show/Hide attributes'><svg class='icon xr-icon-file-text2'><use xlink:href='#icon-file-text2'></use></svg></label><input id='data-f6c3d868-df59-4ef0-a29e-e53d6b10fc2c' class='xr-var-data-in' type='checkbox'><label for='data-f6c3d868-df59-4ef0-a29e-e53d6b10fc2c' title='Show/Hide data repr'><svg class='icon xr-icon-database'><use xlink:href='#icon-database'></use></svg></label><div class='xr-var-attrs'><dl class='xr-attrs'></dl></div><div class='xr-var-data'><pre>array([&#x27;S2A_OPER_MSI_L2A_TL_ESRI_20210211T234459_A005298_T20LQR_N02.12&#x27;,\n",
       "       &#x27;S2B_OPER_MSI_L2A_TL_ESRI_20210210T153031_A002038_T20LQR_N02.12&#x27;,\n",
       "       &#x27;S2B_OPER_MSI_L2A_TL_ESRI_20201011T150558_A007043_T20LQR_N02.12&#x27;,\n",
       "       &#x27;S2B_OPER_MSI_L2A_TL_ESRI_20201006T032923_A011905_T20LQR_N02.12&#x27;,\n",
       "       &#x27;S2A_OPER_MSI_L2A_TL_ESRI_20200822T232055_A026033_T20LQR_N02.12&#x27;],\n",
       "      dtype=&#x27;&lt;U62&#x27;)</pre></div></li><li class='xr-var-item'><div class='xr-var-name'><span>s2:mgrs_tile</span></div><div class='xr-var-dims'>()</div><div class='xr-var-dtype'>&lt;U5</div><div class='xr-var-preview xr-preview'>&#x27;20LQR&#x27;</div><input id='attrs-4c77b2a8-f612-468d-8206-244625ac21f4' class='xr-var-attrs-in' type='checkbox' disabled><label for='attrs-4c77b2a8-f612-468d-8206-244625ac21f4' title='Show/Hide attributes'><svg class='icon xr-icon-file-text2'><use xlink:href='#icon-file-text2'></use></svg></label><input id='data-757858aa-cb60-48c8-b4aa-5097fa417add' class='xr-var-data-in' type='checkbox'><label for='data-757858aa-cb60-48c8-b4aa-5097fa417add' title='Show/Hide data repr'><svg class='icon xr-icon-database'><use xlink:href='#icon-database'></use></svg></label><div class='xr-var-attrs'><dl class='xr-attrs'></dl></div><div class='xr-var-data'><pre>array(&#x27;20LQR&#x27;, dtype=&#x27;&lt;U5&#x27;)</pre></div></li><li class='xr-var-item'><div class='xr-var-name'><span>platform</span></div><div class='xr-var-dims'>(time)</div><div class='xr-var-dtype'>&lt;U11</div><div class='xr-var-preview xr-preview'>&#x27;Sentinel-2A&#x27; ... &#x27;Sentinel-2A&#x27;</div><input id='attrs-97cebf25-fd59-4b85-aa1a-f79a334407d2' class='xr-var-attrs-in' type='checkbox' disabled><label for='attrs-97cebf25-fd59-4b85-aa1a-f79a334407d2' title='Show/Hide attributes'><svg class='icon xr-icon-file-text2'><use xlink:href='#icon-file-text2'></use></svg></label><input id='data-97debeca-af0f-4299-b552-85f8cdf56fa9' class='xr-var-data-in' type='checkbox'><label for='data-97debeca-af0f-4299-b552-85f8cdf56fa9' title='Show/Hide data repr'><svg class='icon xr-icon-database'><use xlink:href='#icon-database'></use></svg></label><div class='xr-var-attrs'><dl class='xr-attrs'></dl></div><div class='xr-var-data'><pre>array([&#x27;Sentinel-2A&#x27;, &#x27;Sentinel-2B&#x27;, &#x27;Sentinel-2B&#x27;, &#x27;Sentinel-2B&#x27;,\n",
       "       &#x27;Sentinel-2A&#x27;], dtype=&#x27;&lt;U11&#x27;)</pre></div></li><li class='xr-var-item'><div class='xr-var-name'><span>s2:mean_solar_azimuth</span></div><div class='xr-var-dims'>(time)</div><div class='xr-var-dtype'>float64</div><div class='xr-var-preview xr-preview'>37.17 42.63 39.26 36.43 36.43</div><input id='attrs-53488930-57c4-4f2a-9573-4e3c90614d0c' class='xr-var-attrs-in' type='checkbox' disabled><label for='attrs-53488930-57c4-4f2a-9573-4e3c90614d0c' title='Show/Hide attributes'><svg class='icon xr-icon-file-text2'><use xlink:href='#icon-file-text2'></use></svg></label><input id='data-266d4d33-70d7-43a6-b7fa-30ee0e681063' class='xr-var-data-in' type='checkbox'><label for='data-266d4d33-70d7-43a6-b7fa-30ee0e681063' title='Show/Hide data repr'><svg class='icon xr-icon-database'><use xlink:href='#icon-database'></use></svg></label><div class='xr-var-attrs'><dl class='xr-attrs'></dl></div><div class='xr-var-data'><pre>array([37.17374055, 42.63485595, 39.26341594, 36.43317178, 36.42928038])</pre></div></li><li class='xr-var-item'><div class='xr-var-name'><span>s2:datastrip_id</span></div><div class='xr-var-dims'>(time)</div><div class='xr-var-dtype'>&lt;U64</div><div class='xr-var-preview xr-preview'>&#x27;S2A_OPER_MSI_L2A_DS_ESRI_202102...</div><input id='attrs-a03930a1-5e16-4bd2-ac83-14ebf1cfe053' class='xr-var-attrs-in' type='checkbox' disabled><label for='attrs-a03930a1-5e16-4bd2-ac83-14ebf1cfe053' title='Show/Hide attributes'><svg class='icon xr-icon-file-text2'><use xlink:href='#icon-file-text2'></use></svg></label><input id='data-34304e35-596c-4c32-b2e6-5e1ec73a4d71' class='xr-var-data-in' type='checkbox'><label for='data-34304e35-596c-4c32-b2e6-5e1ec73a4d71' title='Show/Hide data repr'><svg class='icon xr-icon-database'><use xlink:href='#icon-database'></use></svg></label><div class='xr-var-attrs'><dl class='xr-attrs'></dl></div><div class='xr-var-data'><pre>array([&#x27;S2A_OPER_MSI_L2A_DS_ESRI_20210211T234459_S20160627T142038_N02.12&#x27;,\n",
       "       &#x27;S2B_OPER_MSI_L2A_DS_ESRI_20210210T153031_S20170727T142105_N02.12&#x27;,\n",
       "       &#x27;S2B_OPER_MSI_L2A_DS_ESRI_20201011T150558_S20180712T142035_N02.12&#x27;,\n",
       "       &#x27;S2B_OPER_MSI_L2A_DS_ESRI_20201006T032923_S20190617T142044_N02.12&#x27;,\n",
       "       &#x27;S2A_OPER_MSI_L2A_DS_ESRI_20200822T232055_S20200616T142338_N02.12&#x27;],\n",
       "      dtype=&#x27;&lt;U64&#x27;)</pre></div></li><li class='xr-var-item'><div class='xr-var-name'><span>s2:unclassified_percentage</span></div><div class='xr-var-dims'>(time)</div><div class='xr-var-dtype'>float64</div><div class='xr-var-preview xr-preview'>0.007976 0.02441 ... 0.006699</div><input id='attrs-af244108-bb8e-4d83-a0ba-e9b0edab9fd0' class='xr-var-attrs-in' type='checkbox' disabled><label for='attrs-af244108-bb8e-4d83-a0ba-e9b0edab9fd0' title='Show/Hide attributes'><svg class='icon xr-icon-file-text2'><use xlink:href='#icon-file-text2'></use></svg></label><input id='data-4988e69f-e4fb-4924-b59c-945ad5e96c3d' class='xr-var-data-in' type='checkbox'><label for='data-4988e69f-e4fb-4924-b59c-945ad5e96c3d' title='Show/Hide data repr'><svg class='icon xr-icon-database'><use xlink:href='#icon-database'></use></svg></label><div class='xr-var-attrs'><dl class='xr-attrs'></dl></div><div class='xr-var-data'><pre>array([0.007976, 0.024409, 0.005617, 0.005365, 0.006699])</pre></div></li><li class='xr-var-item'><div class='xr-var-name'><span>sat:relative_orbit</span></div><div class='xr-var-dims'>()</div><div class='xr-var-dtype'>int64</div><div class='xr-var-preview xr-preview'>10</div><input id='attrs-a1ad8c90-385f-4fca-83cf-5209bed4864e' class='xr-var-attrs-in' type='checkbox' disabled><label for='attrs-a1ad8c90-385f-4fca-83cf-5209bed4864e' title='Show/Hide attributes'><svg class='icon xr-icon-file-text2'><use xlink:href='#icon-file-text2'></use></svg></label><input id='data-bb3d6e49-da3e-452b-9291-48f5dcd8d5f9' class='xr-var-data-in' type='checkbox'><label for='data-bb3d6e49-da3e-452b-9291-48f5dcd8d5f9' title='Show/Hide data repr'><svg class='icon xr-icon-database'><use xlink:href='#icon-database'></use></svg></label><div class='xr-var-attrs'><dl class='xr-attrs'></dl></div><div class='xr-var-data'><pre>array(10)</pre></div></li><li class='xr-var-item'><div class='xr-var-name'><span>s2:generation_time</span></div><div class='xr-var-dims'>(time)</div><div class='xr-var-dtype'>&lt;U24</div><div class='xr-var-preview xr-preview'>&#x27;2021-02-11T23:44:56.943Z&#x27; ... &#x27;...</div><input id='attrs-f7031536-84cb-41b7-8229-32307463e890' class='xr-var-attrs-in' type='checkbox' disabled><label for='attrs-f7031536-84cb-41b7-8229-32307463e890' title='Show/Hide attributes'><svg class='icon xr-icon-file-text2'><use xlink:href='#icon-file-text2'></use></svg></label><input id='data-1d1c58cf-523a-47b4-aa34-fdcfc7cf6ec3' class='xr-var-data-in' type='checkbox'><label for='data-1d1c58cf-523a-47b4-aa34-fdcfc7cf6ec3' title='Show/Hide data repr'><svg class='icon xr-icon-database'><use xlink:href='#icon-database'></use></svg></label><div class='xr-var-attrs'><dl class='xr-attrs'></dl></div><div class='xr-var-data'><pre>array([&#x27;2021-02-11T23:44:56.943Z&#x27;, &#x27;2021-02-10T15:30:28.983Z&#x27;,\n",
       "       &#x27;2020-10-11T15:05:57.242Z&#x27;, &#x27;2020-10-06T03:29:21.378Z&#x27;,\n",
       "       &#x27;2020-08-22T23:20:52.991Z&#x27;], dtype=&#x27;&lt;U24&#x27;)</pre></div></li><li class='xr-var-item'><div class='xr-var-name'><span>s2:datatake_id</span></div><div class='xr-var-dims'>(time)</div><div class='xr-var-dtype'>&lt;U34</div><div class='xr-var-preview xr-preview'>&#x27;GS2A_20160627T142042_005298_N02...</div><input id='attrs-19268c9a-c1d6-4729-9fc2-e6172763fdfd' class='xr-var-attrs-in' type='checkbox' disabled><label for='attrs-19268c9a-c1d6-4729-9fc2-e6172763fdfd' title='Show/Hide attributes'><svg class='icon xr-icon-file-text2'><use xlink:href='#icon-file-text2'></use></svg></label><input id='data-14a475a8-4b38-4556-bdf9-6d0fa0fcea74' class='xr-var-data-in' type='checkbox'><label for='data-14a475a8-4b38-4556-bdf9-6d0fa0fcea74' title='Show/Hide data repr'><svg class='icon xr-icon-database'><use xlink:href='#icon-database'></use></svg></label><div class='xr-var-attrs'><dl class='xr-attrs'></dl></div><div class='xr-var-data'><pre>array([&#x27;GS2A_20160627T142042_005298_N02.12&#x27;,\n",
       "       &#x27;GS2B_20170727T142039_002038_N02.12&#x27;,\n",
       "       &#x27;GS2B_20180712T142039_007043_N02.12&#x27;,\n",
       "       &#x27;GS2B_20190617T142049_011905_N02.12&#x27;,\n",
       "       &#x27;GS2A_20200616T141741_026033_N02.12&#x27;], dtype=&#x27;&lt;U34&#x27;)</pre></div></li><li class='xr-var-item'><div class='xr-var-name'><span>s2:not_vegetated_percentage</span></div><div class='xr-var-dims'>(time)</div><div class='xr-var-dtype'>float64</div><div class='xr-var-preview xr-preview'>0.2395 0.7313 0.6615 0.2565 0.1665</div><input id='attrs-09ff4402-bd6c-4560-893a-718b80ed1d08' class='xr-var-attrs-in' type='checkbox' disabled><label for='attrs-09ff4402-bd6c-4560-893a-718b80ed1d08' title='Show/Hide attributes'><svg class='icon xr-icon-file-text2'><use xlink:href='#icon-file-text2'></use></svg></label><input id='data-55b6ce5c-5648-4234-b1de-94e28a71b628' class='xr-var-data-in' type='checkbox'><label for='data-55b6ce5c-5648-4234-b1de-94e28a71b628' title='Show/Hide data repr'><svg class='icon xr-icon-database'><use xlink:href='#icon-database'></use></svg></label><div class='xr-var-attrs'><dl class='xr-attrs'></dl></div><div class='xr-var-data'><pre>array([0.239508, 0.731285, 0.661547, 0.256456, 0.166456])</pre></div></li><li class='xr-var-item'><div class='xr-var-name'><span>s2:reflectance_conversion_factor</span></div><div class='xr-var-dims'>(time)</div><div class='xr-var-dtype'>float64</div><div class='xr-var-preview xr-preview'>0.9679 0.9691 0.9674 0.9695 0.9695</div><input id='attrs-2ece2aed-1adf-48e6-b187-465ddd430ece' class='xr-var-attrs-in' type='checkbox' disabled><label for='attrs-2ece2aed-1adf-48e6-b187-465ddd430ece' title='Show/Hide attributes'><svg class='icon xr-icon-file-text2'><use xlink:href='#icon-file-text2'></use></svg></label><input id='data-21727e0a-3e04-4f2c-ab9e-fcbfb890f497' class='xr-var-data-in' type='checkbox'><label for='data-21727e0a-3e04-4f2c-ab9e-fcbfb890f497' title='Show/Hide data repr'><svg class='icon xr-icon-database'><use xlink:href='#icon-database'></use></svg></label><div class='xr-var-attrs'><dl class='xr-attrs'></dl></div><div class='xr-var-data'><pre>array([0.96787441, 0.96909248, 0.96743467, 0.9694882 , 0.96954851])</pre></div></li><li class='xr-var-item'><div class='xr-var-name'><span>proj:epsg</span></div><div class='xr-var-dims'>()</div><div class='xr-var-dtype'>int64</div><div class='xr-var-preview xr-preview'>32720</div><input id='attrs-8130a00d-3224-47fc-a4ca-db7585c5c5ec' class='xr-var-attrs-in' type='checkbox' disabled><label for='attrs-8130a00d-3224-47fc-a4ca-db7585c5c5ec' title='Show/Hide attributes'><svg class='icon xr-icon-file-text2'><use xlink:href='#icon-file-text2'></use></svg></label><input id='data-aed3a90b-1789-4560-856a-bcc5cc279496' class='xr-var-data-in' type='checkbox'><label for='data-aed3a90b-1789-4560-856a-bcc5cc279496' title='Show/Hide data repr'><svg class='icon xr-icon-database'><use xlink:href='#icon-database'></use></svg></label><div class='xr-var-attrs'><dl class='xr-attrs'></dl></div><div class='xr-var-data'><pre>array(32720)</pre></div></li><li class='xr-var-item'><div class='xr-var-name'><span>s2:product_uri</span></div><div class='xr-var-dims'>(time)</div><div class='xr-var-dtype'>&lt;U65</div><div class='xr-var-preview xr-preview'>&#x27;S2A_MSIL2A_20160627T142042_N021...</div><input id='attrs-835d46c3-2825-40b7-9b25-88ab5e3efb97' class='xr-var-attrs-in' type='checkbox' disabled><label for='attrs-835d46c3-2825-40b7-9b25-88ab5e3efb97' title='Show/Hide attributes'><svg class='icon xr-icon-file-text2'><use xlink:href='#icon-file-text2'></use></svg></label><input id='data-c6afacd9-37eb-471d-89c3-a425b05c9b49' class='xr-var-data-in' type='checkbox'><label for='data-c6afacd9-37eb-471d-89c3-a425b05c9b49' title='Show/Hide data repr'><svg class='icon xr-icon-database'><use xlink:href='#icon-database'></use></svg></label><div class='xr-var-attrs'><dl class='xr-attrs'></dl></div><div class='xr-var-data'><pre>array([&#x27;S2A_MSIL2A_20160627T142042_N0212_R010_T20LQR_20210211T234456.SAFE&#x27;,\n",
       "       &#x27;S2B_MSIL2A_20170727T142039_N0212_R010_T20LQR_20210210T153028.SAFE&#x27;,\n",
       "       &#x27;S2B_MSIL2A_20180712T142039_N0212_R010_T20LQR_20201011T150557.SAFE&#x27;,\n",
       "       &#x27;S2B_MSIL2A_20190617T142049_N0212_R010_T20LQR_20201006T032921.SAFE&#x27;,\n",
       "       &#x27;S2A_MSIL2A_20200616T141741_N0212_R010_T20LQR_20200822T232052.SAFE&#x27;],\n",
       "      dtype=&#x27;&lt;U65&#x27;)</pre></div></li><li class='xr-var-item'><div class='xr-var-name'><span>s2:thin_cirrus_percentage</span></div><div class='xr-var-dims'>(time)</div><div class='xr-var-dtype'>float64</div><div class='xr-var-preview xr-preview'>0.000793 0.001042 ... 0.00078</div><input id='attrs-5c657f03-f7d7-4fb8-9e4d-208e899213d8' class='xr-var-attrs-in' type='checkbox' disabled><label for='attrs-5c657f03-f7d7-4fb8-9e4d-208e899213d8' title='Show/Hide attributes'><svg class='icon xr-icon-file-text2'><use xlink:href='#icon-file-text2'></use></svg></label><input id='data-09254d5a-8a2d-4cc9-853c-58bce424061f' class='xr-var-data-in' type='checkbox'><label for='data-09254d5a-8a2d-4cc9-853c-58bce424061f' title='Show/Hide data repr'><svg class='icon xr-icon-database'><use xlink:href='#icon-database'></use></svg></label><div class='xr-var-attrs'><dl class='xr-attrs'></dl></div><div class='xr-var-data'><pre>array([0.000793, 0.001042, 0.001005, 0.000916, 0.00078 ])</pre></div></li><li class='xr-var-item'><div class='xr-var-name'><span>s2:nodata_pixel_percentage</span></div><div class='xr-var-dims'>(time)</div><div class='xr-var-dtype'>float64</div><div class='xr-var-preview xr-preview'>0.0 0.0 0.0 1.3e-05 3e-06</div><input id='attrs-d41f81ed-c255-4377-9054-7721ed0d81fd' class='xr-var-attrs-in' type='checkbox' disabled><label for='attrs-d41f81ed-c255-4377-9054-7721ed0d81fd' title='Show/Hide attributes'><svg class='icon xr-icon-file-text2'><use xlink:href='#icon-file-text2'></use></svg></label><input id='data-4cb8d5c7-eaf2-4fc9-8837-4d96a959ca5f' class='xr-var-data-in' type='checkbox'><label for='data-4cb8d5c7-eaf2-4fc9-8837-4d96a959ca5f' title='Show/Hide data repr'><svg class='icon xr-icon-database'><use xlink:href='#icon-database'></use></svg></label><div class='xr-var-attrs'><dl class='xr-attrs'></dl></div><div class='xr-var-data'><pre>array([0.0e+00, 0.0e+00, 0.0e+00, 1.3e-05, 3.0e-06])</pre></div></li><li class='xr-var-item'><div class='xr-var-name'><span>s2:degraded_msi_data_percentage</span></div><div class='xr-var-dims'>()</div><div class='xr-var-dtype'>float64</div><div class='xr-var-preview xr-preview'>0.0</div><input id='attrs-f890c34a-6376-42a7-a9dc-255d6576bf0e' class='xr-var-attrs-in' type='checkbox' disabled><label for='attrs-f890c34a-6376-42a7-a9dc-255d6576bf0e' title='Show/Hide attributes'><svg class='icon xr-icon-file-text2'><use xlink:href='#icon-file-text2'></use></svg></label><input id='data-baa19fed-809b-403b-bb1d-499424f39ca3' class='xr-var-data-in' type='checkbox'><label for='data-baa19fed-809b-403b-bb1d-499424f39ca3' title='Show/Hide data repr'><svg class='icon xr-icon-database'><use xlink:href='#icon-database'></use></svg></label><div class='xr-var-attrs'><dl class='xr-attrs'></dl></div><div class='xr-var-data'><pre>array(0.)</pre></div></li><li class='xr-var-item'><div class='xr-var-name'><span>s2:saturated_defective_pixel_percentage</span></div><div class='xr-var-dims'>()</div><div class='xr-var-dtype'>float64</div><div class='xr-var-preview xr-preview'>0.0</div><input id='attrs-1885ef9c-837d-474f-9fd2-a36c6daad503' class='xr-var-attrs-in' type='checkbox' disabled><label for='attrs-1885ef9c-837d-474f-9fd2-a36c6daad503' title='Show/Hide attributes'><svg class='icon xr-icon-file-text2'><use xlink:href='#icon-file-text2'></use></svg></label><input id='data-51bee53e-1add-4d73-b226-068d146dbf6b' class='xr-var-data-in' type='checkbox'><label for='data-51bee53e-1add-4d73-b226-068d146dbf6b' title='Show/Hide data repr'><svg class='icon xr-icon-database'><use xlink:href='#icon-database'></use></svg></label><div class='xr-var-attrs'><dl class='xr-attrs'></dl></div><div class='xr-var-data'><pre>array(0.)</pre></div></li><li class='xr-var-item'><div class='xr-var-name'><span>s2:cloud_shadow_percentage</span></div><div class='xr-var-dims'>(time)</div><div class='xr-var-dtype'>float64</div><div class='xr-var-preview xr-preview'>0.0 0.0 0.0 3e-06 0.0</div><input id='attrs-cb898ce7-e826-4f72-bca2-f03e3c6ae568' class='xr-var-attrs-in' type='checkbox' disabled><label for='attrs-cb898ce7-e826-4f72-bca2-f03e3c6ae568' title='Show/Hide attributes'><svg class='icon xr-icon-file-text2'><use xlink:href='#icon-file-text2'></use></svg></label><input id='data-e704b547-783c-43bc-ba9e-ff02a5816dfc' class='xr-var-data-in' type='checkbox'><label for='data-e704b547-783c-43bc-ba9e-ff02a5816dfc' title='Show/Hide data repr'><svg class='icon xr-icon-database'><use xlink:href='#icon-database'></use></svg></label><div class='xr-var-attrs'><dl class='xr-attrs'></dl></div><div class='xr-var-data'><pre>array([0.e+00, 0.e+00, 0.e+00, 3.e-06, 0.e+00])</pre></div></li><li class='xr-var-item'><div class='xr-var-name'><span>s2:product_type</span></div><div class='xr-var-dims'>()</div><div class='xr-var-dtype'>&lt;U7</div><div class='xr-var-preview xr-preview'>&#x27;S2MSI2A&#x27;</div><input id='attrs-4daa7c24-ab6e-414e-96e8-1fb6b1076494' class='xr-var-attrs-in' type='checkbox' disabled><label for='attrs-4daa7c24-ab6e-414e-96e8-1fb6b1076494' title='Show/Hide attributes'><svg class='icon xr-icon-file-text2'><use xlink:href='#icon-file-text2'></use></svg></label><input id='data-146ec3a5-2b14-4ede-8816-ead6516a3ce2' class='xr-var-data-in' type='checkbox'><label for='data-146ec3a5-2b14-4ede-8816-ead6516a3ce2' title='Show/Hide data repr'><svg class='icon xr-icon-database'><use xlink:href='#icon-database'></use></svg></label><div class='xr-var-attrs'><dl class='xr-attrs'></dl></div><div class='xr-var-data'><pre>array(&#x27;S2MSI2A&#x27;, dtype=&#x27;&lt;U7&#x27;)</pre></div></li><li class='xr-var-item'><div class='xr-var-name'><span>s2:high_proba_clouds_percentage</span></div><div class='xr-var-dims'>(time)</div><div class='xr-var-dtype'>float64</div><div class='xr-var-preview xr-preview'>0.000554 0.00069 ... 0.000156 7e-05</div><input id='attrs-f2c9b307-c69e-4896-a25d-935f74e2872c' class='xr-var-attrs-in' type='checkbox' disabled><label for='attrs-f2c9b307-c69e-4896-a25d-935f74e2872c' title='Show/Hide attributes'><svg class='icon xr-icon-file-text2'><use xlink:href='#icon-file-text2'></use></svg></label><input id='data-8b785c90-7555-4308-8e32-0147feb3d1f0' class='xr-var-data-in' type='checkbox'><label for='data-8b785c90-7555-4308-8e32-0147feb3d1f0' title='Show/Hide data repr'><svg class='icon xr-icon-database'><use xlink:href='#icon-database'></use></svg></label><div class='xr-var-attrs'><dl class='xr-attrs'></dl></div><div class='xr-var-data'><pre>array([5.54e-04, 6.90e-04, 3.88e-04, 1.56e-04, 7.00e-05])</pre></div></li><li class='xr-var-item'><div class='xr-var-name'><span>s2:medium_proba_clouds_percentage</span></div><div class='xr-var-dims'>(time)</div><div class='xr-var-dtype'>float64</div><div class='xr-var-preview xr-preview'>0.000833 0.000889 ... 0.000259</div><input id='attrs-8d116009-b4c7-4064-b77a-3c5e22844b35' class='xr-var-attrs-in' type='checkbox' disabled><label for='attrs-8d116009-b4c7-4064-b77a-3c5e22844b35' title='Show/Hide attributes'><svg class='icon xr-icon-file-text2'><use xlink:href='#icon-file-text2'></use></svg></label><input id='data-201d3f97-1266-4182-bce4-bdbbe02c0e9c' class='xr-var-data-in' type='checkbox'><label for='data-201d3f97-1266-4182-bce4-bdbbe02c0e9c' title='Show/Hide data repr'><svg class='icon xr-icon-database'><use xlink:href='#icon-database'></use></svg></label><div class='xr-var-attrs'><dl class='xr-attrs'></dl></div><div class='xr-var-data'><pre>array([0.000833, 0.000889, 0.000438, 0.000451, 0.000259])</pre></div></li><li class='xr-var-item'><div class='xr-var-name'><span>sat:orbit_state</span></div><div class='xr-var-dims'>()</div><div class='xr-var-dtype'>&lt;U10</div><div class='xr-var-preview xr-preview'>&#x27;descending&#x27;</div><input id='attrs-68797414-8161-422a-a3fe-a5e27ea29857' class='xr-var-attrs-in' type='checkbox' disabled><label for='attrs-68797414-8161-422a-a3fe-a5e27ea29857' title='Show/Hide attributes'><svg class='icon xr-icon-file-text2'><use xlink:href='#icon-file-text2'></use></svg></label><input id='data-d8eedbc9-5085-408d-9f6a-0d440b6680fd' class='xr-var-data-in' type='checkbox'><label for='data-d8eedbc9-5085-408d-9f6a-0d440b6680fd' title='Show/Hide data repr'><svg class='icon xr-icon-database'><use xlink:href='#icon-database'></use></svg></label><div class='xr-var-attrs'><dl class='xr-attrs'></dl></div><div class='xr-var-data'><pre>array(&#x27;descending&#x27;, dtype=&#x27;&lt;U10&#x27;)</pre></div></li><li class='xr-var-item'><div class='xr-var-name'><span>eo:cloud_cover</span></div><div class='xr-var-dims'>(time)</div><div class='xr-var-dtype'>float64</div><div class='xr-var-preview xr-preview'>0.00218 0.002621 ... 0.001108</div><input id='attrs-9210157f-0f86-4452-bc69-d29f9072c36d' class='xr-var-attrs-in' type='checkbox' disabled><label for='attrs-9210157f-0f86-4452-bc69-d29f9072c36d' title='Show/Hide attributes'><svg class='icon xr-icon-file-text2'><use xlink:href='#icon-file-text2'></use></svg></label><input id='data-fdc7fd16-49c7-4247-9832-b48d1ca4f425' class='xr-var-data-in' type='checkbox'><label for='data-fdc7fd16-49c7-4247-9832-b48d1ca4f425' title='Show/Hide data repr'><svg class='icon xr-icon-database'><use xlink:href='#icon-database'></use></svg></label><div class='xr-var-attrs'><dl class='xr-attrs'></dl></div><div class='xr-var-data'><pre>array([0.00218 , 0.002621, 0.001831, 0.001523, 0.001108])</pre></div></li><li class='xr-var-item'><div class='xr-var-name'><span>s2:vegetation_percentage</span></div><div class='xr-var-dims'>(time)</div><div class='xr-var-dtype'>float64</div><div class='xr-var-preview xr-preview'>99.19 98.65 98.77 99.16 99.25</div><input id='attrs-6da2368e-38cc-4cda-822c-e7b1e14618ac' class='xr-var-attrs-in' type='checkbox' disabled><label for='attrs-6da2368e-38cc-4cda-822c-e7b1e14618ac' title='Show/Hide attributes'><svg class='icon xr-icon-file-text2'><use xlink:href='#icon-file-text2'></use></svg></label><input id='data-601ff0cb-0053-49eb-bdea-cf6babe73e6f' class='xr-var-data-in' type='checkbox'><label for='data-601ff0cb-0053-49eb-bdea-cf6babe73e6f' title='Show/Hide data repr'><svg class='icon xr-icon-database'><use xlink:href='#icon-database'></use></svg></label><div class='xr-var-attrs'><dl class='xr-attrs'></dl></div><div class='xr-var-data'><pre>array([99.192262, 98.648018, 98.77103 , 99.161118, 99.248123])</pre></div></li><li class='xr-var-item'><div class='xr-var-name'><span>s2:mean_solar_zenith</span></div><div class='xr-var-dims'>(time)</div><div class='xr-var-dtype'>float64</div><div class='xr-var-preview xr-preview'>40.32 37.77 39.68 40.04 40.03</div><input id='attrs-5284166f-8a81-49f1-b369-ed20f9d00d6a' class='xr-var-attrs-in' type='checkbox' disabled><label for='attrs-5284166f-8a81-49f1-b369-ed20f9d00d6a' title='Show/Hide attributes'><svg class='icon xr-icon-file-text2'><use xlink:href='#icon-file-text2'></use></svg></label><input id='data-b5a3dd19-0e84-462e-b570-ef823d5110dd' class='xr-var-data-in' type='checkbox'><label for='data-b5a3dd19-0e84-462e-b570-ef823d5110dd' title='Show/Hide data repr'><svg class='icon xr-icon-database'><use xlink:href='#icon-database'></use></svg></label><div class='xr-var-attrs'><dl class='xr-attrs'></dl></div><div class='xr-var-data'><pre>array([40.31880089, 37.76587633, 39.68319946, 40.04278651, 40.03236022])</pre></div></li><li class='xr-var-item'><div class='xr-var-name'><span>s2:processing_baseline</span></div><div class='xr-var-dims'>()</div><div class='xr-var-dtype'>&lt;U5</div><div class='xr-var-preview xr-preview'>&#x27;02.12&#x27;</div><input id='attrs-976b7ee4-8033-4e76-9778-3d0dd3bf9c77' class='xr-var-attrs-in' type='checkbox' disabled><label for='attrs-976b7ee4-8033-4e76-9778-3d0dd3bf9c77' title='Show/Hide attributes'><svg class='icon xr-icon-file-text2'><use xlink:href='#icon-file-text2'></use></svg></label><input id='data-85759b47-1935-4204-8f7d-e59651dc25e5' class='xr-var-data-in' type='checkbox'><label for='data-85759b47-1935-4204-8f7d-e59651dc25e5' title='Show/Hide data repr'><svg class='icon xr-icon-database'><use xlink:href='#icon-database'></use></svg></label><div class='xr-var-attrs'><dl class='xr-attrs'></dl></div><div class='xr-var-data'><pre>array(&#x27;02.12&#x27;, dtype=&#x27;&lt;U5&#x27;)</pre></div></li><li class='xr-var-item'><div class='xr-var-name'><span>constellation</span></div><div class='xr-var-dims'>()</div><div class='xr-var-dtype'>&lt;U10</div><div class='xr-var-preview xr-preview'>&#x27;Sentinel 2&#x27;</div><input id='attrs-fd078780-a4c0-4752-a0a6-95697f5fde5f' class='xr-var-attrs-in' type='checkbox' disabled><label for='attrs-fd078780-a4c0-4752-a0a6-95697f5fde5f' title='Show/Hide attributes'><svg class='icon xr-icon-file-text2'><use xlink:href='#icon-file-text2'></use></svg></label><input id='data-822992ad-aa8b-4514-8abe-7b80fb5ef1a1' class='xr-var-data-in' type='checkbox'><label for='data-822992ad-aa8b-4514-8abe-7b80fb5ef1a1' title='Show/Hide data repr'><svg class='icon xr-icon-database'><use xlink:href='#icon-database'></use></svg></label><div class='xr-var-attrs'><dl class='xr-attrs'></dl></div><div class='xr-var-data'><pre>array(&#x27;Sentinel 2&#x27;, dtype=&#x27;&lt;U10&#x27;)</pre></div></li><li class='xr-var-item'><div class='xr-var-name'><span>instruments</span></div><div class='xr-var-dims'>()</div><div class='xr-var-dtype'>&lt;U3</div><div class='xr-var-preview xr-preview'>&#x27;msi&#x27;</div><input id='attrs-1c3c311e-123c-4350-87c2-d3f133b9b1a0' class='xr-var-attrs-in' type='checkbox' disabled><label for='attrs-1c3c311e-123c-4350-87c2-d3f133b9b1a0' title='Show/Hide attributes'><svg class='icon xr-icon-file-text2'><use xlink:href='#icon-file-text2'></use></svg></label><input id='data-882214c4-2174-4f15-95a4-ee65e69f7e4d' class='xr-var-data-in' type='checkbox'><label for='data-882214c4-2174-4f15-95a4-ee65e69f7e4d' title='Show/Hide data repr'><svg class='icon xr-icon-database'><use xlink:href='#icon-database'></use></svg></label><div class='xr-var-attrs'><dl class='xr-attrs'></dl></div><div class='xr-var-data'><pre>array(&#x27;msi&#x27;, dtype=&#x27;&lt;U3&#x27;)</pre></div></li><li class='xr-var-item'><div class='xr-var-name'><span>s2:datatake_type</span></div><div class='xr-var-dims'>()</div><div class='xr-var-dtype'>&lt;U8</div><div class='xr-var-preview xr-preview'>&#x27;INS-NOBS&#x27;</div><input id='attrs-e0154bca-2e02-442f-95b2-63720864d423' class='xr-var-attrs-in' type='checkbox' disabled><label for='attrs-e0154bca-2e02-442f-95b2-63720864d423' title='Show/Hide attributes'><svg class='icon xr-icon-file-text2'><use xlink:href='#icon-file-text2'></use></svg></label><input id='data-116d6887-cb7a-4dc9-b63d-43f3fdccbec2' class='xr-var-data-in' type='checkbox'><label for='data-116d6887-cb7a-4dc9-b63d-43f3fdccbec2' title='Show/Hide data repr'><svg class='icon xr-icon-database'><use xlink:href='#icon-database'></use></svg></label><div class='xr-var-attrs'><dl class='xr-attrs'></dl></div><div class='xr-var-data'><pre>array(&#x27;INS-NOBS&#x27;, dtype=&#x27;&lt;U8&#x27;)</pre></div></li><li class='xr-var-item'><div class='xr-var-name'><span>s2:snow_ice_percentage</span></div><div class='xr-var-dims'>()</div><div class='xr-var-dtype'>float64</div><div class='xr-var-preview xr-preview'>0.0</div><input id='attrs-e03dad7c-d086-4449-867f-f2eb1f1fac0f' class='xr-var-attrs-in' type='checkbox' disabled><label for='attrs-e03dad7c-d086-4449-867f-f2eb1f1fac0f' title='Show/Hide attributes'><svg class='icon xr-icon-file-text2'><use xlink:href='#icon-file-text2'></use></svg></label><input id='data-48d21c1c-2c5c-4b45-b1a3-5edf91cc574b' class='xr-var-data-in' type='checkbox'><label for='data-48d21c1c-2c5c-4b45-b1a3-5edf91cc574b' title='Show/Hide data repr'><svg class='icon xr-icon-database'><use xlink:href='#icon-database'></use></svg></label><div class='xr-var-attrs'><dl class='xr-attrs'></dl></div><div class='xr-var-data'><pre>array(0.)</pre></div></li><li class='xr-var-item'><div class='xr-var-name'><span>s2:dark_features_percentage</span></div><div class='xr-var-dims'>(time)</div><div class='xr-var-dtype'>float64</div><div class='xr-var-preview xr-preview'>0.06314 0.1075 ... 0.06388 0.06595</div><input id='attrs-49f374bb-6e8b-4ef6-9113-69413113fc60' class='xr-var-attrs-in' type='checkbox' disabled><label for='attrs-49f374bb-6e8b-4ef6-9113-69413113fc60' title='Show/Hide attributes'><svg class='icon xr-icon-file-text2'><use xlink:href='#icon-file-text2'></use></svg></label><input id='data-ea8247fa-160d-47ac-83df-360902525b11' class='xr-var-data-in' type='checkbox'><label for='data-ea8247fa-160d-47ac-83df-360902525b11' title='Show/Hide data repr'><svg class='icon xr-icon-database'><use xlink:href='#icon-database'></use></svg></label><div class='xr-var-attrs'><dl class='xr-attrs'></dl></div><div class='xr-var-data'><pre>array([0.063142, 0.107498, 0.063019, 0.063882, 0.065949])</pre></div></li><li class='xr-var-item'><div class='xr-var-name'><span>s2:water_percentage</span></div><div class='xr-var-dims'>(time)</div><div class='xr-var-dtype'>float64</div><div class='xr-var-preview xr-preview'>0.4949 0.4862 0.497 0.5117 0.5117</div><input id='attrs-65d8576a-d1be-4d60-a385-e3f96d988f2d' class='xr-var-attrs-in' type='checkbox' disabled><label for='attrs-65d8576a-d1be-4d60-a385-e3f96d988f2d' title='Show/Hide attributes'><svg class='icon xr-icon-file-text2'><use xlink:href='#icon-file-text2'></use></svg></label><input id='data-aa2cff8d-9dc2-4060-85ee-a787ca1c2e48' class='xr-var-data-in' type='checkbox'><label for='data-aa2cff8d-9dc2-4060-85ee-a787ca1c2e48' title='Show/Hide data repr'><svg class='icon xr-icon-database'><use xlink:href='#icon-database'></use></svg></label><div class='xr-var-attrs'><dl class='xr-attrs'></dl></div><div class='xr-var-data'><pre>array([0.494935, 0.48617 , 0.496953, 0.511657, 0.511657])</pre></div></li><li class='xr-var-item'><div class='xr-var-name'><span>proj:shape</span></div><div class='xr-var-dims'>()</div><div class='xr-var-dtype'>object</div><div class='xr-var-preview xr-preview'>{10980}</div><input id='attrs-dab76c03-a1c8-4069-beef-4f9a992430e3' class='xr-var-attrs-in' type='checkbox' disabled><label for='attrs-dab76c03-a1c8-4069-beef-4f9a992430e3' title='Show/Hide attributes'><svg class='icon xr-icon-file-text2'><use xlink:href='#icon-file-text2'></use></svg></label><input id='data-a7819902-13ae-481b-a2fb-1234f1b8366a' class='xr-var-data-in' type='checkbox'><label for='data-a7819902-13ae-481b-a2fb-1234f1b8366a' title='Show/Hide data repr'><svg class='icon xr-icon-database'><use xlink:href='#icon-database'></use></svg></label><div class='xr-var-attrs'><dl class='xr-attrs'></dl></div><div class='xr-var-data'><pre>array({10980}, dtype=object)</pre></div></li><li class='xr-var-item'><div class='xr-var-name'><span>gsd</span></div><div class='xr-var-dims'>()</div><div class='xr-var-dtype'>float64</div><div class='xr-var-preview xr-preview'>10.0</div><input id='attrs-58189a29-870e-42af-b99f-6221318c95a0' class='xr-var-attrs-in' type='checkbox' disabled><label for='attrs-58189a29-870e-42af-b99f-6221318c95a0' title='Show/Hide attributes'><svg class='icon xr-icon-file-text2'><use xlink:href='#icon-file-text2'></use></svg></label><input id='data-623a9bf0-058b-4424-8b19-54ec0deb8972' class='xr-var-data-in' type='checkbox'><label for='data-623a9bf0-058b-4424-8b19-54ec0deb8972' title='Show/Hide data repr'><svg class='icon xr-icon-database'><use xlink:href='#icon-database'></use></svg></label><div class='xr-var-attrs'><dl class='xr-attrs'></dl></div><div class='xr-var-data'><pre>array(10.)</pre></div></li><li class='xr-var-item'><div class='xr-var-name'><span>proj:bbox</span></div><div class='xr-var-dims'>()</div><div class='xr-var-dtype'>object</div><div class='xr-var-preview xr-preview'>{699960.0, 809760.0, 8990200.0, ...</div><input id='attrs-df0efdf3-8cdc-4633-b42e-35c898d96954' class='xr-var-attrs-in' type='checkbox' disabled><label for='attrs-df0efdf3-8cdc-4633-b42e-35c898d96954' title='Show/Hide attributes'><svg class='icon xr-icon-file-text2'><use xlink:href='#icon-file-text2'></use></svg></label><input id='data-5bd0f53d-f5d6-408c-bf6d-6383e8918936' class='xr-var-data-in' type='checkbox'><label for='data-5bd0f53d-f5d6-408c-bf6d-6383e8918936' title='Show/Hide data repr'><svg class='icon xr-icon-database'><use xlink:href='#icon-database'></use></svg></label><div class='xr-var-attrs'><dl class='xr-attrs'></dl></div><div class='xr-var-data'><pre>array({699960.0, 809760.0, 8990200.0, 9100000.0}, dtype=object)</pre></div></li><li class='xr-var-item'><div class='xr-var-name'><span>title</span></div><div class='xr-var-dims'>(band)</div><div class='xr-var-dtype'>&lt;U20</div><div class='xr-var-preview xr-preview'>&#x27;Band 2 - Blue - 10m&#x27; ... &#x27;Band ...</div><input id='attrs-309fdd00-884a-4c14-afa6-499a3d2c4034' class='xr-var-attrs-in' type='checkbox' disabled><label for='attrs-309fdd00-884a-4c14-afa6-499a3d2c4034' title='Show/Hide attributes'><svg class='icon xr-icon-file-text2'><use xlink:href='#icon-file-text2'></use></svg></label><input id='data-9a7ad9f1-7f7e-4775-bbbd-b3be33234c10' class='xr-var-data-in' type='checkbox'><label for='data-9a7ad9f1-7f7e-4775-bbbd-b3be33234c10' title='Show/Hide data repr'><svg class='icon xr-icon-database'><use xlink:href='#icon-database'></use></svg></label><div class='xr-var-attrs'><dl class='xr-attrs'></dl></div><div class='xr-var-data'><pre>array([&#x27;Band 2 - Blue - 10m&#x27;, &#x27;Band 3 - Green - 10m&#x27;,\n",
       "       &#x27;Band 4 - Red - 10m&#x27;, &#x27;Band 8 - NIR - 10m&#x27;], dtype=&#x27;&lt;U20&#x27;)</pre></div></li><li class='xr-var-item'><div class='xr-var-name'><span>proj:transform</span></div><div class='xr-var-dims'>()</div><div class='xr-var-dtype'>object</div><div class='xr-var-preview xr-preview'>{0.0, 9100000.0, 10.0, -10.0, 69...</div><input id='attrs-dc5f9406-bc1e-478c-9215-44662ffa3f6d' class='xr-var-attrs-in' type='checkbox' disabled><label for='attrs-dc5f9406-bc1e-478c-9215-44662ffa3f6d' title='Show/Hide attributes'><svg class='icon xr-icon-file-text2'><use xlink:href='#icon-file-text2'></use></svg></label><input id='data-f6fb10c0-f72c-41ba-b07f-aa7f10bb442f' class='xr-var-data-in' type='checkbox'><label for='data-f6fb10c0-f72c-41ba-b07f-aa7f10bb442f' title='Show/Hide data repr'><svg class='icon xr-icon-database'><use xlink:href='#icon-database'></use></svg></label><div class='xr-var-attrs'><dl class='xr-attrs'></dl></div><div class='xr-var-data'><pre>array({0.0, 9100000.0, 10.0, -10.0, 699960.0}, dtype=object)</pre></div></li><li class='xr-var-item'><div class='xr-var-name'><span>common_name</span></div><div class='xr-var-dims'>(band)</div><div class='xr-var-dtype'>&lt;U5</div><div class='xr-var-preview xr-preview'>&#x27;blue&#x27; &#x27;green&#x27; &#x27;red&#x27; &#x27;nir&#x27;</div><input id='attrs-24da5146-dfb0-4ebc-bbe8-5af0067b62d7' class='xr-var-attrs-in' type='checkbox' disabled><label for='attrs-24da5146-dfb0-4ebc-bbe8-5af0067b62d7' title='Show/Hide attributes'><svg class='icon xr-icon-file-text2'><use xlink:href='#icon-file-text2'></use></svg></label><input id='data-08614b23-2d8b-43b7-8df5-d17d308c659b' class='xr-var-data-in' type='checkbox'><label for='data-08614b23-2d8b-43b7-8df5-d17d308c659b' title='Show/Hide data repr'><svg class='icon xr-icon-database'><use xlink:href='#icon-database'></use></svg></label><div class='xr-var-attrs'><dl class='xr-attrs'></dl></div><div class='xr-var-data'><pre>array([&#x27;blue&#x27;, &#x27;green&#x27;, &#x27;red&#x27;, &#x27;nir&#x27;], dtype=&#x27;&lt;U5&#x27;)</pre></div></li><li class='xr-var-item'><div class='xr-var-name'><span>center_wavelength</span></div><div class='xr-var-dims'>(band)</div><div class='xr-var-dtype'>float64</div><div class='xr-var-preview xr-preview'>0.49 0.56 0.665 0.842</div><input id='attrs-3b196414-4b3b-456b-8dde-973d89be216e' class='xr-var-attrs-in' type='checkbox' disabled><label for='attrs-3b196414-4b3b-456b-8dde-973d89be216e' title='Show/Hide attributes'><svg class='icon xr-icon-file-text2'><use xlink:href='#icon-file-text2'></use></svg></label><input id='data-3b16061d-b92c-4029-8630-3eb05daa06d5' class='xr-var-data-in' type='checkbox'><label for='data-3b16061d-b92c-4029-8630-3eb05daa06d5' title='Show/Hide data repr'><svg class='icon xr-icon-database'><use xlink:href='#icon-database'></use></svg></label><div class='xr-var-attrs'><dl class='xr-attrs'></dl></div><div class='xr-var-data'><pre>array([0.49 , 0.56 , 0.665, 0.842])</pre></div></li><li class='xr-var-item'><div class='xr-var-name'><span>full_width_half_max</span></div><div class='xr-var-dims'>(band)</div><div class='xr-var-dtype'>float64</div><div class='xr-var-preview xr-preview'>0.098 0.045 0.038 0.145</div><input id='attrs-d2f3cdf8-76e5-4edc-b989-382d6d9f3302' class='xr-var-attrs-in' type='checkbox' disabled><label for='attrs-d2f3cdf8-76e5-4edc-b989-382d6d9f3302' title='Show/Hide attributes'><svg class='icon xr-icon-file-text2'><use xlink:href='#icon-file-text2'></use></svg></label><input id='data-8d108a04-e68b-4daa-a5bb-e17147551e01' class='xr-var-data-in' type='checkbox'><label for='data-8d108a04-e68b-4daa-a5bb-e17147551e01' title='Show/Hide data repr'><svg class='icon xr-icon-database'><use xlink:href='#icon-database'></use></svg></label><div class='xr-var-attrs'><dl class='xr-attrs'></dl></div><div class='xr-var-data'><pre>array([0.098, 0.045, 0.038, 0.145])</pre></div></li><li class='xr-var-item'><div class='xr-var-name'><span>epsg</span></div><div class='xr-var-dims'>()</div><div class='xr-var-dtype'>int64</div><div class='xr-var-preview xr-preview'>32619</div><input id='attrs-7be2a067-fbdf-4ad8-a573-30af269deaf1' class='xr-var-attrs-in' type='checkbox' disabled><label for='attrs-7be2a067-fbdf-4ad8-a573-30af269deaf1' title='Show/Hide attributes'><svg class='icon xr-icon-file-text2'><use xlink:href='#icon-file-text2'></use></svg></label><input id='data-0107b3c0-0ce9-43da-9c93-df04e035f5ad' class='xr-var-data-in' type='checkbox'><label for='data-0107b3c0-0ce9-43da-9c93-df04e035f5ad' title='Show/Hide data repr'><svg class='icon xr-icon-database'><use xlink:href='#icon-database'></use></svg></label><div class='xr-var-attrs'><dl class='xr-attrs'></dl></div><div class='xr-var-data'><pre>array(32619)</pre></div></li></ul></div></li><li class='xr-section-item'><input id='section-50800008-3014-42c8-ab58-982d1f4c37dd' class='xr-section-summary-in' type='checkbox'  checked><label for='section-50800008-3014-42c8-ab58-982d1f4c37dd' class='xr-section-summary' >Attributes: <span>(4)</span></label><div class='xr-section-inline-details'></div><div class='xr-section-details'><dl class='xr-attrs'><dt><span>spec :</span></dt><dd>RasterSpec(epsg=32619, bounds=(1361500, -1021000, 1474500, -907500), resolutions_xy=(500, 500))</dd><dt><span>crs :</span></dt><dd>epsg:32619</dd><dt><span>transform :</span></dt><dd>| 500.00, 0.00, 1361500.00|\n",
       "| 0.00,-500.00,-907500.00|\n",
       "| 0.00, 0.00, 1.00|</dd><dt><span>resolution :</span></dt><dd>500</dd></dl></div></li></ul></div></div>"
      ],
      "text/plain": [
       "<xarray.DataArray 'stackstac-6aab09147bacb75bf1d5e6bdb3733648' (time: 5,\n",
       "                                                                band: 4,\n",
       "                                                                y: 227, x: 226)>\n",
       "dask.array<where, shape=(5, 4, 227, 226), dtype=float64, chunksize=(1, 1, 227, 226), chunktype=numpy.ndarray>\n",
       "Coordinates: (12/46)\n",
       "  * time                                     (time) datetime64[ns] 2016-06-28...\n",
       "    id                                       (time) <U54 'S2A_MSIL2A_20160627...\n",
       "  * band                                     (band) <U5 'blue' 'green' ... 'nir'\n",
       "  * x                                        (x) float64 1.362e+06 ... 1.474e+06\n",
       "  * y                                        (y) float64 -9.075e+05 ... -1.02...\n",
       "    s2:granule_id                            (time) <U62 'S2A_OPER_MSI_L2A_TL...\n",
       "    ...                                       ...\n",
       "    title                                    (band) <U20 'Band 2 - Blue - 10m...\n",
       "    proj:transform                           object {0.0, 9100000.0, 10.0, -1...\n",
       "    common_name                              (band) <U5 'blue' 'green' ... 'nir'\n",
       "    center_wavelength                        (band) float64 0.49 0.56 ... 0.842\n",
       "    full_width_half_max                      (band) float64 0.098 ... 0.145\n",
       "    epsg                                     int64 32619\n",
       "Attributes:\n",
       "    spec:        RasterSpec(epsg=32619, bounds=(1361500, -1021000, 1474500, -...\n",
       "    crs:         epsg:32619\n",
       "    transform:   | 500.00, 0.00, 1361500.00|\\n| 0.00,-500.00,-907500.00|\\n| 0...\n",
       "    resolution:  500"
      ]
     },
     "execution_count": 4,
     "metadata": {},
     "output_type": "execute_result"
    }
   ],
   "source": [
    "items = search.item_collection()\n",
    "\n",
    "data = (\n",
    "    stackstac.stack(\n",
    "        items,\n",
    "        epsg=32619,\n",
    "        resolution=500,\n",
    "        assets=[\"B02\", \"B03\", \"B04\", \"B08\"],  # blue, green, red, nir\n",
    "        chunksize=256,  # set chunk size to 256 to get one chunk per time step\n",
    "    )\n",
    "    .where(lambda x: x > 0, other=np.nan)  # sentinel-2 uses 0 as nodata\n",
    "    .assign_coords(\n",
    "        band=lambda x: x.common_name.rename(\"band\"),  # use common names\n",
    "        time=lambda x: x.time.dt.round(\n",
    "            \"D\"\n",
    "        ),  # round time to daily for nicer plot labels\n",
    "    )\n",
    ")\n",
    "data"
   ]
  },
  {
   "cell_type": "markdown",
   "metadata": {},
   "source": [
    "Now lets load up the data. This should take about 30 seconds."
   ]
  },
  {
   "cell_type": "code",
   "execution_count": 5,
   "metadata": {},
   "outputs": [
    {
     "data": {
      "application/vnd.jupyter.widget-view+json": {
       "model_id": "7703a122c35249828ba4ebd166d855b3",
       "version_major": 2,
       "version_minor": 0
      },
      "text/plain": [
       "VBox()"
      ]
     },
     "metadata": {},
     "output_type": "display_data"
    }
   ],
   "source": [
    "data = data.persist()\n",
    "progress(data)"
   ]
  },
  {
   "cell_type": "markdown",
   "metadata": {},
   "source": [
    "### True color\n",
    "\n",
    "Let's see how the data actually looks by visualizing them with `true_color` function from [xrspatial.multispectral](https://xarray-spatial.org/reference/multispectral.html). To hide the label for x and y axes from sub-plots, we can update `rcParams` for `matplotlib.pyplot` as below:"
   ]
  },
  {
   "cell_type": "code",
   "execution_count": 6,
   "metadata": {},
   "outputs": [],
   "source": [
    "rc = {\n",
    "    \"axes.spines.left\": False,\n",
    "    \"axes.spines.right\": False,\n",
    "    \"axes.spines.bottom\": False,\n",
    "    \"axes.spines.top\": False,\n",
    "    \"xtick.bottom\": False,\n",
    "    \"xtick.labelbottom\": False,\n",
    "    \"ytick.labelleft\": False,\n",
    "    \"ytick.left\": False,\n",
    "}\n",
    "\n",
    "plt.rcParams.update(rc)"
   ]
  },
  {
   "cell_type": "code",
   "execution_count": 7,
   "metadata": {},
   "outputs": [
    {
     "data": {
      "text/html": [
       "<img src=\"https://ai4edatasetspublicassets.blob.core.windows.net/assets/notebook-output/tutorials-ndvi_hotspots.ipynb/7.png\"/>"
      ],
      "text/plain": [
       "<Figure size 1152x216 with 5 Axes>"
      ]
     },
     "metadata": {},
     "output_type": "display_data"
    }
   ],
   "source": [
    "true_color_aggs = [\n",
    "    ms.true_color(x.sel(band=\"red\"), x.sel(band=\"green\"), x.sel(band=\"blue\"))\n",
    "    for x in data\n",
    "]\n",
    "\n",
    "true_color = xr.concat(true_color_aggs, dim=data.coords[\"time\"])\n",
    "\n",
    "# visualize\n",
    "t = true_color.plot.imshow(x=\"x\", y=\"y\", col=\"time\", col_wrap=5)"
   ]
  },
  {
   "cell_type": "code",
   "execution_count": 8,
   "metadata": {
    "tags": []
   },
   "outputs": [
    {
     "data": {
      "text/html": [
       "<img src=\"https://ai4edatasetspublicassets.blob.core.windows.net/assets/notebook-output/tutorials-ndvi_hotspots.ipynb/8.png\"/>"
      ],
      "text/plain": [
       "<Figure size 1152x216 with 5 Axes>"
      ]
     },
     "metadata": {},
     "output_type": "display_data"
    }
   ],
   "source": [
    "true_color_aggs = [\n",
    "    ms.true_color(x.sel(band=\"red\"), x.sel(band=\"green\"), x.sel(band=\"blue\"))\n",
    "    for x in data\n",
    "]\n",
    "\n",
    "true_color = xr.concat(true_color_aggs, dim=data.coords[\"time\"])\n",
    "\n",
    "# visualize\n",
    "t = true_color.plot.imshow(x=\"x\", y=\"y\", col=\"time\", col_wrap=5)"
   ]
  },
  {
   "cell_type": "markdown",
   "metadata": {},
   "source": [
    "### NDVI\n",
    "\n",
    "NDVI can be calculated with [xarray-spatial](https://xarray-spatial.org/reference/_autosummary/xrspatial.multispectral.ndvi.html). We'll compute the NDVI for each year's image."
   ]
  },
  {
   "cell_type": "code",
   "execution_count": 9,
   "metadata": {
    "tags": []
   },
   "outputs": [
    {
     "data": {
      "text/html": [
       "<img src=\"https://ai4edatasetspublicassets.blob.core.windows.net/assets/notebook-output/tutorials-ndvi_hotspots.ipynb/9.png\"/>"
      ],
      "text/plain": [
       "<Figure size 1152x216 with 6 Axes>"
      ]
     },
     "metadata": {},
     "output_type": "display_data"
    }
   ],
   "source": [
    "ndvi_aggs = [ms.ndvi(x.sel(band=\"nir\"), x.sel(band=\"red\")) for x in data]\n",
    "\n",
    "ndvi = xr.concat(ndvi_aggs, dim=\"time\")\n",
    "\n",
    "ndvi.plot.imshow(x=\"x\", y=\"y\", col=\"time\", col_wrap=5, cmap=\"viridis\");"
   ]
  },
  {
   "cell_type": "markdown",
   "metadata": {},
   "source": [
    "### Smoothing Images with Focal Mean\n",
    "\n",
    "[`focal.mean`](https://xarray-spatial.org/reference/_autosummary/xrspatial.focal.mean.html) can be used to smooth or reduce noises in an image by a mean reduction to each 3x3 window in an image."
   ]
  },
  {
   "cell_type": "code",
   "execution_count": 10,
   "metadata": {},
   "outputs": [
    {
     "data": {
      "text/html": [
       "<img src=\"https://ai4edatasetspublicassets.blob.core.windows.net/assets/notebook-output/tutorials-ndvi_hotspots.ipynb/10.png\"/>"
      ],
      "text/plain": [
       "<Figure size 1152x216 with 6 Axes>"
      ]
     },
     "metadata": {},
     "output_type": "display_data"
    }
   ],
   "source": [
    "mean_aggs = [mean(ndvi_agg) for ndvi_agg in ndvi_aggs]\n",
    "\n",
    "smooth = xr.concat(mean_aggs, dim=\"time\")\n",
    "\n",
    "s = smooth.plot.imshow(x=\"x\", y=\"y\", col=\"time\", col_wrap=5, cmap=\"viridis\")"
   ]
  },
  {
   "cell_type": "markdown",
   "metadata": {
    "tags": []
   },
   "source": [
    "### Focal statistics\n",
    "\n",
    "In this step, we calculate [focal statistics](https://xarray-spatial.org/user_guide/focal.html#) using a circular kernel for the NDVI data arrays computed above. By default, seven statistics are computed:\n",
    "\n",
    "1. Mean\n",
    "2. Max\n",
    "3. Min\n",
    "4. Range\n",
    "5. Std\n",
    "6. Var\n",
    "7. Sum\n",
    "\n",
    "The result of `focal_stats` is a 3D `DataArray` with the newly added `stats` dimension.\n",
    "The size of the kernel will affect the result of `focal_stats`. We'll use `cacl_cellsize` to determine a good kernel size. In this example, each pixel represents a region of `500m x 500m`, let's consider a circular kernel with a radius of 1.5km, equivalent to 3 times of the input cellsize."
   ]
  },
  {
   "cell_type": "code",
   "execution_count": 11,
   "metadata": {},
   "outputs": [
    {
     "data": {
      "text/plain": [
       "(500.0, 500.0)"
      ]
     },
     "execution_count": 11,
     "metadata": {},
     "output_type": "execute_result"
    }
   ],
   "source": [
    "cellsize = calc_cellsize(ndvi)\n",
    "cellsize"
   ]
  },
  {
   "cell_type": "code",
   "execution_count": 12,
   "metadata": {},
   "outputs": [
    {
     "data": {
      "text/plain": [
       "(7, 7)"
      ]
     },
     "execution_count": 12,
     "metadata": {},
     "output_type": "execute_result"
    }
   ],
   "source": [
    "kernel = circle_kernel(*cellsize, radius=3 * cellsize[0])\n",
    "kernel.shape"
   ]
  },
  {
   "cell_type": "code",
   "execution_count": 13,
   "metadata": {},
   "outputs": [
    {
     "name": "stdout",
     "output_type": "stream",
     "text": [
      "CPU times: user 379 ms, sys: 19.3 ms, total: 398 ms\n",
      "Wall time: 385 ms\n"
     ]
    }
   ],
   "source": [
    "%%time\n",
    "stats_aggs = [focal_stats(ndvi_agg, kernel) for ndvi_agg in ndvi_aggs]\n",
    "\n",
    "stats = xr.concat(stats_aggs, dim=\"time\")"
   ]
  },
  {
   "cell_type": "code",
   "execution_count": 14,
   "metadata": {},
   "outputs": [
    {
     "data": {
      "text/html": [
       "<img src=\"https://ai4edatasetspublicassets.blob.core.windows.net/assets/notebook-output/tutorials-ndvi_hotspots.ipynb/14.png\"/>"
      ],
      "text/plain": [
       "<Figure size 1152x216 with 6 Axes>"
      ]
     },
     "metadata": {},
     "output_type": "display_data"
    },
    {
     "data": {
      "text/html": [
       "<img src=\"https://ai4edatasetspublicassets.blob.core.windows.net/assets/notebook-output/tutorials-ndvi_hotspots.ipynb/14.png\"/>"
      ],
      "text/plain": [
       "<Figure size 1152x216 with 6 Axes>"
      ]
     },
     "metadata": {},
     "output_type": "display_data"
    },
    {
     "data": {
      "text/html": [
       "<img src=\"https://ai4edatasetspublicassets.blob.core.windows.net/assets/notebook-output/tutorials-ndvi_hotspots.ipynb/14.png\"/>"
      ],
      "text/plain": [
       "<Figure size 1152x216 with 6 Axes>"
      ]
     },
     "metadata": {},
     "output_type": "display_data"
    },
    {
     "data": {
      "text/html": [
       "<img src=\"https://ai4edatasetspublicassets.blob.core.windows.net/assets/notebook-output/tutorials-ndvi_hotspots.ipynb/14.png\"/>"
      ],
      "text/plain": [
       "<Figure size 1152x216 with 6 Axes>"
      ]
     },
     "metadata": {},
     "output_type": "display_data"
    },
    {
     "data": {
      "text/html": [
       "<img src=\"https://ai4edatasetspublicassets.blob.core.windows.net/assets/notebook-output/tutorials-ndvi_hotspots.ipynb/14.png\"/>"
      ],
      "text/plain": [
       "<Figure size 1152x216 with 6 Axes>"
      ]
     },
     "metadata": {},
     "output_type": "display_data"
    },
    {
     "data": {
      "text/html": [
       "<img src=\"https://ai4edatasetspublicassets.blob.core.windows.net/assets/notebook-output/tutorials-ndvi_hotspots.ipynb/14.png\"/>"
      ],
      "text/plain": [
       "<Figure size 1152x216 with 6 Axes>"
      ]
     },
     "metadata": {},
     "output_type": "display_data"
    },
    {
     "data": {
      "text/html": [
       "<img src=\"https://ai4edatasetspublicassets.blob.core.windows.net/assets/notebook-output/tutorials-ndvi_hotspots.ipynb/14.png\"/>"
      ],
      "text/plain": [
       "<Figure size 1152x216 with 6 Axes>"
      ]
     },
     "metadata": {},
     "output_type": "display_data"
    }
   ],
   "source": [
    "# transpose the data array so `stats` dimension appears first\n",
    "stats_t = stats.transpose(\"stats\", \"time\", \"y\", \"x\")\n",
    "\n",
    "for stats_img in stats_t:\n",
    "    g = stats_img.plot.imshow(x=\"x\", y=\"y\", col=\"time\", col_wrap=5, cmap=\"viridis\")"
   ]
  },
  {
   "cell_type": "markdown",
   "metadata": {},
   "source": [
    "### Custom statistics\n",
    "\n",
    "Sometimes you may want to a different statistic than the options provided in `focal_stats`, or you want to apply a custom kernel to your images. That's when you can think about using `convolution.convolution_2d` to calculate, for all inner cells of an array, the 2D convolution of each cell. Convolution is frequently used for image processing, such as smoothing, sharpening, and edge detection of images by eliminating spurious data or enhancing features in the data.\n",
    "\n",
    "As an example, let's experiment a horizontal Sobel kernel."
   ]
  },
  {
   "cell_type": "code",
   "execution_count": 15,
   "metadata": {},
   "outputs": [
    {
     "data": {
      "text/plain": [
       "array([[ 1,  0, -1],\n",
       "       [ 2,  0, -2],\n",
       "       [ 1,  0, -1]])"
      ]
     },
     "execution_count": 15,
     "metadata": {},
     "output_type": "execute_result"
    }
   ],
   "source": [
    "# Use Sobel operator\n",
    "sobel_kernel = np.array([[1, 0, -1], [2, 0, -2], [1, 0, -1]])\n",
    "\n",
    "sobel_kernel"
   ]
  },
  {
   "cell_type": "code",
   "execution_count": 16,
   "metadata": {},
   "outputs": [
    {
     "data": {
      "text/html": [
       "<img src=\"https://ai4edatasetspublicassets.blob.core.windows.net/assets/notebook-output/tutorials-ndvi_hotspots.ipynb/16.png\"/>"
      ],
      "text/plain": [
       "<Figure size 1152x216 with 6 Axes>"
      ]
     },
     "metadata": {},
     "output_type": "display_data"
    }
   ],
   "source": [
    "sobel_aggs = [convolution_2d(ndvi_agg, sobel_kernel) for ndvi_agg in ndvi_aggs]\n",
    "\n",
    "sobel_agg = xr.concat(sobel_aggs, dim=\"time\")\n",
    "\n",
    "sobel_agg.plot.imshow(x=\"x\", y=\"y\", col=\"time\", col_wrap=5, cmap=\"viridis\");"
   ]
  },
  {
   "cell_type": "markdown",
   "metadata": {},
   "source": [
    "### Hotspots\n",
    " \n",
    "We can use the `hotspots` function to identify hot and cold spots in a DataArray. A statistically significant hot spot has a high value and is surrounded by other high values. A cold spot has a low value and is surrounded by other low values features.\n",
    "\n",
    "Similar to other focal tools, to identify hot and cold spots we need to provide a kernel as a NumPy ndarary, along with the input data array to be analysed. The output array will have one of 7 possible values for each pixel of the input array:\n",
    "\n",
    "- -99 for 99% confidence low value cluster (cold spot)\n",
    "- -95 for 95% confidence low value cluster (cold spot)\n",
    "- -90 for 90% confidence low value cluster (cold spot)\n",
    "- 0 for no significance\n",
    "- +90 for 90% confidence high value cluster (hot spot)\n",
    "- +95 for 95% confidence high value cluster (hot spot)\n",
    "- +99 for 99% confidence high value cluster (hot spot)\n",
    "\n",
    "Hotspots are identified using z-scores of all cells in a input raster, which requires a global mean to be defined. Currently, `focal.hotspots` does not perform well in term of finding nan-mean of a Dask-backed data array, so let's use pure numpy-backed version for this."
   ]
  },
  {
   "cell_type": "code",
   "execution_count": 17,
   "metadata": {},
   "outputs": [
    {
     "name": "stdout",
     "output_type": "stream",
     "text": [
      "CPU times: user 114 ms, sys: 3.81 ms, total: 118 ms\n",
      "Wall time: 112 ms\n"
     ]
    }
   ],
   "source": [
    "%%time\n",
    "hotspots_aggs = [hotspots(ndvi_agg, kernel) for ndvi_agg in ndvi]\n",
    "\n",
    "hotspots_ndvi = xr.concat(hotspots_aggs, dim=\"time\")"
   ]
  },
  {
   "cell_type": "code",
   "execution_count": 18,
   "metadata": {},
   "outputs": [
    {
     "data": {
      "text/html": [
       "<img src=\"https://ai4edatasetspublicassets.blob.core.windows.net/assets/notebook-output/tutorials-ndvi_hotspots.ipynb/18.png\"/>"
      ],
      "text/plain": [
       "<Figure size 1152x216 with 6 Axes>"
      ]
     },
     "metadata": {},
     "output_type": "display_data"
    }
   ],
   "source": [
    "hotspots_ndvi.plot.imshow(x=\"x\", y=\"y\", col=\"time\", col_wrap=5, cmap=\"viridis\");"
   ]
  },
  {
   "cell_type": "code",
   "execution_count": 19,
   "metadata": {},
   "outputs": [
    {
     "data": {
      "text/plain": [
       "array([-99, -95, -90,   0], dtype=int8)"
      ]
     },
     "execution_count": 19,
     "metadata": {},
     "output_type": "execute_result"
    }
   ],
   "source": [
    "np.unique(hotspots_ndvi)"
   ]
  },
  {
   "cell_type": "markdown",
   "metadata": {},
   "source": [
    "None of the results above are positive, so we can see that there only cold spots detected for this region. They expanded mostly from 2017 to 2018 and has been gradually recovered in 2020.\n",
    "\n",
    "### Next steps\n",
    "\n",
    "To find out more about xarray-spatial focal statistics and other toolsets provided by the library, please visit: https://xarray-spatial.org/index.html"
   ]
  }
 ],
 "metadata": {
  "kernelspec": {
   "display_name": "Python 3 (ipykernel)",
   "language": "python",
   "name": "python3"
  },
  "language_info": {
   "codemirror_mode": {
    "name": "ipython",
    "version": 3
   },
   "file_extension": ".py",
   "mimetype": "text/x-python",
   "name": "python",
   "nbconvert_exporter": "python",
   "pygments_lexer": "ipython3",
   "version": "3.8.13"
  },
  "widgets": {
   "application/vnd.jupyter.widget-state+json": {
    "state": {
     "0b7ed5d840164484b268dfa5e3acfc51": {
      "model_module": "@jupyter-widgets/controls",
      "model_module_version": "1.5.0",
      "model_name": "DescriptionStyleModel",
      "state": {
       "description_width": ""
      }
     },
     "18f42b8de0564438ba4d2c51b9411c08": {
      "model_module": "@jupyter-widgets/controls",
      "model_module_version": "1.5.0",
      "model_name": "DescriptionStyleModel",
      "state": {
       "description_width": ""
      }
     },
     "1bb4be32a7bb41ecb234afbec83b6267": {
      "model_module": "@jupyter-widgets/controls",
      "model_module_version": "1.5.0",
      "model_name": "HTMLModel",
      "state": {
       "layout": "IPY_MODEL_c7c02eb799e147c0a1207b149a0bbfb9",
       "style": "IPY_MODEL_5ee8db6a818a468cb71dd6618741f15d",
       "value": "<div style=\"padding: 0px 10px 5px 10px\"><b>Finished:</b> 53.2s</div>"
      }
     },
     "2724b8b23ea140b282bf3298f9ddcf86": {
      "model_module": "@jupyter-widgets/controls",
      "model_module_version": "1.5.0",
      "model_name": "VBoxModel",
      "state": {
       "layout": "IPY_MODEL_3e93b1e6b44e46a9b7afd4441e5facd3"
      }
     },
     "2ee0412d283e4adf9b6ae5f459546de2": {
      "model_module": "@jupyter-widgets/base",
      "model_module_version": "1.2.0",
      "model_name": "LayoutModel",
      "state": {}
     },
     "331bdc6318154a9e9e046cd9c1ef8563": {
      "model_module": "@jupyter-widgets/controls",
      "model_module_version": "1.5.0",
      "model_name": "HTMLModel",
      "state": {
       "layout": "IPY_MODEL_ed5370ef452b46e38b04b6300173c000",
       "style": "IPY_MODEL_b307a246bdf74a04ab9c8bde55438bd1",
       "value": "<div style=\"padding: 0px 10px 0px 10px; text-align: right\">20 / 20</div>"
      }
     },
     "3530508cc8184c0baba1ed6828620779": {
      "model_module": "@jupyter-widgets/controls",
      "model_module_version": "1.5.0",
      "model_name": "HBoxModel",
      "state": {
       "children": [
        "IPY_MODEL_331bdc6318154a9e9e046cd9c1ef8563",
        "IPY_MODEL_dae56509caab45e88e5f4eefab84d156",
        "IPY_MODEL_64ba945c00294fad9ddfa024c62739f1"
       ],
       "layout": "IPY_MODEL_e8f4ced5cc9e496ca450c33025ac8d02"
      }
     },
     "3d5f15189b4a43cca689affc6aadcaf6": {
      "model_module": "@jupyter-widgets/controls",
      "model_module_version": "1.5.0",
      "model_name": "HBoxModel",
      "state": {
       "children": [
        "IPY_MODEL_f16c48340c5142cca28413bcbd15a61c",
        "IPY_MODEL_953c0e5d319b4a81a98a59ccec1edaff",
        "IPY_MODEL_4e6a9c5683a048e99b9e58d935835777"
       ],
       "layout": "IPY_MODEL_82d08efbc82849c987ede036bd4a42bc"
      }
     },
     "3e93b1e6b44e46a9b7afd4441e5facd3": {
      "model_module": "@jupyter-widgets/base",
      "model_module_version": "1.2.0",
      "model_name": "LayoutModel",
      "state": {}
     },
     "439341ca87724afb8c27d518da570433": {
      "model_module": "@jupyter-widgets/base",
      "model_module_version": "1.2.0",
      "model_name": "LayoutModel",
      "state": {}
     },
     "4c5516116f3c4b769b3c43af2252d060": {
      "model_module": "@jupyter-widgets/controls",
      "model_module_version": "1.5.0",
      "model_name": "HTMLModel",
      "state": {
       "layout": "IPY_MODEL_74837e7386ec4b2db1dfdd3418d79354",
       "style": "IPY_MODEL_0b7ed5d840164484b268dfa5e3acfc51",
       "value": "<div style=\"padding: 0px 10px 0px 10px; text-align: right\">20 / 20</div>"
      }
     },
     "4e6a9c5683a048e99b9e58d935835777": {
      "model_module": "@jupyter-widgets/controls",
      "model_module_version": "1.5.0",
      "model_name": "HTMLModel",
      "state": {
       "layout": "IPY_MODEL_e4e047da95d347a8b762bad9967e4e65",
       "style": "IPY_MODEL_ef7fd6301b7a4cf9a50fe099d829550d",
       "value": "<div style=\"padding: 0px 10px 0px 10px; text-align:left; word-wrap: break-word;\">asset_table_to_reader_and_window-where</div>"
      }
     },
     "5ee8db6a818a468cb71dd6618741f15d": {
      "model_module": "@jupyter-widgets/controls",
      "model_module_version": "1.5.0",
      "model_name": "DescriptionStyleModel",
      "state": {
       "description_width": ""
      }
     },
     "64ba945c00294fad9ddfa024c62739f1": {
      "model_module": "@jupyter-widgets/controls",
      "model_module_version": "1.5.0",
      "model_name": "HTMLModel",
      "state": {
       "layout": "IPY_MODEL_cb84fd177c844bd599254ac53ae9467c",
       "style": "IPY_MODEL_8ac1b1dc658247589be0b85001e3373e",
       "value": "<div style=\"padding: 0px 10px 0px 10px; text-align:left; word-wrap: break-word;\">asset-table</div>"
      }
     },
     "66c9c067f5b2408d9d12a94e2ef8ef09": {
      "model_module": "@jupyter-widgets/controls",
      "model_module_version": "1.5.0",
      "model_name": "VBoxModel",
      "state": {
       "children": [
        "IPY_MODEL_a4b28af88fc348e9a5c82d57aa560c4d",
        "IPY_MODEL_3d5f15189b4a43cca689affc6aadcaf6",
        "IPY_MODEL_3530508cc8184c0baba1ed6828620779"
       ],
       "layout": "IPY_MODEL_fa7f1d1e40324388b2ef4c60ec8778c4"
      }
     },
     "672bc429b85a48238149c8d0779a1f05": {
      "model_module": "@jupyter-widgets/controls",
      "model_module_version": "1.5.0",
      "model_name": "DescriptionStyleModel",
      "state": {
       "description_width": ""
      }
     },
     "74837e7386ec4b2db1dfdd3418d79354": {
      "model_module": "@jupyter-widgets/base",
      "model_module_version": "1.2.0",
      "model_name": "LayoutModel",
      "state": {}
     },
     "7703a122c35249828ba4ebd166d855b3": {
      "model_module": "@jupyter-widgets/controls",
      "model_module_version": "1.5.0",
      "model_name": "VBoxModel",
      "state": {
       "children": [
        "IPY_MODEL_1bb4be32a7bb41ecb234afbec83b6267",
        "IPY_MODEL_66c9c067f5b2408d9d12a94e2ef8ef09"
       ],
       "layout": "IPY_MODEL_e06f3fd2157f49799377293b889fdf1c"
      }
     },
     "7b53f756d60247ff82e7350886eee319": {
      "model_module": "@jupyter-widgets/base",
      "model_module_version": "1.2.0",
      "model_name": "LayoutModel",
      "state": {}
     },
     "7e17615bfde045aca6537407f5ecbd48": {
      "model_module": "@jupyter-widgets/controls",
      "model_module_version": "1.5.0",
      "model_name": "ProgressStyleModel",
      "state": {
       "description_width": ""
      }
     },
     "813bb444dabb43b3a242ba15b1fd0954": {
      "model_module": "@jupyter-widgets/base",
      "model_module_version": "1.2.0",
      "model_name": "LayoutModel",
      "state": {}
     },
     "82d08efbc82849c987ede036bd4a42bc": {
      "model_module": "@jupyter-widgets/base",
      "model_module_version": "1.2.0",
      "model_name": "LayoutModel",
      "state": {}
     },
     "87802f04e51948509dde74ccc03b7730": {
      "model_module": "@jupyter-widgets/controls",
      "model_module_version": "1.5.0",
      "model_name": "ProgressStyleModel",
      "state": {
       "description_width": ""
      }
     },
     "8ac1b1dc658247589be0b85001e3373e": {
      "model_module": "@jupyter-widgets/controls",
      "model_module_version": "1.5.0",
      "model_name": "DescriptionStyleModel",
      "state": {
       "description_width": ""
      }
     },
     "953c0e5d319b4a81a98a59ccec1edaff": {
      "model_module": "@jupyter-widgets/controls",
      "model_module_version": "1.5.0",
      "model_name": "FloatProgressModel",
      "state": {
       "bar_style": "success",
       "layout": "IPY_MODEL_2ee0412d283e4adf9b6ae5f459546de2",
       "max": 1,
       "style": "IPY_MODEL_c9e33bd59457422799b993d8bf2e0a1f",
       "value": 1
      }
     },
     "a4b28af88fc348e9a5c82d57aa560c4d": {
      "model_module": "@jupyter-widgets/controls",
      "model_module_version": "1.5.0",
      "model_name": "HBoxModel",
      "state": {
       "children": [
        "IPY_MODEL_4c5516116f3c4b769b3c43af2252d060",
        "IPY_MODEL_b3bcddda67ad4184ade4f7463cd09ddd",
        "IPY_MODEL_e2c1be67d01242f6b0979b0d94a92d15"
       ],
       "layout": "IPY_MODEL_7b53f756d60247ff82e7350886eee319"
      }
     },
     "b307a246bdf74a04ab9c8bde55438bd1": {
      "model_module": "@jupyter-widgets/controls",
      "model_module_version": "1.5.0",
      "model_name": "DescriptionStyleModel",
      "state": {
       "description_width": ""
      }
     },
     "b3bcddda67ad4184ade4f7463cd09ddd": {
      "model_module": "@jupyter-widgets/controls",
      "model_module_version": "1.5.0",
      "model_name": "FloatProgressModel",
      "state": {
       "bar_style": "success",
       "layout": "IPY_MODEL_813bb444dabb43b3a242ba15b1fd0954",
       "max": 1,
       "style": "IPY_MODEL_87802f04e51948509dde74ccc03b7730",
       "value": 1
      }
     },
     "c32e5434701d4ff28077a3e9259edc0a": {
      "model_module": "@jupyter-widgets/base",
      "model_module_version": "1.2.0",
      "model_name": "LayoutModel",
      "state": {}
     },
     "c7c02eb799e147c0a1207b149a0bbfb9": {
      "model_module": "@jupyter-widgets/base",
      "model_module_version": "1.2.0",
      "model_name": "LayoutModel",
      "state": {}
     },
     "c9e33bd59457422799b993d8bf2e0a1f": {
      "model_module": "@jupyter-widgets/controls",
      "model_module_version": "1.5.0",
      "model_name": "ProgressStyleModel",
      "state": {
       "description_width": ""
      }
     },
     "cb84fd177c844bd599254ac53ae9467c": {
      "model_module": "@jupyter-widgets/base",
      "model_module_version": "1.2.0",
      "model_name": "LayoutModel",
      "state": {}
     },
     "dae56509caab45e88e5f4eefab84d156": {
      "model_module": "@jupyter-widgets/controls",
      "model_module_version": "1.5.0",
      "model_name": "FloatProgressModel",
      "state": {
       "bar_style": "success",
       "layout": "IPY_MODEL_c32e5434701d4ff28077a3e9259edc0a",
       "max": 1,
       "style": "IPY_MODEL_7e17615bfde045aca6537407f5ecbd48",
       "value": 1
      }
     },
     "e06f3fd2157f49799377293b889fdf1c": {
      "model_module": "@jupyter-widgets/base",
      "model_module_version": "1.2.0",
      "model_name": "LayoutModel",
      "state": {}
     },
     "e2c1be67d01242f6b0979b0d94a92d15": {
      "model_module": "@jupyter-widgets/controls",
      "model_module_version": "1.5.0",
      "model_name": "HTMLModel",
      "state": {
       "layout": "IPY_MODEL_fa0dcf6ce72b4a6a8623f0ad871bd252",
       "style": "IPY_MODEL_672bc429b85a48238149c8d0779a1f05",
       "value": "<div style=\"padding: 0px 10px 0px 10px; text-align:left; word-wrap: break-word;\">where</div>"
      }
     },
     "e4e047da95d347a8b762bad9967e4e65": {
      "model_module": "@jupyter-widgets/base",
      "model_module_version": "1.2.0",
      "model_name": "LayoutModel",
      "state": {}
     },
     "e8f4ced5cc9e496ca450c33025ac8d02": {
      "model_module": "@jupyter-widgets/base",
      "model_module_version": "1.2.0",
      "model_name": "LayoutModel",
      "state": {}
     },
     "ed5370ef452b46e38b04b6300173c000": {
      "model_module": "@jupyter-widgets/base",
      "model_module_version": "1.2.0",
      "model_name": "LayoutModel",
      "state": {}
     },
     "ef7fd6301b7a4cf9a50fe099d829550d": {
      "model_module": "@jupyter-widgets/controls",
      "model_module_version": "1.5.0",
      "model_name": "DescriptionStyleModel",
      "state": {
       "description_width": ""
      }
     },
     "f16c48340c5142cca28413bcbd15a61c": {
      "model_module": "@jupyter-widgets/controls",
      "model_module_version": "1.5.0",
      "model_name": "HTMLModel",
      "state": {
       "layout": "IPY_MODEL_439341ca87724afb8c27d518da570433",
       "style": "IPY_MODEL_18f42b8de0564438ba4d2c51b9411c08",
       "value": "<div style=\"padding: 0px 10px 0px 10px; text-align: right\">20 / 20</div>"
      }
     },
     "fa0dcf6ce72b4a6a8623f0ad871bd252": {
      "model_module": "@jupyter-widgets/base",
      "model_module_version": "1.2.0",
      "model_name": "LayoutModel",
      "state": {}
     },
     "fa7f1d1e40324388b2ef4c60ec8778c4": {
      "model_module": "@jupyter-widgets/base",
      "model_module_version": "1.2.0",
      "model_name": "LayoutModel",
      "state": {}
     }
    },
    "version_major": 2,
    "version_minor": 0
   }
  }
 },
 "nbformat": 4,
 "nbformat_minor": 4
}
