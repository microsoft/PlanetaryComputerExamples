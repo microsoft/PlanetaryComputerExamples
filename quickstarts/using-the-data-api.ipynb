{
 "cells": [
  {
   "cell_type": "markdown",
   "id": "8d8093f9-68d2-455a-8854-4c19190daf40",
   "metadata": {},
   "source": [
    "## Using the Planetary Computer's Data API\n",
    "\n",
    "The Planetary Computer's [`/data` API](https://planetarycomputer.microsoft.com/api/data/v1/docs) provides an easy way to visualize and perform basic analytics on data hosted by the Planetary Computer, without having to deploy your own compute in Azure.\n",
    "\n",
    "### Background\n",
    "\n",
    "One of the core principals of cloud-native geospatial is putting the compute next to the data. The Planetary Computer stores its data in Azure Blob Storage in the West Europe region, so that would mean using one of Azure's [many compute services](https://docs.microsoft.com/en-us/azure/architecture/guide/technology-choices/compute-decision-tree) to set up your own compute in West Europe. That's  why we set up the [Planetary Computer Hub](https://planetarycomputer.microsoft.com/docs/overview/environment/): a *very* convenient way to get started with cloud-native geospatial from your own browser.\n",
    "\n",
    "For some use-cases, however, logging into the Hub and starting a Python kernel isn't appropriate (displaying images on a webpage, for example). The Hub is essentially a manual and interactive form of compute, and involves the (costly) process of starting a Jupyter server on a Virtual Machine in Azure. Even if there were a hot virtual machine or Azure Function ready and waiting, eliminating the startup cost, the hassel of deployment might not be worth it for the outcome (displaying an image, again).\n",
    "\n",
    "That's why the Planetary Computer provides a `/data` API: to efficiently and conveniently serve these kinds of \"simple\" usecases. The `/data` API, along with our STAC API, is what powers our [Explorer](https://planetarycomputer.microsoft.com/docs/overview/explorer/).\n",
    "\n",
    "The reference documentation for the data API is at https://planetarycomputer.microsoft.com/api/data/v1/docs. This notebook gives a brief introduction and some examples."
   ]
  },
  {
   "cell_type": "code",
   "execution_count": 1,
   "id": "3a61c5bb-8079-4617-bc6e-253595e93352",
   "metadata": {
    "tags": []
   },
   "outputs": [],
   "source": [
    "import requests\n",
    "import pystac\n",
    "import folium\n",
    "import shapely.geometry\n",
    "from IPython.display import Image"
   ]
  },
  {
   "cell_type": "markdown",
   "id": "32c39fdf-c130-45e4-90b6-0b91645d5aa5",
   "metadata": {},
   "source": [
    "### Display an Item\n",
    "\n",
    "The simplest use of the `data` API looks similar to accessing a raw asset from Blob Storage. Many of our STAC items have a `rendered_preview` asset that's actually dynamically served by our `data` API."
   ]
  },
  {
   "cell_type": "code",
   "execution_count": 2,
   "id": "d55b7e1f-0563-4cba-8b54-a640cc961770",
   "metadata": {
    "tags": []
   },
   "outputs": [
    {
     "name": "stdout",
     "output_type": "stream",
     "text": [
      "https://planetarycomputer.microsoft.com/api/data/v1/item/preview.png?collection=sentinel-2-l2a&item=S2B_MSIL2A_20220606T080609_R078_T36PUR_20220606T193343&assets=visual&asset_bidx=visual%7C1%2C2%2C3&nodata=0&format=png\n"
     ]
    }
   ],
   "source": [
    "r = requests.get(\n",
    "    \"https://planetarycomputer.microsoft.com/api/stac/v1/collections/sentinel-2-l2a/items/S2B_MSIL2A_20220606T080609_R078_T36PUR_20220606T193343\"  # noqa: E501\n",
    ")\n",
    "item = pystac.Item.from_dict(r.json())\n",
    "asset = item.assets[\"rendered_preview\"]\n",
    "print(asset.href)"
   ]
  },
  {
   "cell_type": "markdown",
   "id": "062a02cb-b1c0-48d4-a052-a2c9eb57e05c",
   "metadata": {},
   "source": [
    "Notice the `/api/data/v1` in the asset HREF, which indicates that this targets the `/data` API rather than something like `.blob.core.windows.net`, which targets Azure Blob Storage.  A request to that URL will trigger a [TiTiler](https://devseed.com/titiler/) server to read raw data from Blob Storage, combine and transform it (according to the parameters in the URL, which you could customize) and return you the PNG for display."
   ]
  },
  {
   "cell_type": "code",
   "execution_count": 3,
   "id": "bb085f46-a95e-4860-8d4e-681d25619d72",
   "metadata": {
    "tags": []
   },
   "outputs": [
    {
     "data": {
      "text/html": [
       "<img src=\"https://planetarycomputer.microsoft.com/api/data/v1/item/preview.png?collection=sentinel-2-l2a&item=S2B_MSIL2A_20220606T080609_R078_T36PUR_20220606T193343&assets=visual&asset_bidx=visual%7C1%2C2%2C3&nodata=0&format=png\"/>"
      ],
      "text/plain": [
       "<IPython.core.display.Image object>"
      ]
     },
     "execution_count": 3,
     "metadata": {},
     "output_type": "execute_result"
    }
   ],
   "source": [
    "Image(url=item.assets[\"rendered_preview\"].href)"
   ]
  },
  {
   "cell_type": "markdown",
   "id": "cef6be9d-52f3-46e4-be2a-14d1a7130906",
   "metadata": {},
   "source": [
    "So we're able to display an asset using a client that only understands HTTP and JSON.\n",
    "\n",
    "### Display an interactive map \n",
    "\n",
    "The `tilejson` asset is similar to `rendered_preview`, but is useful for putting the asset on a map."
   ]
  },
  {
   "cell_type": "code",
   "execution_count": 4,
   "id": "4f6d013e-98f2-438d-9185-9745929e9129",
   "metadata": {
    "tags": []
   },
   "outputs": [
    {
     "name": "stdout",
     "output_type": "stream",
     "text": [
      "https://planetarycomputer.microsoft.com/api/data/v1/item/tilejson.json?collection=sentinel-2-l2a&item=S2B_MSIL2A_20220606T080609_R078_T36PUR_20220606T193343&assets=visual&asset_bidx=visual%7C1%2C2%2C3&nodata=0&format=png\n"
     ]
    }
   ],
   "source": [
    "print(item.assets[\"tilejson\"].href)"
   ]
  },
  {
   "cell_type": "markdown",
   "id": "64428033-91c4-498e-9e04-1fb0016a03ac",
   "metadata": {},
   "source": [
    "Making a request to that endpoint returns an object with a `tiles` url, which has everything filled in for this specific item."
   ]
  },
  {
   "cell_type": "code",
   "execution_count": 5,
   "id": "f4941392-1424-49f1-a37e-191d9a7b3f6e",
   "metadata": {
    "tags": []
   },
   "outputs": [
    {
     "data": {
      "text/plain": [
       "{'tilejson': '2.2.0',\n",
       " 'version': '1.0.0',\n",
       " 'scheme': 'xyz',\n",
       " 'tiles': ['https://planetarycomputer.microsoft.com/api/data/v1/item/tiles/WebMercatorQuad/{z}/{x}/{y}@1x?collection=sentinel-2-l2a&item=S2B_MSIL2A_20220606T080609_R078_T36PUR_20220606T193343&assets=visual&asset_bidx=visual%7C1%2C2%2C3&nodata=0&format=png'],\n",
       " 'minzoom': 0,\n",
       " 'maxzoom': 24,\n",
       " 'bounds': [31.17569761, 8.95381176, 32.17948101, 9.95039568],\n",
       " 'center': [31.677589310000002, 9.45210372, 0]}"
      ]
     },
     "execution_count": 5,
     "metadata": {},
     "output_type": "execute_result"
    }
   ],
   "source": [
    "r = requests.get(item.assets[\"tilejson\"].href).json()\n",
    "r"
   ]
  },
  {
   "cell_type": "code",
   "execution_count": 6,
   "id": "162a7443-a2b5-441b-ad5e-d4d4fc92ffb7",
   "metadata": {
    "tags": []
   },
   "outputs": [],
   "source": [
    "tiles = r[\"tiles\"][0]"
   ]
  },
  {
   "cell_type": "markdown",
   "id": "b80777fb-3c49-40c0-9787-f24714d91f91",
   "metadata": {},
   "source": [
    "That can be handed to any system that understands tilejson URLs, like `\n",
    "let`. Panning and zooming around the map will trigger requests to load new data."
   ]
  },
  {
   "cell_type": "code",
   "execution_count": 7,
   "id": "4c93cf83-8c3b-46d0-bbe7-b677b555eb36",
   "metadata": {
    "tags": []
   },
   "outputs": [
    {
     "data": {
      "text/html": [
       "<div style=\"width:100%;\"><div style=\"position:relative;width:100%;height:0;padding-bottom:60%;\"><span style=\"color:#565656\">Make this Notebook Trusted to load map: File -> Trust Notebook</span><iframe srcdoc=\"&lt;!DOCTYPE html&gt;\n",
       "&lt;html&gt;\n",
       "&lt;head&gt;\n",
       "    \n",
       "    &lt;meta http-equiv=&quot;content-type&quot; content=&quot;text/html; charset=UTF-8&quot; /&gt;\n",
       "    \n",
       "        &lt;script&gt;\n",
       "            L_NO_TOUCH = false;\n",
       "            L_DISABLE_3D = false;\n",
       "        &lt;/script&gt;\n",
       "    \n",
       "    &lt;style&gt;html, body {width: 100%;height: 100%;margin: 0;padding: 0;}&lt;/style&gt;\n",
       "    &lt;style&gt;#map {position:absolute;top:0;bottom:0;right:0;left:0;}&lt;/style&gt;\n",
       "    &lt;script src=&quot;https://cdn.jsdelivr.net/npm/leaflet@1.9.3/dist/leaflet.js&quot;&gt;&lt;/script&gt;\n",
       "    &lt;script src=&quot;https://code.jquery.com/jquery-1.12.4.min.js&quot;&gt;&lt;/script&gt;\n",
       "    &lt;script src=&quot;https://cdn.jsdelivr.net/npm/bootstrap@5.2.2/dist/js/bootstrap.bundle.min.js&quot;&gt;&lt;/script&gt;\n",
       "    &lt;script src=&quot;https://cdnjs.cloudflare.com/ajax/libs/Leaflet.awesome-markers/2.0.2/leaflet.awesome-markers.js&quot;&gt;&lt;/script&gt;\n",
       "    &lt;link rel=&quot;stylesheet&quot; href=&quot;https://cdn.jsdelivr.net/npm/leaflet@1.9.3/dist/leaflet.css&quot;/&gt;\n",
       "    &lt;link rel=&quot;stylesheet&quot; href=&quot;https://cdn.jsdelivr.net/npm/bootstrap@5.2.2/dist/css/bootstrap.min.css&quot;/&gt;\n",
       "    &lt;link rel=&quot;stylesheet&quot; href=&quot;https://netdna.bootstrapcdn.com/bootstrap/3.0.0/css/bootstrap.min.css&quot;/&gt;\n",
       "    &lt;link rel=&quot;stylesheet&quot; href=&quot;https://cdn.jsdelivr.net/npm/@fortawesome/fontawesome-free@6.2.0/css/all.min.css&quot;/&gt;\n",
       "    &lt;link rel=&quot;stylesheet&quot; href=&quot;https://cdnjs.cloudflare.com/ajax/libs/Leaflet.awesome-markers/2.0.2/leaflet.awesome-markers.css&quot;/&gt;\n",
       "    &lt;link rel=&quot;stylesheet&quot; href=&quot;https://cdn.jsdelivr.net/gh/python-visualization/folium/folium/templates/leaflet.awesome.rotate.min.css&quot;/&gt;\n",
       "    \n",
       "            &lt;meta name=&quot;viewport&quot; content=&quot;width=device-width,\n",
       "                initial-scale=1.0, maximum-scale=1.0, user-scalable=no&quot; /&gt;\n",
       "            &lt;style&gt;\n",
       "                #map_1f181fad248ba354aca9e53c9f6882a0 {\n",
       "                    position: relative;\n",
       "                    width: 100.0%;\n",
       "                    height: 100.0%;\n",
       "                    left: 0.0%;\n",
       "                    top: 0.0%;\n",
       "                }\n",
       "                .leaflet-container { font-size: 1rem; }\n",
       "            &lt;/style&gt;\n",
       "        \n",
       "&lt;/head&gt;\n",
       "&lt;body&gt;\n",
       "    \n",
       "    \n",
       "            &lt;div class=&quot;folium-map&quot; id=&quot;map_1f181fad248ba354aca9e53c9f6882a0&quot; &gt;&lt;/div&gt;\n",
       "        \n",
       "&lt;/body&gt;\n",
       "&lt;script&gt;\n",
       "    \n",
       "    \n",
       "            var map_1f181fad248ba354aca9e53c9f6882a0 = L.map(\n",
       "                &quot;map_1f181fad248ba354aca9e53c9f6882a0&quot;,\n",
       "                {\n",
       "                    center: [9.45210372, 31.677589310000002],\n",
       "                    crs: L.CRS.EPSG3857,\n",
       "                    zoom: 11,\n",
       "                    zoomControl: true,\n",
       "                    preferCanvas: false,\n",
       "                }\n",
       "            );\n",
       "\n",
       "            \n",
       "\n",
       "        \n",
       "    \n",
       "            var tile_layer_7efee979f00738ed466c1076b85c492f = L.tileLayer(\n",
       "                &quot;https://server.arcgisonline.com/ArcGIS/rest/services/World_Shaded_Relief/MapServer/tile/{z}/{y}/{x}&quot;,\n",
       "                {&quot;attribution&quot;: &quot;Basemap \\u0026copy; Esri \\u0026mdash; Source: Esri&quot;, &quot;detectRetina&quot;: false, &quot;maxNativeZoom&quot;: 18, &quot;maxZoom&quot;: 18, &quot;minZoom&quot;: 0, &quot;noWrap&quot;: false, &quot;opacity&quot;: 1, &quot;subdomains&quot;: &quot;abc&quot;, &quot;tms&quot;: false}\n",
       "            ).addTo(map_1f181fad248ba354aca9e53c9f6882a0);\n",
       "        \n",
       "    \n",
       "            var tile_layer_2f7bb606a3b90f92b2e662e23b6b7d4d = L.tileLayer(\n",
       "                &quot;https://planetarycomputer.microsoft.com/api/data/v1/item/tiles/WebMercatorQuad/{z}/{x}/{y}@1x?collection=sentinel-2-l2a\\u0026item=S2B_MSIL2A_20220606T080609_R078_T36PUR_20220606T193343\\u0026assets=visual\\u0026asset_bidx=visual%7C1%2C2%2C3\\u0026nodata=0\\u0026format=png&quot;,\n",
       "                {&quot;attribution&quot;: &quot;Planetary Computer&quot;, &quot;detectRetina&quot;: false, &quot;maxNativeZoom&quot;: 18, &quot;maxZoom&quot;: 18, &quot;minZoom&quot;: 0, &quot;noWrap&quot;: false, &quot;opacity&quot;: 1, &quot;subdomains&quot;: &quot;abc&quot;, &quot;tms&quot;: false}\n",
       "            ).addTo(map_1f181fad248ba354aca9e53c9f6882a0);\n",
       "        \n",
       "&lt;/script&gt;\n",
       "&lt;/html&gt;\" style=\"position:absolute;width:100%;height:100%;left:0;top:0;border:none !important;\" allowfullscreen webkitallowfullscreen mozallowfullscreen></iframe></div></div>"
      ],
      "text/plain": [
       "<folium.folium.Map at 0x7f6cc3ae7950>"
      ]
     },
     "execution_count": 7,
     "metadata": {},
     "output_type": "execute_result"
    }
   ],
   "source": [
    "center = ((item.bbox[1] + item.bbox[3]) / 2, (item.bbox[0] + item.bbox[2]) / 2)\n",
    "\n",
    "m = folium.Map(\n",
    "    location=center,\n",
    "    zoom_start=11,\n",
    "    tiles=\"https://server.arcgisonline.com/ArcGIS/rest/services/World_Shaded_Relief/MapServer/tile/{z}/{y}/{x}\",  # noqa: E501\n",
    "    attr=\"Basemap &copy; Esri &mdash; Source: Esri\",\n",
    ")\n",
    "\n",
    "\n",
    "folium.TileLayer(tiles=tiles, attr=\"Planetary Computer\").add_to(m)\n",
    "m"
   ]
  },
  {
   "cell_type": "markdown",
   "id": "907a23c3-70d2-4207-9045-e69708d0e033",
   "metadata": {},
   "source": [
    "### Mosaic multiple items\n",
    "\n",
    "Thus far, we've worked with just a single asset. The `/data` API also supports combining multiple assets into a single asset by [registering a STAC API search](https://planetarycomputer.microsoft.com/api/data/v1/docs#/PgSTAC%20Mosaic%20endpoints/register_search_mosaic_register_post). You define a provide a search defining the space, time, and other properties to include in the results and the `/data` API will combine the results.\n",
    "\n",
    "We'll define the area of interest as a GeoJSON polygon. And we'll use `pystac-client` to construct the search parameters."
   ]
  },
  {
   "cell_type": "code",
   "execution_count": 8,
   "id": "07d00326-e88a-4b4d-b28d-1f953780015d",
   "metadata": {
    "tags": []
   },
   "outputs": [],
   "source": [
    "import pystac_client\n",
    "\n",
    "catalog = pystac_client.Client.open(\n",
    "    \"https://planetarycomputer.microsoft.com/api/stac/v1\"\n",
    ")\n",
    "\n",
    "aoi = {\n",
    "    \"type\": \"Polygon\",\n",
    "    \"coordinates\": [\n",
    "        [\n",
    "            [29.036865234375, 7.857940257224196],\n",
    "            [31.4813232421875, 7.857940257224196],\n",
    "            [31.4813232421875, 10.055402736564236],\n",
    "            [29.036865234375, 10.055402736564236],\n",
    "            [29.036865234375, 7.857940257224196],\n",
    "        ]\n",
    "    ],\n",
    "}\n",
    "\n",
    "\n",
    "collection = \"sentinel-2-l2a\"\n",
    "query = {\"eo:cloud_cover\": {\"lt\": \"10\"}}\n",
    "search = catalog.search(intersects=aoi, collections=\"sentinel-2-l2a\", query=query)"
   ]
  },
  {
   "cell_type": "markdown",
   "id": "329d590d-e785-4af1-807b-d20e7d3aa85f",
   "metadata": {},
   "source": [
    "We can register this search with a `POST` request to the `/data/v1/mosaic/register` endpoint."
   ]
  },
  {
   "cell_type": "code",
   "execution_count": 9,
   "id": "c5d8fc6c-e758-4290-bd7e-4e69ee40725d",
   "metadata": {
    "tags": []
   },
   "outputs": [
    {
     "data": {
      "text/plain": [
       "{'searchid': '3c377cdaf6bddee4f5379ee6707505fd',\n",
       " 'links': [{'rel': 'metadata',\n",
       "   'type': 'application/json',\n",
       "   'href': 'https://planetarycomputer.microsoft.com/api/data/v1/mosaic/3c377cdaf6bddee4f5379ee6707505fd/info'},\n",
       "  {'rel': 'tilejson',\n",
       "   'type': 'application/json',\n",
       "   'href': 'https://planetarycomputer.microsoft.com/api/data/v1/mosaic/3c377cdaf6bddee4f5379ee6707505fd/tilejson.json'}]}"
      ]
     },
     "execution_count": 9,
     "metadata": {},
     "output_type": "execute_result"
    }
   ],
   "source": [
    "r_register = requests.post(\n",
    "    \"https://planetarycomputer.microsoft.com/api/data/v1/mosaic/register\",\n",
    "    json=search.get_parameters(),\n",
    ")\n",
    "registered = r_register.json()\n",
    "registered"
   ]
  },
  {
   "cell_type": "markdown",
   "id": "3293496d-0a69-45da-9189-b8110bca49f0",
   "metadata": {},
   "source": [
    "That returns an object with a couple of links. We're interested in the `/tilejson.json` link, to visualize the results on a map."
   ]
  },
  {
   "cell_type": "code",
   "execution_count": 10,
   "id": "2d14f7da-ecd3-4dff-99b2-742fc889549e",
   "metadata": {
    "tags": []
   },
   "outputs": [],
   "source": [
    "tilejson_url = registered[\"links\"][1][\"href\"]"
   ]
  },
  {
   "cell_type": "markdown",
   "id": "5a04133f-89bb-419d-9a5e-bfeae04891b4",
   "metadata": {},
   "source": [
    "In addition to that `tilejson_url`, we need to provide a couple other things. First, the `collection` ID, which we already have. Second, we need to tell the tiler how to convert the raw data to an image. Several libraries are involved here, including [TiTiler](http://devseed.com/titiler/), [rio-tiler](https://cogeotiff.github.io/rio-tiler/), and [rio-color](https://github.com/mapbox/rio-color). There's a ton of flexibility here, but to to keep things as simple as possible, we'll use the `/data/mosaic/info` to get some good defaults that were set by the Planetary Computer team."
   ]
  },
  {
   "cell_type": "code",
   "execution_count": 11,
   "id": "7dd3dbb6-64d1-4272-b176-6f17851b9d03",
   "metadata": {
    "tags": []
   },
   "outputs": [
    {
     "data": {
      "text/plain": [
       "{'name': 'Natural color',\n",
       " 'description': 'True color composite of visible bands (B04, B03, B02)',\n",
       " 'type': 'raster-tile',\n",
       " 'options': 'assets=B04&assets=B03&assets=B02&nodata=0&color_formula=Gamma RGB 3.2 Saturation 0.8 Sigmoidal RGB 25 0.35',\n",
       " 'vectorOptions': None,\n",
       " 'minZoom': 9,\n",
       " 'legend': None,\n",
       " 'conditions': None}"
      ]
     },
     "execution_count": 11,
     "metadata": {},
     "output_type": "execute_result"
    }
   ],
   "source": [
    "mosaic_info = requests.get(\n",
    "    \"https://planetarycomputer.microsoft.com/api/data/v1/mosaic/info\",\n",
    "    params=dict(collection=item.collection_id),\n",
    ").json()\n",
    "render_config = mosaic_info[\"renderOptions\"][0]\n",
    "render_config"
   ]
  },
  {
   "cell_type": "markdown",
   "id": "254b516a-1196-4ae8-80ce-dcec384658b2",
   "metadata": {},
   "source": [
    "We need to modify that slightly before it's ready to go to the `tilejson` endpoint."
   ]
  },
  {
   "cell_type": "code",
   "execution_count": 12,
   "id": "00e0e038-dcfa-4240-9e63-85c4a467ef72",
   "metadata": {
    "tags": []
   },
   "outputs": [],
   "source": [
    "import itertools\n",
    "\n",
    "\n",
    "def key(s):\n",
    "    return s.split(\"=\")[0]\n",
    "\n",
    "\n",
    "params = {\n",
    "    k: [x.split(\"=\")[1] for x in v]\n",
    "    for k, v in itertools.groupby(render_config[\"options\"].split(\"&\"), key=key)\n",
    "}\n",
    "params[\"collection\"] = item.collection_id"
   ]
  },
  {
   "cell_type": "markdown",
   "id": "2738b160-e7a8-4f20-aa42-6bb260f058c9",
   "metadata": {},
   "source": [
    "Finally, we can get our full tilejson URL."
   ]
  },
  {
   "cell_type": "code",
   "execution_count": 13,
   "id": "c7e6eb7c-4790-43f9-9988-b5425037afc8",
   "metadata": {
    "tags": []
   },
   "outputs": [
    {
     "data": {
      "text/plain": [
       "'https://planetarycomputer.microsoft.com/api/data/v1/mosaic/tiles/3c377cdaf6bddee4f5379ee6707505fd/WebMercatorQuad/{z}/{x}/{y}@1x?assets=B04&assets=B03&assets=B02&nodata=0&color_formula=Gamma+RGB+3.2+Saturation+0.8+Sigmoidal+RGB+25+0.35&collection=sentinel-2-l2a'"
      ]
     },
     "execution_count": 13,
     "metadata": {},
     "output_type": "execute_result"
    }
   ],
   "source": [
    "tiles = requests.get(tilejson_url, params=params).json()[\"tiles\"][0]\n",
    "tiles"
   ]
  },
  {
   "cell_type": "markdown",
   "id": "8d90cd54-1503-449c-9605-dac1e844c60a",
   "metadata": {},
   "source": [
    "Which can be provided to `folium` or `ipyleaflet`."
   ]
  },
  {
   "cell_type": "code",
   "execution_count": 14,
   "id": "d07db66a-7b73-4349-aa6e-f530c5b6bc74",
   "metadata": {
    "tags": []
   },
   "outputs": [
    {
     "data": {
      "text/html": [
       "<div style=\"width:100%;\"><div style=\"position:relative;width:100%;height:0;padding-bottom:60%;\"><span style=\"color:#565656\">Make this Notebook Trusted to load map: File -> Trust Notebook</span><iframe srcdoc=\"&lt;!DOCTYPE html&gt;\n",
       "&lt;html&gt;\n",
       "&lt;head&gt;\n",
       "    \n",
       "    &lt;meta http-equiv=&quot;content-type&quot; content=&quot;text/html; charset=UTF-8&quot; /&gt;\n",
       "    \n",
       "        &lt;script&gt;\n",
       "            L_NO_TOUCH = false;\n",
       "            L_DISABLE_3D = false;\n",
       "        &lt;/script&gt;\n",
       "    \n",
       "    &lt;style&gt;html, body {width: 100%;height: 100%;margin: 0;padding: 0;}&lt;/style&gt;\n",
       "    &lt;style&gt;#map {position:absolute;top:0;bottom:0;right:0;left:0;}&lt;/style&gt;\n",
       "    &lt;script src=&quot;https://cdn.jsdelivr.net/npm/leaflet@1.9.3/dist/leaflet.js&quot;&gt;&lt;/script&gt;\n",
       "    &lt;script src=&quot;https://code.jquery.com/jquery-1.12.4.min.js&quot;&gt;&lt;/script&gt;\n",
       "    &lt;script src=&quot;https://cdn.jsdelivr.net/npm/bootstrap@5.2.2/dist/js/bootstrap.bundle.min.js&quot;&gt;&lt;/script&gt;\n",
       "    &lt;script src=&quot;https://cdnjs.cloudflare.com/ajax/libs/Leaflet.awesome-markers/2.0.2/leaflet.awesome-markers.js&quot;&gt;&lt;/script&gt;\n",
       "    &lt;link rel=&quot;stylesheet&quot; href=&quot;https://cdn.jsdelivr.net/npm/leaflet@1.9.3/dist/leaflet.css&quot;/&gt;\n",
       "    &lt;link rel=&quot;stylesheet&quot; href=&quot;https://cdn.jsdelivr.net/npm/bootstrap@5.2.2/dist/css/bootstrap.min.css&quot;/&gt;\n",
       "    &lt;link rel=&quot;stylesheet&quot; href=&quot;https://netdna.bootstrapcdn.com/bootstrap/3.0.0/css/bootstrap.min.css&quot;/&gt;\n",
       "    &lt;link rel=&quot;stylesheet&quot; href=&quot;https://cdn.jsdelivr.net/npm/@fortawesome/fontawesome-free@6.2.0/css/all.min.css&quot;/&gt;\n",
       "    &lt;link rel=&quot;stylesheet&quot; href=&quot;https://cdnjs.cloudflare.com/ajax/libs/Leaflet.awesome-markers/2.0.2/leaflet.awesome-markers.css&quot;/&gt;\n",
       "    &lt;link rel=&quot;stylesheet&quot; href=&quot;https://cdn.jsdelivr.net/gh/python-visualization/folium/folium/templates/leaflet.awesome.rotate.min.css&quot;/&gt;\n",
       "    \n",
       "            &lt;meta name=&quot;viewport&quot; content=&quot;width=device-width,\n",
       "                initial-scale=1.0, maximum-scale=1.0, user-scalable=no&quot; /&gt;\n",
       "            &lt;style&gt;\n",
       "                #map_cc6a07341fe2ccd4cfb9a0176fe60ea0 {\n",
       "                    position: relative;\n",
       "                    width: 100.0%;\n",
       "                    height: 100.0%;\n",
       "                    left: 0.0%;\n",
       "                    top: 0.0%;\n",
       "                }\n",
       "                .leaflet-container { font-size: 1rem; }\n",
       "            &lt;/style&gt;\n",
       "        \n",
       "&lt;/head&gt;\n",
       "&lt;body&gt;\n",
       "    \n",
       "    \n",
       "            &lt;div class=&quot;folium-map&quot; id=&quot;map_cc6a07341fe2ccd4cfb9a0176fe60ea0&quot; &gt;&lt;/div&gt;\n",
       "        \n",
       "&lt;/body&gt;\n",
       "&lt;script&gt;\n",
       "    \n",
       "    \n",
       "            var map_cc6a07341fe2ccd4cfb9a0176fe60ea0 = L.map(\n",
       "                &quot;map_cc6a07341fe2ccd4cfb9a0176fe60ea0&quot;,\n",
       "                {\n",
       "                    center: [8.956671496894216, 30.25909423828125],\n",
       "                    crs: L.CRS.EPSG3857,\n",
       "                    zoom: 9,\n",
       "                    zoomControl: true,\n",
       "                    preferCanvas: false,\n",
       "                }\n",
       "            );\n",
       "\n",
       "            \n",
       "\n",
       "        \n",
       "    \n",
       "            var tile_layer_60901418aa2d251dd4b0877cbf9d2945 = L.tileLayer(\n",
       "                &quot;https://server.arcgisonline.com/ArcGIS/rest/services/World_Shaded_Relief/MapServer/tile/{z}/{y}/{x}&quot;,\n",
       "                {&quot;attribution&quot;: &quot;Basemap \\u0026copy; Esri \\u0026mdash; Source: Esri&quot;, &quot;detectRetina&quot;: false, &quot;maxNativeZoom&quot;: 18, &quot;maxZoom&quot;: 18, &quot;minZoom&quot;: 0, &quot;noWrap&quot;: false, &quot;opacity&quot;: 1, &quot;subdomains&quot;: &quot;abc&quot;, &quot;tms&quot;: false}\n",
       "            ).addTo(map_cc6a07341fe2ccd4cfb9a0176fe60ea0);\n",
       "        \n",
       "    \n",
       "            var tile_layer_9037d743b388304e764fd4f7a4c30ebb = L.tileLayer(\n",
       "                &quot;https://planetarycomputer.microsoft.com/api/data/v1/mosaic/tiles/3c377cdaf6bddee4f5379ee6707505fd/WebMercatorQuad/{z}/{x}/{y}@1x?assets=B04\\u0026assets=B03\\u0026assets=B02\\u0026nodata=0\\u0026color_formula=Gamma+RGB+3.2+Saturation+0.8+Sigmoidal+RGB+25+0.35\\u0026collection=sentinel-2-l2a&quot;,\n",
       "                {&quot;attribution&quot;: &quot;Planetary Computer&quot;, &quot;detectRetina&quot;: false, &quot;maxNativeZoom&quot;: 18, &quot;maxZoom&quot;: 18, &quot;minZoom&quot;: 9, &quot;noWrap&quot;: false, &quot;opacity&quot;: 1, &quot;subdomains&quot;: &quot;abc&quot;, &quot;tms&quot;: false}\n",
       "            ).addTo(map_cc6a07341fe2ccd4cfb9a0176fe60ea0);\n",
       "        \n",
       "    \n",
       "\n",
       "        function geo_json_195c38583520d37135ac734f55b0ce97_onEachFeature(feature, layer) {\n",
       "            layer.on({\n",
       "            });\n",
       "        };\n",
       "        var geo_json_195c38583520d37135ac734f55b0ce97 = L.geoJson(null, {\n",
       "                onEachFeature: geo_json_195c38583520d37135ac734f55b0ce97_onEachFeature,\n",
       "            \n",
       "        });\n",
       "\n",
       "        function geo_json_195c38583520d37135ac734f55b0ce97_add (data) {\n",
       "            geo_json_195c38583520d37135ac734f55b0ce97\n",
       "                .addData(data)\n",
       "                .addTo(map_cc6a07341fe2ccd4cfb9a0176fe60ea0);\n",
       "        }\n",
       "            geo_json_195c38583520d37135ac734f55b0ce97_add({&quot;coordinates&quot;: [[[29.036865234375, 7.857940257224196], [31.4813232421875, 7.857940257224196], [31.4813232421875, 10.055402736564236], [29.036865234375, 10.055402736564236], [29.036865234375, 7.857940257224196]]], &quot;type&quot;: &quot;Polygon&quot;});\n",
       "\n",
       "        \n",
       "&lt;/script&gt;\n",
       "&lt;/html&gt;\" style=\"position:absolute;width:100%;height:100%;left:0;top:0;border:none !important;\" allowfullscreen webkitallowfullscreen mozallowfullscreen></iframe></div></div>"
      ],
      "text/plain": [
       "<folium.folium.Map at 0x7f6cc37d6550>"
      ]
     },
     "execution_count": 14,
     "metadata": {},
     "output_type": "execute_result"
    }
   ],
   "source": [
    "center = shapely.geometry.shape(aoi).centroid\n",
    "\n",
    "m = folium.Map(\n",
    "    location=(center.y, center.x),\n",
    "    zoom_start=9,\n",
    "    tiles=\"https://server.arcgisonline.com/ArcGIS/rest/services/World_Shaded_Relief/MapServer/tile/{z}/{y}/{x}\",  # noqa: E501\n",
    "    attr=\"Basemap &copy; Esri &mdash; Source: Esri\",\n",
    ")\n",
    "\n",
    "folium.TileLayer(\n",
    "    tiles=tiles, attr=\"Planetary Computer\", min_zoom=render_config[\"minZoom\"]\n",
    ").add_to(m)\n",
    "folium.GeoJson(data=aoi).add_to(m)\n",
    "m"
   ]
  },
  {
   "cell_type": "markdown",
   "id": "0dd9bd6e-f934-4d00-ad81-2dba4b47e338",
   "metadata": {
    "tags": []
   },
   "source": [
    "This is essentially how the [Planetary Computer Explorer](https://planetarycomputer.microsoft.com/explore) works. The `filter` is generated based on your browser's window and whatever filters you've toggled. Based on that user input, it generates the CQL2-json query, registers a search, builds a TileJSON request (using any visualization options you've set) and displays the result on the map.\n",
    "\n",
    "### Next steps\n",
    "\n",
    "This was a brief introduction to the `/data` API. For more, see the [reference documentation](https://planetarycomputer.microsoft.com/api/data/v1/docs). Feel free to share your creations using the `/data` API on the Planetary Computer [discussions board](https://github.com/microsoft/PlanetaryComputer/discussions/categories/show-and-tell)."
   ]
  }
 ],
 "metadata": {
  "kernelspec": {
   "display_name": "Python 3 (ipykernel)",
   "language": "python",
   "name": "python3"
  },
  "language_info": {
   "codemirror_mode": {
    "name": "ipython",
    "version": 3
   },
   "file_extension": ".py",
   "mimetype": "text/x-python",
   "name": "python",
   "nbconvert_exporter": "python",
   "pygments_lexer": "ipython3",
   "version": "3.11.4"
  },
  "vscode": {
   "interpreter": {
    "hash": "33388988d2b1cb540819d28e8f67ee9e7e7397cf80503e5dd9c105f19f832c00"
   }
  },
  "widgets": {
   "application/vnd.jupyter.widget-state+json": {
    "state": {},
    "version_major": 2,
    "version_minor": 0
   }
  }
 },
 "nbformat": 4,
 "nbformat_minor": 5
}
