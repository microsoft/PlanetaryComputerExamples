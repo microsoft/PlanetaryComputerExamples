{
 "cells": [
  {
   "cell_type": "markdown",
   "id": "8d8093f9-68d2-455a-8854-4c19190daf40",
   "metadata": {},
   "source": [
    "## Using the Planetary Computer's Data API\n",
    "\n",
    "The Planetary Computer's [`/data` API](https://tomaugspurger.github.io/pc-data-api/lab/) provides an easy way to vizualize and perform basic analytics on data hosted by the Planetary Computer, without having to deploy your own compute in Azure.\n",
    "\n",
    "### Background\n",
    "\n",
    "One of the core principals of cloud-native geospatial is putting the compute next to the data. The Planetary Computer stores its data in Azure Blob Storage in the West Europe region, so that would mean using one of Azure's [many compute services](https://docs.microsoft.com/en-us/azure/architecture/guide/technology-choices/compute-decision-tree) to set up your own compute in West Europe. That's  why we set up the [Planetary Computer Hub](https://planetarycomputer.microsoft.com/docs/overview/environment/): a *very* convenient way to get started with cloud-native geospatial from your own browser.\n",
    "\n",
    "For some use-cases, however, logging into the Hub and starting a Python kernel isn't appropriate (displaying images on a webpage, for example). The Hub is essentially a manual and interactive form of compute, and involves the (costly) process of starting a Jupyter server on a Virtual Machine in Azure. Even if there were a hot virtual machine or Azure Function ready and waiting, eliminating the startup cost, the hassel of deployment might not be worth it for the outcome (displaying an image, again).\n",
    "\n",
    "That's why the Planetary Computer provides a `/data` API: to efficiently and conveniently serve these kinds of \"simple\" usecases. The `/data` API, along with our STAC API, is what powers our [Explorer](https://planetarycomputer.microsoft.com/docs/overview/explorer/).\n",
    "\n",
    "The reference documentation for the data API is at https://planetarycomputer.microsoft.com/api/data/v1/docs. This notebook gives a brief introduction and some examples."
   ]
  },
  {
   "cell_type": "code",
   "execution_count": 1,
   "id": "3a61c5bb-8079-4617-bc6e-253595e93352",
   "metadata": {},
   "outputs": [],
   "source": [
    "import requests\n",
    "import pystac\n",
    "import ipyleaflet\n",
    "import shapely.geometry\n",
    "from IPython.display import Image"
   ]
  },
  {
   "cell_type": "markdown",
   "id": "32c39fdf-c130-45e4-90b6-0b91645d5aa5",
   "metadata": {},
   "source": [
    "### Display an Item\n",
    "\n",
    "The simplest use of the `data` API looks similar to accessing a raw asset from Blob Storage. Many of our STAC items have a `rendered_preview` asset that's actually dynamically served by our `data` API."
   ]
  },
  {
   "cell_type": "code",
   "execution_count": 2,
   "id": "d55b7e1f-0563-4cba-8b54-a640cc961770",
   "metadata": {},
   "outputs": [
    {
     "data": {
      "text/plain": [
       "<Asset href=https://planetarycomputer-staging.microsoft.com/api/data/v1/item/preview.png?collection=sentinel-2-l2a&item=S2B_MSIL2A_20220606T080609_R078_T36PUR_20220606T193343&assets=visual&asset_bidx=visual%7C1%2C2%2C3&nodata=0>"
      ]
     },
     "execution_count": 2,
     "metadata": {},
     "output_type": "execute_result"
    }
   ],
   "source": [
    "r = requests.get(\n",
    "    \"https://planetarycomputer.microsoft.com/api/stac/v1/collections/sentinel-2-l2a/items/S2B_MSIL2A_20220606T080609_R078_T36PUR_20220606T193343\"  # noqa: E501\n",
    ")\n",
    "item = pystac.Item.from_dict(r.json())\n",
    "item.assets[\"rendered_preview\"]"
   ]
  },
  {
   "cell_type": "markdown",
   "id": "062a02cb-b1c0-48d4-a052-a2c9eb57e05c",
   "metadata": {},
   "source": [
    "Notice the `/api/data/v1` in the asset HREF, which indicates that this targets the `/data` API rather than something like `.blob.core.windows.net`, which targets Azure Blob Storage.  A request to that URL will trigger a [TiTiler](https://devseed.com/titiler/) server to read raw data from Blob Storage, combine and transform it (according to the parameters in the URL, which you could customize) and return you the PNG for display."
   ]
  },
  {
   "cell_type": "code",
   "execution_count": 3,
   "id": "bb085f46-a95e-4860-8d4e-681d25619d72",
   "metadata": {},
   "outputs": [
    {
     "data": {
      "text/html": [
       "<img src=\"https://planetarycomputer-staging.microsoft.com/api/data/v1/item/preview.png?collection=sentinel-2-l2a&item=S2B_MSIL2A_20220606T080609_R078_T36PUR_20220606T193343&assets=visual&asset_bidx=visual%7C1%2C2%2C3&nodata=0\"/>"
      ],
      "text/plain": [
       "<IPython.core.display.Image object>"
      ]
     },
     "execution_count": 3,
     "metadata": {},
     "output_type": "execute_result"
    }
   ],
   "source": [
    "Image(url=item.assets[\"rendered_preview\"].href)"
   ]
  },
  {
   "cell_type": "markdown",
   "id": "cef6be9d-52f3-46e4-be2a-14d1a7130906",
   "metadata": {},
   "source": [
    "So we're able to display an asset using a client that only understands HTTP and JSON.\n",
    "\n",
    "### Display an interactive map \n",
    "\n",
    "The `tilejson` asset is similar to `rendered_preview`, but is useful for putting the asset on a map."
   ]
  },
  {
   "cell_type": "code",
   "execution_count": 4,
   "id": "4f6d013e-98f2-438d-9185-9745929e9129",
   "metadata": {},
   "outputs": [
    {
     "data": {
      "text/plain": [
       "<Asset href=https://planetarycomputer-staging.microsoft.com/api/data/v1/item/tilejson.json?collection=sentinel-2-l2a&item=S2B_MSIL2A_20220606T080609_R078_T36PUR_20220606T193343&assets=visual&asset_bidx=visual%7C1%2C2%2C3&nodata=0>"
      ]
     },
     "execution_count": 4,
     "metadata": {},
     "output_type": "execute_result"
    }
   ],
   "source": [
    "item.assets[\"tilejson\"]"
   ]
  },
  {
   "cell_type": "markdown",
   "id": "64428033-91c4-498e-9e04-1fb0016a03ac",
   "metadata": {},
   "source": [
    "Making a request to that endpoint returns an object with a `tiles` url, which has everything filled in for this specific item."
   ]
  },
  {
   "cell_type": "code",
   "execution_count": 5,
   "id": "f4941392-1424-49f1-a37e-191d9a7b3f6e",
   "metadata": {},
   "outputs": [
    {
     "data": {
      "text/plain": [
       "{'tilejson': '2.2.0',\n",
       " 'version': '1.0.0',\n",
       " 'scheme': 'xyz',\n",
       " 'tiles': ['https://planetarycomputer-staging.microsoft.com/api/data/v1/item/tiles/WebMercatorQuad/{z}/{x}/{y}@1x?collection=sentinel-2-l2a&item=S2B_MSIL2A_20220606T080609_R078_T36PUR_20220606T193343&assets=visual&asset_bidx=visual%7C1%2C2%2C3&nodata=0'],\n",
       " 'minzoom': 0,\n",
       " 'maxzoom': 24,\n",
       " 'bounds': [31.17569761, 8.95381176, 32.17948101, 9.95039568],\n",
       " 'center': [31.677589310000002, 9.45210372, 0]}"
      ]
     },
     "execution_count": 5,
     "metadata": {},
     "output_type": "execute_result"
    }
   ],
   "source": [
    "r = requests.get(item.assets[\"tilejson\"].href).json()\n",
    "r"
   ]
  },
  {
   "cell_type": "code",
   "execution_count": 6,
   "id": "162a7443-a2b5-441b-ad5e-d4d4fc92ffb7",
   "metadata": {},
   "outputs": [],
   "source": [
    "tiles = r[\"tiles\"][0]"
   ]
  },
  {
   "cell_type": "markdown",
   "id": "b80777fb-3c49-40c0-9787-f24714d91f91",
   "metadata": {},
   "source": [
    "That can be handed to any system that understands tilejson URLs, like `ipyleaflet`. Panning and zooming around the map will trigger requests to load new data."
   ]
  },
  {
   "cell_type": "code",
   "execution_count": 7,
   "id": "4c93cf83-8c3b-46d0-bbe7-b677b555eb36",
   "metadata": {},
   "outputs": [
    {
     "data": {
      "application/vnd.jupyter.widget-view+json": {
       "model_id": "4bb821bea7924f9a9e7b000605092ea8",
       "version_major": 2,
       "version_minor": 0
      },
      "text/plain": [
       "Map(center=[9.45210372, 31.677589310000002], controls=(FullScreenControl(options=['position']), ZoomControl(op…"
      ]
     },
     "metadata": {},
     "output_type": "display_data"
    }
   ],
   "source": [
    "center = ((item.bbox[1] + item.bbox[3]) / 2, (item.bbox[0] + item.bbox[2]) / 2)\n",
    "\n",
    "m = ipyleaflet.Map(\n",
    "    center=center,\n",
    "    controls=[ipyleaflet.FullScreenControl()],\n",
    "    zoom=11,\n",
    ")\n",
    "\n",
    "m.add_layer(ipyleaflet.TileLayer(url=tiles))\n",
    "m.scroll_wheel_zoom = True\n",
    "m"
   ]
  },
  {
   "cell_type": "markdown",
   "id": "907a23c3-70d2-4207-9045-e69708d0e033",
   "metadata": {},
   "source": [
    "### Mosaic multiple items\n",
    "\n",
    "Thus far, we've worked with just a single asset. The `/data` API also supports combining multiple assets into a single asset by [registering a STAC API search](https://planetarycomputer.microsoft.com/api/data/v1/docs#/PgSTAC%20Mosaic%20endpoints/register_search_mosaic_register_post). You define a provide a search defining the space, time, and other properties to include in the results and the `/data` API will combine the results.\n",
    "\n",
    "We'll define the area of interest as a GeoJSON polygon. The \"filter\" is defined as [CQL-2 JSON](https://github.com/radiantearth/stac-api-spec/tree/master/fragments/filter#get-query-parameters-and-post-json-fields)."
   ]
  },
  {
   "cell_type": "code",
   "execution_count": 8,
   "id": "10c55331-0b62-415d-bf68-4c0e1ad83aef",
   "metadata": {},
   "outputs": [],
   "source": [
    "# Define your area of interest\n",
    "aoi = {\n",
    "    \"type\": \"Polygon\",\n",
    "    \"coordinates\": [\n",
    "        [\n",
    "            [29.036865234375, 7.857940257224196],\n",
    "            [31.4813232421875, 7.857940257224196],\n",
    "            [31.4813232421875, 10.055402736564236],\n",
    "            [29.036865234375, 10.055402736564236],\n",
    "            [29.036865234375, 7.857940257224196],\n",
    "        ]\n",
    "    ],\n",
    "}\n",
    "\n",
    "filter_ = {\n",
    "    \"op\": \"and\",\n",
    "    \"args\": [\n",
    "        {\"op\": \"s_intersects\", \"args\": [{\"property\": \"geometry\"}, aoi]},\n",
    "        {\"op\": \"=\", \"args\": [{\"property\": \"collection\"}, \"sentinel-2-l2a\"]},\n",
    "        {\"op\": \"<=\", \"args\": [{\"property\": \"eo:cloud_cover\"}, 10]},\n",
    "    ],\n",
    "}\n",
    "collection = \"sentinel-2-l2a\""
   ]
  },
  {
   "cell_type": "markdown",
   "id": "329d590d-e785-4af1-807b-d20e7d3aa85f",
   "metadata": {},
   "source": [
    "We can register this search with a `POST` request to the `/data/v1/mosaic/register` endpoint."
   ]
  },
  {
   "cell_type": "code",
   "execution_count": 9,
   "id": "c5d8fc6c-e758-4290-bd7e-4e69ee40725d",
   "metadata": {},
   "outputs": [
    {
     "data": {
      "text/plain": [
       "{'searchid': '125b5f36fbc3a2e80e011495798a9739',\n",
       " 'links': [{'rel': 'metadata',\n",
       "   'type': 'application/json',\n",
       "   'href': 'https://planetarycomputer.microsoft.com/api/data/v1/mosaic/125b5f36fbc3a2e80e011495798a9739/info'},\n",
       "  {'rel': 'tilejson',\n",
       "   'type': 'application/json',\n",
       "   'href': 'https://planetarycomputer.microsoft.com/api/data/v1/mosaic/125b5f36fbc3a2e80e011495798a9739/tilejson.json'}]}"
      ]
     },
     "execution_count": 9,
     "metadata": {},
     "output_type": "execute_result"
    }
   ],
   "source": [
    "r_register = requests.post(\n",
    "    \"https://planetarycomputer.microsoft.com/api/data/v1/mosaic/register\",\n",
    "    json={\"collection\": collection, \"filter\": filter_},\n",
    ")\n",
    "registered = r_register.json()\n",
    "registered"
   ]
  },
  {
   "cell_type": "markdown",
   "id": "3293496d-0a69-45da-9189-b8110bca49f0",
   "metadata": {},
   "source": [
    "That returns an object with a couple of links. We're interested in the `/tilejson.json` link, to visualize the results on a map."
   ]
  },
  {
   "cell_type": "code",
   "execution_count": 10,
   "id": "2d14f7da-ecd3-4dff-99b2-742fc889549e",
   "metadata": {},
   "outputs": [],
   "source": [
    "tilejson_url = registered[\"links\"][1][\"href\"]"
   ]
  },
  {
   "cell_type": "markdown",
   "id": "5a04133f-89bb-419d-9a5e-bfeae04891b4",
   "metadata": {},
   "source": [
    "In addition to that `tilejson_url`, we need to provide a couple other things. First, the `collection` ID, which we already have. Second, we need to tell the tiler how to convert the raw data to an image. Several libraries are involved here, including [TiTiler](http://devseed.com/titiler/), [rio-tiler](https://cogeotiff.github.io/rio-tiler/), and [rio-color](https://github.com/mapbox/rio-color). There's a ton of flexibility here, but to to keep things as simple as possible, we'll use the `/data/mosaic/info` to get some good defaults that were set by the Planetary Computer team."
   ]
  },
  {
   "cell_type": "code",
   "execution_count": 11,
   "id": "7dd3dbb6-64d1-4272-b176-6f17851b9d03",
   "metadata": {},
   "outputs": [
    {
     "data": {
      "text/plain": [
       "'assets=B04&assets=B03&assets=B02&nodata=0&color_formula=Gamma RGB 3.2 Saturation 0.8 Sigmoidal RGB 25 0.35'"
      ]
     },
     "execution_count": 11,
     "metadata": {},
     "output_type": "execute_result"
    }
   ],
   "source": [
    "mosaic_info = requests.get(\n",
    "    \"https://planetarycomputer.microsoft.com/api/data/v1/mosaic/info\",\n",
    "    params=dict(collection=item.collection_id),\n",
    ").json()\n",
    "render_options = mosaic_info[\"renderOptions\"][0][\"options\"]\n",
    "render_options"
   ]
  },
  {
   "cell_type": "markdown",
   "id": "2738b160-e7a8-4f20-aa42-6bb260f058c9",
   "metadata": {},
   "source": [
    "Finally, we can get our full tilejson URL."
   ]
  },
  {
   "cell_type": "code",
   "execution_count": 13,
   "id": "c7e6eb7c-4790-43f9-9988-b5425037afc8",
   "metadata": {},
   "outputs": [
    {
     "data": {
      "text/plain": [
       "'https://planetarycomputer.microsoft.com/api/data/v1/mosaic/tiles/125b5f36fbc3a2e80e011495798a9739/WebMercatorQuad/{z}/{x}/{y}@1x?collection=sentinel-2-l2a&assets=B04&assets=B03&assets=B02&nodata=0&color_formula=Gamma+RGB+3.2+Saturation+0.8+Sigmoidal+RGB+25+0.35'"
      ]
     },
     "execution_count": 13,
     "metadata": {},
     "output_type": "execute_result"
    }
   ],
   "source": [
    "tiles = requests.get(\n",
    "    f\"{tilejson_url}?collection={item.collection_id}&{render_options}\"\n",
    ").json()[\"tiles\"][0]\n",
    "tiles"
   ]
  },
  {
   "cell_type": "markdown",
   "id": "8d90cd54-1503-449c-9605-dac1e844c60a",
   "metadata": {},
   "source": [
    "Which can be provided to `ipyleaflet`."
   ]
  },
  {
   "cell_type": "code",
   "execution_count": 14,
   "id": "d07db66a-7b73-4349-aa6e-f530c5b6bc74",
   "metadata": {},
   "outputs": [
    {
     "data": {
      "application/vnd.jupyter.widget-view+json": {
       "model_id": "86b6c5a46afb486d98334c0f4c09aaf0",
       "version_major": 2,
       "version_minor": 0
      },
      "text/plain": [
       "Map(center=[8.956671496894216, 30.25909423828125], controls=(FullScreenControl(options=['position']), ZoomCont…"
      ]
     },
     "metadata": {},
     "output_type": "display_data"
    }
   ],
   "source": [
    "center = shapely.geometry.shape(aoi).centroid\n",
    "\n",
    "m = ipyleaflet.Map(\n",
    "    center=(center.y, center.x),\n",
    "    controls=[ipyleaflet.FullScreenControl()],\n",
    "    zoom=9,\n",
    ")\n",
    "\n",
    "m.add_layer(ipyleaflet.TileLayer(url=tiles))\n",
    "m.add_layer(\n",
    "    ipyleaflet.GeoJSON(data=aoi, style={\"fillOpacity\": 0}),\n",
    ")\n",
    "m.scroll_wheel_zoom = True\n",
    "m.layout.max_width = \"80%\"\n",
    "m"
   ]
  },
  {
   "cell_type": "markdown",
   "id": "0dd9bd6e-f934-4d00-ad81-2dba4b47e338",
   "metadata": {
    "tags": []
   },
   "source": [
    "This is essentially how the [Planetary Computer Explorer](https://planetarycomputer.microsoft.com/explore) works. The `filter` is generated based on your browser's window and whatever filters you've toggled. Based on that user input, it generates the CQL2-json query, registers a search, builds a TileJSON request (using any visualization options you've set) and displays the result on the map.\n",
    "\n",
    "### Next steps\n",
    "\n",
    "This was a brief introduction to the `/data` API. For more, see the [reference documentation](https://planetarycomputer.microsoft.com/api/data/v1/docs). Feel free to share your creations using the `/data` API on the Planetary Computer [discussions board](https://github.com/microsoft/PlanetaryComputer/discussions/categories/show-and-tell)."
   ]
  }
 ],
 "metadata": {
  "kernelspec": {
   "display_name": "Python 3 (ipykernel)",
   "language": "python",
   "name": "python3"
  },
  "language_info": {
   "codemirror_mode": {
    "name": "ipython",
    "version": 3
   },
   "file_extension": ".py",
   "mimetype": "text/x-python",
   "name": "python",
   "nbconvert_exporter": "python",
   "pygments_lexer": "ipython3",
   "version": "3.10.5"
  },
  "widgets": {
   "application/vnd.jupyter.widget-state+json": {
    "state": {},
    "version_major": 2,
    "version_minor": 0
   }
  }
 },
 "nbformat": 4,
 "nbformat_minor": 5
}
