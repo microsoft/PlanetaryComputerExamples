{
 "cells": [
  {
   "cell_type": "markdown",
   "id": "04d77799-afa8-4f49-9c59-93a5b358d05b",
   "metadata": {
    "tags": []
   },
   "source": [
    "## Warming up: what will you need going forward with Planetary Computer Hub?\n",
    "\n",
    "The Planetary Computer Hub development environment relies on open-source tools to work with the data. In our effort to welcome everyone whom may not be so familiarized on using Python tools for academic research, we present an overview on those and some reference guides."
   ]
  },
  {
   "cell_type": "markdown",
   "id": "9457a143-c059-4a5e-9240-2d6d51bb029b",
   "metadata": {
    "tags": []
   },
   "source": [
    "### Tools landscape"
   ]
  },
  {
   "cell_type": "markdown",
   "id": "555ea09d-1b57-4442-8b11-24424408ffb6",
   "metadata": {},
   "source": [
    "### Retrieving collections"
   ]
  },
  {
   "cell_type": "markdown",
   "id": "e7970c2b-0ec5-444e-aedc-4ab054e2853f",
   "metadata": {},
   "source": [
    "#### Pystac\n",
    "[](https://pystac.readthedocs.io/en/stable/tutorials/pystac-introduction.html)"
   ]
  },
  {
   "cell_type": "markdown",
   "id": "76362f7b-6dd0-4320-b9e5-5ef48a15299e",
   "metadata": {},
   "source": [
    "#### Pystac-client\n",
    "[](https://pystac-client.readthedocs.io/en/latest/)"
   ]
  },
  {
   "cell_type": "markdown",
   "id": "33d91f71-69cb-4274-81c8-7a2f690daea4",
   "metadata": {
    "tags": []
   },
   "source": [
    "### Data manipulation"
   ]
  },
  {
   "cell_type": "markdown",
   "id": "6de769e9-be65-4fbc-9c9d-527ae7f85001",
   "metadata": {},
   "source": [
    "#### Pandas\n",
    "\n",
    "Pandas is the go-to library for handling tabular data in a neat, consistent and programmatic way.\n",
    "[Project Pythia's introduction to Pandas](https://foundations.projectpythia.org/core/pandas/pandas.html) covers the basics of what you will need, such as slicing and performing an exploratory analysis on _DataFrames_ and _DataSeries_.\n",
    "But the [Pandas official documentation](https://pandas.pydata.org/docs/index.html) is thorough and leaves nothing to be desired."
   ]
  },
  {
   "cell_type": "markdown",
   "id": "64819e76-71cf-45ae-9e16-2b0e0a374b87",
   "metadata": {},
   "source": [
    "#### Geopandas\n",
    "\n",
    "> GeoPandas, as the name suggests, extends the popular data science library pandas by adding support for geospatial data.\n",
    ">\n",
    "> \\- [GeoPandas documentation](https://geopandas.org/en/stable/getting_started/introduction.html#Concepts)\n",
    "\n",
    "The reason we choose to use GeoPandas is that it allows us to handle points, lines, curves and polygons (a.k.a., [vectors](https://en.wikipedia.org/wiki/Vector_graphics)). \n",
    "Then we can reference these shapes, packed with their own associated data, to a [Coordinate Reference System](https://en.wikipedia.org/wiki/Spatial_reference_system) (CRS). \n",
    "Under CRS, you will often find different [EPSG](https://en.wikipedia.org/wiki/EPSG_Geodetic_Parameter_Dataset) codes which represent different projections of our planet. \n",
    "This way, GeoPandas allows us to scale into delimiting areas on a map which are loaded with our data.\n",
    "The most common example for this kind of usage are the classification maps."
   ]
  },
  {
   "cell_type": "markdown",
   "id": "cc5c4390-fbbd-4783-b4c9-ffdec2c80813",
   "metadata": {
    "tags": []
   },
   "source": [
    "#### Xarray\n",
    "\n",
    "Xarray is our tool of choice for dealing with images and other [raster](https://en.wikipedia.org/wiki/Raster_graphics) data sources. But [Why Xarray?](https://docs.xarray.dev/en/stable/getting-started-guide/why-xarray.html)\n",
    "\n",
    "> Xarray introduces labels in the form of dimensions, coordinates and attributes on top of raw NumPy-like multidimensional arrays, which allows for a more intuitive, more concise, and less error-prone developer experience.\n",
    "\n",
    "Xarray borrows heavily from Pandas, which enhances our human productivity by setting us up with a wide-spread interface. \n",
    "Also, it tightly integrates with Dask which in turn enhances our computing power through parallel processing.\n",
    "\n",
    "For those looking for an introduction on _DataArrays_ and _DataSets_ with Xarray, we recommend heading to [Project Pythia's introduction to Xarray](https://foundations.projectpythia.org/core/xarray/xarray-intro.html) given its bias towards science. \n",
    "Nonetheless, it's always good to keep in mind the [Xarray's official documentation](https://docs.xarray.dev/en/stable/index.html) for browsing its full spectrum."
   ]
  },
  {
   "cell_type": "markdown",
   "id": "f1effa74-ee1c-4448-b4a7-5b2a0057c7f1",
   "metadata": {},
   "source": [
    "### Computing power"
   ]
  },
  {
   "cell_type": "markdown",
   "id": "8f941ffc-5706-449c-9059-bac5f6bf14d4",
   "metadata": {},
   "source": [
    "#### Dask\n",
    "[](https://www.dask.org/get-started)"
   ]
  },
  {
   "cell_type": "code",
   "execution_count": null,
   "id": "088659fc-3215-450a-9816-7dd58ec918e8",
   "metadata": {},
   "outputs": [],
   "source": []
  }
 ],
 "metadata": {
  "kernelspec": {
   "display_name": "Python 3",
   "language": "python",
   "name": "python3"
  },
  "language_info": {
   "codemirror_mode": {
    "name": "ipython",
    "version": 3
   },
   "file_extension": ".py",
   "mimetype": "text/x-python",
   "name": "python",
   "nbconvert_exporter": "python",
   "pygments_lexer": "ipython3",
   "version": "3.9.13 (tags/v3.9.13:6de2ca5, May 17 2022, 16:36:42) [MSC v.1929 64 bit (AMD64)]"
  },
  "vscode": {
   "interpreter": {
    "hash": "ed1b328372cf0187c2b7d52ec5a4e52f1e11ef76628e78d3a5124a59986bd55e"
   }
  }
 },
 "nbformat": 4,
 "nbformat_minor": 5
}
