{
 "cells": [
  {
   "cell_type": "markdown",
   "id": "797d03cb-8aa1-4355-8e74-dd9bb72028f5",
   "metadata": {},
   "source": [
    "## Using leafmap for interactive mapping \n",
    "\n",
    "[Leafmap](https://leafmap.org/) is a Python package for interactive mapping and geospatial analysis with minimal coding in a Jupyter environment.\n",
    "\n",
    "Leafmap includes great support for visualizing data using STAC metadata. For example, you can provide the name of a collection, item, and asset it visualize."
   ]
  },
  {
   "cell_type": "code",
   "execution_count": 4,
   "id": "daae6609-b02c-4a76-967e-4229d2208d1f",
   "metadata": {},
   "outputs": [
    {
     "data": {
      "application/vnd.jupyter.widget-view+json": {
       "model_id": "119c30b9533f4955ba68be1746ef3533",
       "version_major": 2,
       "version_minor": 0
      },
      "text/plain": [
       "Map(center=[20, 0], controls=(ZoomControl(options=['position', 'zoom_in_text', 'zoom_in_title', 'zoom_out_text…"
      ]
     },
     "metadata": {},
     "output_type": "display_data"
    }
   ],
   "source": [
    "import leafmap\n",
    "\n",
    "m = leafmap.Map()\n",
    "m.add_stac_layer(\n",
    "    collection=\"landsat-c2-l2\",\n",
    "    item=\"LC08_L2SP_047027_20201204_02_T1\",\n",
    "    assets=\"SR_B2\",\n",
    "    rescale=\"0,12000\",\n",
    ")\n",
    "m"
   ]
  },
  {
   "cell_type": "markdown",
   "id": "05b56de0-41d8-430d-99f4-480886db2b13",
   "metadata": {},
   "source": [
    "You can use [`pystac_client`](https://pystac-client.readthedocs.io/en/latest/) or the Planteary Computer [Explorer](https://planetarycomputer.microsoft.com/docs/overview/explorer/) to find the STAC collections and item IDs.\n",
    "\n",
    "Internally, that `add_stac_layer` call is using the Planteary Computer's [STAC API](https://planetarycomputer.microsoft.com/api/stac/v1) ([documentation](https://planetarycomputer.microsoft.com/docs/reference/stac/)) to get the spatiotemporal metadata and the Planetary Computer's [data API](https://planetarycomputer.microsoft.com/api/data/v1/) ([documentation](https://planetarycomputer.microsoft.com/docs/reference/data/)) to get the actual images to display on the map. The data API uses [TiTiler](https://developmentseed.org/titiler/) to dynamically render the images, which means you can provide TiTiler expressions to dynamically render the values you want.\n",
    "\n",
    "For example, we can render NDVI:"
   ]
  },
  {
   "cell_type": "code",
   "execution_count": 2,
   "id": "1b3571cc-f7d7-4413-b90f-79bc629a24da",
   "metadata": {},
   "outputs": [
    {
     "data": {
      "application/vnd.jupyter.widget-view+json": {
       "model_id": "e73bbf1c1ced4a7088655e3926d0e4f0",
       "version_major": 2,
       "version_minor": 0
      },
      "text/plain": [
       "Map(center=[20, 0], controls=(ZoomControl(options=['position', 'zoom_in_text', 'zoom_in_title', 'zoom_out_text…"
      ]
     },
     "metadata": {},
     "output_type": "display_data"
    }
   ],
   "source": [
    "import leafmap\n",
    "\n",
    "m = leafmap.Map()\n",
    "\n",
    "collection = \"landsat-8-c2-l2\"\n",
    "item = \"LC08_L2SP_047027_20201204_02_T1\"\n",
    "\n",
    "m.add_stac_layer(\n",
    "    collection=collection,\n",
    "    item=item,\n",
    "    assets=[\"SR_B5, SR_B4\"],\n",
    "    expression=\"(SR_B5 - SR_B4) / (SR_B5 + SR_B4)\",\n",
    "    rescale=\"-.5,0.5\",\n",
    "    colormap_name=\"rdylgn\",\n",
    "    name=\"NDVI\",\n",
    ")\n",
    "m"
   ]
  },
  {
   "cell_type": "markdown",
   "id": "690547e9-3919-4d01-9b38-424be2eaacd0",
   "metadata": {},
   "source": [
    "Or plot a natural-color image from Sentinel-2:"
   ]
  },
  {
   "cell_type": "code",
   "execution_count": 3,
   "id": "6574b515-7688-4547-a2e1-c456a2e48dc5",
   "metadata": {},
   "outputs": [
    {
     "data": {
      "application/vnd.jupyter.widget-view+json": {
       "model_id": "7bef8cb1bb6f4ef69474b9e826847818",
       "version_major": 2,
       "version_minor": 0
      },
      "text/plain": [
       "Map(center=[20, 0], controls=(ZoomControl(options=['position', 'zoom_in_text', 'zoom_in_title', 'zoom_out_text…"
      ]
     },
     "metadata": {},
     "output_type": "display_data"
    }
   ],
   "source": [
    "import leafmap\n",
    "\n",
    "m = leafmap.Map()\n",
    "\n",
    "collection = \"\"\n",
    "item = \"LC08_L2SP_047027_20201204_02_T1\"\n",
    "\n",
    "m.add_stac_layer(\n",
    "    collection=\"sentinel-2-l2a\",\n",
    "    item=\"S2A_MSIL2A_20211216T015621_R117_T51KXB_20211216T153808\",\n",
    "    assets=[\"B04\", \"B03\", \"B02\"],\n",
    "    color_formula=\"Gamma RGB 3.7 Saturation 1.5 Sigmoidal RGB 15 0.35\",\n",
    "    nodata=0,\n",
    "    rescale=\"0,12000\",\n",
    ")\n",
    "m"
   ]
  },
  {
   "cell_type": "markdown",
   "id": "e519930c-c6dc-40c7-944a-308f02d7df13",
   "metadata": {},
   "source": [
    "### Next steps\n",
    "\n",
    "Leafmap includes many more features for working with geospatial data, including the ability to add data from [GeoJSON](https://leafmap.org/notebooks/00_key_features/#add-geojson) or [GeoDataFrame](https://leafmap.org/notebooks/00_key_features/#add-geodataframe) sources, [creating heat maps](https://leafmap.org/notebooks/00_key_features/#create-heat-map), and more. Visit the [leafmap](https://leafmap.org/) documentation to learn more."
   ]
  }
 ],
 "metadata": {
  "kernelspec": {
   "display_name": "Python 3 (ipykernel)",
   "language": "python",
   "name": "python3"
  },
  "language_info": {
   "codemirror_mode": {
    "name": "ipython",
    "version": 3
   },
   "file_extension": ".py",
   "mimetype": "text/x-python",
   "name": "python",
   "nbconvert_exporter": "python",
   "pygments_lexer": "ipython3",
   "version": "3.8.13"
  },
  "widgets": {
   "application/vnd.jupyter.widget-state+json": {
    "state": {
     "0034b738d9b7420fb7f8159080391d8c": {
      "model_module": "jupyter-leaflet",
      "model_module_version": "^0.16.0",
      "model_name": "LeafletTileLayerModel",
      "state": {
       "_model_module_version": "^0.16.0",
       "_view_module_version": "^0.16.0",
       "attribution": "Map tiles by Stamen Design, CC BY 3.0 -- Map data (C) OpenStreetMap contributors",
       "max_native_zoom": 18,
       "max_zoom": 16,
       "min_native_zoom": 0,
       "name": "Stamen.Watercolor",
       "options": [
        "attribution",
        "bounds",
        "detect_retina",
        "max_native_zoom",
        "max_zoom",
        "min_native_zoom",
        "min_zoom",
        "no_wrap",
        "tile_size",
        "tms"
       ],
       "url": "https://stamen-tiles-a.a.ssl.fastly.net/watercolor/{z}/{x}/{y}.jpg"
      }
     },
     "01e64a0de424403b9cb497ccc7abd50d": {
      "model_module": "jupyter-leaflet",
      "model_module_version": "^0.16.0",
      "model_name": "LeafletMapStyleModel",
      "state": {
       "_model_module_version": "^0.16.0",
       "cursor": "move"
      }
     },
     "02524fc327c546d889678b4b2db8c06f": {
      "model_module": "@jupyter-widgets/base",
      "model_module_version": "1.2.0",
      "model_name": "LayoutModel",
      "state": {}
     },
     "02b7c1712bd548bb931efc2b7d8f02dd": {
      "model_module": "@jupyter-widgets/base",
      "model_module_version": "1.2.0",
      "model_name": "LayoutModel",
      "state": {
       "height": "auto",
       "padding": "0px 0px 0px 4px",
       "width": "auto"
      }
     },
     "03cc7b59573749d7aec5fe570f713c94": {
      "model_module": "jupyter-leaflet",
      "model_module_version": "^0.16.0",
      "model_name": "LeafletTileLayerModel",
      "state": {
       "_model_module_version": "^0.16.0",
       "_view_module_version": "^0.16.0",
       "attribution": "Map memomaps.de CC-BY-SA, map data (C) OpenStreetMap contributors",
       "max_native_zoom": 18,
       "min_native_zoom": 0,
       "name": "OPNVKarte",
       "options": [
        "attribution",
        "bounds",
        "detect_retina",
        "max_native_zoom",
        "max_zoom",
        "min_native_zoom",
        "min_zoom",
        "no_wrap",
        "tile_size",
        "tms"
       ],
       "url": "https://tileserver.memomaps.de/tilegen/{z}/{x}/{y}.png"
      }
     },
     "0432afbb856d45b1872109de30af35b8": {
      "model_module": "@jupyter-widgets/controls",
      "model_module_version": "1.5.0",
      "model_name": "ToggleButtonModel",
      "state": {
       "button_style": "primary",
       "icon": "camera",
       "layout": "IPY_MODEL_71e26767b3464ffa87faadc96397dafd",
       "style": "IPY_MODEL_7a95a923b4e34e66bb3d46d5d29d3f59",
       "tooltip": "Save map as HTML or image"
      }
     },
     "04defde27471415fb2831a59f242d429": {
      "model_module": "@jupyter-widgets/controls",
      "model_module_version": "1.5.0",
      "model_name": "DescriptionStyleModel",
      "state": {
       "description_width": ""
      }
     },
     "04ea46e59bac41a291cd8c014ba83a73": {
      "model_module": "@jupyter-widgets/controls",
      "model_module_version": "1.5.0",
      "model_name": "ToggleButtonModel",
      "state": {
       "button_style": "primary",
       "icon": "search",
       "layout": "IPY_MODEL_bf7bef5b4a2b44f0ae55efcd4a93a727",
       "style": "IPY_MODEL_f77f4bb9cf724a0e858429a66a2724cb",
       "tooltip": "Search XYZ tile services"
      }
     },
     "052fa7fca2754732906c79d00aa3050e": {
      "model_module": "jupyter-leaflet",
      "model_module_version": "^0.16.0",
      "model_name": "LeafletTileLayerModel",
      "state": {
       "_model_module_version": "^0.16.0",
       "_view_module_version": "^0.16.0",
       "attribution": "Tiles (C) Esri -- Esri, DeLorme, NAVTEQ, TomTom, Intermap, iPC, USGS, FAO, NPS, NRCAN, GeoBase, Kadaster NL, Ordnance Survey, Esri Japan, METI, Esri China (Hong Kong), and the GIS User Community",
       "max_native_zoom": 18,
       "max_zoom": 22,
       "min_native_zoom": 0,
       "name": "Esri.WorldTopoMap",
       "options": [
        "attribution",
        "bounds",
        "detect_retina",
        "max_native_zoom",
        "max_zoom",
        "min_native_zoom",
        "min_zoom",
        "no_wrap",
        "tile_size",
        "tms"
       ],
       "url": "https://server.arcgisonline.com/ArcGIS/rest/services/World_Topo_Map/MapServer/tile/{z}/{y}/{x}"
      }
     },
     "06621b85b7444d17ab1d89f21fde8145": {
      "model_module": "@jupyter-widgets/controls",
      "model_module_version": "1.5.0",
      "model_name": "DescriptionStyleModel",
      "state": {
       "description_width": ""
      }
     },
     "066f8d1432064f398f693e0630e199d3": {
      "model_module": "jupyter-leaflet",
      "model_module_version": "^0.16.0",
      "model_name": "LeafletWMSLayerModel",
      "state": {
       "_model_module_version": "^0.16.0",
       "_view_module_version": "^0.16.0",
       "attribution": "FWS",
       "crs": {
        "custom": false,
        "name": "EPSG3857"
       },
       "format": "image/png",
       "layers": "0",
       "max_native_zoom": 18,
       "min_native_zoom": 0,
       "name": "FWS NWI Wetlands Raster",
       "options": [
        "attribution",
        "bounds",
        "detect_retina",
        "format",
        "layers",
        "max_native_zoom",
        "max_zoom",
        "min_native_zoom",
        "min_zoom",
        "no_wrap",
        "styles",
        "tile_size",
        "tms",
        "transparent",
        "uppercase"
       ],
       "transparent": true,
       "url": "https://www.fws.gov/wetlands/arcgis/services/Wetlands_Raster/ImageServer/WMSServer?"
      }
     },
     "071e61058a14419b97cabd898f8582a7": {
      "model_module": "@jupyter-widgets/output",
      "model_module_version": "1.0.0",
      "model_name": "OutputModel",
      "state": {
       "layout": "IPY_MODEL_ef0b2c97e5f24940a7f8e6094980439f"
      }
     },
     "081e45797c6c41ed94c58e11c36d30c2": {
      "model_module": "jupyter-leaflet",
      "model_module_version": "^0.16.0",
      "model_name": "LeafletTileLayerModel",
      "state": {
       "_model_module_version": "^0.16.0",
       "_view_module_version": "^0.16.0",
       "attribution": "openAIP Data (CC-BY-NC-SA)",
       "max_native_zoom": 18,
       "max_zoom": 14,
       "min_native_zoom": 0,
       "name": "OpenAIP",
       "options": [
        "attribution",
        "bounds",
        "detect_retina",
        "max_native_zoom",
        "max_zoom",
        "min_native_zoom",
        "min_zoom",
        "no_wrap",
        "tile_size",
        "tms"
       ],
       "url": "https://1.tile.maps.openaip.net/geowebcache/service/tms/1.0.0/openaip_basemap@EPSG%3A900913@png/{z}/{x}/{y}.png"
      }
     },
     "08ee92852af74a499028e04f419948c5": {
      "model_module": "jupyter-leaflet",
      "model_module_version": "^0.16.0",
      "model_name": "LeafletTileLayerModel",
      "state": {
       "_model_module_version": "^0.16.0",
       "_view_module_version": "^0.16.0",
       "attribution": "(C) OpenStreetMap France | (C) OpenStreetMap contributors",
       "max_native_zoom": 18,
       "max_zoom": 20,
       "min_native_zoom": 0,
       "name": "OpenStreetMap.France",
       "options": [
        "attribution",
        "bounds",
        "detect_retina",
        "max_native_zoom",
        "max_zoom",
        "min_native_zoom",
        "min_zoom",
        "no_wrap",
        "tile_size",
        "tms"
       ],
       "url": "https://a.tile.openstreetmap.fr/osmfr/{z}/{x}/{y}.png"
      }
     },
     "08f2673fbfa046a5a96a2da99af6a93c": {
      "model_module": "jupyter-leaflet",
      "model_module_version": "^0.16.0",
      "model_name": "LeafletTileLayerModel",
      "state": {
       "_model_module_version": "^0.16.0",
       "_view_module_version": "^0.16.0",
       "attribution": "Justice Map",
       "max_native_zoom": 18,
       "max_zoom": 22,
       "min_native_zoom": 0,
       "name": "JusticeMap.asian",
       "options": [
        "attribution",
        "bounds",
        "detect_retina",
        "max_native_zoom",
        "max_zoom",
        "min_native_zoom",
        "min_zoom",
        "no_wrap",
        "tile_size",
        "tms"
       ],
       "url": "https://www.justicemap.org/tile/county/asian/{z}/{x}/{y}.png"
      }
     },
     "0916309fb0b246d8b53d78334d5c2796": {
      "model_module": "@jupyter-widgets/base",
      "model_module_version": "1.2.0",
      "model_name": "LayoutModel",
      "state": {
       "height": "600px"
      }
     },
     "09b7f1b401d940ee992cc951d560fa27": {
      "model_module": "jupyter-leaflet",
      "model_module_version": "^0.16.0",
      "model_name": "LeafletTileLayerModel",
      "state": {
       "_model_module_version": "^0.16.0",
       "_view_module_version": "^0.16.0",
       "attribution": "Tiles (C) Esri -- National Geographic, Esri, DeLorme, NAVTEQ, UNEP-WCMC, USGS, NASA, ESA, METI, NRCAN, GEBCO, NOAA, iPC",
       "max_native_zoom": 18,
       "max_zoom": 16,
       "min_native_zoom": 0,
       "name": "Esri.NatGeoWorldMap",
       "options": [
        "attribution",
        "bounds",
        "detect_retina",
        "max_native_zoom",
        "max_zoom",
        "min_native_zoom",
        "min_zoom",
        "no_wrap",
        "tile_size",
        "tms"
       ],
       "url": "https://server.arcgisonline.com/ArcGIS/rest/services/NatGeo_World_Map/MapServer/tile/{z}/{y}/{x}"
      }
     },
     "0a8a2ae59e5741dda800cc1013f6e39f": {
      "model_module": "jupyter-leaflet",
      "model_module_version": "^0.16.0",
      "model_name": "LeafletScaleControlModel",
      "state": {
       "_model_module_version": "^0.16.0",
       "_view_module_version": "^0.16.0",
       "imperial": true,
       "max_width": 100,
       "metric": true,
       "options": [
        "imperial",
        "max_width",
        "metric",
        "position",
        "update_when_idle"
       ],
       "position": "bottomleft",
       "update_when_idle": false
      }
     },
     "0a8cc3f602c04f57a5d7a44692f030a3": {
      "model_module": "@jupyter-widgets/base",
      "model_module_version": "1.2.0",
      "model_name": "LayoutModel",
      "state": {}
     },
     "0ad80fedf697488c848374420e29a24b": {
      "model_module": "@jupyter-widgets/controls",
      "model_module_version": "1.5.0",
      "model_name": "DescriptionStyleModel",
      "state": {
       "description_width": ""
      }
     },
     "0b6f01d05ed9474396ad962ae754dd72": {
      "model_module": "@jupyter-widgets/controls",
      "model_module_version": "1.5.0",
      "model_name": "ToggleButtonModel",
      "state": {
       "button_style": "primary",
       "icon": "gears",
       "layout": "IPY_MODEL_1fbb5825c58f4a71abd0cfd5684a001f",
       "style": "IPY_MODEL_763c91557b60421b8fb22b1e53ff8d3b",
       "tooltip": "WhiteboxTools for local geoprocessing"
      }
     },
     "0b7ff91c22ce408a94f97054b5b9f421": {
      "model_module": "@jupyter-widgets/controls",
      "model_module_version": "1.5.0",
      "model_name": "ToggleButtonModel",
      "state": {
       "icon": "server",
       "layout": "IPY_MODEL_fbf267dc320c427e907a00f24c73f697",
       "style": "IPY_MODEL_ce67704f878a47e2bdcaacc83f2e9d9c",
       "tooltip": "Layers"
      }
     },
     "0b9f6aba8dac47fdba3a0029d7643884": {
      "model_module": "@jupyter-widgets/base",
      "model_module_version": "1.2.0",
      "model_name": "LayoutModel",
      "state": {
       "height": "28px",
       "width": "72px"
      }
     },
     "0c961b44e3e74d82843be775f34a726a": {
      "model_module": "@jupyter-widgets/base",
      "model_module_version": "1.2.0",
      "model_name": "LayoutModel",
      "state": {
       "height": "28px",
       "padding": "0px 0px 0px 4px",
       "width": "28px"
      }
     },
     "0d170f1ccff44177b8964753886b4c4f": {
      "model_module": "@jupyter-widgets/controls",
      "model_module_version": "1.5.0",
      "model_name": "ToggleButtonModel",
      "state": {
       "button_style": "primary",
       "icon": "search-plus",
       "layout": "IPY_MODEL_34e59704047846b892d2b0fd0fb2f028",
       "style": "IPY_MODEL_bb2a623226674681976a4334e80e80f2",
       "tooltip": "Search features in GeoJSON layer"
      }
     },
     "0d1c0713df6549999ff58f2105d21eeb": {
      "model_module": "jupyter-leaflet",
      "model_module_version": "^0.16.0",
      "model_name": "LeafletWidgetControlModel",
      "state": {
       "_model_module": "jupyter-leaflet",
       "_model_module_version": "^0.16.0",
       "_view_count": null,
       "_view_module": "jupyter-leaflet",
       "_view_module_version": "^0.16.0",
       "options": [
        "position",
        "transparent_bg"
       ],
       "position": "topright",
       "widget": "IPY_MODEL_9aca4b0e9d1d406c8a80296fdf03dc43"
      }
     },
     "0d275443ea334ee6bfd0c6dde5ba210c": {
      "model_module": "jupyter-leaflet",
      "model_module_version": "^0.16.0",
      "model_name": "LeafletTileLayerModel",
      "state": {
       "_model_module_version": "^0.16.0",
       "_view_module_version": "^0.16.0",
       "attribution": "Datenquelle: basemap.at",
       "max_native_zoom": 18,
       "max_zoom": 20,
       "min_native_zoom": 0,
       "name": "BasemapAT.basemap",
       "options": [
        "attribution",
        "bounds",
        "detect_retina",
        "max_native_zoom",
        "max_zoom",
        "min_native_zoom",
        "min_zoom",
        "no_wrap",
        "tile_size",
        "tms"
       ],
       "url": "https://maps.wien.gv.at/basemap/geolandbasemap/normal/google3857/{z}/{y}/{x}.png"
      }
     },
     "0d32b5ed46d24f9381c9bc256bdcae05": {
      "model_module": "@jupyter-widgets/controls",
      "model_module_version": "1.5.0",
      "model_name": "DescriptionStyleModel",
      "state": {
       "description_width": ""
      }
     },
     "0d8adbb6163a401b82968ba88e46fb99": {
      "model_module": "@jupyter-widgets/base",
      "model_module_version": "1.2.0",
      "model_name": "LayoutModel",
      "state": {
       "height": "auto",
       "padding": "0px 0px 0px 4px",
       "width": "auto"
      }
     },
     "0dba58dad53541a8b447c59359564651": {
      "model_module": "jupyter-leaflet",
      "model_module_version": "^0.16.0",
      "model_name": "LeafletTileLayerModel",
      "state": {
       "_model_module_version": "^0.16.0",
       "_view_module_version": "^0.16.0",
       "attribution": "Imagery provided by services from the Global Imagery Browse Services (GIBS), operated by the NASA/GSFC/Earth Science Data and Information System (ESDIS) with funding provided by NASA/HQ.",
       "max_native_zoom": 18,
       "max_zoom": 7,
       "min_native_zoom": 0,
       "name": "NASAGIBS.ModisTerraChlorophyll",
       "options": [
        "attribution",
        "bounds",
        "detect_retina",
        "max_native_zoom",
        "max_zoom",
        "min_native_zoom",
        "min_zoom",
        "no_wrap",
        "tile_size",
        "tms"
       ],
       "url": "https://map1.vis.earthdata.nasa.gov/wmts-webmerc/MODIS_Terra_Chlorophyll_A/default//GoogleMapsCompatible_Level7/{z}/{y}/{x}.png"
      }
     },
     "0ddb7b774cc84e478679b87cebf7c713": {
      "model_module": "@jupyter-widgets/base",
      "model_module_version": "1.2.0",
      "model_name": "LayoutModel",
      "state": {
       "height": "auto",
       "padding": "0px 0px 0px 4px",
       "width": "auto"
      }
     },
     "0dff26e1ba4f4df99fd9f4c3b08ffda7": {
      "model_module": "@jupyter-widgets/controls",
      "model_module_version": "1.5.0",
      "model_name": "ToggleButtonModel",
      "state": {
       "button_style": "primary",
       "icon": "pencil-square-o",
       "layout": "IPY_MODEL_ddf833d161fa42b2b44dacc470717643",
       "style": "IPY_MODEL_1286fc9cd19246cd91cf819c928171a0",
       "tooltip": "Create vector data"
      }
     },
     "0e7778cee3f74200ae760d72871b5002": {
      "model_module": "jupyter-leaflet",
      "model_module_version": "^0.16.0",
      "model_name": "LeafletTileLayerModel",
      "state": {
       "_model_module_version": "^0.16.0",
       "_view_module_version": "^0.16.0",
       "attribution": "Kaartgegevens (C) Kadaster",
       "max_native_zoom": 18,
       "max_zoom": 19,
       "min_native_zoom": 0,
       "name": "nlmaps.grijs",
       "options": [
        "attribution",
        "bounds",
        "detect_retina",
        "max_native_zoom",
        "max_zoom",
        "min_native_zoom",
        "min_zoom",
        "no_wrap",
        "tile_size",
        "tms"
       ],
       "url": "https://service.pdok.nl/brt/achtergrondkaart/wmts/v2_0/grijs/EPSG:3857/{z}/{x}/{y}.png"
      }
     },
     "0f73fbb331c54c46bd944dff0f434872": {
      "model_module": "jupyter-leaflet",
      "model_module_version": "^0.16.0",
      "model_name": "LeafletTileLayerModel",
      "state": {
       "_model_module_version": "^0.16.0",
       "_view_module_version": "^0.16.0",
       "attribution": "(C) OpenStreetMap contributors, Tiles courtesy of Breton OpenStreetMap Team",
       "max_native_zoom": 18,
       "max_zoom": 19,
       "min_native_zoom": 0,
       "name": "OpenStreetMap.BZH",
       "options": [
        "attribution",
        "bounds",
        "detect_retina",
        "max_native_zoom",
        "max_zoom",
        "min_native_zoom",
        "min_zoom",
        "no_wrap",
        "tile_size",
        "tms"
       ],
       "url": "https://tile.openstreetmap.bzh/br/{z}/{x}/{y}.png"
      }
     },
     "10a4a531bddc4daab6e4d7b477b50541": {
      "model_module": "@jupyter-widgets/controls",
      "model_module_version": "1.5.0",
      "model_name": "DescriptionStyleModel",
      "state": {
       "description_width": ""
      }
     },
     "10d57898e1824396a0279efcb9c2fc59": {
      "model_module": "@jupyter-widgets/controls",
      "model_module_version": "1.5.0",
      "model_name": "DescriptionStyleModel",
      "state": {
       "description_width": ""
      }
     },
     "119c30b9533f4955ba68be1746ef3533": {
      "model_module": "jupyter-leaflet",
      "model_module_version": "^0.16.0",
      "model_name": "LeafletMapModel",
      "state": {
       "_dragging": true,
       "_model_module_version": "^0.16.0",
       "_view_module_version": "^0.16.0",
       "bottom": 23234,
       "center": [
        47.434095,
        -123.384370945
       ],
       "controls": [
        "IPY_MODEL_6abe5f1bf0354a69b619aa3e9f42c364",
        "IPY_MODEL_2302fa0af15e4439994950a263a83a1d",
        "IPY_MODEL_c4b01070710a4e81a16e8ad1001195de",
        "IPY_MODEL_a810f9e2ad0845de87935674c3e3f797",
        "IPY_MODEL_920bb63d37674fdfa6cb96c4d2eec9c9",
        "IPY_MODEL_33abc5664d114ab4b8e67e2cdb54c849",
        "IPY_MODEL_0a8a2ae59e5741dda800cc1013f6e39f",
        "IPY_MODEL_0d1c0713df6549999ff58f2105d21eeb"
       ],
       "default_style": "IPY_MODEL_81bd505b81b7440f9c010cc42ee90749",
       "dragging_style": "IPY_MODEL_55a5613c1f8746a883ee64a86abf85f8",
       "east": -118.6578369140625,
       "fullscreen": false,
       "interpolation": "bilinear",
       "layers": [
        "IPY_MODEL_a8a619ced30040cfb5c49883e8f4baca",
        "IPY_MODEL_68fe5fefbc794b9f88d2bcebb1249c29"
       ],
       "layout": "IPY_MODEL_0916309fb0b246d8b53d78334d5c2796",
       "left": 9447,
       "max_zoom": 24,
       "modisdate": "2022-05-24",
       "north": 48.53843177405046,
       "options": [
        "bounce_at_zoom_limits",
        "box_zoom",
        "center",
        "close_popup_on_click",
        "double_click_zoom",
        "dragging",
        "fullscreen",
        "inertia",
        "inertia_deceleration",
        "inertia_max_speed",
        "interpolation",
        "keyboard",
        "keyboard_pan_offset",
        "keyboard_zoom_offset",
        "max_zoom",
        "min_zoom",
        "prefer_canvas",
        "scroll_wheel_zoom",
        "tap",
        "tap_tolerance",
        "touch_zoom",
        "world_copy_jump",
        "zoom",
        "zoom_animation_threshold",
        "zoom_delta",
        "zoom_snap",
        "zoom_start"
       ],
       "prefer_canvas": false,
       "right": 11167,
       "scroll_wheel_zoom": true,
       "south": 46.30899569419859,
       "style": "IPY_MODEL_55a5613c1f8746a883ee64a86abf85f8",
       "top": 22634,
       "west": -128.10607910156253,
       "window_url": "https://pcc-staging.westeurope.cloudapp.azure.com/compute/user/taugspurger@microsoft.com/lab/tree/PlanetaryComputerExamples/quickstarts/leafmap-example.ipynb",
       "zoom": 8
      }
     },
     "123e8d9641fe46e48bcab868bdea8378": {
      "model_module": "jupyter-leaflet",
      "model_module_version": "^0.16.0",
      "model_name": "LeafletTileLayerModel",
      "state": {
       "_model_module_version": "^0.16.0",
       "_view_module_version": "^0.16.0",
       "attribution": "Map data: (C) OpenStreetMap contributors | Map style: (C) SafeCast (CC-BY-SA)",
       "max_native_zoom": 18,
       "max_zoom": 16,
       "min_native_zoom": 0,
       "name": "SafeCast",
       "options": [
        "attribution",
        "bounds",
        "detect_retina",
        "max_native_zoom",
        "max_zoom",
        "min_native_zoom",
        "min_zoom",
        "no_wrap",
        "tile_size",
        "tms"
       ],
       "url": "https://s3.amazonaws.com/te512.safecast.org/{z}/{x}/{y}.png"
      }
     },
     "1286fc9cd19246cd91cf819c928171a0": {
      "model_module": "@jupyter-widgets/controls",
      "model_module_version": "1.5.0",
      "model_name": "DescriptionStyleModel",
      "state": {
       "description_width": ""
      }
     },
     "12acaad2ec0c4d61a8386f04863373cc": {
      "model_module": "@jupyter-widgets/controls",
      "model_module_version": "1.5.0",
      "model_name": "ToggleButtonModel",
      "state": {
       "button_style": "primary",
       "icon": "table",
       "layout": "IPY_MODEL_52fb566aae3e42868d96f4b4e01a3a70",
       "style": "IPY_MODEL_13b7c8e0da4148c4947ef109694d2270",
       "tooltip": "Open attribute table"
      }
     },
     "13b7c8e0da4148c4947ef109694d2270": {
      "model_module": "@jupyter-widgets/controls",
      "model_module_version": "1.5.0",
      "model_name": "DescriptionStyleModel",
      "state": {
       "description_width": ""
      }
     },
     "149bdee54e064d658a75aff76a31f967": {
      "model_module": "jupyter-leaflet",
      "model_module_version": "^0.16.0",
      "model_name": "LeafletTileLayerModel",
      "state": {
       "_model_module_version": "^0.16.0",
       "_view_module_version": "^0.16.0",
       "attribution": "(C) OpenStreetMap contributors, vizualization CC-By-SA 2.0 Freemap.sk",
       "max_native_zoom": 18,
       "max_zoom": 16,
       "min_native_zoom": 0,
       "name": "FreeMapSK",
       "options": [
        "attribution",
        "bounds",
        "detect_retina",
        "max_native_zoom",
        "max_zoom",
        "min_native_zoom",
        "min_zoom",
        "no_wrap",
        "tile_size",
        "tms"
       ],
       "url": "https://a.freemap.sk/T/{z}/{x}/{y}.jpeg"
      }
     },
     "1635ed0a120e4dd693fbbf6ac2073397": {
      "model_module": "@jupyter-widgets/controls",
      "model_module_version": "1.5.0",
      "model_name": "DescriptionStyleModel",
      "state": {
       "description_width": ""
      }
     },
     "16a4c171a2e64d179f06aa1a8acbe25d": {
      "model_module": "jupyter-leaflet",
      "model_module_version": "^0.16.0",
      "model_name": "LeafletTileLayerModel",
      "state": {
       "_model_module_version": "^0.16.0",
       "_view_module_version": "^0.16.0",
       "attribution": "(C) Stadia Maps, (C) OpenMapTiles (C) OpenStreetMap contributors",
       "max_native_zoom": 18,
       "max_zoom": 20,
       "min_native_zoom": 0,
       "name": "Stadia.AlidadeSmooth",
       "options": [
        "attribution",
        "bounds",
        "detect_retina",
        "max_native_zoom",
        "max_zoom",
        "min_native_zoom",
        "min_zoom",
        "no_wrap",
        "tile_size",
        "tms"
       ],
       "url": "https://tiles.stadiamaps.com/tiles/alidade_smooth/{z}/{x}/{y}.png"
      }
     },
     "174abb7839a84566b180f53590d55718": {
      "model_module": "jupyter-leaflet",
      "model_module_version": "^0.16.0",
      "model_name": "LeafletScaleControlModel",
      "state": {
       "_model_module_version": "^0.16.0",
       "_view_module_version": "^0.16.0",
       "imperial": true,
       "max_width": 100,
       "metric": true,
       "options": [
        "imperial",
        "max_width",
        "metric",
        "position",
        "update_when_idle"
       ],
       "position": "bottomleft",
       "update_when_idle": false
      }
     },
     "177f69123e124bab95c262db3ceb153f": {
      "model_module": "jupyter-leaflet",
      "model_module_version": "^0.16.0",
      "model_name": "LeafletTileLayerModel",
      "state": {
       "_model_module_version": "^0.16.0",
       "_view_module_version": "^0.16.0",
       "attribution": "Imagery provided by services from the Global Imagery Browse Services (GIBS), operated by the NASA/GSFC/Earth Science Data and Information System (<a href=\"https://earthdata.nasa.gov\">ESDIS</a>) with funding provided by NASA/HQ.",
       "max_native_zoom": 18,
       "max_zoom": 5,
       "min_native_zoom": 0,
       "name": "NASAGIBS.BlueMarble3031",
       "options": [
        "attribution",
        "bounds",
        "detect_retina",
        "max_native_zoom",
        "max_zoom",
        "min_native_zoom",
        "min_zoom",
        "no_wrap",
        "tile_size",
        "tms"
       ],
       "url": "https://gibs.earthdata.nasa.gov/wmts/epsg3031/best/BlueMarble_NextGeneration/default/EPSG3031_500m/{z}/{y}/{x}.jpeg"
      }
     },
     "17e495b59a784481a11d0f73db33dcc8": {
      "model_module": "jupyter-leaflet",
      "model_module_version": "^0.16.0",
      "model_name": "LeafletMapModel",
      "state": {
       "_model_module_version": "^0.16.0",
       "_view_module_version": "^0.16.0",
       "bottom": 23212,
       "center": [
        47.517200697839414,
        -123.39843750000001
       ],
       "controls": [
        "IPY_MODEL_2d18172f96ae4828b69bbc90553e58de",
        "IPY_MODEL_53de1793cdb547d096cd8493ccc4b779",
        "IPY_MODEL_fe03204952664429be1d0aac1f6f25f2",
        "IPY_MODEL_a4a69269bd7f41d792c4df8347b3b6e1",
        "IPY_MODEL_9e12fecadf6243c68f5ea4a89df5eaf1",
        "IPY_MODEL_a1a0e41e65184d6c8eab909d34e80e5d",
        "IPY_MODEL_174abb7839a84566b180f53590d55718",
        "IPY_MODEL_1885cbdf46644a18b6c49c80caa6c306"
       ],
       "default_style": "IPY_MODEL_cda8c093048a4ab49515e9c52ec8e845",
       "dragging_style": "IPY_MODEL_01e64a0de424403b9cb497ccc7abd50d",
       "east": -118.67431640625001,
       "fullscreen": false,
       "interpolation": "bilinear",
       "layers": [
        "IPY_MODEL_f6c2f1c8144e47b6990bec0aafd2b84f",
        "IPY_MODEL_83ff5856fd3e4621b393ee6d1c503340"
       ],
       "layout": "IPY_MODEL_344aa866030345999c6ee5035c501710",
       "left": 9444,
       "max_zoom": 24,
       "modisdate": "2022-05-24",
       "north": 48.61838518688487,
       "options": [
        "bounce_at_zoom_limits",
        "box_zoom",
        "center",
        "close_popup_on_click",
        "double_click_zoom",
        "dragging",
        "fullscreen",
        "inertia",
        "inertia_deceleration",
        "inertia_max_speed",
        "interpolation",
        "keyboard",
        "keyboard_pan_offset",
        "keyboard_zoom_offset",
        "max_zoom",
        "min_zoom",
        "prefer_canvas",
        "scroll_wheel_zoom",
        "tap",
        "tap_tolerance",
        "touch_zoom",
        "world_copy_jump",
        "zoom",
        "zoom_animation_threshold",
        "zoom_delta",
        "zoom_snap",
        "zoom_start"
       ],
       "prefer_canvas": false,
       "right": 11164,
       "scroll_wheel_zoom": true,
       "south": 46.392411189814645,
       "style": "IPY_MODEL_cda8c093048a4ab49515e9c52ec8e845",
       "top": 22612,
       "west": -128.12255859375003,
       "window_url": "https://pcc-staging.westeurope.cloudapp.azure.com/compute/user/taugspurger@microsoft.com/lab/tree/PlanetaryComputerExamples/quickstarts/leafmap-example.ipynb",
       "zoom": 8
      }
     },
     "180c65fb7cf0418f9111344c84133aaa": {
      "model_module": "jupyter-leaflet",
      "model_module_version": "^0.16.0",
      "model_name": "LeafletTileLayerModel",
      "state": {
       "_model_module_version": "^0.16.0",
       "_view_module_version": "^0.16.0",
       "attribution": "Map tiles by <a href=\"https://labs.strava.com/heatmap\">Strava 2021</a>",
       "max_native_zoom": 18,
       "max_zoom": 15,
       "min_native_zoom": 0,
       "name": "Strava.Run",
       "options": [
        "attribution",
        "bounds",
        "detect_retina",
        "max_native_zoom",
        "max_zoom",
        "min_native_zoom",
        "min_zoom",
        "no_wrap",
        "tile_size",
        "tms"
       ],
       "url": "https://heatmap-external-a.strava.com/tiles/run/bluered/{z}/{x}/{y}.png"
      }
     },
     "1885cbdf46644a18b6c49c80caa6c306": {
      "model_module": "jupyter-leaflet",
      "model_module_version": "^0.16.0",
      "model_name": "LeafletWidgetControlModel",
      "state": {
       "_model_module": "jupyter-leaflet",
       "_model_module_version": "^0.16.0",
       "_view_count": null,
       "_view_module": "jupyter-leaflet",
       "_view_module_version": "^0.16.0",
       "options": [
        "position",
        "transparent_bg"
       ],
       "position": "topright",
       "widget": "IPY_MODEL_ee2254fa32184cbea0f38baf01d41aa8"
      }
     },
     "1b9c62600cbb4969abc1b86423347f1f": {
      "model_module": "jupyter-leaflet",
      "model_module_version": "^0.16.0",
      "model_name": "LeafletTileLayerModel",
      "state": {
       "_model_module_version": "^0.16.0",
       "_view_module_version": "^0.16.0",
       "attribution": "Map data: (C) OpenStreetMap contributors, SRTM | Map style: (C) OpenTopoMap (CC-BY-SA)",
       "max_native_zoom": 18,
       "max_zoom": 17,
       "min_native_zoom": 0,
       "name": "OpenTopoMap",
       "options": [
        "attribution",
        "bounds",
        "detect_retina",
        "max_native_zoom",
        "max_zoom",
        "min_native_zoom",
        "min_zoom",
        "no_wrap",
        "tile_size",
        "tms"
       ],
       "url": "https://a.tile.opentopomap.org/{z}/{x}/{y}.png"
      }
     },
     "1bf451e10dcd415b910b7889f6496080": {
      "model_module": "@jupyter-widgets/controls",
      "model_module_version": "1.5.0",
      "model_name": "DescriptionStyleModel",
      "state": {
       "description_width": ""
      }
     },
     "1c8c6de92bf24eea9706685a9ff3db05": {
      "model_module": "@jupyter-widgets/base",
      "model_module_version": "1.2.0",
      "model_name": "LayoutModel",
      "state": {
       "height": "auto",
       "padding": "0px 0px 0px 4px",
       "width": "auto"
      }
     },
     "1ca9cf06011f43e8945ab6dd5ad46f78": {
      "model_module": "@jupyter-widgets/base",
      "model_module_version": "1.2.0",
      "model_name": "LayoutModel",
      "state": {
       "height": "auto",
       "padding": "0px 0px 0px 4px",
       "width": "auto"
      }
     },
     "1cecc030655947d9ab56bf746361d6e8": {
      "model_module": "@jupyter-widgets/controls",
      "model_module_version": "1.5.0",
      "model_name": "ToggleButtonModel",
      "state": {
       "button_style": "primary",
       "icon": "download",
       "layout": "IPY_MODEL_3ac0888f627c4912ad309b6b92a88348",
       "style": "IPY_MODEL_964e1b284a2240f89c124dbdafaf2365",
       "tooltip": "Download OSM data"
      }
     },
     "1d019976945c4f81b7ebc124903dc077": {
      "model_module": "jupyter-leaflet",
      "model_module_version": "^0.16.0",
      "model_name": "LeafletMapStyleModel",
      "state": {
       "_model_module_version": "^0.16.0",
       "cursor": "move"
      }
     },
     "1dad195a1f6f49148c8d34df4dc83f07": {
      "model_module": "@jupyter-widgets/controls",
      "model_module_version": "1.5.0",
      "model_name": "ToggleButtonModel",
      "state": {
       "button_style": "primary",
       "icon": "camera",
       "layout": "IPY_MODEL_6d2e1ef5d7b34cb795669b79a59374e4",
       "style": "IPY_MODEL_3c4a3d1af2af42f2a91ed3c1cf9c5cd1",
       "tooltip": "Save map as HTML or image"
      }
     },
     "1de8ae7f8c504ba8aa72241979ab54ee": {
      "model_module": "@jupyter-widgets/base",
      "model_module_version": "1.2.0",
      "model_name": "LayoutModel",
      "state": {
       "height": "auto",
       "padding": "0px 0px 0px 4px",
       "width": "auto"
      }
     },
     "1e2683424c344aa3b7ff830d52fcb95f": {
      "model_module": "jupyter-leaflet",
      "model_module_version": "^0.16.0",
      "model_name": "LeafletTileLayerModel",
      "state": {
       "_model_module_version": "^0.16.0",
       "_view_module_version": "^0.16.0",
       "attribution": "(C) OpenStreetMap contributors (C) CARTO",
       "max_native_zoom": 18,
       "max_zoom": 20,
       "min_native_zoom": 0,
       "name": "CartoDB.PositronOnlyLabels",
       "options": [
        "attribution",
        "bounds",
        "detect_retina",
        "max_native_zoom",
        "max_zoom",
        "min_native_zoom",
        "min_zoom",
        "no_wrap",
        "tile_size",
        "tms"
       ],
       "url": "https://a.basemaps.cartocdn.com/light_only_labels/{z}/{x}/{y}.png"
      }
     },
     "1e6b3d7f95444af6bd6ebb38d5a9d8a7": {
      "model_module": "@jupyter-widgets/controls",
      "model_module_version": "1.5.0",
      "model_name": "ToggleButtonModel",
      "state": {
       "button_style": "primary",
       "icon": "fast-forward",
       "layout": "IPY_MODEL_2c2621bb2cb342cc905c06dc76ce8583",
       "style": "IPY_MODEL_625a13bc7f704a0da7035a932af94bc4",
       "tooltip": "Activate the time slider"
      }
     },
     "1e93e45cd22c4dfda6f03576f240c273": {
      "model_module": "@jupyter-widgets/controls",
      "model_module_version": "1.5.0",
      "model_name": "DescriptionStyleModel",
      "state": {
       "description_width": ""
      }
     },
     "1f1212cc72414f7ebe8e24246164c554": {
      "model_module": "@jupyter-widgets/controls",
      "model_module_version": "1.5.0",
      "model_name": "ToggleButtonModel",
      "state": {
       "button_style": "primary",
       "icon": "globe",
       "layout": "IPY_MODEL_6dd52900e49d4858b7200026e39ceb77",
       "style": "IPY_MODEL_63f717d23bcd45b2b421b533b9052557",
       "tooltip": "Split-panel map"
      }
     },
     "1f4f2aa2e1e5437ab5099717fb57f4be": {
      "model_module": "jupyter-leaflet",
      "model_module_version": "^0.16.0",
      "model_name": "LeafletTileLayerModel",
      "state": {
       "_model_module_version": "^0.16.0",
       "_view_module_version": "^0.16.0",
       "attribution": "",
       "max_native_zoom": 18,
       "min_native_zoom": 0,
       "name": "NDVI",
       "options": [
        "attribution",
        "bounds",
        "detect_retina",
        "max_native_zoom",
        "max_zoom",
        "min_native_zoom",
        "min_zoom",
        "no_wrap",
        "tile_size",
        "tms"
       ],
       "url": "https://planetarycomputer.microsoft.com/api/data/v1/item/tiles/WebMercatorQuad/{z}/{x}/{y}@1x?expression=%28SR_B5+-+SR_B4%29+%2F+%28SR_B5+%2B+SR_B4%29&rescale=-.5%2C0.5&colormap_name=rdylgn&collection=landsat-8-c2-l2&item=LC08_L2SP_047027_20201204_02_T1&assets=SR_B5&assets=+SR_B4"
      }
     },
     "1fbb5825c58f4a71abd0cfd5684a001f": {
      "model_module": "@jupyter-widgets/base",
      "model_module_version": "1.2.0",
      "model_name": "LayoutModel",
      "state": {
       "height": "auto",
       "padding": "0px 0px 0px 4px",
       "width": "auto"
      }
     },
     "1fd548d67dfe45f286b3e3b95dba1958": {
      "model_module": "@jupyter-widgets/controls",
      "model_module_version": "1.5.0",
      "model_name": "VBoxModel",
      "state": {
       "children": [
        "IPY_MODEL_a99d4d13ac6845e4843e091fd5c39acb"
       ],
       "layout": "IPY_MODEL_f727b733d8c44fdba7c784a9e8925fb0"
      }
     },
     "20a7b157acc549b4939ee86377b0217c": {
      "model_module": "@jupyter-widgets/base",
      "model_module_version": "1.2.0",
      "model_name": "LayoutModel",
      "state": {
       "height": "auto",
       "padding": "0px 0px 0px 4px",
       "width": "auto"
      }
     },
     "2299769eed4d418f8b9e3a497732f1a6": {
      "model_module": "jupyter-leaflet",
      "model_module_version": "^0.16.0",
      "model_name": "LeafletTileLayerModel",
      "state": {
       "_model_module_version": "^0.16.0",
       "_view_module_version": "^0.16.0",
       "attribution": "Justice Map",
       "max_native_zoom": 18,
       "max_zoom": 22,
       "min_native_zoom": 0,
       "name": "JusticeMap.americanIndian",
       "options": [
        "attribution",
        "bounds",
        "detect_retina",
        "max_native_zoom",
        "max_zoom",
        "min_native_zoom",
        "min_zoom",
        "no_wrap",
        "tile_size",
        "tms"
       ],
       "url": "https://www.justicemap.org/tile/county/indian/{z}/{x}/{y}.png"
      }
     },
     "22e362d38f434e37b8d4e30de3c11211": {
      "model_module": "@jupyter-widgets/controls",
      "model_module_version": "1.5.0",
      "model_name": "DescriptionStyleModel",
      "state": {
       "description_width": ""
      }
     },
     "2302fa0af15e4439994950a263a83a1d": {
      "model_module": "jupyter-leaflet",
      "model_module_version": "^0.16.0",
      "model_name": "LeafletAttributionControlModel",
      "state": {
       "_model_module_version": "^0.16.0",
       "_view_module_version": "^0.16.0",
       "options": [
        "position",
        "prefix"
       ],
       "position": "bottomright",
       "prefix": "ipyleaflet"
      }
     },
     "233a18c62d0a45ec93f920ca2505759e": {
      "model_module": "@jupyter-widgets/base",
      "model_module_version": "1.2.0",
      "model_name": "LayoutModel",
      "state": {
       "height": "auto",
       "padding": "0px 0px 0px 4px",
       "width": "auto"
      }
     },
     "239e2f0ba9a14f8aa4e5bc64a11eba1f": {
      "model_module": "@jupyter-widgets/base",
      "model_module_version": "1.2.0",
      "model_name": "LayoutModel",
      "state": {
       "height": "auto",
       "padding": "0px 0px 0px 4px",
       "width": "auto"
      }
     },
     "23ddedc7dd1449e5a86d3cb052d40da7": {
      "model_module": "jupyter-leaflet",
      "model_module_version": "^0.16.0",
      "model_name": "LeafletTileLayerModel",
      "state": {
       "_model_module_version": "^0.16.0",
       "_view_module_version": "^0.16.0",
       "attribution": "![](https://docs.onemap.sg/maps/images/oneMap64-01.png) New OneMap | Map data (C) contributors, Singapore Land Authority",
       "max_native_zoom": 18,
       "min_native_zoom": 0,
       "name": "OneMapSG.LandLot",
       "options": [
        "attribution",
        "bounds",
        "detect_retina",
        "max_native_zoom",
        "max_zoom",
        "min_native_zoom",
        "min_zoom",
        "no_wrap",
        "tile_size",
        "tms"
       ],
       "url": "https://maps-a.onemap.sg/v3/LandLot/{z}/{x}/{y}.png"
      }
     },
     "24dfd370d3b3404e9ca919945ec3ad89": {
      "model_module": "jupyter-leaflet",
      "model_module_version": "^0.16.0",
      "model_name": "LeafletTileLayerModel",
      "state": {
       "_model_module_version": "^0.16.0",
       "_view_module_version": "^0.16.0",
       "attribution": "Map tiles by Stamen Design, CC BY 3.0 -- Map data (C) OpenStreetMap contributors",
       "max_native_zoom": 18,
       "max_zoom": 20,
       "min_native_zoom": 0,
       "name": "Stamen.TonerLite",
       "options": [
        "attribution",
        "bounds",
        "detect_retina",
        "max_native_zoom",
        "max_zoom",
        "min_native_zoom",
        "min_zoom",
        "no_wrap",
        "tile_size",
        "tms"
       ],
       "url": "https://stamen-tiles-a.a.ssl.fastly.net/toner-lite/{z}/{x}/{y}.png"
      }
     },
     "2506acca8065450ab7cefa6a5612448a": {
      "model_module": "jupyter-leaflet",
      "model_module_version": "^0.16.0",
      "model_name": "LeafletTileLayerModel",
      "state": {
       "_model_module_version": "^0.16.0",
       "_view_module_version": "^0.16.0",
       "attribution": "(C) OpenStreetMap contributors (C) CARTO",
       "max_native_zoom": 18,
       "max_zoom": 20,
       "min_native_zoom": 0,
       "name": "CartoDB.Positron",
       "options": [
        "attribution",
        "bounds",
        "detect_retina",
        "max_native_zoom",
        "max_zoom",
        "min_native_zoom",
        "min_zoom",
        "no_wrap",
        "tile_size",
        "tms"
       ],
       "url": "https://a.basemaps.cartocdn.com/light_all/{z}/{x}/{y}.png"
      }
     },
     "25840bbb4e754059bf40f3da779d5875": {
      "model_module": "jupyter-leaflet",
      "model_module_version": "^0.16.0",
      "model_name": "LeafletTileLayerModel",
      "state": {
       "_model_module_version": "^0.16.0",
       "_view_module_version": "^0.16.0",
       "attribution": "National Library of Scotland Historic Maps",
       "max_native_zoom": 18,
       "min_native_zoom": 0,
       "name": "NLS",
       "options": [
        "attribution",
        "bounds",
        "detect_retina",
        "max_native_zoom",
        "max_zoom",
        "min_native_zoom",
        "min_zoom",
        "no_wrap",
        "tile_size",
        "tms"
       ],
       "url": "https://nls-0.tileserver.com/nls/{z}/{x}/{y}.jpg"
      }
     },
     "25e11f6589c946d59e65be8f31233907": {
      "model_module": "@jupyter-widgets/controls",
      "model_module_version": "1.5.0",
      "model_name": "DescriptionStyleModel",
      "state": {
       "description_width": ""
      }
     },
     "26476ba6c09e4469999b4124db8e26ac": {
      "model_module": "@jupyter-widgets/controls",
      "model_module_version": "1.5.0",
      "model_name": "ToggleButtonModel",
      "state": {
       "button_style": "primary",
       "icon": "fast-forward",
       "layout": "IPY_MODEL_1de8ae7f8c504ba8aa72241979ab54ee",
       "style": "IPY_MODEL_dfff37954947463a8bb00abcdf97b7db",
       "tooltip": "Activate the time slider"
      }
     },
     "26a444d4cc3341eaba85078cf91c9846": {
      "model_module": "@jupyter-widgets/controls",
      "model_module_version": "1.5.0",
      "model_name": "DescriptionStyleModel",
      "state": {
       "description_width": ""
      }
     },
     "27b43029a3ea45898fe366a7defc5d17": {
      "model_module": "@jupyter-widgets/controls",
      "model_module_version": "1.5.0",
      "model_name": "ToggleButtonModel",
      "state": {
       "button_style": "primary",
       "icon": "question",
       "layout": "IPY_MODEL_4dfe1efdefc545648ff3639eec1986ed",
       "style": "IPY_MODEL_3893189db7714d45b7e980cf0dd51ae1",
       "tooltip": "Get help"
      }
     },
     "27f8b48f876f40d099185b4f7789c7f1": {
      "model_module": "jupyter-leaflet",
      "model_module_version": "^0.16.0",
      "model_name": "LeafletAttributionControlModel",
      "state": {
       "_model_module_version": "^0.16.0",
       "_view_module_version": "^0.16.0",
       "options": [
        "position",
        "prefix"
       ],
       "position": "bottomright",
       "prefix": "ipyleaflet"
      }
     },
     "29af4907d00c409a8e378c5a85ab457b": {
      "model_module": "jupyter-leaflet",
      "model_module_version": "^0.16.0",
      "model_name": "LeafletTileLayerModel",
      "state": {
       "_model_module_version": "^0.16.0",
       "_view_module_version": "^0.16.0",
       "attribution": "Tiles courtesy of the U.S. Geological Survey",
       "max_native_zoom": 18,
       "max_zoom": 20,
       "min_native_zoom": 0,
       "name": "USGS.USImagery",
       "options": [
        "attribution",
        "bounds",
        "detect_retina",
        "max_native_zoom",
        "max_zoom",
        "min_native_zoom",
        "min_zoom",
        "no_wrap",
        "tile_size",
        "tms"
       ],
       "url": "https://basemap.nationalmap.gov/arcgis/rest/services/USGSImageryOnly/MapServer/tile/{z}/{y}/{x}"
      }
     },
     "2a55b8301ab14b3c84f0d986e59f34c4": {
      "model_module": "jupyter-leaflet",
      "model_module_version": "^0.16.0",
      "model_name": "LeafletWMSLayerModel",
      "state": {
       "_model_module_version": "^0.16.0",
       "_view_module_version": "^0.16.0",
       "attribution": "MRLC",
       "crs": {
        "custom": false,
        "name": "EPSG3857"
       },
       "format": "image/png",
       "layers": "NLCD_2013_Land_Cover_L48",
       "max_native_zoom": 18,
       "min_native_zoom": 0,
       "name": "NLCD 2013 CONUS Land Cover",
       "options": [
        "attribution",
        "bounds",
        "detect_retina",
        "format",
        "layers",
        "max_native_zoom",
        "max_zoom",
        "min_native_zoom",
        "min_zoom",
        "no_wrap",
        "styles",
        "tile_size",
        "tms",
        "transparent",
        "uppercase"
       ],
       "transparent": true,
       "url": "https://www.mrlc.gov/geoserver/mrlc_display/NLCD_2013_Land_Cover_L48/wms?"
      }
     },
     "2a91198adf0f446da37f3bd277200bf9": {
      "model_module": "@jupyter-widgets/base",
      "model_module_version": "1.2.0",
      "model_name": "LayoutModel",
      "state": {
       "height": "auto",
       "padding": "0px 0px 0px 4px",
       "width": "auto"
      }
     },
     "2aa05ed7cbbf416894895171749a3bc1": {
      "model_module": "@jupyter-widgets/base",
      "model_module_version": "1.2.0",
      "model_name": "LayoutModel",
      "state": {
       "height": "auto",
       "padding": "0px 0px 0px 4px",
       "width": "auto"
      }
     },
     "2ada442f667a4887b88d0ab0ff2ec415": {
      "model_module": "jupyter-leaflet",
      "model_module_version": "^0.16.0",
      "model_name": "LeafletTileLayerModel",
      "state": {
       "_model_module_version": "^0.16.0",
       "_view_module_version": "^0.16.0",
       "attribution": "Imagery provided by services from the Global Imagery Browse Services (GIBS), operated by the NASA/GSFC/Earth Science Data and Information System (<a href=\"https://earthdata.nasa.gov\">ESDIS</a>) with funding provided by NASA/HQ.",
       "max_native_zoom": 18,
       "max_zoom": 9,
       "min_native_zoom": 0,
       "name": "NASAGIBS.ModisAquaBands721CR",
       "options": [
        "attribution",
        "bounds",
        "detect_retina",
        "max_native_zoom",
        "max_zoom",
        "min_native_zoom",
        "min_zoom",
        "no_wrap",
        "tile_size",
        "tms"
       ],
       "url": "https://gibs.earthdata.nasa.gov/wmts/epsg3857/best/MODIS_Aqua_CorrectedReflectance_Bands721/default//GoogleMapsCompatible_Level9/{z}/{y}/{x}.jpg"
      }
     },
     "2addbf2ef613480e8b89e7051fd768b5": {
      "model_module": "@jupyter-widgets/base",
      "model_module_version": "1.2.0",
      "model_name": "LayoutModel",
      "state": {
       "height": "auto",
       "padding": "0px 0px 0px 4px",
       "width": "auto"
      }
     },
     "2c2621bb2cb342cc905c06dc76ce8583": {
      "model_module": "@jupyter-widgets/base",
      "model_module_version": "1.2.0",
      "model_name": "LayoutModel",
      "state": {
       "height": "auto",
       "padding": "0px 0px 0px 4px",
       "width": "auto"
      }
     },
     "2c331351852b4d71abf47e3fd4696e51": {
      "model_module": "@jupyter-widgets/controls",
      "model_module_version": "1.5.0",
      "model_name": "DescriptionStyleModel",
      "state": {
       "description_width": ""
      }
     },
     "2d18172f96ae4828b69bbc90553e58de": {
      "model_module": "jupyter-leaflet",
      "model_module_version": "^0.16.0",
      "model_name": "LeafletZoomControlModel",
      "state": {
       "_model_module_version": "^0.16.0",
       "_view_module_version": "^0.16.0",
       "options": [
        "position",
        "zoom_in_text",
        "zoom_in_title",
        "zoom_out_text",
        "zoom_out_title"
       ]
      }
     },
     "2d2c851ca73f43b69d257c6bcc2f762e": {
      "model_module": "@jupyter-widgets/controls",
      "model_module_version": "1.5.0",
      "model_name": "ToggleButtonModel",
      "state": {
       "button_style": "primary",
       "icon": "folder-open",
       "layout": "IPY_MODEL_9fa68fca89cf4a729bc703f818b371e9",
       "style": "IPY_MODEL_70e1f74ded924f10926669ee95e38554",
       "tooltip": "Open local vector/raster data"
      }
     },
     "2d358667ab004e0da90900b317738aa2": {
      "model_module": "@jupyter-widgets/controls",
      "model_module_version": "1.5.0",
      "model_name": "VBoxModel",
      "state": {
       "children": [
        "IPY_MODEL_8dc443176b8a4b3da728562a7175e9a2"
       ],
       "layout": "IPY_MODEL_37a68a6464c2412bb2fb19b0d244fdbe"
      }
     },
     "2e01a669c13243089ffe9a9d59044660": {
      "model_module": "jupyter-leaflet",
      "model_module_version": "^0.16.0",
      "model_name": "LeafletWidgetControlModel",
      "state": {
       "_model_module": "jupyter-leaflet",
       "_model_module_version": "^0.16.0",
       "_view_count": null,
       "_view_module": "jupyter-leaflet",
       "_view_module_version": "^0.16.0",
       "options": [
        "position",
        "transparent_bg"
       ],
       "position": "topright",
       "widget": "IPY_MODEL_68ef693726314ec4a80cf5325064d6d9"
      }
     },
     "2f80ceb5bb0241249ad7f41905780a9f": {
      "model_module": "jupyter-leaflet",
      "model_module_version": "^0.16.0",
      "model_name": "LeafletMapStyleModel",
      "state": {
       "_model_module_version": "^0.16.0"
      }
     },
     "2fabbbafb5a148ef94705354ab7e83a5": {
      "model_module": "@jupyter-widgets/base",
      "model_module_version": "1.2.0",
      "model_name": "LayoutModel",
      "state": {
       "height": "auto",
       "padding": "0px 0px 0px 4px",
       "width": "auto"
      }
     },
     "2faeb2f7a2e14a0690c7d23ae2dff8df": {
      "model_module": "jupyter-leaflet",
      "model_module_version": "^0.16.0",
      "model_name": "LeafletTileLayerModel",
      "state": {
       "_model_module_version": "^0.16.0",
       "_view_module_version": "^0.16.0",
       "attribution": "© swisstopo",
       "max_native_zoom": 18,
       "min_native_zoom": 0,
       "name": "SwissFederalGeoportal.NationalMapGrey",
       "options": [
        "attribution",
        "bounds",
        "detect_retina",
        "max_native_zoom",
        "max_zoom",
        "min_native_zoom",
        "min_zoom",
        "no_wrap",
        "tile_size",
        "tms"
       ],
       "url": "https://wmts.geo.admin.ch/1.0.0/ch.swisstopo.pixelkarte-grau/default/current/3857/{z}/{x}/{y}.jpeg"
      }
     },
     "2fb915d4bba448d8a6f4340b1c300dac": {
      "model_module": "jupyter-leaflet",
      "model_module_version": "^0.16.0",
      "model_name": "LeafletTileLayerModel",
      "state": {
       "_model_module_version": "^0.16.0",
       "_view_module_version": "^0.16.0",
       "attribution": "© swisstopo",
       "max_native_zoom": 18,
       "min_native_zoom": 0,
       "name": "SwissFederalGeoportal.JourneyThroughTime",
       "options": [
        "attribution",
        "bounds",
        "detect_retina",
        "max_native_zoom",
        "max_zoom",
        "min_native_zoom",
        "min_zoom",
        "no_wrap",
        "tile_size",
        "tms"
       ],
       "url": "https://wmts.geo.admin.ch/1.0.0/ch.swisstopo.zeitreihen/default/18641231/3857/{z}/{x}/{y}.png"
      }
     },
     "301d83a6df7343dea7d6983f5541b50c": {
      "model_module": "jupyter-leaflet",
      "model_module_version": "^0.16.0",
      "model_name": "LeafletZoomControlModel",
      "state": {
       "_model_module_version": "^0.16.0",
       "_view_module_version": "^0.16.0",
       "options": [
        "position",
        "zoom_in_text",
        "zoom_in_title",
        "zoom_out_text",
        "zoom_out_title"
       ]
      }
     },
     "309095241e3b4eb4b8238bc22447ce8b": {
      "model_module": "jupyter-leaflet",
      "model_module_version": "^0.16.0",
      "model_name": "LeafletTileLayerModel",
      "state": {
       "_model_module_version": "^0.16.0",
       "_view_module_version": "^0.16.0",
       "attribution": "Imagery provided by services from the Global Imagery Browse Services (GIBS), operated by the NASA/GSFC/Earth Science Data and Information System (ESDIS) with funding provided by NASA/HQ.",
       "max_native_zoom": 18,
       "max_zoom": 9,
       "min_native_zoom": 0,
       "name": "NASAGIBS.ModisTerraBands367CR",
       "options": [
        "attribution",
        "bounds",
        "detect_retina",
        "max_native_zoom",
        "max_zoom",
        "min_native_zoom",
        "min_zoom",
        "no_wrap",
        "tile_size",
        "tms"
       ],
       "url": "https://map1.vis.earthdata.nasa.gov/wmts-webmerc/MODIS_Terra_CorrectedReflectance_Bands367/default//GoogleMapsCompatible_Level9/{z}/{y}/{x}.jpg"
      }
     },
     "30ecbb2f1c1d4d1ba9eb6b9278ebcbf5": {
      "model_module": "@jupyter-widgets/controls",
      "model_module_version": "1.5.0",
      "model_name": "ToggleButtonModel",
      "state": {
       "button_style": "primary",
       "icon": "globe",
       "layout": "IPY_MODEL_2a91198adf0f446da37f3bd277200bf9",
       "style": "IPY_MODEL_b3593abdfa1d417ab43a76dad270832d",
       "tooltip": "Split-panel map"
      }
     },
     "31cff05c3e5e415fbeb430440ab3ef5a": {
      "model_module": "jupyter-leaflet",
      "model_module_version": "^0.16.0",
      "model_name": "LeafletTileLayerModel",
      "state": {
       "_model_module_version": "^0.16.0",
       "_view_module_version": "^0.16.0",
       "attribution": "(C) OpenStreetMap contributors (C) CARTO",
       "max_native_zoom": 18,
       "max_zoom": 20,
       "min_native_zoom": 0,
       "name": "CartoDB.DarkMatterNoLabels",
       "options": [
        "attribution",
        "bounds",
        "detect_retina",
        "max_native_zoom",
        "max_zoom",
        "min_native_zoom",
        "min_zoom",
        "no_wrap",
        "tile_size",
        "tms"
       ],
       "url": "https://a.basemaps.cartocdn.com/dark_nolabels/{z}/{x}/{y}.png"
      }
     },
     "32e31e9950bb47d0b8f418b6abcf0b66": {
      "model_module": "jupyter-leaflet",
      "model_module_version": "^0.16.0",
      "model_name": "LeafletTileLayerModel",
      "state": {
       "_model_module_version": "^0.16.0",
       "_view_module_version": "^0.16.0",
       "attribution": "Imagery provided by services from the Global Imagery Browse Services (GIBS), operated by the NASA/GSFC/Earth Science Data and Information System (ESDIS) with funding provided by NASA/HQ.",
       "max_native_zoom": 18,
       "max_zoom": 6,
       "min_native_zoom": 0,
       "name": "NASAGIBS.ModisTerraAOD",
       "options": [
        "attribution",
        "bounds",
        "detect_retina",
        "max_native_zoom",
        "max_zoom",
        "min_native_zoom",
        "min_zoom",
        "no_wrap",
        "tile_size",
        "tms"
       ],
       "url": "https://map1.vis.earthdata.nasa.gov/wmts-webmerc/MODIS_Terra_Aerosol/default//GoogleMapsCompatible_Level6/{z}/{y}/{x}.png"
      }
     },
     "33202304dc6b45a08656c4a66a9ba645": {
      "model_module": "@jupyter-widgets/controls",
      "model_module_version": "1.5.0",
      "model_name": "ToggleButtonModel",
      "state": {
       "button_style": "primary",
       "icon": "gears",
       "layout": "IPY_MODEL_89bc38a70b2f4382afe530e5117e5f09",
       "style": "IPY_MODEL_a81811a959714e38a9b2d8675a10d598",
       "tooltip": "WhiteboxTools for local geoprocessing"
      }
     },
     "33abc5664d114ab4b8e67e2cdb54c849": {
      "model_module": "jupyter-leaflet",
      "model_module_version": "^0.16.0",
      "model_name": "LeafletMeasureControlModel",
      "state": {
       "_model_module_version": "^0.16.0",
       "_view_module_version": "^0.16.0",
       "options": [
        "active_color",
        "capture_z_index",
        "completed_color",
        "popup_options",
        "position",
        "primary_area_unit",
        "primary_length_unit",
        "secondary_area_unit",
        "secondary_length_unit"
       ],
       "secondary_area_unit": null,
       "secondary_length_unit": null
      }
     },
     "3437c9d7e54b475c87bb29cd81686d36": {
      "model_module": "jupyter-leaflet",
      "model_module_version": "^0.16.0",
      "model_name": "LeafletTileLayerModel",
      "state": {
       "_model_module_version": "^0.16.0",
       "_view_module_version": "^0.16.0",
       "attribution": "Map tiles by Stamen Design, CC BY 3.0 -- Map data (C) OpenStreetMap contributors",
       "max_native_zoom": 18,
       "min_native_zoom": 0,
       "name": "Stamen.Terrain",
       "options": [
        "attribution",
        "bounds",
        "detect_retina",
        "max_native_zoom",
        "max_zoom",
        "min_native_zoom",
        "min_zoom",
        "no_wrap",
        "tile_size",
        "tms"
       ],
       "url": "https://stamen-tiles-a.a.ssl.fastly.net/terrain/{z}/{x}/{y}.png"
      }
     },
     "344aa866030345999c6ee5035c501710": {
      "model_module": "@jupyter-widgets/base",
      "model_module_version": "1.2.0",
      "model_name": "LayoutModel",
      "state": {
       "height": "600px"
      }
     },
     "34974b94a58e489b96bbff58bccfa4ae": {
      "model_module": "@jupyter-widgets/base",
      "model_module_version": "1.2.0",
      "model_name": "LayoutModel",
      "state": {
       "height": "auto",
       "padding": "0px 0px 0px 4px",
       "width": "auto"
      }
     },
     "34e59704047846b892d2b0fd0fb2f028": {
      "model_module": "@jupyter-widgets/base",
      "model_module_version": "1.2.0",
      "model_name": "LayoutModel",
      "state": {
       "height": "auto",
       "padding": "0px 0px 0px 4px",
       "width": "auto"
      }
     },
     "35df1c76bc4e4a498888a468c28cbbbd": {
      "model_module": "@jupyter-widgets/base",
      "model_module_version": "1.2.0",
      "model_name": "LayoutModel",
      "state": {
       "height": "auto",
       "padding": "0px 0px 0px 4px",
       "width": "auto"
      }
     },
     "35e9c1546a204d3492a8f420be9a0499": {
      "model_module": "jupyter-leaflet",
      "model_module_version": "^0.16.0",
      "model_name": "LeafletWMSLayerModel",
      "state": {
       "_model_module_version": "^0.16.0",
       "_view_module_version": "^0.16.0",
       "attribution": "USGS",
       "crs": {
        "custom": false,
        "name": "EPSG3857"
       },
       "format": "image/png",
       "layers": "0",
       "max_native_zoom": 18,
       "min_native_zoom": 0,
       "name": "USGS NAIP Imagery",
       "options": [
        "attribution",
        "bounds",
        "detect_retina",
        "format",
        "layers",
        "max_native_zoom",
        "max_zoom",
        "min_native_zoom",
        "min_zoom",
        "no_wrap",
        "styles",
        "tile_size",
        "tms",
        "transparent",
        "uppercase"
       ],
       "transparent": true,
       "url": "https://services.nationalmap.gov/arcgis/services/USGSNAIPImagery/ImageServer/WMSServer?"
      }
     },
     "3694a9d8a5f14bbf81d678187804ca4c": {
      "model_module": "jupyter-leaflet",
      "model_module_version": "^0.16.0",
      "model_name": "LeafletTileLayerModel",
      "state": {
       "_model_module_version": "^0.16.0",
       "_view_module_version": "^0.16.0",
       "attribution": "Google",
       "max_native_zoom": 18,
       "max_zoom": 22,
       "min_native_zoom": 0,
       "name": "Google Satellite",
       "options": [
        "attribution",
        "bounds",
        "detect_retina",
        "max_native_zoom",
        "max_zoom",
        "min_native_zoom",
        "min_zoom",
        "no_wrap",
        "tile_size",
        "tms"
       ],
       "url": "https://mt1.google.com/vt/lyrs=s&x={x}&y={y}&z={z}"
      }
     },
     "36d06e34630e4d2399f2ecd4c93b71a0": {
      "model_module": "@jupyter-widgets/controls",
      "model_module_version": "1.5.0",
      "model_name": "ToggleButtonModel",
      "state": {
       "button_style": "primary",
       "icon": "search",
       "layout": "IPY_MODEL_89a3301be22742f0b0a866e38badef37",
       "style": "IPY_MODEL_d13b7cbbe0db4de58b37ac8b4dc82ea0",
       "tooltip": "Search XYZ tile services"
      }
     },
     "377c61a12dd84a72bb62b06ba5b3fb06": {
      "model_module": "jupyter-leaflet",
      "model_module_version": "^0.16.0",
      "model_name": "LeafletTileLayerModel",
      "state": {
       "_model_module_version": "^0.16.0",
       "_view_module_version": "^0.16.0",
       "attribution": "Map data: (C) OpenStreetMap contributors | Map style: (C) waymarkedtrails.org (CC-BY-SA)",
       "max_native_zoom": 18,
       "min_native_zoom": 0,
       "name": "WaymarkedTrails.riding",
       "options": [
        "attribution",
        "bounds",
        "detect_retina",
        "max_native_zoom",
        "max_zoom",
        "min_native_zoom",
        "min_zoom",
        "no_wrap",
        "tile_size",
        "tms"
       ],
       "url": "https://tile.waymarkedtrails.org/riding/{z}/{x}/{y}.png"
      }
     },
     "37a68a6464c2412bb2fb19b0d244fdbe": {
      "model_module": "@jupyter-widgets/base",
      "model_module_version": "1.2.0",
      "model_name": "LayoutModel",
      "state": {}
     },
     "38698b2216ed47ccb236efbf59430771": {
      "model_module": "@jupyter-widgets/controls",
      "model_module_version": "1.5.0",
      "model_name": "DescriptionStyleModel",
      "state": {
       "description_width": ""
      }
     },
     "3893189db7714d45b7e980cf0dd51ae1": {
      "model_module": "@jupyter-widgets/controls",
      "model_module_version": "1.5.0",
      "model_name": "DescriptionStyleModel",
      "state": {
       "description_width": ""
      }
     },
     "38f8ae5686054a6882d62052cce7e6c0": {
      "model_module": "jupyter-leaflet",
      "model_module_version": "^0.16.0",
      "model_name": "LeafletTileLayerModel",
      "state": {
       "_model_module_version": "^0.16.0",
       "_view_module_version": "^0.16.0",
       "attribution": "Map data: (C) OpenStreetMap contributors | Map style: (C) waymarkedtrails.org (CC-BY-SA)",
       "max_native_zoom": 18,
       "min_native_zoom": 0,
       "name": "WaymarkedTrails.cycling",
       "options": [
        "attribution",
        "bounds",
        "detect_retina",
        "max_native_zoom",
        "max_zoom",
        "min_native_zoom",
        "min_zoom",
        "no_wrap",
        "tile_size",
        "tms"
       ],
       "url": "https://tile.waymarkedtrails.org/cycling/{z}/{x}/{y}.png"
      }
     },
     "39857d3c41364216936bbed425531354": {
      "model_module": "@jupyter-widgets/controls",
      "model_module_version": "1.5.0",
      "model_name": "DescriptionStyleModel",
      "state": {
       "description_width": ""
      }
     },
     "39cdb68459b14ffc9eacc967c4cc189b": {
      "model_module": "jupyter-leaflet",
      "model_module_version": "^0.16.0",
      "model_name": "LeafletTileLayerModel",
      "state": {
       "_model_module_version": "^0.16.0",
       "_view_module_version": "^0.16.0",
       "attribution": "Map tiles by Stamen Design, CC BY 3.0 -- Map data (C) OpenStreetMap contributors",
       "max_native_zoom": 18,
       "max_zoom": 20,
       "min_native_zoom": 0,
       "name": "Stamen.Toner",
       "options": [
        "attribution",
        "bounds",
        "detect_retina",
        "max_native_zoom",
        "max_zoom",
        "min_native_zoom",
        "min_zoom",
        "no_wrap",
        "tile_size",
        "tms"
       ],
       "url": "https://stamen-tiles-a.a.ssl.fastly.net/toner/{z}/{x}/{y}.png"
      }
     },
     "3a22c966dcf346708c755409ddee6121": {
      "model_module": "@jupyter-widgets/controls",
      "model_module_version": "1.5.0",
      "model_name": "DescriptionStyleModel",
      "state": {
       "description_width": ""
      }
     },
     "3ac0888f627c4912ad309b6b92a88348": {
      "model_module": "@jupyter-widgets/base",
      "model_module_version": "1.2.0",
      "model_name": "LayoutModel",
      "state": {
       "height": "auto",
       "padding": "0px 0px 0px 4px",
       "width": "auto"
      }
     },
     "3ad09282687b40c4ba3d66a0030b64dd": {
      "model_module": "@jupyter-widgets/controls",
      "model_module_version": "1.5.0",
      "model_name": "ToggleButtonModel",
      "state": {
       "icon": "server",
       "layout": "IPY_MODEL_fc4332fbfaee4eb6aaef8b0793ac7e5f",
       "style": "IPY_MODEL_2c331351852b4d71abf47e3fd4696e51",
       "tooltip": "Layers"
      }
     },
     "3b1ba5acb3da4bbda9217a1198b34d5c": {
      "model_module": "jupyter-leaflet",
      "model_module_version": "^0.16.0",
      "model_name": "LeafletWidgetControlModel",
      "state": {
       "_model_module": "jupyter-leaflet",
       "_model_module_version": "^0.16.0",
       "_view_count": null,
       "_view_module": "jupyter-leaflet",
       "_view_module_version": "^0.16.0",
       "options": [
        "position",
        "transparent_bg"
       ],
       "position": "bottomright",
       "widget": "IPY_MODEL_071e61058a14419b97cabd898f8582a7"
      }
     },
     "3c4a3d1af2af42f2a91ed3c1cf9c5cd1": {
      "model_module": "@jupyter-widgets/controls",
      "model_module_version": "1.5.0",
      "model_name": "DescriptionStyleModel",
      "state": {
       "description_width": ""
      }
     },
     "3c9ad9c94a394e239beb0b9bdd10a8c1": {
      "model_module": "@jupyter-widgets/base",
      "model_module_version": "1.2.0",
      "model_name": "LayoutModel",
      "state": {
       "height": "auto",
       "padding": "0px 0px 0px 4px",
       "width": "auto"
      }
     },
     "3d13b59aa93a487581c0e7b7790c63a7": {
      "model_module": "jupyter-leaflet",
      "model_module_version": "^0.16.0",
      "model_name": "LeafletTileLayerModel",
      "state": {
       "_model_module_version": "^0.16.0",
       "_view_module_version": "^0.16.0",
       "attribution": "(C) OpenStreetMap contributors (C) CARTO",
       "max_native_zoom": 18,
       "max_zoom": 20,
       "min_native_zoom": 0,
       "name": "CartoDB.VoyagerLabelsUnder",
       "options": [
        "attribution",
        "bounds",
        "detect_retina",
        "max_native_zoom",
        "max_zoom",
        "min_native_zoom",
        "min_zoom",
        "no_wrap",
        "tile_size",
        "tms"
       ],
       "url": "https://a.basemaps.cartocdn.com/rastertiles/voyager_labels_under/{z}/{x}/{y}.png"
      }
     },
     "3d5eec120ede4ddf86a3c8b3009aad79": {
      "model_module": "@jupyter-widgets/base",
      "model_module_version": "1.2.0",
      "model_name": "LayoutModel",
      "state": {
       "height": "auto",
       "padding": "0px 0px 0px 4px",
       "width": "auto"
      }
     },
     "3d734072979241598f40707f2fc1cb2d": {
      "model_module": "jupyter-leaflet",
      "model_module_version": "^0.16.0",
      "model_name": "LeafletTileLayerModel",
      "state": {
       "_model_module_version": "^0.16.0",
       "_view_module_version": "^0.16.0",
       "attribution": "&copy; <a href=\"http://www.gaode.com/\">Gaode.com</a>",
       "max_native_zoom": 18,
       "max_zoom": 19,
       "min_native_zoom": 0,
       "name": "Gaode.Satellite",
       "options": [
        "attribution",
        "bounds",
        "detect_retina",
        "max_native_zoom",
        "max_zoom",
        "min_native_zoom",
        "min_zoom",
        "no_wrap",
        "tile_size",
        "tms"
       ],
       "url": "http://webst01.is.autonavi.com/appmaptile?style=6&x={x}&y={y}&z={z}"
      }
     },
     "3da653a2e10d4aefba53af693edf6c03": {
      "model_module": "jupyter-leaflet",
      "model_module_version": "^0.16.0",
      "model_name": "LeafletWMSLayerModel",
      "state": {
       "_model_module_version": "^0.16.0",
       "_view_module_version": "^0.16.0",
       "attribution": "USGS",
       "crs": {
        "custom": false,
        "name": "EPSG3857"
       },
       "format": "image/png",
       "layers": "33DEPElevation:Hillshade Elevation Tinted",
       "max_native_zoom": 18,
       "min_native_zoom": 0,
       "name": "USGS 3DEP Elevation",
       "options": [
        "attribution",
        "bounds",
        "detect_retina",
        "format",
        "layers",
        "max_native_zoom",
        "max_zoom",
        "min_native_zoom",
        "min_zoom",
        "no_wrap",
        "styles",
        "tile_size",
        "tms",
        "transparent",
        "uppercase"
       ],
       "transparent": true,
       "url": "https://elevation.nationalmap.gov/arcgis/services/3DEPElevation/ImageServer/WMSServer?"
      }
     },
     "3de2d51dbb134ce48c339b98033a188d": {
      "model_module": "@jupyter-widgets/base",
      "model_module_version": "1.2.0",
      "model_name": "LayoutModel",
      "state": {}
     },
     "3e0d83be5f3d4a4ca902f1d7f6aaab9a": {
      "model_module": "@jupyter-widgets/controls",
      "model_module_version": "1.5.0",
      "model_name": "DescriptionStyleModel",
      "state": {
       "description_width": ""
      }
     },
     "3e7b731f996e4769b382048b183130f9": {
      "model_module": "jupyter-leaflet",
      "model_module_version": "^0.16.0",
      "model_name": "LeafletTileLayerModel",
      "state": {
       "_model_module_version": "^0.16.0",
       "_view_module_version": "^0.16.0",
       "attribution": "(C) OpenStreetMap contributors (C) CARTO",
       "max_native_zoom": 18,
       "max_zoom": 20,
       "min_native_zoom": 0,
       "name": "CartoDB.VoyagerOnlyLabels",
       "options": [
        "attribution",
        "bounds",
        "detect_retina",
        "max_native_zoom",
        "max_zoom",
        "min_native_zoom",
        "min_zoom",
        "no_wrap",
        "tile_size",
        "tms"
       ],
       "url": "https://a.basemaps.cartocdn.com/rastertiles/voyager_only_labels/{z}/{x}/{y}.png"
      }
     },
     "3e9cef804746410f87e23bab3e1bf829": {
      "model_module": "@jupyter-widgets/base",
      "model_module_version": "1.2.0",
      "model_name": "LayoutModel",
      "state": {
       "height": "auto",
       "padding": "0px 0px 0px 4px",
       "width": "auto"
      }
     },
     "3f4662534aaa43d5b7c815bde6c6c3a5": {
      "model_module": "jupyter-leaflet",
      "model_module_version": "^0.16.0",
      "model_name": "LeafletTileLayerModel",
      "state": {
       "_model_module_version": "^0.16.0",
       "_view_module_version": "^0.16.0",
       "attribution": "(C) OpenStreetMap contributors & USGS",
       "max_native_zoom": 18,
       "max_zoom": 22,
       "min_native_zoom": 0,
       "name": "MtbMap",
       "options": [
        "attribution",
        "bounds",
        "detect_retina",
        "max_native_zoom",
        "max_zoom",
        "min_native_zoom",
        "min_zoom",
        "no_wrap",
        "tile_size",
        "tms"
       ],
       "url": "http://tile.mtbmap.cz/mtbmap_tiles/{z}/{x}/{y}.png"
      }
     },
     "426726d541dd40e89999bb73f68709b6": {
      "model_module": "@jupyter-widgets/controls",
      "model_module_version": "1.5.0",
      "model_name": "DescriptionStyleModel",
      "state": {
       "description_width": ""
      }
     },
     "42b44b4c58c94acca05fac2764d1e23f": {
      "model_module": "@jupyter-widgets/controls",
      "model_module_version": "1.5.0",
      "model_name": "DescriptionStyleModel",
      "state": {
       "description_width": ""
      }
     },
     "42f2f25e646a4e0183f321ee29705425": {
      "model_module": "jupyter-leaflet",
      "model_module_version": "^0.16.0",
      "model_name": "LeafletTileLayerModel",
      "state": {
       "_model_module_version": "^0.16.0",
       "_view_module_version": "^0.16.0",
       "attribution": "Map data: (C) OpenStreetMap contributors | Map style: (C) waymarkedtrails.org (CC-BY-SA)",
       "max_native_zoom": 18,
       "min_native_zoom": 0,
       "name": "WaymarkedTrails.hiking",
       "options": [
        "attribution",
        "bounds",
        "detect_retina",
        "max_native_zoom",
        "max_zoom",
        "min_native_zoom",
        "min_zoom",
        "no_wrap",
        "tile_size",
        "tms"
       ],
       "url": "https://tile.waymarkedtrails.org/hiking/{z}/{x}/{y}.png"
      }
     },
     "42fb3e884d6a455ba607b421f477ea50": {
      "model_module": "jupyter-leaflet",
      "model_module_version": "^0.16.0",
      "model_name": "LeafletMapStyleModel",
      "state": {
       "_model_module_version": "^0.16.0"
      }
     },
     "43509a79f845491481413d3879b1f7cc": {
      "model_module": "@jupyter-widgets/controls",
      "model_module_version": "1.5.0",
      "model_name": "DescriptionStyleModel",
      "state": {
       "description_width": ""
      }
     },
     "43970779d1ad437ab56e90e8275b8d3b": {
      "model_module": "@jupyter-widgets/base",
      "model_module_version": "1.2.0",
      "model_name": "LayoutModel",
      "state": {
       "height": "28px",
       "width": "72px"
      }
     },
     "44286211715b48218249b667d09cc86e": {
      "model_module": "jupyter-leaflet",
      "model_module_version": "^0.16.0",
      "model_name": "LeafletTileLayerModel",
      "state": {
       "_model_module_version": "^0.16.0",
       "_view_module_version": "^0.16.0",
       "attribution": "Tiles &copy; Esri &mdash; Esri, DeLorme, NAVTEQ, TomTom, Intermap, iPC, USGS, FAO, NPS, NRCAN, GeoBase, Kadaster NL, Ordnance Survey, Esri Japan, METI, Esri China (Hong Kong), and the GIS User Community",
       "max_native_zoom": 18,
       "max_zoom": 24,
       "min_native_zoom": 0,
       "name": "Esri.ArcticOceanBase",
       "options": [
        "attribution",
        "bounds",
        "detect_retina",
        "max_native_zoom",
        "max_zoom",
        "min_native_zoom",
        "min_zoom",
        "no_wrap",
        "tile_size",
        "tms"
       ],
       "url": "http://server.arcgisonline.com/ArcGIS/rest/services/Polar/Arctic_Ocean_Base/MapServer/tile/{z}/{y}/{x}"
      }
     },
     "445aeeee06aa4e1a84c77a51dde26150": {
      "model_module": "jupyter-leaflet",
      "model_module_version": "^0.16.0",
      "model_name": "LeafletTileLayerModel",
      "state": {
       "_model_module_version": "^0.16.0",
       "_view_module_version": "^0.16.0",
       "attribution": "Tiles (C) Esri -- Source: Esri, DeLorme, NAVTEQ, USGS, Intermap, iPC, NRCAN, Esri Japan, METI, Esri China (Hong Kong), Esri (Thailand), TomTom, 2012",
       "max_native_zoom": 18,
       "max_zoom": 22,
       "min_native_zoom": 0,
       "name": "Esri.WorldStreetMap",
       "options": [
        "attribution",
        "bounds",
        "detect_retina",
        "max_native_zoom",
        "max_zoom",
        "min_native_zoom",
        "min_zoom",
        "no_wrap",
        "tile_size",
        "tms"
       ],
       "url": "https://server.arcgisonline.com/ArcGIS/rest/services/World_Street_Map/MapServer/tile/{z}/{y}/{x}"
      }
     },
     "4469a6d757d64d90b4bfb9584c66612e": {
      "model_module": "@jupyter-widgets/base",
      "model_module_version": "1.2.0",
      "model_name": "LayoutModel",
      "state": {
       "grid_gap": "1px 1px",
       "grid_template_columns": "32px 32px 32px ",
       "grid_template_rows": "32px 32px 32px 32px 32px 32px ",
       "padding": "5px",
       "width": "109px"
      }
     },
     "4476704eadfb42a381ac0128f0abfeb8": {
      "model_module": "@jupyter-widgets/controls",
      "model_module_version": "1.5.0",
      "model_name": "ToggleButtonModel",
      "state": {
       "button_style": "primary",
       "icon": "info",
       "layout": "IPY_MODEL_f3c36e52fea642b8aafe6f679f667cb5",
       "style": "IPY_MODEL_56541fc354964553ab50c4500dd5e316",
       "tooltip": "Get COG/STAC pixel value"
      }
     },
     "457ae3ea374c4dd7aec21698a0dc8813": {
      "model_module": "@jupyter-widgets/base",
      "model_module_version": "1.2.0",
      "model_name": "LayoutModel",
      "state": {
       "height": "600px"
      }
     },
     "458b9e3a293e46519167a505f9d579e4": {
      "model_module": "@jupyter-widgets/controls",
      "model_module_version": "1.5.0",
      "model_name": "GridBoxModel",
      "state": {
       "children": [
        "IPY_MODEL_ceee4ee3d94f4c83bd38253683046e40",
        "IPY_MODEL_30ecbb2f1c1d4d1ba9eb6b9278ebcbf5",
        "IPY_MODEL_66228339cb64484c923b478ffa6b9324",
        "IPY_MODEL_54f629f385594da0af46bad865d1397c",
        "IPY_MODEL_33202304dc6b45a08656c4a66a9ba645",
        "IPY_MODEL_26476ba6c09e4469999b4124db8e26ac",
        "IPY_MODEL_65b443314d33496fa376e5b12894638f",
        "IPY_MODEL_1dad195a1f6f49148c8d34df4dc83f07",
        "IPY_MODEL_7ac44805928d4c03bafc1f94fa551697",
        "IPY_MODEL_daed53a77c9c4fdb8276d08270bd28ac",
        "IPY_MODEL_67d4d403db9b4f2a9b4d3049dac81474",
        "IPY_MODEL_1cecc030655947d9ab56bf746361d6e8",
        "IPY_MODEL_c2f950a0571e4077b3a192c0efe7d02b",
        "IPY_MODEL_ff44c56d0210431598013f8905faa5fb",
        "IPY_MODEL_cad58bd468b444e88a2065598738784b",
        "IPY_MODEL_0dff26e1ba4f4df99fd9f4c3b08ffda7",
        "IPY_MODEL_8c5fc36ab592442e9281b6436b5375a8",
        "IPY_MODEL_27b43029a3ea45898fe366a7defc5d17"
       ],
       "layout": "IPY_MODEL_68c726bcf7bc4f5cba4fc583447f6690"
      }
     },
     "459392a42dcf4f3795ae1704ce61e018": {
      "model_module": "@jupyter-widgets/base",
      "model_module_version": "1.2.0",
      "model_name": "LayoutModel",
      "state": {
       "height": "auto",
       "padding": "0px 0px 0px 4px",
       "width": "auto"
      }
     },
     "463bd14bc0bf4c0d8a5d98f0573b7379": {
      "model_module": "jupyter-leaflet",
      "model_module_version": "^0.16.0",
      "model_name": "LeafletWMSLayerModel",
      "state": {
       "_model_module_version": "^0.16.0",
       "_view_module_version": "^0.16.0",
       "attribution": "MRLC",
       "crs": {
        "custom": false,
        "name": "EPSG3857"
       },
       "format": "image/png",
       "layers": "NLCD_2001_Land_Cover_L48",
       "max_native_zoom": 18,
       "min_native_zoom": 0,
       "name": "NLCD 2001 CONUS Land Cover",
       "options": [
        "attribution",
        "bounds",
        "detect_retina",
        "format",
        "layers",
        "max_native_zoom",
        "max_zoom",
        "min_native_zoom",
        "min_zoom",
        "no_wrap",
        "styles",
        "tile_size",
        "tms",
        "transparent",
        "uppercase"
       ],
       "transparent": true,
       "url": "https://www.mrlc.gov/geoserver/mrlc_display/NLCD_2001_Land_Cover_L48/wms?"
      }
     },
     "469e5c9a90034e3e8dfa07a9ddeb9073": {
      "model_module": "jupyter-leaflet",
      "model_module_version": "^0.16.0",
      "model_name": "LeafletTileLayerModel",
      "state": {
       "_model_module_version": "^0.16.0",
       "_view_module_version": "^0.16.0",
       "attribution": "OpenStreetMap",
       "max_native_zoom": 18,
       "max_zoom": 22,
       "min_native_zoom": 0,
       "name": "OpenStreetMap",
       "options": [
        "attribution",
        "bounds",
        "detect_retina",
        "max_native_zoom",
        "max_zoom",
        "min_native_zoom",
        "min_zoom",
        "no_wrap",
        "tile_size",
        "tms"
       ]
      }
     },
     "4783220ad3444ee3b74d970adc989e17": {
      "model_module": "jupyter-leaflet",
      "model_module_version": "^0.16.0",
      "model_name": "LeafletTileLayerModel",
      "state": {
       "_model_module_version": "^0.16.0",
       "_view_module_version": "^0.16.0",
       "attribution": "Geoportail France",
       "max_native_zoom": 18,
       "max_zoom": 20,
       "min_native_zoom": 0,
       "name": "GeoportailFrance.parcels",
       "options": [
        "attribution",
        "bounds",
        "detect_retina",
        "max_native_zoom",
        "max_zoom",
        "min_native_zoom",
        "min_zoom",
        "no_wrap",
        "tile_size",
        "tms"
       ],
       "url": "https://wxs.ign.fr/choisirgeoportail/geoportail/wmts?REQUEST=GetTile&SERVICE=WMTS&VERSION=1.0.0&STYLE=PCI vecteur&TILEMATRIXSET=PM&FORMAT=image/png&LAYER=CADASTRALPARCELS.PARCELLAIRE_EXPRESS&TILEMATRIX={z}&TILEROW={y}&TILECOL={x}"
      }
     },
     "480be79bc4194166ab9ece5623f0a7fc": {
      "model_module": "@jupyter-widgets/controls",
      "model_module_version": "1.5.0",
      "model_name": "DescriptionStyleModel",
      "state": {
       "description_width": ""
      }
     },
     "4b5b6ceb9ce542edaba5595c5f53c033": {
      "model_module": "@jupyter-widgets/controls",
      "model_module_version": "1.5.0",
      "model_name": "HBoxModel",
      "state": {
       "children": [
        "IPY_MODEL_0b7ff91c22ce408a94f97054b5b9f421",
        "IPY_MODEL_7b4e07808eb340d2a667464bbe04739a"
       ],
       "layout": "IPY_MODEL_8728a641000446b09a0e5ec8d9161b94"
      }
     },
     "4b8867722a0741d9a53bc653cfadc2b0": {
      "model_module": "@jupyter-widgets/controls",
      "model_module_version": "1.5.0",
      "model_name": "ToggleButtonModel",
      "state": {
       "button_style": "primary",
       "icon": "picture-o",
       "layout": "IPY_MODEL_459392a42dcf4f3795ae1704ce61e018",
       "style": "IPY_MODEL_aaba21f0792e46e0939981700a7c82ef",
       "tooltip": "Open COG/STAC dataset"
      }
     },
     "4d704631f8f046eaad90f389a631764b": {
      "model_module": "@jupyter-widgets/controls",
      "model_module_version": "1.5.0",
      "model_name": "HBoxModel",
      "state": {
       "children": [
        "IPY_MODEL_e1fd6e60ad5f4292a7c9596abd3408d2",
        "IPY_MODEL_c6918940f8e341fcbda01837981e6927"
       ],
       "layout": "IPY_MODEL_7977f8cb34884da3a5acf8066ce7a0bf"
      }
     },
     "4db2da3e2f174349929ee265e3d6da0f": {
      "model_module": "@jupyter-widgets/base",
      "model_module_version": "1.2.0",
      "model_name": "LayoutModel",
      "state": {
       "height": "auto",
       "padding": "0px 0px 0px 4px",
       "width": "auto"
      }
     },
     "4dfe1efdefc545648ff3639eec1986ed": {
      "model_module": "@jupyter-widgets/base",
      "model_module_version": "1.2.0",
      "model_name": "LayoutModel",
      "state": {
       "height": "auto",
       "padding": "0px 0px 0px 4px",
       "width": "auto"
      }
     },
     "4e44d96d554741809cf80e8c95938311": {
      "model_module": "@jupyter-widgets/controls",
      "model_module_version": "1.5.0",
      "model_name": "ToggleButtonModel",
      "state": {
       "button_style": "primary",
       "icon": "question",
       "layout": "IPY_MODEL_0ddb7b774cc84e478679b87cebf7c713",
       "style": "IPY_MODEL_06621b85b7444d17ab1d89f21fde8145",
       "tooltip": "Get help"
      }
     },
     "4f3f3f8d38c4422b9e928d2aea8cd1d2": {
      "model_module": "@jupyter-widgets/controls",
      "model_module_version": "1.5.0",
      "model_name": "DescriptionStyleModel",
      "state": {
       "description_width": ""
      }
     },
     "5064b9a0b2e145fc86736be487ff942d": {
      "model_module": "@jupyter-widgets/base",
      "model_module_version": "1.2.0",
      "model_name": "LayoutModel",
      "state": {
       "height": "auto",
       "padding": "0px 0px 0px 4px",
       "width": "auto"
      }
     },
     "50704244dc614a5480ffab0979f413a0": {
      "model_module": "@jupyter-widgets/controls",
      "model_module_version": "1.5.0",
      "model_name": "DescriptionStyleModel",
      "state": {
       "description_width": ""
      }
     },
     "50a832b7ce3a40cf97860cba536db82b": {
      "model_module": "jupyter-leaflet",
      "model_module_version": "^0.16.0",
      "model_name": "LeafletTileLayerModel",
      "state": {
       "_model_module_version": "^0.16.0",
       "_view_module_version": "^0.16.0",
       "attribution": "Geoportail France",
       "max_native_zoom": 18,
       "min_native_zoom": 0,
       "name": "GeoportailFrance.plan",
       "options": [
        "attribution",
        "bounds",
        "detect_retina",
        "max_native_zoom",
        "max_zoom",
        "min_native_zoom",
        "min_zoom",
        "no_wrap",
        "tile_size",
        "tms"
       ],
       "url": "https://wxs.ign.fr/choisirgeoportail/geoportail/wmts?REQUEST=GetTile&SERVICE=WMTS&VERSION=1.0.0&STYLE=normal&TILEMATRIXSET=PM&FORMAT=image/png&LAYER=GEOGRAPHICALGRIDSYSTEMS.PLANIGNV2&TILEMATRIX={z}&TILEROW={y}&TILECOL={x}"
      }
     },
     "50b4148d82da429baab97338ed8d1d3f": {
      "model_module": "jupyter-leaflet",
      "model_module_version": "^0.16.0",
      "model_name": "LeafletTileLayerModel",
      "state": {
       "_model_module_version": "^0.16.0",
       "_view_module_version": "^0.16.0",
       "attribution": "Map tiles by Stamen Design, CC BY 3.0 -- Map data (C) OpenStreetMap contributors",
       "max_native_zoom": 18,
       "min_native_zoom": 0,
       "name": "Stamen.TerrainBackground",
       "options": [
        "attribution",
        "bounds",
        "detect_retina",
        "max_native_zoom",
        "max_zoom",
        "min_native_zoom",
        "min_zoom",
        "no_wrap",
        "tile_size",
        "tms"
       ],
       "url": "https://stamen-tiles-a.a.ssl.fastly.net/terrain-background/{z}/{x}/{y}.png"
      }
     },
     "51cd4d70bdda45d2b9cde6ced50b58c9": {
      "model_module": "jupyter-leaflet",
      "model_module_version": "^0.16.0",
      "model_name": "LeafletTileLayerModel",
      "state": {
       "_model_module_version": "^0.16.0",
       "_view_module_version": "^0.16.0",
       "attribution": "Justice Map",
       "max_native_zoom": 18,
       "max_zoom": 22,
       "min_native_zoom": 0,
       "name": "JusticeMap.black",
       "options": [
        "attribution",
        "bounds",
        "detect_retina",
        "max_native_zoom",
        "max_zoom",
        "min_native_zoom",
        "min_zoom",
        "no_wrap",
        "tile_size",
        "tms"
       ],
       "url": "https://www.justicemap.org/tile/county/black/{z}/{x}/{y}.png"
      }
     },
     "52fb566aae3e42868d96f4b4e01a3a70": {
      "model_module": "@jupyter-widgets/base",
      "model_module_version": "1.2.0",
      "model_name": "LayoutModel",
      "state": {
       "height": "auto",
       "padding": "0px 0px 0px 4px",
       "width": "auto"
      }
     },
     "536b092a89a74bfa889229459f9fcb6d": {
      "model_module": "@jupyter-widgets/controls",
      "model_module_version": "1.5.0",
      "model_name": "VBoxModel",
      "state": {
       "children": [
        "IPY_MODEL_bdc8d9a8626d4e76866a5fa4ab824899"
       ],
       "layout": "IPY_MODEL_dfbb3facae9147bf9538455b8a1a8b57"
      }
     },
     "53dda14e01af4ffba615b30ca61a3670": {
      "model_module": "jupyter-leaflet",
      "model_module_version": "^0.16.0",
      "model_name": "LeafletTileLayerModel",
      "state": {
       "_model_module_version": "^0.16.0",
       "_view_module_version": "^0.16.0",
       "attribution": "Datenquelle: basemap.at",
       "max_native_zoom": 18,
       "max_zoom": 20,
       "min_native_zoom": 0,
       "name": "BasemapAT.orthofoto",
       "options": [
        "attribution",
        "bounds",
        "detect_retina",
        "max_native_zoom",
        "max_zoom",
        "min_native_zoom",
        "min_zoom",
        "no_wrap",
        "tile_size",
        "tms"
       ],
       "url": "https://maps.wien.gv.at/basemap/bmaporthofoto30cm/normal/google3857/{z}/{y}/{x}.jpeg"
      }
     },
     "53de1793cdb547d096cd8493ccc4b779": {
      "model_module": "jupyter-leaflet",
      "model_module_version": "^0.16.0",
      "model_name": "LeafletAttributionControlModel",
      "state": {
       "_model_module_version": "^0.16.0",
       "_view_module_version": "^0.16.0",
       "options": [
        "position",
        "prefix"
       ],
       "position": "bottomright",
       "prefix": "ipyleaflet"
      }
     },
     "5481fafc49384c3aa1b774c019298b2c": {
      "model_module": "@jupyter-widgets/base",
      "model_module_version": "1.2.0",
      "model_name": "LayoutModel",
      "state": {
       "height": "auto",
       "padding": "0px 0px 0px 4px",
       "width": "auto"
      }
     },
     "54f629f385594da0af46bad865d1397c": {
      "model_module": "@jupyter-widgets/controls",
      "model_module_version": "1.5.0",
      "model_name": "ToggleButtonModel",
      "state": {
       "button_style": "primary",
       "icon": "folder-open",
       "layout": "IPY_MODEL_3e9cef804746410f87e23bab3e1bf829",
       "style": "IPY_MODEL_c1c99c7b946b4839aa7a5b44c9438065",
       "tooltip": "Open local vector/raster data"
      }
     },
     "55313d3a8fcc49b7a940a27a8efc6be5": {
      "model_module": "jupyter-leaflet",
      "model_module_version": "^0.16.0",
      "model_name": "LeafletTileLayerModel",
      "state": {
       "_model_module_version": "^0.16.0",
       "_view_module_version": "^0.16.0",
       "attribution": "Map tiles by <a href=\"https://labs.strava.com/heatmap\">Strava 2021</a>",
       "max_native_zoom": 18,
       "max_zoom": 15,
       "min_native_zoom": 0,
       "name": "Strava.Winter",
       "options": [
        "attribution",
        "bounds",
        "detect_retina",
        "max_native_zoom",
        "max_zoom",
        "min_native_zoom",
        "min_zoom",
        "no_wrap",
        "tile_size",
        "tms"
       ],
       "url": "https://heatmap-external-a.strava.com/tiles/winter/hot/{z}/{x}/{y}.png"
      }
     },
     "558d7a308737447f9301be3286ad9cae": {
      "model_module": "@jupyter-widgets/base",
      "model_module_version": "1.2.0",
      "model_name": "LayoutModel",
      "state": {
       "height": "auto",
       "padding": "0px 0px 0px 4px",
       "width": "auto"
      }
     },
     "55a5613c1f8746a883ee64a86abf85f8": {
      "model_module": "jupyter-leaflet",
      "model_module_version": "^0.16.0",
      "model_name": "LeafletMapStyleModel",
      "state": {
       "_model_module_version": "^0.16.0",
       "cursor": "move"
      }
     },
     "56541fc354964553ab50c4500dd5e316": {
      "model_module": "@jupyter-widgets/controls",
      "model_module_version": "1.5.0",
      "model_name": "DescriptionStyleModel",
      "state": {
       "description_width": ""
      }
     },
     "569b30359fcb4cffbcd70032d4a37bbe": {
      "model_module": "@jupyter-widgets/controls",
      "model_module_version": "1.5.0",
      "model_name": "ToggleButtonModel",
      "state": {
       "button_style": "primary",
       "icon": "globe",
       "layout": "IPY_MODEL_e197d4ed1aab475cbb1baeeb1aaf0f67",
       "style": "IPY_MODEL_a556aecfd42647769dd806e2bea3764a",
       "tooltip": "Split-panel map"
      }
     },
     "572404e375704bafaca819e5dc2269f0": {
      "model_module": "jupyter-leaflet",
      "model_module_version": "^0.16.0",
      "model_name": "LeafletTileLayerModel",
      "state": {
       "_model_module_version": "^0.16.0",
       "_view_module_version": "^0.16.0",
       "attribution": "(C) OpenStreetMap contributors (C) CARTO",
       "max_native_zoom": 18,
       "max_zoom": 20,
       "min_native_zoom": 0,
       "name": "CartoDB.DarkMatterOnlyLabels",
       "options": [
        "attribution",
        "bounds",
        "detect_retina",
        "max_native_zoom",
        "max_zoom",
        "min_native_zoom",
        "min_zoom",
        "no_wrap",
        "tile_size",
        "tms"
       ],
       "url": "https://a.basemaps.cartocdn.com/dark_only_labels/{z}/{x}/{y}.png"
      }
     },
     "57d75e0591b441c5b7f67632361fb6de": {
      "model_module": "jupyter-leaflet",
      "model_module_version": "^0.16.0",
      "model_name": "LeafletTileLayerModel",
      "state": {
       "_model_module_version": "^0.16.0",
       "_view_module_version": "^0.16.0",
       "attribution": "Tiles &copy; Esri &mdash; Esri, DeLorme, NAVTEQ, TomTom, Intermap, iPC, USGS, FAO, NPS, NRCAN, GeoBase, Kadaster NL, Ordnance Survey, Esri Japan, METI, Esri China (Hong Kong), and the GIS User Community",
       "max_native_zoom": 18,
       "max_zoom": 24,
       "min_native_zoom": 0,
       "name": "Esri.ArcticOceanReference",
       "options": [
        "attribution",
        "bounds",
        "detect_retina",
        "max_native_zoom",
        "max_zoom",
        "min_native_zoom",
        "min_zoom",
        "no_wrap",
        "tile_size",
        "tms"
       ],
       "url": "http://server.arcgisonline.com/ArcGIS/rest/services/Polar/Arctic_Ocean_Reference/MapServer/tile/{z}/{y}/{x}"
      }
     },
     "58d7138fe61c406295e2942a37b67137": {
      "model_module": "jupyter-leaflet",
      "model_module_version": "^0.16.0",
      "model_name": "LeafletDrawControlModel",
      "state": {
       "_model_module_version": "^0.16.0",
       "_view_module_version": "^0.16.0",
       "circle": {
        "shapeOptions": {
         "color": "#3388ff"
        }
       },
       "marker": {
        "shapeOptions": {
         "color": "#3388ff"
        }
       },
       "options": [
        "position"
       ],
       "rectangle": {
        "shapeOptions": {
         "color": "#3388ff"
        }
       }
      }
     },
     "59a4c98b2c35417d99d17f39935b5f2c": {
      "model_module": "@jupyter-widgets/base",
      "model_module_version": "1.2.0",
      "model_name": "LayoutModel",
      "state": {
       "height": "auto",
       "padding": "0px 0px 0px 4px",
       "width": "auto"
      }
     },
     "5a023d4a7eca4a058e28289b534a7b9d": {
      "model_module": "@jupyter-widgets/controls",
      "model_module_version": "1.5.0",
      "model_name": "ToggleButtonModel",
      "state": {
       "button_style": "primary",
       "icon": "eraser",
       "layout": "IPY_MODEL_6ff5954356774881a3d391d2def8f90d",
       "style": "IPY_MODEL_92e7fda5fa2b4c3ba7d7bae43fc015d7",
       "tooltip": "Remove all drawn features"
      }
     },
     "5b0ea9b0c5674f77acf27e4f970d5a5e": {
      "model_module": "@jupyter-widgets/controls",
      "model_module_version": "1.5.0",
      "model_name": "ToggleButtonModel",
      "state": {
       "button_style": "primary",
       "icon": "stack-exchange",
       "layout": "IPY_MODEL_5481fafc49384c3aa1b774c019298b2c",
       "style": "IPY_MODEL_cac0be59ee524ee898751a017d348db8",
       "tooltip": "Discover STAC Catalog"
      }
     },
     "5b74a441301c42d4b2180cb4df0ba750": {
      "model_module": "jupyter-leaflet",
      "model_module_version": "^0.16.0",
      "model_name": "LeafletTileLayerModel",
      "state": {
       "_model_module_version": "^0.16.0",
       "_view_module_version": "^0.16.0",
       "attribution": "Imagery provided by services from the Global Imagery Browse Services (GIBS), operated by the NASA/GSFC/Earth Science Data and Information System (<a href=\"https://earthdata.nasa.gov\">ESDIS</a>) with funding provided by NASA/HQ.",
       "max_native_zoom": 18,
       "max_zoom": 9,
       "min_native_zoom": 0,
       "name": "NASAGIBS.ModisAquaTrueColorCR",
       "options": [
        "attribution",
        "bounds",
        "detect_retina",
        "max_native_zoom",
        "max_zoom",
        "min_native_zoom",
        "min_zoom",
        "no_wrap",
        "tile_size",
        "tms"
       ],
       "url": "https://gibs.earthdata.nasa.gov/wmts/epsg3857/best/MODIS_Aqua_CorrectedReflectance_TrueColor/default//GoogleMapsCompatible_Level9/{z}/{y}/{x}.jpg"
      }
     },
     "5e356cfba3af4cef9b29e36a99d824ed": {
      "model_module": "jupyter-leaflet",
      "model_module_version": "^0.16.0",
      "model_name": "LeafletTileLayerModel",
      "state": {
       "_model_module_version": "^0.16.0",
       "_view_module_version": "^0.16.0",
       "attribution": "Geoportail France",
       "max_native_zoom": 18,
       "max_zoom": 19,
       "min_native_zoom": 0,
       "name": "GeoportailFrance.orthos",
       "options": [
        "attribution",
        "bounds",
        "detect_retina",
        "max_native_zoom",
        "max_zoom",
        "min_native_zoom",
        "min_zoom",
        "no_wrap",
        "tile_size",
        "tms"
       ],
       "url": "https://wxs.ign.fr/choisirgeoportail/geoportail/wmts?REQUEST=GetTile&SERVICE=WMTS&VERSION=1.0.0&STYLE=normal&TILEMATRIXSET=PM&FORMAT=image/jpeg&LAYER=ORTHOIMAGERY.ORTHOPHOTOS&TILEMATRIX={z}&TILEROW={y}&TILECOL={x}"
      }
     },
     "5e5f2385c3d34c9cad69ada2a35c7f77": {
      "model_module": "@jupyter-widgets/base",
      "model_module_version": "1.2.0",
      "model_name": "LayoutModel",
      "state": {}
     },
     "5e9db15dc1a34511bf07b8c034d44cf1": {
      "model_module": "@jupyter-widgets/controls",
      "model_module_version": "1.5.0",
      "model_name": "DescriptionStyleModel",
      "state": {
       "description_width": ""
      }
     },
     "5eeb2585475c47b386135d6da2d9b575": {
      "model_module": "jupyter-leaflet",
      "model_module_version": "^0.16.0",
      "model_name": "LeafletTileLayerModel",
      "state": {
       "_model_module_version": "^0.16.0",
       "_view_module_version": "^0.16.0",
       "attribution": "(C) OpenStreetMap contributors (C) CARTO",
       "max_native_zoom": 18,
       "max_zoom": 20,
       "min_native_zoom": 0,
       "name": "CartoDB.VoyagerNoLabels",
       "options": [
        "attribution",
        "bounds",
        "detect_retina",
        "max_native_zoom",
        "max_zoom",
        "min_native_zoom",
        "min_zoom",
        "no_wrap",
        "tile_size",
        "tms"
       ],
       "url": "https://a.basemaps.cartocdn.com/rastertiles/voyager_nolabels/{z}/{x}/{y}.png"
      }
     },
     "60665e30c3544e859786a9ffb8877385": {
      "model_module": "jupyter-leaflet",
      "model_module_version": "^0.16.0",
      "model_name": "LeafletMapStyleModel",
      "state": {
       "_model_module_version": "^0.16.0"
      }
     },
     "60dd751c8e50460382fc8c1f8d76c017": {
      "model_module": "@jupyter-widgets/controls",
      "model_module_version": "1.5.0",
      "model_name": "DescriptionStyleModel",
      "state": {
       "description_width": ""
      }
     },
     "61d70a074fd34b8dacc9d53f24249b07": {
      "model_module": "@jupyter-widgets/base",
      "model_module_version": "1.2.0",
      "model_name": "LayoutModel",
      "state": {
       "height": "auto",
       "padding": "0px 0px 0px 4px",
       "width": "auto"
      }
     },
     "625a13bc7f704a0da7035a932af94bc4": {
      "model_module": "@jupyter-widgets/controls",
      "model_module_version": "1.5.0",
      "model_name": "DescriptionStyleModel",
      "state": {
       "description_width": ""
      }
     },
     "62d5121cceb24298932a37074c815342": {
      "model_module": "@jupyter-widgets/controls",
      "model_module_version": "1.5.0",
      "model_name": "DescriptionStyleModel",
      "state": {
       "description_width": ""
      }
     },
     "6339d181d1c643e58e0c638f4e8bb691": {
      "model_module": "@jupyter-widgets/controls",
      "model_module_version": "1.5.0",
      "model_name": "ToggleButtonModel",
      "state": {
       "button_style": "primary",
       "icon": "adjust",
       "layout": "IPY_MODEL_bc654d6b2e6f422c8c523b6dbd44e18f",
       "style": "IPY_MODEL_b322a21297084ba2bc6f52655698e006",
       "tooltip": "Planet imagery"
      }
     },
     "63a3dd3e30024353a43e022828f1dba2": {
      "model_module": "@jupyter-widgets/base",
      "model_module_version": "1.2.0",
      "model_name": "LayoutModel",
      "state": {
       "height": "auto",
       "padding": "0px 0px 0px 4px",
       "width": "auto"
      }
     },
     "63f717d23bcd45b2b421b533b9052557": {
      "model_module": "@jupyter-widgets/controls",
      "model_module_version": "1.5.0",
      "model_name": "DescriptionStyleModel",
      "state": {
       "description_width": ""
      }
     },
     "6406eaa1779847a282f9bf890ea1a2a4": {
      "model_module": "jupyter-leaflet",
      "model_module_version": "^0.16.0",
      "model_name": "LeafletTileLayerModel",
      "state": {
       "_model_module_version": "^0.16.0",
       "_view_module_version": "^0.16.0",
       "attribution": "Tiles (C) Esri -- Source: Esri, i-cubed, USDA, USGS, AEX, GeoEye, Getmapping, Aerogrid, IGN, IGP, UPR-EGP, and the GIS User Community",
       "max_native_zoom": 18,
       "max_zoom": 22,
       "min_native_zoom": 0,
       "name": "Esri.WorldImagery",
       "options": [
        "attribution",
        "bounds",
        "detect_retina",
        "max_native_zoom",
        "max_zoom",
        "min_native_zoom",
        "min_zoom",
        "no_wrap",
        "tile_size",
        "tms"
       ],
       "url": "https://server.arcgisonline.com/ArcGIS/rest/services/World_Imagery/MapServer/tile/{z}/{y}/{x}"
      }
     },
     "650ef23a0ed8468a9e76f2807bab878c": {
      "model_module": "@jupyter-widgets/controls",
      "model_module_version": "1.5.0",
      "model_name": "ToggleButtonModel",
      "state": {
       "button_style": "primary",
       "icon": "fast-forward",
       "layout": "IPY_MODEL_a30448781ebc408ea0651577a88e4006",
       "style": "IPY_MODEL_b5915a89374c4c2398db1b4c49f5b9bc",
       "tooltip": "Activate the time slider"
      }
     },
     "652d012778944dfeaeeb3e9a02a571f1": {
      "model_module": "jupyter-leaflet",
      "model_module_version": "^0.16.0",
      "model_name": "LeafletScaleControlModel",
      "state": {
       "_model_module_version": "^0.16.0",
       "_view_module_version": "^0.16.0",
       "imperial": true,
       "max_width": 100,
       "metric": true,
       "options": [
        "imperial",
        "max_width",
        "metric",
        "position",
        "update_when_idle"
       ],
       "position": "bottomleft",
       "update_when_idle": false
      }
     },
     "65b443314d33496fa376e5b12894638f": {
      "model_module": "@jupyter-widgets/controls",
      "model_module_version": "1.5.0",
      "model_name": "ToggleButtonModel",
      "state": {
       "button_style": "primary",
       "icon": "eraser",
       "layout": "IPY_MODEL_f305d7b6ff96424abe58a728695b9f91",
       "style": "IPY_MODEL_3a22c966dcf346708c755409ddee6121",
       "tooltip": "Remove all drawn features"
      }
     },
     "65cd2aac828f48ef858dac6e06e9de0f": {
      "model_module": "jupyter-leaflet",
      "model_module_version": "^0.16.0",
      "model_name": "LeafletTileLayerModel",
      "state": {
       "_model_module_version": "^0.16.0",
       "_view_module_version": "^0.16.0",
       "attribution": "Map tiles by Stamen Design, CC BY 3.0 -- Map data (C) OpenStreetMap contributors",
       "max_native_zoom": 18,
       "max_zoom": 20,
       "min_native_zoom": 0,
       "name": "Stamen.TonerBackground",
       "options": [
        "attribution",
        "bounds",
        "detect_retina",
        "max_native_zoom",
        "max_zoom",
        "min_native_zoom",
        "min_zoom",
        "no_wrap",
        "tile_size",
        "tms"
       ],
       "url": "https://stamen-tiles-a.a.ssl.fastly.net/toner-background/{z}/{x}/{y}.png"
      }
     },
     "660364a3db4240f78a4e3f40d4ccd4b9": {
      "model_module": "@jupyter-widgets/controls",
      "model_module_version": "1.5.0",
      "model_name": "DescriptionStyleModel",
      "state": {
       "description_width": ""
      }
     },
     "66228339cb64484c923b478ffa6b9324": {
      "model_module": "@jupyter-widgets/controls",
      "model_module_version": "1.5.0",
      "model_name": "ToggleButtonModel",
      "state": {
       "button_style": "primary",
       "icon": "adjust",
       "layout": "IPY_MODEL_558d7a308737447f9301be3286ad9cae",
       "style": "IPY_MODEL_10a4a531bddc4daab6e4d7b477b50541",
       "tooltip": "Planet imagery"
      }
     },
     "6725a21d309e4767a14b5c00b7b43a3e": {
      "model_module": "jupyter-leaflet",
      "model_module_version": "^0.16.0",
      "model_name": "LeafletTileLayerModel",
      "state": {
       "_model_module_version": "^0.16.0",
       "_view_module_version": "^0.16.0",
       "attribution": "Tiles (C) Esri -- Source: US National Park Service",
       "max_native_zoom": 18,
       "max_zoom": 8,
       "min_native_zoom": 0,
       "name": "Esri.WorldPhysical",
       "options": [
        "attribution",
        "bounds",
        "detect_retina",
        "max_native_zoom",
        "max_zoom",
        "min_native_zoom",
        "min_zoom",
        "no_wrap",
        "tile_size",
        "tms"
       ],
       "url": "https://server.arcgisonline.com/ArcGIS/rest/services/World_Physical_Map/MapServer/tile/{z}/{y}/{x}"
      }
     },
     "678e7dbd1d6545abae9c81091922286b": {
      "model_module": "@jupyter-widgets/base",
      "model_module_version": "1.2.0",
      "model_name": "LayoutModel",
      "state": {
       "height": "28px",
       "padding": "0px 0px 0px 4px",
       "width": "28px"
      }
     },
     "67d1747cb0b14cbbb667df8b2ac9d4ee": {
      "model_module": "jupyter-leaflet",
      "model_module_version": "^0.16.0",
      "model_name": "LeafletTileLayerModel",
      "state": {
       "_model_module_version": "^0.16.0",
       "_view_module_version": "^0.16.0",
       "attribution": "Tiles courtesy of the U.S. Geological Survey",
       "max_native_zoom": 18,
       "max_zoom": 20,
       "min_native_zoom": 0,
       "name": "USGS.USImageryTopo",
       "options": [
        "attribution",
        "bounds",
        "detect_retina",
        "max_native_zoom",
        "max_zoom",
        "min_native_zoom",
        "min_zoom",
        "no_wrap",
        "tile_size",
        "tms"
       ],
       "url": "https://basemap.nationalmap.gov/arcgis/rest/services/USGSImageryTopo/MapServer/tile/{z}/{y}/{x}"
      }
     },
     "67d4d403db9b4f2a9b4d3049dac81474": {
      "model_module": "@jupyter-widgets/controls",
      "model_module_version": "1.5.0",
      "model_name": "ToggleButtonModel",
      "state": {
       "button_style": "primary",
       "icon": "search",
       "layout": "IPY_MODEL_2fabbbafb5a148ef94705354ab7e83a5",
       "style": "IPY_MODEL_6f94a653afdd438ea0877f201bf58be2",
       "tooltip": "Search XYZ tile services"
      }
     },
     "68107edd2d9a445db66dde9c44da23ad": {
      "model_module": "@jupyter-widgets/base",
      "model_module_version": "1.2.0",
      "model_name": "LayoutModel",
      "state": {
       "height": "auto",
       "padding": "0px 0px 0px 4px",
       "width": "auto"
      }
     },
     "6891d95569fb4bfd8f2a1c285dc2ab68": {
      "model_module": "jupyter-leaflet",
      "model_module_version": "^0.16.0",
      "model_name": "LeafletWMSLayerModel",
      "state": {
       "_model_module_version": "^0.16.0",
       "_view_module_version": "^0.16.0",
       "attribution": "FWS",
       "crs": {
        "custom": false,
        "name": "EPSG3857"
       },
       "format": "image/png",
       "layers": "1",
       "max_native_zoom": 18,
       "min_native_zoom": 0,
       "name": "FWS NWI Wetlands",
       "options": [
        "attribution",
        "bounds",
        "detect_retina",
        "format",
        "layers",
        "max_native_zoom",
        "max_zoom",
        "min_native_zoom",
        "min_zoom",
        "no_wrap",
        "styles",
        "tile_size",
        "tms",
        "transparent",
        "uppercase"
       ],
       "transparent": true,
       "url": "https://www.fws.gov/wetlands/arcgis/services/Wetlands/MapServer/WMSServer?"
      }
     },
     "68c726bcf7bc4f5cba4fc583447f6690": {
      "model_module": "@jupyter-widgets/base",
      "model_module_version": "1.2.0",
      "model_name": "LayoutModel",
      "state": {
       "grid_gap": "1px 1px",
       "grid_template_columns": "32px 32px 32px ",
       "grid_template_rows": "32px 32px 32px 32px 32px 32px ",
       "padding": "5px",
       "width": "109px"
      }
     },
     "68cdfaa2eac6448f80783a0819b9b092": {
      "model_module": "jupyter-leaflet",
      "model_module_version": "^0.16.0",
      "model_name": "LeafletTileLayerModel",
      "state": {
       "_model_module_version": "^0.16.0",
       "_view_module_version": "^0.16.0",
       "attribution": "Justice Map",
       "max_native_zoom": 18,
       "max_zoom": 22,
       "min_native_zoom": 0,
       "name": "JusticeMap.multi",
       "options": [
        "attribution",
        "bounds",
        "detect_retina",
        "max_native_zoom",
        "max_zoom",
        "min_native_zoom",
        "min_zoom",
        "no_wrap",
        "tile_size",
        "tms"
       ],
       "url": "https://www.justicemap.org/tile/county/multi/{z}/{x}/{y}.png"
      }
     },
     "68ef693726314ec4a80cf5325064d6d9": {
      "model_module": "@jupyter-widgets/controls",
      "model_module_version": "1.5.0",
      "model_name": "VBoxModel",
      "state": {
       "_view_count": 1,
       "children": [
        "IPY_MODEL_981b99a8565b49a092036a2fb46d22d5"
       ],
       "layout": "IPY_MODEL_7893bcf9966f47b797d44f25cd6f5dd8"
      }
     },
     "68fe5fefbc794b9f88d2bcebb1249c29": {
      "model_module": "jupyter-leaflet",
      "model_module_version": "^0.16.0",
      "model_name": "LeafletTileLayerModel",
      "state": {
       "_model_module_version": "^0.16.0",
       "_view_module_version": "^0.16.0",
       "attribution": "",
       "max_native_zoom": 18,
       "min_native_zoom": 0,
       "name": "STAC Layer",
       "options": [
        "attribution",
        "bounds",
        "detect_retina",
        "max_native_zoom",
        "max_zoom",
        "min_native_zoom",
        "min_zoom",
        "no_wrap",
        "tile_size",
        "tms"
       ],
       "url": "https://planetarycomputer.microsoft.com/api/data/v1/item/tiles/WebMercatorQuad/{z}/{x}/{y}@1x?rescale=0%2C12000&collection=landsat-c2-l2&item=LC08_L2SP_047027_20201204_02_T1&assets=SR_B2"
      }
     },
     "696361d6ad00467384ddb5bcfe030616": {
      "model_module": "@jupyter-widgets/base",
      "model_module_version": "1.2.0",
      "model_name": "LayoutModel",
      "state": {
       "height": "auto",
       "padding": "0px 0px 0px 4px",
       "width": "auto"
      }
     },
     "69f54c5d6e9345e38d170bdd8b7c3efc": {
      "model_module": "jupyter-leaflet",
      "model_module_version": "^0.16.0",
      "model_name": "LeafletTileLayerModel",
      "state": {
       "_model_module_version": "^0.16.0",
       "_view_module_version": "^0.16.0",
       "attribution": "Justice Map",
       "max_native_zoom": 18,
       "max_zoom": 22,
       "min_native_zoom": 0,
       "name": "JusticeMap.income",
       "options": [
        "attribution",
        "bounds",
        "detect_retina",
        "max_native_zoom",
        "max_zoom",
        "min_native_zoom",
        "min_zoom",
        "no_wrap",
        "tile_size",
        "tms"
       ],
       "url": "https://www.justicemap.org/tile/county/income/{z}/{x}/{y}.png"
      }
     },
     "6abe5f1bf0354a69b619aa3e9f42c364": {
      "model_module": "jupyter-leaflet",
      "model_module_version": "^0.16.0",
      "model_name": "LeafletZoomControlModel",
      "state": {
       "_model_module_version": "^0.16.0",
       "_view_module_version": "^0.16.0",
       "options": [
        "position",
        "zoom_in_text",
        "zoom_in_title",
        "zoom_out_text",
        "zoom_out_title"
       ]
      }
     },
     "6b6e54bae2aa4d52a00c27d16c6a13f1": {
      "model_module": "@jupyter-widgets/controls",
      "model_module_version": "1.5.0",
      "model_name": "ToggleButtonModel",
      "state": {
       "button_style": "primary",
       "icon": "question",
       "layout": "IPY_MODEL_5064b9a0b2e145fc86736be487ff942d",
       "style": "IPY_MODEL_5e9db15dc1a34511bf07b8c034d44cf1",
       "tooltip": "Get help"
      }
     },
     "6bb40623957846649e3d36a7b1933ccb": {
      "model_module": "jupyter-leaflet",
      "model_module_version": "^0.16.0",
      "model_name": "LeafletTileLayerModel",
      "state": {
       "_model_module_version": "^0.16.0",
       "_view_module_version": "^0.16.0",
       "attribution": "Map data: (C) OpenStreetMap contributors | Map style: (C) waymarkedtrails.org (CC-BY-SA)",
       "max_native_zoom": 18,
       "min_native_zoom": 0,
       "name": "WaymarkedTrails.slopes",
       "options": [
        "attribution",
        "bounds",
        "detect_retina",
        "max_native_zoom",
        "max_zoom",
        "min_native_zoom",
        "min_zoom",
        "no_wrap",
        "tile_size",
        "tms"
       ],
       "url": "https://tile.waymarkedtrails.org/slopes/{z}/{x}/{y}.png"
      }
     },
     "6c3c3ca338f7459792e8af8fa52716fd": {
      "model_module": "jupyter-leaflet",
      "model_module_version": "^0.16.0",
      "model_name": "LeafletTileLayerModel",
      "state": {
       "_model_module_version": "^0.16.0",
       "_view_module_version": "^0.16.0",
       "attribution": "&copy; <a href=\"https://www.openstreetmap.org/copyright\">OpenStreetMap</a> contributors",
       "base": true,
       "max_native_zoom": 18,
       "max_zoom": 19,
       "min_native_zoom": 0,
       "min_zoom": 1,
       "name": "OpenStreetMap",
       "options": [
        "attribution",
        "bounds",
        "detect_retina",
        "max_native_zoom",
        "max_zoom",
        "min_native_zoom",
        "min_zoom",
        "no_wrap",
        "tile_size",
        "tms"
       ],
       "url": "https://a.tile.openstreetmap.org/{z}/{x}/{y}.png"
      }
     },
     "6cef10fd704349d69d8721866697a803": {
      "model_module": "@jupyter-widgets/controls",
      "model_module_version": "1.5.0",
      "model_name": "ToggleButtonModel",
      "state": {
       "button_style": "primary",
       "icon": "gears",
       "layout": "IPY_MODEL_2addbf2ef613480e8b89e7051fd768b5",
       "style": "IPY_MODEL_f53604e758da4eb7ae68f62017aab85d",
       "tooltip": "WhiteboxTools for local geoprocessing"
      }
     },
     "6d2e1ef5d7b34cb795669b79a59374e4": {
      "model_module": "@jupyter-widgets/base",
      "model_module_version": "1.2.0",
      "model_name": "LayoutModel",
      "state": {
       "height": "auto",
       "padding": "0px 0px 0px 4px",
       "width": "auto"
      }
     },
     "6dd52900e49d4858b7200026e39ceb77": {
      "model_module": "@jupyter-widgets/base",
      "model_module_version": "1.2.0",
      "model_name": "LayoutModel",
      "state": {
       "height": "auto",
       "padding": "0px 0px 0px 4px",
       "width": "auto"
      }
     },
     "6ed36b4e467e4e4abd1be1e8927021e8": {
      "model_module": "@jupyter-widgets/controls",
      "model_module_version": "1.5.0",
      "model_name": "ToggleButtonModel",
      "state": {
       "button_style": "primary",
       "icon": "stack-exchange",
       "layout": "IPY_MODEL_35df1c76bc4e4a498888a468c28cbbbd",
       "style": "IPY_MODEL_70b048bd4203485e89ed734a59182d60",
       "tooltip": "Discover STAC Catalog"
      }
     },
     "6f94a653afdd438ea0877f201bf58be2": {
      "model_module": "@jupyter-widgets/controls",
      "model_module_version": "1.5.0",
      "model_name": "DescriptionStyleModel",
      "state": {
       "description_width": ""
      }
     },
     "6ff5954356774881a3d391d2def8f90d": {
      "model_module": "@jupyter-widgets/base",
      "model_module_version": "1.2.0",
      "model_name": "LayoutModel",
      "state": {
       "height": "auto",
       "padding": "0px 0px 0px 4px",
       "width": "auto"
      }
     },
     "70b048bd4203485e89ed734a59182d60": {
      "model_module": "@jupyter-widgets/controls",
      "model_module_version": "1.5.0",
      "model_name": "DescriptionStyleModel",
      "state": {
       "description_width": ""
      }
     },
     "70e1f74ded924f10926669ee95e38554": {
      "model_module": "@jupyter-widgets/controls",
      "model_module_version": "1.5.0",
      "model_name": "DescriptionStyleModel",
      "state": {
       "description_width": ""
      }
     },
     "71275b496dbe41c5b76ad450825db59a": {
      "model_module": "@jupyter-widgets/base",
      "model_module_version": "1.2.0",
      "model_name": "LayoutModel",
      "state": {
       "height": "auto",
       "padding": "0px 0px 0px 4px",
       "width": "auto"
      }
     },
     "7141865b6b6e4375be3f9bbe42877902": {
      "model_module": "@jupyter-widgets/base",
      "model_module_version": "1.2.0",
      "model_name": "LayoutModel",
      "state": {
       "height": "auto",
       "padding": "0px 0px 0px 4px",
       "width": "auto"
      }
     },
     "71e26767b3464ffa87faadc96397dafd": {
      "model_module": "@jupyter-widgets/base",
      "model_module_version": "1.2.0",
      "model_name": "LayoutModel",
      "state": {
       "height": "auto",
       "padding": "0px 0px 0px 4px",
       "width": "auto"
      }
     },
     "72711c83d94d459593598d2fad00d3e8": {
      "model_module": "jupyter-leaflet",
      "model_module_version": "^0.16.0",
      "model_name": "LeafletTileLayerModel",
      "state": {
       "_model_module_version": "^0.16.0",
       "_view_module_version": "^0.16.0",
       "attribution": "Kaartgegevens (C) Kadaster",
       "max_native_zoom": 18,
       "max_zoom": 19,
       "min_native_zoom": 0,
       "name": "nlmaps.water",
       "options": [
        "attribution",
        "bounds",
        "detect_retina",
        "max_native_zoom",
        "max_zoom",
        "min_native_zoom",
        "min_zoom",
        "no_wrap",
        "tile_size",
        "tms"
       ],
       "url": "https://service.pdok.nl/brt/achtergrondkaart/wmts/v2_0/water/EPSG:3857/{z}/{x}/{y}.png"
      }
     },
     "729b261e8d774cc78021bd454148f4df": {
      "model_module": "@jupyter-widgets/base",
      "model_module_version": "1.2.0",
      "model_name": "LayoutModel",
      "state": {
       "height": "auto",
       "padding": "0px 0px 0px 4px",
       "width": "auto"
      }
     },
     "72b51b2411304057a27e52997c921aa7": {
      "model_module": "@jupyter-widgets/controls",
      "model_module_version": "1.5.0",
      "model_name": "DescriptionStyleModel",
      "state": {
       "description_width": ""
      }
     },
     "739fc1654c8c4848b719525a7ce571ec": {
      "model_module": "jupyter-leaflet",
      "model_module_version": "^0.16.0",
      "model_name": "LeafletTileLayerModel",
      "state": {
       "_model_module_version": "^0.16.0",
       "_view_module_version": "^0.16.0",
       "attribution": "Kaartgegevens (C) Kadaster",
       "max_native_zoom": 18,
       "max_zoom": 19,
       "min_native_zoom": 0,
       "name": "nlmaps.standaard",
       "options": [
        "attribution",
        "bounds",
        "detect_retina",
        "max_native_zoom",
        "max_zoom",
        "min_native_zoom",
        "min_zoom",
        "no_wrap",
        "tile_size",
        "tms"
       ],
       "url": "https://service.pdok.nl/brt/achtergrondkaart/wmts/v2_0/standaard/EPSG:3857/{z}/{x}/{y}.png"
      }
     },
     "7452d6458abb4f59a3503271c1c4f57c": {
      "model_module": "jupyter-leaflet",
      "model_module_version": "^0.16.0",
      "model_name": "LeafletTileLayerModel",
      "state": {
       "_model_module_version": "^0.16.0",
       "_view_module_version": "^0.16.0",
       "attribution": "![](https://docs.onemap.sg/maps/images/oneMap64-01.png) New OneMap | Map data (C) contributors, Singapore Land Authority",
       "max_native_zoom": 18,
       "min_native_zoom": 0,
       "name": "OneMapSG.Default",
       "options": [
        "attribution",
        "bounds",
        "detect_retina",
        "max_native_zoom",
        "max_zoom",
        "min_native_zoom",
        "min_zoom",
        "no_wrap",
        "tile_size",
        "tms"
       ],
       "url": "https://maps-a.onemap.sg/v3/Default/{z}/{x}/{y}.png"
      }
     },
     "755c05c4a6164b60b1bc28ed4b5991e0": {
      "model_module": "@jupyter-widgets/base",
      "model_module_version": "1.2.0",
      "model_name": "LayoutModel",
      "state": {
       "height": "auto",
       "padding": "0px 0px 0px 4px",
       "width": "auto"
      }
     },
     "75e855af6e6a466d84505ce92e99f879": {
      "model_module": "@jupyter-widgets/base",
      "model_module_version": "1.2.0",
      "model_name": "LayoutModel",
      "state": {
       "height": "auto",
       "padding": "0px 0px 0px 4px",
       "width": "auto"
      }
     },
     "763c91557b60421b8fb22b1e53ff8d3b": {
      "model_module": "@jupyter-widgets/controls",
      "model_module_version": "1.5.0",
      "model_name": "DescriptionStyleModel",
      "state": {
       "description_width": ""
      }
     },
     "7778ade398b544d0aedad4e8e39ac125": {
      "model_module": "@jupyter-widgets/controls",
      "model_module_version": "1.5.0",
      "model_name": "DescriptionStyleModel",
      "state": {
       "description_width": ""
      }
     },
     "77d534ee38e04da4ac1b42cece552608": {
      "model_module": "@jupyter-widgets/controls",
      "model_module_version": "1.5.0",
      "model_name": "HBoxModel",
      "state": {
       "children": [
        "IPY_MODEL_a6efa8a77d5743cd9d48eefaa072882e",
        "IPY_MODEL_981b99a8565b49a092036a2fb46d22d5"
       ],
       "layout": "IPY_MODEL_f79e2343c4cc4111ba5d68a6a56ad759"
      }
     },
     "7893bcf9966f47b797d44f25cd6f5dd8": {
      "model_module": "@jupyter-widgets/base",
      "model_module_version": "1.2.0",
      "model_name": "LayoutModel",
      "state": {}
     },
     "78a9236b36dc4f7c9dd9aed2dc5beb7b": {
      "model_module": "jupyter-leaflet",
      "model_module_version": "^0.16.0",
      "model_name": "LeafletTileLayerModel",
      "state": {
       "_model_module_version": "^0.16.0",
       "_view_module_version": "^0.16.0",
       "attribution": "Map tiles by Stamen Design, CC BY 3.0 -- Map data (C) OpenStreetMap contributors",
       "max_native_zoom": 18,
       "max_zoom": 20,
       "min_native_zoom": 0,
       "name": "Stamen.TonerLabels",
       "options": [
        "attribution",
        "bounds",
        "detect_retina",
        "max_native_zoom",
        "max_zoom",
        "min_native_zoom",
        "min_zoom",
        "no_wrap",
        "tile_size",
        "tms"
       ],
       "url": "https://stamen-tiles-a.a.ssl.fastly.net/toner-labels/{z}/{x}/{y}.png"
      }
     },
     "7977f8cb34884da3a5acf8066ce7a0bf": {
      "model_module": "@jupyter-widgets/base",
      "model_module_version": "1.2.0",
      "model_name": "LayoutModel",
      "state": {}
     },
     "7a95a923b4e34e66bb3d46d5d29d3f59": {
      "model_module": "@jupyter-widgets/controls",
      "model_module_version": "1.5.0",
      "model_name": "DescriptionStyleModel",
      "state": {
       "description_width": ""
      }
     },
     "7ac44805928d4c03bafc1f94fa551697": {
      "model_module": "@jupyter-widgets/controls",
      "model_module_version": "1.5.0",
      "model_name": "ToggleButtonModel",
      "state": {
       "button_style": "primary",
       "icon": "address-book",
       "layout": "IPY_MODEL_61d70a074fd34b8dacc9d53f24249b07",
       "style": "IPY_MODEL_25e11f6589c946d59e65be8f31233907",
       "tooltip": "Get US Census data"
      }
     },
     "7adce815bd92492e99eee60c077af0e1": {
      "model_module": "@jupyter-widgets/controls",
      "model_module_version": "1.5.0",
      "model_name": "DescriptionStyleModel",
      "state": {
       "description_width": ""
      }
     },
     "7b4e07808eb340d2a667464bbe04739a": {
      "model_module": "@jupyter-widgets/controls",
      "model_module_version": "1.5.0",
      "model_name": "ToggleButtonModel",
      "state": {
       "icon": "wrench",
       "layout": "IPY_MODEL_bbd757f60d1047e5b48b06889bb096af",
       "style": "IPY_MODEL_660364a3db4240f78a4e3f40d4ccd4b9",
       "tooltip": "Toolbar"
      }
     },
     "7bbcf487e55543d6a87d7fc21d64376b": {
      "model_module": "jupyter-leaflet",
      "model_module_version": "^0.16.0",
      "model_name": "LeafletWMSLayerModel",
      "state": {
       "_model_module_version": "^0.16.0",
       "_view_module_version": "^0.16.0",
       "attribution": "MRLC",
       "crs": {
        "custom": false,
        "name": "EPSG3857"
       },
       "format": "image/png",
       "layers": "NLCD_2019_Land_Cover_L48",
       "max_native_zoom": 18,
       "min_native_zoom": 0,
       "name": "NLCD 2019 CONUS Land Cover",
       "options": [
        "attribution",
        "bounds",
        "detect_retina",
        "format",
        "layers",
        "max_native_zoom",
        "max_zoom",
        "min_native_zoom",
        "min_zoom",
        "no_wrap",
        "styles",
        "tile_size",
        "tms",
        "transparent",
        "uppercase"
       ],
       "transparent": true,
       "url": "https://www.mrlc.gov/geoserver/mrlc_display/NLCD_2019_Land_Cover_L48/wms?"
      }
     },
     "7bdc310b96764074b24ba3c917329acf": {
      "model_module": "@jupyter-widgets/controls",
      "model_module_version": "1.5.0",
      "model_name": "VBoxModel",
      "state": {
       "_view_count": 1,
       "children": [
        "IPY_MODEL_af35d3006ea74f88b0ad7c4a8e84d6a6"
       ],
       "layout": "IPY_MODEL_0a8cc3f602c04f57a5d7a44692f030a3"
      }
     },
     "7bef8cb1bb6f4ef69474b9e826847818": {
      "model_module": "jupyter-leaflet",
      "model_module_version": "^0.16.0",
      "model_name": "LeafletMapModel",
      "state": {
       "_model_module_version": "^0.16.0",
       "_view_module_version": "^0.16.0",
       "bottom": 72031,
       "center": [
        -16.77145989,
        124.45469372
       ],
       "controls": [
        "IPY_MODEL_301d83a6df7343dea7d6983f5541b50c",
        "IPY_MODEL_8b50f3b20e9246ee9c5239bf8db490f8",
        "IPY_MODEL_af20801602e9422ebda7a7c48a2ddab4",
        "IPY_MODEL_c303d1e69ba94286869b68acb9be6ebf",
        "IPY_MODEL_3b1ba5acb3da4bbda9217a1198b34d5c",
        "IPY_MODEL_7c7983d6ff3c4bf5a6c6a477201b69d6",
        "IPY_MODEL_652d012778944dfeaeeb3e9a02a571f1",
        "IPY_MODEL_98ded48cfb7c408383f41ca5aee4e757"
       ],
       "default_style": "IPY_MODEL_cbfc72dbfb9d4930abc2e8c21130de53",
       "dragging_style": "IPY_MODEL_1d019976945c4f81b7ebc124903dc077",
       "east": 126.81793212890626,
       "fullscreen": false,
       "interpolation": "bilinear",
       "layers": [
        "IPY_MODEL_6c3c3ca338f7459792e8af8fa52716fd",
        "IPY_MODEL_d6c134df7a1d4a69ba8c507099f7b368"
       ],
       "layout": "IPY_MODEL_457ae3ea374c4dd7aec21698a0dc8813",
       "left": 109989,
       "max_zoom": 24,
       "modisdate": "2022-05-24",
       "north": -15.979813089726116,
       "options": [
        "bounce_at_zoom_limits",
        "box_zoom",
        "center",
        "close_popup_on_click",
        "double_click_zoom",
        "dragging",
        "fullscreen",
        "inertia",
        "inertia_deceleration",
        "inertia_max_speed",
        "interpolation",
        "keyboard",
        "keyboard_pan_offset",
        "keyboard_zoom_offset",
        "max_zoom",
        "min_zoom",
        "prefer_canvas",
        "scroll_wheel_zoom",
        "tap",
        "tap_tolerance",
        "touch_zoom",
        "world_copy_jump",
        "zoom",
        "zoom_animation_threshold",
        "zoom_delta",
        "zoom_snap",
        "zoom_start"
       ],
       "prefer_canvas": false,
       "right": 111709,
       "scroll_wheel_zoom": true,
       "south": -17.557627892415077,
       "style": "IPY_MODEL_cbfc72dbfb9d4930abc2e8c21130de53",
       "top": 71431,
       "west": 122.09381103515625,
       "window_url": "https://pcc-staging.westeurope.cloudapp.azure.com/compute/user/taugspurger@microsoft.com/lab/tree/PlanetaryComputerExamples/quickstarts/leafmap-example.ipynb",
       "zoom": 9
      }
     },
     "7c21bd10e6754fedb9ac5e7e21c1f6fd": {
      "model_module": "@jupyter-widgets/controls",
      "model_module_version": "1.5.0",
      "model_name": "ToggleButtonModel",
      "state": {
       "button_style": "primary",
       "icon": "address-book",
       "layout": "IPY_MODEL_ef8da4ff048841a0afcc39ae8190f328",
       "style": "IPY_MODEL_e9d42d74cb634804b3ce97e56fac60dd",
       "tooltip": "Get US Census data"
      }
     },
     "7c7983d6ff3c4bf5a6c6a477201b69d6": {
      "model_module": "jupyter-leaflet",
      "model_module_version": "^0.16.0",
      "model_name": "LeafletMeasureControlModel",
      "state": {
       "_model_module_version": "^0.16.0",
       "_view_module_version": "^0.16.0",
       "options": [
        "active_color",
        "capture_z_index",
        "completed_color",
        "popup_options",
        "position",
        "primary_area_unit",
        "primary_length_unit",
        "secondary_area_unit",
        "secondary_length_unit"
       ],
       "secondary_area_unit": null,
       "secondary_length_unit": null
      }
     },
     "7c8c086ce9294db1a4188b30fc69e463": {
      "model_module": "jupyter-leaflet",
      "model_module_version": "^0.16.0",
      "model_name": "LeafletTileLayerModel",
      "state": {
       "_model_module_version": "^0.16.0",
       "_view_module_version": "^0.16.0",
       "attribution": "(C) OpenStreetMap contributors (C) CARTO",
       "max_native_zoom": 18,
       "max_zoom": 20,
       "min_native_zoom": 0,
       "name": "CartoDB.Voyager",
       "options": [
        "attribution",
        "bounds",
        "detect_retina",
        "max_native_zoom",
        "max_zoom",
        "min_native_zoom",
        "min_zoom",
        "no_wrap",
        "tile_size",
        "tms"
       ],
       "url": "https://a.basemaps.cartocdn.com/rastertiles/voyager/{z}/{x}/{y}.png"
      }
     },
     "7ce3fb96af644e6f877ccf269c1ff4c6": {
      "model_module": "@jupyter-widgets/controls",
      "model_module_version": "1.5.0",
      "model_name": "ToggleButtonModel",
      "state": {
       "button_style": "primary",
       "icon": "download",
       "layout": "IPY_MODEL_1c8c6de92bf24eea9706685a9ff3db05",
       "style": "IPY_MODEL_c84f461e7aa44685b1e1254d24f72282",
       "tooltip": "Download OSM data"
      }
     },
     "7e1a4e3857e84376bf34e46a667e6fab": {
      "model_module": "@jupyter-widgets/controls",
      "model_module_version": "1.5.0",
      "model_name": "VBoxModel",
      "state": {
       "children": [
        "IPY_MODEL_458b9e3a293e46519167a505f9d579e4"
       ],
       "layout": "IPY_MODEL_3de2d51dbb134ce48c339b98033a188d"
      }
     },
     "7e8d4ac6208042b1ad68e0f22ccbc3ce": {
      "model_module": "@jupyter-widgets/controls",
      "model_module_version": "1.5.0",
      "model_name": "ToggleButtonModel",
      "state": {
       "button_style": "primary",
       "icon": "gears",
       "layout": "IPY_MODEL_de8904bad12742a9ab6633e7437f2345",
       "style": "IPY_MODEL_d0f5585f4f254537bf3859e2f3c5284f",
       "tooltip": "WhiteboxTools for local geoprocessing"
      }
     },
     "7f787f711b164a00a292da8bb94ddcd0": {
      "model_module": "jupyter-leaflet",
      "model_module_version": "^0.16.0",
      "model_name": "LeafletTileLayerModel",
      "state": {
       "_model_module_version": "^0.16.0",
       "_view_module_version": "^0.16.0",
       "attribution": "Map data: (C) OpenStreetMap contributors | Map style: (C) waymarkedtrails.org (CC-BY-SA)",
       "max_native_zoom": 18,
       "min_native_zoom": 0,
       "name": "WaymarkedTrails.mtb",
       "options": [
        "attribution",
        "bounds",
        "detect_retina",
        "max_native_zoom",
        "max_zoom",
        "min_native_zoom",
        "min_zoom",
        "no_wrap",
        "tile_size",
        "tms"
       ],
       "url": "https://tile.waymarkedtrails.org/mtb/{z}/{x}/{y}.png"
      }
     },
     "807e24bb43c94dbc85bb1f25577edada": {
      "model_module": "jupyter-leaflet",
      "model_module_version": "^0.16.0",
      "model_name": "LeafletWidgetControlModel",
      "state": {
       "_model_module": "jupyter-leaflet",
       "_model_module_version": "^0.16.0",
       "_view_count": null,
       "_view_module": "jupyter-leaflet",
       "_view_module_version": "^0.16.0",
       "options": [
        "position",
        "transparent_bg"
       ],
       "position": "bottomright",
       "widget": "IPY_MODEL_c06715566f40460ba2947383559a46ea"
      }
     },
     "8109f6e63025498eb51ce98639700ff9": {
      "model_module": "jupyter-leaflet",
      "model_module_version": "^0.16.0",
      "model_name": "LeafletTileLayerModel",
      "state": {
       "_model_module_version": "^0.16.0",
       "_view_module_version": "^0.16.0",
       "attribution": "Imagery provided by services from the Global Imagery Browse Services (GIBS), operated by the NASA/GSFC/Earth Science Data and Information System (ESDIS) with funding provided by NASA/HQ.",
       "max_native_zoom": 18,
       "max_zoom": 8,
       "min_native_zoom": 0,
       "name": "NASAGIBS.ModisTerraSnowCover",
       "options": [
        "attribution",
        "bounds",
        "detect_retina",
        "max_native_zoom",
        "max_zoom",
        "min_native_zoom",
        "min_zoom",
        "no_wrap",
        "tile_size",
        "tms"
       ],
       "url": "https://map1.vis.earthdata.nasa.gov/wmts-webmerc/MODIS_Terra_NDSI_Snow_Cover/default//GoogleMapsCompatible_Level8/{z}/{y}/{x}.png"
      }
     },
     "81bd505b81b7440f9c010cc42ee90749": {
      "model_module": "jupyter-leaflet",
      "model_module_version": "^0.16.0",
      "model_name": "LeafletMapStyleModel",
      "state": {
       "_model_module_version": "^0.16.0"
      }
     },
     "822caf91cc744d96bf6cd579f107c7ae": {
      "model_module": "jupyter-leaflet",
      "model_module_version": "^0.16.0",
      "model_name": "LeafletTileLayerModel",
      "state": {
       "_model_module_version": "^0.16.0",
       "_view_module_version": "^0.16.0",
       "attribution": "(C) Stadia Maps, (C) OpenMapTiles (C) OpenStreetMap contributors",
       "max_native_zoom": 18,
       "max_zoom": 20,
       "min_native_zoom": 0,
       "name": "Stadia.AlidadeSmoothDark",
       "options": [
        "attribution",
        "bounds",
        "detect_retina",
        "max_native_zoom",
        "max_zoom",
        "min_native_zoom",
        "min_zoom",
        "no_wrap",
        "tile_size",
        "tms"
       ],
       "url": "https://tiles.stadiamaps.com/tiles/alidade_smooth_dark/{z}/{x}/{y}.png"
      }
     },
     "82c85e209089404cb4edc5e6460da3d7": {
      "model_module": "jupyter-leaflet",
      "model_module_version": "^0.16.0",
      "model_name": "LeafletTileLayerModel",
      "state": {
       "_model_module_version": "^0.16.0",
       "_view_module_version": "^0.16.0",
       "attribution": "Imagery provided by services from the Global Imagery Browse Services (GIBS), operated by the NASA/GSFC/Earth Science Data and Information System (<a href=\"https://earthdata.nasa.gov\">ESDIS</a>) with funding provided by NASA/HQ.",
       "max_native_zoom": 18,
       "max_zoom": 9,
       "min_native_zoom": 0,
       "name": "NASAGIBS.ViirsTrueColorCR",
       "options": [
        "attribution",
        "bounds",
        "detect_retina",
        "max_native_zoom",
        "max_zoom",
        "min_native_zoom",
        "min_zoom",
        "no_wrap",
        "tile_size",
        "tms"
       ],
       "url": "https://gibs.earthdata.nasa.gov/wmts/epsg3857/best/VIIRS_SNPP_CorrectedReflectance_TrueColor/default//GoogleMapsCompatible_Level9/{z}/{y}/{x}.jpg"
      }
     },
     "82cf83adb8c84258be4cb07034ce9c45": {
      "model_module": "@jupyter-widgets/controls",
      "model_module_version": "1.5.0",
      "model_name": "DescriptionStyleModel",
      "state": {
       "description_width": ""
      }
     },
     "83fd3747be1c4dd7887f03e9619d5dc2": {
      "model_module": "jupyter-leaflet",
      "model_module_version": "^0.16.0",
      "model_name": "LeafletTileLayerModel",
      "state": {
       "_model_module_version": "^0.16.0",
       "_view_module_version": "^0.16.0",
       "attribution": "© swisstopo",
       "max_native_zoom": 18,
       "min_native_zoom": 0,
       "name": "SwissFederalGeoportal.NationalMapColor",
       "options": [
        "attribution",
        "bounds",
        "detect_retina",
        "max_native_zoom",
        "max_zoom",
        "min_native_zoom",
        "min_zoom",
        "no_wrap",
        "tile_size",
        "tms"
       ],
       "url": "https://wmts.geo.admin.ch/1.0.0/ch.swisstopo.pixelkarte-farbe/default/current/3857/{z}/{x}/{y}.jpeg"
      }
     },
     "83ff5856fd3e4621b393ee6d1c503340": {
      "model_module": "jupyter-leaflet",
      "model_module_version": "^0.16.0",
      "model_name": "LeafletTileLayerModel",
      "state": {
       "_model_module_version": "^0.16.0",
       "_view_module_version": "^0.16.0",
       "attribution": "",
       "max_native_zoom": 18,
       "min_native_zoom": 0,
       "name": "STAC Layer",
       "options": [
        "attribution",
        "bounds",
        "detect_retina",
        "max_native_zoom",
        "max_zoom",
        "min_native_zoom",
        "min_zoom",
        "no_wrap",
        "tile_size",
        "tms"
       ],
       "url": "https://planetarycomputer.microsoft.com/api/data/v1/item/tiles/WebMercatorQuad/{z}/{x}/{y}@1x?rescale=0%2C12000&collection=landsat-8-c2-l2&item=LC08_L2SP_047027_20201204_02_T1&assets=SR_B2"
      }
     },
     "84499aaf4fbf438391d1a1cd0dd9bafb": {
      "model_module": "@jupyter-widgets/controls",
      "model_module_version": "1.5.0",
      "model_name": "ToggleButtonModel",
      "state": {
       "button_style": "primary",
       "icon": "table",
       "layout": "IPY_MODEL_c7299928221743049729ebdd05b3ebfb",
       "style": "IPY_MODEL_9a1f886d709d4b4592c45c63de4193aa",
       "tooltip": "Open attribute table"
      }
     },
     "8478928f382e41d8b99400aeb8aa8dd5": {
      "model_module": "@jupyter-widgets/controls",
      "model_module_version": "1.5.0",
      "model_name": "DescriptionStyleModel",
      "state": {
       "description_width": ""
      }
     },
     "85e9578f0f744bedbc88ea6571534ee9": {
      "model_module": "jupyter-leaflet",
      "model_module_version": "^0.16.0",
      "model_name": "LeafletTileLayerModel",
      "state": {
       "_model_module_version": "^0.16.0",
       "_view_module_version": "^0.16.0",
       "attribution": "&copy; <a href=\"http://www.gaode.com/\">Gaode.com</a>",
       "max_native_zoom": 18,
       "max_zoom": 19,
       "min_native_zoom": 0,
       "name": "Gaode.Normal",
       "options": [
        "attribution",
        "bounds",
        "detect_retina",
        "max_native_zoom",
        "max_zoom",
        "min_native_zoom",
        "min_zoom",
        "no_wrap",
        "tile_size",
        "tms"
       ],
       "url": "http://webrd01.is.autonavi.com/appmaptile?lang=zh_cn&size=1&scale=1&style=7&x={x}&y={y}&z={z}"
      }
     },
     "85e95b0666534d1eb5144b740fa0b0a9": {
      "model_module": "jupyter-leaflet",
      "model_module_version": "^0.16.0",
      "model_name": "LeafletTileLayerModel",
      "state": {
       "_model_module_version": "^0.16.0",
       "_view_module_version": "^0.16.0",
       "attribution": "Imagery provided by services from the Global Imagery Browse Services (GIBS), operated by the NASA/GSFC/Earth Science Data and Information System (ESDIS) with funding provided by NASA/HQ.",
       "max_native_zoom": 18,
       "max_zoom": 7,
       "min_native_zoom": 0,
       "name": "NASAGIBS.ModisTerraLSTDay",
       "options": [
        "attribution",
        "bounds",
        "detect_retina",
        "max_native_zoom",
        "max_zoom",
        "min_native_zoom",
        "min_zoom",
        "no_wrap",
        "tile_size",
        "tms"
       ],
       "url": "https://map1.vis.earthdata.nasa.gov/wmts-webmerc/MODIS_Terra_Land_Surface_Temp_Day/default//GoogleMapsCompatible_Level7/{z}/{y}/{x}.png"
      }
     },
     "8728a641000446b09a0e5ec8d9161b94": {
      "model_module": "@jupyter-widgets/base",
      "model_module_version": "1.2.0",
      "model_name": "LayoutModel",
      "state": {}
     },
     "880dc0ef81fb4ad4b0ec781efc50c7c6": {
      "model_module": "jupyter-leaflet",
      "model_module_version": "^0.16.0",
      "model_name": "LeafletWMSLayerModel",
      "state": {
       "_model_module_version": "^0.16.0",
       "_view_module_version": "^0.16.0",
       "attribution": "USGS",
       "crs": {
        "custom": false,
        "name": "EPSG3857"
       },
       "format": "image/png",
       "layers": "0",
       "max_native_zoom": 18,
       "min_native_zoom": 0,
       "name": "USGS Hydrography",
       "options": [
        "attribution",
        "bounds",
        "detect_retina",
        "format",
        "layers",
        "max_native_zoom",
        "max_zoom",
        "min_native_zoom",
        "min_zoom",
        "no_wrap",
        "styles",
        "tile_size",
        "tms",
        "transparent",
        "uppercase"
       ],
       "transparent": true,
       "url": "https://basemap.nationalmap.gov/arcgis/services/USGSHydroCached/MapServer/WMSServer?"
      }
     },
     "8848b51c449148de981ed4e7b1c0fdd5": {
      "model_module": "jupyter-leaflet",
      "model_module_version": "^0.16.0",
      "model_name": "LeafletTileLayerModel",
      "state": {
       "_model_module_version": "^0.16.0",
       "_view_module_version": "^0.16.0",
       "attribution": "Justice Map",
       "max_native_zoom": 18,
       "max_zoom": 22,
       "min_native_zoom": 0,
       "name": "JusticeMap.nonWhite",
       "options": [
        "attribution",
        "bounds",
        "detect_retina",
        "max_native_zoom",
        "max_zoom",
        "min_native_zoom",
        "min_zoom",
        "no_wrap",
        "tile_size",
        "tms"
       ],
       "url": "https://www.justicemap.org/tile/county/nonwhite/{z}/{x}/{y}.png"
      }
     },
     "88b0c09c0bbb4145834dba9e248c4b27": {
      "model_module": "@jupyter-widgets/base",
      "model_module_version": "1.2.0",
      "model_name": "LayoutModel",
      "state": {
       "height": "auto",
       "padding": "0px 0px 0px 4px",
       "width": "auto"
      }
     },
     "89a3301be22742f0b0a866e38badef37": {
      "model_module": "@jupyter-widgets/base",
      "model_module_version": "1.2.0",
      "model_name": "LayoutModel",
      "state": {
       "height": "auto",
       "padding": "0px 0px 0px 4px",
       "width": "auto"
      }
     },
     "89bc38a70b2f4382afe530e5117e5f09": {
      "model_module": "@jupyter-widgets/base",
      "model_module_version": "1.2.0",
      "model_name": "LayoutModel",
      "state": {
       "height": "auto",
       "padding": "0px 0px 0px 4px",
       "width": "auto"
      }
     },
     "8b50f3b20e9246ee9c5239bf8db490f8": {
      "model_module": "jupyter-leaflet",
      "model_module_version": "^0.16.0",
      "model_name": "LeafletAttributionControlModel",
      "state": {
       "_model_module_version": "^0.16.0",
       "_view_module_version": "^0.16.0",
       "options": [
        "position",
        "prefix"
       ],
       "position": "bottomright",
       "prefix": "ipyleaflet"
      }
     },
     "8bac2e4b38f24953942b61e3f7f13229": {
      "model_module": "@jupyter-widgets/controls",
      "model_module_version": "1.5.0",
      "model_name": "DescriptionStyleModel",
      "state": {
       "description_width": ""
      }
     },
     "8c549607cfde4a7a8cdfe33ae3833080": {
      "model_module": "@jupyter-widgets/base",
      "model_module_version": "1.2.0",
      "model_name": "LayoutModel",
      "state": {
       "height": "auto",
       "padding": "0px 0px 0px 4px",
       "width": "auto"
      }
     },
     "8c5fc36ab592442e9281b6436b5375a8": {
      "model_module": "@jupyter-widgets/controls",
      "model_module_version": "1.5.0",
      "model_name": "ToggleButtonModel",
      "state": {
       "button_style": "primary",
       "icon": "stack-exchange",
       "layout": "IPY_MODEL_2aa05ed7cbbf416894895171749a3bc1",
       "style": "IPY_MODEL_0ad80fedf697488c848374420e29a24b",
       "tooltip": "Discover STAC Catalog"
      }
     },
     "8ca7752ad9a644b18c2738b4d6a4c67f": {
      "model_module": "@jupyter-widgets/base",
      "model_module_version": "1.2.0",
      "model_name": "LayoutModel",
      "state": {
       "height": "28px",
       "padding": "0px 0px 0px 4px",
       "width": "28px"
      }
     },
     "8cd8ffb90f5441f78c5540b86001b421": {
      "model_module": "@jupyter-widgets/output",
      "model_module_version": "1.0.0",
      "model_name": "OutputModel",
      "state": {
       "layout": "IPY_MODEL_5e5f2385c3d34c9cad69ada2a35c7f77"
      }
     },
     "8d48cac2a3ac4bfb95a7c4f032b9d676": {
      "model_module": "@jupyter-widgets/controls",
      "model_module_version": "1.5.0",
      "model_name": "ToggleButtonModel",
      "state": {
       "button_style": "primary",
       "icon": "search-plus",
       "layout": "IPY_MODEL_755c05c4a6164b60b1bc28ed4b5991e0",
       "style": "IPY_MODEL_8478928f382e41d8b99400aeb8aa8dd5",
       "tooltip": "Search features in GeoJSON layer"
      }
     },
     "8da5f80a919b453e9d98421f7ff951d1": {
      "model_module": "@jupyter-widgets/controls",
      "model_module_version": "1.5.0",
      "model_name": "ToggleButtonModel",
      "state": {
       "button_style": "primary",
       "icon": "question",
       "layout": "IPY_MODEL_c627283b501047408e46d212b11ada78",
       "style": "IPY_MODEL_7778ade398b544d0aedad4e8e39ac125",
       "tooltip": "Get help"
      }
     },
     "8dc443176b8a4b3da728562a7175e9a2": {
      "model_module": "@jupyter-widgets/controls",
      "model_module_version": "1.5.0",
      "model_name": "GridBoxModel",
      "state": {
       "children": [
        "IPY_MODEL_f1adfb62ec314b15a6aabbbe774ea6a2",
        "IPY_MODEL_1f1212cc72414f7ebe8e24246164c554",
        "IPY_MODEL_d5ef6aaac40448ca95e4a3675d7e230e",
        "IPY_MODEL_2d2c851ca73f43b69d257c6bcc2f762e",
        "IPY_MODEL_0b6f01d05ed9474396ad962ae754dd72",
        "IPY_MODEL_f5e3f51edb3e498fa7b0391adff996a8",
        "IPY_MODEL_5a023d4a7eca4a058e28289b534a7b9d",
        "IPY_MODEL_0432afbb856d45b1872109de30af35b8",
        "IPY_MODEL_fa96a18853c34f6d8e4c45746599e29a",
        "IPY_MODEL_4476704eadfb42a381ac0128f0abfeb8",
        "IPY_MODEL_04ea46e59bac41a291cd8c014ba83a73",
        "IPY_MODEL_7ce3fb96af644e6f877ccf269c1ff4c6",
        "IPY_MODEL_4b8867722a0741d9a53bc653cfadc2b0",
        "IPY_MODEL_8d48cac2a3ac4bfb95a7c4f032b9d676",
        "IPY_MODEL_cc7dad2738e8406197c359cdbbdb0561",
        "IPY_MODEL_a6634a707c8849429c2bc75f791909fe",
        "IPY_MODEL_5b0ea9b0c5674f77acf27e4f970d5a5e",
        "IPY_MODEL_6b6e54bae2aa4d52a00c27d16c6a13f1"
       ],
       "layout": "IPY_MODEL_4469a6d757d64d90b4bfb9584c66612e"
      }
     },
     "8e9bf51ca276418da2c5393942439e9f": {
      "model_module": "jupyter-leaflet",
      "model_module_version": "^0.16.0",
      "model_name": "LeafletTileLayerModel",
      "state": {
       "_model_module_version": "^0.16.0",
       "_view_module_version": "^0.16.0",
       "attribution": "(C) OpenStreetMap contributors (C) CARTO",
       "max_native_zoom": 18,
       "max_zoom": 20,
       "min_native_zoom": 0,
       "name": "CartoDB.PositronNoLabels",
       "options": [
        "attribution",
        "bounds",
        "detect_retina",
        "max_native_zoom",
        "max_zoom",
        "min_native_zoom",
        "min_zoom",
        "no_wrap",
        "tile_size",
        "tms"
       ],
       "url": "https://a.basemaps.cartocdn.com/light_nolabels/{z}/{x}/{y}.png"
      }
     },
     "9035c8bf4b91484e9ff905190cfcd4f8": {
      "model_module": "@jupyter-widgets/controls",
      "model_module_version": "1.5.0",
      "model_name": "DescriptionStyleModel",
      "state": {
       "description_width": ""
      }
     },
     "90c2b758482a4848942a153ea3c1934e": {
      "model_module": "jupyter-leaflet",
      "model_module_version": "^0.16.0",
      "model_name": "LeafletTileLayerModel",
      "state": {
       "_model_module_version": "^0.16.0",
       "_view_module_version": "^0.16.0",
       "attribution": "Map tiles by Stamen Design, CC BY 3.0 -- Map data (C) OpenStreetMap contributors",
       "max_native_zoom": 18,
       "max_zoom": 20,
       "min_native_zoom": 0,
       "name": "Stamen.TonerLines",
       "options": [
        "attribution",
        "bounds",
        "detect_retina",
        "max_native_zoom",
        "max_zoom",
        "min_native_zoom",
        "min_zoom",
        "no_wrap",
        "tile_size",
        "tms"
       ],
       "url": "https://stamen-tiles-a.a.ssl.fastly.net/toner-lines/{z}/{x}/{y}.png"
      }
     },
     "90ca3499b47e49eaa885bf451a9fae3d": {
      "model_module": "jupyter-leaflet",
      "model_module_version": "^0.16.0",
      "model_name": "LeafletWMSLayerModel",
      "state": {
       "_model_module_version": "^0.16.0",
       "_view_module_version": "^0.16.0",
       "attribution": "MRLC",
       "crs": {
        "custom": false,
        "name": "EPSG3857"
       },
       "format": "image/png",
       "layers": "NLCD_2016_Land_Cover_L48",
       "max_native_zoom": 18,
       "min_native_zoom": 0,
       "name": "NLCD 2016 CONUS Land Cover",
       "options": [
        "attribution",
        "bounds",
        "detect_retina",
        "format",
        "layers",
        "max_native_zoom",
        "max_zoom",
        "min_native_zoom",
        "min_zoom",
        "no_wrap",
        "styles",
        "tile_size",
        "tms",
        "transparent",
        "uppercase"
       ],
       "transparent": true,
       "url": "https://www.mrlc.gov/geoserver/mrlc_display/NLCD_2016_Land_Cover_L48/wms?"
      }
     },
     "91b8fcad049e48bdb314e95180a4ebe2": {
      "model_module": "jupyter-leaflet",
      "model_module_version": "^0.16.0",
      "model_name": "LeafletMapStyleModel",
      "state": {
       "_model_module_version": "^0.16.0"
      }
     },
     "920bb63d37674fdfa6cb96c4d2eec9c9": {
      "model_module": "jupyter-leaflet",
      "model_module_version": "^0.16.0",
      "model_name": "LeafletWidgetControlModel",
      "state": {
       "_model_module": "jupyter-leaflet",
       "_model_module_version": "^0.16.0",
       "_view_count": null,
       "_view_module": "jupyter-leaflet",
       "_view_module_version": "^0.16.0",
       "options": [
        "position",
        "transparent_bg"
       ],
       "position": "bottomright",
       "widget": "IPY_MODEL_c3fc3a2d40b74764a333a52026264e7b"
      }
     },
     "922dad1941fe4c41baf134f1622bd715": {
      "model_module": "jupyter-leaflet",
      "model_module_version": "^0.16.0",
      "model_name": "LeafletTileLayerModel",
      "state": {
       "_model_module_version": "^0.16.0",
       "_view_module_version": "^0.16.0",
       "attribution": "Justice Map",
       "max_native_zoom": 18,
       "max_zoom": 22,
       "min_native_zoom": 0,
       "name": "JusticeMap.white",
       "options": [
        "attribution",
        "bounds",
        "detect_retina",
        "max_native_zoom",
        "max_zoom",
        "min_native_zoom",
        "min_zoom",
        "no_wrap",
        "tile_size",
        "tms"
       ],
       "url": "https://www.justicemap.org/tile/county/white/{z}/{x}/{y}.png"
      }
     },
     "923789085519462d84f52385fdf0e952": {
      "model_module": "@jupyter-widgets/controls",
      "model_module_version": "1.5.0",
      "model_name": "DescriptionStyleModel",
      "state": {
       "description_width": ""
      }
     },
     "92451589ec5a449890cf23ef38ec6eb6": {
      "model_module": "@jupyter-widgets/base",
      "model_module_version": "1.2.0",
      "model_name": "LayoutModel",
      "state": {
       "height": "auto",
       "padding": "0px 0px 0px 4px",
       "width": "auto"
      }
     },
     "92e7fda5fa2b4c3ba7d7bae43fc015d7": {
      "model_module": "@jupyter-widgets/controls",
      "model_module_version": "1.5.0",
      "model_name": "DescriptionStyleModel",
      "state": {
       "description_width": ""
      }
     },
     "9365fff2eb904507b94ace159c85707e": {
      "model_module": "@jupyter-widgets/controls",
      "model_module_version": "1.5.0",
      "model_name": "ToggleButtonModel",
      "state": {
       "button_style": "primary",
       "icon": "download",
       "layout": "IPY_MODEL_729b261e8d774cc78021bd454148f4df",
       "style": "IPY_MODEL_bd1c25f5666543648efe1d25b81cdcbf",
       "tooltip": "Download OSM data"
      }
     },
     "94c7fef6dd2b48bcbef4f4976db9e6d9": {
      "model_module": "@jupyter-widgets/controls",
      "model_module_version": "1.5.0",
      "model_name": "ToggleButtonModel",
      "state": {
       "button_style": "primary",
       "icon": "download",
       "layout": "IPY_MODEL_ba6a2202c78e4f8d817720ec082f10d5",
       "style": "IPY_MODEL_480be79bc4194166ab9ece5623f0a7fc",
       "tooltip": "Download OSM data"
      }
     },
     "954449e1f2394a65b50a393650db86e0": {
      "model_module": "@jupyter-widgets/controls",
      "model_module_version": "1.5.0",
      "model_name": "DescriptionStyleModel",
      "state": {
       "description_width": ""
      }
     },
     "95ad6fc28cdd4a60971a81c4716f3773": {
      "model_module": "jupyter-leaflet",
      "model_module_version": "^0.16.0",
      "model_name": "LeafletTileLayerModel",
      "state": {
       "_model_module_version": "^0.16.0",
       "_view_module_version": "^0.16.0",
       "attribution": "(C) OpenStreetMap contributors",
       "max_native_zoom": 18,
       "max_zoom": 15,
       "min_native_zoom": 0,
       "name": "HikeBike.HillShading",
       "options": [
        "attribution",
        "bounds",
        "detect_retina",
        "max_native_zoom",
        "max_zoom",
        "min_native_zoom",
        "min_zoom",
        "no_wrap",
        "tile_size",
        "tms"
       ],
       "url": "https://tiles.wmflabs.org/hillshading/{z}/{x}/{y}.png"
      }
     },
     "964e1b284a2240f89c124dbdafaf2365": {
      "model_module": "@jupyter-widgets/controls",
      "model_module_version": "1.5.0",
      "model_name": "DescriptionStyleModel",
      "state": {
       "description_width": ""
      }
     },
     "96da24a11b9a40d69214c3aeb1f030ce": {
      "model_module": "jupyter-leaflet",
      "model_module_version": "^0.16.0",
      "model_name": "LeafletTileLayerModel",
      "state": {
       "_model_module_version": "^0.16.0",
       "_view_module_version": "^0.16.0",
       "attribution": "(C) OpenStreetMap contributors",
       "max_native_zoom": 18,
       "max_zoom": 19,
       "min_native_zoom": 0,
       "name": "HikeBike.HikeBike",
       "options": [
        "attribution",
        "bounds",
        "detect_retina",
        "max_native_zoom",
        "max_zoom",
        "min_native_zoom",
        "min_zoom",
        "no_wrap",
        "tile_size",
        "tms"
       ],
       "url": "https://tiles.wmflabs.org/hikebike/{z}/{x}/{y}.png"
      }
     },
     "97123a36ec3a48159992b878e0eebc10": {
      "model_module": "@jupyter-widgets/base",
      "model_module_version": "1.2.0",
      "model_name": "LayoutModel",
      "state": {
       "height": "auto",
       "padding": "0px 0px 0px 4px",
       "width": "auto"
      }
     },
     "981b99a8565b49a092036a2fb46d22d5": {
      "model_module": "@jupyter-widgets/controls",
      "model_module_version": "1.5.0",
      "model_name": "ToggleButtonModel",
      "state": {
       "icon": "wrench",
       "layout": "IPY_MODEL_8ca7752ad9a644b18c2738b4d6a4c67f",
       "style": "IPY_MODEL_4f3f3f8d38c4422b9e928d2aea8cd1d2",
       "tooltip": "Toolbar"
      }
     },
     "984870911656433b898335e53289f1c3": {
      "model_module": "jupyter-leaflet",
      "model_module_version": "^0.16.0",
      "model_name": "LeafletTileLayerModel",
      "state": {
       "_model_module_version": "^0.16.0",
       "_view_module_version": "^0.16.0",
       "attribution": "&copy; <a href=\"https://www.openstreetmap.org/copyright\">OpenStreetMap</a> contributors",
       "base": true,
       "max_native_zoom": 18,
       "max_zoom": 19,
       "min_native_zoom": 0,
       "min_zoom": 1,
       "name": "OpenStreetMap",
       "options": [
        "attribution",
        "bounds",
        "detect_retina",
        "max_native_zoom",
        "max_zoom",
        "min_native_zoom",
        "min_zoom",
        "no_wrap",
        "tile_size",
        "tms"
       ],
       "url": "https://a.tile.openstreetmap.org/{z}/{x}/{y}.png"
      }
     },
     "98ded48cfb7c408383f41ca5aee4e757": {
      "model_module": "jupyter-leaflet",
      "model_module_version": "^0.16.0",
      "model_name": "LeafletWidgetControlModel",
      "state": {
       "_model_module": "jupyter-leaflet",
       "_model_module_version": "^0.16.0",
       "_view_count": null,
       "_view_module": "jupyter-leaflet",
       "_view_module_version": "^0.16.0",
       "options": [
        "position",
        "transparent_bg"
       ],
       "position": "topright",
       "widget": "IPY_MODEL_7bdc310b96764074b24ba3c917329acf"
      }
     },
     "994f029e52be4af9afb5da5d40dfe2ad": {
      "model_module": "@jupyter-widgets/controls",
      "model_module_version": "1.5.0",
      "model_name": "DescriptionStyleModel",
      "state": {
       "description_width": ""
      }
     },
     "99d91f1ca7d24809b8d0bd17384fa294": {
      "model_module": "jupyter-leaflet",
      "model_module_version": "^0.16.0",
      "model_name": "LeafletTileLayerModel",
      "state": {
       "_model_module_version": "^0.16.0",
       "_view_module_version": "^0.16.0",
       "attribution": "Datenquelle: basemap.at",
       "max_native_zoom": 18,
       "max_zoom": 19,
       "min_native_zoom": 0,
       "name": "BasemapAT.surface",
       "options": [
        "attribution",
        "bounds",
        "detect_retina",
        "max_native_zoom",
        "max_zoom",
        "min_native_zoom",
        "min_zoom",
        "no_wrap",
        "tile_size",
        "tms"
       ],
       "url": "https://maps.wien.gv.at/basemap/bmapoberflaeche/grau/google3857/{z}/{y}/{x}.jpeg"
      }
     },
     "9a1f886d709d4b4592c45c63de4193aa": {
      "model_module": "@jupyter-widgets/controls",
      "model_module_version": "1.5.0",
      "model_name": "DescriptionStyleModel",
      "state": {
       "description_width": ""
      }
     },
     "9aca4b0e9d1d406c8a80296fdf03dc43": {
      "model_module": "@jupyter-widgets/controls",
      "model_module_version": "1.5.0",
      "model_name": "VBoxModel",
      "state": {
       "_view_count": 1,
       "children": [
        "IPY_MODEL_c6918940f8e341fcbda01837981e6927"
       ],
       "layout": "IPY_MODEL_02524fc327c546d889678b4b2db8c06f"
      }
     },
     "9ad16952a04542c7a218185ce8e1f482": {
      "model_module": "@jupyter-widgets/base",
      "model_module_version": "1.2.0",
      "model_name": "LayoutModel",
      "state": {
       "height": "auto",
       "padding": "0px 0px 0px 4px",
       "width": "auto"
      }
     },
     "9b425967cd354d8998a760d161aaeaff": {
      "model_module": "@jupyter-widgets/controls",
      "model_module_version": "1.5.0",
      "model_name": "DescriptionStyleModel",
      "state": {
       "description_width": ""
      }
     },
     "9b42b1dda6824da3a59e3627dee1cfce": {
      "model_module": "jupyter-leaflet",
      "model_module_version": "^0.16.0",
      "model_name": "LeafletTileLayerModel",
      "state": {
       "_model_module_version": "^0.16.0",
       "_view_module_version": "^0.16.0",
       "attribution": "Map tiles by <a href=\"https://labs.strava.com/heatmap\">Strava 2021</a>",
       "max_native_zoom": 18,
       "max_zoom": 15,
       "min_native_zoom": 0,
       "name": "Strava.Ride",
       "options": [
        "attribution",
        "bounds",
        "detect_retina",
        "max_native_zoom",
        "max_zoom",
        "min_native_zoom",
        "min_zoom",
        "no_wrap",
        "tile_size",
        "tms"
       ],
       "url": "https://heatmap-external-a.strava.com/tiles/ride/hot/{z}/{x}/{y}.png"
      }
     },
     "9cd5af8c1cbe4780b7858a2631e55b4d": {
      "model_module": "jupyter-leaflet",
      "model_module_version": "^0.16.0",
      "model_name": "LeafletTileLayerModel",
      "state": {
       "_model_module_version": "^0.16.0",
       "_view_module_version": "^0.16.0",
       "attribution": "Map data: (C) OpenSeaMap contributors",
       "max_native_zoom": 18,
       "max_zoom": 22,
       "min_native_zoom": 0,
       "name": "OpenSeaMap",
       "options": [
        "attribution",
        "bounds",
        "detect_retina",
        "max_native_zoom",
        "max_zoom",
        "min_native_zoom",
        "min_zoom",
        "no_wrap",
        "tile_size",
        "tms"
       ],
       "url": "https://tiles.openseamap.org/seamark/{z}/{x}/{y}.png"
      }
     },
     "9e12fecadf6243c68f5ea4a89df5eaf1": {
      "model_module": "jupyter-leaflet",
      "model_module_version": "^0.16.0",
      "model_name": "LeafletWidgetControlModel",
      "state": {
       "_model_module": "jupyter-leaflet",
       "_model_module_version": "^0.16.0",
       "_view_count": null,
       "_view_module": "jupyter-leaflet",
       "_view_module_version": "^0.16.0",
       "options": [
        "position",
        "transparent_bg"
       ],
       "position": "bottomright",
       "widget": "IPY_MODEL_8cd8ffb90f5441f78c5540b86001b421"
      }
     },
     "9f4f3106c9de4069b5292f9b172e4e16": {
      "model_module": "@jupyter-widgets/controls",
      "model_module_version": "1.5.0",
      "model_name": "HBoxModel",
      "state": {
       "children": [
        "IPY_MODEL_3ad09282687b40c4ba3d66a0030b64dd",
        "IPY_MODEL_af35d3006ea74f88b0ad7c4a8e84d6a6"
       ],
       "layout": "IPY_MODEL_b502269dbd4840da8c485b887d7dd272"
      }
     },
     "9fa68fca89cf4a729bc703f818b371e9": {
      "model_module": "@jupyter-widgets/base",
      "model_module_version": "1.2.0",
      "model_name": "LayoutModel",
      "state": {
       "height": "auto",
       "padding": "0px 0px 0px 4px",
       "width": "auto"
      }
     },
     "a0230161692347fd8094ff77046dc54d": {
      "model_module": "jupyter-leaflet",
      "model_module_version": "^0.16.0",
      "model_name": "LeafletTileLayerModel",
      "state": {
       "_model_module_version": "^0.16.0",
       "_view_module_version": "^0.16.0",
       "attribution": "Tiles (C) Esri -- Esri, DeLorme, NAVTEQ",
       "max_native_zoom": 18,
       "max_zoom": 16,
       "min_native_zoom": 0,
       "name": "Esri.WorldGrayCanvas",
       "options": [
        "attribution",
        "bounds",
        "detect_retina",
        "max_native_zoom",
        "max_zoom",
        "min_native_zoom",
        "min_zoom",
        "no_wrap",
        "tile_size",
        "tms"
       ],
       "url": "https://server.arcgisonline.com/ArcGIS/rest/services/Canvas/World_Light_Gray_Base/MapServer/tile/{z}/{y}/{x}"
      }
     },
     "a07fa89ab399457ba7f98cd257a9e923": {
      "model_module": "@jupyter-widgets/controls",
      "model_module_version": "1.5.0",
      "model_name": "DescriptionStyleModel",
      "state": {
       "description_width": ""
      }
     },
     "a1a0e41e65184d6c8eab909d34e80e5d": {
      "model_module": "jupyter-leaflet",
      "model_module_version": "^0.16.0",
      "model_name": "LeafletMeasureControlModel",
      "state": {
       "_model_module_version": "^0.16.0",
       "_view_module_version": "^0.16.0",
       "options": [
        "active_color",
        "capture_z_index",
        "completed_color",
        "popup_options",
        "position",
        "primary_area_unit",
        "primary_length_unit",
        "secondary_area_unit",
        "secondary_length_unit"
       ],
       "secondary_area_unit": null,
       "secondary_length_unit": null
      }
     },
     "a25f17fae93845f8862e4609098241d7": {
      "model_module": "jupyter-leaflet",
      "model_module_version": "^0.16.0",
      "model_name": "LeafletTileLayerModel",
      "state": {
       "_model_module_version": "^0.16.0",
       "_view_module_version": "^0.16.0",
       "attribution": "(C) OpenStreetMap contributors",
       "max_native_zoom": 18,
       "min_native_zoom": 0,
       "name": "OpenStreetMap.DE",
       "options": [
        "attribution",
        "bounds",
        "detect_retina",
        "max_native_zoom",
        "max_zoom",
        "min_native_zoom",
        "min_zoom",
        "no_wrap",
        "tile_size",
        "tms"
       ],
       "url": "https://a.tile.openstreetmap.de/{z}/{x}/{y}.png"
      }
     },
     "a30448781ebc408ea0651577a88e4006": {
      "model_module": "@jupyter-widgets/base",
      "model_module_version": "1.2.0",
      "model_name": "LayoutModel",
      "state": {
       "height": "auto",
       "padding": "0px 0px 0px 4px",
       "width": "auto"
      }
     },
     "a41539dcd78a44bc993323ff1e628a3f": {
      "model_module": "jupyter-leaflet",
      "model_module_version": "^0.16.0",
      "model_name": "LeafletTileLayerModel",
      "state": {
       "_model_module_version": "^0.16.0",
       "_view_module_version": "^0.16.0",
       "attribution": "![](https://docs.onemap.sg/maps/images/oneMap64-01.png) New OneMap | Map data (C) contributors, Singapore Land Authority",
       "max_native_zoom": 18,
       "min_native_zoom": 0,
       "name": "OneMapSG.Grey",
       "options": [
        "attribution",
        "bounds",
        "detect_retina",
        "max_native_zoom",
        "max_zoom",
        "min_native_zoom",
        "min_zoom",
        "no_wrap",
        "tile_size",
        "tms"
       ],
       "url": "https://maps-a.onemap.sg/v3/Grey/{z}/{x}/{y}.png"
      }
     },
     "a46489f43a04412bb3de3da5e76d5996": {
      "model_module": "ipyevents",
      "model_module_version": "2.0.1",
      "model_name": "EventModel",
      "state": {
       "_supported_key_events": [
        "keydown",
        "keyup"
       ],
       "_supported_mouse_events": [
        "click",
        "auxclick",
        "dblclick",
        "mouseenter",
        "mouseleave",
        "mousedown",
        "mouseup",
        "mousemove",
        "wheel",
        "contextmenu",
        "dragstart",
        "drag",
        "dragend",
        "dragenter",
        "dragover",
        "dragleave",
        "drop"
       ],
       "_supported_touch_events": [
        "touchstart",
        "touchend",
        "touchmove",
        "touchcancel"
       ],
       "_view_module": "@jupyter-widgets/controls",
       "_view_module_version": "1.5.0",
       "source": "IPY_MODEL_ee2254fa32184cbea0f38baf01d41aa8",
       "throttle_or_debounce": "",
       "watched_events": [
        "mouseenter",
        "mouseleave"
       ],
       "xy_coordinate_system": ""
      }
     },
     "a4a69269bd7f41d792c4df8347b3b6e1": {
      "model_module": "jupyter-leaflet",
      "model_module_version": "^0.16.0",
      "model_name": "LeafletDrawControlModel",
      "state": {
       "_model_module_version": "^0.16.0",
       "_view_module_version": "^0.16.0",
       "circle": {
        "shapeOptions": {
         "color": "#3388ff"
        }
       },
       "marker": {
        "shapeOptions": {
         "color": "#3388ff"
        }
       },
       "options": [
        "position"
       ],
       "rectangle": {
        "shapeOptions": {
         "color": "#3388ff"
        }
       }
      }
     },
     "a514fc3306244dee84dc30da5cd683a7": {
      "model_module": "@jupyter-widgets/base",
      "model_module_version": "1.2.0",
      "model_name": "LayoutModel",
      "state": {
       "width": "500px"
      }
     },
     "a556aecfd42647769dd806e2bea3764a": {
      "model_module": "@jupyter-widgets/controls",
      "model_module_version": "1.5.0",
      "model_name": "DescriptionStyleModel",
      "state": {
       "description_width": ""
      }
     },
     "a5f7470bad36482f9cb15012f235a72a": {
      "model_module": "@jupyter-widgets/controls",
      "model_module_version": "1.5.0",
      "model_name": "ToggleButtonModel",
      "state": {
       "button_style": "primary",
       "icon": "address-book",
       "layout": "IPY_MODEL_b8b925cb4e0744c1aba816450cbdb03c",
       "style": "IPY_MODEL_f42e0a01b38f41ec9f879fa5507b83bb",
       "tooltip": "Get US Census data"
      }
     },
     "a6634a707c8849429c2bc75f791909fe": {
      "model_module": "@jupyter-widgets/controls",
      "model_module_version": "1.5.0",
      "model_name": "ToggleButtonModel",
      "state": {
       "button_style": "primary",
       "icon": "pencil-square-o",
       "layout": "IPY_MODEL_9ad16952a04542c7a218185ce8e1f482",
       "style": "IPY_MODEL_c37d1c14a0274d15aa2c2d89b1bfec8f",
       "tooltip": "Create vector data"
      }
     },
     "a68bdac2cbfa4525884396ed3cb5c655": {
      "model_module": "ipyevents",
      "model_module_version": "2.0.1",
      "model_name": "EventModel",
      "state": {
       "_supported_key_events": [
        "keydown",
        "keyup"
       ],
       "_supported_mouse_events": [
        "click",
        "auxclick",
        "dblclick",
        "mouseenter",
        "mouseleave",
        "mousedown",
        "mouseup",
        "mousemove",
        "wheel",
        "contextmenu",
        "dragstart",
        "drag",
        "dragend",
        "dragenter",
        "dragover",
        "dragleave",
        "drop"
       ],
       "_supported_touch_events": [
        "touchstart",
        "touchend",
        "touchmove",
        "touchcancel"
       ],
       "_view_module": "@jupyter-widgets/controls",
       "_view_module_version": "1.5.0",
       "source": "IPY_MODEL_68ef693726314ec4a80cf5325064d6d9",
       "throttle_or_debounce": "",
       "watched_events": [
        "mouseenter",
        "mouseleave"
       ],
       "xy_coordinate_system": ""
      }
     },
     "a6b95fbc78d24a85a0f1bcf4bdffbda3": {
      "model_module": "jupyter-leaflet",
      "model_module_version": "^0.16.0",
      "model_name": "LeafletTileLayerModel",
      "state": {
       "_model_module_version": "^0.16.0",
       "_view_module_version": "^0.16.0",
       "attribution": "Datenquelle: basemap.at",
       "max_native_zoom": 18,
       "max_zoom": 19,
       "min_native_zoom": 0,
       "name": "BasemapAT.grau",
       "options": [
        "attribution",
        "bounds",
        "detect_retina",
        "max_native_zoom",
        "max_zoom",
        "min_native_zoom",
        "min_zoom",
        "no_wrap",
        "tile_size",
        "tms"
       ],
       "url": "https://maps.wien.gv.at/basemap/bmapgrau/normal/google3857/{z}/{y}/{x}.png"
      }
     },
     "a6efa8a77d5743cd9d48eefaa072882e": {
      "model_module": "@jupyter-widgets/controls",
      "model_module_version": "1.5.0",
      "model_name": "ToggleButtonModel",
      "state": {
       "icon": "server",
       "layout": "IPY_MODEL_43970779d1ad437ab56e90e8275b8d3b",
       "style": "IPY_MODEL_9b425967cd354d8998a760d161aaeaff",
       "tooltip": "Layers"
      }
     },
     "a810f9e2ad0845de87935674c3e3f797": {
      "model_module": "jupyter-leaflet",
      "model_module_version": "^0.16.0",
      "model_name": "LeafletDrawControlModel",
      "state": {
       "_model_module_version": "^0.16.0",
       "_view_module_version": "^0.16.0",
       "circle": {
        "shapeOptions": {
         "color": "#3388ff"
        }
       },
       "marker": {
        "shapeOptions": {
         "color": "#3388ff"
        }
       },
       "options": [
        "position"
       ],
       "rectangle": {
        "shapeOptions": {
         "color": "#3388ff"
        }
       }
      }
     },
     "a81811a959714e38a9b2d8675a10d598": {
      "model_module": "@jupyter-widgets/controls",
      "model_module_version": "1.5.0",
      "model_name": "DescriptionStyleModel",
      "state": {
       "description_width": ""
      }
     },
     "a8a619ced30040cfb5c49883e8f4baca": {
      "model_module": "jupyter-leaflet",
      "model_module_version": "^0.16.0",
      "model_name": "LeafletTileLayerModel",
      "state": {
       "_model_module_version": "^0.16.0",
       "_view_module_version": "^0.16.0",
       "attribution": "&copy; <a href=\"https://www.openstreetmap.org/copyright\">OpenStreetMap</a> contributors",
       "base": true,
       "max_native_zoom": 18,
       "max_zoom": 19,
       "min_native_zoom": 0,
       "min_zoom": 1,
       "name": "OpenStreetMap",
       "options": [
        "attribution",
        "bounds",
        "detect_retina",
        "max_native_zoom",
        "max_zoom",
        "min_native_zoom",
        "min_zoom",
        "no_wrap",
        "tile_size",
        "tms"
       ],
       "url": "https://a.tile.openstreetmap.org/{z}/{x}/{y}.png"
      }
     },
     "a99d4d13ac6845e4843e091fd5c39acb": {
      "model_module": "@jupyter-widgets/controls",
      "model_module_version": "1.5.0",
      "model_name": "GridBoxModel",
      "state": {
       "children": [
        "IPY_MODEL_cfffc15759b74782a3e3c58a3accb4b3",
        "IPY_MODEL_569b30359fcb4cffbcd70032d4a37bbe",
        "IPY_MODEL_d3a7ff8b3f034cb082f5f6938559e19c",
        "IPY_MODEL_b8e125ebf23e4ea2a17caed0c4ee8e81",
        "IPY_MODEL_7e8d4ac6208042b1ad68e0f22ccbc3ce",
        "IPY_MODEL_1e6b3d7f95444af6bd6ebb38d5a9d8a7",
        "IPY_MODEL_d0b26a945ea34b5b84057be499693602",
        "IPY_MODEL_f7fddb1484de4a16858a71ad756adf86",
        "IPY_MODEL_a5f7470bad36482f9cb15012f235a72a",
        "IPY_MODEL_e510ee8e8a72416098e8f74fdf4044e3",
        "IPY_MODEL_fa7e6ce56b9a4d93a43cde697acbbb2d",
        "IPY_MODEL_9365fff2eb904507b94ace159c85707e",
        "IPY_MODEL_e033746b9acf418a9027756c27ad8c7f",
        "IPY_MODEL_0d170f1ccff44177b8964753886b4c4f",
        "IPY_MODEL_84499aaf4fbf438391d1a1cd0dd9bafb",
        "IPY_MODEL_cd1e964184394062af87e0043905bd76",
        "IPY_MODEL_6ed36b4e467e4e4abd1be1e8927021e8",
        "IPY_MODEL_4e44d96d554741809cf80e8c95938311"
       ],
       "layout": "IPY_MODEL_deaf881338d34da8a9dad9e4389321ec"
      }
     },
     "aa57a3adc7b3437ea493aac3bdeb6043": {
      "model_module": "@jupyter-widgets/controls",
      "model_module_version": "1.5.0",
      "model_name": "DescriptionStyleModel",
      "state": {
       "description_width": ""
      }
     },
     "aaba21f0792e46e0939981700a7c82ef": {
      "model_module": "@jupyter-widgets/controls",
      "model_module_version": "1.5.0",
      "model_name": "DescriptionStyleModel",
      "state": {
       "description_width": ""
      }
     },
     "aac030663b234df59ab7534dfe6718fe": {
      "model_module": "jupyter-leaflet",
      "model_module_version": "^0.16.0",
      "model_name": "LeafletWMSLayerModel",
      "state": {
       "_model_module_version": "^0.16.0",
       "_view_module_version": "^0.16.0",
       "attribution": "MRLC",
       "crs": {
        "custom": false,
        "name": "EPSG3857"
       },
       "format": "image/png",
       "layers": "NLCD_2004_Land_Cover_L48",
       "max_native_zoom": 18,
       "min_native_zoom": 0,
       "name": "NLCD 2004 CONUS Land Cover",
       "options": [
        "attribution",
        "bounds",
        "detect_retina",
        "format",
        "layers",
        "max_native_zoom",
        "max_zoom",
        "min_native_zoom",
        "min_zoom",
        "no_wrap",
        "styles",
        "tile_size",
        "tms",
        "transparent",
        "uppercase"
       ],
       "transparent": true,
       "url": "https://www.mrlc.gov/geoserver/mrlc_display/NLCD_2004_Land_Cover_L48/wms?"
      }
     },
     "ab7a0de1a5cc43e3930aac873e37c33e": {
      "model_module": "jupyter-leaflet",
      "model_module_version": "^0.16.0",
      "model_name": "LeafletTileLayerModel",
      "state": {
       "_model_module_version": "^0.16.0",
       "_view_module_version": "^0.16.0",
       "attribution": "Justice Map",
       "max_native_zoom": 18,
       "max_zoom": 22,
       "min_native_zoom": 0,
       "name": "JusticeMap.plurality",
       "options": [
        "attribution",
        "bounds",
        "detect_retina",
        "max_native_zoom",
        "max_zoom",
        "min_native_zoom",
        "min_zoom",
        "no_wrap",
        "tile_size",
        "tms"
       ],
       "url": "https://www.justicemap.org/tile/county/plural/{z}/{x}/{y}.png"
      }
     },
     "ae05105148be4ff1bfde740c792b1c89": {
      "model_module": "@jupyter-widgets/base",
      "model_module_version": "1.2.0",
      "model_name": "LayoutModel",
      "state": {
       "height": "auto",
       "padding": "0px 0px 0px 4px",
       "width": "auto"
      }
     },
     "aef733c9ebd04d4c9896c09d5ea84913": {
      "model_module": "jupyter-leaflet",
      "model_module_version": "^0.16.0",
      "model_name": "LeafletMeasureControlModel",
      "state": {
       "_model_module_version": "^0.16.0",
       "_view_module_version": "^0.16.0",
       "options": [
        "active_color",
        "capture_z_index",
        "completed_color",
        "popup_options",
        "position",
        "primary_area_unit",
        "primary_length_unit",
        "secondary_area_unit",
        "secondary_length_unit"
       ],
       "secondary_area_unit": null,
       "secondary_length_unit": null
      }
     },
     "af20801602e9422ebda7a7c48a2ddab4": {
      "model_module": "jupyter-leaflet",
      "model_module_version": "^0.16.0",
      "model_name": "LeafletFullScreenControlModel",
      "state": {
       "_model_module_version": "^0.16.0",
       "_view_module_version": "^0.16.0",
       "options": [
        "position"
       ]
      }
     },
     "af35d3006ea74f88b0ad7c4a8e84d6a6": {
      "model_module": "@jupyter-widgets/controls",
      "model_module_version": "1.5.0",
      "model_name": "ToggleButtonModel",
      "state": {
       "icon": "wrench",
       "layout": "IPY_MODEL_678e7dbd1d6545abae9c81091922286b",
       "style": "IPY_MODEL_38698b2216ed47ccb236efbf59430771",
       "tooltip": "Toolbar"
      }
     },
     "b1b8c4c7cfc641ff8998037d47ac7888": {
      "model_module": "@jupyter-widgets/base",
      "model_module_version": "1.2.0",
      "model_name": "LayoutModel",
      "state": {}
     },
     "b20b3a310bdc493781755217e0cf7297": {
      "model_module": "@jupyter-widgets/base",
      "model_module_version": "1.2.0",
      "model_name": "LayoutModel",
      "state": {
       "height": "auto",
       "padding": "0px 0px 0px 4px",
       "width": "auto"
      }
     },
     "b2577839ac674375a7ed23784d10dda9": {
      "model_module": "jupyter-leaflet",
      "model_module_version": "^0.16.0",
      "model_name": "LeafletTileLayerModel",
      "state": {
       "_model_module_version": "^0.16.0",
       "_view_module_version": "^0.16.0",
       "attribution": "Imagery provided by services from the Global Imagery Browse Services (GIBS), operated by the NASA/GSFC/Earth Science Data and Information System (<a href=\"https://earthdata.nasa.gov\">ESDIS</a>) with funding provided by NASA/HQ.",
       "max_native_zoom": 18,
       "max_zoom": 8,
       "min_native_zoom": 0,
       "name": "NASAGIBS.BlueMarble",
       "options": [
        "attribution",
        "bounds",
        "detect_retina",
        "max_native_zoom",
        "max_zoom",
        "min_native_zoom",
        "min_zoom",
        "no_wrap",
        "tile_size",
        "tms"
       ],
       "url": "https://gibs.earthdata.nasa.gov/wmts/epsg3857/best/BlueMarble_NextGeneration/default/EPSG3857_500m/{z}/{y}/{x}.jpeg"
      }
     },
     "b322a21297084ba2bc6f52655698e006": {
      "model_module": "@jupyter-widgets/controls",
      "model_module_version": "1.5.0",
      "model_name": "DescriptionStyleModel",
      "state": {
       "description_width": ""
      }
     },
     "b3593abdfa1d417ab43a76dad270832d": {
      "model_module": "@jupyter-widgets/controls",
      "model_module_version": "1.5.0",
      "model_name": "DescriptionStyleModel",
      "state": {
       "description_width": ""
      }
     },
     "b4609d4ea325473fb3e72a4de4657d8b": {
      "model_module": "jupyter-leaflet",
      "model_module_version": "^0.16.0",
      "model_name": "LeafletTileLayerModel",
      "state": {
       "_model_module_version": "^0.16.0",
       "_view_module_version": "^0.16.0",
       "attribution": "Map data: (C) OpenStreetMap contributors & ODbL, (C) www.opensnowmap.org CC-BY-SA",
       "max_native_zoom": 18,
       "min_native_zoom": 0,
       "name": "OpenSnowMap.pistes",
       "options": [
        "attribution",
        "bounds",
        "detect_retina",
        "max_native_zoom",
        "max_zoom",
        "min_native_zoom",
        "min_zoom",
        "no_wrap",
        "tile_size",
        "tms"
       ],
       "url": "https://tiles.opensnowmap.org/pistes/{z}/{x}/{y}.png"
      }
     },
     "b502269dbd4840da8c485b887d7dd272": {
      "model_module": "@jupyter-widgets/base",
      "model_module_version": "1.2.0",
      "model_name": "LayoutModel",
      "state": {}
     },
     "b51459a7e19344c887cee49280764126": {
      "model_module": "jupyter-leaflet",
      "model_module_version": "^0.16.0",
      "model_name": "LeafletTileLayerModel",
      "state": {
       "_model_module_version": "^0.16.0",
       "_view_module_version": "^0.16.0",
       "attribution": "(C) OpenStreetMap contributors",
       "max_native_zoom": 18,
       "min_native_zoom": 0,
       "name": "OpenStreetMap.CH",
       "options": [
        "attribution",
        "bounds",
        "detect_retina",
        "max_native_zoom",
        "max_zoom",
        "min_native_zoom",
        "min_zoom",
        "no_wrap",
        "tile_size",
        "tms"
       ],
       "url": "https://tile.osm.ch/switzerland/{z}/{x}/{y}.png"
      }
     },
     "b5915a89374c4c2398db1b4c49f5b9bc": {
      "model_module": "@jupyter-widgets/controls",
      "model_module_version": "1.5.0",
      "model_name": "DescriptionStyleModel",
      "state": {
       "description_width": ""
      }
     },
     "b59fbb9cf17448bbbd6e384e912ac0b0": {
      "model_module": "@jupyter-widgets/base",
      "model_module_version": "1.2.0",
      "model_name": "LayoutModel",
      "state": {
       "grid_gap": "1px 1px",
       "grid_template_columns": "32px 32px 32px ",
       "grid_template_rows": "32px 32px 32px 32px 32px 32px ",
       "padding": "5px",
       "width": "109px"
      }
     },
     "b7b5c6e69e664c119872981966fa8ecd": {
      "model_module": "jupyter-leaflet",
      "model_module_version": "^0.16.0",
      "model_name": "LeafletTileLayerModel",
      "state": {
       "_model_module_version": "^0.16.0",
       "_view_module_version": "^0.16.0",
       "attribution": "Map data: (C) OpenStreetMap contributors | Map style: (C) OpenRailwayMap (CC-BY-SA)",
       "max_native_zoom": 18,
       "max_zoom": 19,
       "min_native_zoom": 0,
       "name": "OpenRailwayMap",
       "options": [
        "attribution",
        "bounds",
        "detect_retina",
        "max_native_zoom",
        "max_zoom",
        "min_native_zoom",
        "min_zoom",
        "no_wrap",
        "tile_size",
        "tms"
       ],
       "url": "https://a.tiles.openrailwaymap.org/standard/{z}/{x}/{y}.png"
      }
     },
     "b8b925cb4e0744c1aba816450cbdb03c": {
      "model_module": "@jupyter-widgets/base",
      "model_module_version": "1.2.0",
      "model_name": "LayoutModel",
      "state": {
       "height": "auto",
       "padding": "0px 0px 0px 4px",
       "width": "auto"
      }
     },
     "b8e125ebf23e4ea2a17caed0c4ee8e81": {
      "model_module": "@jupyter-widgets/controls",
      "model_module_version": "1.5.0",
      "model_name": "ToggleButtonModel",
      "state": {
       "button_style": "primary",
       "icon": "folder-open",
       "layout": "IPY_MODEL_ff2734e14f384dc694cb9d41fcd8a92a",
       "style": "IPY_MODEL_42b44b4c58c94acca05fac2764d1e23f",
       "tooltip": "Open local vector/raster data"
      }
     },
     "b99870844bbf419093a7bab2ef1a134c": {
      "model_module": "jupyter-leaflet",
      "model_module_version": "^0.16.0",
      "model_name": "LeafletTileLayerModel",
      "state": {
       "_model_module_version": "^0.16.0",
       "_view_module_version": "^0.16.0",
       "attribution": "(C) OpenStreetMap contributors",
       "max_native_zoom": 18,
       "min_native_zoom": 0,
       "name": "OpenStreetMap.BlackAndWhite",
       "options": [
        "attribution",
        "bounds",
        "detect_retina",
        "max_native_zoom",
        "max_zoom",
        "min_native_zoom",
        "min_zoom",
        "no_wrap",
        "tile_size",
        "tms"
       ],
       "url": "http://a.tiles.wmflabs.org/bw-mapnik/{z}/{x}/{y}.png"
      }
     },
     "ba6a2202c78e4f8d817720ec082f10d5": {
      "model_module": "@jupyter-widgets/base",
      "model_module_version": "1.2.0",
      "model_name": "LayoutModel",
      "state": {
       "height": "auto",
       "padding": "0px 0px 0px 4px",
       "width": "auto"
      }
     },
     "bb10e22df5024f1b8eb409f7e6f7e568": {
      "model_module": "jupyter-leaflet",
      "model_module_version": "^0.16.0",
      "model_name": "LeafletTileLayerModel",
      "state": {
       "_model_module_version": "^0.16.0",
       "_view_module_version": "^0.16.0",
       "attribution": "Imagery provided by NOAA National Centers for Environmental Information (NCEI); International Bathymetric Chart of the Southern Ocean (IBCSO); General Bathymetric Chart of the Oceans (GEBCO).",
       "max_native_zoom": 18,
       "max_zoom": 9,
       "min_native_zoom": 0,
       "name": "Esri.AntarcticBasemap",
       "options": [
        "attribution",
        "bounds",
        "detect_retina",
        "max_native_zoom",
        "max_zoom",
        "min_native_zoom",
        "min_zoom",
        "no_wrap",
        "tile_size",
        "tms"
       ],
       "url": "https://tiles.arcgis.com/tiles/C8EMgrsFcRFL6LrL/arcgis/rest/services/Antarctic_Basemap/MapServer/tile/{z}/{y}/{x}"
      }
     },
     "bb2a623226674681976a4334e80e80f2": {
      "model_module": "@jupyter-widgets/controls",
      "model_module_version": "1.5.0",
      "model_name": "DescriptionStyleModel",
      "state": {
       "description_width": ""
      }
     },
     "bb594abd0e434ab1a1d0d9634b8cca10": {
      "model_module": "jupyter-leaflet",
      "model_module_version": "^0.16.0",
      "model_name": "LeafletTileLayerModel",
      "state": {
       "_model_module_version": "^0.16.0",
       "_view_module_version": "^0.16.0",
       "attribution": "Map data: (C) OpenStreetMap contributors | Map style: (C) OpenFireMap (CC-BY-SA)",
       "max_native_zoom": 18,
       "max_zoom": 19,
       "min_native_zoom": 0,
       "name": "OpenFireMap",
       "options": [
        "attribution",
        "bounds",
        "detect_retina",
        "max_native_zoom",
        "max_zoom",
        "min_native_zoom",
        "min_zoom",
        "no_wrap",
        "tile_size",
        "tms"
       ],
       "url": "http://openfiremap.org/hytiles/{z}/{x}/{y}.png"
      }
     },
     "bb687cba3185441aa2394d340929cffe": {
      "model_module": "@jupyter-widgets/base",
      "model_module_version": "1.2.0",
      "model_name": "LayoutModel",
      "state": {
       "height": "600px"
      }
     },
     "bbb72af459f546c7acc64b987c4335b4": {
      "model_module": "jupyter-leaflet",
      "model_module_version": "^0.16.0",
      "model_name": "LeafletTileLayerModel",
      "state": {
       "_model_module_version": "^0.16.0",
       "_view_module_version": "^0.16.0",
       "attribution": "Justice Map",
       "max_native_zoom": 18,
       "max_zoom": 22,
       "min_native_zoom": 0,
       "name": "JusticeMap.hispanic",
       "options": [
        "attribution",
        "bounds",
        "detect_retina",
        "max_native_zoom",
        "max_zoom",
        "min_native_zoom",
        "min_zoom",
        "no_wrap",
        "tile_size",
        "tms"
       ],
       "url": "https://www.justicemap.org/tile/county/hispanic/{z}/{x}/{y}.png"
      }
     },
     "bbd757f60d1047e5b48b06889bb096af": {
      "model_module": "@jupyter-widgets/base",
      "model_module_version": "1.2.0",
      "model_name": "LayoutModel",
      "state": {
       "height": "28px",
       "padding": "0px 0px 0px 4px",
       "width": "28px"
      }
     },
     "bc00e9278849484b89665f7530c9bb6a": {
      "model_module": "jupyter-leaflet",
      "model_module_version": "^0.16.0",
      "model_name": "LeafletMapStyleModel",
      "state": {
       "_model_module_version": "^0.16.0"
      }
     },
     "bc654d6b2e6f422c8c523b6dbd44e18f": {
      "model_module": "@jupyter-widgets/base",
      "model_module_version": "1.2.0",
      "model_name": "LayoutModel",
      "state": {
       "height": "auto",
       "padding": "0px 0px 0px 4px",
       "width": "auto"
      }
     },
     "bd1c25f5666543648efe1d25b81cdcbf": {
      "model_module": "@jupyter-widgets/controls",
      "model_module_version": "1.5.0",
      "model_name": "DescriptionStyleModel",
      "state": {
       "description_width": ""
      }
     },
     "bd45a22e93d643dda6548de005628020": {
      "model_module": "jupyter-leaflet",
      "model_module_version": "^0.16.0",
      "model_name": "LeafletTileLayerModel",
      "state": {
       "_model_module_version": "^0.16.0",
       "_view_module_version": "^0.16.0",
       "attribution": "Map tiles by Stamen Design, CC BY 3.0 -- Map data (C) OpenStreetMap contributors",
       "max_native_zoom": 18,
       "max_zoom": 20,
       "min_native_zoom": 0,
       "name": "Stamen.TonerHybrid",
       "options": [
        "attribution",
        "bounds",
        "detect_retina",
        "max_native_zoom",
        "max_zoom",
        "min_native_zoom",
        "min_zoom",
        "no_wrap",
        "tile_size",
        "tms"
       ],
       "url": "https://stamen-tiles-a.a.ssl.fastly.net/toner-hybrid/{z}/{x}/{y}.png"
      }
     },
     "bdc8d9a8626d4e76866a5fa4ab824899": {
      "model_module": "@jupyter-widgets/controls",
      "model_module_version": "1.5.0",
      "model_name": "GridBoxModel",
      "state": {
       "children": [
        "IPY_MODEL_d8fd5092d4774485938ede480171c407",
        "IPY_MODEL_ece19956ea9845c69616cbcb374b9954",
        "IPY_MODEL_6339d181d1c643e58e0c638f4e8bb691",
        "IPY_MODEL_c5589be15d4248468c00b0bf5e91ce78",
        "IPY_MODEL_6cef10fd704349d69d8721866697a803",
        "IPY_MODEL_650ef23a0ed8468a9e76f2807bab878c",
        "IPY_MODEL_e967e363fb09458ca44fa13dd409d457",
        "IPY_MODEL_c1a4fb059a6846daba9467ebbe1e0d42",
        "IPY_MODEL_7c21bd10e6754fedb9ac5e7e21c1f6fd",
        "IPY_MODEL_c022960507274c5a80202d4e39b1b6ac",
        "IPY_MODEL_36d06e34630e4d2399f2ecd4c93b71a0",
        "IPY_MODEL_94c7fef6dd2b48bcbef4f4976db9e6d9",
        "IPY_MODEL_c902032578a34c79b3563d808753ff52",
        "IPY_MODEL_d7c308a1e3d94699ad78a267fffaeed1",
        "IPY_MODEL_12acaad2ec0c4d61a8386f04863373cc",
        "IPY_MODEL_e71fb2a0c9804926b3423daba4bfd9c6",
        "IPY_MODEL_cf5fbddfecad4c859cf328edbc3f6882",
        "IPY_MODEL_8da5f80a919b453e9d98421f7ff951d1"
       ],
       "layout": "IPY_MODEL_b59fbb9cf17448bbbd6e384e912ac0b0"
      }
     },
     "bf7bef5b4a2b44f0ae55efcd4a93a727": {
      "model_module": "@jupyter-widgets/base",
      "model_module_version": "1.2.0",
      "model_name": "LayoutModel",
      "state": {
       "height": "auto",
       "padding": "0px 0px 0px 4px",
       "width": "auto"
      }
     },
     "bff445d2be414df39251bd1411051f4d": {
      "model_module": "jupyter-leaflet",
      "model_module_version": "^0.16.0",
      "model_name": "LeafletFullScreenControlModel",
      "state": {
       "_model_module_version": "^0.16.0",
       "_view_module_version": "^0.16.0",
       "options": [
        "position"
       ]
      }
     },
     "c022960507274c5a80202d4e39b1b6ac": {
      "model_module": "@jupyter-widgets/controls",
      "model_module_version": "1.5.0",
      "model_name": "ToggleButtonModel",
      "state": {
       "button_style": "primary",
       "icon": "info",
       "layout": "IPY_MODEL_68107edd2d9a445db66dde9c44da23ad",
       "style": "IPY_MODEL_1bf451e10dcd415b910b7889f6496080",
       "tooltip": "Get COG/STAC pixel value"
      }
     },
     "c06715566f40460ba2947383559a46ea": {
      "model_module": "@jupyter-widgets/output",
      "model_module_version": "1.0.0",
      "model_name": "OutputModel",
      "state": {
       "layout": "IPY_MODEL_f316a939c75e49b6897e1a2dbff28c9e"
      }
     },
     "c1a4fb059a6846daba9467ebbe1e0d42": {
      "model_module": "@jupyter-widgets/controls",
      "model_module_version": "1.5.0",
      "model_name": "ToggleButtonModel",
      "state": {
       "button_style": "primary",
       "icon": "camera",
       "layout": "IPY_MODEL_4db2da3e2f174349929ee265e3d6da0f",
       "style": "IPY_MODEL_1e93e45cd22c4dfda6f03576f240c273",
       "tooltip": "Save map as HTML or image"
      }
     },
     "c1c99c7b946b4839aa7a5b44c9438065": {
      "model_module": "@jupyter-widgets/controls",
      "model_module_version": "1.5.0",
      "model_name": "DescriptionStyleModel",
      "state": {
       "description_width": ""
      }
     },
     "c26616d019504b10a9a24f8683300f74": {
      "model_module": "jupyter-leaflet",
      "model_module_version": "^0.16.0",
      "model_name": "LeafletTileLayerModel",
      "state": {
       "_model_module_version": "^0.16.0",
       "_view_module_version": "^0.16.0",
       "attribution": "![](https://docs.onemap.sg/maps/images/oneMap64-01.png) New OneMap | Map data (C) contributors, Singapore Land Authority",
       "max_native_zoom": 18,
       "min_native_zoom": 0,
       "name": "OneMapSG.Original",
       "options": [
        "attribution",
        "bounds",
        "detect_retina",
        "max_native_zoom",
        "max_zoom",
        "min_native_zoom",
        "min_zoom",
        "no_wrap",
        "tile_size",
        "tms"
       ],
       "url": "https://maps-a.onemap.sg/v3/Original/{z}/{x}/{y}.png"
      }
     },
     "c2f950a0571e4077b3a192c0efe7d02b": {
      "model_module": "@jupyter-widgets/controls",
      "model_module_version": "1.5.0",
      "model_name": "ToggleButtonModel",
      "state": {
       "button_style": "primary",
       "icon": "picture-o",
       "layout": "IPY_MODEL_dbd4afcc2de04e26ab8314cdd8aab009",
       "style": "IPY_MODEL_26a444d4cc3341eaba85078cf91c9846",
       "tooltip": "Open COG/STAC dataset"
      }
     },
     "c303d1e69ba94286869b68acb9be6ebf": {
      "model_module": "jupyter-leaflet",
      "model_module_version": "^0.16.0",
      "model_name": "LeafletDrawControlModel",
      "state": {
       "_model_module_version": "^0.16.0",
       "_view_module_version": "^0.16.0",
       "circle": {
        "shapeOptions": {
         "color": "#3388ff"
        }
       },
       "marker": {
        "shapeOptions": {
         "color": "#3388ff"
        }
       },
       "options": [
        "position"
       ],
       "rectangle": {
        "shapeOptions": {
         "color": "#3388ff"
        }
       }
      }
     },
     "c37d1c14a0274d15aa2c2d89b1bfec8f": {
      "model_module": "@jupyter-widgets/controls",
      "model_module_version": "1.5.0",
      "model_name": "DescriptionStyleModel",
      "state": {
       "description_width": ""
      }
     },
     "c3fc3a2d40b74764a333a52026264e7b": {
      "model_module": "@jupyter-widgets/output",
      "model_module_version": "1.0.0",
      "model_name": "OutputModel",
      "state": {
       "layout": "IPY_MODEL_b1b8c4c7cfc641ff8998037d47ac7888"
      }
     },
     "c4b01070710a4e81a16e8ad1001195de": {
      "model_module": "jupyter-leaflet",
      "model_module_version": "^0.16.0",
      "model_name": "LeafletFullScreenControlModel",
      "state": {
       "_model_module_version": "^0.16.0",
       "_view_module_version": "^0.16.0",
       "options": [
        "position"
       ]
      }
     },
     "c548f2f0e7cb423f9cb0fe7ead410a7a": {
      "model_module": "jupyter-leaflet",
      "model_module_version": "^0.16.0",
      "model_name": "LeafletTileLayerModel",
      "state": {
       "_model_module_version": "^0.16.0",
       "_view_module_version": "^0.16.0",
       "attribution": "Imagery provided by services from the Global Imagery Browse Services (GIBS), operated by the NASA/GSFC/Earth Science Data and Information System (ESDIS) with funding provided by NASA/HQ.",
       "max_native_zoom": 18,
       "max_zoom": 9,
       "min_native_zoom": 0,
       "name": "NASAGIBS.ModisTerraTrueColorCR",
       "options": [
        "attribution",
        "bounds",
        "detect_retina",
        "max_native_zoom",
        "max_zoom",
        "min_native_zoom",
        "min_zoom",
        "no_wrap",
        "tile_size",
        "tms"
       ],
       "url": "https://map1.vis.earthdata.nasa.gov/wmts-webmerc/MODIS_Terra_CorrectedReflectance_TrueColor/default//GoogleMapsCompatible_Level9/{z}/{y}/{x}.jpg"
      }
     },
     "c5589be15d4248468c00b0bf5e91ce78": {
      "model_module": "@jupyter-widgets/controls",
      "model_module_version": "1.5.0",
      "model_name": "ToggleButtonModel",
      "state": {
       "button_style": "primary",
       "icon": "folder-open",
       "layout": "IPY_MODEL_ae05105148be4ff1bfde740c792b1c89",
       "style": "IPY_MODEL_0d32b5ed46d24f9381c9bc256bdcae05",
       "tooltip": "Open local vector/raster data"
      }
     },
     "c627283b501047408e46d212b11ada78": {
      "model_module": "@jupyter-widgets/base",
      "model_module_version": "1.2.0",
      "model_name": "LayoutModel",
      "state": {
       "height": "auto",
       "padding": "0px 0px 0px 4px",
       "width": "auto"
      }
     },
     "c6918940f8e341fcbda01837981e6927": {
      "model_module": "@jupyter-widgets/controls",
      "model_module_version": "1.5.0",
      "model_name": "ToggleButtonModel",
      "state": {
       "icon": "wrench",
       "layout": "IPY_MODEL_0c961b44e3e74d82843be775f34a726a",
       "style": "IPY_MODEL_923789085519462d84f52385fdf0e952",
       "tooltip": "Toolbar"
      }
     },
     "c6b6b437fbbd4e8ab6b738000d0a7eee": {
      "model_module": "jupyter-leaflet",
      "model_module_version": "^0.16.0",
      "model_name": "LeafletTileLayerModel",
      "state": {
       "_model_module_version": "^0.16.0",
       "_view_module_version": "^0.16.0",
       "attribution": "Imagery provided by services from the Global Imagery Browse Services (GIBS), operated by the NASA/GSFC/Earth Science Data and Information System (ESDIS) with funding provided by NASA/HQ.",
       "max_native_zoom": 18,
       "max_zoom": 8,
       "min_native_zoom": 0,
       "name": "NASAGIBS.ViirsEarthAtNight2012",
       "options": [
        "attribution",
        "bounds",
        "detect_retina",
        "max_native_zoom",
        "max_zoom",
        "min_native_zoom",
        "min_zoom",
        "no_wrap",
        "tile_size",
        "tms"
       ],
       "url": "https://map1.vis.earthdata.nasa.gov/wmts-webmerc/VIIRS_CityLights_2012/default//GoogleMapsCompatible_Level8/{z}/{y}/{x}.jpg"
      }
     },
     "c7299928221743049729ebdd05b3ebfb": {
      "model_module": "@jupyter-widgets/base",
      "model_module_version": "1.2.0",
      "model_name": "LayoutModel",
      "state": {
       "height": "auto",
       "padding": "0px 0px 0px 4px",
       "width": "auto"
      }
     },
     "c74a1bf9d5eb4e569107a3a0a6ab5952": {
      "model_module": "jupyter-leaflet",
      "model_module_version": "^0.16.0",
      "model_name": "LeafletWMSLayerModel",
      "state": {
       "_model_module_version": "^0.16.0",
       "_view_module_version": "^0.16.0",
       "attribution": "MRLC",
       "crs": {
        "custom": false,
        "name": "EPSG3857"
       },
       "format": "image/png",
       "layers": "NLCD_2008_Land_Cover_L48",
       "max_native_zoom": 18,
       "min_native_zoom": 0,
       "name": "NLCD 2008 CONUS Land Cover",
       "options": [
        "attribution",
        "bounds",
        "detect_retina",
        "format",
        "layers",
        "max_native_zoom",
        "max_zoom",
        "min_native_zoom",
        "min_zoom",
        "no_wrap",
        "styles",
        "tile_size",
        "tms",
        "transparent",
        "uppercase"
       ],
       "transparent": true,
       "url": "https://www.mrlc.gov/geoserver/mrlc_display/NLCD_2008_Land_Cover_L48/wms?"
      }
     },
     "c84f461e7aa44685b1e1254d24f72282": {
      "model_module": "@jupyter-widgets/controls",
      "model_module_version": "1.5.0",
      "model_name": "DescriptionStyleModel",
      "state": {
       "description_width": ""
      }
     },
     "c8f30fcd6b284bdf8c6421c7ee84ab23": {
      "model_module": "jupyter-leaflet",
      "model_module_version": "^0.16.0",
      "model_name": "LeafletTileLayerModel",
      "state": {
       "_model_module_version": "^0.16.0",
       "_view_module_version": "^0.16.0",
       "attribution": "© swisstopo",
       "max_native_zoom": 18,
       "max_zoom": 19,
       "min_native_zoom": 0,
       "name": "SwissFederalGeoportal.SWISSIMAGE",
       "options": [
        "attribution",
        "bounds",
        "detect_retina",
        "max_native_zoom",
        "max_zoom",
        "min_native_zoom",
        "min_zoom",
        "no_wrap",
        "tile_size",
        "tms"
       ],
       "url": "https://wmts.geo.admin.ch/1.0.0/ch.swisstopo.swissimage/default/current/3857/{z}/{x}/{y}.jpeg"
      }
     },
     "c902032578a34c79b3563d808753ff52": {
      "model_module": "@jupyter-widgets/controls",
      "model_module_version": "1.5.0",
      "model_name": "ToggleButtonModel",
      "state": {
       "button_style": "primary",
       "icon": "picture-o",
       "layout": "IPY_MODEL_1ca9cf06011f43e8945ab6dd5ad46f78",
       "style": "IPY_MODEL_cb844ef23c644b5095aae2d37729def9",
       "tooltip": "Open COG/STAC dataset"
      }
     },
     "c9a8c83f9c2841e89e85de50a612a610": {
      "model_module": "jupyter-leaflet",
      "model_module_version": "^0.16.0",
      "model_name": "LeafletWMSLayerModel",
      "state": {
       "_model_module_version": "^0.16.0",
       "_view_module_version": "^0.16.0",
       "attribution": "MRLC",
       "crs": {
        "custom": false,
        "name": "EPSG3857"
       },
       "format": "image/png",
       "layers": "NLCD_2006_Land_Cover_L48",
       "max_native_zoom": 18,
       "min_native_zoom": 0,
       "name": "NLCD 2006 CONUS Land Cover",
       "options": [
        "attribution",
        "bounds",
        "detect_retina",
        "format",
        "layers",
        "max_native_zoom",
        "max_zoom",
        "min_native_zoom",
        "min_zoom",
        "no_wrap",
        "styles",
        "tile_size",
        "tms",
        "transparent",
        "uppercase"
       ],
       "transparent": true,
       "url": "https://www.mrlc.gov/geoserver/mrlc_display/NLCD_2006_Land_Cover_L48/wms?"
      }
     },
     "cac0be59ee524ee898751a017d348db8": {
      "model_module": "@jupyter-widgets/controls",
      "model_module_version": "1.5.0",
      "model_name": "DescriptionStyleModel",
      "state": {
       "description_width": ""
      }
     },
     "cad58bd468b444e88a2065598738784b": {
      "model_module": "@jupyter-widgets/controls",
      "model_module_version": "1.5.0",
      "model_name": "ToggleButtonModel",
      "state": {
       "button_style": "primary",
       "icon": "table",
       "layout": "IPY_MODEL_0d8adbb6163a401b82968ba88e46fb99",
       "style": "IPY_MODEL_82cf83adb8c84258be4cb07034ce9c45",
       "tooltip": "Open attribute table"
      }
     },
     "caed9243a9984052adefe88617da6aa7": {
      "model_module": "jupyter-leaflet",
      "model_module_version": "^0.16.0",
      "model_name": "LeafletTileLayerModel",
      "state": {
       "_model_module_version": "^0.16.0",
       "_view_module_version": "^0.16.0",
       "attribution": "Tiles courtesy of the U.S. Geological Survey",
       "max_native_zoom": 18,
       "max_zoom": 20,
       "min_native_zoom": 0,
       "name": "USGS.USTopo",
       "options": [
        "attribution",
        "bounds",
        "detect_retina",
        "max_native_zoom",
        "max_zoom",
        "min_native_zoom",
        "min_zoom",
        "no_wrap",
        "tile_size",
        "tms"
       ],
       "url": "https://basemap.nationalmap.gov/arcgis/rest/services/USGSTopo/MapServer/tile/{z}/{y}/{x}"
      }
     },
     "cb0ce8105a104ca9a5ea359efb02cbb6": {
      "model_module": "jupyter-leaflet",
      "model_module_version": "^0.16.0",
      "model_name": "LeafletTileLayerModel",
      "state": {
       "_model_module_version": "^0.16.0",
       "_view_module_version": "^0.16.0",
       "attribution": "(C) OpenStreetMap contributors (C) CARTO",
       "max_native_zoom": 18,
       "max_zoom": 20,
       "min_native_zoom": 0,
       "name": "CartoDB.DarkMatter",
       "options": [
        "attribution",
        "bounds",
        "detect_retina",
        "max_native_zoom",
        "max_zoom",
        "min_native_zoom",
        "min_zoom",
        "no_wrap",
        "tile_size",
        "tms"
       ],
       "url": "https://a.basemaps.cartocdn.com/dark_all/{z}/{x}/{y}.png"
      }
     },
     "cb844ef23c644b5095aae2d37729def9": {
      "model_module": "@jupyter-widgets/controls",
      "model_module_version": "1.5.0",
      "model_name": "DescriptionStyleModel",
      "state": {
       "description_width": ""
      }
     },
     "cbbed3025f48402e9404612b26701ea6": {
      "model_module": "@jupyter-widgets/base",
      "model_module_version": "1.2.0",
      "model_name": "LayoutModel",
      "state": {
       "height": "auto",
       "padding": "0px 0px 0px 4px",
       "width": "auto"
      }
     },
     "cbfc72dbfb9d4930abc2e8c21130de53": {
      "model_module": "jupyter-leaflet",
      "model_module_version": "^0.16.0",
      "model_name": "LeafletMapStyleModel",
      "state": {
       "_model_module_version": "^0.16.0"
      }
     },
     "cc7dad2738e8406197c359cdbbdb0561": {
      "model_module": "@jupyter-widgets/controls",
      "model_module_version": "1.5.0",
      "model_name": "ToggleButtonModel",
      "state": {
       "button_style": "primary",
       "icon": "table",
       "layout": "IPY_MODEL_696361d6ad00467384ddb5bcfe030616",
       "style": "IPY_MODEL_22e362d38f434e37b8d4e30de3c11211",
       "tooltip": "Open attribute table"
      }
     },
     "cd1e964184394062af87e0043905bd76": {
      "model_module": "@jupyter-widgets/controls",
      "model_module_version": "1.5.0",
      "model_name": "ToggleButtonModel",
      "state": {
       "button_style": "primary",
       "icon": "pencil-square-o",
       "layout": "IPY_MODEL_88b0c09c0bbb4145834dba9e248c4b27",
       "style": "IPY_MODEL_43509a79f845491481413d3879b1f7cc",
       "tooltip": "Create vector data"
      }
     },
     "cda8c093048a4ab49515e9c52ec8e845": {
      "model_module": "jupyter-leaflet",
      "model_module_version": "^0.16.0",
      "model_name": "LeafletMapStyleModel",
      "state": {
       "_model_module_version": "^0.16.0"
      }
     },
     "cdaf524fa62a4796b678d41243b8fb95": {
      "model_module": "jupyter-leaflet",
      "model_module_version": "^0.16.0",
      "model_name": "LeafletTileLayerModel",
      "state": {
       "_model_module_version": "^0.16.0",
       "_view_module_version": "^0.16.0",
       "attribution": "CyclOSM | Map data: (C) OpenStreetMap contributors",
       "max_native_zoom": 18,
       "max_zoom": 20,
       "min_native_zoom": 0,
       "name": "CyclOSM",
       "options": [
        "attribution",
        "bounds",
        "detect_retina",
        "max_native_zoom",
        "max_zoom",
        "min_native_zoom",
        "min_zoom",
        "no_wrap",
        "tile_size",
        "tms"
       ],
       "url": "https://a.tile-cyclosm.openstreetmap.fr/cyclosm/{z}/{x}/{y}.png"
      }
     },
     "ce67704f878a47e2bdcaacc83f2e9d9c": {
      "model_module": "@jupyter-widgets/controls",
      "model_module_version": "1.5.0",
      "model_name": "DescriptionStyleModel",
      "state": {
       "description_width": ""
      }
     },
     "ceee4ee3d94f4c83bd38253683046e40": {
      "model_module": "@jupyter-widgets/controls",
      "model_module_version": "1.5.0",
      "model_name": "ToggleButtonModel",
      "state": {
       "button_style": "primary",
       "icon": "map",
       "layout": "IPY_MODEL_75e855af6e6a466d84505ce92e99f879",
       "style": "IPY_MODEL_1635ed0a120e4dd693fbbf6ac2073397",
       "tooltip": "Change basemap"
      }
     },
     "cf5fbddfecad4c859cf328edbc3f6882": {
      "model_module": "@jupyter-widgets/controls",
      "model_module_version": "1.5.0",
      "model_name": "ToggleButtonModel",
      "state": {
       "button_style": "primary",
       "icon": "stack-exchange",
       "layout": "IPY_MODEL_20a7b157acc549b4939ee86377b0217c",
       "style": "IPY_MODEL_60dd751c8e50460382fc8c1f8d76c017",
       "tooltip": "Discover STAC Catalog"
      }
     },
     "cfffc15759b74782a3e3c58a3accb4b3": {
      "model_module": "@jupyter-widgets/controls",
      "model_module_version": "1.5.0",
      "model_name": "ToggleButtonModel",
      "state": {
       "button_style": "primary",
       "icon": "map",
       "layout": "IPY_MODEL_7141865b6b6e4375be3f9bbe42877902",
       "style": "IPY_MODEL_8bac2e4b38f24953942b61e3f7f13229",
       "tooltip": "Change basemap"
      }
     },
     "d0b26a945ea34b5b84057be499693602": {
      "model_module": "@jupyter-widgets/controls",
      "model_module_version": "1.5.0",
      "model_name": "ToggleButtonModel",
      "state": {
       "button_style": "primary",
       "icon": "eraser",
       "layout": "IPY_MODEL_3d5eec120ede4ddf86a3c8b3009aad79",
       "style": "IPY_MODEL_7adce815bd92492e99eee60c077af0e1",
       "tooltip": "Remove all drawn features"
      }
     },
     "d0f5585f4f254537bf3859e2f3c5284f": {
      "model_module": "@jupyter-widgets/controls",
      "model_module_version": "1.5.0",
      "model_name": "DescriptionStyleModel",
      "state": {
       "description_width": ""
      }
     },
     "d101074314734b6ea07175ee488bda52": {
      "model_module": "jupyter-leaflet",
      "model_module_version": "^0.16.0",
      "model_name": "LeafletTileLayerModel",
      "state": {
       "_model_module_version": "^0.16.0",
       "_view_module_version": "^0.16.0",
       "attribution": "Tiles (C) Esri -- Source: Esri",
       "max_native_zoom": 18,
       "max_zoom": 13,
       "min_native_zoom": 0,
       "name": "Esri.WorldShadedRelief",
       "options": [
        "attribution",
        "bounds",
        "detect_retina",
        "max_native_zoom",
        "max_zoom",
        "min_native_zoom",
        "min_zoom",
        "no_wrap",
        "tile_size",
        "tms"
       ],
       "url": "https://server.arcgisonline.com/ArcGIS/rest/services/World_Shaded_Relief/MapServer/tile/{z}/{y}/{x}"
      }
     },
     "d13b7cbbe0db4de58b37ac8b4dc82ea0": {
      "model_module": "@jupyter-widgets/controls",
      "model_module_version": "1.5.0",
      "model_name": "DescriptionStyleModel",
      "state": {
       "description_width": ""
      }
     },
     "d1d2bfd855444a718015dfeaf5713bbb": {
      "model_module": "jupyter-leaflet",
      "model_module_version": "^0.16.0",
      "model_name": "LeafletTileLayerModel",
      "state": {
       "_model_module_version": "^0.16.0",
       "_view_module_version": "^0.16.0",
       "attribution": "Imagery provided by services from the Global Imagery Browse Services (GIBS), operated by the NASA/GSFC/Earth Science Data and Information System (<a href=\"https://earthdata.nasa.gov\">ESDIS</a>) with funding provided by NASA/HQ.",
       "max_native_zoom": 18,
       "max_zoom": 5,
       "min_native_zoom": 0,
       "name": "NASAGIBS.BlueMarble3413",
       "options": [
        "attribution",
        "bounds",
        "detect_retina",
        "max_native_zoom",
        "max_zoom",
        "min_native_zoom",
        "min_zoom",
        "no_wrap",
        "tile_size",
        "tms"
       ],
       "url": "https://gibs.earthdata.nasa.gov/wmts/epsg3413/best/BlueMarble_NextGeneration/default/EPSG3413_500m/{z}/{y}/{x}.jpeg"
      }
     },
     "d22fee450751477bb81d0dee04d4eb18": {
      "model_module": "jupyter-leaflet",
      "model_module_version": "^0.16.0",
      "model_name": "LeafletTileLayerModel",
      "state": {
       "_model_module_version": "^0.16.0",
       "_view_module_version": "^0.16.0",
       "attribution": "Tiles (C) Esri -- Source: USGS, Esri, TANA, DeLorme, and NPS",
       "max_native_zoom": 18,
       "max_zoom": 13,
       "min_native_zoom": 0,
       "name": "Esri.WorldTerrain",
       "options": [
        "attribution",
        "bounds",
        "detect_retina",
        "max_native_zoom",
        "max_zoom",
        "min_native_zoom",
        "min_zoom",
        "no_wrap",
        "tile_size",
        "tms"
       ],
       "url": "https://server.arcgisonline.com/ArcGIS/rest/services/World_Terrain_Base/MapServer/tile/{z}/{y}/{x}"
      }
     },
     "d2a9de02c0c64bceb956cb4df9494326": {
      "model_module": "jupyter-leaflet",
      "model_module_version": "^0.16.0",
      "model_name": "LeafletTileLayerModel",
      "state": {
       "_model_module_version": "^0.16.0",
       "_view_module_version": "^0.16.0",
       "attribution": "Google",
       "max_native_zoom": 18,
       "max_zoom": 22,
       "min_native_zoom": 0,
       "name": "Google Satellite",
       "options": [
        "attribution",
        "bounds",
        "detect_retina",
        "max_native_zoom",
        "max_zoom",
        "min_native_zoom",
        "min_zoom",
        "no_wrap",
        "tile_size",
        "tms"
       ],
       "url": "https://mt1.google.com/vt/lyrs=y&x={x}&y={y}&z={z}"
      }
     },
     "d390aa4eb2454dc4be98f0f39a42dee1": {
      "model_module": "jupyter-leaflet",
      "model_module_version": "^0.16.0",
      "model_name": "LeafletTileLayerModel",
      "state": {
       "_model_module_version": "^0.16.0",
       "_view_module_version": "^0.16.0",
       "attribution": "Google",
       "max_native_zoom": 18,
       "max_zoom": 22,
       "min_native_zoom": 0,
       "name": "Google Terrain",
       "options": [
        "attribution",
        "bounds",
        "detect_retina",
        "max_native_zoom",
        "max_zoom",
        "min_native_zoom",
        "min_zoom",
        "no_wrap",
        "tile_size",
        "tms"
       ],
       "url": "https://mt1.google.com/vt/lyrs=p&x={x}&y={y}&z={z}"
      }
     },
     "d3a7ff8b3f034cb082f5f6938559e19c": {
      "model_module": "@jupyter-widgets/controls",
      "model_module_version": "1.5.0",
      "model_name": "ToggleButtonModel",
      "state": {
       "button_style": "primary",
       "icon": "adjust",
       "layout": "IPY_MODEL_239e2f0ba9a14f8aa4e5bc64a11eba1f",
       "style": "IPY_MODEL_62d5121cceb24298932a37074c815342",
       "tooltip": "Planet imagery"
      }
     },
     "d4cb5e35bdac4f1e89cedaeea5bfa408": {
      "model_module": "jupyter-leaflet",
      "model_module_version": "^0.16.0",
      "model_name": "LeafletTileLayerModel",
      "state": {
       "_model_module_version": "^0.16.0",
       "_view_module_version": "^0.16.0",
       "attribution": "(C) OpenStreetMap contributors",
       "max_native_zoom": 18,
       "max_zoom": 19,
       "min_native_zoom": 0,
       "name": "OpenStreetMap.Mapnik",
       "options": [
        "attribution",
        "bounds",
        "detect_retina",
        "max_native_zoom",
        "max_zoom",
        "min_native_zoom",
        "min_zoom",
        "no_wrap",
        "tile_size",
        "tms"
       ],
       "url": "https://a.tile.openstreetmap.org/{z}/{x}/{y}.png"
      }
     },
     "d5ef6aaac40448ca95e4a3675d7e230e": {
      "model_module": "@jupyter-widgets/controls",
      "model_module_version": "1.5.0",
      "model_name": "ToggleButtonModel",
      "state": {
       "button_style": "primary",
       "icon": "adjust",
       "layout": "IPY_MODEL_3c9ad9c94a394e239beb0b9bdd10a8c1",
       "style": "IPY_MODEL_72b51b2411304057a27e52997c921aa7",
       "tooltip": "Planet imagery"
      }
     },
     "d6c134df7a1d4a69ba8c507099f7b368": {
      "model_module": "jupyter-leaflet",
      "model_module_version": "^0.16.0",
      "model_name": "LeafletTileLayerModel",
      "state": {
       "_model_module_version": "^0.16.0",
       "_view_module_version": "^0.16.0",
       "attribution": "",
       "max_native_zoom": 18,
       "min_native_zoom": 0,
       "name": "STAC Layer",
       "options": [
        "attribution",
        "bounds",
        "detect_retina",
        "max_native_zoom",
        "max_zoom",
        "min_native_zoom",
        "min_zoom",
        "no_wrap",
        "tile_size",
        "tms"
       ],
       "url": "https://planetarycomputer.microsoft.com/api/data/v1/item/tiles/WebMercatorQuad/{z}/{x}/{y}@1x?color_formula=Gamma+RGB+3.7+Saturation+1.5+Sigmoidal+RGB+15+0.35&nodata=0&rescale=0%2C12000&collection=sentinel-2-l2a&item=S2A_MSIL2A_20211216T015621_R117_T51KXB_20211216T153808&assets=B04&assets=B03&assets=B02"
      }
     },
     "d6dbd7f10b184d63881312aabaf6d3e5": {
      "model_module": "jupyter-leaflet",
      "model_module_version": "^0.16.0",
      "model_name": "LeafletTileLayerModel",
      "state": {
       "_model_module_version": "^0.16.0",
       "_view_module_version": "^0.16.0",
       "attribution": "![](https://docs.onemap.sg/maps/images/oneMap64-01.png) New OneMap | Map data (C) contributors, Singapore Land Authority",
       "max_native_zoom": 18,
       "min_native_zoom": 0,
       "name": "OneMapSG.Night",
       "options": [
        "attribution",
        "bounds",
        "detect_retina",
        "max_native_zoom",
        "max_zoom",
        "min_native_zoom",
        "min_zoom",
        "no_wrap",
        "tile_size",
        "tms"
       ],
       "url": "https://maps-a.onemap.sg/v3/Night/{z}/{x}/{y}.png"
      }
     },
     "d7c308a1e3d94699ad78a267fffaeed1": {
      "model_module": "@jupyter-widgets/controls",
      "model_module_version": "1.5.0",
      "model_name": "ToggleButtonModel",
      "state": {
       "button_style": "primary",
       "icon": "search-plus",
       "layout": "IPY_MODEL_e23fe9be39594a7d82374eb776e5d60b",
       "style": "IPY_MODEL_39857d3c41364216936bbed425531354",
       "tooltip": "Search features in GeoJSON layer"
      }
     },
     "d8fd5092d4774485938ede480171c407": {
      "model_module": "@jupyter-widgets/controls",
      "model_module_version": "1.5.0",
      "model_name": "ToggleButtonModel",
      "state": {
       "button_style": "primary",
       "icon": "map",
       "layout": "IPY_MODEL_02b7c1712bd548bb931efc2b7d8f02dd",
       "style": "IPY_MODEL_994f029e52be4af9afb5da5d40dfe2ad",
       "tooltip": "Change basemap"
      }
     },
     "d9fe4f9b64144db9b0cad881870454ef": {
      "model_module": "jupyter-leaflet",
      "model_module_version": "^0.16.0",
      "model_name": "LeafletTileLayerModel",
      "state": {
       "_model_module_version": "^0.16.0",
       "_view_module_version": "^0.16.0",
       "attribution": "Tiles (C) Esri -- Sources: GEBCO, NOAA, CHS, OSU, UNH, CSUMB, National Geographic, DeLorme, NAVTEQ, and Esri",
       "max_native_zoom": 18,
       "max_zoom": 13,
       "min_native_zoom": 0,
       "name": "Esri.OceanBasemap",
       "options": [
        "attribution",
        "bounds",
        "detect_retina",
        "max_native_zoom",
        "max_zoom",
        "min_native_zoom",
        "min_zoom",
        "no_wrap",
        "tile_size",
        "tms"
       ],
       "url": "https://server.arcgisonline.com/ArcGIS/rest/services/Ocean_Basemap/MapServer/tile/{z}/{y}/{x}"
      }
     },
     "dadc9b59fa1b4f629ca7775cf187fc4f": {
      "model_module": "@jupyter-widgets/controls",
      "model_module_version": "1.5.0",
      "model_name": "DescriptionStyleModel",
      "state": {
       "description_width": ""
      }
     },
     "dade1b3fbcf24b38838e3806bb823db4": {
      "model_module": "jupyter-leaflet",
      "model_module_version": "^0.16.0",
      "model_name": "LeafletTileLayerModel",
      "state": {
       "_model_module_version": "^0.16.0",
       "_view_module_version": "^0.16.0",
       "attribution": "Map tiles by Stamen Design, CC BY 3.0 -- Map data (C) OpenStreetMap contributors",
       "max_native_zoom": 18,
       "max_zoom": 20,
       "min_native_zoom": 0,
       "name": "Stamen.TopOSMFeatures",
       "options": [
        "attribution",
        "bounds",
        "detect_retina",
        "max_native_zoom",
        "max_zoom",
        "min_native_zoom",
        "min_zoom",
        "no_wrap",
        "tile_size",
        "tms"
       ],
       "url": "https://stamen-tiles-a.a.ssl.fastly.net/toposm-features/{z}/{x}/{y}.png"
      }
     },
     "daed53a77c9c4fdb8276d08270bd28ac": {
      "model_module": "@jupyter-widgets/controls",
      "model_module_version": "1.5.0",
      "model_name": "ToggleButtonModel",
      "state": {
       "button_style": "primary",
       "icon": "info",
       "layout": "IPY_MODEL_63a3dd3e30024353a43e022828f1dba2",
       "style": "IPY_MODEL_f8f82d47d95046b2814b54eaa7ef39f2",
       "tooltip": "Get COG/STAC pixel value"
      }
     },
     "dbd4afcc2de04e26ab8314cdd8aab009": {
      "model_module": "@jupyter-widgets/base",
      "model_module_version": "1.2.0",
      "model_name": "LayoutModel",
      "state": {
       "height": "auto",
       "padding": "0px 0px 0px 4px",
       "width": "auto"
      }
     },
     "dd79182a9d5e4ae683f647d4b923c9d9": {
      "model_module": "@jupyter-widgets/controls",
      "model_module_version": "1.5.0",
      "model_name": "DescriptionStyleModel",
      "state": {
       "description_width": ""
      }
     },
     "ddf833d161fa42b2b44dacc470717643": {
      "model_module": "@jupyter-widgets/base",
      "model_module_version": "1.2.0",
      "model_name": "LayoutModel",
      "state": {
       "height": "auto",
       "padding": "0px 0px 0px 4px",
       "width": "auto"
      }
     },
     "de8904bad12742a9ab6633e7437f2345": {
      "model_module": "@jupyter-widgets/base",
      "model_module_version": "1.2.0",
      "model_name": "LayoutModel",
      "state": {
       "height": "auto",
       "padding": "0px 0px 0px 4px",
       "width": "auto"
      }
     },
     "dea028dc646647f19215e38c1d1a774f": {
      "model_module": "jupyter-leaflet",
      "model_module_version": "^0.16.0",
      "model_name": "LeafletTileLayerModel",
      "state": {
       "_model_module_version": "^0.16.0",
       "_view_module_version": "^0.16.0",
       "attribution": "(C) Stadia Maps, (C) OpenMapTiles (C) OpenStreetMap contributors",
       "max_native_zoom": 18,
       "max_zoom": 20,
       "min_native_zoom": 0,
       "name": "Stadia.Outdoors",
       "options": [
        "attribution",
        "bounds",
        "detect_retina",
        "max_native_zoom",
        "max_zoom",
        "min_native_zoom",
        "min_zoom",
        "no_wrap",
        "tile_size",
        "tms"
       ],
       "url": "https://tiles.stadiamaps.com/tiles/outdoors/{z}/{x}/{y}.png"
      }
     },
     "deaf881338d34da8a9dad9e4389321ec": {
      "model_module": "@jupyter-widgets/base",
      "model_module_version": "1.2.0",
      "model_name": "LayoutModel",
      "state": {
       "grid_gap": "1px 1px",
       "grid_template_columns": "32px 32px 32px ",
       "grid_template_rows": "32px 32px 32px 32px 32px 32px ",
       "padding": "5px",
       "width": "109px"
      }
     },
     "df42be6bbde24172af0cf96ff1b24c08": {
      "model_module": "jupyter-leaflet",
      "model_module_version": "^0.16.0",
      "model_name": "LeafletTileLayerModel",
      "state": {
       "_model_module_version": "^0.16.0",
       "_view_module_version": "^0.16.0",
       "attribution": "Google",
       "max_native_zoom": 18,
       "max_zoom": 22,
       "min_native_zoom": 0,
       "name": "Google Maps",
       "options": [
        "attribution",
        "bounds",
        "detect_retina",
        "max_native_zoom",
        "max_zoom",
        "min_native_zoom",
        "min_zoom",
        "no_wrap",
        "tile_size",
        "tms"
       ],
       "url": "https://mt1.google.com/vt/lyrs=m&x={x}&y={y}&z={z}"
      }
     },
     "dfbb3facae9147bf9538455b8a1a8b57": {
      "model_module": "@jupyter-widgets/base",
      "model_module_version": "1.2.0",
      "model_name": "LayoutModel",
      "state": {}
     },
     "dfff37954947463a8bb00abcdf97b7db": {
      "model_module": "@jupyter-widgets/controls",
      "model_module_version": "1.5.0",
      "model_name": "DescriptionStyleModel",
      "state": {
       "description_width": ""
      }
     },
     "e033746b9acf418a9027756c27ad8c7f": {
      "model_module": "@jupyter-widgets/controls",
      "model_module_version": "1.5.0",
      "model_name": "ToggleButtonModel",
      "state": {
       "button_style": "primary",
       "icon": "picture-o",
       "layout": "IPY_MODEL_fd12873482c9440f9ea73b3f44ba8585",
       "style": "IPY_MODEL_aa57a3adc7b3437ea493aac3bdeb6043",
       "tooltip": "Open COG/STAC dataset"
      }
     },
     "e188d7d4a1444462b20894430720bfc9": {
      "model_module": "jupyter-leaflet",
      "model_module_version": "^0.16.0",
      "model_name": "LeafletTileLayerModel",
      "state": {
       "_model_module_version": "^0.16.0",
       "_view_module_version": "^0.16.0",
       "attribution": "Map data: (C) OpenStreetMap contributors | Map style: (C) waymarkedtrails.org (CC-BY-SA)",
       "max_native_zoom": 18,
       "min_native_zoom": 0,
       "name": "WaymarkedTrails.skating",
       "options": [
        "attribution",
        "bounds",
        "detect_retina",
        "max_native_zoom",
        "max_zoom",
        "min_native_zoom",
        "min_zoom",
        "no_wrap",
        "tile_size",
        "tms"
       ],
       "url": "https://tile.waymarkedtrails.org/skating/{z}/{x}/{y}.png"
      }
     },
     "e197d4ed1aab475cbb1baeeb1aaf0f67": {
      "model_module": "@jupyter-widgets/base",
      "model_module_version": "1.2.0",
      "model_name": "LayoutModel",
      "state": {
       "height": "auto",
       "padding": "0px 0px 0px 4px",
       "width": "auto"
      }
     },
     "e1fd6e60ad5f4292a7c9596abd3408d2": {
      "model_module": "@jupyter-widgets/controls",
      "model_module_version": "1.5.0",
      "model_name": "ToggleButtonModel",
      "state": {
       "icon": "server",
       "layout": "IPY_MODEL_0b9f6aba8dac47fdba3a0029d7643884",
       "style": "IPY_MODEL_9035c8bf4b91484e9ff905190cfcd4f8",
       "tooltip": "Layers"
      }
     },
     "e224b32093db475c8b464225e639855d": {
      "model_module": "jupyter-leaflet",
      "model_module_version": "^0.16.0",
      "model_name": "LeafletTileLayerModel",
      "state": {
       "_model_module_version": "^0.16.0",
       "_view_module_version": "^0.16.0",
       "attribution": "Map tiles by Stamen Design, CC BY 3.0 -- Map data (C) OpenStreetMap contributors",
       "max_native_zoom": 18,
       "max_zoom": 20,
       "min_native_zoom": 0,
       "name": "Stamen.TopOSMRelief",
       "options": [
        "attribution",
        "bounds",
        "detect_retina",
        "max_native_zoom",
        "max_zoom",
        "min_native_zoom",
        "min_zoom",
        "no_wrap",
        "tile_size",
        "tms"
       ],
       "url": "https://stamen-tiles-a.a.ssl.fastly.net/toposm-color-relief/{z}/{x}/{y}.jpg"
      }
     },
     "e23fe9be39594a7d82374eb776e5d60b": {
      "model_module": "@jupyter-widgets/base",
      "model_module_version": "1.2.0",
      "model_name": "LayoutModel",
      "state": {
       "height": "auto",
       "padding": "0px 0px 0px 4px",
       "width": "auto"
      }
     },
     "e2b9648cbe4f41bb8632cb688efef4d9": {
      "model_module": "jupyter-leaflet",
      "model_module_version": "^0.16.0",
      "model_name": "LeafletTileLayerModel",
      "state": {
       "_model_module_version": "^0.16.0",
       "_view_module_version": "^0.16.0",
       "attribution": "Kaartgegevens (C) Kadaster",
       "max_native_zoom": 18,
       "max_zoom": 19,
       "min_native_zoom": 0,
       "name": "nlmaps.luchtfoto",
       "options": [
        "attribution",
        "bounds",
        "detect_retina",
        "max_native_zoom",
        "max_zoom",
        "min_native_zoom",
        "min_zoom",
        "no_wrap",
        "tile_size",
        "tms"
       ],
       "url": "https://service.pdok.nl/hwh/luchtfotorgb/wmts/v1_0/Actueel_ortho25/EPSG:3857/{z}/{x}/{y}.jpeg"
      }
     },
     "e2f5bf781b6b49d9a668ee0294699e43": {
      "model_module": "jupyter-leaflet",
      "model_module_version": "^0.16.0",
      "model_name": "LeafletTileLayerModel",
      "state": {
       "_model_module_version": "^0.16.0",
       "_view_module_version": "^0.16.0",
       "attribution": "Map tiles by <a href=\"https://labs.strava.com/heatmap\">Strava 2021</a>",
       "max_native_zoom": 18,
       "max_zoom": 15,
       "min_native_zoom": 0,
       "name": "Strava.Water",
       "options": [
        "attribution",
        "bounds",
        "detect_retina",
        "max_native_zoom",
        "max_zoom",
        "min_native_zoom",
        "min_zoom",
        "no_wrap",
        "tile_size",
        "tms"
       ],
       "url": "https://heatmap-external-a.strava.com/tiles/water/blue/{z}/{x}/{y}.png"
      }
     },
     "e462ae362d1c4eb08f11640f1882b71c": {
      "model_module": "@jupyter-widgets/controls",
      "model_module_version": "1.5.0",
      "model_name": "DescriptionStyleModel",
      "state": {
       "description_width": ""
      }
     },
     "e510ee8e8a72416098e8f74fdf4044e3": {
      "model_module": "@jupyter-widgets/controls",
      "model_module_version": "1.5.0",
      "model_name": "ToggleButtonModel",
      "state": {
       "button_style": "primary",
       "icon": "info",
       "layout": "IPY_MODEL_233a18c62d0a45ec93f920ca2505759e",
       "style": "IPY_MODEL_dd79182a9d5e4ae683f647d4b923c9d9",
       "tooltip": "Get COG/STAC pixel value"
      }
     },
     "e57f66d71970424483b9700e069bb3bd": {
      "model_module": "jupyter-leaflet",
      "model_module_version": "^0.16.0",
      "model_name": "LeafletScaleControlModel",
      "state": {
       "_model_module_version": "^0.16.0",
       "_view_module_version": "^0.16.0",
       "imperial": true,
       "max_width": 100,
       "metric": true,
       "options": [
        "imperial",
        "max_width",
        "metric",
        "position",
        "update_when_idle"
       ],
       "position": "bottomleft",
       "update_when_idle": false
      }
     },
     "e6d457b8b98947dea83eaf68ef1192f3": {
      "model_module": "jupyter-leaflet",
      "model_module_version": "^0.16.0",
      "model_name": "LeafletTileLayerModel",
      "state": {
       "_model_module_version": "^0.16.0",
       "_view_module_version": "^0.16.0",
       "attribution": "Datenquelle: basemap.at",
       "max_native_zoom": 18,
       "max_zoom": 19,
       "min_native_zoom": 0,
       "name": "BasemapAT.highdpi",
       "options": [
        "attribution",
        "bounds",
        "detect_retina",
        "max_native_zoom",
        "max_zoom",
        "min_native_zoom",
        "min_zoom",
        "no_wrap",
        "tile_size",
        "tms"
       ],
       "url": "https://maps.wien.gv.at/basemap/bmaphidpi/normal/google3857/{z}/{y}/{x}.jpeg"
      }
     },
     "e71d4710d2ac49b08027398120bd86c5": {
      "model_module": "jupyter-leaflet",
      "model_module_version": "^0.16.0",
      "model_name": "LeafletTileLayerModel",
      "state": {
       "_model_module_version": "^0.16.0",
       "_view_module_version": "^0.16.0",
       "attribution": "(C) Stadia Maps, (C) OpenMapTiles (C) OpenStreetMap contributors",
       "max_native_zoom": 18,
       "max_zoom": 20,
       "min_native_zoom": 0,
       "name": "Stadia.OSMBright",
       "options": [
        "attribution",
        "bounds",
        "detect_retina",
        "max_native_zoom",
        "max_zoom",
        "min_native_zoom",
        "min_zoom",
        "no_wrap",
        "tile_size",
        "tms"
       ],
       "url": "https://tiles.stadiamaps.com/tiles/osm_bright/{z}/{x}/{y}.png"
      }
     },
     "e71fb2a0c9804926b3423daba4bfd9c6": {
      "model_module": "@jupyter-widgets/controls",
      "model_module_version": "1.5.0",
      "model_name": "ToggleButtonModel",
      "state": {
       "button_style": "primary",
       "icon": "pencil-square-o",
       "layout": "IPY_MODEL_71275b496dbe41c5b76ad450825db59a",
       "style": "IPY_MODEL_10d57898e1824396a0279efcb9c2fc59",
       "tooltip": "Create vector data"
      }
     },
     "e73bbf1c1ced4a7088655e3926d0e4f0": {
      "model_module": "jupyter-leaflet",
      "model_module_version": "^0.16.0",
      "model_name": "LeafletMapModel",
      "state": {
       "_dragging": true,
       "_model_module_version": "^0.16.0",
       "_view_module_version": "^0.16.0",
       "bottom": 23234,
       "center": [
        47.434095,
        -123.38437094553638
       ],
       "controls": [
        "IPY_MODEL_fb836762a95140bd9f5d3656fd6cee49",
        "IPY_MODEL_27f8b48f876f40d099185b4f7789c7f1",
        "IPY_MODEL_bff445d2be414df39251bd1411051f4d",
        "IPY_MODEL_58d7138fe61c406295e2942a37b67137",
        "IPY_MODEL_807e24bb43c94dbc85bb1f25577edada",
        "IPY_MODEL_aef733c9ebd04d4c9896c09d5ea84913",
        "IPY_MODEL_e57f66d71970424483b9700e069bb3bd",
        "IPY_MODEL_2e01a669c13243089ffe9a9d59044660"
       ],
       "default_style": "IPY_MODEL_91b8fcad049e48bdb314e95180a4ebe2",
       "dragging_style": "IPY_MODEL_ec5be6d1dd8d4151afe600b80f639ea2",
       "east": -118.6578369140625,
       "fullscreen": false,
       "interpolation": "bilinear",
       "layers": [
        "IPY_MODEL_984870911656433b898335e53289f1c3",
        "IPY_MODEL_1f4f2aa2e1e5437ab5099717fb57f4be"
       ],
       "layout": "IPY_MODEL_bb687cba3185441aa2394d340929cffe",
       "left": 9447,
       "max_zoom": 24,
       "modisdate": "2022-05-24",
       "north": 48.53843177405046,
       "options": [
        "bounce_at_zoom_limits",
        "box_zoom",
        "center",
        "close_popup_on_click",
        "double_click_zoom",
        "dragging",
        "fullscreen",
        "inertia",
        "inertia_deceleration",
        "inertia_max_speed",
        "interpolation",
        "keyboard",
        "keyboard_pan_offset",
        "keyboard_zoom_offset",
        "max_zoom",
        "min_zoom",
        "prefer_canvas",
        "scroll_wheel_zoom",
        "tap",
        "tap_tolerance",
        "touch_zoom",
        "world_copy_jump",
        "zoom",
        "zoom_animation_threshold",
        "zoom_delta",
        "zoom_snap",
        "zoom_start"
       ],
       "prefer_canvas": false,
       "right": 11167,
       "scroll_wheel_zoom": true,
       "south": 46.30899569419859,
       "style": "IPY_MODEL_ec5be6d1dd8d4151afe600b80f639ea2",
       "top": 22634,
       "west": -128.10607910156253,
       "window_url": "https://pcc-staging.westeurope.cloudapp.azure.com/compute/user/taugspurger@microsoft.com/lab/tree/PlanetaryComputerExamples/quickstarts/leafmap-example.ipynb",
       "zoom": 8
      }
     },
     "e73c548b1f7845e596aad970438b39ed": {
      "model_module": "@jupyter-widgets/base",
      "model_module_version": "1.2.0",
      "model_name": "LayoutModel",
      "state": {}
     },
     "e967e363fb09458ca44fa13dd409d457": {
      "model_module": "@jupyter-widgets/controls",
      "model_module_version": "1.5.0",
      "model_name": "ToggleButtonModel",
      "state": {
       "button_style": "primary",
       "icon": "eraser",
       "layout": "IPY_MODEL_f7b984eeef224cf09ee577f818ec69e1",
       "style": "IPY_MODEL_3e0d83be5f3d4a4ca902f1d7f6aaab9a",
       "tooltip": "Remove all drawn features"
      }
     },
     "e9d42d74cb634804b3ce97e56fac60dd": {
      "model_module": "@jupyter-widgets/controls",
      "model_module_version": "1.5.0",
      "model_name": "DescriptionStyleModel",
      "state": {
       "description_width": ""
      }
     },
     "ec5be6d1dd8d4151afe600b80f639ea2": {
      "model_module": "jupyter-leaflet",
      "model_module_version": "^0.16.0",
      "model_name": "LeafletMapStyleModel",
      "state": {
       "_model_module_version": "^0.16.0",
       "cursor": "move"
      }
     },
     "ec68746b049a43cf8a094c2c4c28d8c7": {
      "model_module": "jupyter-leaflet",
      "model_module_version": "^0.16.0",
      "model_name": "LeafletTileLayerModel",
      "state": {
       "_model_module_version": "^0.16.0",
       "_view_module_version": "^0.16.0",
       "attribution": "Datenquelle: basemap.at",
       "max_native_zoom": 18,
       "max_zoom": 19,
       "min_native_zoom": 0,
       "name": "BasemapAT.overlay",
       "options": [
        "attribution",
        "bounds",
        "detect_retina",
        "max_native_zoom",
        "max_zoom",
        "min_native_zoom",
        "min_zoom",
        "no_wrap",
        "tile_size",
        "tms"
       ],
       "url": "https://maps.wien.gv.at/basemap/bmapoverlay/normal/google3857/{z}/{y}/{x}.png"
      }
     },
     "ece19956ea9845c69616cbcb374b9954": {
      "model_module": "@jupyter-widgets/controls",
      "model_module_version": "1.5.0",
      "model_name": "ToggleButtonModel",
      "state": {
       "button_style": "primary",
       "icon": "globe",
       "layout": "IPY_MODEL_34974b94a58e489b96bbff58bccfa4ae",
       "style": "IPY_MODEL_a07fa89ab399457ba7f98cd257a9e923",
       "tooltip": "Split-panel map"
      }
     },
     "ed1da872d576494e81493aa319cc1eb4": {
      "model_module": "jupyter-leaflet",
      "model_module_version": "^0.16.0",
      "model_name": "LeafletTileLayerModel",
      "state": {
       "_model_module_version": "^0.16.0",
       "_view_module_version": "^0.16.0",
       "attribution": "(C) OpenStreetMap contributors, Tiles style by Humanitarian OpenStreetMap Team hosted by OpenStreetMap France",
       "max_native_zoom": 18,
       "max_zoom": 19,
       "min_native_zoom": 0,
       "name": "OpenStreetMap.HOT",
       "options": [
        "attribution",
        "bounds",
        "detect_retina",
        "max_native_zoom",
        "max_zoom",
        "min_native_zoom",
        "min_zoom",
        "no_wrap",
        "tile_size",
        "tms"
       ],
       "url": "https://a.tile.openstreetmap.fr/hot/{z}/{x}/{y}.png"
      }
     },
     "ed57e8e0121b4de8b4173b36eabee2b4": {
      "model_module": "jupyter-leaflet",
      "model_module_version": "^0.16.0",
      "model_name": "LeafletTileLayerModel",
      "state": {
       "_model_module_version": "^0.16.0",
       "_view_module_version": "^0.16.0",
       "attribution": "Tiles (C) Esri -- Copyright: (C)2012 DeLorme",
       "max_native_zoom": 18,
       "max_zoom": 11,
       "min_native_zoom": 0,
       "name": "Esri.DeLorme",
       "options": [
        "attribution",
        "bounds",
        "detect_retina",
        "max_native_zoom",
        "max_zoom",
        "min_native_zoom",
        "min_zoom",
        "no_wrap",
        "tile_size",
        "tms"
       ],
       "url": "https://server.arcgisonline.com/ArcGIS/rest/services/Specialty/DeLorme_World_Base_Map/MapServer/tile/{z}/{y}/{x}"
      }
     },
     "ee2254fa32184cbea0f38baf01d41aa8": {
      "model_module": "@jupyter-widgets/controls",
      "model_module_version": "1.5.0",
      "model_name": "VBoxModel",
      "state": {
       "_view_count": 1,
       "children": [
        "IPY_MODEL_7b4e07808eb340d2a667464bbe04739a"
       ],
       "layout": "IPY_MODEL_e73c548b1f7845e596aad970438b39ed"
      }
     },
     "ef0b2c97e5f24940a7f8e6094980439f": {
      "model_module": "@jupyter-widgets/base",
      "model_module_version": "1.2.0",
      "model_name": "LayoutModel",
      "state": {}
     },
     "ef8da4ff048841a0afcc39ae8190f328": {
      "model_module": "@jupyter-widgets/base",
      "model_module_version": "1.2.0",
      "model_name": "LayoutModel",
      "state": {
       "height": "auto",
       "padding": "0px 0px 0px 4px",
       "width": "auto"
      }
     },
     "f1adfb62ec314b15a6aabbbe774ea6a2": {
      "model_module": "@jupyter-widgets/controls",
      "model_module_version": "1.5.0",
      "model_name": "ToggleButtonModel",
      "state": {
       "button_style": "primary",
       "icon": "map",
       "layout": "IPY_MODEL_cbbed3025f48402e9404612b26701ea6",
       "style": "IPY_MODEL_426726d541dd40e89999bb73f68709b6",
       "tooltip": "Change basemap"
      }
     },
     "f305d7b6ff96424abe58a728695b9f91": {
      "model_module": "@jupyter-widgets/base",
      "model_module_version": "1.2.0",
      "model_name": "LayoutModel",
      "state": {
       "height": "auto",
       "padding": "0px 0px 0px 4px",
       "width": "auto"
      }
     },
     "f316a939c75e49b6897e1a2dbff28c9e": {
      "model_module": "@jupyter-widgets/base",
      "model_module_version": "1.2.0",
      "model_name": "LayoutModel",
      "state": {}
     },
     "f3c36e52fea642b8aafe6f679f667cb5": {
      "model_module": "@jupyter-widgets/base",
      "model_module_version": "1.2.0",
      "model_name": "LayoutModel",
      "state": {
       "height": "auto",
       "padding": "0px 0px 0px 4px",
       "width": "auto"
      }
     },
     "f42e0a01b38f41ec9f879fa5507b83bb": {
      "model_module": "@jupyter-widgets/controls",
      "model_module_version": "1.5.0",
      "model_name": "DescriptionStyleModel",
      "state": {
       "description_width": ""
      }
     },
     "f53604e758da4eb7ae68f62017aab85d": {
      "model_module": "@jupyter-widgets/controls",
      "model_module_version": "1.5.0",
      "model_name": "DescriptionStyleModel",
      "state": {
       "description_width": ""
      }
     },
     "f5820d85fba94d1ebbad9e924477866c": {
      "model_module": "jupyter-leaflet",
      "model_module_version": "^0.16.0",
      "model_name": "LeafletTileLayerModel",
      "state": {
       "_model_module_version": "^0.16.0",
       "_view_module_version": "^0.16.0",
       "attribution": "Map tiles by <a href=\"https://labs.strava.com/heatmap\">Strava 2021</a>",
       "max_native_zoom": 18,
       "max_zoom": 15,
       "min_native_zoom": 0,
       "name": "Strava.All",
       "options": [
        "attribution",
        "bounds",
        "detect_retina",
        "max_native_zoom",
        "max_zoom",
        "min_native_zoom",
        "min_zoom",
        "no_wrap",
        "tile_size",
        "tms"
       ],
       "url": "https://heatmap-external-a.strava.com/tiles/all/hot/{z}/{x}/{y}.png"
      }
     },
     "f5a7bd8c16fd461b9094991b20d022d4": {
      "model_module": "ipyevents",
      "model_module_version": "2.0.1",
      "model_name": "EventModel",
      "state": {
       "_supported_key_events": [
        "keydown",
        "keyup"
       ],
       "_supported_mouse_events": [
        "click",
        "auxclick",
        "dblclick",
        "mouseenter",
        "mouseleave",
        "mousedown",
        "mouseup",
        "mousemove",
        "wheel",
        "contextmenu",
        "dragstart",
        "drag",
        "dragend",
        "dragenter",
        "dragover",
        "dragleave",
        "drop"
       ],
       "_supported_touch_events": [
        "touchstart",
        "touchend",
        "touchmove",
        "touchcancel"
       ],
       "_view_module": "@jupyter-widgets/controls",
       "_view_module_version": "1.5.0",
       "source": "IPY_MODEL_9aca4b0e9d1d406c8a80296fdf03dc43",
       "throttle_or_debounce": "",
       "watched_events": [
        "mouseenter",
        "mouseleave"
       ],
       "xy_coordinate_system": ""
      }
     },
     "f5e3f51edb3e498fa7b0391adff996a8": {
      "model_module": "@jupyter-widgets/controls",
      "model_module_version": "1.5.0",
      "model_name": "ToggleButtonModel",
      "state": {
       "button_style": "primary",
       "icon": "fast-forward",
       "layout": "IPY_MODEL_8c549607cfde4a7a8cdfe33ae3833080",
       "style": "IPY_MODEL_50704244dc614a5480ffab0979f413a0",
       "tooltip": "Activate the time slider"
      }
     },
     "f64744d775dd45c3a6785639ce4680f5": {
      "model_module": "jupyter-leaflet",
      "model_module_version": "^0.16.0",
      "model_name": "LeafletTileLayerModel",
      "state": {
       "_model_module_version": "^0.16.0",
       "_view_module_version": "^0.16.0",
       "attribution": "Imagery provided by services from the Global Imagery Browse Services (GIBS), operated by the NASA/GSFC/Earth Science Data and Information System (<a href=\"https://earthdata.nasa.gov\">ESDIS</a>) with funding provided by NASA/HQ.",
       "max_native_zoom": 18,
       "max_zoom": 9,
       "min_native_zoom": 0,
       "name": "NASAGIBS.ModisTerraBands721CR",
       "options": [
        "attribution",
        "bounds",
        "detect_retina",
        "max_native_zoom",
        "max_zoom",
        "min_native_zoom",
        "min_zoom",
        "no_wrap",
        "tile_size",
        "tms"
       ],
       "url": "https://gibs.earthdata.nasa.gov/wmts/epsg3857/best/MODIS_Terra_CorrectedReflectance_Bands721/default//GoogleMapsCompatible_Level9/{z}/{y}/{x}.jpg"
      }
     },
     "f6c2f1c8144e47b6990bec0aafd2b84f": {
      "model_module": "jupyter-leaflet",
      "model_module_version": "^0.16.0",
      "model_name": "LeafletTileLayerModel",
      "state": {
       "_model_module_version": "^0.16.0",
       "_view_module_version": "^0.16.0",
       "attribution": "&copy; <a href=\"https://www.openstreetmap.org/copyright\">OpenStreetMap</a> contributors",
       "base": true,
       "max_native_zoom": 18,
       "max_zoom": 19,
       "min_native_zoom": 0,
       "min_zoom": 1,
       "name": "OpenStreetMap",
       "options": [
        "attribution",
        "bounds",
        "detect_retina",
        "max_native_zoom",
        "max_zoom",
        "min_native_zoom",
        "min_zoom",
        "no_wrap",
        "tile_size",
        "tms"
       ],
       "url": "https://a.tile.openstreetmap.org/{z}/{x}/{y}.png"
      }
     },
     "f727b733d8c44fdba7c784a9e8925fb0": {
      "model_module": "@jupyter-widgets/base",
      "model_module_version": "1.2.0",
      "model_name": "LayoutModel",
      "state": {}
     },
     "f77f4bb9cf724a0e858429a66a2724cb": {
      "model_module": "@jupyter-widgets/controls",
      "model_module_version": "1.5.0",
      "model_name": "DescriptionStyleModel",
      "state": {
       "description_width": ""
      }
     },
     "f784bf93cfb04380bad62e7563285d74": {
      "model_module": "jupyter-leaflet",
      "model_module_version": "^0.16.0",
      "model_name": "LeafletTileLayerModel",
      "state": {
       "_model_module_version": "^0.16.0",
       "_view_module_version": "^0.16.0",
       "attribution": "Map tiles by Stamen Design, CC BY 3.0 -- Map data (C) OpenStreetMap contributors",
       "max_native_zoom": 18,
       "min_native_zoom": 0,
       "name": "Stamen.TerrainLabels",
       "options": [
        "attribution",
        "bounds",
        "detect_retina",
        "max_native_zoom",
        "max_zoom",
        "min_native_zoom",
        "min_zoom",
        "no_wrap",
        "tile_size",
        "tms"
       ],
       "url": "https://stamen-tiles-a.a.ssl.fastly.net/terrain-labels/{z}/{x}/{y}.png"
      }
     },
     "f79e2343c4cc4111ba5d68a6a56ad759": {
      "model_module": "@jupyter-widgets/base",
      "model_module_version": "1.2.0",
      "model_name": "LayoutModel",
      "state": {}
     },
     "f7b984eeef224cf09ee577f818ec69e1": {
      "model_module": "@jupyter-widgets/base",
      "model_module_version": "1.2.0",
      "model_name": "LayoutModel",
      "state": {
       "height": "auto",
       "padding": "0px 0px 0px 4px",
       "width": "auto"
      }
     },
     "f7fddb1484de4a16858a71ad756adf86": {
      "model_module": "@jupyter-widgets/controls",
      "model_module_version": "1.5.0",
      "model_name": "ToggleButtonModel",
      "state": {
       "button_style": "primary",
       "icon": "camera",
       "layout": "IPY_MODEL_59a4c98b2c35417d99d17f39935b5f2c",
       "style": "IPY_MODEL_04defde27471415fb2831a59f242d429",
       "tooltip": "Save map as HTML or image"
      }
     },
     "f8f82d47d95046b2814b54eaa7ef39f2": {
      "model_module": "@jupyter-widgets/controls",
      "model_module_version": "1.5.0",
      "model_name": "DescriptionStyleModel",
      "state": {
       "description_width": ""
      }
     },
     "fa7e6ce56b9a4d93a43cde697acbbb2d": {
      "model_module": "@jupyter-widgets/controls",
      "model_module_version": "1.5.0",
      "model_name": "ToggleButtonModel",
      "state": {
       "button_style": "primary",
       "icon": "search",
       "layout": "IPY_MODEL_b20b3a310bdc493781755217e0cf7297",
       "style": "IPY_MODEL_954449e1f2394a65b50a393650db86e0",
       "tooltip": "Search XYZ tile services"
      }
     },
     "fa96a18853c34f6d8e4c45746599e29a": {
      "model_module": "@jupyter-widgets/controls",
      "model_module_version": "1.5.0",
      "model_name": "ToggleButtonModel",
      "state": {
       "button_style": "primary",
       "icon": "address-book",
       "layout": "IPY_MODEL_97123a36ec3a48159992b878e0eebc10",
       "style": "IPY_MODEL_dadc9b59fa1b4f629ca7775cf187fc4f",
       "tooltip": "Get US Census data"
      }
     },
     "fb2bb752b8fd4ac28619f371e1d04392": {
      "model_module": "ipyevents",
      "model_module_version": "2.0.1",
      "model_name": "EventModel",
      "state": {
       "_supported_key_events": [
        "keydown",
        "keyup"
       ],
       "_supported_mouse_events": [
        "click",
        "auxclick",
        "dblclick",
        "mouseenter",
        "mouseleave",
        "mousedown",
        "mouseup",
        "mousemove",
        "wheel",
        "contextmenu",
        "dragstart",
        "drag",
        "dragend",
        "dragenter",
        "dragover",
        "dragleave",
        "drop"
       ],
       "_supported_touch_events": [
        "touchstart",
        "touchend",
        "touchmove",
        "touchcancel"
       ],
       "_view_module": "@jupyter-widgets/controls",
       "_view_module_version": "1.5.0",
       "source": "IPY_MODEL_7bdc310b96764074b24ba3c917329acf",
       "throttle_or_debounce": "",
       "watched_events": [
        "mouseenter",
        "mouseleave"
       ],
       "xy_coordinate_system": ""
      }
     },
     "fb3fc16cd25d40a39b4ef1f4d8befdd7": {
      "model_module": "jupyter-leaflet",
      "model_module_version": "^0.16.0",
      "model_name": "LeafletTileLayerModel",
      "state": {
       "_model_module_version": "^0.16.0",
       "_view_module_version": "^0.16.0",
       "attribution": "Datenquelle: basemap.at",
       "max_native_zoom": 18,
       "max_zoom": 19,
       "min_native_zoom": 0,
       "name": "BasemapAT.terrain",
       "options": [
        "attribution",
        "bounds",
        "detect_retina",
        "max_native_zoom",
        "max_zoom",
        "min_native_zoom",
        "min_zoom",
        "no_wrap",
        "tile_size",
        "tms"
       ],
       "url": "https://maps.wien.gv.at/basemap/bmapgelaende/grau/google3857/{z}/{y}/{x}.jpeg"
      }
     },
     "fb836762a95140bd9f5d3656fd6cee49": {
      "model_module": "jupyter-leaflet",
      "model_module_version": "^0.16.0",
      "model_name": "LeafletZoomControlModel",
      "state": {
       "_model_module_version": "^0.16.0",
       "_view_module_version": "^0.16.0",
       "options": [
        "position",
        "zoom_in_text",
        "zoom_in_title",
        "zoom_out_text",
        "zoom_out_title"
       ]
      }
     },
     "fbf267dc320c427e907a00f24c73f697": {
      "model_module": "@jupyter-widgets/base",
      "model_module_version": "1.2.0",
      "model_name": "LayoutModel",
      "state": {
       "height": "28px",
       "width": "72px"
      }
     },
     "fc4332fbfaee4eb6aaef8b0793ac7e5f": {
      "model_module": "@jupyter-widgets/base",
      "model_module_version": "1.2.0",
      "model_name": "LayoutModel",
      "state": {
       "height": "28px",
       "width": "72px"
      }
     },
     "fc4d7de7350c4676ab18e36588a86a72": {
      "model_module": "jupyter-leaflet",
      "model_module_version": "^0.16.0",
      "model_name": "LeafletTileLayerModel",
      "state": {
       "_model_module_version": "^0.16.0",
       "_view_module_version": "^0.16.0",
       "attribution": "Kaartgegevens (C) Kadaster",
       "max_native_zoom": 18,
       "max_zoom": 19,
       "min_native_zoom": 0,
       "name": "nlmaps.pastel",
       "options": [
        "attribution",
        "bounds",
        "detect_retina",
        "max_native_zoom",
        "max_zoom",
        "min_native_zoom",
        "min_zoom",
        "no_wrap",
        "tile_size",
        "tms"
       ],
       "url": "https://service.pdok.nl/brt/achtergrondkaart/wmts/v2_0/pastel/EPSG:3857/{z}/{x}/{y}.png"
      }
     },
     "fd12873482c9440f9ea73b3f44ba8585": {
      "model_module": "@jupyter-widgets/base",
      "model_module_version": "1.2.0",
      "model_name": "LayoutModel",
      "state": {
       "height": "auto",
       "padding": "0px 0px 0px 4px",
       "width": "auto"
      }
     },
     "fe03204952664429be1d0aac1f6f25f2": {
      "model_module": "jupyter-leaflet",
      "model_module_version": "^0.16.0",
      "model_name": "LeafletFullScreenControlModel",
      "state": {
       "_model_module_version": "^0.16.0",
       "_view_module_version": "^0.16.0",
       "options": [
        "position"
       ]
      }
     },
     "fe430670227d4d028d5bf221750a94b1": {
      "model_module": "jupyter-leaflet",
      "model_module_version": "^0.16.0",
      "model_name": "LeafletWMSLayerModel",
      "state": {
       "_model_module_version": "^0.16.0",
       "_view_module_version": "^0.16.0",
       "attribution": "MRLC",
       "crs": {
        "custom": false,
        "name": "EPSG3857"
       },
       "format": "image/png",
       "layers": "NLCD_2011_Land_Cover_L48",
       "max_native_zoom": 18,
       "min_native_zoom": 0,
       "name": "NLCD 2011 CONUS Land Cover",
       "options": [
        "attribution",
        "bounds",
        "detect_retina",
        "format",
        "layers",
        "max_native_zoom",
        "max_zoom",
        "min_native_zoom",
        "min_zoom",
        "no_wrap",
        "styles",
        "tile_size",
        "tms",
        "transparent",
        "uppercase"
       ],
       "transparent": true,
       "url": "https://www.mrlc.gov/geoserver/mrlc_display/NLCD_2011_Land_Cover_L48/wms?"
      }
     },
     "ff2734e14f384dc694cb9d41fcd8a92a": {
      "model_module": "@jupyter-widgets/base",
      "model_module_version": "1.2.0",
      "model_name": "LayoutModel",
      "state": {
       "height": "auto",
       "padding": "0px 0px 0px 4px",
       "width": "auto"
      }
     },
     "ff44c56d0210431598013f8905faa5fb": {
      "model_module": "@jupyter-widgets/controls",
      "model_module_version": "1.5.0",
      "model_name": "ToggleButtonModel",
      "state": {
       "button_style": "primary",
       "icon": "search-plus",
       "layout": "IPY_MODEL_92451589ec5a449890cf23ef38ec6eb6",
       "style": "IPY_MODEL_e462ae362d1c4eb08f11640f1882b71c",
       "tooltip": "Search features in GeoJSON layer"
      }
     }
    },
    "version_major": 2,
    "version_minor": 0
   }
  }
 },
 "nbformat": 4,
 "nbformat_minor": 5
}
