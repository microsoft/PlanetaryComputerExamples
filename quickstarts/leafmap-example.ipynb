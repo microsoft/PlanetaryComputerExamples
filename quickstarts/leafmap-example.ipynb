{
 "cells": [
  {
   "cell_type": "markdown",
   "id": "797d03cb-8aa1-4355-8e74-dd9bb72028f5",
   "metadata": {},
   "source": [
    "## Using leafmap for interactive mapping \n",
    "\n",
    "[Leafmap](https://leafmap.org/) is a Python package for interactive mapping and geospatial analysis with minimal coding in a Jupyter environment.\n",
    "\n",
    "Leafmap includes great support for visualizing data using STAC metadata. For example, you can provide the name of a collection, item, and asset it visualize."
   ]
  },
  {
   "cell_type": "code",
   "execution_count": 1,
   "id": "daae6609-b02c-4a76-967e-4229d2208d1f",
   "metadata": {},
   "outputs": [
    {
     "data": {
      "application/vnd.jupyter.widget-view+json": {
       "model_id": "a646aef3914a4b6689a62b11ca904dc8",
       "version_major": 2,
       "version_minor": 0
      },
      "text/plain": [
       "Map(center=[20, 0], controls=(ZoomControl(options=['position', 'zoom_in_text', 'zoom_in_title', 'zoom_out_text…"
      ]
     },
     "metadata": {},
     "output_type": "display_data"
    }
   ],
   "source": [
    "import leafmap\n",
    "\n",
    "m = leafmap.Map()\n",
    "m.add_stac_layer(\n",
    "    collection=\"landsat-c2-l2\",\n",
    "    item=\"LC09_L2SP_047026_20220305_02_T1\",\n",
    "    assets=\"red\",\n",
    "    rescale=\"0,12000\",\n",
    "    colormap_name=\"reds\",\n",
    ")\n",
    "m"
   ]
  },
  {
   "cell_type": "markdown",
   "id": "05b56de0-41d8-430d-99f4-480886db2b13",
   "metadata": {},
   "source": [
    "You can use [`pystac_client`](https://pystac-client.readthedocs.io/en/latest/) or the Planteary Computer [Explorer](https://planetarycomputer.microsoft.com/docs/overview/explorer/) to find the STAC collections and item IDs.\n",
    "\n",
    "Internally, that `add_stac_layer` call is using the Planteary Computer's [STAC API](https://planetarycomputer.microsoft.com/api/stac/v1) ([documentation](https://planetarycomputer.microsoft.com/docs/reference/stac/)) to get the spatiotemporal metadata and the Planetary Computer's [data API](https://planetarycomputer.microsoft.com/api/data/v1/) ([documentation](https://planetarycomputer.microsoft.com/docs/reference/data/)) to get the actual images to display on the map. The data API uses [TiTiler](https://developmentseed.org/titiler/) to dynamically render the images, which means you can provide TiTiler expressions to dynamically render the values you want.\n",
    "\n",
    "For example, we can render NDVI:"
   ]
  },
  {
   "cell_type": "code",
   "execution_count": 2,
   "id": "1b3571cc-f7d7-4413-b90f-79bc629a24da",
   "metadata": {},
   "outputs": [
    {
     "data": {
      "application/vnd.jupyter.widget-view+json": {
       "model_id": "7224c683b2c1434a9abafa2c3a2ecb22",
       "version_major": 2,
       "version_minor": 0
      },
      "text/plain": [
       "Map(center=[20, 0], controls=(ZoomControl(options=['position', 'zoom_in_text', 'zoom_in_title', 'zoom_out_text…"
      ]
     },
     "metadata": {},
     "output_type": "display_data"
    }
   ],
   "source": [
    "import leafmap\n",
    "\n",
    "m = leafmap.Map()\n",
    "m.add_stac_layer(\n",
    "    collection=\"landsat-c2-l2\",\n",
    "    item=\"LC09_L2SP_047026_20220305_02_T1\",\n",
    "    assets=[\"nir08, red\"],\n",
    "    expression=\"(nir08 - red) / (nir08 + red)\",\n",
    "    rescale=\"-.5,0.5\",\n",
    "    colormap_name=\"rdylgn\",\n",
    "    name=\"NDVI\",\n",
    ")\n",
    "m"
   ]
  },
  {
   "cell_type": "markdown",
   "id": "690547e9-3919-4d01-9b38-424be2eaacd0",
   "metadata": {},
   "source": [
    "Or plot a natural-color image from Sentinel-2:"
   ]
  },
  {
   "cell_type": "code",
   "execution_count": 3,
   "id": "6574b515-7688-4547-a2e1-c456a2e48dc5",
   "metadata": {},
   "outputs": [
    {
     "data": {
      "application/vnd.jupyter.widget-view+json": {
       "model_id": "becdc1a44bc54d0bb5649f0f4cfaaa60",
       "version_major": 2,
       "version_minor": 0
      },
      "text/plain": [
       "Map(center=[20, 0], controls=(ZoomControl(options=['position', 'zoom_in_text', 'zoom_in_title', 'zoom_out_text…"
      ]
     },
     "metadata": {},
     "output_type": "display_data"
    }
   ],
   "source": [
    "import leafmap\n",
    "\n",
    "m = leafmap.Map()\n",
    "m.add_stac_layer(\n",
    "    collection=\"sentinel-2-l2a\",\n",
    "    item=\"S2B_MSIL2A_20220520T015619_R117_T51LXC_20220521T145604\",\n",
    "    assets=[\"B04\", \"B03\", \"B02\"],\n",
    "    color_formula=\"Gamma RGB 3.2 Saturation 0.8 Sigmoidal RGB 25 0.35\",\n",
    "    nodata=0,\n",
    "    rescale=\"0,50000\",\n",
    ")\n",
    "m"
   ]
  },
  {
   "cell_type": "markdown",
   "id": "e519930c-c6dc-40c7-944a-308f02d7df13",
   "metadata": {},
   "source": [
    "### Next steps\n",
    "\n",
    "Leafmap includes many more features for working with geospatial data, including the ability to add data from [GeoJSON](https://leafmap.org/notebooks/00_key_features/#add-geojson) or [GeoDataFrame](https://leafmap.org/notebooks/00_key_features/#add-geodataframe) sources, [creating heat maps](https://leafmap.org/notebooks/00_key_features/#create-heat-map), and more. Visit the [leafmap](https://leafmap.org/) documentation to learn more."
   ]
  }
 ],
 "metadata": {
  "kernelspec": {
   "display_name": "Python 3 (ipykernel)",
   "language": "python",
   "name": "python3"
  },
  "language_info": {
   "codemirror_mode": {
    "name": "ipython",
    "version": 3
   },
   "file_extension": ".py",
   "mimetype": "text/x-python",
   "name": "python",
   "nbconvert_exporter": "python",
   "pygments_lexer": "ipython3",
   "version": "3.8.13"
  },
  "widgets": {
   "application/vnd.jupyter.widget-state+json": {
    "state": {
     "001f088bf3724d1da1941e8428969a7a": {
      "model_module": "jupyter-leaflet",
      "model_module_version": "^0.16.0",
      "model_name": "LeafletTileLayerModel",
      "state": {
       "_model_module_version": "^0.16.0",
       "_view_module_version": "^0.16.0",
       "attribution": "Map tiles by Stamen Design, CC BY 3.0 -- Map data (C) OpenStreetMap contributors",
       "max_native_zoom": 18,
       "max_zoom": 20,
       "min_native_zoom": 0,
       "name": "Stamen.TopOSMRelief",
       "options": [
        "attribution",
        "bounds",
        "detect_retina",
        "max_native_zoom",
        "max_zoom",
        "min_native_zoom",
        "min_zoom",
        "no_wrap",
        "tile_size",
        "tms"
       ],
       "url": "https://stamen-tiles-a.a.ssl.fastly.net/toposm-color-relief/{z}/{x}/{y}.jpg"
      }
     },
     "00855ad0442e4f108566310c2867b89c": {
      "model_module": "jupyter-leaflet",
      "model_module_version": "^0.16.0",
      "model_name": "LeafletTileLayerModel",
      "state": {
       "_model_module_version": "^0.16.0",
       "_view_module_version": "^0.16.0",
       "attribution": "(C) OpenStreetMap contributors, vizualization CC-By-SA 2.0 Freemap.sk",
       "max_native_zoom": 18,
       "max_zoom": 16,
       "min_native_zoom": 0,
       "name": "FreeMapSK",
       "options": [
        "attribution",
        "bounds",
        "detect_retina",
        "max_native_zoom",
        "max_zoom",
        "min_native_zoom",
        "min_zoom",
        "no_wrap",
        "tile_size",
        "tms"
       ],
       "url": "https://a.freemap.sk/T/{z}/{x}/{y}.jpeg"
      }
     },
     "0110e2737021413a94f52bee84c4f7a9": {
      "model_module": "jupyter-leaflet",
      "model_module_version": "^0.16.0",
      "model_name": "LeafletTileLayerModel",
      "state": {
       "_model_module_version": "^0.16.0",
       "_view_module_version": "^0.16.0",
       "attribution": "&copy; <a href=\"http://www.gaode.com/\">Gaode.com</a>",
       "max_native_zoom": 18,
       "max_zoom": 19,
       "min_native_zoom": 0,
       "name": "Gaode.Satellite",
       "options": [
        "attribution",
        "bounds",
        "detect_retina",
        "max_native_zoom",
        "max_zoom",
        "min_native_zoom",
        "min_zoom",
        "no_wrap",
        "tile_size",
        "tms"
       ],
       "url": "http://webst01.is.autonavi.com/appmaptile?style=6&x={x}&y={y}&z={z}"
      }
     },
     "018349eef8bb43b1950e9a9fafec3bf7": {
      "model_module": "@jupyter-widgets/controls",
      "model_module_version": "1.5.0",
      "model_name": "ToggleButtonModel",
      "state": {
       "icon": "server",
       "layout": "IPY_MODEL_1722c537f7da4e6c8e0d1f93ad59e82c",
       "style": "IPY_MODEL_ee404be2c7644678bf1a8e09000b746b",
       "tooltip": "Layers"
      }
     },
     "01cb364c21ec4d94a9b448e569153458": {
      "model_module": "jupyter-leaflet",
      "model_module_version": "^0.16.0",
      "model_name": "LeafletTileLayerModel",
      "state": {
       "_model_module_version": "^0.16.0",
       "_view_module_version": "^0.16.0",
       "attribution": "Geoportail France",
       "max_native_zoom": 18,
       "max_zoom": 19,
       "min_native_zoom": 0,
       "name": "GeoportailFrance.orthos",
       "options": [
        "attribution",
        "bounds",
        "detect_retina",
        "max_native_zoom",
        "max_zoom",
        "min_native_zoom",
        "min_zoom",
        "no_wrap",
        "tile_size",
        "tms"
       ],
       "url": "https://wxs.ign.fr/choisirgeoportail/geoportail/wmts?REQUEST=GetTile&SERVICE=WMTS&VERSION=1.0.0&STYLE=normal&TILEMATRIXSET=PM&FORMAT=image/jpeg&LAYER=ORTHOIMAGERY.ORTHOPHOTOS&TILEMATRIX={z}&TILEROW={y}&TILECOL={x}"
      }
     },
     "035b9e03b7b94106a214de49d453d33a": {
      "model_module": "@jupyter-widgets/base",
      "model_module_version": "1.2.0",
      "model_name": "LayoutModel",
      "state": {}
     },
     "05a9e37a20d44b0e88fefed2d90a79d5": {
      "model_module": "@jupyter-widgets/base",
      "model_module_version": "1.2.0",
      "model_name": "LayoutModel",
      "state": {
       "height": "auto",
       "padding": "0px 0px 0px 4px",
       "width": "auto"
      }
     },
     "05c730b60c3d4581b5939d9dab42903a": {
      "model_module": "@jupyter-widgets/controls",
      "model_module_version": "1.5.0",
      "model_name": "ToggleButtonModel",
      "state": {
       "button_style": "primary",
       "icon": "picture-o",
       "layout": "IPY_MODEL_0a593b6a109d44c797b5b21e6665b613",
       "style": "IPY_MODEL_709bed1642fd4b74a54fe59931770f83",
       "tooltip": "Open COG/STAC dataset"
      }
     },
     "0616120e424c4b99b0715a176722b28e": {
      "model_module": "@jupyter-widgets/base",
      "model_module_version": "1.2.0",
      "model_name": "LayoutModel",
      "state": {
       "height": "28px",
       "padding": "0px 0px 0px 4px",
       "width": "28px"
      }
     },
     "0685c8e0743f4f1d9a1f7ad915ba6d10": {
      "model_module": "@jupyter-widgets/output",
      "model_module_version": "1.0.0",
      "model_name": "OutputModel",
      "state": {
       "layout": "IPY_MODEL_7114c644ba024806862cbb570621afe8"
      }
     },
     "0762d217ad654bb0afd2b0ee70c70fd3": {
      "model_module": "jupyter-leaflet",
      "model_module_version": "^0.16.0",
      "model_name": "LeafletTileLayerModel",
      "state": {
       "_model_module_version": "^0.16.0",
       "_view_module_version": "^0.16.0",
       "attribution": "Map tiles by Stamen Design, CC BY 3.0 -- Map data (C) OpenStreetMap contributors",
       "max_native_zoom": 18,
       "min_native_zoom": 0,
       "name": "Stamen.TerrainLabels",
       "options": [
        "attribution",
        "bounds",
        "detect_retina",
        "max_native_zoom",
        "max_zoom",
        "min_native_zoom",
        "min_zoom",
        "no_wrap",
        "tile_size",
        "tms"
       ],
       "url": "https://stamen-tiles-a.a.ssl.fastly.net/terrain-labels/{z}/{x}/{y}.png"
      }
     },
     "07fd302066684dfebb70d94f09285abe": {
      "model_module": "jupyter-leaflet",
      "model_module_version": "^0.16.0",
      "model_name": "LeafletTileLayerModel",
      "state": {
       "_model_module_version": "^0.16.0",
       "_view_module_version": "^0.16.0",
       "attribution": "Datenquelle: basemap.at",
       "max_native_zoom": 18,
       "max_zoom": 19,
       "min_native_zoom": 0,
       "name": "BasemapAT.grau",
       "options": [
        "attribution",
        "bounds",
        "detect_retina",
        "max_native_zoom",
        "max_zoom",
        "min_native_zoom",
        "min_zoom",
        "no_wrap",
        "tile_size",
        "tms"
       ],
       "url": "https://maps.wien.gv.at/basemap/bmapgrau/normal/google3857/{z}/{y}/{x}.png"
      }
     },
     "083dac07d78548f7975b807b6ad3557d": {
      "model_module": "@jupyter-widgets/controls",
      "model_module_version": "1.5.0",
      "model_name": "DescriptionStyleModel",
      "state": {
       "description_width": ""
      }
     },
     "083fb427522b406da30955e04a3bc9f2": {
      "model_module": "jupyter-leaflet",
      "model_module_version": "^0.16.0",
      "model_name": "LeafletTileLayerModel",
      "state": {
       "_model_module_version": "^0.16.0",
       "_view_module_version": "^0.16.0",
       "attribution": "Imagery provided by services from the Global Imagery Browse Services (GIBS), operated by the NASA/GSFC/Earth Science Data and Information System (<a href=\"https://earthdata.nasa.gov\">ESDIS</a>) with funding provided by NASA/HQ.",
       "max_native_zoom": 18,
       "max_zoom": 9,
       "min_native_zoom": 0,
       "name": "NASAGIBS.ViirsTrueColorCR",
       "options": [
        "attribution",
        "bounds",
        "detect_retina",
        "max_native_zoom",
        "max_zoom",
        "min_native_zoom",
        "min_zoom",
        "no_wrap",
        "tile_size",
        "tms"
       ],
       "url": "https://gibs.earthdata.nasa.gov/wmts/epsg3857/best/VIIRS_SNPP_CorrectedReflectance_TrueColor/default//GoogleMapsCompatible_Level9/{z}/{y}/{x}.jpg"
      }
     },
     "08663d20d7ed42b9bbea99eee0a0c1c8": {
      "model_module": "jupyter-leaflet",
      "model_module_version": "^0.16.0",
      "model_name": "LeafletWMSLayerModel",
      "state": {
       "_model_module_version": "^0.16.0",
       "_view_module_version": "^0.16.0",
       "attribution": "MRLC",
       "crs": {
        "custom": false,
        "name": "EPSG3857"
       },
       "format": "image/png",
       "layers": "NLCD_2006_Land_Cover_L48",
       "max_native_zoom": 18,
       "min_native_zoom": 0,
       "name": "NLCD 2006 CONUS Land Cover",
       "options": [
        "attribution",
        "bounds",
        "detect_retina",
        "format",
        "layers",
        "max_native_zoom",
        "max_zoom",
        "min_native_zoom",
        "min_zoom",
        "no_wrap",
        "styles",
        "tile_size",
        "tms",
        "transparent",
        "uppercase"
       ],
       "transparent": true,
       "url": "https://www.mrlc.gov/geoserver/mrlc_display/NLCD_2006_Land_Cover_L48/wms?"
      }
     },
     "0905f215f08e4676be8a3beebde437d9": {
      "model_module": "jupyter-leaflet",
      "model_module_version": "^0.16.0",
      "model_name": "LeafletFullScreenControlModel",
      "state": {
       "_model_module_version": "^0.16.0",
       "_view_module_version": "^0.16.0",
       "options": [
        "position"
       ]
      }
     },
     "09a88f43a0ce48f1be9dcdfea9c70c2a": {
      "model_module": "@jupyter-widgets/controls",
      "model_module_version": "1.5.0",
      "model_name": "ToggleButtonModel",
      "state": {
       "button_style": "primary",
       "icon": "download",
       "layout": "IPY_MODEL_b0ac3edd829849979f0e9450265db2d2",
       "style": "IPY_MODEL_ed5f87f31bc14680b5a9adc6047cc55e",
       "tooltip": "Download OSM data"
      }
     },
     "09ba10f20bc1429f9543e1d9db4c1ec0": {
      "model_module": "jupyter-leaflet",
      "model_module_version": "^0.16.0",
      "model_name": "LeafletTileLayerModel",
      "state": {
       "_model_module_version": "^0.16.0",
       "_view_module_version": "^0.16.0",
       "attribution": "Imagery provided by services from the Global Imagery Browse Services (GIBS), operated by the NASA/GSFC/Earth Science Data and Information System (<a href=\"https://earthdata.nasa.gov\">ESDIS</a>) with funding provided by NASA/HQ.",
       "max_native_zoom": 18,
       "max_zoom": 5,
       "min_native_zoom": 0,
       "name": "NASAGIBS.BlueMarble3031",
       "options": [
        "attribution",
        "bounds",
        "detect_retina",
        "max_native_zoom",
        "max_zoom",
        "min_native_zoom",
        "min_zoom",
        "no_wrap",
        "tile_size",
        "tms"
       ],
       "url": "https://gibs.earthdata.nasa.gov/wmts/epsg3031/best/BlueMarble_NextGeneration/default/EPSG3031_500m/{z}/{y}/{x}.jpeg"
      }
     },
     "0a1927cc09d5450790dd792b1d080b53": {
      "model_module": "jupyter-leaflet",
      "model_module_version": "^0.16.0",
      "model_name": "LeafletTileLayerModel",
      "state": {
       "_model_module_version": "^0.16.0",
       "_view_module_version": "^0.16.0",
       "attribution": "Google",
       "max_native_zoom": 18,
       "max_zoom": 22,
       "min_native_zoom": 0,
       "name": "Google Terrain",
       "options": [
        "attribution",
        "bounds",
        "detect_retina",
        "max_native_zoom",
        "max_zoom",
        "min_native_zoom",
        "min_zoom",
        "no_wrap",
        "tile_size",
        "tms"
       ],
       "url": "https://mt1.google.com/vt/lyrs=p&x={x}&y={y}&z={z}"
      }
     },
     "0a593b6a109d44c797b5b21e6665b613": {
      "model_module": "@jupyter-widgets/base",
      "model_module_version": "1.2.0",
      "model_name": "LayoutModel",
      "state": {
       "height": "auto",
       "padding": "0px 0px 0px 4px",
       "width": "auto"
      }
     },
     "0b86111dd21a498eabf990b5674469d3": {
      "model_module": "@jupyter-widgets/controls",
      "model_module_version": "1.5.0",
      "model_name": "ToggleButtonModel",
      "state": {
       "icon": "wrench",
       "layout": "IPY_MODEL_e7a7c75775354e7ebc7a3f047c055014",
       "style": "IPY_MODEL_8d011d242bb4444897281a57402f0a5a",
       "tooltip": "Toolbar"
      }
     },
     "0c2c6cecffd44ecdbeda5e9245f2fa30": {
      "model_module": "jupyter-leaflet",
      "model_module_version": "^0.16.0",
      "model_name": "LeafletTileLayerModel",
      "state": {
       "_model_module_version": "^0.16.0",
       "_view_module_version": "^0.16.0",
       "attribution": "Justice Map",
       "max_native_zoom": 18,
       "max_zoom": 22,
       "min_native_zoom": 0,
       "name": "JusticeMap.nonWhite",
       "options": [
        "attribution",
        "bounds",
        "detect_retina",
        "max_native_zoom",
        "max_zoom",
        "min_native_zoom",
        "min_zoom",
        "no_wrap",
        "tile_size",
        "tms"
       ],
       "url": "https://www.justicemap.org/tile/county/nonwhite/{z}/{x}/{y}.png"
      }
     },
     "0e7571e663b44664a503bf3490f39c80": {
      "model_module": "jupyter-leaflet",
      "model_module_version": "^0.16.0",
      "model_name": "LeafletTileLayerModel",
      "state": {
       "_model_module_version": "^0.16.0",
       "_view_module_version": "^0.16.0",
       "attribution": "&copy; <a href=\"https://www.openstreetmap.org/copyright\">OpenStreetMap</a> contributors",
       "base": true,
       "max_native_zoom": 18,
       "max_zoom": 19,
       "min_native_zoom": 0,
       "min_zoom": 1,
       "name": "OpenStreetMap",
       "options": [
        "attribution",
        "bounds",
        "detect_retina",
        "max_native_zoom",
        "max_zoom",
        "min_native_zoom",
        "min_zoom",
        "no_wrap",
        "tile_size",
        "tms"
       ],
       "url": "https://a.tile.openstreetmap.org/{z}/{x}/{y}.png"
      }
     },
     "0fc19ce92cea4861a58ba54c6ef80aab": {
      "model_module": "@jupyter-widgets/base",
      "model_module_version": "1.2.0",
      "model_name": "LayoutModel",
      "state": {
       "height": "auto",
       "padding": "0px 0px 0px 4px",
       "width": "auto"
      }
     },
     "1088ce58bcdd4fa5a446e49e85eec68a": {
      "model_module": "@jupyter-widgets/base",
      "model_module_version": "1.2.0",
      "model_name": "LayoutModel",
      "state": {
       "height": "auto",
       "padding": "0px 0px 0px 4px",
       "width": "auto"
      }
     },
     "10a0d2e6665e4e01ab589bf4333084fc": {
      "model_module": "jupyter-leaflet",
      "model_module_version": "^0.16.0",
      "model_name": "LeafletTileLayerModel",
      "state": {
       "_model_module_version": "^0.16.0",
       "_view_module_version": "^0.16.0",
       "attribution": "Map data: (C) OpenStreetMap contributors | Map style: (C) waymarkedtrails.org (CC-BY-SA)",
       "max_native_zoom": 18,
       "min_native_zoom": 0,
       "name": "WaymarkedTrails.skating",
       "options": [
        "attribution",
        "bounds",
        "detect_retina",
        "max_native_zoom",
        "max_zoom",
        "min_native_zoom",
        "min_zoom",
        "no_wrap",
        "tile_size",
        "tms"
       ],
       "url": "https://tile.waymarkedtrails.org/skating/{z}/{x}/{y}.png"
      }
     },
     "10fa900854ee40f789b27a3ac61b3560": {
      "model_module": "jupyter-leaflet",
      "model_module_version": "^0.16.0",
      "model_name": "LeafletTileLayerModel",
      "state": {
       "_model_module_version": "^0.16.0",
       "_view_module_version": "^0.16.0",
       "attribution": "© swisstopo",
       "max_native_zoom": 18,
       "min_native_zoom": 0,
       "name": "SwissFederalGeoportal.JourneyThroughTime",
       "options": [
        "attribution",
        "bounds",
        "detect_retina",
        "max_native_zoom",
        "max_zoom",
        "min_native_zoom",
        "min_zoom",
        "no_wrap",
        "tile_size",
        "tms"
       ],
       "url": "https://wmts.geo.admin.ch/1.0.0/ch.swisstopo.zeitreihen/default/18641231/3857/{z}/{x}/{y}.png"
      }
     },
     "112d99d69c4a4923b0e2918d65f6e500": {
      "model_module": "@jupyter-widgets/controls",
      "model_module_version": "1.5.0",
      "model_name": "DescriptionStyleModel",
      "state": {
       "description_width": ""
      }
     },
     "1172d43c6d2e407fa6bc715bd9300b6a": {
      "model_module": "jupyter-leaflet",
      "model_module_version": "^0.16.0",
      "model_name": "LeafletTileLayerModel",
      "state": {
       "_model_module_version": "^0.16.0",
       "_view_module_version": "^0.16.0",
       "attribution": "Map data: (C) OpenStreetMap contributors | Map style: (C) waymarkedtrails.org (CC-BY-SA)",
       "max_native_zoom": 18,
       "min_native_zoom": 0,
       "name": "WaymarkedTrails.riding",
       "options": [
        "attribution",
        "bounds",
        "detect_retina",
        "max_native_zoom",
        "max_zoom",
        "min_native_zoom",
        "min_zoom",
        "no_wrap",
        "tile_size",
        "tms"
       ],
       "url": "https://tile.waymarkedtrails.org/riding/{z}/{x}/{y}.png"
      }
     },
     "11e5535b9db3440695629cfda325bc55": {
      "model_module": "jupyter-leaflet",
      "model_module_version": "^0.16.0",
      "model_name": "LeafletTileLayerModel",
      "state": {
       "_model_module_version": "^0.16.0",
       "_view_module_version": "^0.16.0",
       "attribution": "Imagery provided by services from the Global Imagery Browse Services (GIBS), operated by the NASA/GSFC/Earth Science Data and Information System (<a href=\"https://earthdata.nasa.gov\">ESDIS</a>) with funding provided by NASA/HQ.",
       "max_native_zoom": 18,
       "max_zoom": 9,
       "min_native_zoom": 0,
       "name": "NASAGIBS.ModisAquaBands721CR",
       "options": [
        "attribution",
        "bounds",
        "detect_retina",
        "max_native_zoom",
        "max_zoom",
        "min_native_zoom",
        "min_zoom",
        "no_wrap",
        "tile_size",
        "tms"
       ],
       "url": "https://gibs.earthdata.nasa.gov/wmts/epsg3857/best/MODIS_Aqua_CorrectedReflectance_Bands721/default//GoogleMapsCompatible_Level9/{z}/{y}/{x}.jpg"
      }
     },
     "1293fef920fd43a2ac036da12d70678e": {
      "model_module": "@jupyter-widgets/base",
      "model_module_version": "1.2.0",
      "model_name": "LayoutModel",
      "state": {
       "height": "auto",
       "padding": "0px 0px 0px 4px",
       "width": "auto"
      }
     },
     "13c4a9cf49334b219d63c3ddcdedca0d": {
      "model_module": "jupyter-leaflet",
      "model_module_version": "^0.16.0",
      "model_name": "LeafletScaleControlModel",
      "state": {
       "_model_module_version": "^0.16.0",
       "_view_module_version": "^0.16.0",
       "imperial": true,
       "max_width": 100,
       "metric": true,
       "options": [
        "imperial",
        "max_width",
        "metric",
        "position",
        "update_when_idle"
       ],
       "position": "bottomleft",
       "update_when_idle": false
      }
     },
     "13f484de3f2946a79dd09aed4feffa3e": {
      "model_module": "@jupyter-widgets/controls",
      "model_module_version": "1.5.0",
      "model_name": "DescriptionStyleModel",
      "state": {
       "description_width": ""
      }
     },
     "1407d06f526745d3b031d162ca2a5afe": {
      "model_module": "jupyter-leaflet",
      "model_module_version": "^0.16.0",
      "model_name": "LeafletTileLayerModel",
      "state": {
       "_model_module_version": "^0.16.0",
       "_view_module_version": "^0.16.0",
       "attribution": "(C) OpenStreetMap contributors (C) CARTO",
       "max_native_zoom": 18,
       "max_zoom": 20,
       "min_native_zoom": 0,
       "name": "CartoDB.DarkMatterOnlyLabels",
       "options": [
        "attribution",
        "bounds",
        "detect_retina",
        "max_native_zoom",
        "max_zoom",
        "min_native_zoom",
        "min_zoom",
        "no_wrap",
        "tile_size",
        "tms"
       ],
       "url": "https://a.basemaps.cartocdn.com/dark_only_labels/{z}/{x}/{y}.png"
      }
     },
     "14baab10e61a469fa1c45d84115d7230": {
      "model_module": "jupyter-leaflet",
      "model_module_version": "^0.16.0",
      "model_name": "LeafletTileLayerModel",
      "state": {
       "_model_module_version": "^0.16.0",
       "_view_module_version": "^0.16.0",
       "attribution": "Datenquelle: basemap.at",
       "max_native_zoom": 18,
       "max_zoom": 20,
       "min_native_zoom": 0,
       "name": "BasemapAT.orthofoto",
       "options": [
        "attribution",
        "bounds",
        "detect_retina",
        "max_native_zoom",
        "max_zoom",
        "min_native_zoom",
        "min_zoom",
        "no_wrap",
        "tile_size",
        "tms"
       ],
       "url": "https://maps.wien.gv.at/basemap/bmaporthofoto30cm/normal/google3857/{z}/{y}/{x}.jpeg"
      }
     },
     "14e907dcc79d48e7b501a809fa475de8": {
      "model_module": "@jupyter-widgets/controls",
      "model_module_version": "1.5.0",
      "model_name": "ToggleButtonModel",
      "state": {
       "button_style": "primary",
       "icon": "table",
       "layout": "IPY_MODEL_e2cc3e70cca044d2a015f731b7a36e4e",
       "style": "IPY_MODEL_89e4e2eded3b4886ba01721ac50a8e68",
       "tooltip": "Open attribute table"
      }
     },
     "14f09dfa819049daba5fff5fb386241d": {
      "model_module": "jupyter-leaflet",
      "model_module_version": "^0.16.0",
      "model_name": "LeafletTileLayerModel",
      "state": {
       "_model_module_version": "^0.16.0",
       "_view_module_version": "^0.16.0",
       "attribution": "(C) Stadia Maps, (C) OpenMapTiles (C) OpenStreetMap contributors",
       "max_native_zoom": 18,
       "max_zoom": 20,
       "min_native_zoom": 0,
       "name": "Stadia.OSMBright",
       "options": [
        "attribution",
        "bounds",
        "detect_retina",
        "max_native_zoom",
        "max_zoom",
        "min_native_zoom",
        "min_zoom",
        "no_wrap",
        "tile_size",
        "tms"
       ],
       "url": "https://tiles.stadiamaps.com/tiles/osm_bright/{z}/{x}/{y}.png"
      }
     },
     "151868d767fc45a9839b87c1444d6a58": {
      "model_module": "jupyter-leaflet",
      "model_module_version": "^0.16.0",
      "model_name": "LeafletTileLayerModel",
      "state": {
       "_model_module_version": "^0.16.0",
       "_view_module_version": "^0.16.0",
       "attribution": "(C) OpenStreetMap contributors",
       "max_native_zoom": 18,
       "max_zoom": 19,
       "min_native_zoom": 0,
       "name": "OpenStreetMap.Mapnik",
       "options": [
        "attribution",
        "bounds",
        "detect_retina",
        "max_native_zoom",
        "max_zoom",
        "min_native_zoom",
        "min_zoom",
        "no_wrap",
        "tile_size",
        "tms"
       ],
       "url": "https://a.tile.openstreetmap.org/{z}/{x}/{y}.png"
      }
     },
     "15422728641646f3ae30c041133fc72a": {
      "model_module": "@jupyter-widgets/controls",
      "model_module_version": "1.5.0",
      "model_name": "ToggleButtonModel",
      "state": {
       "button_style": "primary",
       "icon": "pencil-square-o",
       "layout": "IPY_MODEL_5926303a4d384616ae6f2191b8ceaadc",
       "style": "IPY_MODEL_13f484de3f2946a79dd09aed4feffa3e",
       "tooltip": "Create vector data"
      }
     },
     "155380c15dcb4d8cb8024deaaf726a25": {
      "model_module": "jupyter-leaflet",
      "model_module_version": "^0.16.0",
      "model_name": "LeafletTileLayerModel",
      "state": {
       "_model_module_version": "^0.16.0",
       "_view_module_version": "^0.16.0",
       "attribution": "(C) OpenStreetMap France | (C) OpenStreetMap contributors",
       "max_native_zoom": 18,
       "max_zoom": 20,
       "min_native_zoom": 0,
       "name": "OpenStreetMap.France",
       "options": [
        "attribution",
        "bounds",
        "detect_retina",
        "max_native_zoom",
        "max_zoom",
        "min_native_zoom",
        "min_zoom",
        "no_wrap",
        "tile_size",
        "tms"
       ],
       "url": "https://a.tile.openstreetmap.fr/osmfr/{z}/{x}/{y}.png"
      }
     },
     "155c71eb7e6849ebadfd79ad1943d1f1": {
      "model_module": "jupyter-leaflet",
      "model_module_version": "^0.16.0",
      "model_name": "LeafletTileLayerModel",
      "state": {
       "_model_module_version": "^0.16.0",
       "_view_module_version": "^0.16.0",
       "attribution": "(C) OpenStreetMap contributors",
       "max_native_zoom": 18,
       "max_zoom": 19,
       "min_native_zoom": 0,
       "name": "HikeBike.HikeBike",
       "options": [
        "attribution",
        "bounds",
        "detect_retina",
        "max_native_zoom",
        "max_zoom",
        "min_native_zoom",
        "min_zoom",
        "no_wrap",
        "tile_size",
        "tms"
       ],
       "url": "https://tiles.wmflabs.org/hikebike/{z}/{x}/{y}.png"
      }
     },
     "15ac721c33d44ab19013e410d68f3153": {
      "model_module": "jupyter-leaflet",
      "model_module_version": "^0.16.0",
      "model_name": "LeafletTileLayerModel",
      "state": {
       "_model_module_version": "^0.16.0",
       "_view_module_version": "^0.16.0",
       "attribution": "Tiles (C) Esri -- Esri, DeLorme, NAVTEQ",
       "max_native_zoom": 18,
       "max_zoom": 16,
       "min_native_zoom": 0,
       "name": "Esri.WorldGrayCanvas",
       "options": [
        "attribution",
        "bounds",
        "detect_retina",
        "max_native_zoom",
        "max_zoom",
        "min_native_zoom",
        "min_zoom",
        "no_wrap",
        "tile_size",
        "tms"
       ],
       "url": "https://server.arcgisonline.com/ArcGIS/rest/services/Canvas/World_Light_Gray_Base/MapServer/tile/{z}/{y}/{x}"
      }
     },
     "170c7d99959247ea9e64c02f5c5f615d": {
      "model_module": "jupyter-leaflet",
      "model_module_version": "^0.16.0",
      "model_name": "LeafletAttributionControlModel",
      "state": {
       "_model_module_version": "^0.16.0",
       "_view_module_version": "^0.16.0",
       "options": [
        "position",
        "prefix"
       ],
       "position": "bottomright",
       "prefix": "ipyleaflet"
      }
     },
     "1722c537f7da4e6c8e0d1f93ad59e82c": {
      "model_module": "@jupyter-widgets/base",
      "model_module_version": "1.2.0",
      "model_name": "LayoutModel",
      "state": {
       "height": "28px",
       "width": "72px"
      }
     },
     "18ba0ae02fdd4feea754ef17e390c5db": {
      "model_module": "jupyter-leaflet",
      "model_module_version": "^0.16.0",
      "model_name": "LeafletAttributionControlModel",
      "state": {
       "_model_module_version": "^0.16.0",
       "_view_module_version": "^0.16.0",
       "options": [
        "position",
        "prefix"
       ],
       "position": "bottomright",
       "prefix": "ipyleaflet"
      }
     },
     "18e0606e7d8c4f278d32e046e7da7c77": {
      "model_module": "jupyter-leaflet",
      "model_module_version": "^0.16.0",
      "model_name": "LeafletWMSLayerModel",
      "state": {
       "_model_module_version": "^0.16.0",
       "_view_module_version": "^0.16.0",
       "attribution": "MRLC",
       "crs": {
        "custom": false,
        "name": "EPSG3857"
       },
       "format": "image/png",
       "layers": "NLCD_2011_Land_Cover_L48",
       "max_native_zoom": 18,
       "min_native_zoom": 0,
       "name": "NLCD 2011 CONUS Land Cover",
       "options": [
        "attribution",
        "bounds",
        "detect_retina",
        "format",
        "layers",
        "max_native_zoom",
        "max_zoom",
        "min_native_zoom",
        "min_zoom",
        "no_wrap",
        "styles",
        "tile_size",
        "tms",
        "transparent",
        "uppercase"
       ],
       "transparent": true,
       "url": "https://www.mrlc.gov/geoserver/mrlc_display/NLCD_2011_Land_Cover_L48/wms?"
      }
     },
     "198506e151d743e1bf1f8fbe40a2f5de": {
      "model_module": "@jupyter-widgets/controls",
      "model_module_version": "1.5.0",
      "model_name": "DescriptionStyleModel",
      "state": {
       "description_width": ""
      }
     },
     "1a114a2da93849c685c7ff9908058625": {
      "model_module": "@jupyter-widgets/base",
      "model_module_version": "1.2.0",
      "model_name": "LayoutModel",
      "state": {
       "height": "auto",
       "padding": "0px 0px 0px 4px",
       "width": "auto"
      }
     },
     "1aa514bd6db1452f8d0e201152671ab9": {
      "model_module": "jupyter-leaflet",
      "model_module_version": "^0.16.0",
      "model_name": "LeafletTileLayerModel",
      "state": {
       "_model_module_version": "^0.16.0",
       "_view_module_version": "^0.16.0",
       "attribution": "Tiles (C) Esri -- Source: Esri, DeLorme, NAVTEQ, USGS, Intermap, iPC, NRCAN, Esri Japan, METI, Esri China (Hong Kong), Esri (Thailand), TomTom, 2012",
       "max_native_zoom": 18,
       "max_zoom": 22,
       "min_native_zoom": 0,
       "name": "Esri.WorldStreetMap",
       "options": [
        "attribution",
        "bounds",
        "detect_retina",
        "max_native_zoom",
        "max_zoom",
        "min_native_zoom",
        "min_zoom",
        "no_wrap",
        "tile_size",
        "tms"
       ],
       "url": "https://server.arcgisonline.com/ArcGIS/rest/services/World_Street_Map/MapServer/tile/{z}/{y}/{x}"
      }
     },
     "1ac893ed462d4092beb7bbeecad51cd5": {
      "model_module": "jupyter-leaflet",
      "model_module_version": "^0.16.0",
      "model_name": "LeafletTileLayerModel",
      "state": {
       "_model_module_version": "^0.16.0",
       "_view_module_version": "^0.16.0",
       "attribution": "(C) OpenStreetMap contributors",
       "max_native_zoom": 18,
       "min_native_zoom": 0,
       "name": "OpenStreetMap.CH",
       "options": [
        "attribution",
        "bounds",
        "detect_retina",
        "max_native_zoom",
        "max_zoom",
        "min_native_zoom",
        "min_zoom",
        "no_wrap",
        "tile_size",
        "tms"
       ],
       "url": "https://tile.osm.ch/switzerland/{z}/{x}/{y}.png"
      }
     },
     "1b91e228988948788be2176c77d968fa": {
      "model_module": "@jupyter-widgets/base",
      "model_module_version": "1.2.0",
      "model_name": "LayoutModel",
      "state": {
       "height": "auto",
       "padding": "0px 0px 0px 4px",
       "width": "auto"
      }
     },
     "1cef55b3f5a54772ba4967852e0af906": {
      "model_module": "@jupyter-widgets/base",
      "model_module_version": "1.2.0",
      "model_name": "LayoutModel",
      "state": {
       "height": "auto",
       "padding": "0px 0px 0px 4px",
       "width": "auto"
      }
     },
     "1d7c92755f0144aba540faf6732a481e": {
      "model_module": "jupyter-leaflet",
      "model_module_version": "^0.16.0",
      "model_name": "LeafletTileLayerModel",
      "state": {
       "_model_module_version": "^0.16.0",
       "_view_module_version": "^0.16.0",
       "attribution": "Map tiles by <a href=\"https://labs.strava.com/heatmap\">Strava 2021</a>",
       "max_native_zoom": 18,
       "max_zoom": 15,
       "min_native_zoom": 0,
       "name": "Strava.Water",
       "options": [
        "attribution",
        "bounds",
        "detect_retina",
        "max_native_zoom",
        "max_zoom",
        "min_native_zoom",
        "min_zoom",
        "no_wrap",
        "tile_size",
        "tms"
       ],
       "url": "https://heatmap-external-a.strava.com/tiles/water/blue/{z}/{x}/{y}.png"
      }
     },
     "1d811bcd3781462b9c2c302e1bc188de": {
      "model_module": "@jupyter-widgets/controls",
      "model_module_version": "1.5.0",
      "model_name": "DescriptionStyleModel",
      "state": {
       "description_width": ""
      }
     },
     "1da61678a2a14a92bbd23c7d80619892": {
      "model_module": "jupyter-leaflet",
      "model_module_version": "^0.16.0",
      "model_name": "LeafletWMSLayerModel",
      "state": {
       "_model_module_version": "^0.16.0",
       "_view_module_version": "^0.16.0",
       "attribution": "FWS",
       "crs": {
        "custom": false,
        "name": "EPSG3857"
       },
       "format": "image/png",
       "layers": "0",
       "max_native_zoom": 18,
       "min_native_zoom": 0,
       "name": "FWS NWI Wetlands Raster",
       "options": [
        "attribution",
        "bounds",
        "detect_retina",
        "format",
        "layers",
        "max_native_zoom",
        "max_zoom",
        "min_native_zoom",
        "min_zoom",
        "no_wrap",
        "styles",
        "tile_size",
        "tms",
        "transparent",
        "uppercase"
       ],
       "transparent": true,
       "url": "https://www.fws.gov/wetlands/arcgis/services/Wetlands_Raster/ImageServer/WMSServer?"
      }
     },
     "1dc7f4b3c8ee4d88b45567acc1657fb6": {
      "model_module": "@jupyter-widgets/controls",
      "model_module_version": "1.5.0",
      "model_name": "ToggleButtonModel",
      "state": {
       "button_style": "primary",
       "icon": "search",
       "layout": "IPY_MODEL_05a9e37a20d44b0e88fefed2d90a79d5",
       "style": "IPY_MODEL_80b05eb0df5b4aa1a2b2fac9cf88a3ba",
       "tooltip": "Search XYZ tile services"
      }
     },
     "1e125a4f710a42449d3f5880d6780364": {
      "model_module": "@jupyter-widgets/base",
      "model_module_version": "1.2.0",
      "model_name": "LayoutModel",
      "state": {
       "height": "auto",
       "padding": "0px 0px 0px 4px",
       "width": "auto"
      }
     },
     "1ec6512b4f324486b721057004c81d93": {
      "model_module": "jupyter-leaflet",
      "model_module_version": "^0.16.0",
      "model_name": "LeafletMeasureControlModel",
      "state": {
       "_model_module_version": "^0.16.0",
       "_view_module_version": "^0.16.0",
       "options": [
        "active_color",
        "capture_z_index",
        "completed_color",
        "popup_options",
        "position",
        "primary_area_unit",
        "primary_length_unit",
        "secondary_area_unit",
        "secondary_length_unit"
       ],
       "secondary_area_unit": null,
       "secondary_length_unit": null
      }
     },
     "1ee9530cf859452d86f2a009685fdc41": {
      "model_module": "jupyter-leaflet",
      "model_module_version": "^0.16.0",
      "model_name": "LeafletTileLayerModel",
      "state": {
       "_model_module_version": "^0.16.0",
       "_view_module_version": "^0.16.0",
       "attribution": "&copy; <a href=\"http://www.gaode.com/\">Gaode.com</a>",
       "max_native_zoom": 18,
       "max_zoom": 19,
       "min_native_zoom": 0,
       "name": "Gaode.Normal",
       "options": [
        "attribution",
        "bounds",
        "detect_retina",
        "max_native_zoom",
        "max_zoom",
        "min_native_zoom",
        "min_zoom",
        "no_wrap",
        "tile_size",
        "tms"
       ],
       "url": "http://webrd01.is.autonavi.com/appmaptile?lang=zh_cn&size=1&scale=1&style=7&x={x}&y={y}&z={z}"
      }
     },
     "1ef8b876d63b44afb05109d347d9cdcf": {
      "model_module": "@jupyter-widgets/controls",
      "model_module_version": "1.5.0",
      "model_name": "VBoxModel",
      "state": {
       "_view_count": 1,
       "children": [
        "IPY_MODEL_4e5f533335574891ac3940af9d73ec32"
       ],
       "layout": "IPY_MODEL_035b9e03b7b94106a214de49d453d33a"
      }
     },
     "1f77641912a54d91b1b785261856b2c6": {
      "model_module": "jupyter-leaflet",
      "model_module_version": "^0.16.0",
      "model_name": "LeafletTileLayerModel",
      "state": {
       "_model_module_version": "^0.16.0",
       "_view_module_version": "^0.16.0",
       "attribution": "© swisstopo",
       "max_native_zoom": 18,
       "max_zoom": 19,
       "min_native_zoom": 0,
       "name": "SwissFederalGeoportal.SWISSIMAGE",
       "options": [
        "attribution",
        "bounds",
        "detect_retina",
        "max_native_zoom",
        "max_zoom",
        "min_native_zoom",
        "min_zoom",
        "no_wrap",
        "tile_size",
        "tms"
       ],
       "url": "https://wmts.geo.admin.ch/1.0.0/ch.swisstopo.swissimage/default/current/3857/{z}/{x}/{y}.jpeg"
      }
     },
     "1fc2278f8f324af69a94deea1ec4f949": {
      "model_module": "@jupyter-widgets/controls",
      "model_module_version": "1.5.0",
      "model_name": "ToggleButtonModel",
      "state": {
       "button_style": "primary",
       "icon": "table",
       "layout": "IPY_MODEL_282379d801aa4fd9bc0e2904c0d934e0",
       "style": "IPY_MODEL_2f45c212b2ab4e1db518d2c60e9f37b6",
       "tooltip": "Open attribute table"
      }
     },
     "20bbb215a14e4e1aacdd105b85b5c4de": {
      "model_module": "jupyter-leaflet",
      "model_module_version": "^0.16.0",
      "model_name": "LeafletTileLayerModel",
      "state": {
       "_model_module_version": "^0.16.0",
       "_view_module_version": "^0.16.0",
       "attribution": "Map data: (C) OpenStreetMap contributors | Map style: (C) OpenRailwayMap (CC-BY-SA)",
       "max_native_zoom": 18,
       "max_zoom": 19,
       "min_native_zoom": 0,
       "name": "OpenRailwayMap",
       "options": [
        "attribution",
        "bounds",
        "detect_retina",
        "max_native_zoom",
        "max_zoom",
        "min_native_zoom",
        "min_zoom",
        "no_wrap",
        "tile_size",
        "tms"
       ],
       "url": "https://a.tiles.openrailwaymap.org/standard/{z}/{x}/{y}.png"
      }
     },
     "22e6a8eb13e74f3c9c6fbdda3cbb3216": {
      "model_module": "jupyter-leaflet",
      "model_module_version": "^0.16.0",
      "model_name": "LeafletMeasureControlModel",
      "state": {
       "_model_module_version": "^0.16.0",
       "_view_module_version": "^0.16.0",
       "options": [
        "active_color",
        "capture_z_index",
        "completed_color",
        "popup_options",
        "position",
        "primary_area_unit",
        "primary_length_unit",
        "secondary_area_unit",
        "secondary_length_unit"
       ],
       "secondary_area_unit": null,
       "secondary_length_unit": null
      }
     },
     "234dd2d6beab4591b398dfc33bcaf9a8": {
      "model_module": "jupyter-leaflet",
      "model_module_version": "^0.16.0",
      "model_name": "LeafletWMSLayerModel",
      "state": {
       "_model_module_version": "^0.16.0",
       "_view_module_version": "^0.16.0",
       "attribution": "MRLC",
       "crs": {
        "custom": false,
        "name": "EPSG3857"
       },
       "format": "image/png",
       "layers": "NLCD_2001_Land_Cover_L48",
       "max_native_zoom": 18,
       "min_native_zoom": 0,
       "name": "NLCD 2001 CONUS Land Cover",
       "options": [
        "attribution",
        "bounds",
        "detect_retina",
        "format",
        "layers",
        "max_native_zoom",
        "max_zoom",
        "min_native_zoom",
        "min_zoom",
        "no_wrap",
        "styles",
        "tile_size",
        "tms",
        "transparent",
        "uppercase"
       ],
       "transparent": true,
       "url": "https://www.mrlc.gov/geoserver/mrlc_display/NLCD_2001_Land_Cover_L48/wms?"
      }
     },
     "237c493ac0b149d79d856f03860ec719": {
      "model_module": "@jupyter-widgets/controls",
      "model_module_version": "1.5.0",
      "model_name": "ToggleButtonModel",
      "state": {
       "button_style": "primary",
       "icon": "eraser",
       "layout": "IPY_MODEL_0fc19ce92cea4861a58ba54c6ef80aab",
       "style": "IPY_MODEL_cd71e35fa9024bdabc55267dcd753b8b",
       "tooltip": "Remove all drawn features"
      }
     },
     "23dea9f6cd5f458bbdd9b0ddef39b2ff": {
      "model_module": "jupyter-leaflet",
      "model_module_version": "^0.16.0",
      "model_name": "LeafletTileLayerModel",
      "state": {
       "_model_module_version": "^0.16.0",
       "_view_module_version": "^0.16.0",
       "attribution": "Google",
       "max_native_zoom": 18,
       "max_zoom": 22,
       "min_native_zoom": 0,
       "name": "Google Satellite",
       "options": [
        "attribution",
        "bounds",
        "detect_retina",
        "max_native_zoom",
        "max_zoom",
        "min_native_zoom",
        "min_zoom",
        "no_wrap",
        "tile_size",
        "tms"
       ],
       "url": "https://mt1.google.com/vt/lyrs=y&x={x}&y={y}&z={z}"
      }
     },
     "2487a58104f14c339f9395bdce94d16b": {
      "model_module": "@jupyter-widgets/controls",
      "model_module_version": "1.5.0",
      "model_name": "DescriptionStyleModel",
      "state": {
       "description_width": ""
      }
     },
     "249bfa8e4b474352b2a6ad4914a62e47": {
      "model_module": "@jupyter-widgets/controls",
      "model_module_version": "1.5.0",
      "model_name": "ToggleButtonModel",
      "state": {
       "button_style": "primary",
       "icon": "stack-exchange",
       "layout": "IPY_MODEL_768ff1f996024cdfa596ed7c2d909243",
       "style": "IPY_MODEL_112d99d69c4a4923b0e2918d65f6e500",
       "tooltip": "Discover STAC Catalog"
      }
     },
     "282379d801aa4fd9bc0e2904c0d934e0": {
      "model_module": "@jupyter-widgets/base",
      "model_module_version": "1.2.0",
      "model_name": "LayoutModel",
      "state": {
       "height": "auto",
       "padding": "0px 0px 0px 4px",
       "width": "auto"
      }
     },
     "2885001514384df9b54df9994e0b4129": {
      "model_module": "jupyter-leaflet",
      "model_module_version": "^0.16.0",
      "model_name": "LeafletTileLayerModel",
      "state": {
       "_model_module_version": "^0.16.0",
       "_view_module_version": "^0.16.0",
       "attribution": "Google",
       "max_native_zoom": 18,
       "max_zoom": 22,
       "min_native_zoom": 0,
       "name": "Google Maps",
       "options": [
        "attribution",
        "bounds",
        "detect_retina",
        "max_native_zoom",
        "max_zoom",
        "min_native_zoom",
        "min_zoom",
        "no_wrap",
        "tile_size",
        "tms"
       ],
       "url": "https://mt1.google.com/vt/lyrs=m&x={x}&y={y}&z={z}"
      }
     },
     "28cf7c7d40d0449f86ed2c2f0c9ffaf6": {
      "model_module": "jupyter-leaflet",
      "model_module_version": "^0.16.0",
      "model_name": "LeafletTileLayerModel",
      "state": {
       "_model_module_version": "^0.16.0",
       "_view_module_version": "^0.16.0",
       "attribution": "(C) OpenStreetMap contributors & USGS",
       "max_native_zoom": 18,
       "max_zoom": 22,
       "min_native_zoom": 0,
       "name": "MtbMap",
       "options": [
        "attribution",
        "bounds",
        "detect_retina",
        "max_native_zoom",
        "max_zoom",
        "min_native_zoom",
        "min_zoom",
        "no_wrap",
        "tile_size",
        "tms"
       ],
       "url": "http://tile.mtbmap.cz/mtbmap_tiles/{z}/{x}/{y}.png"
      }
     },
     "2964bd82094b4156a22dc19f2eacf372": {
      "model_module": "jupyter-leaflet",
      "model_module_version": "^0.16.0",
      "model_name": "LeafletTileLayerModel",
      "state": {
       "_model_module_version": "^0.16.0",
       "_view_module_version": "^0.16.0",
       "attribution": "Map data: (C) OpenStreetMap contributors & ODbL, (C) www.opensnowmap.org CC-BY-SA",
       "max_native_zoom": 18,
       "min_native_zoom": 0,
       "name": "OpenSnowMap.pistes",
       "options": [
        "attribution",
        "bounds",
        "detect_retina",
        "max_native_zoom",
        "max_zoom",
        "min_native_zoom",
        "min_zoom",
        "no_wrap",
        "tile_size",
        "tms"
       ],
       "url": "https://tiles.opensnowmap.org/pistes/{z}/{x}/{y}.png"
      }
     },
     "29c4e58f74ac4b91b5b91f64d9d5c018": {
      "model_module": "jupyter-leaflet",
      "model_module_version": "^0.16.0",
      "model_name": "LeafletZoomControlModel",
      "state": {
       "_model_module_version": "^0.16.0",
       "_view_module_version": "^0.16.0",
       "options": [
        "position",
        "zoom_in_text",
        "zoom_in_title",
        "zoom_out_text",
        "zoom_out_title"
       ]
      }
     },
     "2ed998e4677948808ef81fe56c496172": {
      "model_module": "@jupyter-widgets/controls",
      "model_module_version": "1.5.0",
      "model_name": "DescriptionStyleModel",
      "state": {
       "description_width": ""
      }
     },
     "2ee83c05cb1e487fa15b60b06bdd881f": {
      "model_module": "@jupyter-widgets/controls",
      "model_module_version": "1.5.0",
      "model_name": "ToggleButtonModel",
      "state": {
       "button_style": "primary",
       "icon": "fast-forward",
       "layout": "IPY_MODEL_f8590925c29d4159866a2b7a7fa32dac",
       "style": "IPY_MODEL_bc43089d5bbf4893b9b3fdc59f983cf5",
       "tooltip": "Activate the time slider"
      }
     },
     "2ef20e3cef544071a19206bfe6ed5a5f": {
      "model_module": "jupyter-leaflet",
      "model_module_version": "^0.16.0",
      "model_name": "LeafletTileLayerModel",
      "state": {
       "_model_module_version": "^0.16.0",
       "_view_module_version": "^0.16.0",
       "attribution": "Imagery provided by NOAA National Centers for Environmental Information (NCEI); International Bathymetric Chart of the Southern Ocean (IBCSO); General Bathymetric Chart of the Oceans (GEBCO).",
       "max_native_zoom": 18,
       "max_zoom": 9,
       "min_native_zoom": 0,
       "name": "Esri.AntarcticBasemap",
       "options": [
        "attribution",
        "bounds",
        "detect_retina",
        "max_native_zoom",
        "max_zoom",
        "min_native_zoom",
        "min_zoom",
        "no_wrap",
        "tile_size",
        "tms"
       ],
       "url": "https://tiles.arcgis.com/tiles/C8EMgrsFcRFL6LrL/arcgis/rest/services/Antarctic_Basemap/MapServer/tile/{z}/{y}/{x}"
      }
     },
     "2efeb303935542bb984a101e9b4cec92": {
      "model_module": "jupyter-leaflet",
      "model_module_version": "^0.16.0",
      "model_name": "LeafletTileLayerModel",
      "state": {
       "_model_module_version": "^0.16.0",
       "_view_module_version": "^0.16.0",
       "attribution": "Map tiles by Stamen Design, CC BY 3.0 -- Map data (C) OpenStreetMap contributors",
       "max_native_zoom": 18,
       "max_zoom": 20,
       "min_native_zoom": 0,
       "name": "Stamen.Toner",
       "options": [
        "attribution",
        "bounds",
        "detect_retina",
        "max_native_zoom",
        "max_zoom",
        "min_native_zoom",
        "min_zoom",
        "no_wrap",
        "tile_size",
        "tms"
       ],
       "url": "https://stamen-tiles-a.a.ssl.fastly.net/toner/{z}/{x}/{y}.png"
      }
     },
     "2f45c212b2ab4e1db518d2c60e9f37b6": {
      "model_module": "@jupyter-widgets/controls",
      "model_module_version": "1.5.0",
      "model_name": "DescriptionStyleModel",
      "state": {
       "description_width": ""
      }
     },
     "30433a4186fa4b0d8ff2441acc9bfd17": {
      "model_module": "jupyter-leaflet",
      "model_module_version": "^0.16.0",
      "model_name": "LeafletTileLayerModel",
      "state": {
       "_model_module_version": "^0.16.0",
       "_view_module_version": "^0.16.0",
       "attribution": "Tiles (C) Esri -- Esri, DeLorme, NAVTEQ, TomTom, Intermap, iPC, USGS, FAO, NPS, NRCAN, GeoBase, Kadaster NL, Ordnance Survey, Esri Japan, METI, Esri China (Hong Kong), and the GIS User Community",
       "max_native_zoom": 18,
       "max_zoom": 22,
       "min_native_zoom": 0,
       "name": "Esri.WorldTopoMap",
       "options": [
        "attribution",
        "bounds",
        "detect_retina",
        "max_native_zoom",
        "max_zoom",
        "min_native_zoom",
        "min_zoom",
        "no_wrap",
        "tile_size",
        "tms"
       ],
       "url": "https://server.arcgisonline.com/ArcGIS/rest/services/World_Topo_Map/MapServer/tile/{z}/{y}/{x}"
      }
     },
     "330612f3a3a943fc8f83b5bb556e0f6c": {
      "model_module": "jupyter-leaflet",
      "model_module_version": "^0.16.0",
      "model_name": "LeafletTileLayerModel",
      "state": {
       "_model_module_version": "^0.16.0",
       "_view_module_version": "^0.16.0",
       "attribution": "&copy; <a href=\"https://www.openstreetmap.org/copyright\">OpenStreetMap</a> contributors",
       "base": true,
       "max_native_zoom": 18,
       "max_zoom": 19,
       "min_native_zoom": 0,
       "min_zoom": 1,
       "name": "OpenStreetMap",
       "options": [
        "attribution",
        "bounds",
        "detect_retina",
        "max_native_zoom",
        "max_zoom",
        "min_native_zoom",
        "min_zoom",
        "no_wrap",
        "tile_size",
        "tms"
       ],
       "url": "https://a.tile.openstreetmap.org/{z}/{x}/{y}.png"
      }
     },
     "33609869471140c19ebe64dbaeebafd7": {
      "model_module": "@jupyter-widgets/output",
      "model_module_version": "1.0.0",
      "model_name": "OutputModel",
      "state": {
       "layout": "IPY_MODEL_72d031d47182454ea882b54b11ff509e"
      }
     },
     "344c8b9d23e848699bfc2f31022d03f6": {
      "model_module": "@jupyter-widgets/controls",
      "model_module_version": "1.5.0",
      "model_name": "ToggleButtonModel",
      "state": {
       "button_style": "primary",
       "icon": "map",
       "layout": "IPY_MODEL_b73890b4d17046dabfa808ffc02359b7",
       "style": "IPY_MODEL_b7980c786b424291a2cf6f66667e4fca",
       "tooltip": "Change basemap"
      }
     },
     "3540b1dce255471db22a1ee7f4fdfab3": {
      "model_module": "@jupyter-widgets/controls",
      "model_module_version": "1.5.0",
      "model_name": "ToggleButtonModel",
      "state": {
       "button_style": "primary",
       "icon": "picture-o",
       "layout": "IPY_MODEL_f90e5bfa67c9417aab425c3ac992a15a",
       "style": "IPY_MODEL_4bf21db5879844c99e3b887be170dd25",
       "tooltip": "Open COG/STAC dataset"
      }
     },
     "35d7be8aa86d4e06bbe9197cd57df239": {
      "model_module": "@jupyter-widgets/controls",
      "model_module_version": "1.5.0",
      "model_name": "ToggleButtonModel",
      "state": {
       "button_style": "primary",
       "icon": "globe",
       "layout": "IPY_MODEL_1088ce58bcdd4fa5a446e49e85eec68a",
       "style": "IPY_MODEL_64ef14098f0b47e69a774f9daea6b507",
       "tooltip": "Split-panel map"
      }
     },
     "361dea8b68a4465d80464fa0958ec785": {
      "model_module": "jupyter-leaflet",
      "model_module_version": "^0.16.0",
      "model_name": "LeafletTileLayerModel",
      "state": {
       "_model_module_version": "^0.16.0",
       "_view_module_version": "^0.16.0",
       "attribution": "Tiles (C) Esri -- Source: Esri, i-cubed, USDA, USGS, AEX, GeoEye, Getmapping, Aerogrid, IGN, IGP, UPR-EGP, and the GIS User Community",
       "max_native_zoom": 18,
       "max_zoom": 22,
       "min_native_zoom": 0,
       "name": "Esri.WorldImagery",
       "options": [
        "attribution",
        "bounds",
        "detect_retina",
        "max_native_zoom",
        "max_zoom",
        "min_native_zoom",
        "min_zoom",
        "no_wrap",
        "tile_size",
        "tms"
       ],
       "url": "https://server.arcgisonline.com/ArcGIS/rest/services/World_Imagery/MapServer/tile/{z}/{y}/{x}"
      }
     },
     "3637986274484336943c2166d1ca6d7c": {
      "model_module": "@jupyter-widgets/controls",
      "model_module_version": "1.5.0",
      "model_name": "ToggleButtonModel",
      "state": {
       "button_style": "primary",
       "icon": "map",
       "layout": "IPY_MODEL_dbd83b43d14c4ff0b2ec1b96e14d0544",
       "style": "IPY_MODEL_b082d6ad51d34b8ea0d952f69be0c578",
       "tooltip": "Change basemap"
      }
     },
     "368caaf9c142479095431695e3cb18d2": {
      "model_module": "jupyter-leaflet",
      "model_module_version": "^0.16.0",
      "model_name": "LeafletDrawControlModel",
      "state": {
       "_model_module_version": "^0.16.0",
       "_view_module_version": "^0.16.0",
       "circle": {
        "shapeOptions": {
         "color": "#3388ff"
        }
       },
       "marker": {
        "shapeOptions": {
         "color": "#3388ff"
        }
       },
       "options": [
        "position"
       ],
       "rectangle": {
        "shapeOptions": {
         "color": "#3388ff"
        }
       }
      }
     },
     "36bc1d23cc814d66ab976892224e6de9": {
      "model_module": "jupyter-leaflet",
      "model_module_version": "^0.16.0",
      "model_name": "LeafletTileLayerModel",
      "state": {
       "_model_module_version": "^0.16.0",
       "_view_module_version": "^0.16.0",
       "attribution": "(C) Stadia Maps, (C) OpenMapTiles (C) OpenStreetMap contributors",
       "max_native_zoom": 18,
       "max_zoom": 20,
       "min_native_zoom": 0,
       "name": "Stadia.Outdoors",
       "options": [
        "attribution",
        "bounds",
        "detect_retina",
        "max_native_zoom",
        "max_zoom",
        "min_native_zoom",
        "min_zoom",
        "no_wrap",
        "tile_size",
        "tms"
       ],
       "url": "https://tiles.stadiamaps.com/tiles/outdoors/{z}/{x}/{y}.png"
      }
     },
     "36d1ef1eaa77475ab5877522612448c7": {
      "model_module": "jupyter-leaflet",
      "model_module_version": "^0.16.0",
      "model_name": "LeafletTileLayerModel",
      "state": {
       "_model_module_version": "^0.16.0",
       "_view_module_version": "^0.16.0",
       "attribution": "(C) OpenStreetMap contributors (C) CARTO",
       "max_native_zoom": 18,
       "max_zoom": 20,
       "min_native_zoom": 0,
       "name": "CartoDB.Voyager",
       "options": [
        "attribution",
        "bounds",
        "detect_retina",
        "max_native_zoom",
        "max_zoom",
        "min_native_zoom",
        "min_zoom",
        "no_wrap",
        "tile_size",
        "tms"
       ],
       "url": "https://a.basemaps.cartocdn.com/rastertiles/voyager/{z}/{x}/{y}.png"
      }
     },
     "387e8ae38b054832b854ddae3d4b7d0b": {
      "model_module": "jupyter-leaflet",
      "model_module_version": "^0.16.0",
      "model_name": "LeafletTileLayerModel",
      "state": {
       "_model_module_version": "^0.16.0",
       "_view_module_version": "^0.16.0",
       "attribution": "Imagery provided by services from the Global Imagery Browse Services (GIBS), operated by the NASA/GSFC/Earth Science Data and Information System (ESDIS) with funding provided by NASA/HQ.",
       "max_native_zoom": 18,
       "max_zoom": 6,
       "min_native_zoom": 0,
       "name": "NASAGIBS.ModisTerraAOD",
       "options": [
        "attribution",
        "bounds",
        "detect_retina",
        "max_native_zoom",
        "max_zoom",
        "min_native_zoom",
        "min_zoom",
        "no_wrap",
        "tile_size",
        "tms"
       ],
       "url": "https://map1.vis.earthdata.nasa.gov/wmts-webmerc/MODIS_Terra_Aerosol/default//GoogleMapsCompatible_Level6/{z}/{y}/{x}.png"
      }
     },
     "38ba49e025904c9bacc38b4e0bd8839b": {
      "model_module": "@jupyter-widgets/controls",
      "model_module_version": "1.5.0",
      "model_name": "ToggleButtonModel",
      "state": {
       "button_style": "primary",
       "icon": "fast-forward",
       "layout": "IPY_MODEL_8a0490882fef464d97a20ec45d715cb6",
       "style": "IPY_MODEL_7017fcd2de544eacae66883e500518bb",
       "tooltip": "Activate the time slider"
      }
     },
     "38e2cf1528ee43d0bba320d18ba8f3e6": {
      "model_module": "@jupyter-widgets/controls",
      "model_module_version": "1.5.0",
      "model_name": "VBoxModel",
      "state": {
       "_view_count": 1,
       "children": [
        "IPY_MODEL_3afeac9c99f649b5bcac5e87f68d5a22"
       ],
       "layout": "IPY_MODEL_ed0dd7eb943946c796b78027a0751758"
      }
     },
     "3a9640ad2123484ba28ed6f7846c0bb3": {
      "model_module": "jupyter-leaflet",
      "model_module_version": "^0.16.0",
      "model_name": "LeafletTileLayerModel",
      "state": {
       "_model_module_version": "^0.16.0",
       "_view_module_version": "^0.16.0",
       "attribution": "(C) OpenStreetMap contributors",
       "max_native_zoom": 18,
       "min_native_zoom": 0,
       "name": "OpenStreetMap.BlackAndWhite",
       "options": [
        "attribution",
        "bounds",
        "detect_retina",
        "max_native_zoom",
        "max_zoom",
        "min_native_zoom",
        "min_zoom",
        "no_wrap",
        "tile_size",
        "tms"
       ],
       "url": "http://a.tiles.wmflabs.org/bw-mapnik/{z}/{x}/{y}.png"
      }
     },
     "3afeac9c99f649b5bcac5e87f68d5a22": {
      "model_module": "@jupyter-widgets/controls",
      "model_module_version": "1.5.0",
      "model_name": "ToggleButtonModel",
      "state": {
       "icon": "wrench",
       "layout": "IPY_MODEL_0616120e424c4b99b0715a176722b28e",
       "style": "IPY_MODEL_af1d48ad8d2240848a0d590ce6b9eb25",
       "tooltip": "Toolbar"
      }
     },
     "3d5328b9aea74357a21debecd5bdeb88": {
      "model_module": "jupyter-leaflet",
      "model_module_version": "^0.16.0",
      "model_name": "LeafletWidgetControlModel",
      "state": {
       "_model_module": "jupyter-leaflet",
       "_model_module_version": "^0.16.0",
       "_view_count": null,
       "_view_module": "jupyter-leaflet",
       "_view_module_version": "^0.16.0",
       "options": [
        "position",
        "transparent_bg"
       ],
       "position": "bottomright",
       "widget": "IPY_MODEL_33609869471140c19ebe64dbaeebafd7"
      }
     },
     "3d9d6a2095f44d98b3b0aefc373ab745": {
      "model_module": "@jupyter-widgets/controls",
      "model_module_version": "1.5.0",
      "model_name": "ToggleButtonModel",
      "state": {
       "button_style": "primary",
       "icon": "folder-open",
       "layout": "IPY_MODEL_cf82792daa73409ab2a6adcc57a84ca9",
       "style": "IPY_MODEL_c2a612ea59434cc4af8f8e4ea9f740e5",
       "tooltip": "Open local vector/raster data"
      }
     },
     "3dbee2a861094d7ebae93be8c510703d": {
      "model_module": "@jupyter-widgets/base",
      "model_module_version": "1.2.0",
      "model_name": "LayoutModel",
      "state": {
       "height": "600px"
      }
     },
     "3e5b26e9f0a6479eab3401e3cf98a8d2": {
      "model_module": "jupyter-leaflet",
      "model_module_version": "^0.16.0",
      "model_name": "LeafletTileLayerModel",
      "state": {
       "_model_module_version": "^0.16.0",
       "_view_module_version": "^0.16.0",
       "attribution": "Map tiles by Stamen Design, CC BY 3.0 -- Map data (C) OpenStreetMap contributors",
       "max_native_zoom": 18,
       "max_zoom": 20,
       "min_native_zoom": 0,
       "name": "Stamen.TonerHybrid",
       "options": [
        "attribution",
        "bounds",
        "detect_retina",
        "max_native_zoom",
        "max_zoom",
        "min_native_zoom",
        "min_zoom",
        "no_wrap",
        "tile_size",
        "tms"
       ],
       "url": "https://stamen-tiles-a.a.ssl.fastly.net/toner-hybrid/{z}/{x}/{y}.png"
      }
     },
     "3eddef4c27e741ffb53605a4d6e4ca5e": {
      "model_module": "jupyter-leaflet",
      "model_module_version": "^0.16.0",
      "model_name": "LeafletTileLayerModel",
      "state": {
       "_model_module_version": "^0.16.0",
       "_view_module_version": "^0.16.0",
       "attribution": "Justice Map",
       "max_native_zoom": 18,
       "max_zoom": 22,
       "min_native_zoom": 0,
       "name": "JusticeMap.white",
       "options": [
        "attribution",
        "bounds",
        "detect_retina",
        "max_native_zoom",
        "max_zoom",
        "min_native_zoom",
        "min_zoom",
        "no_wrap",
        "tile_size",
        "tms"
       ],
       "url": "https://www.justicemap.org/tile/county/white/{z}/{x}/{y}.png"
      }
     },
     "420bf45ed2774150a22b1a53a1f74948": {
      "model_module": "@jupyter-widgets/base",
      "model_module_version": "1.2.0",
      "model_name": "LayoutModel",
      "state": {
       "height": "auto",
       "padding": "0px 0px 0px 4px",
       "width": "auto"
      }
     },
     "426683799b6845cfafa83135ada43097": {
      "model_module": "@jupyter-widgets/base",
      "model_module_version": "1.2.0",
      "model_name": "LayoutModel",
      "state": {
       "height": "600px"
      }
     },
     "42f3e9970bf3488fba81a68d7fad4ca1": {
      "model_module": "jupyter-leaflet",
      "model_module_version": "^0.16.0",
      "model_name": "LeafletWMSLayerModel",
      "state": {
       "_model_module_version": "^0.16.0",
       "_view_module_version": "^0.16.0",
       "attribution": "USGS",
       "crs": {
        "custom": false,
        "name": "EPSG3857"
       },
       "format": "image/png",
       "layers": "0",
       "max_native_zoom": 18,
       "min_native_zoom": 0,
       "name": "USGS NAIP Imagery",
       "options": [
        "attribution",
        "bounds",
        "detect_retina",
        "format",
        "layers",
        "max_native_zoom",
        "max_zoom",
        "min_native_zoom",
        "min_zoom",
        "no_wrap",
        "styles",
        "tile_size",
        "tms",
        "transparent",
        "uppercase"
       ],
       "transparent": true,
       "url": "https://services.nationalmap.gov/arcgis/services/USGSNAIPImagery/ImageServer/WMSServer?"
      }
     },
     "444b0a263ccf4fd7a6d41cfff5e41bd6": {
      "model_module": "jupyter-leaflet",
      "model_module_version": "^0.16.0",
      "model_name": "LeafletTileLayerModel",
      "state": {
       "_model_module_version": "^0.16.0",
       "_view_module_version": "^0.16.0",
       "attribution": "(C) OpenStreetMap contributors (C) CARTO",
       "max_native_zoom": 18,
       "max_zoom": 20,
       "min_native_zoom": 0,
       "name": "CartoDB.VoyagerOnlyLabels",
       "options": [
        "attribution",
        "bounds",
        "detect_retina",
        "max_native_zoom",
        "max_zoom",
        "min_native_zoom",
        "min_zoom",
        "no_wrap",
        "tile_size",
        "tms"
       ],
       "url": "https://a.basemaps.cartocdn.com/rastertiles/voyager_only_labels/{z}/{x}/{y}.png"
      }
     },
     "44533cd933024d17b20cae20c82fcaa5": {
      "model_module": "@jupyter-widgets/base",
      "model_module_version": "1.2.0",
      "model_name": "LayoutModel",
      "state": {
       "height": "auto",
       "padding": "0px 0px 0px 4px",
       "width": "auto"
      }
     },
     "46475ed401aa48d694252bbae68664f6": {
      "model_module": "@jupyter-widgets/base",
      "model_module_version": "1.2.0",
      "model_name": "LayoutModel",
      "state": {
       "grid_gap": "1px 1px",
       "grid_template_columns": "32px 32px 32px ",
       "grid_template_rows": "32px 32px 32px 32px 32px 32px ",
       "padding": "5px",
       "width": "109px"
      }
     },
     "467d4233698846a49086ba37013c6590": {
      "model_module": "jupyter-leaflet",
      "model_module_version": "^0.16.0",
      "model_name": "LeafletTileLayerModel",
      "state": {
       "_model_module_version": "^0.16.0",
       "_view_module_version": "^0.16.0",
       "attribution": "Justice Map",
       "max_native_zoom": 18,
       "max_zoom": 22,
       "min_native_zoom": 0,
       "name": "JusticeMap.asian",
       "options": [
        "attribution",
        "bounds",
        "detect_retina",
        "max_native_zoom",
        "max_zoom",
        "min_native_zoom",
        "min_zoom",
        "no_wrap",
        "tile_size",
        "tms"
       ],
       "url": "https://www.justicemap.org/tile/county/asian/{z}/{x}/{y}.png"
      }
     },
     "46b73947a01b4a40ac94ce6133a22ef8": {
      "model_module": "jupyter-leaflet",
      "model_module_version": "^0.16.0",
      "model_name": "LeafletTileLayerModel",
      "state": {
       "_model_module_version": "^0.16.0",
       "_view_module_version": "^0.16.0",
       "attribution": "Justice Map",
       "max_native_zoom": 18,
       "max_zoom": 22,
       "min_native_zoom": 0,
       "name": "JusticeMap.americanIndian",
       "options": [
        "attribution",
        "bounds",
        "detect_retina",
        "max_native_zoom",
        "max_zoom",
        "min_native_zoom",
        "min_zoom",
        "no_wrap",
        "tile_size",
        "tms"
       ],
       "url": "https://www.justicemap.org/tile/county/indian/{z}/{x}/{y}.png"
      }
     },
     "46ff31dc0a1f406d8bb85bdea2dabe1d": {
      "model_module": "@jupyter-widgets/base",
      "model_module_version": "1.2.0",
      "model_name": "LayoutModel",
      "state": {
       "height": "auto",
       "padding": "0px 0px 0px 4px",
       "width": "auto"
      }
     },
     "484de6fbbedc4c12825d16e50cf5e17e": {
      "model_module": "jupyter-leaflet",
      "model_module_version": "^0.16.0",
      "model_name": "LeafletTileLayerModel",
      "state": {
       "_model_module_version": "^0.16.0",
       "_view_module_version": "^0.16.0",
       "attribution": "Kaartgegevens (C) Kadaster",
       "max_native_zoom": 18,
       "max_zoom": 19,
       "min_native_zoom": 0,
       "name": "nlmaps.luchtfoto",
       "options": [
        "attribution",
        "bounds",
        "detect_retina",
        "max_native_zoom",
        "max_zoom",
        "min_native_zoom",
        "min_zoom",
        "no_wrap",
        "tile_size",
        "tms"
       ],
       "url": "https://service.pdok.nl/hwh/luchtfotorgb/wmts/v1_0/Actueel_ortho25/EPSG:3857/{z}/{x}/{y}.jpeg"
      }
     },
     "49291dbbbc9449d38e620cbb0833a337": {
      "model_module": "@jupyter-widgets/controls",
      "model_module_version": "1.5.0",
      "model_name": "DescriptionStyleModel",
      "state": {
       "description_width": ""
      }
     },
     "4962aedea1f9417180a0b55cffb7712b": {
      "model_module": "@jupyter-widgets/controls",
      "model_module_version": "1.5.0",
      "model_name": "DescriptionStyleModel",
      "state": {
       "description_width": ""
      }
     },
     "49df7777c5e84146b1da1139ece1ebab": {
      "model_module": "jupyter-leaflet",
      "model_module_version": "^0.16.0",
      "model_name": "LeafletTileLayerModel",
      "state": {
       "_model_module_version": "^0.16.0",
       "_view_module_version": "^0.16.0",
       "attribution": "Kaartgegevens (C) Kadaster",
       "max_native_zoom": 18,
       "max_zoom": 19,
       "min_native_zoom": 0,
       "name": "nlmaps.pastel",
       "options": [
        "attribution",
        "bounds",
        "detect_retina",
        "max_native_zoom",
        "max_zoom",
        "min_native_zoom",
        "min_zoom",
        "no_wrap",
        "tile_size",
        "tms"
       ],
       "url": "https://service.pdok.nl/brt/achtergrondkaart/wmts/v2_0/pastel/EPSG:3857/{z}/{x}/{y}.png"
      }
     },
     "4a5d71428c3e4a42b38e8a354b70f993": {
      "model_module": "jupyter-leaflet",
      "model_module_version": "^0.16.0",
      "model_name": "LeafletWMSLayerModel",
      "state": {
       "_model_module_version": "^0.16.0",
       "_view_module_version": "^0.16.0",
       "attribution": "MRLC",
       "crs": {
        "custom": false,
        "name": "EPSG3857"
       },
       "format": "image/png",
       "layers": "NLCD_2004_Land_Cover_L48",
       "max_native_zoom": 18,
       "min_native_zoom": 0,
       "name": "NLCD 2004 CONUS Land Cover",
       "options": [
        "attribution",
        "bounds",
        "detect_retina",
        "format",
        "layers",
        "max_native_zoom",
        "max_zoom",
        "min_native_zoom",
        "min_zoom",
        "no_wrap",
        "styles",
        "tile_size",
        "tms",
        "transparent",
        "uppercase"
       ],
       "transparent": true,
       "url": "https://www.mrlc.gov/geoserver/mrlc_display/NLCD_2004_Land_Cover_L48/wms?"
      }
     },
     "4aca7f6bf1ef498db79d278f885880fd": {
      "model_module": "jupyter-leaflet",
      "model_module_version": "^0.16.0",
      "model_name": "LeafletDrawControlModel",
      "state": {
       "_model_module_version": "^0.16.0",
       "_view_module_version": "^0.16.0",
       "circle": {
        "shapeOptions": {
         "color": "#3388ff"
        }
       },
       "marker": {
        "shapeOptions": {
         "color": "#3388ff"
        }
       },
       "options": [
        "position"
       ],
       "rectangle": {
        "shapeOptions": {
         "color": "#3388ff"
        }
       }
      }
     },
     "4b001817ee3741128c012c5acc315d0c": {
      "model_module": "@jupyter-widgets/controls",
      "model_module_version": "1.5.0",
      "model_name": "ToggleButtonModel",
      "state": {
       "button_style": "primary",
       "icon": "fast-forward",
       "layout": "IPY_MODEL_7b663d619f4d4b119ea07634d812a75a",
       "style": "IPY_MODEL_d2b458a267c945c98dad9be918891ad0",
       "tooltip": "Activate the time slider"
      }
     },
     "4b16bc0aa05b4f48a007f3b10b54dbd8": {
      "model_module": "@jupyter-widgets/controls",
      "model_module_version": "1.5.0",
      "model_name": "DescriptionStyleModel",
      "state": {
       "description_width": ""
      }
     },
     "4b8df8985b53474d8e12f19e418ab0df": {
      "model_module": "@jupyter-widgets/base",
      "model_module_version": "1.2.0",
      "model_name": "LayoutModel",
      "state": {
       "height": "auto",
       "padding": "0px 0px 0px 4px",
       "width": "auto"
      }
     },
     "4be25088e2074c8a8456da0bef42f7f7": {
      "model_module": "jupyter-leaflet",
      "model_module_version": "^0.16.0",
      "model_name": "LeafletTileLayerModel",
      "state": {
       "_model_module_version": "^0.16.0",
       "_view_module_version": "^0.16.0",
       "attribution": "Tiles courtesy of the U.S. Geological Survey",
       "max_native_zoom": 18,
       "max_zoom": 20,
       "min_native_zoom": 0,
       "name": "USGS.USTopo",
       "options": [
        "attribution",
        "bounds",
        "detect_retina",
        "max_native_zoom",
        "max_zoom",
        "min_native_zoom",
        "min_zoom",
        "no_wrap",
        "tile_size",
        "tms"
       ],
       "url": "https://basemap.nationalmap.gov/arcgis/rest/services/USGSTopo/MapServer/tile/{z}/{y}/{x}"
      }
     },
     "4bf21db5879844c99e3b887be170dd25": {
      "model_module": "@jupyter-widgets/controls",
      "model_module_version": "1.5.0",
      "model_name": "DescriptionStyleModel",
      "state": {
       "description_width": ""
      }
     },
     "4c8261113d7e49158e0aae16aa5b666a": {
      "model_module": "jupyter-leaflet",
      "model_module_version": "^0.16.0",
      "model_name": "LeafletMapStyleModel",
      "state": {
       "_model_module_version": "^0.16.0"
      }
     },
     "4c850919ef1a4c408c46963d5577485b": {
      "model_module": "@jupyter-widgets/controls",
      "model_module_version": "1.5.0",
      "model_name": "GridBoxModel",
      "state": {
       "children": [
        "IPY_MODEL_f106750d73534c5898e994d997af6eb4",
        "IPY_MODEL_952fb23b55424de6be24956afa17aaa1",
        "IPY_MODEL_bc637779f38d42e7b5c1c57cb52770d5",
        "IPY_MODEL_95ba578c4065418ba773407e41b65d24",
        "IPY_MODEL_979c490d6ba944548358a0087c0bb838",
        "IPY_MODEL_2ee83c05cb1e487fa15b60b06bdd881f",
        "IPY_MODEL_f2625fb713b8426b92d112f809c915ce",
        "IPY_MODEL_964ba0a26a96409b9adc39039efea8b7",
        "IPY_MODEL_c0cbb5c8d59f42118dda227f2df80355",
        "IPY_MODEL_7a085ebd072e4dc182ec2d9e58ee2b8b",
        "IPY_MODEL_550a53d3d925491cb6e5e076b97272b0",
        "IPY_MODEL_f083721279404f85b0a338ca33b0c1ff",
        "IPY_MODEL_05c730b60c3d4581b5939d9dab42903a",
        "IPY_MODEL_b0a6c36b96a544c382097755b56ca849",
        "IPY_MODEL_1fc2278f8f324af69a94deea1ec4f949",
        "IPY_MODEL_654e5e2bea624fb1b3e427a8632775c8",
        "IPY_MODEL_a230ad620dfa439f93035ed956e7e478",
        "IPY_MODEL_b655545cb20b4084bc9ee6cc69748267"
       ],
       "layout": "IPY_MODEL_83df72bfa6c54f7f9c15e36cc275864c"
      }
     },
     "4c9a49dd02ff415ebd2c06a53a473ac8": {
      "model_module": "@jupyter-widgets/controls",
      "model_module_version": "1.5.0",
      "model_name": "ToggleButtonModel",
      "state": {
       "button_style": "primary",
       "icon": "pencil-square-o",
       "layout": "IPY_MODEL_b36fa7c46e7c49b88addf2e9f417188a",
       "style": "IPY_MODEL_ee5b5d34ae3a4434807a6d4cfba462f9",
       "tooltip": "Create vector data"
      }
     },
     "4cf96d62008c402d8b63047bc38ed988": {
      "model_module": "jupyter-leaflet",
      "model_module_version": "^0.16.0",
      "model_name": "LeafletTileLayerModel",
      "state": {
       "_model_module_version": "^0.16.0",
       "_view_module_version": "^0.16.0",
       "attribution": "Map data: (C) OpenStreetMap contributors | Map style: (C) waymarkedtrails.org (CC-BY-SA)",
       "max_native_zoom": 18,
       "min_native_zoom": 0,
       "name": "WaymarkedTrails.cycling",
       "options": [
        "attribution",
        "bounds",
        "detect_retina",
        "max_native_zoom",
        "max_zoom",
        "min_native_zoom",
        "min_zoom",
        "no_wrap",
        "tile_size",
        "tms"
       ],
       "url": "https://tile.waymarkedtrails.org/cycling/{z}/{x}/{y}.png"
      }
     },
     "4e58fe74fe02472092632ceee883f92b": {
      "model_module": "jupyter-leaflet",
      "model_module_version": "^0.16.0",
      "model_name": "LeafletTileLayerModel",
      "state": {
       "_model_module_version": "^0.16.0",
       "_view_module_version": "^0.16.0",
       "attribution": "© swisstopo",
       "max_native_zoom": 18,
       "min_native_zoom": 0,
       "name": "SwissFederalGeoportal.NationalMapGrey",
       "options": [
        "attribution",
        "bounds",
        "detect_retina",
        "max_native_zoom",
        "max_zoom",
        "min_native_zoom",
        "min_zoom",
        "no_wrap",
        "tile_size",
        "tms"
       ],
       "url": "https://wmts.geo.admin.ch/1.0.0/ch.swisstopo.pixelkarte-grau/default/current/3857/{z}/{x}/{y}.jpeg"
      }
     },
     "4e5f533335574891ac3940af9d73ec32": {
      "model_module": "@jupyter-widgets/controls",
      "model_module_version": "1.5.0",
      "model_name": "ToggleButtonModel",
      "state": {
       "icon": "wrench",
       "layout": "IPY_MODEL_f9157bd8120b41758ebb54955b601a71",
       "style": "IPY_MODEL_bd4543fa368a4c2a87b4030878886433",
       "tooltip": "Toolbar"
      }
     },
     "4e6528964c01491889af99e1bf956a04": {
      "model_module": "jupyter-leaflet",
      "model_module_version": "^0.16.0",
      "model_name": "LeafletTileLayerModel",
      "state": {
       "_model_module_version": "^0.16.0",
       "_view_module_version": "^0.16.0",
       "attribution": "Map data: (C) OpenStreetMap contributors | Map style: (C) SafeCast (CC-BY-SA)",
       "max_native_zoom": 18,
       "max_zoom": 16,
       "min_native_zoom": 0,
       "name": "SafeCast",
       "options": [
        "attribution",
        "bounds",
        "detect_retina",
        "max_native_zoom",
        "max_zoom",
        "min_native_zoom",
        "min_zoom",
        "no_wrap",
        "tile_size",
        "tms"
       ],
       "url": "https://s3.amazonaws.com/te512.safecast.org/{z}/{x}/{y}.png"
      }
     },
     "4f2036c37d534759aaec5452d074a094": {
      "model_module": "@jupyter-widgets/controls",
      "model_module_version": "1.5.0",
      "model_name": "HBoxModel",
      "state": {
       "children": [
        "IPY_MODEL_018349eef8bb43b1950e9a9fafec3bf7",
        "IPY_MODEL_4e5f533335574891ac3940af9d73ec32"
       ],
       "layout": "IPY_MODEL_e865af92794546728cfc8a7db67c84e1"
      }
     },
     "4fbb861a942f4884a9f0e79621ef2659": {
      "model_module": "jupyter-leaflet",
      "model_module_version": "^0.16.0",
      "model_name": "LeafletWidgetControlModel",
      "state": {
       "_model_module": "jupyter-leaflet",
       "_model_module_version": "^0.16.0",
       "_view_count": null,
       "_view_module": "jupyter-leaflet",
       "_view_module_version": "^0.16.0",
       "options": [
        "position",
        "transparent_bg"
       ],
       "position": "bottomright",
       "widget": "IPY_MODEL_0685c8e0743f4f1d9a1f7ad915ba6d10"
      }
     },
     "515c51a534ef48fb87626dcab91406da": {
      "model_module": "jupyter-leaflet",
      "model_module_version": "^0.16.0",
      "model_name": "LeafletMapStyleModel",
      "state": {
       "_model_module_version": "^0.16.0"
      }
     },
     "519d434c8a8d4fffb8269e6f8d659da0": {
      "model_module": "@jupyter-widgets/controls",
      "model_module_version": "1.5.0",
      "model_name": "DescriptionStyleModel",
      "state": {
       "description_width": ""
      }
     },
     "51cded85f30c442ab4b522cbea3f0352": {
      "model_module": "ipyevents",
      "model_module_version": "2.0.1",
      "model_name": "EventModel",
      "state": {
       "_supported_key_events": [
        "keydown",
        "keyup"
       ],
       "_supported_mouse_events": [
        "click",
        "auxclick",
        "dblclick",
        "mouseenter",
        "mouseleave",
        "mousedown",
        "mouseup",
        "mousemove",
        "wheel",
        "contextmenu",
        "dragstart",
        "drag",
        "dragend",
        "dragenter",
        "dragover",
        "dragleave",
        "drop"
       ],
       "_supported_touch_events": [
        "touchstart",
        "touchend",
        "touchmove",
        "touchcancel"
       ],
       "_view_module": "@jupyter-widgets/controls",
       "_view_module_version": "1.5.0",
       "source": "IPY_MODEL_38e2cf1528ee43d0bba320d18ba8f3e6",
       "throttle_or_debounce": "",
       "watched_events": [
        "mouseenter",
        "mouseleave"
       ],
       "xy_coordinate_system": ""
      }
     },
     "524e095704c643f6b1521d85d3ccd6d2": {
      "model_module": "jupyter-leaflet",
      "model_module_version": "^0.16.0",
      "model_name": "LeafletTileLayerModel",
      "state": {
       "_model_module_version": "^0.16.0",
       "_view_module_version": "^0.16.0",
       "attribution": "(C) OpenStreetMap contributors (C) CARTO",
       "max_native_zoom": 18,
       "max_zoom": 20,
       "min_native_zoom": 0,
       "name": "CartoDB.Positron",
       "options": [
        "attribution",
        "bounds",
        "detect_retina",
        "max_native_zoom",
        "max_zoom",
        "min_native_zoom",
        "min_zoom",
        "no_wrap",
        "tile_size",
        "tms"
       ],
       "url": "https://a.basemaps.cartocdn.com/light_all/{z}/{x}/{y}.png"
      }
     },
     "52cc3cb3db2a47debb20ab62abff9b75": {
      "model_module": "jupyter-leaflet",
      "model_module_version": "^0.16.0",
      "model_name": "LeafletTileLayerModel",
      "state": {
       "_model_module_version": "^0.16.0",
       "_view_module_version": "^0.16.0",
       "attribution": "Imagery provided by services from the Global Imagery Browse Services (GIBS), operated by the NASA/GSFC/Earth Science Data and Information System (ESDIS) with funding provided by NASA/HQ.",
       "max_native_zoom": 18,
       "max_zoom": 8,
       "min_native_zoom": 0,
       "name": "NASAGIBS.ModisTerraSnowCover",
       "options": [
        "attribution",
        "bounds",
        "detect_retina",
        "max_native_zoom",
        "max_zoom",
        "min_native_zoom",
        "min_zoom",
        "no_wrap",
        "tile_size",
        "tms"
       ],
       "url": "https://map1.vis.earthdata.nasa.gov/wmts-webmerc/MODIS_Terra_NDSI_Snow_Cover/default//GoogleMapsCompatible_Level8/{z}/{y}/{x}.png"
      }
     },
     "52e4c08eaebd4254920a73b763119696": {
      "model_module": "@jupyter-widgets/controls",
      "model_module_version": "1.5.0",
      "model_name": "GridBoxModel",
      "state": {
       "children": [
        "IPY_MODEL_3637986274484336943c2166d1ca6d7c",
        "IPY_MODEL_74250dbe10954efeb15082aedcfdbc49",
        "IPY_MODEL_cf855109d26e46f5bcc2e3bf3d367fe1",
        "IPY_MODEL_ec647d0f5e1b471eab7eb6d08ed08a09",
        "IPY_MODEL_64ec52901cd4415484a1a15e3506c458",
        "IPY_MODEL_38ba49e025904c9bacc38b4e0bd8839b",
        "IPY_MODEL_237c493ac0b149d79d856f03860ec719",
        "IPY_MODEL_7a9a573f80bc4674913c374d0c46fbb9",
        "IPY_MODEL_d2343693e82a4bf3860a1449fb8edf61",
        "IPY_MODEL_dfabe1558a0a4f598d39ba0b47362ef0",
        "IPY_MODEL_1dc7f4b3c8ee4d88b45567acc1657fb6",
        "IPY_MODEL_09a88f43a0ce48f1be9dcdfea9c70c2a",
        "IPY_MODEL_620d7e286ee44cac889743b15b662c0b",
        "IPY_MODEL_753ca567055944a880b7d85eaf7a7e06",
        "IPY_MODEL_14e907dcc79d48e7b501a809fa475de8",
        "IPY_MODEL_15422728641646f3ae30c041133fc72a",
        "IPY_MODEL_249bfa8e4b474352b2a6ad4914a62e47",
        "IPY_MODEL_537bed396fbc444bab3924ba50633888"
       ],
       "layout": "IPY_MODEL_46475ed401aa48d694252bbae68664f6"
      }
     },
     "537bed396fbc444bab3924ba50633888": {
      "model_module": "@jupyter-widgets/controls",
      "model_module_version": "1.5.0",
      "model_name": "ToggleButtonModel",
      "state": {
       "button_style": "primary",
       "icon": "question",
       "layout": "IPY_MODEL_fdc485a8372a42fc93aa404bc47a887c",
       "style": "IPY_MODEL_671338fec83d4c18bd582460276fdca1",
       "tooltip": "Get help"
      }
     },
     "53c49cf533a94691a503350d4d7e2384": {
      "model_module": "jupyter-leaflet",
      "model_module_version": "^0.16.0",
      "model_name": "LeafletWMSLayerModel",
      "state": {
       "_model_module_version": "^0.16.0",
       "_view_module_version": "^0.16.0",
       "attribution": "MRLC",
       "crs": {
        "custom": false,
        "name": "EPSG3857"
       },
       "format": "image/png",
       "layers": "NLCD_2013_Land_Cover_L48",
       "max_native_zoom": 18,
       "min_native_zoom": 0,
       "name": "NLCD 2013 CONUS Land Cover",
       "options": [
        "attribution",
        "bounds",
        "detect_retina",
        "format",
        "layers",
        "max_native_zoom",
        "max_zoom",
        "min_native_zoom",
        "min_zoom",
        "no_wrap",
        "styles",
        "tile_size",
        "tms",
        "transparent",
        "uppercase"
       ],
       "transparent": true,
       "url": "https://www.mrlc.gov/geoserver/mrlc_display/NLCD_2013_Land_Cover_L48/wms?"
      }
     },
     "54e7c631638e436d94557f9881884fc7": {
      "model_module": "jupyter-leaflet",
      "model_module_version": "^0.16.0",
      "model_name": "LeafletTileLayerModel",
      "state": {
       "_model_module_version": "^0.16.0",
       "_view_module_version": "^0.16.0",
       "attribution": "Justice Map",
       "max_native_zoom": 18,
       "max_zoom": 22,
       "min_native_zoom": 0,
       "name": "JusticeMap.plurality",
       "options": [
        "attribution",
        "bounds",
        "detect_retina",
        "max_native_zoom",
        "max_zoom",
        "min_native_zoom",
        "min_zoom",
        "no_wrap",
        "tile_size",
        "tms"
       ],
       "url": "https://www.justicemap.org/tile/county/plural/{z}/{x}/{y}.png"
      }
     },
     "550a53d3d925491cb6e5e076b97272b0": {
      "model_module": "@jupyter-widgets/controls",
      "model_module_version": "1.5.0",
      "model_name": "ToggleButtonModel",
      "state": {
       "button_style": "primary",
       "icon": "search",
       "layout": "IPY_MODEL_7eb23f44256d4aada1fd20f8cd79758b",
       "style": "IPY_MODEL_66b0ad80dded40c59498c557c8e0bdc2",
       "tooltip": "Search XYZ tile services"
      }
     },
     "55e99c66610b4f8082b51c85e350c68a": {
      "model_module": "@jupyter-widgets/base",
      "model_module_version": "1.2.0",
      "model_name": "LayoutModel",
      "state": {
       "width": "500px"
      }
     },
     "56c627c3f9784d178978315b998c41ac": {
      "model_module": "jupyter-leaflet",
      "model_module_version": "^0.16.0",
      "model_name": "LeafletTileLayerModel",
      "state": {
       "_model_module_version": "^0.16.0",
       "_view_module_version": "^0.16.0",
       "attribution": "Tiles courtesy of the U.S. Geological Survey",
       "max_native_zoom": 18,
       "max_zoom": 20,
       "min_native_zoom": 0,
       "name": "USGS.USImagery",
       "options": [
        "attribution",
        "bounds",
        "detect_retina",
        "max_native_zoom",
        "max_zoom",
        "min_native_zoom",
        "min_zoom",
        "no_wrap",
        "tile_size",
        "tms"
       ],
       "url": "https://basemap.nationalmap.gov/arcgis/rest/services/USGSImageryOnly/MapServer/tile/{z}/{y}/{x}"
      }
     },
     "5709ec12e6114117a7f6673883efcedb": {
      "model_module": "@jupyter-widgets/controls",
      "model_module_version": "1.5.0",
      "model_name": "DescriptionStyleModel",
      "state": {
       "description_width": ""
      }
     },
     "572a8e49dc56488f83a9df44246bdfec": {
      "model_module": "@jupyter-widgets/base",
      "model_module_version": "1.2.0",
      "model_name": "LayoutModel",
      "state": {
       "height": "auto",
       "padding": "0px 0px 0px 4px",
       "width": "auto"
      }
     },
     "57a09f6050c8472bb28cb6c49ce93d59": {
      "model_module": "jupyter-leaflet",
      "model_module_version": "^0.16.0",
      "model_name": "LeafletTileLayerModel",
      "state": {
       "_model_module_version": "^0.16.0",
       "_view_module_version": "^0.16.0",
       "attribution": "Map data: (C) OpenStreetMap contributors | Map style: (C) waymarkedtrails.org (CC-BY-SA)",
       "max_native_zoom": 18,
       "min_native_zoom": 0,
       "name": "WaymarkedTrails.hiking",
       "options": [
        "attribution",
        "bounds",
        "detect_retina",
        "max_native_zoom",
        "max_zoom",
        "min_native_zoom",
        "min_zoom",
        "no_wrap",
        "tile_size",
        "tms"
       ],
       "url": "https://tile.waymarkedtrails.org/hiking/{z}/{x}/{y}.png"
      }
     },
     "5926303a4d384616ae6f2191b8ceaadc": {
      "model_module": "@jupyter-widgets/base",
      "model_module_version": "1.2.0",
      "model_name": "LayoutModel",
      "state": {
       "height": "auto",
       "padding": "0px 0px 0px 4px",
       "width": "auto"
      }
     },
     "5a8f198230f444b3bb48b274e505fca7": {
      "model_module": "jupyter-leaflet",
      "model_module_version": "^0.16.0",
      "model_name": "LeafletTileLayerModel",
      "state": {
       "_model_module_version": "^0.16.0",
       "_view_module_version": "^0.16.0",
       "attribution": "Imagery provided by services from the Global Imagery Browse Services (GIBS), operated by the NASA/GSFC/Earth Science Data and Information System (ESDIS) with funding provided by NASA/HQ.",
       "max_native_zoom": 18,
       "max_zoom": 7,
       "min_native_zoom": 0,
       "name": "NASAGIBS.ModisTerraChlorophyll",
       "options": [
        "attribution",
        "bounds",
        "detect_retina",
        "max_native_zoom",
        "max_zoom",
        "min_native_zoom",
        "min_zoom",
        "no_wrap",
        "tile_size",
        "tms"
       ],
       "url": "https://map1.vis.earthdata.nasa.gov/wmts-webmerc/MODIS_Terra_Chlorophyll_A/default//GoogleMapsCompatible_Level7/{z}/{y}/{x}.png"
      }
     },
     "5b6b02ae846e461282e419266ffd786a": {
      "model_module": "@jupyter-widgets/controls",
      "model_module_version": "1.5.0",
      "model_name": "DescriptionStyleModel",
      "state": {
       "description_width": ""
      }
     },
     "5c5b6a46af4f4017bdb73b2b94dcb8c3": {
      "model_module": "@jupyter-widgets/base",
      "model_module_version": "1.2.0",
      "model_name": "LayoutModel",
      "state": {
       "height": "auto",
       "padding": "0px 0px 0px 4px",
       "width": "auto"
      }
     },
     "5cad951227ef44b5aa26c6cbf955d7af": {
      "model_module": "jupyter-leaflet",
      "model_module_version": "^0.16.0",
      "model_name": "LeafletZoomControlModel",
      "state": {
       "_model_module_version": "^0.16.0",
       "_view_module_version": "^0.16.0",
       "options": [
        "position",
        "zoom_in_text",
        "zoom_in_title",
        "zoom_out_text",
        "zoom_out_title"
       ]
      }
     },
     "5e63bd0178c24ca6968fc96cd38eeab7": {
      "model_module": "jupyter-leaflet",
      "model_module_version": "^0.16.0",
      "model_name": "LeafletTileLayerModel",
      "state": {
       "_model_module_version": "^0.16.0",
       "_view_module_version": "^0.16.0",
       "attribution": "(C) Stadia Maps, (C) OpenMapTiles (C) OpenStreetMap contributors",
       "max_native_zoom": 18,
       "max_zoom": 20,
       "min_native_zoom": 0,
       "name": "Stadia.AlidadeSmooth",
       "options": [
        "attribution",
        "bounds",
        "detect_retina",
        "max_native_zoom",
        "max_zoom",
        "min_native_zoom",
        "min_zoom",
        "no_wrap",
        "tile_size",
        "tms"
       ],
       "url": "https://tiles.stadiamaps.com/tiles/alidade_smooth/{z}/{x}/{y}.png"
      }
     },
     "614b160d2f3c4ebeae0c4c2d73fee105": {
      "model_module": "@jupyter-widgets/controls",
      "model_module_version": "1.5.0",
      "model_name": "ToggleButtonModel",
      "state": {
       "button_style": "primary",
       "icon": "info",
       "layout": "IPY_MODEL_46ff31dc0a1f406d8bb85bdea2dabe1d",
       "style": "IPY_MODEL_a3772dfcbec7494993796e1bcd37e2f5",
       "tooltip": "Get COG/STAC pixel value"
      }
     },
     "615e8e03f00a4592880b69b657f77565": {
      "model_module": "jupyter-leaflet",
      "model_module_version": "^0.16.0",
      "model_name": "LeafletZoomControlModel",
      "state": {
       "_model_module_version": "^0.16.0",
       "_view_module_version": "^0.16.0",
       "options": [
        "position",
        "zoom_in_text",
        "zoom_in_title",
        "zoom_out_text",
        "zoom_out_title"
       ]
      }
     },
     "620d7e286ee44cac889743b15b662c0b": {
      "model_module": "@jupyter-widgets/controls",
      "model_module_version": "1.5.0",
      "model_name": "ToggleButtonModel",
      "state": {
       "button_style": "primary",
       "icon": "picture-o",
       "layout": "IPY_MODEL_734030a3c2f94e23bf46ea8bc64b97c1",
       "style": "IPY_MODEL_198506e151d743e1bf1f8fbe40a2f5de",
       "tooltip": "Open COG/STAC dataset"
      }
     },
     "6220428a0d974c1da692c16d56fa7763": {
      "model_module": "@jupyter-widgets/controls",
      "model_module_version": "1.5.0",
      "model_name": "DescriptionStyleModel",
      "state": {
       "description_width": ""
      }
     },
     "62215d8ee0a846bab6697e3c1df12f95": {
      "model_module": "jupyter-leaflet",
      "model_module_version": "^0.16.0",
      "model_name": "LeafletTileLayerModel",
      "state": {
       "_model_module_version": "^0.16.0",
       "_view_module_version": "^0.16.0",
       "attribution": "Map tiles by Stamen Design, CC BY 3.0 -- Map data (C) OpenStreetMap contributors",
       "max_native_zoom": 18,
       "min_native_zoom": 0,
       "name": "Stamen.Terrain",
       "options": [
        "attribution",
        "bounds",
        "detect_retina",
        "max_native_zoom",
        "max_zoom",
        "min_native_zoom",
        "min_zoom",
        "no_wrap",
        "tile_size",
        "tms"
       ],
       "url": "https://stamen-tiles-a.a.ssl.fastly.net/terrain/{z}/{x}/{y}.png"
      }
     },
     "6281f471e03340da8ce46dcecbbbeb9a": {
      "model_module": "jupyter-leaflet",
      "model_module_version": "^0.16.0",
      "model_name": "LeafletTileLayerModel",
      "state": {
       "_model_module_version": "^0.16.0",
       "_view_module_version": "^0.16.0",
       "attribution": "Map tiles by <a href=\"https://labs.strava.com/heatmap\">Strava 2021</a>",
       "max_native_zoom": 18,
       "max_zoom": 15,
       "min_native_zoom": 0,
       "name": "Strava.Winter",
       "options": [
        "attribution",
        "bounds",
        "detect_retina",
        "max_native_zoom",
        "max_zoom",
        "min_native_zoom",
        "min_zoom",
        "no_wrap",
        "tile_size",
        "tms"
       ],
       "url": "https://heatmap-external-a.strava.com/tiles/winter/hot/{z}/{x}/{y}.png"
      }
     },
     "6379bc51089d494daed6db17c2fe9df6": {
      "model_module": "@jupyter-widgets/controls",
      "model_module_version": "1.5.0",
      "model_name": "HBoxModel",
      "state": {
       "children": [
        "IPY_MODEL_f428730e8c014784a75900a6c2b25115",
        "IPY_MODEL_3afeac9c99f649b5bcac5e87f68d5a22"
       ],
       "layout": "IPY_MODEL_e297c90c02a04ce08f7a97009882b186"
      }
     },
     "64405ec96b474e51bd6e1b1fa20a7059": {
      "model_module": "jupyter-leaflet",
      "model_module_version": "^0.16.0",
      "model_name": "LeafletTileLayerModel",
      "state": {
       "_model_module_version": "^0.16.0",
       "_view_module_version": "^0.16.0",
       "attribution": "",
       "max_native_zoom": 18,
       "min_native_zoom": 0,
       "name": "STAC Layer",
       "options": [
        "attribution",
        "bounds",
        "detect_retina",
        "max_native_zoom",
        "max_zoom",
        "min_native_zoom",
        "min_zoom",
        "no_wrap",
        "tile_size",
        "tms"
       ],
       "url": "https://planetarycomputer.microsoft.com/api/data/v1/item/tiles/WebMercatorQuad/{z}/{x}/{y}@1x?color_formula=Gamma+RGB+3.2+Saturation+0.8+Sigmoidal+RGB+25+0.35&nodata=0&rescale=0%2C50000&collection=sentinel-2-l2a&item=S2B_MSIL2A_20220520T015619_R117_T51LXC_20220521T145604&assets=B04&assets=B03&assets=B02"
      }
     },
     "64ec52901cd4415484a1a15e3506c458": {
      "model_module": "@jupyter-widgets/controls",
      "model_module_version": "1.5.0",
      "model_name": "ToggleButtonModel",
      "state": {
       "button_style": "primary",
       "icon": "gears",
       "layout": "IPY_MODEL_e1c18ed138b140d581642ed2e28a8764",
       "style": "IPY_MODEL_1d811bcd3781462b9c2c302e1bc188de",
       "tooltip": "WhiteboxTools for local geoprocessing"
      }
     },
     "64ef14098f0b47e69a774f9daea6b507": {
      "model_module": "@jupyter-widgets/controls",
      "model_module_version": "1.5.0",
      "model_name": "DescriptionStyleModel",
      "state": {
       "description_width": ""
      }
     },
     "653e8a1a173c4154b64b3c7b0b1fbe19": {
      "model_module": "@jupyter-widgets/base",
      "model_module_version": "1.2.0",
      "model_name": "LayoutModel",
      "state": {
       "height": "auto",
       "padding": "0px 0px 0px 4px",
       "width": "auto"
      }
     },
     "654e5e2bea624fb1b3e427a8632775c8": {
      "model_module": "@jupyter-widgets/controls",
      "model_module_version": "1.5.0",
      "model_name": "ToggleButtonModel",
      "state": {
       "button_style": "primary",
       "icon": "pencil-square-o",
       "layout": "IPY_MODEL_6cfd6eba09d642a5a7ef504cecfe880c",
       "style": "IPY_MODEL_6220428a0d974c1da692c16d56fa7763",
       "tooltip": "Create vector data"
      }
     },
     "65b8378a72384fb696fcd6e2a8526226": {
      "model_module": "@jupyter-widgets/base",
      "model_module_version": "1.2.0",
      "model_name": "LayoutModel",
      "state": {
       "height": "auto",
       "padding": "0px 0px 0px 4px",
       "width": "auto"
      }
     },
     "662d733e54604bb1a5dfc5f5f9f6a003": {
      "model_module": "@jupyter-widgets/controls",
      "model_module_version": "1.5.0",
      "model_name": "ToggleButtonModel",
      "state": {
       "button_style": "primary",
       "icon": "address-book",
       "layout": "IPY_MODEL_8a266c683c2a43fe9a931842292e0eb9",
       "style": "IPY_MODEL_caa6249089ee498f9e80129fb9aa6e94",
       "tooltip": "Get US Census data"
      }
     },
     "66b0ad80dded40c59498c557c8e0bdc2": {
      "model_module": "@jupyter-widgets/controls",
      "model_module_version": "1.5.0",
      "model_name": "DescriptionStyleModel",
      "state": {
       "description_width": ""
      }
     },
     "671338fec83d4c18bd582460276fdca1": {
      "model_module": "@jupyter-widgets/controls",
      "model_module_version": "1.5.0",
      "model_name": "DescriptionStyleModel",
      "state": {
       "description_width": ""
      }
     },
     "682c31f673f444519855675e7713cc7b": {
      "model_module": "@jupyter-widgets/base",
      "model_module_version": "1.2.0",
      "model_name": "LayoutModel",
      "state": {
       "height": "auto",
       "padding": "0px 0px 0px 4px",
       "width": "auto"
      }
     },
     "684def6bdd2c4971ae865715aff0aad2": {
      "model_module": "@jupyter-widgets/controls",
      "model_module_version": "1.5.0",
      "model_name": "ToggleButtonModel",
      "state": {
       "button_style": "primary",
       "icon": "adjust",
       "layout": "IPY_MODEL_1b91e228988948788be2176c77d968fa",
       "style": "IPY_MODEL_083dac07d78548f7975b807b6ad3557d",
       "tooltip": "Planet imagery"
      }
     },
     "69c4099299234e749beb415f5bc03cb8": {
      "model_module": "jupyter-leaflet",
      "model_module_version": "^0.16.0",
      "model_name": "LeafletTileLayerModel",
      "state": {
       "_model_module_version": "^0.16.0",
       "_view_module_version": "^0.16.0",
       "attribution": "Map data: (C) OpenStreetMap contributors, SRTM | Map style: (C) OpenTopoMap (CC-BY-SA)",
       "max_native_zoom": 18,
       "max_zoom": 17,
       "min_native_zoom": 0,
       "name": "OpenTopoMap",
       "options": [
        "attribution",
        "bounds",
        "detect_retina",
        "max_native_zoom",
        "max_zoom",
        "min_native_zoom",
        "min_zoom",
        "no_wrap",
        "tile_size",
        "tms"
       ],
       "url": "https://a.tile.opentopomap.org/{z}/{x}/{y}.png"
      }
     },
     "6b674af1b0b54bc5ab2800c16486007f": {
      "model_module": "jupyter-leaflet",
      "model_module_version": "^0.16.0",
      "model_name": "LeafletTileLayerModel",
      "state": {
       "_model_module_version": "^0.16.0",
       "_view_module_version": "^0.16.0",
       "attribution": "Imagery provided by services from the Global Imagery Browse Services (GIBS), operated by the NASA/GSFC/Earth Science Data and Information System (<a href=\"https://earthdata.nasa.gov\">ESDIS</a>) with funding provided by NASA/HQ.",
       "max_native_zoom": 18,
       "max_zoom": 9,
       "min_native_zoom": 0,
       "name": "NASAGIBS.ModisTerraBands721CR",
       "options": [
        "attribution",
        "bounds",
        "detect_retina",
        "max_native_zoom",
        "max_zoom",
        "min_native_zoom",
        "min_zoom",
        "no_wrap",
        "tile_size",
        "tms"
       ],
       "url": "https://gibs.earthdata.nasa.gov/wmts/epsg3857/best/MODIS_Terra_CorrectedReflectance_Bands721/default//GoogleMapsCompatible_Level9/{z}/{y}/{x}.jpg"
      }
     },
     "6bbbd6778b3248ffbe56b34eec8741b2": {
      "model_module": "@jupyter-widgets/controls",
      "model_module_version": "1.5.0",
      "model_name": "GridBoxModel",
      "state": {
       "children": [
        "IPY_MODEL_344c8b9d23e848699bfc2f31022d03f6",
        "IPY_MODEL_35d7be8aa86d4e06bbe9197cd57df239",
        "IPY_MODEL_684def6bdd2c4971ae865715aff0aad2",
        "IPY_MODEL_3d9d6a2095f44d98b3b0aefc373ab745",
        "IPY_MODEL_7f6251ec331544f7bf8b0551a35f991f",
        "IPY_MODEL_4b001817ee3741128c012c5acc315d0c",
        "IPY_MODEL_77f09ec3cff648e6a6c802432eb12e66",
        "IPY_MODEL_b8762cd45a9d43e5bfe0fad8964d82be",
        "IPY_MODEL_662d733e54604bb1a5dfc5f5f9f6a003",
        "IPY_MODEL_614b160d2f3c4ebeae0c4c2d73fee105",
        "IPY_MODEL_a54ffadc62fa445d8311a21b0090e903",
        "IPY_MODEL_c44ac89f0bbf4828ae77151ee918ce7d",
        "IPY_MODEL_3540b1dce255471db22a1ee7f4fdfab3",
        "IPY_MODEL_f1043b87dedf41f6b4dfc116db65f485",
        "IPY_MODEL_6e54edc20f914af18fd89060bf8edba9",
        "IPY_MODEL_4c9a49dd02ff415ebd2c06a53a473ac8",
        "IPY_MODEL_7a12408ff7684d08a00f20bfe0e00c28",
        "IPY_MODEL_a604a12f4fc34738a9c5902d1b1ea40d"
       ],
       "layout": "IPY_MODEL_8355a977a59247ec9ac6fc03c733c6a2"
      }
     },
     "6c1326e5c2a44b33b9ac77226303aa4d": {
      "model_module": "@jupyter-widgets/base",
      "model_module_version": "1.2.0",
      "model_name": "LayoutModel",
      "state": {
       "height": "28px",
       "width": "72px"
      }
     },
     "6c19da658a20473bb9465b212578d3da": {
      "model_module": "@jupyter-widgets/controls",
      "model_module_version": "1.5.0",
      "model_name": "DescriptionStyleModel",
      "state": {
       "description_width": ""
      }
     },
     "6c5be78c491a4e938634d2dec487541c": {
      "model_module": "jupyter-leaflet",
      "model_module_version": "^0.16.0",
      "model_name": "LeafletTileLayerModel",
      "state": {
       "_model_module_version": "^0.16.0",
       "_view_module_version": "^0.16.0",
       "attribution": "Map tiles by <a href=\"https://labs.strava.com/heatmap\">Strava 2021</a>",
       "max_native_zoom": 18,
       "max_zoom": 15,
       "min_native_zoom": 0,
       "name": "Strava.All",
       "options": [
        "attribution",
        "bounds",
        "detect_retina",
        "max_native_zoom",
        "max_zoom",
        "min_native_zoom",
        "min_zoom",
        "no_wrap",
        "tile_size",
        "tms"
       ],
       "url": "https://heatmap-external-a.strava.com/tiles/all/hot/{z}/{x}/{y}.png"
      }
     },
     "6c8346df711a4d73983c351b4f94c216": {
      "model_module": "jupyter-leaflet",
      "model_module_version": "^0.16.0",
      "model_name": "LeafletTileLayerModel",
      "state": {
       "_model_module_version": "^0.16.0",
       "_view_module_version": "^0.16.0",
       "attribution": "(C) OpenStreetMap contributors (C) CARTO",
       "max_native_zoom": 18,
       "max_zoom": 20,
       "min_native_zoom": 0,
       "name": "CartoDB.PositronNoLabels",
       "options": [
        "attribution",
        "bounds",
        "detect_retina",
        "max_native_zoom",
        "max_zoom",
        "min_native_zoom",
        "min_zoom",
        "no_wrap",
        "tile_size",
        "tms"
       ],
       "url": "https://a.basemaps.cartocdn.com/light_nolabels/{z}/{x}/{y}.png"
      }
     },
     "6cfd6eba09d642a5a7ef504cecfe880c": {
      "model_module": "@jupyter-widgets/base",
      "model_module_version": "1.2.0",
      "model_name": "LayoutModel",
      "state": {
       "height": "auto",
       "padding": "0px 0px 0px 4px",
       "width": "auto"
      }
     },
     "6d186c8b736343ca854c6f145778acde": {
      "model_module": "jupyter-leaflet",
      "model_module_version": "^0.16.0",
      "model_name": "LeafletMapStyleModel",
      "state": {
       "_model_module_version": "^0.16.0"
      }
     },
     "6d9283b78a054bfb96c292666c8e1add": {
      "model_module": "jupyter-leaflet",
      "model_module_version": "^0.16.0",
      "model_name": "LeafletTileLayerModel",
      "state": {
       "_model_module_version": "^0.16.0",
       "_view_module_version": "^0.16.0",
       "attribution": "Justice Map",
       "max_native_zoom": 18,
       "max_zoom": 22,
       "min_native_zoom": 0,
       "name": "JusticeMap.black",
       "options": [
        "attribution",
        "bounds",
        "detect_retina",
        "max_native_zoom",
        "max_zoom",
        "min_native_zoom",
        "min_zoom",
        "no_wrap",
        "tile_size",
        "tms"
       ],
       "url": "https://www.justicemap.org/tile/county/black/{z}/{x}/{y}.png"
      }
     },
     "6e3dbe233f2b4b96ac9f7f8fa7620329": {
      "model_module": "jupyter-leaflet",
      "model_module_version": "^0.16.0",
      "model_name": "LeafletTileLayerModel",
      "state": {
       "_model_module_version": "^0.16.0",
       "_view_module_version": "^0.16.0",
       "attribution": "Datenquelle: basemap.at",
       "max_native_zoom": 18,
       "max_zoom": 19,
       "min_native_zoom": 0,
       "name": "BasemapAT.highdpi",
       "options": [
        "attribution",
        "bounds",
        "detect_retina",
        "max_native_zoom",
        "max_zoom",
        "min_native_zoom",
        "min_zoom",
        "no_wrap",
        "tile_size",
        "tms"
       ],
       "url": "https://maps.wien.gv.at/basemap/bmaphidpi/normal/google3857/{z}/{y}/{x}.jpeg"
      }
     },
     "6e54edc20f914af18fd89060bf8edba9": {
      "model_module": "@jupyter-widgets/controls",
      "model_module_version": "1.5.0",
      "model_name": "ToggleButtonModel",
      "state": {
       "button_style": "primary",
       "icon": "table",
       "layout": "IPY_MODEL_6e819cefbb4546f0889491fe1bbeab9b",
       "style": "IPY_MODEL_2ed998e4677948808ef81fe56c496172",
       "tooltip": "Open attribute table"
      }
     },
     "6e819cefbb4546f0889491fe1bbeab9b": {
      "model_module": "@jupyter-widgets/base",
      "model_module_version": "1.2.0",
      "model_name": "LayoutModel",
      "state": {
       "height": "auto",
       "padding": "0px 0px 0px 4px",
       "width": "auto"
      }
     },
     "6f8cb26a7f0f47b5a668364bd4cf1420": {
      "model_module": "jupyter-leaflet",
      "model_module_version": "^0.16.0",
      "model_name": "LeafletTileLayerModel",
      "state": {
       "_model_module_version": "^0.16.0",
       "_view_module_version": "^0.16.0",
       "attribution": "Map data: (C) OpenSeaMap contributors",
       "max_native_zoom": 18,
       "max_zoom": 22,
       "min_native_zoom": 0,
       "name": "OpenSeaMap",
       "options": [
        "attribution",
        "bounds",
        "detect_retina",
        "max_native_zoom",
        "max_zoom",
        "min_native_zoom",
        "min_zoom",
        "no_wrap",
        "tile_size",
        "tms"
       ],
       "url": "https://tiles.openseamap.org/seamark/{z}/{x}/{y}.png"
      }
     },
     "7017fcd2de544eacae66883e500518bb": {
      "model_module": "@jupyter-widgets/controls",
      "model_module_version": "1.5.0",
      "model_name": "DescriptionStyleModel",
      "state": {
       "description_width": ""
      }
     },
     "70201a0dff0f4e78bcd9ccce4a3bebd0": {
      "model_module": "jupyter-leaflet",
      "model_module_version": "^0.16.0",
      "model_name": "LeafletDrawControlModel",
      "state": {
       "_model_module_version": "^0.16.0",
       "_view_module_version": "^0.16.0",
       "circle": {
        "shapeOptions": {
         "color": "#3388ff"
        }
       },
       "marker": {
        "shapeOptions": {
         "color": "#3388ff"
        }
       },
       "options": [
        "position"
       ],
       "rectangle": {
        "shapeOptions": {
         "color": "#3388ff"
        }
       }
      }
     },
     "709bed1642fd4b74a54fe59931770f83": {
      "model_module": "@jupyter-widgets/controls",
      "model_module_version": "1.5.0",
      "model_name": "DescriptionStyleModel",
      "state": {
       "description_width": ""
      }
     },
     "7114c644ba024806862cbb570621afe8": {
      "model_module": "@jupyter-widgets/base",
      "model_module_version": "1.2.0",
      "model_name": "LayoutModel",
      "state": {}
     },
     "7149fba3d69f40b3b81ac1ff006eecdb": {
      "model_module": "@jupyter-widgets/controls",
      "model_module_version": "1.5.0",
      "model_name": "DescriptionStyleModel",
      "state": {
       "description_width": ""
      }
     },
     "7213d76f931343aa9b5cf04144e33ae7": {
      "model_module": "jupyter-leaflet",
      "model_module_version": "^0.16.0",
      "model_name": "LeafletTileLayerModel",
      "state": {
       "_model_module_version": "^0.16.0",
       "_view_module_version": "^0.16.0",
       "attribution": "Datenquelle: basemap.at",
       "max_native_zoom": 18,
       "max_zoom": 19,
       "min_native_zoom": 0,
       "name": "BasemapAT.terrain",
       "options": [
        "attribution",
        "bounds",
        "detect_retina",
        "max_native_zoom",
        "max_zoom",
        "min_native_zoom",
        "min_zoom",
        "no_wrap",
        "tile_size",
        "tms"
       ],
       "url": "https://maps.wien.gv.at/basemap/bmapgelaende/grau/google3857/{z}/{y}/{x}.jpeg"
      }
     },
     "7224c683b2c1434a9abafa2c3a2ecb22": {
      "model_module": "jupyter-leaflet",
      "model_module_version": "^0.16.0",
      "model_name": "LeafletMapModel",
      "state": {
       "_model_module_version": "^0.16.0",
       "_view_module_version": "^0.16.0",
       "bottom": 11574,
       "center": [
        48.85096,
        -122.81896563000001
       ],
       "controls": [
        "IPY_MODEL_29c4e58f74ac4b91b5b91f64d9d5c018",
        "IPY_MODEL_818ec6b985eb4cd28e8faaee72c6b02f",
        "IPY_MODEL_8a0f375c4bbb44bf8ae3a8f0cc454fee",
        "IPY_MODEL_70201a0dff0f4e78bcd9ccce4a3bebd0",
        "IPY_MODEL_3d5328b9aea74357a21debecd5bdeb88",
        "IPY_MODEL_85f1b650436c4585bcdd5b2c7b5cd912",
        "IPY_MODEL_98293f17b34b4a52bb5133f5f217fbb9",
        "IPY_MODEL_8672e0ed879f4849a76a785a06c8845c"
       ],
       "default_style": "IPY_MODEL_6d186c8b736343ca854c6f145778acde",
       "dragging_style": "IPY_MODEL_f9d1a29639664322ab1a18d47f0e55de",
       "east": -113.36791992187501,
       "fullscreen": false,
       "interpolation": "bilinear",
       "layers": [
        "IPY_MODEL_330612f3a3a943fc8f83b5bb556e0f6c",
        "IPY_MODEL_deff893aeac242ba87e8a428c40b1f85"
       ],
       "layout": "IPY_MODEL_3dbee2a861094d7ebae93be8c510703d",
       "left": 4345,
       "max_zoom": 24,
       "modisdate": "2022-05-24",
       "north": 50.972264889367494,
       "options": [
        "bounce_at_zoom_limits",
        "box_zoom",
        "center",
        "close_popup_on_click",
        "double_click_zoom",
        "dragging",
        "fullscreen",
        "inertia",
        "inertia_deceleration",
        "inertia_max_speed",
        "interpolation",
        "keyboard",
        "keyboard_pan_offset",
        "keyboard_zoom_offset",
        "max_zoom",
        "min_zoom",
        "prefer_canvas",
        "scroll_wheel_zoom",
        "tap",
        "tap_tolerance",
        "touch_zoom",
        "world_copy_jump",
        "zoom",
        "zoom_animation_threshold",
        "zoom_delta",
        "zoom_snap",
        "zoom_start"
       ],
       "prefer_canvas": false,
       "right": 6065,
       "scroll_wheel_zoom": true,
       "south": 46.63435070293566,
       "style": "IPY_MODEL_6d186c8b736343ca854c6f145778acde",
       "top": 10974,
       "west": -132.26440429687503,
       "window_url": "https://pcc-staging.westeurope.cloudapp.azure.com/compute/user/taugspurger@microsoft.com/lab/tree/PlanetaryComputerExamples/quickstarts/leafmap-example.ipynb",
       "zoom": 7
      }
     },
     "7289ba364699438986d6aa4832b0018f": {
      "model_module": "jupyter-leaflet",
      "model_module_version": "^0.16.0",
      "model_name": "LeafletMapStyleModel",
      "state": {
       "_model_module_version": "^0.16.0",
       "cursor": "move"
      }
     },
     "72d031d47182454ea882b54b11ff509e": {
      "model_module": "@jupyter-widgets/base",
      "model_module_version": "1.2.0",
      "model_name": "LayoutModel",
      "state": {}
     },
     "734030a3c2f94e23bf46ea8bc64b97c1": {
      "model_module": "@jupyter-widgets/base",
      "model_module_version": "1.2.0",
      "model_name": "LayoutModel",
      "state": {
       "height": "auto",
       "padding": "0px 0px 0px 4px",
       "width": "auto"
      }
     },
     "7387a23e36064316ae13f80b632e786f": {
      "model_module": "jupyter-leaflet",
      "model_module_version": "^0.16.0",
      "model_name": "LeafletTileLayerModel",
      "state": {
       "_model_module_version": "^0.16.0",
       "_view_module_version": "^0.16.0",
       "attribution": "CyclOSM | Map data: (C) OpenStreetMap contributors",
       "max_native_zoom": 18,
       "max_zoom": 20,
       "min_native_zoom": 0,
       "name": "CyclOSM",
       "options": [
        "attribution",
        "bounds",
        "detect_retina",
        "max_native_zoom",
        "max_zoom",
        "min_native_zoom",
        "min_zoom",
        "no_wrap",
        "tile_size",
        "tms"
       ],
       "url": "https://a.tile-cyclosm.openstreetmap.fr/cyclosm/{z}/{x}/{y}.png"
      }
     },
     "74250dbe10954efeb15082aedcfdbc49": {
      "model_module": "@jupyter-widgets/controls",
      "model_module_version": "1.5.0",
      "model_name": "ToggleButtonModel",
      "state": {
       "button_style": "primary",
       "icon": "globe",
       "layout": "IPY_MODEL_1e125a4f710a42449d3f5880d6780364",
       "style": "IPY_MODEL_bfdeb28d855e4992ae5527fad13c0053",
       "tooltip": "Split-panel map"
      }
     },
     "7483e3a158854266ae5105b1374f4bd8": {
      "model_module": "@jupyter-widgets/base",
      "model_module_version": "1.2.0",
      "model_name": "LayoutModel",
      "state": {}
     },
     "75019712cdcb41b3b4f6a4dadd6cdb9b": {
      "model_module": "jupyter-leaflet",
      "model_module_version": "^0.16.0",
      "model_name": "LeafletTileLayerModel",
      "state": {
       "_model_module_version": "^0.16.0",
       "_view_module_version": "^0.16.0",
       "attribution": "Imagery provided by services from the Global Imagery Browse Services (GIBS), operated by the NASA/GSFC/Earth Science Data and Information System (<a href=\"https://earthdata.nasa.gov\">ESDIS</a>) with funding provided by NASA/HQ.",
       "max_native_zoom": 18,
       "max_zoom": 5,
       "min_native_zoom": 0,
       "name": "NASAGIBS.BlueMarble3413",
       "options": [
        "attribution",
        "bounds",
        "detect_retina",
        "max_native_zoom",
        "max_zoom",
        "min_native_zoom",
        "min_zoom",
        "no_wrap",
        "tile_size",
        "tms"
       ],
       "url": "https://gibs.earthdata.nasa.gov/wmts/epsg3413/best/BlueMarble_NextGeneration/default/EPSG3413_500m/{z}/{y}/{x}.jpeg"
      }
     },
     "753ca567055944a880b7d85eaf7a7e06": {
      "model_module": "@jupyter-widgets/controls",
      "model_module_version": "1.5.0",
      "model_name": "ToggleButtonModel",
      "state": {
       "button_style": "primary",
       "icon": "search-plus",
       "layout": "IPY_MODEL_9b0e9f2ec6104358a374f8bb7adacfa6",
       "style": "IPY_MODEL_6c19da658a20473bb9465b212578d3da",
       "tooltip": "Search features in GeoJSON layer"
      }
     },
     "768ff1f996024cdfa596ed7c2d909243": {
      "model_module": "@jupyter-widgets/base",
      "model_module_version": "1.2.0",
      "model_name": "LayoutModel",
      "state": {
       "height": "auto",
       "padding": "0px 0px 0px 4px",
       "width": "auto"
      }
     },
     "77f09ec3cff648e6a6c802432eb12e66": {
      "model_module": "@jupyter-widgets/controls",
      "model_module_version": "1.5.0",
      "model_name": "ToggleButtonModel",
      "state": {
       "button_style": "primary",
       "icon": "eraser",
       "layout": "IPY_MODEL_eeb082211bb647438f330dcf43711bab",
       "style": "IPY_MODEL_a7a04f958b2245f6a5d8e92faa8af23a",
       "tooltip": "Remove all drawn features"
      }
     },
     "78b3734a05a741ae86cea5855b8d8f4e": {
      "model_module": "@jupyter-widgets/base",
      "model_module_version": "1.2.0",
      "model_name": "LayoutModel",
      "state": {
       "height": "auto",
       "padding": "0px 0px 0px 4px",
       "width": "auto"
      }
     },
     "796484a654e44763ba152c86947772ab": {
      "model_module": "@jupyter-widgets/controls",
      "model_module_version": "1.5.0",
      "model_name": "DescriptionStyleModel",
      "state": {
       "description_width": ""
      }
     },
     "7a085ebd072e4dc182ec2d9e58ee2b8b": {
      "model_module": "@jupyter-widgets/controls",
      "model_module_version": "1.5.0",
      "model_name": "ToggleButtonModel",
      "state": {
       "button_style": "primary",
       "icon": "info",
       "layout": "IPY_MODEL_e87bacdc53df419a80d87029b1601f90",
       "style": "IPY_MODEL_d5b8a618ba8046b890ec586cd2754083",
       "tooltip": "Get COG/STAC pixel value"
      }
     },
     "7a12408ff7684d08a00f20bfe0e00c28": {
      "model_module": "@jupyter-widgets/controls",
      "model_module_version": "1.5.0",
      "model_name": "ToggleButtonModel",
      "state": {
       "button_style": "primary",
       "icon": "stack-exchange",
       "layout": "IPY_MODEL_5c5b6a46af4f4017bdb73b2b94dcb8c3",
       "style": "IPY_MODEL_4962aedea1f9417180a0b55cffb7712b",
       "tooltip": "Discover STAC Catalog"
      }
     },
     "7a9a573f80bc4674913c374d0c46fbb9": {
      "model_module": "@jupyter-widgets/controls",
      "model_module_version": "1.5.0",
      "model_name": "ToggleButtonModel",
      "state": {
       "button_style": "primary",
       "icon": "camera",
       "layout": "IPY_MODEL_65b8378a72384fb696fcd6e2a8526226",
       "style": "IPY_MODEL_796484a654e44763ba152c86947772ab",
       "tooltip": "Save map as HTML or image"
      }
     },
     "7b663d619f4d4b119ea07634d812a75a": {
      "model_module": "@jupyter-widgets/base",
      "model_module_version": "1.2.0",
      "model_name": "LayoutModel",
      "state": {
       "height": "auto",
       "padding": "0px 0px 0px 4px",
       "width": "auto"
      }
     },
     "7b766ea7f9904c3097047e0135c0eeb2": {
      "model_module": "@jupyter-widgets/base",
      "model_module_version": "1.2.0",
      "model_name": "LayoutModel",
      "state": {
       "height": "auto",
       "padding": "0px 0px 0px 4px",
       "width": "auto"
      }
     },
     "7ba6ac9184274c00bb90fd6ac4504e5d": {
      "model_module": "@jupyter-widgets/base",
      "model_module_version": "1.2.0",
      "model_name": "LayoutModel",
      "state": {}
     },
     "7cd6567ba0cf4c2db4cf4c437a8a4a83": {
      "model_module": "jupyter-leaflet",
      "model_module_version": "^0.16.0",
      "model_name": "LeafletTileLayerModel",
      "state": {
       "_model_module_version": "^0.16.0",
       "_view_module_version": "^0.16.0",
       "attribution": "Geoportail France",
       "max_native_zoom": 18,
       "min_native_zoom": 0,
       "name": "GeoportailFrance.plan",
       "options": [
        "attribution",
        "bounds",
        "detect_retina",
        "max_native_zoom",
        "max_zoom",
        "min_native_zoom",
        "min_zoom",
        "no_wrap",
        "tile_size",
        "tms"
       ],
       "url": "https://wxs.ign.fr/choisirgeoportail/geoportail/wmts?REQUEST=GetTile&SERVICE=WMTS&VERSION=1.0.0&STYLE=normal&TILEMATRIXSET=PM&FORMAT=image/png&LAYER=GEOGRAPHICALGRIDSYSTEMS.PLANIGNV2&TILEMATRIX={z}&TILEROW={y}&TILECOL={x}"
      }
     },
     "7db63fcd49f843ef940c4e2305c26121": {
      "model_module": "@jupyter-widgets/controls",
      "model_module_version": "1.5.0",
      "model_name": "DescriptionStyleModel",
      "state": {
       "description_width": ""
      }
     },
     "7dddbb672c974e0bbafcb399a1594243": {
      "model_module": "ipyevents",
      "model_module_version": "2.0.1",
      "model_name": "EventModel",
      "state": {
       "_supported_key_events": [
        "keydown",
        "keyup"
       ],
       "_supported_mouse_events": [
        "click",
        "auxclick",
        "dblclick",
        "mouseenter",
        "mouseleave",
        "mousedown",
        "mouseup",
        "mousemove",
        "wheel",
        "contextmenu",
        "dragstart",
        "drag",
        "dragend",
        "dragenter",
        "dragover",
        "dragleave",
        "drop"
       ],
       "_supported_touch_events": [
        "touchstart",
        "touchend",
        "touchmove",
        "touchcancel"
       ],
       "_view_module": "@jupyter-widgets/controls",
       "_view_module_version": "1.5.0",
       "source": "IPY_MODEL_1ef8b876d63b44afb05109d347d9cdcf",
       "throttle_or_debounce": "",
       "watched_events": [
        "mouseenter",
        "mouseleave"
       ],
       "xy_coordinate_system": ""
      }
     },
     "7eb23f44256d4aada1fd20f8cd79758b": {
      "model_module": "@jupyter-widgets/base",
      "model_module_version": "1.2.0",
      "model_name": "LayoutModel",
      "state": {
       "height": "auto",
       "padding": "0px 0px 0px 4px",
       "width": "auto"
      }
     },
     "7f6251ec331544f7bf8b0551a35f991f": {
      "model_module": "@jupyter-widgets/controls",
      "model_module_version": "1.5.0",
      "model_name": "ToggleButtonModel",
      "state": {
       "button_style": "primary",
       "icon": "gears",
       "layout": "IPY_MODEL_572a8e49dc56488f83a9df44246bdfec",
       "style": "IPY_MODEL_f79f6020bf7846d6b4c11a79631bfcac",
       "tooltip": "WhiteboxTools for local geoprocessing"
      }
     },
     "80b05eb0df5b4aa1a2b2fac9cf88a3ba": {
      "model_module": "@jupyter-widgets/controls",
      "model_module_version": "1.5.0",
      "model_name": "DescriptionStyleModel",
      "state": {
       "description_width": ""
      }
     },
     "80cc9d960e184b0da7236217e17b03b7": {
      "model_module": "jupyter-leaflet",
      "model_module_version": "^0.16.0",
      "model_name": "LeafletWidgetControlModel",
      "state": {
       "_model_module": "jupyter-leaflet",
       "_model_module_version": "^0.16.0",
       "_view_count": null,
       "_view_module": "jupyter-leaflet",
       "_view_module_version": "^0.16.0",
       "options": [
        "position",
        "transparent_bg"
       ],
       "position": "topright",
       "widget": "IPY_MODEL_e7fca463e1734a39bd8e6b46e5fa9800"
      }
     },
     "80d462c0ee1b4a758ea22307a73fb634": {
      "model_module": "jupyter-leaflet",
      "model_module_version": "^0.16.0",
      "model_name": "LeafletMapStyleModel",
      "state": {
       "_model_module_version": "^0.16.0"
      }
     },
     "818ec6b985eb4cd28e8faaee72c6b02f": {
      "model_module": "jupyter-leaflet",
      "model_module_version": "^0.16.0",
      "model_name": "LeafletAttributionControlModel",
      "state": {
       "_model_module_version": "^0.16.0",
       "_view_module_version": "^0.16.0",
       "options": [
        "position",
        "prefix"
       ],
       "position": "bottomright",
       "prefix": "ipyleaflet"
      }
     },
     "82916ec149aa4c74a313fbe8dbacac38": {
      "model_module": "jupyter-leaflet",
      "model_module_version": "^0.16.0",
      "model_name": "LeafletTileLayerModel",
      "state": {
       "_model_module_version": "^0.16.0",
       "_view_module_version": "^0.16.0",
       "attribution": "Tiles &copy; Esri &mdash; Esri, DeLorme, NAVTEQ, TomTom, Intermap, iPC, USGS, FAO, NPS, NRCAN, GeoBase, Kadaster NL, Ordnance Survey, Esri Japan, METI, Esri China (Hong Kong), and the GIS User Community",
       "max_native_zoom": 18,
       "max_zoom": 24,
       "min_native_zoom": 0,
       "name": "Esri.ArcticOceanBase",
       "options": [
        "attribution",
        "bounds",
        "detect_retina",
        "max_native_zoom",
        "max_zoom",
        "min_native_zoom",
        "min_zoom",
        "no_wrap",
        "tile_size",
        "tms"
       ],
       "url": "http://server.arcgisonline.com/ArcGIS/rest/services/Polar/Arctic_Ocean_Base/MapServer/tile/{z}/{y}/{x}"
      }
     },
     "82da8b46578649c5b4d54d055bf57677": {
      "model_module": "@jupyter-widgets/base",
      "model_module_version": "1.2.0",
      "model_name": "LayoutModel",
      "state": {
       "height": "auto",
       "padding": "0px 0px 0px 4px",
       "width": "auto"
      }
     },
     "832367d4cfc04c89956710dc6f0dc720": {
      "model_module": "jupyter-leaflet",
      "model_module_version": "^0.16.0",
      "model_name": "LeafletTileLayerModel",
      "state": {
       "_model_module_version": "^0.16.0",
       "_view_module_version": "^0.16.0",
       "attribution": "![](https://docs.onemap.sg/maps/images/oneMap64-01.png) New OneMap | Map data (C) contributors, Singapore Land Authority",
       "max_native_zoom": 18,
       "min_native_zoom": 0,
       "name": "OneMapSG.Original",
       "options": [
        "attribution",
        "bounds",
        "detect_retina",
        "max_native_zoom",
        "max_zoom",
        "min_native_zoom",
        "min_zoom",
        "no_wrap",
        "tile_size",
        "tms"
       ],
       "url": "https://maps-a.onemap.sg/v3/Original/{z}/{x}/{y}.png"
      }
     },
     "8355a977a59247ec9ac6fc03c733c6a2": {
      "model_module": "@jupyter-widgets/base",
      "model_module_version": "1.2.0",
      "model_name": "LayoutModel",
      "state": {
       "grid_gap": "1px 1px",
       "grid_template_columns": "32px 32px 32px ",
       "grid_template_rows": "32px 32px 32px 32px 32px 32px ",
       "padding": "5px",
       "width": "109px"
      }
     },
     "83c0f1dfdf5a4a3eaf7b81e547c67420": {
      "model_module": "jupyter-leaflet",
      "model_module_version": "^0.16.0",
      "model_name": "LeafletTileLayerModel",
      "state": {
       "_model_module_version": "^0.16.0",
       "_view_module_version": "^0.16.0",
       "attribution": "Datenquelle: basemap.at",
       "max_native_zoom": 18,
       "max_zoom": 19,
       "min_native_zoom": 0,
       "name": "BasemapAT.overlay",
       "options": [
        "attribution",
        "bounds",
        "detect_retina",
        "max_native_zoom",
        "max_zoom",
        "min_native_zoom",
        "min_zoom",
        "no_wrap",
        "tile_size",
        "tms"
       ],
       "url": "https://maps.wien.gv.at/basemap/bmapoverlay/normal/google3857/{z}/{y}/{x}.png"
      }
     },
     "83df72bfa6c54f7f9c15e36cc275864c": {
      "model_module": "@jupyter-widgets/base",
      "model_module_version": "1.2.0",
      "model_name": "LayoutModel",
      "state": {
       "grid_gap": "1px 1px",
       "grid_template_columns": "32px 32px 32px ",
       "grid_template_rows": "32px 32px 32px 32px 32px 32px ",
       "padding": "5px",
       "width": "109px"
      }
     },
     "847503039c684041b0935bd31ccb266d": {
      "model_module": "jupyter-leaflet",
      "model_module_version": "^0.16.0",
      "model_name": "LeafletTileLayerModel",
      "state": {
       "_model_module_version": "^0.16.0",
       "_view_module_version": "^0.16.0",
       "attribution": "Imagery provided by services from the Global Imagery Browse Services (GIBS), operated by the NASA/GSFC/Earth Science Data and Information System (ESDIS) with funding provided by NASA/HQ.",
       "max_native_zoom": 18,
       "max_zoom": 8,
       "min_native_zoom": 0,
       "name": "NASAGIBS.ViirsEarthAtNight2012",
       "options": [
        "attribution",
        "bounds",
        "detect_retina",
        "max_native_zoom",
        "max_zoom",
        "min_native_zoom",
        "min_zoom",
        "no_wrap",
        "tile_size",
        "tms"
       ],
       "url": "https://map1.vis.earthdata.nasa.gov/wmts-webmerc/VIIRS_CityLights_2012/default//GoogleMapsCompatible_Level8/{z}/{y}/{x}.jpg"
      }
     },
     "85f1b650436c4585bcdd5b2c7b5cd912": {
      "model_module": "jupyter-leaflet",
      "model_module_version": "^0.16.0",
      "model_name": "LeafletMeasureControlModel",
      "state": {
       "_model_module_version": "^0.16.0",
       "_view_module_version": "^0.16.0",
       "options": [
        "active_color",
        "capture_z_index",
        "completed_color",
        "popup_options",
        "position",
        "primary_area_unit",
        "primary_length_unit",
        "secondary_area_unit",
        "secondary_length_unit"
       ],
       "secondary_area_unit": null,
       "secondary_length_unit": null
      }
     },
     "860615b8ac44439b8ade13104fb72be3": {
      "model_module": "jupyter-leaflet",
      "model_module_version": "^0.16.0",
      "model_name": "LeafletTileLayerModel",
      "state": {
       "_model_module_version": "^0.16.0",
       "_view_module_version": "^0.16.0",
       "attribution": "Map data: (C) OpenStreetMap contributors | Map style: (C) waymarkedtrails.org (CC-BY-SA)",
       "max_native_zoom": 18,
       "min_native_zoom": 0,
       "name": "WaymarkedTrails.mtb",
       "options": [
        "attribution",
        "bounds",
        "detect_retina",
        "max_native_zoom",
        "max_zoom",
        "min_native_zoom",
        "min_zoom",
        "no_wrap",
        "tile_size",
        "tms"
       ],
       "url": "https://tile.waymarkedtrails.org/mtb/{z}/{x}/{y}.png"
      }
     },
     "86387a82399b43cc87246eac1eeeb73d": {
      "model_module": "jupyter-leaflet",
      "model_module_version": "^0.16.0",
      "model_name": "LeafletTileLayerModel",
      "state": {
       "_model_module_version": "^0.16.0",
       "_view_module_version": "^0.16.0",
       "attribution": "Map tiles by Stamen Design, CC BY 3.0 -- Map data (C) OpenStreetMap contributors",
       "max_native_zoom": 18,
       "max_zoom": 16,
       "min_native_zoom": 0,
       "name": "Stamen.Watercolor",
       "options": [
        "attribution",
        "bounds",
        "detect_retina",
        "max_native_zoom",
        "max_zoom",
        "min_native_zoom",
        "min_zoom",
        "no_wrap",
        "tile_size",
        "tms"
       ],
       "url": "https://stamen-tiles-a.a.ssl.fastly.net/watercolor/{z}/{x}/{y}.jpg"
      }
     },
     "865f393b87b64650a0608308ef8db424": {
      "model_module": "jupyter-leaflet",
      "model_module_version": "^0.16.0",
      "model_name": "LeafletTileLayerModel",
      "state": {
       "_model_module_version": "^0.16.0",
       "_view_module_version": "^0.16.0",
       "attribution": "Imagery provided by services from the Global Imagery Browse Services (GIBS), operated by the NASA/GSFC/Earth Science Data and Information System (<a href=\"https://earthdata.nasa.gov\">ESDIS</a>) with funding provided by NASA/HQ.",
       "max_native_zoom": 18,
       "max_zoom": 8,
       "min_native_zoom": 0,
       "name": "NASAGIBS.BlueMarble",
       "options": [
        "attribution",
        "bounds",
        "detect_retina",
        "max_native_zoom",
        "max_zoom",
        "min_native_zoom",
        "min_zoom",
        "no_wrap",
        "tile_size",
        "tms"
       ],
       "url": "https://gibs.earthdata.nasa.gov/wmts/epsg3857/best/BlueMarble_NextGeneration/default/EPSG3857_500m/{z}/{y}/{x}.jpeg"
      }
     },
     "8672e0ed879f4849a76a785a06c8845c": {
      "model_module": "jupyter-leaflet",
      "model_module_version": "^0.16.0",
      "model_name": "LeafletWidgetControlModel",
      "state": {
       "_model_module": "jupyter-leaflet",
       "_model_module_version": "^0.16.0",
       "_view_count": null,
       "_view_module": "jupyter-leaflet",
       "_view_module_version": "^0.16.0",
       "options": [
        "position",
        "transparent_bg"
       ],
       "position": "topright",
       "widget": "IPY_MODEL_1ef8b876d63b44afb05109d347d9cdcf"
      }
     },
     "873c266231364e148b1de1d56dc18cfd": {
      "model_module": "@jupyter-widgets/controls",
      "model_module_version": "1.5.0",
      "model_name": "DescriptionStyleModel",
      "state": {
       "description_width": ""
      }
     },
     "87416edb33544ee58d129a700b4d3e6d": {
      "model_module": "jupyter-leaflet",
      "model_module_version": "^0.16.0",
      "model_name": "LeafletTileLayerModel",
      "state": {
       "_model_module_version": "^0.16.0",
       "_view_module_version": "^0.16.0",
       "attribution": "![](https://docs.onemap.sg/maps/images/oneMap64-01.png) New OneMap | Map data (C) contributors, Singapore Land Authority",
       "max_native_zoom": 18,
       "min_native_zoom": 0,
       "name": "OneMapSG.LandLot",
       "options": [
        "attribution",
        "bounds",
        "detect_retina",
        "max_native_zoom",
        "max_zoom",
        "min_native_zoom",
        "min_zoom",
        "no_wrap",
        "tile_size",
        "tms"
       ],
       "url": "https://maps-a.onemap.sg/v3/LandLot/{z}/{x}/{y}.png"
      }
     },
     "8890f595df0a4f22938476f48ef75dd4": {
      "model_module": "@jupyter-widgets/controls",
      "model_module_version": "1.5.0",
      "model_name": "DescriptionStyleModel",
      "state": {
       "description_width": ""
      }
     },
     "8978ea4edb84488e87a3d27df737eeda": {
      "model_module": "jupyter-leaflet",
      "model_module_version": "^0.16.0",
      "model_name": "LeafletTileLayerModel",
      "state": {
       "_model_module_version": "^0.16.0",
       "_view_module_version": "^0.16.0",
       "attribution": "Map tiles by Stamen Design, CC BY 3.0 -- Map data (C) OpenStreetMap contributors",
       "max_native_zoom": 18,
       "max_zoom": 20,
       "min_native_zoom": 0,
       "name": "Stamen.TonerLines",
       "options": [
        "attribution",
        "bounds",
        "detect_retina",
        "max_native_zoom",
        "max_zoom",
        "min_native_zoom",
        "min_zoom",
        "no_wrap",
        "tile_size",
        "tms"
       ],
       "url": "https://stamen-tiles-a.a.ssl.fastly.net/toner-lines/{z}/{x}/{y}.png"
      }
     },
     "89bbcf70b5da4a9dbc50bef48ca52112": {
      "model_module": "jupyter-leaflet",
      "model_module_version": "^0.16.0",
      "model_name": "LeafletTileLayerModel",
      "state": {
       "_model_module_version": "^0.16.0",
       "_view_module_version": "^0.16.0",
       "attribution": "Tiles (C) Esri -- Sources: GEBCO, NOAA, CHS, OSU, UNH, CSUMB, National Geographic, DeLorme, NAVTEQ, and Esri",
       "max_native_zoom": 18,
       "max_zoom": 13,
       "min_native_zoom": 0,
       "name": "Esri.OceanBasemap",
       "options": [
        "attribution",
        "bounds",
        "detect_retina",
        "max_native_zoom",
        "max_zoom",
        "min_native_zoom",
        "min_zoom",
        "no_wrap",
        "tile_size",
        "tms"
       ],
       "url": "https://server.arcgisonline.com/ArcGIS/rest/services/Ocean_Basemap/MapServer/tile/{z}/{y}/{x}"
      }
     },
     "89e4e2eded3b4886ba01721ac50a8e68": {
      "model_module": "@jupyter-widgets/controls",
      "model_module_version": "1.5.0",
      "model_name": "DescriptionStyleModel",
      "state": {
       "description_width": ""
      }
     },
     "8a0490882fef464d97a20ec45d715cb6": {
      "model_module": "@jupyter-widgets/base",
      "model_module_version": "1.2.0",
      "model_name": "LayoutModel",
      "state": {
       "height": "auto",
       "padding": "0px 0px 0px 4px",
       "width": "auto"
      }
     },
     "8a0f375c4bbb44bf8ae3a8f0cc454fee": {
      "model_module": "jupyter-leaflet",
      "model_module_version": "^0.16.0",
      "model_name": "LeafletFullScreenControlModel",
      "state": {
       "_model_module_version": "^0.16.0",
       "_view_module_version": "^0.16.0",
       "options": [
        "position"
       ]
      }
     },
     "8a266c683c2a43fe9a931842292e0eb9": {
      "model_module": "@jupyter-widgets/base",
      "model_module_version": "1.2.0",
      "model_name": "LayoutModel",
      "state": {
       "height": "auto",
       "padding": "0px 0px 0px 4px",
       "width": "auto"
      }
     },
     "8a6eb354e6534230ad6a329608932432": {
      "model_module": "jupyter-leaflet",
      "model_module_version": "^0.16.0",
      "model_name": "LeafletTileLayerModel",
      "state": {
       "_model_module_version": "^0.16.0",
       "_view_module_version": "^0.16.0",
       "attribution": "Tiles &copy; Esri &mdash; Esri, DeLorme, NAVTEQ, TomTom, Intermap, iPC, USGS, FAO, NPS, NRCAN, GeoBase, Kadaster NL, Ordnance Survey, Esri Japan, METI, Esri China (Hong Kong), and the GIS User Community",
       "max_native_zoom": 18,
       "max_zoom": 24,
       "min_native_zoom": 0,
       "name": "Esri.ArcticOceanReference",
       "options": [
        "attribution",
        "bounds",
        "detect_retina",
        "max_native_zoom",
        "max_zoom",
        "min_native_zoom",
        "min_zoom",
        "no_wrap",
        "tile_size",
        "tms"
       ],
       "url": "http://server.arcgisonline.com/ArcGIS/rest/services/Polar/Arctic_Ocean_Reference/MapServer/tile/{z}/{y}/{x}"
      }
     },
     "8aaa9ace03854619abfb5ba8aaea5893": {
      "model_module": "@jupyter-widgets/base",
      "model_module_version": "1.2.0",
      "model_name": "LayoutModel",
      "state": {}
     },
     "8b46edb514eb47e98be38e874c0a9f78": {
      "model_module": "jupyter-leaflet",
      "model_module_version": "^0.16.0",
      "model_name": "LeafletWMSLayerModel",
      "state": {
       "_model_module_version": "^0.16.0",
       "_view_module_version": "^0.16.0",
       "attribution": "MRLC",
       "crs": {
        "custom": false,
        "name": "EPSG3857"
       },
       "format": "image/png",
       "layers": "NLCD_2019_Land_Cover_L48",
       "max_native_zoom": 18,
       "min_native_zoom": 0,
       "name": "NLCD 2019 CONUS Land Cover",
       "options": [
        "attribution",
        "bounds",
        "detect_retina",
        "format",
        "layers",
        "max_native_zoom",
        "max_zoom",
        "min_native_zoom",
        "min_zoom",
        "no_wrap",
        "styles",
        "tile_size",
        "tms",
        "transparent",
        "uppercase"
       ],
       "transparent": true,
       "url": "https://www.mrlc.gov/geoserver/mrlc_display/NLCD_2019_Land_Cover_L48/wms?"
      }
     },
     "8c500cdeaa774ad0b7d6efd2d8cde4e1": {
      "model_module": "@jupyter-widgets/base",
      "model_module_version": "1.2.0",
      "model_name": "LayoutModel",
      "state": {
       "height": "auto",
       "padding": "0px 0px 0px 4px",
       "width": "auto"
      }
     },
     "8d011d242bb4444897281a57402f0a5a": {
      "model_module": "@jupyter-widgets/controls",
      "model_module_version": "1.5.0",
      "model_name": "DescriptionStyleModel",
      "state": {
       "description_width": ""
      }
     },
     "93eb740a14a541bf8fa27ee23675df9a": {
      "model_module": "@jupyter-widgets/controls",
      "model_module_version": "1.5.0",
      "model_name": "DescriptionStyleModel",
      "state": {
       "description_width": ""
      }
     },
     "94813dd476434a06825fc71dac331d61": {
      "model_module": "jupyter-leaflet",
      "model_module_version": "^0.16.0",
      "model_name": "LeafletWMSLayerModel",
      "state": {
       "_model_module_version": "^0.16.0",
       "_view_module_version": "^0.16.0",
       "attribution": "USGS",
       "crs": {
        "custom": false,
        "name": "EPSG3857"
       },
       "format": "image/png",
       "layers": "0",
       "max_native_zoom": 18,
       "min_native_zoom": 0,
       "name": "USGS Hydrography",
       "options": [
        "attribution",
        "bounds",
        "detect_retina",
        "format",
        "layers",
        "max_native_zoom",
        "max_zoom",
        "min_native_zoom",
        "min_zoom",
        "no_wrap",
        "styles",
        "tile_size",
        "tms",
        "transparent",
        "uppercase"
       ],
       "transparent": true,
       "url": "https://basemap.nationalmap.gov/arcgis/services/USGSHydroCached/MapServer/WMSServer?"
      }
     },
     "952fb23b55424de6be24956afa17aaa1": {
      "model_module": "@jupyter-widgets/controls",
      "model_module_version": "1.5.0",
      "model_name": "ToggleButtonModel",
      "state": {
       "button_style": "primary",
       "icon": "globe",
       "layout": "IPY_MODEL_1293fef920fd43a2ac036da12d70678e",
       "style": "IPY_MODEL_8890f595df0a4f22938476f48ef75dd4",
       "tooltip": "Split-panel map"
      }
     },
     "95404fbdd5d1480d852a510faea86fc4": {
      "model_module": "jupyter-leaflet",
      "model_module_version": "^0.16.0",
      "model_name": "LeafletTileLayerModel",
      "state": {
       "_model_module_version": "^0.16.0",
       "_view_module_version": "^0.16.0",
       "attribution": "Justice Map",
       "max_native_zoom": 18,
       "max_zoom": 22,
       "min_native_zoom": 0,
       "name": "JusticeMap.hispanic",
       "options": [
        "attribution",
        "bounds",
        "detect_retina",
        "max_native_zoom",
        "max_zoom",
        "min_native_zoom",
        "min_zoom",
        "no_wrap",
        "tile_size",
        "tms"
       ],
       "url": "https://www.justicemap.org/tile/county/hispanic/{z}/{x}/{y}.png"
      }
     },
     "955aca0f64094176bebb1a53a02c82dd": {
      "model_module": "jupyter-leaflet",
      "model_module_version": "^0.16.0",
      "model_name": "LeafletTileLayerModel",
      "state": {
       "_model_module_version": "^0.16.0",
       "_view_module_version": "^0.16.0",
       "attribution": "© swisstopo",
       "max_native_zoom": 18,
       "min_native_zoom": 0,
       "name": "SwissFederalGeoportal.NationalMapColor",
       "options": [
        "attribution",
        "bounds",
        "detect_retina",
        "max_native_zoom",
        "max_zoom",
        "min_native_zoom",
        "min_zoom",
        "no_wrap",
        "tile_size",
        "tms"
       ],
       "url": "https://wmts.geo.admin.ch/1.0.0/ch.swisstopo.pixelkarte-farbe/default/current/3857/{z}/{x}/{y}.jpeg"
      }
     },
     "95ba578c4065418ba773407e41b65d24": {
      "model_module": "@jupyter-widgets/controls",
      "model_module_version": "1.5.0",
      "model_name": "ToggleButtonModel",
      "state": {
       "button_style": "primary",
       "icon": "folder-open",
       "layout": "IPY_MODEL_653e8a1a173c4154b64b3c7b0b1fbe19",
       "style": "IPY_MODEL_e38499408a1748ee9e58a17c7405de9c",
       "tooltip": "Open local vector/raster data"
      }
     },
     "9631d619ccf745cc804135900ded950a": {
      "model_module": "jupyter-leaflet",
      "model_module_version": "^0.16.0",
      "model_name": "LeafletTileLayerModel",
      "state": {
       "_model_module_version": "^0.16.0",
       "_view_module_version": "^0.16.0",
       "attribution": "Imagery provided by services from the Global Imagery Browse Services (GIBS), operated by the NASA/GSFC/Earth Science Data and Information System (ESDIS) with funding provided by NASA/HQ.",
       "max_native_zoom": 18,
       "max_zoom": 9,
       "min_native_zoom": 0,
       "name": "NASAGIBS.ModisTerraBands367CR",
       "options": [
        "attribution",
        "bounds",
        "detect_retina",
        "max_native_zoom",
        "max_zoom",
        "min_native_zoom",
        "min_zoom",
        "no_wrap",
        "tile_size",
        "tms"
       ],
       "url": "https://map1.vis.earthdata.nasa.gov/wmts-webmerc/MODIS_Terra_CorrectedReflectance_Bands367/default//GoogleMapsCompatible_Level9/{z}/{y}/{x}.jpg"
      }
     },
     "963d72aca4594e818fbfdac27a725af8": {
      "model_module": "jupyter-leaflet",
      "model_module_version": "^0.16.0",
      "model_name": "LeafletTileLayerModel",
      "state": {
       "_model_module_version": "^0.16.0",
       "_view_module_version": "^0.16.0",
       "attribution": "(C) OpenStreetMap contributors, Tiles style by Humanitarian OpenStreetMap Team hosted by OpenStreetMap France",
       "max_native_zoom": 18,
       "max_zoom": 19,
       "min_native_zoom": 0,
       "name": "OpenStreetMap.HOT",
       "options": [
        "attribution",
        "bounds",
        "detect_retina",
        "max_native_zoom",
        "max_zoom",
        "min_native_zoom",
        "min_zoom",
        "no_wrap",
        "tile_size",
        "tms"
       ],
       "url": "https://a.tile.openstreetmap.fr/hot/{z}/{x}/{y}.png"
      }
     },
     "964ba0a26a96409b9adc39039efea8b7": {
      "model_module": "@jupyter-widgets/controls",
      "model_module_version": "1.5.0",
      "model_name": "ToggleButtonModel",
      "state": {
       "button_style": "primary",
       "icon": "camera",
       "layout": "IPY_MODEL_d67eec261414407c8c349421095da0eb",
       "style": "IPY_MODEL_e060f98236d44591af419a44d9168ac5",
       "tooltip": "Save map as HTML or image"
      }
     },
     "979c490d6ba944548358a0087c0bb838": {
      "model_module": "@jupyter-widgets/controls",
      "model_module_version": "1.5.0",
      "model_name": "ToggleButtonModel",
      "state": {
       "button_style": "primary",
       "icon": "gears",
       "layout": "IPY_MODEL_ccf45409bc014be6b3ebb3acb885cdc9",
       "style": "IPY_MODEL_93eb740a14a541bf8fa27ee23675df9a",
       "tooltip": "WhiteboxTools for local geoprocessing"
      }
     },
     "98293f17b34b4a52bb5133f5f217fbb9": {
      "model_module": "jupyter-leaflet",
      "model_module_version": "^0.16.0",
      "model_name": "LeafletScaleControlModel",
      "state": {
       "_model_module_version": "^0.16.0",
       "_view_module_version": "^0.16.0",
       "imperial": true,
       "max_width": 100,
       "metric": true,
       "options": [
        "imperial",
        "max_width",
        "metric",
        "position",
        "update_when_idle"
       ],
       "position": "bottomleft",
       "update_when_idle": false
      }
     },
     "98d56adcd36a481bab9a0d46837878de": {
      "model_module": "jupyter-leaflet",
      "model_module_version": "^0.16.0",
      "model_name": "LeafletTileLayerModel",
      "state": {
       "_model_module_version": "^0.16.0",
       "_view_module_version": "^0.16.0",
       "attribution": "(C) OpenStreetMap contributors, Tiles courtesy of Breton OpenStreetMap Team",
       "max_native_zoom": 18,
       "max_zoom": 19,
       "min_native_zoom": 0,
       "name": "OpenStreetMap.BZH",
       "options": [
        "attribution",
        "bounds",
        "detect_retina",
        "max_native_zoom",
        "max_zoom",
        "min_native_zoom",
        "min_zoom",
        "no_wrap",
        "tile_size",
        "tms"
       ],
       "url": "https://tile.openstreetmap.bzh/br/{z}/{x}/{y}.png"
      }
     },
     "9924fb317476489ba6340083270a534b": {
      "model_module": "jupyter-leaflet",
      "model_module_version": "^0.16.0",
      "model_name": "LeafletTileLayerModel",
      "state": {
       "_model_module_version": "^0.16.0",
       "_view_module_version": "^0.16.0",
       "attribution": "(C) OpenStreetMap contributors",
       "max_native_zoom": 18,
       "min_native_zoom": 0,
       "name": "OpenStreetMap.DE",
       "options": [
        "attribution",
        "bounds",
        "detect_retina",
        "max_native_zoom",
        "max_zoom",
        "min_native_zoom",
        "min_zoom",
        "no_wrap",
        "tile_size",
        "tms"
       ],
       "url": "https://a.tile.openstreetmap.de/{z}/{x}/{y}.png"
      }
     },
     "9a39c57a08dc4028b6021f13f4ff8c03": {
      "model_module": "jupyter-leaflet",
      "model_module_version": "^0.16.0",
      "model_name": "LeafletTileLayerModel",
      "state": {
       "_model_module_version": "^0.16.0",
       "_view_module_version": "^0.16.0",
       "attribution": "![](https://docs.onemap.sg/maps/images/oneMap64-01.png) New OneMap | Map data (C) contributors, Singapore Land Authority",
       "max_native_zoom": 18,
       "min_native_zoom": 0,
       "name": "OneMapSG.Night",
       "options": [
        "attribution",
        "bounds",
        "detect_retina",
        "max_native_zoom",
        "max_zoom",
        "min_native_zoom",
        "min_zoom",
        "no_wrap",
        "tile_size",
        "tms"
       ],
       "url": "https://maps-a.onemap.sg/v3/Night/{z}/{x}/{y}.png"
      }
     },
     "9ac8d183477a4614b0f084805a114add": {
      "model_module": "@jupyter-widgets/controls",
      "model_module_version": "1.5.0",
      "model_name": "DescriptionStyleModel",
      "state": {
       "description_width": ""
      }
     },
     "9b0e9f2ec6104358a374f8bb7adacfa6": {
      "model_module": "@jupyter-widgets/base",
      "model_module_version": "1.2.0",
      "model_name": "LayoutModel",
      "state": {
       "height": "auto",
       "padding": "0px 0px 0px 4px",
       "width": "auto"
      }
     },
     "9b37a85babf24dac87fc968d48b98e28": {
      "model_module": "jupyter-leaflet",
      "model_module_version": "^0.16.0",
      "model_name": "LeafletTileLayerModel",
      "state": {
       "_model_module_version": "^0.16.0",
       "_view_module_version": "^0.16.0",
       "attribution": "(C) OpenStreetMap contributors (C) CARTO",
       "max_native_zoom": 18,
       "max_zoom": 20,
       "min_native_zoom": 0,
       "name": "CartoDB.PositronOnlyLabels",
       "options": [
        "attribution",
        "bounds",
        "detect_retina",
        "max_native_zoom",
        "max_zoom",
        "min_native_zoom",
        "min_zoom",
        "no_wrap",
        "tile_size",
        "tms"
       ],
       "url": "https://a.basemaps.cartocdn.com/light_only_labels/{z}/{x}/{y}.png"
      }
     },
     "9b5c8fe78c9843df90497de891c07839": {
      "model_module": "ipyevents",
      "model_module_version": "2.0.1",
      "model_name": "EventModel",
      "state": {
       "_supported_key_events": [
        "keydown",
        "keyup"
       ],
       "_supported_mouse_events": [
        "click",
        "auxclick",
        "dblclick",
        "mouseenter",
        "mouseleave",
        "mousedown",
        "mouseup",
        "mousemove",
        "wheel",
        "contextmenu",
        "dragstart",
        "drag",
        "dragend",
        "dragenter",
        "dragover",
        "dragleave",
        "drop"
       ],
       "_supported_touch_events": [
        "touchstart",
        "touchend",
        "touchmove",
        "touchcancel"
       ],
       "_view_module": "@jupyter-widgets/controls",
       "_view_module_version": "1.5.0",
       "source": "IPY_MODEL_e7fca463e1734a39bd8e6b46e5fa9800",
       "throttle_or_debounce": "",
       "watched_events": [
        "mouseenter",
        "mouseleave"
       ],
       "xy_coordinate_system": ""
      }
     },
     "9b7cc4c4d5304321bd1a8ed5ba4f6991": {
      "model_module": "jupyter-leaflet",
      "model_module_version": "^0.16.0",
      "model_name": "LeafletTileLayerModel",
      "state": {
       "_model_module_version": "^0.16.0",
       "_view_module_version": "^0.16.0",
       "attribution": "Map tiles by <a href=\"https://labs.strava.com/heatmap\">Strava 2021</a>",
       "max_native_zoom": 18,
       "max_zoom": 15,
       "min_native_zoom": 0,
       "name": "Strava.Ride",
       "options": [
        "attribution",
        "bounds",
        "detect_retina",
        "max_native_zoom",
        "max_zoom",
        "min_native_zoom",
        "min_zoom",
        "no_wrap",
        "tile_size",
        "tms"
       ],
       "url": "https://heatmap-external-a.strava.com/tiles/ride/hot/{z}/{x}/{y}.png"
      }
     },
     "9bb2fda8c9e24277b2149068ef8440a0": {
      "model_module": "jupyter-leaflet",
      "model_module_version": "^0.16.0",
      "model_name": "LeafletTileLayerModel",
      "state": {
       "_model_module_version": "^0.16.0",
       "_view_module_version": "^0.16.0",
       "attribution": "Tiles (C) Esri -- National Geographic, Esri, DeLorme, NAVTEQ, UNEP-WCMC, USGS, NASA, ESA, METI, NRCAN, GEBCO, NOAA, iPC",
       "max_native_zoom": 18,
       "max_zoom": 16,
       "min_native_zoom": 0,
       "name": "Esri.NatGeoWorldMap",
       "options": [
        "attribution",
        "bounds",
        "detect_retina",
        "max_native_zoom",
        "max_zoom",
        "min_native_zoom",
        "min_zoom",
        "no_wrap",
        "tile_size",
        "tms"
       ],
       "url": "https://server.arcgisonline.com/ArcGIS/rest/services/NatGeo_World_Map/MapServer/tile/{z}/{y}/{x}"
      }
     },
     "9f9cbefd43094653a5e73a07840a0b44": {
      "model_module": "jupyter-leaflet",
      "model_module_version": "^0.16.0",
      "model_name": "LeafletTileLayerModel",
      "state": {
       "_model_module_version": "^0.16.0",
       "_view_module_version": "^0.16.0",
       "attribution": "(C) OpenStreetMap contributors (C) CARTO",
       "max_native_zoom": 18,
       "max_zoom": 20,
       "min_native_zoom": 0,
       "name": "CartoDB.DarkMatterNoLabels",
       "options": [
        "attribution",
        "bounds",
        "detect_retina",
        "max_native_zoom",
        "max_zoom",
        "min_native_zoom",
        "min_zoom",
        "no_wrap",
        "tile_size",
        "tms"
       ],
       "url": "https://a.basemaps.cartocdn.com/dark_nolabels/{z}/{x}/{y}.png"
      }
     },
     "a0e654508fb24964829e923e26116938": {
      "model_module": "@jupyter-widgets/base",
      "model_module_version": "1.2.0",
      "model_name": "LayoutModel",
      "state": {
       "height": "auto",
       "padding": "0px 0px 0px 4px",
       "width": "auto"
      }
     },
     "a107ae3323684e4699337fdae503001a": {
      "model_module": "jupyter-leaflet",
      "model_module_version": "^0.16.0",
      "model_name": "LeafletTileLayerModel",
      "state": {
       "_model_module_version": "^0.16.0",
       "_view_module_version": "^0.16.0",
       "attribution": "Google",
       "max_native_zoom": 18,
       "max_zoom": 22,
       "min_native_zoom": 0,
       "name": "Google Satellite",
       "options": [
        "attribution",
        "bounds",
        "detect_retina",
        "max_native_zoom",
        "max_zoom",
        "min_native_zoom",
        "min_zoom",
        "no_wrap",
        "tile_size",
        "tms"
       ],
       "url": "https://mt1.google.com/vt/lyrs=s&x={x}&y={y}&z={z}"
      }
     },
     "a1b918b4a76d47a7b7c1acb2caef64d9": {
      "model_module": "@jupyter-widgets/base",
      "model_module_version": "1.2.0",
      "model_name": "LayoutModel",
      "state": {
       "height": "auto",
       "padding": "0px 0px 0px 4px",
       "width": "auto"
      }
     },
     "a214ed68445c4491a6a3747752c8dc01": {
      "model_module": "jupyter-leaflet",
      "model_module_version": "^0.16.0",
      "model_name": "LeafletTileLayerModel",
      "state": {
       "_model_module_version": "^0.16.0",
       "_view_module_version": "^0.16.0",
       "attribution": "Map tiles by Stamen Design, CC BY 3.0 -- Map data (C) OpenStreetMap contributors",
       "max_native_zoom": 18,
       "max_zoom": 20,
       "min_native_zoom": 0,
       "name": "Stamen.TonerLabels",
       "options": [
        "attribution",
        "bounds",
        "detect_retina",
        "max_native_zoom",
        "max_zoom",
        "min_native_zoom",
        "min_zoom",
        "no_wrap",
        "tile_size",
        "tms"
       ],
       "url": "https://stamen-tiles-a.a.ssl.fastly.net/toner-labels/{z}/{x}/{y}.png"
      }
     },
     "a223280216514617b61290f4226b9cdc": {
      "model_module": "jupyter-leaflet",
      "model_module_version": "^0.16.0",
      "model_name": "LeafletScaleControlModel",
      "state": {
       "_model_module_version": "^0.16.0",
       "_view_module_version": "^0.16.0",
       "imperial": true,
       "max_width": 100,
       "metric": true,
       "options": [
        "imperial",
        "max_width",
        "metric",
        "position",
        "update_when_idle"
       ],
       "position": "bottomleft",
       "update_when_idle": false
      }
     },
     "a230ad620dfa439f93035ed956e7e478": {
      "model_module": "@jupyter-widgets/controls",
      "model_module_version": "1.5.0",
      "model_name": "ToggleButtonModel",
      "state": {
       "button_style": "primary",
       "icon": "stack-exchange",
       "layout": "IPY_MODEL_7b766ea7f9904c3097047e0135c0eeb2",
       "style": "IPY_MODEL_fb4e04933c324bf094a48f0f926d342d",
       "tooltip": "Discover STAC Catalog"
      }
     },
     "a3772dfcbec7494993796e1bcd37e2f5": {
      "model_module": "@jupyter-widgets/controls",
      "model_module_version": "1.5.0",
      "model_name": "DescriptionStyleModel",
      "state": {
       "description_width": ""
      }
     },
     "a54ffadc62fa445d8311a21b0090e903": {
      "model_module": "@jupyter-widgets/controls",
      "model_module_version": "1.5.0",
      "model_name": "ToggleButtonModel",
      "state": {
       "button_style": "primary",
       "icon": "search",
       "layout": "IPY_MODEL_dba15ce3b8594048981d1cb5e8b1d82c",
       "style": "IPY_MODEL_ce1b96a567234ebda99c1e00151b5612",
       "tooltip": "Search XYZ tile services"
      }
     },
     "a5d4fa0c0c534b5289a1d9ae9016309e": {
      "model_module": "jupyter-leaflet",
      "model_module_version": "^0.16.0",
      "model_name": "LeafletTileLayerModel",
      "state": {
       "_model_module_version": "^0.16.0",
       "_view_module_version": "^0.16.0",
       "attribution": "(C) OpenStreetMap contributors (C) CARTO",
       "max_native_zoom": 18,
       "max_zoom": 20,
       "min_native_zoom": 0,
       "name": "CartoDB.DarkMatter",
       "options": [
        "attribution",
        "bounds",
        "detect_retina",
        "max_native_zoom",
        "max_zoom",
        "min_native_zoom",
        "min_zoom",
        "no_wrap",
        "tile_size",
        "tms"
       ],
       "url": "https://a.basemaps.cartocdn.com/dark_all/{z}/{x}/{y}.png"
      }
     },
     "a604a12f4fc34738a9c5902d1b1ea40d": {
      "model_module": "@jupyter-widgets/controls",
      "model_module_version": "1.5.0",
      "model_name": "ToggleButtonModel",
      "state": {
       "button_style": "primary",
       "icon": "question",
       "layout": "IPY_MODEL_e4b246406fc444cb93f81533533b9a11",
       "style": "IPY_MODEL_873c266231364e148b1de1d56dc18cfd",
       "tooltip": "Get help"
      }
     },
     "a646aef3914a4b6689a62b11ca904dc8": {
      "model_module": "jupyter-leaflet",
      "model_module_version": "^0.16.0",
      "model_name": "LeafletMapModel",
      "state": {
       "_model_module_version": "^0.16.0",
       "_view_module_version": "^0.16.0",
       "bottom": 22828,
       "center": [
        48.922499263758255,
        -122.69531250000001
       ],
       "controls": [
        "IPY_MODEL_615e8e03f00a4592880b69b657f77565",
        "IPY_MODEL_170c7d99959247ea9e64c02f5c5f615d",
        "IPY_MODEL_ab10b097123049738bfda09fe718c808",
        "IPY_MODEL_4aca7f6bf1ef498db79d278f885880fd",
        "IPY_MODEL_4fbb861a942f4884a9f0e79621ef2659",
        "IPY_MODEL_1ec6512b4f324486b721057004c81d93",
        "IPY_MODEL_a223280216514617b61290f4226b9cdc",
        "IPY_MODEL_80cc9d960e184b0da7236217e17b03b7"
       ],
       "default_style": "IPY_MODEL_b4a5dee3ddde4c89918b6c1d9b02d7df",
       "dragging_style": "IPY_MODEL_7289ba364699438986d6aa4832b0018f",
       "east": -117.97119140625001,
       "fullscreen": false,
       "interpolation": "bilinear",
       "layers": [
        "IPY_MODEL_bf8f3c157e5746e4abfa789163c58783",
        "IPY_MODEL_b5f2e93ea3304f88879f2a751810e9c1"
       ],
       "layout": "IPY_MODEL_426683799b6845cfafa83135ada43097",
       "left": 9572,
       "max_zoom": 24,
       "modisdate": "2022-05-24",
       "north": 49.993615462541136,
       "options": [
        "bounce_at_zoom_limits",
        "box_zoom",
        "center",
        "close_popup_on_click",
        "double_click_zoom",
        "dragging",
        "fullscreen",
        "inertia",
        "inertia_deceleration",
        "inertia_max_speed",
        "interpolation",
        "keyboard",
        "keyboard_pan_offset",
        "keyboard_zoom_offset",
        "max_zoom",
        "min_zoom",
        "prefer_canvas",
        "scroll_wheel_zoom",
        "tap",
        "tap_tolerance",
        "touch_zoom",
        "world_copy_jump",
        "zoom",
        "zoom_animation_threshold",
        "zoom_delta",
        "zoom_snap",
        "zoom_start"
       ],
       "prefer_canvas": false,
       "right": 11292,
       "scroll_wheel_zoom": true,
       "south": 47.82790816919329,
       "style": "IPY_MODEL_b4a5dee3ddde4c89918b6c1d9b02d7df",
       "top": 22228,
       "west": -127.41943359375001,
       "window_url": "https://pcc-staging.westeurope.cloudapp.azure.com/compute/user/taugspurger@microsoft.com/lab/tree/PlanetaryComputerExamples/quickstarts/leafmap-example.ipynb",
       "zoom": 8
      }
     },
     "a6c0699767554f3c97964e8af7802388": {
      "model_module": "jupyter-leaflet",
      "model_module_version": "^0.16.0",
      "model_name": "LeafletTileLayerModel",
      "state": {
       "_model_module_version": "^0.16.0",
       "_view_module_version": "^0.16.0",
       "attribution": "Justice Map",
       "max_native_zoom": 18,
       "max_zoom": 22,
       "min_native_zoom": 0,
       "name": "JusticeMap.income",
       "options": [
        "attribution",
        "bounds",
        "detect_retina",
        "max_native_zoom",
        "max_zoom",
        "min_native_zoom",
        "min_zoom",
        "no_wrap",
        "tile_size",
        "tms"
       ],
       "url": "https://www.justicemap.org/tile/county/income/{z}/{x}/{y}.png"
      }
     },
     "a73b5924d82e448d8eb94c24248a317c": {
      "model_module": "@jupyter-widgets/controls",
      "model_module_version": "1.5.0",
      "model_name": "DescriptionStyleModel",
      "state": {
       "description_width": ""
      }
     },
     "a7845b500cf4420f8feca86385530208": {
      "model_module": "jupyter-leaflet",
      "model_module_version": "^0.16.0",
      "model_name": "LeafletTileLayerModel",
      "state": {
       "_model_module_version": "^0.16.0",
       "_view_module_version": "^0.16.0",
       "attribution": "(C) OpenStreetMap contributors (C) CARTO",
       "max_native_zoom": 18,
       "max_zoom": 20,
       "min_native_zoom": 0,
       "name": "CartoDB.VoyagerNoLabels",
       "options": [
        "attribution",
        "bounds",
        "detect_retina",
        "max_native_zoom",
        "max_zoom",
        "min_native_zoom",
        "min_zoom",
        "no_wrap",
        "tile_size",
        "tms"
       ],
       "url": "https://a.basemaps.cartocdn.com/rastertiles/voyager_nolabels/{z}/{x}/{y}.png"
      }
     },
     "a7a04f958b2245f6a5d8e92faa8af23a": {
      "model_module": "@jupyter-widgets/controls",
      "model_module_version": "1.5.0",
      "model_name": "DescriptionStyleModel",
      "state": {
       "description_width": ""
      }
     },
     "a92ddb7e8114460082748ec3e711bd66": {
      "model_module": "jupyter-leaflet",
      "model_module_version": "^0.16.0",
      "model_name": "LeafletWidgetControlModel",
      "state": {
       "_model_module": "jupyter-leaflet",
       "_model_module_version": "^0.16.0",
       "_view_count": null,
       "_view_module": "jupyter-leaflet",
       "_view_module_version": "^0.16.0",
       "options": [
        "position",
        "transparent_bg"
       ],
       "position": "topright",
       "widget": "IPY_MODEL_38e2cf1528ee43d0bba320d18ba8f3e6"
      }
     },
     "a9dd85555e974f9bafc533437b36dda9": {
      "model_module": "@jupyter-widgets/base",
      "model_module_version": "1.2.0",
      "model_name": "LayoutModel",
      "state": {
       "height": "auto",
       "padding": "0px 0px 0px 4px",
       "width": "auto"
      }
     },
     "ab10b097123049738bfda09fe718c808": {
      "model_module": "jupyter-leaflet",
      "model_module_version": "^0.16.0",
      "model_name": "LeafletFullScreenControlModel",
      "state": {
       "_model_module_version": "^0.16.0",
       "_view_module_version": "^0.16.0",
       "options": [
        "position"
       ]
      }
     },
     "ab79e6189e9448d5a4546200536feb19": {
      "model_module": "jupyter-leaflet",
      "model_module_version": "^0.16.0",
      "model_name": "LeafletTileLayerModel",
      "state": {
       "_model_module_version": "^0.16.0",
       "_view_module_version": "^0.16.0",
       "attribution": "Imagery provided by services from the Global Imagery Browse Services (GIBS), operated by the NASA/GSFC/Earth Science Data and Information System (ESDIS) with funding provided by NASA/HQ.",
       "max_native_zoom": 18,
       "max_zoom": 7,
       "min_native_zoom": 0,
       "name": "NASAGIBS.ModisTerraLSTDay",
       "options": [
        "attribution",
        "bounds",
        "detect_retina",
        "max_native_zoom",
        "max_zoom",
        "min_native_zoom",
        "min_zoom",
        "no_wrap",
        "tile_size",
        "tms"
       ],
       "url": "https://map1.vis.earthdata.nasa.gov/wmts-webmerc/MODIS_Terra_Land_Surface_Temp_Day/default//GoogleMapsCompatible_Level7/{z}/{y}/{x}.png"
      }
     },
     "af1d48ad8d2240848a0d590ce6b9eb25": {
      "model_module": "@jupyter-widgets/controls",
      "model_module_version": "1.5.0",
      "model_name": "DescriptionStyleModel",
      "state": {
       "description_width": ""
      }
     },
     "b082d6ad51d34b8ea0d952f69be0c578": {
      "model_module": "@jupyter-widgets/controls",
      "model_module_version": "1.5.0",
      "model_name": "DescriptionStyleModel",
      "state": {
       "description_width": ""
      }
     },
     "b0a6c36b96a544c382097755b56ca849": {
      "model_module": "@jupyter-widgets/controls",
      "model_module_version": "1.5.0",
      "model_name": "ToggleButtonModel",
      "state": {
       "button_style": "primary",
       "icon": "search-plus",
       "layout": "IPY_MODEL_82da8b46578649c5b4d54d055bf57677",
       "style": "IPY_MODEL_7db63fcd49f843ef940c4e2305c26121",
       "tooltip": "Search features in GeoJSON layer"
      }
     },
     "b0ac3edd829849979f0e9450265db2d2": {
      "model_module": "@jupyter-widgets/base",
      "model_module_version": "1.2.0",
      "model_name": "LayoutModel",
      "state": {
       "height": "auto",
       "padding": "0px 0px 0px 4px",
       "width": "auto"
      }
     },
     "b36fa7c46e7c49b88addf2e9f417188a": {
      "model_module": "@jupyter-widgets/base",
      "model_module_version": "1.2.0",
      "model_name": "LayoutModel",
      "state": {
       "height": "auto",
       "padding": "0px 0px 0px 4px",
       "width": "auto"
      }
     },
     "b4a5dee3ddde4c89918b6c1d9b02d7df": {
      "model_module": "jupyter-leaflet",
      "model_module_version": "^0.16.0",
      "model_name": "LeafletMapStyleModel",
      "state": {
       "_model_module_version": "^0.16.0"
      }
     },
     "b5ba4a54680749c5a1fa34fc53751dfd": {
      "model_module": "jupyter-leaflet",
      "model_module_version": "^0.16.0",
      "model_name": "LeafletTileLayerModel",
      "state": {
       "_model_module_version": "^0.16.0",
       "_view_module_version": "^0.16.0",
       "attribution": "Map tiles by Stamen Design, CC BY 3.0 -- Map data (C) OpenStreetMap contributors",
       "max_native_zoom": 18,
       "max_zoom": 20,
       "min_native_zoom": 0,
       "name": "Stamen.TonerLite",
       "options": [
        "attribution",
        "bounds",
        "detect_retina",
        "max_native_zoom",
        "max_zoom",
        "min_native_zoom",
        "min_zoom",
        "no_wrap",
        "tile_size",
        "tms"
       ],
       "url": "https://stamen-tiles-a.a.ssl.fastly.net/toner-lite/{z}/{x}/{y}.png"
      }
     },
     "b5f2e93ea3304f88879f2a751810e9c1": {
      "model_module": "jupyter-leaflet",
      "model_module_version": "^0.16.0",
      "model_name": "LeafletTileLayerModel",
      "state": {
       "_model_module_version": "^0.16.0",
       "_view_module_version": "^0.16.0",
       "attribution": "",
       "max_native_zoom": 18,
       "min_native_zoom": 0,
       "name": "STAC Layer",
       "options": [
        "attribution",
        "bounds",
        "detect_retina",
        "max_native_zoom",
        "max_zoom",
        "min_native_zoom",
        "min_zoom",
        "no_wrap",
        "tile_size",
        "tms"
       ],
       "url": "https://planetarycomputer.microsoft.com/api/data/v1/item/tiles/WebMercatorQuad/{z}/{x}/{y}@1x?rescale=0%2C12000&colormap_name=reds&collection=landsat-c2-l2&item=LC09_L2SP_047026_20220305_02_T1&assets=red"
      }
     },
     "b60652fc183a419d899b1c087f306bc8": {
      "model_module": "jupyter-leaflet",
      "model_module_version": "^0.16.0",
      "model_name": "LeafletTileLayerModel",
      "state": {
       "_model_module_version": "^0.16.0",
       "_view_module_version": "^0.16.0",
       "attribution": "Kaartgegevens (C) Kadaster",
       "max_native_zoom": 18,
       "max_zoom": 19,
       "min_native_zoom": 0,
       "name": "nlmaps.standaard",
       "options": [
        "attribution",
        "bounds",
        "detect_retina",
        "max_native_zoom",
        "max_zoom",
        "min_native_zoom",
        "min_zoom",
        "no_wrap",
        "tile_size",
        "tms"
       ],
       "url": "https://service.pdok.nl/brt/achtergrondkaart/wmts/v2_0/standaard/EPSG:3857/{z}/{x}/{y}.png"
      }
     },
     "b655545cb20b4084bc9ee6cc69748267": {
      "model_module": "@jupyter-widgets/controls",
      "model_module_version": "1.5.0",
      "model_name": "ToggleButtonModel",
      "state": {
       "button_style": "primary",
       "icon": "question",
       "layout": "IPY_MODEL_a1b918b4a76d47a7b7c1acb2caef64d9",
       "style": "IPY_MODEL_5709ec12e6114117a7f6673883efcedb",
       "tooltip": "Get help"
      }
     },
     "b6e957bda768408484c4fc3d89d4ccd1": {
      "model_module": "@jupyter-widgets/controls",
      "model_module_version": "1.5.0",
      "model_name": "DescriptionStyleModel",
      "state": {
       "description_width": ""
      }
     },
     "b70c877ff6e6403ca32d8d07d63e9e39": {
      "model_module": "jupyter-leaflet",
      "model_module_version": "^0.16.0",
      "model_name": "LeafletTileLayerModel",
      "state": {
       "_model_module_version": "^0.16.0",
       "_view_module_version": "^0.16.0",
       "attribution": "![](https://docs.onemap.sg/maps/images/oneMap64-01.png) New OneMap | Map data (C) contributors, Singapore Land Authority",
       "max_native_zoom": 18,
       "min_native_zoom": 0,
       "name": "OneMapSG.Grey",
       "options": [
        "attribution",
        "bounds",
        "detect_retina",
        "max_native_zoom",
        "max_zoom",
        "min_native_zoom",
        "min_zoom",
        "no_wrap",
        "tile_size",
        "tms"
       ],
       "url": "https://maps-a.onemap.sg/v3/Grey/{z}/{x}/{y}.png"
      }
     },
     "b73890b4d17046dabfa808ffc02359b7": {
      "model_module": "@jupyter-widgets/base",
      "model_module_version": "1.2.0",
      "model_name": "LayoutModel",
      "state": {
       "height": "auto",
       "padding": "0px 0px 0px 4px",
       "width": "auto"
      }
     },
     "b7980c786b424291a2cf6f66667e4fca": {
      "model_module": "@jupyter-widgets/controls",
      "model_module_version": "1.5.0",
      "model_name": "DescriptionStyleModel",
      "state": {
       "description_width": ""
      }
     },
     "b86d1fffe2664295a70f342bfe77ee0a": {
      "model_module": "@jupyter-widgets/base",
      "model_module_version": "1.2.0",
      "model_name": "LayoutModel",
      "state": {}
     },
     "b8762cd45a9d43e5bfe0fad8964d82be": {
      "model_module": "@jupyter-widgets/controls",
      "model_module_version": "1.5.0",
      "model_name": "ToggleButtonModel",
      "state": {
       "button_style": "primary",
       "icon": "camera",
       "layout": "IPY_MODEL_ce17495dc65341c7be9586334c7fe698",
       "style": "IPY_MODEL_2487a58104f14c339f9395bdce94d16b",
       "tooltip": "Save map as HTML or image"
      }
     },
     "b9a3aff9f9c3400981d9eb64e2ba91b4": {
      "model_module": "jupyter-leaflet",
      "model_module_version": "^0.16.0",
      "model_name": "LeafletTileLayerModel",
      "state": {
       "_model_module_version": "^0.16.0",
       "_view_module_version": "^0.16.0",
       "attribution": "Map tiles by <a href=\"https://labs.strava.com/heatmap\">Strava 2021</a>",
       "max_native_zoom": 18,
       "max_zoom": 15,
       "min_native_zoom": 0,
       "name": "Strava.Run",
       "options": [
        "attribution",
        "bounds",
        "detect_retina",
        "max_native_zoom",
        "max_zoom",
        "min_native_zoom",
        "min_zoom",
        "no_wrap",
        "tile_size",
        "tms"
       ],
       "url": "https://heatmap-external-a.strava.com/tiles/run/bluered/{z}/{x}/{y}.png"
      }
     },
     "baff4aa8879743aabb24f8d43adcaad9": {
      "model_module": "jupyter-leaflet",
      "model_module_version": "^0.16.0",
      "model_name": "LeafletTileLayerModel",
      "state": {
       "_model_module_version": "^0.16.0",
       "_view_module_version": "^0.16.0",
       "attribution": "Kaartgegevens (C) Kadaster",
       "max_native_zoom": 18,
       "max_zoom": 19,
       "min_native_zoom": 0,
       "name": "nlmaps.water",
       "options": [
        "attribution",
        "bounds",
        "detect_retina",
        "max_native_zoom",
        "max_zoom",
        "min_native_zoom",
        "min_zoom",
        "no_wrap",
        "tile_size",
        "tms"
       ],
       "url": "https://service.pdok.nl/brt/achtergrondkaart/wmts/v2_0/water/EPSG:3857/{z}/{x}/{y}.png"
      }
     },
     "bb2c99f17bf048d68a6baa8eebdfc41b": {
      "model_module": "@jupyter-widgets/output",
      "model_module_version": "1.0.0",
      "model_name": "OutputModel",
      "state": {
       "layout": "IPY_MODEL_7ba6ac9184274c00bb90fd6ac4504e5d"
      }
     },
     "bb93a79036374625a2a7010258c9f7a6": {
      "model_module": "jupyter-leaflet",
      "model_module_version": "^0.16.0",
      "model_name": "LeafletWMSLayerModel",
      "state": {
       "_model_module_version": "^0.16.0",
       "_view_module_version": "^0.16.0",
       "attribution": "MRLC",
       "crs": {
        "custom": false,
        "name": "EPSG3857"
       },
       "format": "image/png",
       "layers": "NLCD_2016_Land_Cover_L48",
       "max_native_zoom": 18,
       "min_native_zoom": 0,
       "name": "NLCD 2016 CONUS Land Cover",
       "options": [
        "attribution",
        "bounds",
        "detect_retina",
        "format",
        "layers",
        "max_native_zoom",
        "max_zoom",
        "min_native_zoom",
        "min_zoom",
        "no_wrap",
        "styles",
        "tile_size",
        "tms",
        "transparent",
        "uppercase"
       ],
       "transparent": true,
       "url": "https://www.mrlc.gov/geoserver/mrlc_display/NLCD_2016_Land_Cover_L48/wms?"
      }
     },
     "bc43089d5bbf4893b9b3fdc59f983cf5": {
      "model_module": "@jupyter-widgets/controls",
      "model_module_version": "1.5.0",
      "model_name": "DescriptionStyleModel",
      "state": {
       "description_width": ""
      }
     },
     "bc637779f38d42e7b5c1c57cb52770d5": {
      "model_module": "@jupyter-widgets/controls",
      "model_module_version": "1.5.0",
      "model_name": "ToggleButtonModel",
      "state": {
       "button_style": "primary",
       "icon": "adjust",
       "layout": "IPY_MODEL_be50f61913464274bd0015ec419bcc93",
       "style": "IPY_MODEL_5b6b02ae846e461282e419266ffd786a",
       "tooltip": "Planet imagery"
      }
     },
     "bca365dc64ce42a39765cd6de2fb7937": {
      "model_module": "jupyter-leaflet",
      "model_module_version": "^0.16.0",
      "model_name": "LeafletMapStyleModel",
      "state": {
       "_model_module_version": "^0.16.0"
      }
     },
     "bd4543fa368a4c2a87b4030878886433": {
      "model_module": "@jupyter-widgets/controls",
      "model_module_version": "1.5.0",
      "model_name": "DescriptionStyleModel",
      "state": {
       "description_width": ""
      }
     },
     "bd75ff96cc554c0f8d5bdcb239534f12": {
      "model_module": "@jupyter-widgets/controls",
      "model_module_version": "1.5.0",
      "model_name": "VBoxModel",
      "state": {
       "children": [
        "IPY_MODEL_4c850919ef1a4c408c46963d5577485b"
       ],
       "layout": "IPY_MODEL_f29db8484694452dacd2398e3b336f61"
      }
     },
     "be50f61913464274bd0015ec419bcc93": {
      "model_module": "@jupyter-widgets/base",
      "model_module_version": "1.2.0",
      "model_name": "LayoutModel",
      "state": {
       "height": "auto",
       "padding": "0px 0px 0px 4px",
       "width": "auto"
      }
     },
     "becdc1a44bc54d0bb5649f0f4cfaaa60": {
      "model_module": "jupyter-leaflet",
      "model_module_version": "^0.16.0",
      "model_name": "LeafletMapModel",
      "state": {
       "_model_module_version": "^0.16.0",
       "_view_module_version": "^0.16.0",
       "bottom": 71689,
       "center": [
        -15.86759241,
        124.44795383
       ],
       "controls": [
        "IPY_MODEL_5cad951227ef44b5aa26c6cbf955d7af",
        "IPY_MODEL_18ba0ae02fdd4feea754ef17e390c5db",
        "IPY_MODEL_0905f215f08e4676be8a3beebde437d9",
        "IPY_MODEL_368caaf9c142479095431695e3cb18d2",
        "IPY_MODEL_d535c563bc1e4cd0b5796978fb0ceddd",
        "IPY_MODEL_22e6a8eb13e74f3c9c6fbdda3cbb3216",
        "IPY_MODEL_13c4a9cf49334b219d63c3ddcdedca0d",
        "IPY_MODEL_a92ddb7e8114460082748ec3e711bd66"
       ],
       "default_style": "IPY_MODEL_80d462c0ee1b4a758ea22307a73fb634",
       "dragging_style": "IPY_MODEL_dfeafc260d294d1a8820e261f6710231",
       "east": 126.80969238281251,
       "fullscreen": false,
       "interpolation": "bilinear",
       "layers": [
        "IPY_MODEL_0e7571e663b44664a503bf3490f39c80",
        "IPY_MODEL_64405ec96b474e51bd6e1b1fa20a7059"
       ],
       "layout": "IPY_MODEL_db5522f795264adcb43f2f38ddca1532",
       "left": 109986,
       "max_zoom": 24,
       "modisdate": "2022-05-24",
       "north": -15.074775626862015,
       "options": [
        "bounce_at_zoom_limits",
        "box_zoom",
        "center",
        "close_popup_on_click",
        "double_click_zoom",
        "dragging",
        "fullscreen",
        "inertia",
        "inertia_deceleration",
        "inertia_max_speed",
        "interpolation",
        "keyboard",
        "keyboard_pan_offset",
        "keyboard_zoom_offset",
        "max_zoom",
        "min_zoom",
        "prefer_canvas",
        "scroll_wheel_zoom",
        "tap",
        "tap_tolerance",
        "touch_zoom",
        "world_copy_jump",
        "zoom",
        "zoom_animation_threshold",
        "zoom_delta",
        "zoom_snap",
        "zoom_start"
       ],
       "prefer_canvas": false,
       "right": 111706,
       "scroll_wheel_zoom": true,
       "south": -16.659874953578605,
       "style": "IPY_MODEL_80d462c0ee1b4a758ea22307a73fb634",
       "top": 71089,
       "west": 122.08557128906251,
       "window_url": "https://pcc-staging.westeurope.cloudapp.azure.com/compute/user/taugspurger@microsoft.com/lab/tree/PlanetaryComputerExamples/quickstarts/leafmap-example.ipynb",
       "zoom": 9
      }
     },
     "bf2378e513eb42d089a4b612c5eb2efa": {
      "model_module": "jupyter-leaflet",
      "model_module_version": "^0.16.0",
      "model_name": "LeafletTileLayerModel",
      "state": {
       "_model_module_version": "^0.16.0",
       "_view_module_version": "^0.16.0",
       "attribution": "openAIP Data (CC-BY-NC-SA)",
       "max_native_zoom": 18,
       "max_zoom": 14,
       "min_native_zoom": 0,
       "name": "OpenAIP",
       "options": [
        "attribution",
        "bounds",
        "detect_retina",
        "max_native_zoom",
        "max_zoom",
        "min_native_zoom",
        "min_zoom",
        "no_wrap",
        "tile_size",
        "tms"
       ],
       "url": "https://1.tile.maps.openaip.net/geowebcache/service/tms/1.0.0/openaip_basemap@EPSG%3A900913@png/{z}/{x}/{y}.png"
      }
     },
     "bf3bb5a8cf52444ba3d771b1d5ba2566": {
      "model_module": "jupyter-leaflet",
      "model_module_version": "^0.16.0",
      "model_name": "LeafletTileLayerModel",
      "state": {
       "_model_module_version": "^0.16.0",
       "_view_module_version": "^0.16.0",
       "attribution": "Map tiles by Stamen Design, CC BY 3.0 -- Map data (C) OpenStreetMap contributors",
       "max_native_zoom": 18,
       "max_zoom": 20,
       "min_native_zoom": 0,
       "name": "Stamen.TonerBackground",
       "options": [
        "attribution",
        "bounds",
        "detect_retina",
        "max_native_zoom",
        "max_zoom",
        "min_native_zoom",
        "min_zoom",
        "no_wrap",
        "tile_size",
        "tms"
       ],
       "url": "https://stamen-tiles-a.a.ssl.fastly.net/toner-background/{z}/{x}/{y}.png"
      }
     },
     "bf8f3c157e5746e4abfa789163c58783": {
      "model_module": "jupyter-leaflet",
      "model_module_version": "^0.16.0",
      "model_name": "LeafletTileLayerModel",
      "state": {
       "_model_module_version": "^0.16.0",
       "_view_module_version": "^0.16.0",
       "attribution": "&copy; <a href=\"https://www.openstreetmap.org/copyright\">OpenStreetMap</a> contributors",
       "base": true,
       "max_native_zoom": 18,
       "max_zoom": 19,
       "min_native_zoom": 0,
       "min_zoom": 1,
       "name": "OpenStreetMap",
       "options": [
        "attribution",
        "bounds",
        "detect_retina",
        "max_native_zoom",
        "max_zoom",
        "min_native_zoom",
        "min_zoom",
        "no_wrap",
        "tile_size",
        "tms"
       ],
       "url": "https://a.tile.openstreetmap.org/{z}/{x}/{y}.png"
      }
     },
     "bfb69cdea8d941ffa6a8231cb40e4bdb": {
      "model_module": "@jupyter-widgets/controls",
      "model_module_version": "1.5.0",
      "model_name": "HBoxModel",
      "state": {
       "children": [
        "IPY_MODEL_ec0387938f9a4ed38f05a2bdb7b8de29",
        "IPY_MODEL_0b86111dd21a498eabf990b5674469d3"
       ],
       "layout": "IPY_MODEL_c736c4b94a474da49e77d736195514ef"
      }
     },
     "bfdeb28d855e4992ae5527fad13c0053": {
      "model_module": "@jupyter-widgets/controls",
      "model_module_version": "1.5.0",
      "model_name": "DescriptionStyleModel",
      "state": {
       "description_width": ""
      }
     },
     "c0cbb5c8d59f42118dda227f2df80355": {
      "model_module": "@jupyter-widgets/controls",
      "model_module_version": "1.5.0",
      "model_name": "ToggleButtonModel",
      "state": {
       "button_style": "primary",
       "icon": "address-book",
       "layout": "IPY_MODEL_682c31f673f444519855675e7713cc7b",
       "style": "IPY_MODEL_7149fba3d69f40b3b81ac1ff006eecdb",
       "tooltip": "Get US Census data"
      }
     },
     "c2a612ea59434cc4af8f8e4ea9f740e5": {
      "model_module": "@jupyter-widgets/controls",
      "model_module_version": "1.5.0",
      "model_name": "DescriptionStyleModel",
      "state": {
       "description_width": ""
      }
     },
     "c3bff7a3fee844c4b437d0c92fbc5b1f": {
      "model_module": "jupyter-leaflet",
      "model_module_version": "^0.16.0",
      "model_name": "LeafletTileLayerModel",
      "state": {
       "_model_module_version": "^0.16.0",
       "_view_module_version": "^0.16.0",
       "attribution": "Tiles courtesy of the U.S. Geological Survey",
       "max_native_zoom": 18,
       "max_zoom": 20,
       "min_native_zoom": 0,
       "name": "USGS.USImageryTopo",
       "options": [
        "attribution",
        "bounds",
        "detect_retina",
        "max_native_zoom",
        "max_zoom",
        "min_native_zoom",
        "min_zoom",
        "no_wrap",
        "tile_size",
        "tms"
       ],
       "url": "https://basemap.nationalmap.gov/arcgis/rest/services/USGSImageryTopo/MapServer/tile/{z}/{y}/{x}"
      }
     },
     "c40c5148d72340db99be50b643b60bde": {
      "model_module": "jupyter-leaflet",
      "model_module_version": "^0.16.0",
      "model_name": "LeafletTileLayerModel",
      "state": {
       "_model_module_version": "^0.16.0",
       "_view_module_version": "^0.16.0",
       "attribution": "Map tiles by Stamen Design, CC BY 3.0 -- Map data (C) OpenStreetMap contributors",
       "max_native_zoom": 18,
       "max_zoom": 20,
       "min_native_zoom": 0,
       "name": "Stamen.TopOSMFeatures",
       "options": [
        "attribution",
        "bounds",
        "detect_retina",
        "max_native_zoom",
        "max_zoom",
        "min_native_zoom",
        "min_zoom",
        "no_wrap",
        "tile_size",
        "tms"
       ],
       "url": "https://stamen-tiles-a.a.ssl.fastly.net/toposm-features/{z}/{x}/{y}.png"
      }
     },
     "c44ac89f0bbf4828ae77151ee918ce7d": {
      "model_module": "@jupyter-widgets/controls",
      "model_module_version": "1.5.0",
      "model_name": "ToggleButtonModel",
      "state": {
       "button_style": "primary",
       "icon": "download",
       "layout": "IPY_MODEL_4b8df8985b53474d8e12f19e418ab0df",
       "style": "IPY_MODEL_e0403545a5774f24a76feaa60bde601d",
       "tooltip": "Download OSM data"
      }
     },
     "c4519974772c4d4c8496d9b65b76fc5c": {
      "model_module": "jupyter-leaflet",
      "model_module_version": "^0.16.0",
      "model_name": "LeafletTileLayerModel",
      "state": {
       "_model_module_version": "^0.16.0",
       "_view_module_version": "^0.16.0",
       "attribution": "(C) OpenStreetMap contributors (C) CARTO",
       "max_native_zoom": 18,
       "max_zoom": 20,
       "min_native_zoom": 0,
       "name": "CartoDB.VoyagerLabelsUnder",
       "options": [
        "attribution",
        "bounds",
        "detect_retina",
        "max_native_zoom",
        "max_zoom",
        "min_native_zoom",
        "min_zoom",
        "no_wrap",
        "tile_size",
        "tms"
       ],
       "url": "https://a.basemaps.cartocdn.com/rastertiles/voyager_labels_under/{z}/{x}/{y}.png"
      }
     },
     "c5e2050df9fe4b30a7f4d8cf66f8bd52": {
      "model_module": "jupyter-leaflet",
      "model_module_version": "^0.16.0",
      "model_name": "LeafletTileLayerModel",
      "state": {
       "_model_module_version": "^0.16.0",
       "_view_module_version": "^0.16.0",
       "attribution": "Imagery provided by services from the Global Imagery Browse Services (GIBS), operated by the NASA/GSFC/Earth Science Data and Information System (ESDIS) with funding provided by NASA/HQ.",
       "max_native_zoom": 18,
       "max_zoom": 9,
       "min_native_zoom": 0,
       "name": "NASAGIBS.ModisTerraTrueColorCR",
       "options": [
        "attribution",
        "bounds",
        "detect_retina",
        "max_native_zoom",
        "max_zoom",
        "min_native_zoom",
        "min_zoom",
        "no_wrap",
        "tile_size",
        "tms"
       ],
       "url": "https://map1.vis.earthdata.nasa.gov/wmts-webmerc/MODIS_Terra_CorrectedReflectance_TrueColor/default//GoogleMapsCompatible_Level9/{z}/{y}/{x}.jpg"
      }
     },
     "c736c4b94a474da49e77d736195514ef": {
      "model_module": "@jupyter-widgets/base",
      "model_module_version": "1.2.0",
      "model_name": "LayoutModel",
      "state": {}
     },
     "caa6249089ee498f9e80129fb9aa6e94": {
      "model_module": "@jupyter-widgets/controls",
      "model_module_version": "1.5.0",
      "model_name": "DescriptionStyleModel",
      "state": {
       "description_width": ""
      }
     },
     "cbb6eb97aa5c4f61b98eaf7b20126957": {
      "model_module": "jupyter-leaflet",
      "model_module_version": "^0.16.0",
      "model_name": "LeafletTileLayerModel",
      "state": {
       "_model_module_version": "^0.16.0",
       "_view_module_version": "^0.16.0",
       "attribution": "Kaartgegevens (C) Kadaster",
       "max_native_zoom": 18,
       "max_zoom": 19,
       "min_native_zoom": 0,
       "name": "nlmaps.grijs",
       "options": [
        "attribution",
        "bounds",
        "detect_retina",
        "max_native_zoom",
        "max_zoom",
        "min_native_zoom",
        "min_zoom",
        "no_wrap",
        "tile_size",
        "tms"
       ],
       "url": "https://service.pdok.nl/brt/achtergrondkaart/wmts/v2_0/grijs/EPSG:3857/{z}/{x}/{y}.png"
      }
     },
     "ccf45409bc014be6b3ebb3acb885cdc9": {
      "model_module": "@jupyter-widgets/base",
      "model_module_version": "1.2.0",
      "model_name": "LayoutModel",
      "state": {
       "height": "auto",
       "padding": "0px 0px 0px 4px",
       "width": "auto"
      }
     },
     "cd71e35fa9024bdabc55267dcd753b8b": {
      "model_module": "@jupyter-widgets/controls",
      "model_module_version": "1.5.0",
      "model_name": "DescriptionStyleModel",
      "state": {
       "description_width": ""
      }
     },
     "ce17495dc65341c7be9586334c7fe698": {
      "model_module": "@jupyter-widgets/base",
      "model_module_version": "1.2.0",
      "model_name": "LayoutModel",
      "state": {
       "height": "auto",
       "padding": "0px 0px 0px 4px",
       "width": "auto"
      }
     },
     "ce1b96a567234ebda99c1e00151b5612": {
      "model_module": "@jupyter-widgets/controls",
      "model_module_version": "1.5.0",
      "model_name": "DescriptionStyleModel",
      "state": {
       "description_width": ""
      }
     },
     "cf82792daa73409ab2a6adcc57a84ca9": {
      "model_module": "@jupyter-widgets/base",
      "model_module_version": "1.2.0",
      "model_name": "LayoutModel",
      "state": {
       "height": "auto",
       "padding": "0px 0px 0px 4px",
       "width": "auto"
      }
     },
     "cf855109d26e46f5bcc2e3bf3d367fe1": {
      "model_module": "@jupyter-widgets/controls",
      "model_module_version": "1.5.0",
      "model_name": "ToggleButtonModel",
      "state": {
       "button_style": "primary",
       "icon": "adjust",
       "layout": "IPY_MODEL_420bf45ed2774150a22b1a53a1f74948",
       "style": "IPY_MODEL_b6e957bda768408484c4fc3d89d4ccd1",
       "tooltip": "Planet imagery"
      }
     },
     "d2343693e82a4bf3860a1449fb8edf61": {
      "model_module": "@jupyter-widgets/controls",
      "model_module_version": "1.5.0",
      "model_name": "ToggleButtonModel",
      "state": {
       "button_style": "primary",
       "icon": "address-book",
       "layout": "IPY_MODEL_44533cd933024d17b20cae20c82fcaa5",
       "style": "IPY_MODEL_e69d7aeac8884e33ba0073262789186f",
       "tooltip": "Get US Census data"
      }
     },
     "d24f18bd22194f669c57ca2303edf947": {
      "model_module": "jupyter-leaflet",
      "model_module_version": "^0.16.0",
      "model_name": "LeafletTileLayerModel",
      "state": {
       "_model_module_version": "^0.16.0",
       "_view_module_version": "^0.16.0",
       "attribution": "OpenStreetMap",
       "max_native_zoom": 18,
       "max_zoom": 22,
       "min_native_zoom": 0,
       "name": "OpenStreetMap",
       "options": [
        "attribution",
        "bounds",
        "detect_retina",
        "max_native_zoom",
        "max_zoom",
        "min_native_zoom",
        "min_zoom",
        "no_wrap",
        "tile_size",
        "tms"
       ]
      }
     },
     "d2b458a267c945c98dad9be918891ad0": {
      "model_module": "@jupyter-widgets/controls",
      "model_module_version": "1.5.0",
      "model_name": "DescriptionStyleModel",
      "state": {
       "description_width": ""
      }
     },
     "d447c5ae5a10414b949366561751617a": {
      "model_module": "@jupyter-widgets/controls",
      "model_module_version": "1.5.0",
      "model_name": "DescriptionStyleModel",
      "state": {
       "description_width": ""
      }
     },
     "d535c563bc1e4cd0b5796978fb0ceddd": {
      "model_module": "jupyter-leaflet",
      "model_module_version": "^0.16.0",
      "model_name": "LeafletWidgetControlModel",
      "state": {
       "_model_module": "jupyter-leaflet",
       "_model_module_version": "^0.16.0",
       "_view_count": null,
       "_view_module": "jupyter-leaflet",
       "_view_module_version": "^0.16.0",
       "options": [
        "position",
        "transparent_bg"
       ],
       "position": "bottomright",
       "widget": "IPY_MODEL_bb2c99f17bf048d68a6baa8eebdfc41b"
      }
     },
     "d5b8a618ba8046b890ec586cd2754083": {
      "model_module": "@jupyter-widgets/controls",
      "model_module_version": "1.5.0",
      "model_name": "DescriptionStyleModel",
      "state": {
       "description_width": ""
      }
     },
     "d64f646ce0054771a725c2f9c69a363b": {
      "model_module": "jupyter-leaflet",
      "model_module_version": "^0.16.0",
      "model_name": "LeafletTileLayerModel",
      "state": {
       "_model_module_version": "^0.16.0",
       "_view_module_version": "^0.16.0",
       "attribution": "![](https://docs.onemap.sg/maps/images/oneMap64-01.png) New OneMap | Map data (C) contributors, Singapore Land Authority",
       "max_native_zoom": 18,
       "min_native_zoom": 0,
       "name": "OneMapSG.Default",
       "options": [
        "attribution",
        "bounds",
        "detect_retina",
        "max_native_zoom",
        "max_zoom",
        "min_native_zoom",
        "min_zoom",
        "no_wrap",
        "tile_size",
        "tms"
       ],
       "url": "https://maps-a.onemap.sg/v3/Default/{z}/{x}/{y}.png"
      }
     },
     "d67eec261414407c8c349421095da0eb": {
      "model_module": "@jupyter-widgets/base",
      "model_module_version": "1.2.0",
      "model_name": "LayoutModel",
      "state": {
       "height": "auto",
       "padding": "0px 0px 0px 4px",
       "width": "auto"
      }
     },
     "da1ea3e6cd9c4cfc97548f092e54d81d": {
      "model_module": "jupyter-leaflet",
      "model_module_version": "^0.16.0",
      "model_name": "LeafletWMSLayerModel",
      "state": {
       "_model_module_version": "^0.16.0",
       "_view_module_version": "^0.16.0",
       "attribution": "USGS",
       "crs": {
        "custom": false,
        "name": "EPSG3857"
       },
       "format": "image/png",
       "layers": "33DEPElevation:Hillshade Elevation Tinted",
       "max_native_zoom": 18,
       "min_native_zoom": 0,
       "name": "USGS 3DEP Elevation",
       "options": [
        "attribution",
        "bounds",
        "detect_retina",
        "format",
        "layers",
        "max_native_zoom",
        "max_zoom",
        "min_native_zoom",
        "min_zoom",
        "no_wrap",
        "styles",
        "tile_size",
        "tms",
        "transparent",
        "uppercase"
       ],
       "transparent": true,
       "url": "https://elevation.nationalmap.gov/arcgis/services/3DEPElevation/ImageServer/WMSServer?"
      }
     },
     "daea16ea55b74b9ea275ce3bf92ccb2d": {
      "model_module": "jupyter-leaflet",
      "model_module_version": "^0.16.0",
      "model_name": "LeafletWMSLayerModel",
      "state": {
       "_model_module_version": "^0.16.0",
       "_view_module_version": "^0.16.0",
       "attribution": "FWS",
       "crs": {
        "custom": false,
        "name": "EPSG3857"
       },
       "format": "image/png",
       "layers": "1",
       "max_native_zoom": 18,
       "min_native_zoom": 0,
       "name": "FWS NWI Wetlands",
       "options": [
        "attribution",
        "bounds",
        "detect_retina",
        "format",
        "layers",
        "max_native_zoom",
        "max_zoom",
        "min_native_zoom",
        "min_zoom",
        "no_wrap",
        "styles",
        "tile_size",
        "tms",
        "transparent",
        "uppercase"
       ],
       "transparent": true,
       "url": "https://www.fws.gov/wetlands/arcgis/services/Wetlands/MapServer/WMSServer?"
      }
     },
     "db5522f795264adcb43f2f38ddca1532": {
      "model_module": "@jupyter-widgets/base",
      "model_module_version": "1.2.0",
      "model_name": "LayoutModel",
      "state": {
       "height": "600px"
      }
     },
     "dba15ce3b8594048981d1cb5e8b1d82c": {
      "model_module": "@jupyter-widgets/base",
      "model_module_version": "1.2.0",
      "model_name": "LayoutModel",
      "state": {
       "height": "auto",
       "padding": "0px 0px 0px 4px",
       "width": "auto"
      }
     },
     "dbd83b43d14c4ff0b2ec1b96e14d0544": {
      "model_module": "@jupyter-widgets/base",
      "model_module_version": "1.2.0",
      "model_name": "LayoutModel",
      "state": {
       "height": "auto",
       "padding": "0px 0px 0px 4px",
       "width": "auto"
      }
     },
     "dda79e05b95746a5a72940b84cf8229d": {
      "model_module": "jupyter-leaflet",
      "model_module_version": "^0.16.0",
      "model_name": "LeafletTileLayerModel",
      "state": {
       "_model_module_version": "^0.16.0",
       "_view_module_version": "^0.16.0",
       "attribution": "National Library of Scotland Historic Maps",
       "max_native_zoom": 18,
       "min_native_zoom": 0,
       "name": "NLS",
       "options": [
        "attribution",
        "bounds",
        "detect_retina",
        "max_native_zoom",
        "max_zoom",
        "min_native_zoom",
        "min_zoom",
        "no_wrap",
        "tile_size",
        "tms"
       ],
       "url": "https://nls-0.tileserver.com/nls/{z}/{x}/{y}.jpg"
      }
     },
     "dec3ca7ed49d474295db149ab1d9326c": {
      "model_module": "jupyter-leaflet",
      "model_module_version": "^0.16.0",
      "model_name": "LeafletTileLayerModel",
      "state": {
       "_model_module_version": "^0.16.0",
       "_view_module_version": "^0.16.0",
       "attribution": "Tiles (C) Esri -- Source: USGS, Esri, TANA, DeLorme, and NPS",
       "max_native_zoom": 18,
       "max_zoom": 13,
       "min_native_zoom": 0,
       "name": "Esri.WorldTerrain",
       "options": [
        "attribution",
        "bounds",
        "detect_retina",
        "max_native_zoom",
        "max_zoom",
        "min_native_zoom",
        "min_zoom",
        "no_wrap",
        "tile_size",
        "tms"
       ],
       "url": "https://server.arcgisonline.com/ArcGIS/rest/services/World_Terrain_Base/MapServer/tile/{z}/{y}/{x}"
      }
     },
     "deff893aeac242ba87e8a428c40b1f85": {
      "model_module": "jupyter-leaflet",
      "model_module_version": "^0.16.0",
      "model_name": "LeafletTileLayerModel",
      "state": {
       "_model_module_version": "^0.16.0",
       "_view_module_version": "^0.16.0",
       "attribution": "",
       "max_native_zoom": 18,
       "min_native_zoom": 0,
       "name": "NDVI",
       "options": [
        "attribution",
        "bounds",
        "detect_retina",
        "max_native_zoom",
        "max_zoom",
        "min_native_zoom",
        "min_zoom",
        "no_wrap",
        "tile_size",
        "tms"
       ],
       "url": "https://planetarycomputer.microsoft.com/api/data/v1/item/tiles/WebMercatorQuad/{z}/{x}/{y}@1x?expression=%28nir08+-+red%29+%2F+%28nir08+%2B+red%29&rescale=-.5%2C0.5&colormap_name=rdylgn&collection=landsat-c2-l2&item=LC09_L2SP_047026_20220305_02_T1&assets=nir08&assets=+red"
      }
     },
     "df05f96afb294cdf916efe61363d4575": {
      "model_module": "jupyter-leaflet",
      "model_module_version": "^0.16.0",
      "model_name": "LeafletTileLayerModel",
      "state": {
       "_model_module_version": "^0.16.0",
       "_view_module_version": "^0.16.0",
       "attribution": "Tiles (C) Esri -- Source: Esri",
       "max_native_zoom": 18,
       "max_zoom": 13,
       "min_native_zoom": 0,
       "name": "Esri.WorldShadedRelief",
       "options": [
        "attribution",
        "bounds",
        "detect_retina",
        "max_native_zoom",
        "max_zoom",
        "min_native_zoom",
        "min_zoom",
        "no_wrap",
        "tile_size",
        "tms"
       ],
       "url": "https://server.arcgisonline.com/ArcGIS/rest/services/World_Shaded_Relief/MapServer/tile/{z}/{y}/{x}"
      }
     },
     "df975982fe2a4476a76ff9b663c3f595": {
      "model_module": "jupyter-leaflet",
      "model_module_version": "^0.16.0",
      "model_name": "LeafletTileLayerModel",
      "state": {
       "_model_module_version": "^0.16.0",
       "_view_module_version": "^0.16.0",
       "attribution": "Justice Map",
       "max_native_zoom": 18,
       "max_zoom": 22,
       "min_native_zoom": 0,
       "name": "JusticeMap.multi",
       "options": [
        "attribution",
        "bounds",
        "detect_retina",
        "max_native_zoom",
        "max_zoom",
        "min_native_zoom",
        "min_zoom",
        "no_wrap",
        "tile_size",
        "tms"
       ],
       "url": "https://www.justicemap.org/tile/county/multi/{z}/{x}/{y}.png"
      }
     },
     "dfabe1558a0a4f598d39ba0b47362ef0": {
      "model_module": "@jupyter-widgets/controls",
      "model_module_version": "1.5.0",
      "model_name": "ToggleButtonModel",
      "state": {
       "button_style": "primary",
       "icon": "info",
       "layout": "IPY_MODEL_1cef55b3f5a54772ba4967852e0af906",
       "style": "IPY_MODEL_d447c5ae5a10414b949366561751617a",
       "tooltip": "Get COG/STAC pixel value"
      }
     },
     "dfeafc260d294d1a8820e261f6710231": {
      "model_module": "jupyter-leaflet",
      "model_module_version": "^0.16.0",
      "model_name": "LeafletMapStyleModel",
      "state": {
       "_model_module_version": "^0.16.0",
       "cursor": "move"
      }
     },
     "e0403545a5774f24a76feaa60bde601d": {
      "model_module": "@jupyter-widgets/controls",
      "model_module_version": "1.5.0",
      "model_name": "DescriptionStyleModel",
      "state": {
       "description_width": ""
      }
     },
     "e060f98236d44591af419a44d9168ac5": {
      "model_module": "@jupyter-widgets/controls",
      "model_module_version": "1.5.0",
      "model_name": "DescriptionStyleModel",
      "state": {
       "description_width": ""
      }
     },
     "e1c18ed138b140d581642ed2e28a8764": {
      "model_module": "@jupyter-widgets/base",
      "model_module_version": "1.2.0",
      "model_name": "LayoutModel",
      "state": {
       "height": "auto",
       "padding": "0px 0px 0px 4px",
       "width": "auto"
      }
     },
     "e297c90c02a04ce08f7a97009882b186": {
      "model_module": "@jupyter-widgets/base",
      "model_module_version": "1.2.0",
      "model_name": "LayoutModel",
      "state": {}
     },
     "e2cc3e70cca044d2a015f731b7a36e4e": {
      "model_module": "@jupyter-widgets/base",
      "model_module_version": "1.2.0",
      "model_name": "LayoutModel",
      "state": {
       "height": "auto",
       "padding": "0px 0px 0px 4px",
       "width": "auto"
      }
     },
     "e38499408a1748ee9e58a17c7405de9c": {
      "model_module": "@jupyter-widgets/controls",
      "model_module_version": "1.5.0",
      "model_name": "DescriptionStyleModel",
      "state": {
       "description_width": ""
      }
     },
     "e4b246406fc444cb93f81533533b9a11": {
      "model_module": "@jupyter-widgets/base",
      "model_module_version": "1.2.0",
      "model_name": "LayoutModel",
      "state": {
       "height": "auto",
       "padding": "0px 0px 0px 4px",
       "width": "auto"
      }
     },
     "e69d7aeac8884e33ba0073262789186f": {
      "model_module": "@jupyter-widgets/controls",
      "model_module_version": "1.5.0",
      "model_name": "DescriptionStyleModel",
      "state": {
       "description_width": ""
      }
     },
     "e7a7c75775354e7ebc7a3f047c055014": {
      "model_module": "@jupyter-widgets/base",
      "model_module_version": "1.2.0",
      "model_name": "LayoutModel",
      "state": {
       "height": "28px",
       "padding": "0px 0px 0px 4px",
       "width": "28px"
      }
     },
     "e7fca463e1734a39bd8e6b46e5fa9800": {
      "model_module": "@jupyter-widgets/controls",
      "model_module_version": "1.5.0",
      "model_name": "VBoxModel",
      "state": {
       "_view_count": 1,
       "children": [
        "IPY_MODEL_0b86111dd21a498eabf990b5674469d3"
       ],
       "layout": "IPY_MODEL_7483e3a158854266ae5105b1374f4bd8"
      }
     },
     "e865af92794546728cfc8a7db67c84e1": {
      "model_module": "@jupyter-widgets/base",
      "model_module_version": "1.2.0",
      "model_name": "LayoutModel",
      "state": {}
     },
     "e87bacdc53df419a80d87029b1601f90": {
      "model_module": "@jupyter-widgets/base",
      "model_module_version": "1.2.0",
      "model_name": "LayoutModel",
      "state": {
       "height": "auto",
       "padding": "0px 0px 0px 4px",
       "width": "auto"
      }
     },
     "e9f2ce06599a4fac92ee5ce3b5f5986b": {
      "model_module": "jupyter-leaflet",
      "model_module_version": "^0.16.0",
      "model_name": "LeafletTileLayerModel",
      "state": {
       "_model_module_version": "^0.16.0",
       "_view_module_version": "^0.16.0",
       "attribution": "Datenquelle: basemap.at",
       "max_native_zoom": 18,
       "max_zoom": 19,
       "min_native_zoom": 0,
       "name": "BasemapAT.surface",
       "options": [
        "attribution",
        "bounds",
        "detect_retina",
        "max_native_zoom",
        "max_zoom",
        "min_native_zoom",
        "min_zoom",
        "no_wrap",
        "tile_size",
        "tms"
       ],
       "url": "https://maps.wien.gv.at/basemap/bmapoberflaeche/grau/google3857/{z}/{y}/{x}.jpeg"
      }
     },
     "ec0387938f9a4ed38f05a2bdb7b8de29": {
      "model_module": "@jupyter-widgets/controls",
      "model_module_version": "1.5.0",
      "model_name": "ToggleButtonModel",
      "state": {
       "icon": "server",
       "layout": "IPY_MODEL_6c1326e5c2a44b33b9ac77226303aa4d",
       "style": "IPY_MODEL_4b16bc0aa05b4f48a007f3b10b54dbd8",
       "tooltip": "Layers"
      }
     },
     "ec4ae636cb654e4ca45dccc29a45681a": {
      "model_module": "jupyter-leaflet",
      "model_module_version": "^0.16.0",
      "model_name": "LeafletTileLayerModel",
      "state": {
       "_model_module_version": "^0.16.0",
       "_view_module_version": "^0.16.0",
       "attribution": "Tiles (C) Esri -- Source: US National Park Service",
       "max_native_zoom": 18,
       "max_zoom": 8,
       "min_native_zoom": 0,
       "name": "Esri.WorldPhysical",
       "options": [
        "attribution",
        "bounds",
        "detect_retina",
        "max_native_zoom",
        "max_zoom",
        "min_native_zoom",
        "min_zoom",
        "no_wrap",
        "tile_size",
        "tms"
       ],
       "url": "https://server.arcgisonline.com/ArcGIS/rest/services/World_Physical_Map/MapServer/tile/{z}/{y}/{x}"
      }
     },
     "ec647d0f5e1b471eab7eb6d08ed08a09": {
      "model_module": "@jupyter-widgets/controls",
      "model_module_version": "1.5.0",
      "model_name": "ToggleButtonModel",
      "state": {
       "button_style": "primary",
       "icon": "folder-open",
       "layout": "IPY_MODEL_1a114a2da93849c685c7ff9908058625",
       "style": "IPY_MODEL_a73b5924d82e448d8eb94c24248a317c",
       "tooltip": "Open local vector/raster data"
      }
     },
     "ed0dd7eb943946c796b78027a0751758": {
      "model_module": "@jupyter-widgets/base",
      "model_module_version": "1.2.0",
      "model_name": "LayoutModel",
      "state": {}
     },
     "ed5f87f31bc14680b5a9adc6047cc55e": {
      "model_module": "@jupyter-widgets/controls",
      "model_module_version": "1.5.0",
      "model_name": "DescriptionStyleModel",
      "state": {
       "description_width": ""
      }
     },
     "edabd5a9fe1a4d7fa3f9bfa238ffa0e6": {
      "model_module": "@jupyter-widgets/controls",
      "model_module_version": "1.5.0",
      "model_name": "VBoxModel",
      "state": {
       "children": [
        "IPY_MODEL_52e4c08eaebd4254920a73b763119696"
       ],
       "layout": "IPY_MODEL_b86d1fffe2664295a70f342bfe77ee0a"
      }
     },
     "ee404be2c7644678bf1a8e09000b746b": {
      "model_module": "@jupyter-widgets/controls",
      "model_module_version": "1.5.0",
      "model_name": "DescriptionStyleModel",
      "state": {
       "description_width": ""
      }
     },
     "ee4cb3bdf3d342cf87e1117de9998d4c": {
      "model_module": "jupyter-leaflet",
      "model_module_version": "^0.16.0",
      "model_name": "LeafletTileLayerModel",
      "state": {
       "_model_module_version": "^0.16.0",
       "_view_module_version": "^0.16.0",
       "attribution": "Imagery provided by services from the Global Imagery Browse Services (GIBS), operated by the NASA/GSFC/Earth Science Data and Information System (<a href=\"https://earthdata.nasa.gov\">ESDIS</a>) with funding provided by NASA/HQ.",
       "max_native_zoom": 18,
       "max_zoom": 9,
       "min_native_zoom": 0,
       "name": "NASAGIBS.ModisAquaTrueColorCR",
       "options": [
        "attribution",
        "bounds",
        "detect_retina",
        "max_native_zoom",
        "max_zoom",
        "min_native_zoom",
        "min_zoom",
        "no_wrap",
        "tile_size",
        "tms"
       ],
       "url": "https://gibs.earthdata.nasa.gov/wmts/epsg3857/best/MODIS_Aqua_CorrectedReflectance_TrueColor/default//GoogleMapsCompatible_Level9/{z}/{y}/{x}.jpg"
      }
     },
     "ee5b5d34ae3a4434807a6d4cfba462f9": {
      "model_module": "@jupyter-widgets/controls",
      "model_module_version": "1.5.0",
      "model_name": "DescriptionStyleModel",
      "state": {
       "description_width": ""
      }
     },
     "eeb082211bb647438f330dcf43711bab": {
      "model_module": "@jupyter-widgets/base",
      "model_module_version": "1.2.0",
      "model_name": "LayoutModel",
      "state": {
       "height": "auto",
       "padding": "0px 0px 0px 4px",
       "width": "auto"
      }
     },
     "eec4466681c249b681162d1c7d26fa8e": {
      "model_module": "@jupyter-widgets/controls",
      "model_module_version": "1.5.0",
      "model_name": "DescriptionStyleModel",
      "state": {
       "description_width": ""
      }
     },
     "f083721279404f85b0a338ca33b0c1ff": {
      "model_module": "@jupyter-widgets/controls",
      "model_module_version": "1.5.0",
      "model_name": "ToggleButtonModel",
      "state": {
       "button_style": "primary",
       "icon": "download",
       "layout": "IPY_MODEL_78b3734a05a741ae86cea5855b8d8f4e",
       "style": "IPY_MODEL_9ac8d183477a4614b0f084805a114add",
       "tooltip": "Download OSM data"
      }
     },
     "f1043b87dedf41f6b4dfc116db65f485": {
      "model_module": "@jupyter-widgets/controls",
      "model_module_version": "1.5.0",
      "model_name": "ToggleButtonModel",
      "state": {
       "button_style": "primary",
       "icon": "search-plus",
       "layout": "IPY_MODEL_a9dd85555e974f9bafc533437b36dda9",
       "style": "IPY_MODEL_49291dbbbc9449d38e620cbb0833a337",
       "tooltip": "Search features in GeoJSON layer"
      }
     },
     "f106750d73534c5898e994d997af6eb4": {
      "model_module": "@jupyter-widgets/controls",
      "model_module_version": "1.5.0",
      "model_name": "ToggleButtonModel",
      "state": {
       "button_style": "primary",
       "icon": "map",
       "layout": "IPY_MODEL_a0e654508fb24964829e923e26116938",
       "style": "IPY_MODEL_fd866e3d6ce64b7280ffefcd1d61951f",
       "tooltip": "Change basemap"
      }
     },
     "f2625fb713b8426b92d112f809c915ce": {
      "model_module": "@jupyter-widgets/controls",
      "model_module_version": "1.5.0",
      "model_name": "ToggleButtonModel",
      "state": {
       "button_style": "primary",
       "icon": "eraser",
       "layout": "IPY_MODEL_8c500cdeaa774ad0b7d6efd2d8cde4e1",
       "style": "IPY_MODEL_eec4466681c249b681162d1c7d26fa8e",
       "tooltip": "Remove all drawn features"
      }
     },
     "f29db8484694452dacd2398e3b336f61": {
      "model_module": "@jupyter-widgets/base",
      "model_module_version": "1.2.0",
      "model_name": "LayoutModel",
      "state": {}
     },
     "f2a74fead76142909a6a633a220255d8": {
      "model_module": "jupyter-leaflet",
      "model_module_version": "^0.16.0",
      "model_name": "LeafletTileLayerModel",
      "state": {
       "_model_module_version": "^0.16.0",
       "_view_module_version": "^0.16.0",
       "attribution": "(C) OpenStreetMap contributors",
       "max_native_zoom": 18,
       "max_zoom": 15,
       "min_native_zoom": 0,
       "name": "HikeBike.HillShading",
       "options": [
        "attribution",
        "bounds",
        "detect_retina",
        "max_native_zoom",
        "max_zoom",
        "min_native_zoom",
        "min_zoom",
        "no_wrap",
        "tile_size",
        "tms"
       ],
       "url": "https://tiles.wmflabs.org/hillshading/{z}/{x}/{y}.png"
      }
     },
     "f36cbdc70c634103bdd194f1cfd76f37": {
      "model_module": "jupyter-leaflet",
      "model_module_version": "^0.16.0",
      "model_name": "LeafletTileLayerModel",
      "state": {
       "_model_module_version": "^0.16.0",
       "_view_module_version": "^0.16.0",
       "attribution": "Map memomaps.de CC-BY-SA, map data (C) OpenStreetMap contributors",
       "max_native_zoom": 18,
       "min_native_zoom": 0,
       "name": "OPNVKarte",
       "options": [
        "attribution",
        "bounds",
        "detect_retina",
        "max_native_zoom",
        "max_zoom",
        "min_native_zoom",
        "min_zoom",
        "no_wrap",
        "tile_size",
        "tms"
       ],
       "url": "https://tileserver.memomaps.de/tilegen/{z}/{x}/{y}.png"
      }
     },
     "f3b8df5a6ea1421f89ab2204d1905a15": {
      "model_module": "jupyter-leaflet",
      "model_module_version": "^0.16.0",
      "model_name": "LeafletTileLayerModel",
      "state": {
       "_model_module_version": "^0.16.0",
       "_view_module_version": "^0.16.0",
       "attribution": "Geoportail France",
       "max_native_zoom": 18,
       "max_zoom": 20,
       "min_native_zoom": 0,
       "name": "GeoportailFrance.parcels",
       "options": [
        "attribution",
        "bounds",
        "detect_retina",
        "max_native_zoom",
        "max_zoom",
        "min_native_zoom",
        "min_zoom",
        "no_wrap",
        "tile_size",
        "tms"
       ],
       "url": "https://wxs.ign.fr/choisirgeoportail/geoportail/wmts?REQUEST=GetTile&SERVICE=WMTS&VERSION=1.0.0&STYLE=PCI vecteur&TILEMATRIXSET=PM&FORMAT=image/png&LAYER=CADASTRALPARCELS.PARCELLAIRE_EXPRESS&TILEMATRIX={z}&TILEROW={y}&TILECOL={x}"
      }
     },
     "f428730e8c014784a75900a6c2b25115": {
      "model_module": "@jupyter-widgets/controls",
      "model_module_version": "1.5.0",
      "model_name": "ToggleButtonModel",
      "state": {
       "icon": "server",
       "layout": "IPY_MODEL_ff016dccfa4d49ae826b053da74c2cdc",
       "style": "IPY_MODEL_519d434c8a8d4fffb8269e6f8d659da0",
       "tooltip": "Layers"
      }
     },
     "f6432489ac2c49599013a8a37ea33f26": {
      "model_module": "jupyter-leaflet",
      "model_module_version": "^0.16.0",
      "model_name": "LeafletTileLayerModel",
      "state": {
       "_model_module_version": "^0.16.0",
       "_view_module_version": "^0.16.0",
       "attribution": "(C) Stadia Maps, (C) OpenMapTiles (C) OpenStreetMap contributors",
       "max_native_zoom": 18,
       "max_zoom": 20,
       "min_native_zoom": 0,
       "name": "Stadia.AlidadeSmoothDark",
       "options": [
        "attribution",
        "bounds",
        "detect_retina",
        "max_native_zoom",
        "max_zoom",
        "min_native_zoom",
        "min_zoom",
        "no_wrap",
        "tile_size",
        "tms"
       ],
       "url": "https://tiles.stadiamaps.com/tiles/alidade_smooth_dark/{z}/{x}/{y}.png"
      }
     },
     "f6851173574c4fdeba87cdeff0f80a0d": {
      "model_module": "jupyter-leaflet",
      "model_module_version": "^0.16.0",
      "model_name": "LeafletTileLayerModel",
      "state": {
       "_model_module_version": "^0.16.0",
       "_view_module_version": "^0.16.0",
       "attribution": "Datenquelle: basemap.at",
       "max_native_zoom": 18,
       "max_zoom": 20,
       "min_native_zoom": 0,
       "name": "BasemapAT.basemap",
       "options": [
        "attribution",
        "bounds",
        "detect_retina",
        "max_native_zoom",
        "max_zoom",
        "min_native_zoom",
        "min_zoom",
        "no_wrap",
        "tile_size",
        "tms"
       ],
       "url": "https://maps.wien.gv.at/basemap/geolandbasemap/normal/google3857/{z}/{y}/{x}.png"
      }
     },
     "f7538de803d44e40b146606d07993090": {
      "model_module": "jupyter-leaflet",
      "model_module_version": "^0.16.0",
      "model_name": "LeafletTileLayerModel",
      "state": {
       "_model_module_version": "^0.16.0",
       "_view_module_version": "^0.16.0",
       "attribution": "Map data: (C) OpenStreetMap contributors | Map style: (C) OpenFireMap (CC-BY-SA)",
       "max_native_zoom": 18,
       "max_zoom": 19,
       "min_native_zoom": 0,
       "name": "OpenFireMap",
       "options": [
        "attribution",
        "bounds",
        "detect_retina",
        "max_native_zoom",
        "max_zoom",
        "min_native_zoom",
        "min_zoom",
        "no_wrap",
        "tile_size",
        "tms"
       ],
       "url": "http://openfiremap.org/hytiles/{z}/{x}/{y}.png"
      }
     },
     "f7828e2bee20419c8d7c9ec86cb98093": {
      "model_module": "jupyter-leaflet",
      "model_module_version": "^0.16.0",
      "model_name": "LeafletTileLayerModel",
      "state": {
       "_model_module_version": "^0.16.0",
       "_view_module_version": "^0.16.0",
       "attribution": "Map data: (C) OpenStreetMap contributors | Map style: (C) waymarkedtrails.org (CC-BY-SA)",
       "max_native_zoom": 18,
       "min_native_zoom": 0,
       "name": "WaymarkedTrails.slopes",
       "options": [
        "attribution",
        "bounds",
        "detect_retina",
        "max_native_zoom",
        "max_zoom",
        "min_native_zoom",
        "min_zoom",
        "no_wrap",
        "tile_size",
        "tms"
       ],
       "url": "https://tile.waymarkedtrails.org/slopes/{z}/{x}/{y}.png"
      }
     },
     "f79f6020bf7846d6b4c11a79631bfcac": {
      "model_module": "@jupyter-widgets/controls",
      "model_module_version": "1.5.0",
      "model_name": "DescriptionStyleModel",
      "state": {
       "description_width": ""
      }
     },
     "f7a94ab3852d4c7888a07c36e9f2763b": {
      "model_module": "jupyter-leaflet",
      "model_module_version": "^0.16.0",
      "model_name": "LeafletWMSLayerModel",
      "state": {
       "_model_module_version": "^0.16.0",
       "_view_module_version": "^0.16.0",
       "attribution": "MRLC",
       "crs": {
        "custom": false,
        "name": "EPSG3857"
       },
       "format": "image/png",
       "layers": "NLCD_2008_Land_Cover_L48",
       "max_native_zoom": 18,
       "min_native_zoom": 0,
       "name": "NLCD 2008 CONUS Land Cover",
       "options": [
        "attribution",
        "bounds",
        "detect_retina",
        "format",
        "layers",
        "max_native_zoom",
        "max_zoom",
        "min_native_zoom",
        "min_zoom",
        "no_wrap",
        "styles",
        "tile_size",
        "tms",
        "transparent",
        "uppercase"
       ],
       "transparent": true,
       "url": "https://www.mrlc.gov/geoserver/mrlc_display/NLCD_2008_Land_Cover_L48/wms?"
      }
     },
     "f8590925c29d4159866a2b7a7fa32dac": {
      "model_module": "@jupyter-widgets/base",
      "model_module_version": "1.2.0",
      "model_name": "LayoutModel",
      "state": {
       "height": "auto",
       "padding": "0px 0px 0px 4px",
       "width": "auto"
      }
     },
     "f90e5bfa67c9417aab425c3ac992a15a": {
      "model_module": "@jupyter-widgets/base",
      "model_module_version": "1.2.0",
      "model_name": "LayoutModel",
      "state": {
       "height": "auto",
       "padding": "0px 0px 0px 4px",
       "width": "auto"
      }
     },
     "f9157bd8120b41758ebb54955b601a71": {
      "model_module": "@jupyter-widgets/base",
      "model_module_version": "1.2.0",
      "model_name": "LayoutModel",
      "state": {
       "height": "28px",
       "padding": "0px 0px 0px 4px",
       "width": "28px"
      }
     },
     "f9d1a29639664322ab1a18d47f0e55de": {
      "model_module": "jupyter-leaflet",
      "model_module_version": "^0.16.0",
      "model_name": "LeafletMapStyleModel",
      "state": {
       "_model_module_version": "^0.16.0",
       "cursor": "move"
      }
     },
     "f9ff0791e37347c181a0d52926016bd8": {
      "model_module": "jupyter-leaflet",
      "model_module_version": "^0.16.0",
      "model_name": "LeafletTileLayerModel",
      "state": {
       "_model_module_version": "^0.16.0",
       "_view_module_version": "^0.16.0",
       "attribution": "Map tiles by Stamen Design, CC BY 3.0 -- Map data (C) OpenStreetMap contributors",
       "max_native_zoom": 18,
       "min_native_zoom": 0,
       "name": "Stamen.TerrainBackground",
       "options": [
        "attribution",
        "bounds",
        "detect_retina",
        "max_native_zoom",
        "max_zoom",
        "min_native_zoom",
        "min_zoom",
        "no_wrap",
        "tile_size",
        "tms"
       ],
       "url": "https://stamen-tiles-a.a.ssl.fastly.net/terrain-background/{z}/{x}/{y}.png"
      }
     },
     "fb4e04933c324bf094a48f0f926d342d": {
      "model_module": "@jupyter-widgets/controls",
      "model_module_version": "1.5.0",
      "model_name": "DescriptionStyleModel",
      "state": {
       "description_width": ""
      }
     },
     "fca241bd37f94afe924ed6c3329c8456": {
      "model_module": "jupyter-leaflet",
      "model_module_version": "^0.16.0",
      "model_name": "LeafletTileLayerModel",
      "state": {
       "_model_module_version": "^0.16.0",
       "_view_module_version": "^0.16.0",
       "attribution": "Tiles (C) Esri -- Copyright: (C)2012 DeLorme",
       "max_native_zoom": 18,
       "max_zoom": 11,
       "min_native_zoom": 0,
       "name": "Esri.DeLorme",
       "options": [
        "attribution",
        "bounds",
        "detect_retina",
        "max_native_zoom",
        "max_zoom",
        "min_native_zoom",
        "min_zoom",
        "no_wrap",
        "tile_size",
        "tms"
       ],
       "url": "https://server.arcgisonline.com/ArcGIS/rest/services/Specialty/DeLorme_World_Base_Map/MapServer/tile/{z}/{y}/{x}"
      }
     },
     "fd866e3d6ce64b7280ffefcd1d61951f": {
      "model_module": "@jupyter-widgets/controls",
      "model_module_version": "1.5.0",
      "model_name": "DescriptionStyleModel",
      "state": {
       "description_width": ""
      }
     },
     "fda942a7b3f64725b4b47246ede32f27": {
      "model_module": "@jupyter-widgets/controls",
      "model_module_version": "1.5.0",
      "model_name": "VBoxModel",
      "state": {
       "children": [
        "IPY_MODEL_6bbbd6778b3248ffbe56b34eec8741b2"
       ],
       "layout": "IPY_MODEL_8aaa9ace03854619abfb5ba8aaea5893"
      }
     },
     "fdc485a8372a42fc93aa404bc47a887c": {
      "model_module": "@jupyter-widgets/base",
      "model_module_version": "1.2.0",
      "model_name": "LayoutModel",
      "state": {
       "height": "auto",
       "padding": "0px 0px 0px 4px",
       "width": "auto"
      }
     },
     "ff016dccfa4d49ae826b053da74c2cdc": {
      "model_module": "@jupyter-widgets/base",
      "model_module_version": "1.2.0",
      "model_name": "LayoutModel",
      "state": {
       "height": "28px",
       "width": "72px"
      }
     }
    },
    "version_major": 2,
    "version_minor": 0
   }
  }
 },
 "nbformat": 4,
 "nbformat_minor": 5
}
