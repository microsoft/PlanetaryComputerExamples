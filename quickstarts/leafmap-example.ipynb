{
 "cells": [
  {
   "cell_type": "markdown",
   "id": "797d03cb-8aa1-4355-8e74-dd9bb72028f5",
   "metadata": {},
   "source": [
    "## Using leafmap for interactive mapping \n",
    "\n",
    "[Leafmap](https://leafmap.org/) is a Python package for interactive mapping and geospatial analysis with minimal coding in a Jupyter environment.\n",
    "\n",
    "Leafmap includes great support for visualizing data using STAC metadata. For example, you can provide the name of a collection, item, and asset it visualize."
   ]
  },
  {
   "cell_type": "code",
   "execution_count": 1,
   "id": "daae6609-b02c-4a76-967e-4229d2208d1f",
   "metadata": {},
   "outputs": [
    {
     "data": {
      "application/vnd.jupyter.widget-view+json": {
       "model_id": "769159c8b832437688d24814244d40d5",
       "version_major": 2,
       "version_minor": 0
      },
      "text/plain": [
       "Map(center=[20, 0], controls=(ZoomControl(options=['position', 'zoom_in_text', 'zoom_in_title', 'zoom_out_text…"
      ]
     },
     "metadata": {},
     "output_type": "display_data"
    }
   ],
   "source": [
    "import leafmap\n",
    "\n",
    "m = leafmap.Map()\n",
    "m.add_stac_layer(\n",
    "    collection=\"landsat-8-c2-l2\", item=\"LC08_L2SP_047027_20201204_02_T1\", assets=\"SR_B2\"\n",
    ")\n",
    "m"
   ]
  },
  {
   "cell_type": "markdown",
   "id": "05b56de0-41d8-430d-99f4-480886db2b13",
   "metadata": {},
   "source": [
    "You can use [`pystac_client`](https://pystac-client.readthedocs.io/en/latest/) or the Planteary Computer [Explorer](https://planetarycomputer.microsoft.com/docs/overview/explorer/) to find the STAC collections and item IDs.\n",
    "\n",
    "Internally, that `add_stac_layer` call is using the Planteary Computer's [STAC API](https://planetarycomputer.microsoft.com/api/stac/v1) ([documentation](https://planetarycomputer.microsoft.com/docs/reference/stac/)) to get the spatiotemporal metadata and the Planetary Computer's [data API](https://planetarycomputer.microsoft.com/api/data/v1/) ([documentation](https://planetarycomputer.microsoft.com/docs/reference/data/)) to get the actual images to display on the map. The data API uses [TiTiler](https://developmentseed.org/titiler/) to dynamically render the images, which means you can provide TiTiler expressions to dynamically render the values you want.\n",
    "\n",
    "For example, we can render NDVI:"
   ]
  },
  {
   "cell_type": "code",
   "execution_count": 2,
   "id": "1b3571cc-f7d7-4413-b90f-79bc629a24da",
   "metadata": {},
   "outputs": [
    {
     "data": {
      "application/vnd.jupyter.widget-view+json": {
       "model_id": "27968d0e2a7f44e3a4b810b21ff9cb90",
       "version_major": 2,
       "version_minor": 0
      },
      "text/plain": [
       "Map(center=[20, 0], controls=(ZoomControl(options=['position', 'zoom_in_text', 'zoom_in_title', 'zoom_out_text…"
      ]
     },
     "metadata": {},
     "output_type": "display_data"
    }
   ],
   "source": [
    "import leafmap\n",
    "\n",
    "m = leafmap.Map()\n",
    "\n",
    "collection = \"landsat-8-c2-l2\"\n",
    "item = \"LC08_L2SP_047027_20201204_02_T1\"\n",
    "\n",
    "m.add_stac_layer(\n",
    "    collection=collection,\n",
    "    item=item,\n",
    "    assets=[\"SR_B5, SR_B4\"],\n",
    "    expression=\"(SR_B5 - SR_B4) / (SR_B5 + SR_B4)\",\n",
    "    rescale=\"-.5,0.5\",\n",
    "    colormap_name=\"rdylgn\",\n",
    "    name=\"NDVI\",\n",
    ")\n",
    "m"
   ]
  },
  {
   "cell_type": "markdown",
   "id": "690547e9-3919-4d01-9b38-424be2eaacd0",
   "metadata": {},
   "source": [
    "Or plot a natural-color image from Sentinel-2:"
   ]
  },
  {
   "cell_type": "code",
   "execution_count": 3,
   "id": "6574b515-7688-4547-a2e1-c456a2e48dc5",
   "metadata": {},
   "outputs": [
    {
     "data": {
      "application/vnd.jupyter.widget-view+json": {
       "model_id": "c761e2c91dbc4eb090ff07b3be613082",
       "version_major": 2,
       "version_minor": 0
      },
      "text/plain": [
       "Map(center=[20, 0], controls=(ZoomControl(options=['position', 'zoom_in_text', 'zoom_in_title', 'zoom_out_text…"
      ]
     },
     "metadata": {},
     "output_type": "display_data"
    }
   ],
   "source": [
    "import leafmap\n",
    "\n",
    "m = leafmap.Map()\n",
    "\n",
    "collection = \"\"\n",
    "item = \"LC08_L2SP_047027_20201204_02_T1\"\n",
    "\n",
    "m.add_stac_layer(\n",
    "    collection=\"sentinel-2-l2a\",\n",
    "    item=\"S2A_MSIL2A_20211216T015621_R117_T51KXB_20211216T153808\",\n",
    "    assets=[\"B04\", \"B03\", \"B02\"],\n",
    "    color_formula=\"Gamma RGB 3.7 Saturation 1.5 Sigmoidal RGB 15 0.35\",\n",
    "    nodata=0,\n",
    "    rescale=\"0,12000\",\n",
    ")\n",
    "m"
   ]
  },
  {
   "cell_type": "markdown",
   "id": "e519930c-c6dc-40c7-944a-308f02d7df13",
   "metadata": {},
   "source": [
    "### Next steps\n",
    "\n",
    "Leafmap includes many more features for working with geospatial data, including the ability to add data from [GeoJSON](https://leafmap.org/notebooks/00_key_features/#add-geojson) or [GeoDataFrame](https://leafmap.org/notebooks/00_key_features/#add-geodataframe) sources, [creating heat maps](https://leafmap.org/notebooks/00_key_features/#create-heat-map), and more. Visit the [leafmap](https://leafmap.org/) documentation to learn more."
   ]
  }
 ],
 "metadata": {
  "kernelspec": {
   "display_name": "Python 3 (ipykernel)",
   "language": "python",
   "name": "python3"
  },
  "language_info": {
   "codemirror_mode": {
    "name": "ipython",
    "version": 3
   },
   "file_extension": ".py",
   "mimetype": "text/x-python",
   "name": "python",
   "nbconvert_exporter": "python",
   "pygments_lexer": "ipython3",
   "version": "3.8.10"
  }
 },
 "nbformat": 4,
 "nbformat_minor": 5
}
