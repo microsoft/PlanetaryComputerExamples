{
 "cells": [
  {
   "cell_type": "markdown",
   "id": "unauthorized-hartford",
   "metadata": {},
   "source": [
    "## Reading Tabular Data\n",
    "\n",
    "The Planetary Computer provides tabular data in the [Apache Parquet](https://parquet.apache.org/) file format, which provides a standarized high-performance columnar storage format.\n",
    "\n",
    "When working from Python, there are several options for reading parquet datasets. The right choice depends on the size and kind of the data you're reading. When reading geospatial data, with one or more columns containing vector geometries, we recommend using [geopandas](https://geopandas.org/) for small datasets and [dask-geopandas](https://github.com/geopandas/dask-geopandas) for large datasets. For non-geospatial tabular data, we recommend [pandas](https://pandas.pydata.org/) for small datasets and [Dask](https://dask.org/) for large datasets.\n",
    "\n",
    "Regardless of which library you're using to read the data, we recommend using [STAC](https://stacspec.org/) to discover which datasets are available, and which options should be provided when reading the data.\n",
    "\n",
    "In this example we'll work with data from the US Forest Service's [Forest Inventory and Analysis](https://planetarycomputer.microsoft.com/dataset/fia) dataset. This includes a collection of tables providing information about forest health and location in the United States."
   ]
  },
  {
   "cell_type": "code",
   "execution_count": 4,
   "id": "0095b4ef-638a-4e2f-b6e7-955f1ce1512c",
   "metadata": {},
   "outputs": [
    {
     "data": {
      "text/plain": [
       "<CollectionClient id=fia>"
      ]
     },
     "execution_count": 4,
     "metadata": {},
     "output_type": "execute_result"
    }
   ],
   "source": [
    "import pystac_client\n",
    "\n",
    "catalog = pystac_client.Client.open(\n",
    "    \"https://planetarycomputer.microsoft.com/api/stac/v1\"\n",
    ")\n",
    "fia = catalog.get_collection(\"fia\")\n",
    "fia"
   ]
  },
  {
   "cell_type": "markdown",
   "id": "d30f8e6a-b67e-4137-b30a-2700470c48fd",
   "metadata": {},
   "source": [
    "The FIA Collection has a number of items, each of which represents a different table stored in Parquet format."
   ]
  },
  {
   "cell_type": "code",
   "execution_count": 5,
   "id": "a35f63f4-1c96-4f84-8ecf-adfd108d27b3",
   "metadata": {},
   "outputs": [
    {
     "data": {
      "text/plain": [
       "[<Item id=tree_woodland_stems>,\n",
       " <Item id=tree_regional_biomass>,\n",
       " <Item id=tree_grm_midpt>,\n",
       " <Item id=tree_grm_estn>,\n",
       " <Item id=tree_grm_component>,\n",
       " <Item id=pop_eval_grp>,\n",
       " <Item id=tree_grm_begin>,\n",
       " <Item id=tree>,\n",
       " <Item id=survey>,\n",
       " <Item id=subplot_regen>,\n",
       " <Item id=subplot>,\n",
       " <Item id=subp_cond_chng_mtrx>,\n",
       " <Item id=subp_cond>,\n",
       " <Item id=sitetree>,\n",
       " <Item id=seedling_regen>,\n",
       " <Item id=seedling>,\n",
       " <Item id=pop_stratum>,\n",
       " <Item id=pop_plot_stratum_assgn>,\n",
       " <Item id=pop_eval_typ>,\n",
       " <Item id=pop_eval_attribute>,\n",
       " <Item id=pop_eval>,\n",
       " <Item id=pop_estn_unit>,\n",
       " <Item id=plotsnap>,\n",
       " <Item id=plot_regen>,\n",
       " <Item id=plotgeom>,\n",
       " <Item id=plot>,\n",
       " <Item id=p2veg_subp_structure>,\n",
       " <Item id=p2veg_subplot_spp>,\n",
       " <Item id=invasive_subplot_spp>,\n",
       " <Item id=dwm_visit>,\n",
       " <Item id=dwm_transect_segment>,\n",
       " <Item id=dwm_residual_pile>,\n",
       " <Item id=dwm_microplot_fuel>,\n",
       " <Item id=dwm_fine_woody_debris>,\n",
       " <Item id=dwm_duff_litter_fuel>,\n",
       " <Item id=dwm_coarse_woody_debris>,\n",
       " <Item id=county>,\n",
       " <Item id=cond_dwm_calc>,\n",
       " <Item id=cond>,\n",
       " <Item id=boundary>]"
      ]
     },
     "execution_count": 5,
     "metadata": {},
     "output_type": "execute_result"
    }
   ],
   "source": [
    "list(fia.get_all_items())"
   ]
  },
  {
   "cell_type": "markdown",
   "id": "55ba61d3-5a23-4539-8f2d-453153ee19a3",
   "metadata": {},
   "source": [
    "To load a single table, get it's item and extract the `href` from the `data` asset. The \"boundary\" table, which provides information about subplots, is relatively small and doesn't contain a geospatial geometry column, so it can be read with pandas."
   ]
  },
  {
   "cell_type": "code",
   "execution_count": 22,
   "id": "82e0ddc0-0236-479d-b677-2a3048ab34ef",
   "metadata": {},
   "outputs": [
    {
     "data": {
      "text/html": [
       "<div>\n",
       "<style scoped>\n",
       "    .dataframe tbody tr th:only-of-type {\n",
       "        vertical-align: middle;\n",
       "    }\n",
       "\n",
       "    .dataframe tbody tr th {\n",
       "        vertical-align: top;\n",
       "    }\n",
       "\n",
       "    .dataframe thead th {\n",
       "        text-align: right;\n",
       "    }\n",
       "</style>\n",
       "<table border=\"1\" class=\"dataframe\">\n",
       "  <thead>\n",
       "    <tr style=\"text-align: right;\">\n",
       "      <th></th>\n",
       "      <th>CN</th>\n",
       "      <th>AZMLEFT</th>\n",
       "      <th>AZMCORN</th>\n",
       "    </tr>\n",
       "    <tr>\n",
       "      <th>__null_dask_index__</th>\n",
       "      <th></th>\n",
       "      <th></th>\n",
       "      <th></th>\n",
       "    </tr>\n",
       "  </thead>\n",
       "  <tbody>\n",
       "    <tr>\n",
       "      <th>0</th>\n",
       "      <td>204719190010854</td>\n",
       "      <td>259</td>\n",
       "      <td>0</td>\n",
       "    </tr>\n",
       "    <tr>\n",
       "      <th>1</th>\n",
       "      <td>204719188010854</td>\n",
       "      <td>33</td>\n",
       "      <td>0</td>\n",
       "    </tr>\n",
       "    <tr>\n",
       "      <th>2</th>\n",
       "      <td>204719189010854</td>\n",
       "      <td>52</td>\n",
       "      <td>0</td>\n",
       "    </tr>\n",
       "    <tr>\n",
       "      <th>3</th>\n",
       "      <td>204719192010854</td>\n",
       "      <td>322</td>\n",
       "      <td>0</td>\n",
       "    </tr>\n",
       "    <tr>\n",
       "      <th>4</th>\n",
       "      <td>204719191010854</td>\n",
       "      <td>325</td>\n",
       "      <td>0</td>\n",
       "    </tr>\n",
       "  </tbody>\n",
       "</table>\n",
       "</div>"
      ],
      "text/plain": [
       "                                  CN  AZMLEFT  AZMCORN\n",
       "__null_dask_index__                                   \n",
       "0                    204719190010854      259        0\n",
       "1                    204719188010854       33        0\n",
       "2                    204719189010854       52        0\n",
       "3                    204719192010854      322        0\n",
       "4                    204719191010854      325        0"
      ]
     },
     "execution_count": 22,
     "metadata": {},
     "output_type": "execute_result"
    }
   ],
   "source": [
    "import pandas as pd\n",
    "import planetary_computer\n",
    "\n",
    "boundary = fia.get_item(id=\"boundary\")\n",
    "boundary = planetary_computer.sign(boundary)\n",
    "asset = boundary.assets[\"data\"]\n",
    "\n",
    "df = pd.read_parquet(\n",
    "    asset.href,\n",
    "    storage_options=asset.extra_fields[\"table:storage_options\"],\n",
    "    columns=[\"CN\", \"AZMLEFT\", \"AZMCORN\"],\n",
    ")\n",
    "df.head()"
   ]
  },
  {
   "cell_type": "markdown",
   "id": "4c756397-e4af-4434-b363-e9f1ff817e57",
   "metadata": {},
   "source": [
    "There are a few imporant pieces to highlight\n",
    "\n",
    "1. As usual with the Planetary Computer, we signed the STAC item so that we could access the data. See [Using tokens for data access](https://planetarycomputer.microsoft.com/docs/concepts/sas/) for more.\n",
    "2. We relied on the asset to provide all the information necessary to load the data like the `href` and the `storage_options`. All we needed to know was the ID of the Collection and Item\n",
    "3. We used pandas' and parquet's ability to select subsets of the data with the `columns` keyword."
   ]
  },
  {
   "cell_type": "markdown",
   "id": "lucky-murray",
   "metadata": {},
   "source": [
    "Larger datasets can be read using [Dask](https://dask.org/). For example, the `cpdata/raw/fia/tree.parquet` folder contains about 160 individual Parquet files, totalling about 22 million rows. In this case, pass the path to the directory to `dask.dataframe.read_parquet`."
   ]
  },
  {
   "cell_type": "code",
   "execution_count": 24,
   "id": "demonstrated-crossing",
   "metadata": {},
   "outputs": [
    {
     "data": {
      "text/html": [
       "<div><strong>Dask DataFrame Structure:</strong></div>\n",
       "<div>\n",
       "<style scoped>\n",
       "    .dataframe tbody tr th:only-of-type {\n",
       "        vertical-align: middle;\n",
       "    }\n",
       "\n",
       "    .dataframe tbody tr th {\n",
       "        vertical-align: top;\n",
       "    }\n",
       "\n",
       "    .dataframe thead th {\n",
       "        text-align: right;\n",
       "    }\n",
       "</style>\n",
       "<table border=\"1\" class=\"dataframe\">\n",
       "  <thead>\n",
       "    <tr style=\"text-align: right;\">\n",
       "      <th></th>\n",
       "      <th>SPCD</th>\n",
       "      <th>CARBON_BG</th>\n",
       "      <th>CARBON_AG</th>\n",
       "    </tr>\n",
       "    <tr>\n",
       "      <th>npartitions=160</th>\n",
       "      <th></th>\n",
       "      <th></th>\n",
       "      <th></th>\n",
       "    </tr>\n",
       "  </thead>\n",
       "  <tbody>\n",
       "    <tr>\n",
       "      <th></th>\n",
       "      <td>int64</td>\n",
       "      <td>float64</td>\n",
       "      <td>float64</td>\n",
       "    </tr>\n",
       "    <tr>\n",
       "      <th></th>\n",
       "      <td>...</td>\n",
       "      <td>...</td>\n",
       "      <td>...</td>\n",
       "    </tr>\n",
       "    <tr>\n",
       "      <th>...</th>\n",
       "      <td>...</td>\n",
       "      <td>...</td>\n",
       "      <td>...</td>\n",
       "    </tr>\n",
       "    <tr>\n",
       "      <th></th>\n",
       "      <td>...</td>\n",
       "      <td>...</td>\n",
       "      <td>...</td>\n",
       "    </tr>\n",
       "    <tr>\n",
       "      <th></th>\n",
       "      <td>...</td>\n",
       "      <td>...</td>\n",
       "      <td>...</td>\n",
       "    </tr>\n",
       "  </tbody>\n",
       "</table>\n",
       "</div>\n",
       "<div>Dask Name: read-parquet, 160 tasks</div>"
      ],
      "text/plain": [
       "Dask DataFrame Structure:\n",
       "                  SPCD CARBON_BG CARBON_AG\n",
       "npartitions=160                           \n",
       "                 int64   float64   float64\n",
       "                   ...       ...       ...\n",
       "...                ...       ...       ...\n",
       "                   ...       ...       ...\n",
       "                   ...       ...       ...\n",
       "Dask Name: read-parquet, 160 tasks"
      ]
     },
     "execution_count": 24,
     "metadata": {},
     "output_type": "execute_result"
    }
   ],
   "source": [
    "import dask.dataframe as dd\n",
    "\n",
    "\n",
    "tree = planetary_computer.sign(fia.get_item(id=\"tree\"))\n",
    "asset = tree.assets[\"data\"]\n",
    "\n",
    "df = dd.read_parquet(\n",
    "    asset.href,\n",
    "    storage_options=asset.extra_fields[\"table:storage_options\"],\n",
    "    columns=[\"SPCD\", \"CARBON_BG\", \"CARBON_AG\"],\n",
    "    engine=\"pyarrow\",\n",
    ")\n",
    "df"
   ]
  },
  {
   "cell_type": "markdown",
   "id": "miniature-frequency",
   "metadata": {},
   "source": [
    "That lazily loads the data into a Dask DataFrame. We can operate on the DataFrame with pandas-like methods, and call `.compute()` to get the result. In this case, we'll compute the average amount of carbon sequestered above and below ground for each tree, grouped by species type. To cut down on execution time we'll select just the first partition."
   ]
  },
  {
   "cell_type": "code",
   "execution_count": 25,
   "id": "political-discovery",
   "metadata": {},
   "outputs": [
    {
     "data": {
      "text/html": [
       "<div>\n",
       "<style scoped>\n",
       "    .dataframe tbody tr th:only-of-type {\n",
       "        vertical-align: middle;\n",
       "    }\n",
       "\n",
       "    .dataframe tbody tr th {\n",
       "        vertical-align: top;\n",
       "    }\n",
       "\n",
       "    .dataframe thead th {\n",
       "        text-align: right;\n",
       "    }\n",
       "</style>\n",
       "<table border=\"1\" class=\"dataframe\">\n",
       "  <thead>\n",
       "    <tr style=\"text-align: right;\">\n",
       "      <th></th>\n",
       "      <th>CARBON_BG</th>\n",
       "      <th>CARBON_AG</th>\n",
       "    </tr>\n",
       "    <tr>\n",
       "      <th>SPCD</th>\n",
       "      <th></th>\n",
       "      <th></th>\n",
       "    </tr>\n",
       "  </thead>\n",
       "  <tbody>\n",
       "    <tr>\n",
       "      <th>43</th>\n",
       "      <td>37.864937</td>\n",
       "      <td>165.753430</td>\n",
       "    </tr>\n",
       "    <tr>\n",
       "      <th>67</th>\n",
       "      <td>3.549734</td>\n",
       "      <td>14.679764</td>\n",
       "    </tr>\n",
       "    <tr>\n",
       "      <th>68</th>\n",
       "      <td>9.071253</td>\n",
       "      <td>39.108406</td>\n",
       "    </tr>\n",
       "    <tr>\n",
       "      <th>107</th>\n",
       "      <td>19.321549</td>\n",
       "      <td>84.096184</td>\n",
       "    </tr>\n",
       "    <tr>\n",
       "      <th>110</th>\n",
       "      <td>29.964395</td>\n",
       "      <td>130.956288</td>\n",
       "    </tr>\n",
       "    <tr>\n",
       "      <th>...</th>\n",
       "      <td>...</td>\n",
       "      <td>...</td>\n",
       "    </tr>\n",
       "    <tr>\n",
       "      <th>973</th>\n",
       "      <td>4.632913</td>\n",
       "      <td>22.658887</td>\n",
       "    </tr>\n",
       "    <tr>\n",
       "      <th>975</th>\n",
       "      <td>38.988846</td>\n",
       "      <td>202.220124</td>\n",
       "    </tr>\n",
       "    <tr>\n",
       "      <th>976</th>\n",
       "      <td>25.385733</td>\n",
       "      <td>130.583668</td>\n",
       "    </tr>\n",
       "    <tr>\n",
       "      <th>993</th>\n",
       "      <td>12.570365</td>\n",
       "      <td>64.712301</td>\n",
       "    </tr>\n",
       "    <tr>\n",
       "      <th>999</th>\n",
       "      <td>5.072137</td>\n",
       "      <td>25.477134</td>\n",
       "    </tr>\n",
       "  </tbody>\n",
       "</table>\n",
       "<p>100 rows × 2 columns</p>\n",
       "</div>"
      ],
      "text/plain": [
       "      CARBON_BG   CARBON_AG\n",
       "SPCD                       \n",
       "43    37.864937  165.753430\n",
       "67     3.549734   14.679764\n",
       "68     9.071253   39.108406\n",
       "107   19.321549   84.096184\n",
       "110   29.964395  130.956288\n",
       "...         ...         ...\n",
       "973    4.632913   22.658887\n",
       "975   38.988846  202.220124\n",
       "976   25.385733  130.583668\n",
       "993   12.570365   64.712301\n",
       "999    5.072137   25.477134\n",
       "\n",
       "[100 rows x 2 columns]"
      ]
     },
     "execution_count": 25,
     "metadata": {},
     "output_type": "execute_result"
    }
   ],
   "source": [
    "result = df.get_partition(0).groupby(\"SPCD\").mean().compute()  # group by species\n",
    "result"
   ]
  },
  {
   "cell_type": "markdown",
   "id": "explicit-novelty",
   "metadata": {},
   "source": [
    "### Learn more\n",
    "\n",
    "This quickstart briefly introduced how to access tabular data on the Planetary Computer. For more, see\n",
    "\n",
    "* The [pandas documentation](https://pandas.pydata.org/docs/user_guide/io.html#parquet) for an introduction to Parquet\n",
    "* [Scale with Dask](https://planetarycomputer.microsoft.com/docs/quickstarts/scale-with-dask/) for more on using Dask to work with large datasets in parallel\n",
    "* The [Forest Inventory and Analysis](https://planetarycomputer.microsoft.com/dataset/fia) catalog page."
   ]
  }
 ],
 "metadata": {
  "kernelspec": {
   "display_name": "Python 3 (ipykernel)",
   "language": "python",
   "name": "python3"
  },
  "language_info": {
   "codemirror_mode": {
    "name": "ipython",
    "version": 3
   },
   "file_extension": ".py",
   "mimetype": "text/x-python",
   "name": "python",
   "nbconvert_exporter": "python",
   "pygments_lexer": "ipython3",
   "version": "3.8.10"
  }
 },
 "nbformat": 4,
 "nbformat_minor": 5
}
